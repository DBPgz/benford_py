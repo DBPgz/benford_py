{
 "metadata": {
  "name": "",
  "signature": "sha256:438dcd8c8542eea30de44b16476df6ae04b2819c7a890a170433d2f228cfd8f9"
 },
 "nbformat": 3,
 "nbformat_minor": 0,
 "worksheets": [
  {
   "cells": [
    {
     "cell_type": "code",
     "collapsed": false,
     "input": [
      "import pandas as pd\n",
      "import benford as be"
     ],
     "language": "python",
     "metadata": {},
     "outputs": [],
     "prompt_number": 3
    },
    {
     "cell_type": "code",
     "collapsed": false,
     "input": [
      "cd"
     ],
     "language": "python",
     "metadata": {},
     "outputs": [
      {
       "output_type": "stream",
       "stream": "stdout",
       "text": [
        "/home/milcent\n"
       ]
      }
     ],
     "prompt_number": 7
    },
    {
     "cell_type": "code",
     "collapsed": false,
     "input": [
      "cd Documents/Benford\\ Datasets"
     ],
     "language": "python",
     "metadata": {},
     "outputs": [
      {
       "output_type": "stream",
       "stream": "stdout",
       "text": [
        "[Errno 2] No such file or directory: 'Documents/Benford Datasets'\n",
        "/home/milcent/Documents/Benford Datasets\n"
       ]
      }
     ],
     "prompt_number": 12
    },
    {
     "cell_type": "code",
     "collapsed": false,
     "input": [
      "ls"
     ],
     "language": "python",
     "metadata": {},
     "outputs": [
      {
       "output_type": "stream",
       "stream": "stdout",
       "text": [
        "layout_01_01_200812.CSV  razao_contas_a_pagar_30092006_31122010.xls\r\n",
        "layout_01_11_200812.CSV\r\n"
       ]
      }
     ],
     "prompt_number": 15
    },
    {
     "cell_type": "code",
     "collapsed": false,
     "input": [
      "r = pd.read_excel('razao_contas_a_pagar_30092006_31122010.xls', skiprows=6, parse_cols=[0,1,2,3,5,6,7,8,9],header=0)"
     ],
     "language": "python",
     "metadata": {},
     "outputs": [],
     "prompt_number": 37
    },
    {
     "cell_type": "code",
     "collapsed": false,
     "input": [
      "r = r.dropna(how='all')\n",
      "r.info()"
     ],
     "language": "python",
     "metadata": {},
     "outputs": [
      {
       "output_type": "stream",
       "stream": "stdout",
       "text": [
        "<class 'pandas.core.frame.DataFrame'>\n",
        "Int64Index: 63654 entries, 3 to 63665\n",
        "Data columns (total 9 columns):\n",
        "Dia                 54333 non-null object\n",
        "Unnamed: 1          63649 non-null float64\n",
        "Remessa - Origem    54333 non-null object\n",
        "ContraPartida       54333 non-null object\n",
        "Lancto              54333 non-null object\n",
        "Destino             42015 non-null float64\n",
        "Complemento         54333 non-null object\n",
        "Debito              21664 non-null object\n",
        "Credito             34797 non-null object\n",
        "dtypes: float64(2), object(7)\n",
        "memory usage: 4.9+ MB\n"
       ]
      }
     ],
     "prompt_number": 40
    },
    {
     "cell_type": "code",
     "collapsed": false,
     "input": [],
     "language": "python",
     "metadata": {},
     "outputs": []
    }
   ],
   "metadata": {}
  }
 ]
}