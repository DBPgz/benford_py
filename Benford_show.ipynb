{
 "metadata": {
  "name": "",
  "signature": "sha256:27d0e31fa6a182ef72532bef73303e6058a71ba16e069d2db28fd86d50dc0478"
 },
 "nbformat": 3,
 "nbformat_minor": 0,
 "worksheets": [
  {
   "cells": [
    {
     "cell_type": "code",
     "collapsed": false,
     "input": [
      "import benford as be"
     ],
     "language": "python",
     "metadata": {},
     "outputs": [],
     "prompt_number": 1
    },
    {
     "cell_type": "code",
     "collapsed": false,
     "input": [
      "names = []"
     ],
     "language": "python",
     "metadata": {},
     "outputs": [
      {
       "metadata": {},
       "output_type": "pyout",
       "prompt_number": 2,
       "text": [
        "['__builtins__',\n",
        " '__doc__',\n",
        " '__file__',\n",
        " '__firstTwo__',\n",
        " '__first__',\n",
        " '__getMantissas__',\n",
        " '__name__',\n",
        " '__package__',\n",
        " '__second__',\n",
        " 'firstTwoDigits',\n",
        " 'np',\n",
        " 'pd',\n",
        " 'plt']"
       ]
      }
     ],
     "prompt_number": 2
    }
   ],
   "metadata": {}
  }
 ]
}