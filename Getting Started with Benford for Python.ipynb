{
 "cells": [
  {
   "cell_type": "markdown",
   "metadata": {},
   "source": [
    "### First let's import some libraries and get some public data"
   ]
  },
  {
   "cell_type": "markdown",
   "metadata": {},
   "source": [
    "#### Imports"
   ]
  },
  {
   "cell_type": "code",
   "execution_count": 1,
   "metadata": {
    "collapsed": false
   },
   "outputs": [],
   "source": [
    "import numpy as np\n",
    "import pandas_datareader.data as web\n",
    "%matplotlib inline\n",
    "import matplotlib.pyplot as plt\n",
    "#%matplotlib notebook"
   ]
  },
  {
   "cell_type": "markdown",
   "metadata": {},
   "source": [
    "#### Fetch S&P500 ETF market data"
   ]
  },
  {
   "cell_type": "code",
   "execution_count": 2,
   "metadata": {
    "collapsed": true
   },
   "outputs": [],
   "source": [
    "sp = web.DataReader('SPY', 'yahoo', start='1990-01-01')"
   ]
  },
  {
   "cell_type": "code",
   "execution_count": 3,
   "metadata": {
    "collapsed": false
   },
   "outputs": [
    {
     "data": {
      "text/html": [
       "<div>\n",
       "<table border=\"1\" class=\"dataframe\">\n",
       "  <thead>\n",
       "    <tr style=\"text-align: right;\">\n",
       "      <th></th>\n",
       "      <th>Open</th>\n",
       "      <th>High</th>\n",
       "      <th>Low</th>\n",
       "      <th>Close</th>\n",
       "      <th>Volume</th>\n",
       "      <th>Adj Close</th>\n",
       "    </tr>\n",
       "    <tr>\n",
       "      <th>Date</th>\n",
       "      <th></th>\n",
       "      <th></th>\n",
       "      <th></th>\n",
       "      <th></th>\n",
       "      <th></th>\n",
       "      <th></th>\n",
       "    </tr>\n",
       "  </thead>\n",
       "  <tbody>\n",
       "    <tr>\n",
       "      <th>1993-01-29</th>\n",
       "      <td>43.9687</td>\n",
       "      <td>43.9687</td>\n",
       "      <td>43.7500</td>\n",
       "      <td>43.9375</td>\n",
       "      <td>1003200</td>\n",
       "      <td>28.165877</td>\n",
       "    </tr>\n",
       "    <tr>\n",
       "      <th>1993-02-01</th>\n",
       "      <td>43.9687</td>\n",
       "      <td>44.2500</td>\n",
       "      <td>43.9687</td>\n",
       "      <td>44.2500</td>\n",
       "      <td>480500</td>\n",
       "      <td>28.366203</td>\n",
       "    </tr>\n",
       "    <tr>\n",
       "      <th>1993-02-02</th>\n",
       "      <td>44.2187</td>\n",
       "      <td>44.3750</td>\n",
       "      <td>44.1250</td>\n",
       "      <td>44.3437</td>\n",
       "      <td>201300</td>\n",
       "      <td>28.426269</td>\n",
       "    </tr>\n",
       "    <tr>\n",
       "      <th>1993-02-03</th>\n",
       "      <td>44.4062</td>\n",
       "      <td>44.8437</td>\n",
       "      <td>44.3750</td>\n",
       "      <td>44.8125</td>\n",
       "      <td>529400</td>\n",
       "      <td>28.726791</td>\n",
       "    </tr>\n",
       "    <tr>\n",
       "      <th>1993-02-04</th>\n",
       "      <td>44.9687</td>\n",
       "      <td>45.0937</td>\n",
       "      <td>44.4687</td>\n",
       "      <td>45.0000</td>\n",
       "      <td>531500</td>\n",
       "      <td>28.846986</td>\n",
       "    </tr>\n",
       "  </tbody>\n",
       "</table>\n",
       "</div>"
      ],
      "text/plain": [
       "               Open     High      Low    Close   Volume  Adj Close\n",
       "Date                                                              \n",
       "1993-01-29  43.9687  43.9687  43.7500  43.9375  1003200  28.165877\n",
       "1993-02-01  43.9687  44.2500  43.9687  44.2500   480500  28.366203\n",
       "1993-02-02  44.2187  44.3750  44.1250  44.3437   201300  28.426269\n",
       "1993-02-03  44.4062  44.8437  44.3750  44.8125   529400  28.726791\n",
       "1993-02-04  44.9687  45.0937  44.4687  45.0000   531500  28.846986"
      ]
     },
     "execution_count": 3,
     "metadata": {},
     "output_type": "execute_result"
    }
   ],
   "source": [
    "sp.head()"
   ]
  },
  {
   "cell_type": "markdown",
   "metadata": {},
   "source": [
    "#### Now let's add some computed information"
   ]
  },
  {
   "cell_type": "code",
   "execution_count": 4,
   "metadata": {
    "collapsed": false
   },
   "outputs": [
    {
     "data": {
      "text/html": [
       "<div>\n",
       "<table border=\"1\" class=\"dataframe\">\n",
       "  <thead>\n",
       "    <tr style=\"text-align: right;\">\n",
       "      <th></th>\n",
       "      <th>Open</th>\n",
       "      <th>High</th>\n",
       "      <th>Low</th>\n",
       "      <th>Close</th>\n",
       "      <th>Volume</th>\n",
       "      <th>Adj_Close</th>\n",
       "      <th>p_r</th>\n",
       "      <th>l_r</th>\n",
       "    </tr>\n",
       "    <tr>\n",
       "      <th>Date</th>\n",
       "      <th></th>\n",
       "      <th></th>\n",
       "      <th></th>\n",
       "      <th></th>\n",
       "      <th></th>\n",
       "      <th></th>\n",
       "      <th></th>\n",
       "      <th></th>\n",
       "    </tr>\n",
       "  </thead>\n",
       "  <tbody>\n",
       "    <tr>\n",
       "      <th>2016-10-24</th>\n",
       "      <td>215.000000</td>\n",
       "      <td>215.320007</td>\n",
       "      <td>214.479996</td>\n",
       "      <td>214.889999</td>\n",
       "      <td>60146600</td>\n",
       "      <td>214.889999</td>\n",
       "      <td>0.004253</td>\n",
       "      <td>0.004244</td>\n",
       "    </tr>\n",
       "    <tr>\n",
       "      <th>2016-10-25</th>\n",
       "      <td>214.679993</td>\n",
       "      <td>214.979996</td>\n",
       "      <td>213.979996</td>\n",
       "      <td>214.169998</td>\n",
       "      <td>66542300</td>\n",
       "      <td>214.169998</td>\n",
       "      <td>-0.003351</td>\n",
       "      <td>-0.003356</td>\n",
       "    </tr>\n",
       "    <tr>\n",
       "      <th>2016-10-26</th>\n",
       "      <td>213.210007</td>\n",
       "      <td>214.419998</td>\n",
       "      <td>212.929993</td>\n",
       "      <td>213.740005</td>\n",
       "      <td>75705500</td>\n",
       "      <td>213.740005</td>\n",
       "      <td>-0.002008</td>\n",
       "      <td>-0.002010</td>\n",
       "    </tr>\n",
       "    <tr>\n",
       "      <th>2016-10-27</th>\n",
       "      <td>214.580002</td>\n",
       "      <td>214.619995</td>\n",
       "      <td>213.080002</td>\n",
       "      <td>213.169998</td>\n",
       "      <td>77220200</td>\n",
       "      <td>213.169998</td>\n",
       "      <td>-0.002667</td>\n",
       "      <td>-0.002670</td>\n",
       "    </tr>\n",
       "    <tr>\n",
       "      <th>2016-10-28</th>\n",
       "      <td>213.139999</td>\n",
       "      <td>213.929993</td>\n",
       "      <td>211.710007</td>\n",
       "      <td>212.539993</td>\n",
       "      <td>137514400</td>\n",
       "      <td>212.539993</td>\n",
       "      <td>-0.002955</td>\n",
       "      <td>-0.002960</td>\n",
       "    </tr>\n",
       "  </tbody>\n",
       "</table>\n",
       "</div>"
      ],
      "text/plain": [
       "                  Open        High         Low       Close     Volume  \\\n",
       "Date                                                                    \n",
       "2016-10-24  215.000000  215.320007  214.479996  214.889999   60146600   \n",
       "2016-10-25  214.679993  214.979996  213.979996  214.169998   66542300   \n",
       "2016-10-26  213.210007  214.419998  212.929993  213.740005   75705500   \n",
       "2016-10-27  214.580002  214.619995  213.080002  213.169998   77220200   \n",
       "2016-10-28  213.139999  213.929993  211.710007  212.539993  137514400   \n",
       "\n",
       "             Adj_Close       p_r       l_r  \n",
       "Date                                        \n",
       "2016-10-24  214.889999  0.004253  0.004244  \n",
       "2016-10-25  214.169998 -0.003351 -0.003356  \n",
       "2016-10-26  213.740005 -0.002008 -0.002010  \n",
       "2016-10-27  213.169998 -0.002667 -0.002670  \n",
       "2016-10-28  212.539993 -0.002955 -0.002960  "
      ]
     },
     "execution_count": 4,
     "metadata": {},
     "output_type": "execute_result"
    }
   ],
   "source": [
    "#adding '_' to facilitate handling the column\n",
    "sp.rename(columns={'Adj Close':'Adj_Close'}, inplace=True) \n",
    "sp['p_r'] = sp.Adj_Close/sp.Adj_Close.shift()-1        #simple returns\n",
    "sp['l_r'] = np.log(sp.Adj_Close/sp.Adj_Close.shift())  #log returns\n",
    "sp.tail()"
   ]
  },
  {
   "cell_type": "markdown",
   "metadata": {},
   "source": [
    "#### Now let's plot the histogram of the SPY *log returns*. It tends to a normal distribution."
   ]
  },
  {
   "cell_type": "code",
   "execution_count": 5,
   "metadata": {
    "collapsed": false
   },
   "outputs": [
    {
     "data": {
      "text/plain": [
       "<matplotlib.axes._subplots.AxesSubplot at 0x7f81d43047d0>"
      ]
     },
     "execution_count": 5,
     "metadata": {},
     "output_type": "execute_result"
    },
    {
     "data": {
      "image/png": "[encoded data removed]",
      "text/plain": [
       "<matplotlib.figure.Figure at 0x7f81b2b2fa10>"
      ]
     },
     "metadata": {},
     "output_type": "display_data"
    }
   ],
   "source": [
    "sp.l_r.hist(bins=70, figsize=(10,6))"
   ]
  },
  {
   "cell_type": "markdown",
   "metadata": {},
   "source": [
    "#### Now let's get to Benford"
   ]
  },
  {
   "cell_type": "code",
   "execution_count": 6,
   "metadata": {
    "collapsed": true
   },
   "outputs": [],
   "source": [
    "import benford as bf"
   ]
  },
  {
   "cell_type": "markdown",
   "metadata": {},
   "source": [
    "##### The classes First, Second and LastTwo represent the Benfords's Expected proportions for the first, second and last two digits. Note that First may be applied to the first one, first two and first three digits by changing the 'digs' parameter. Plotting the expected proportions is True by default, but may be supressed if one only wants to use the resulting DataFrame."
   ]
  },
  {
   "cell_type": "code",
   "execution_count": null,
   "metadata": {
    "collapsed": false,
    "scrolled": false
   },
   "outputs": [],
   "source": [
    "f1d = bf.First(1)"
   ]
  },
  {
   "cell_type": "code",
   "execution_count": null,
   "metadata": {
    "collapsed": false
   },
   "outputs": [],
   "source": [
    "f1d"
   ]
  },
  {
   "cell_type": "code",
   "execution_count": null,
   "metadata": {
    "collapsed": false
   },
   "outputs": [],
   "source": [
    "f2d = bf.First(2)"
   ]
  },
  {
   "cell_type": "code",
   "execution_count": null,
   "metadata": {
    "collapsed": false
   },
   "outputs": [],
   "source": [
    "sd = bf.Second() #note decrease in steapness"
   ]
  },
  {
   "cell_type": "code",
   "execution_count": null,
   "metadata": {
    "collapsed": false
   },
   "outputs": [],
   "source": [
    "l2d = bf.LastTwo()"
   ]
  },
  {
   "cell_type": "markdown",
   "metadata": {},
   "source": [
    "### Now to real usage\n",
    "##### Benford's Analysis is the study of a series of numbers through the recording of digits position and comparing the digits proportion in the series with Benford's expected didstributions."
   ]
  },
  {
   "cell_type": "markdown",
   "metadata": {},
   "source": [
    "##### The main class in the Benford module is 'Analysis'. It takes a sequence of numbers and creates a pandas DataFrame with columns that refer to the digits and their position in each number."
   ]
  },
  {
   "cell_type": "code",
   "execution_count": 7,
   "metadata": {
    "collapsed": false
   },
   "outputs": [
    {
     "name": "stdout",
     "output_type": "stream",
     "text": [
      "Initialized sequence with 5982 registries.\n"
     ]
    },
    {
     "data": {
      "text/html": [
       "<div>\n",
       "<table border=\"1\" class=\"dataframe\">\n",
       "  <thead>\n",
       "    <tr style=\"text-align: right;\">\n",
       "      <th></th>\n",
       "      <th>Seq</th>\n",
       "      <th>ZN</th>\n",
       "      <th>F1D</th>\n",
       "      <th>SD</th>\n",
       "      <th>F2D</th>\n",
       "      <th>F3D</th>\n",
       "      <th>L2D</th>\n",
       "    </tr>\n",
       "    <tr>\n",
       "      <th>Date</th>\n",
       "      <th></th>\n",
       "      <th></th>\n",
       "      <th></th>\n",
       "      <th></th>\n",
       "      <th></th>\n",
       "      <th></th>\n",
       "      <th></th>\n",
       "    </tr>\n",
       "  </thead>\n",
       "  <tbody>\n",
       "    <tr>\n",
       "      <th>1993-02-01</th>\n",
       "      <td>0.007087</td>\n",
       "      <td>708719</td>\n",
       "      <td>7</td>\n",
       "      <td>0</td>\n",
       "      <td>70</td>\n",
       "      <td>708</td>\n",
       "      <td>19</td>\n",
       "    </tr>\n",
       "    <tr>\n",
       "      <th>1993-02-02</th>\n",
       "      <td>0.002115</td>\n",
       "      <td>211528</td>\n",
       "      <td>2</td>\n",
       "      <td>1</td>\n",
       "      <td>21</td>\n",
       "      <td>211</td>\n",
       "      <td>28</td>\n",
       "    </tr>\n",
       "    <tr>\n",
       "      <th>1993-02-03</th>\n",
       "      <td>0.010516</td>\n",
       "      <td>1051648</td>\n",
       "      <td>1</td>\n",
       "      <td>0</td>\n",
       "      <td>10</td>\n",
       "      <td>105</td>\n",
       "      <td>48</td>\n",
       "    </tr>\n",
       "    <tr>\n",
       "      <th>1993-02-04</th>\n",
       "      <td>0.004175</td>\n",
       "      <td>417534</td>\n",
       "      <td>4</td>\n",
       "      <td>1</td>\n",
       "      <td>41</td>\n",
       "      <td>417</td>\n",
       "      <td>34</td>\n",
       "    </tr>\n",
       "    <tr>\n",
       "      <th>1993-02-05</th>\n",
       "      <td>0.000696</td>\n",
       "      <td>69577</td>\n",
       "      <td>6</td>\n",
       "      <td>9</td>\n",
       "      <td>69</td>\n",
       "      <td>695</td>\n",
       "      <td>77</td>\n",
       "    </tr>\n",
       "    <tr>\n",
       "      <th>1993-02-08</th>\n",
       "      <td>0.000000</td>\n",
       "      <td>0</td>\n",
       "      <td>0</td>\n",
       "      <td>0</td>\n",
       "      <td>0</td>\n",
       "      <td>0</td>\n",
       "      <td>0</td>\n",
       "    </tr>\n",
       "    <tr>\n",
       "      <th>1993-02-09</th>\n",
       "      <td>0.006974</td>\n",
       "      <td>697352</td>\n",
       "      <td>6</td>\n",
       "      <td>9</td>\n",
       "      <td>69</td>\n",
       "      <td>697</td>\n",
       "      <td>52</td>\n",
       "    </tr>\n",
       "    <tr>\n",
       "      <th>1993-02-10</th>\n",
       "      <td>0.001399</td>\n",
       "      <td>139859</td>\n",
       "      <td>1</td>\n",
       "      <td>3</td>\n",
       "      <td>13</td>\n",
       "      <td>139</td>\n",
       "      <td>59</td>\n",
       "    </tr>\n",
       "    <tr>\n",
       "      <th>1993-02-11</th>\n",
       "      <td>0.004881</td>\n",
       "      <td>488086</td>\n",
       "      <td>4</td>\n",
       "      <td>8</td>\n",
       "      <td>48</td>\n",
       "      <td>488</td>\n",
       "      <td>86</td>\n",
       "    </tr>\n",
       "    <tr>\n",
       "      <th>1993-02-12</th>\n",
       "      <td>0.007680</td>\n",
       "      <td>768004</td>\n",
       "      <td>7</td>\n",
       "      <td>6</td>\n",
       "      <td>76</td>\n",
       "      <td>768</td>\n",
       "      <td>04</td>\n",
       "    </tr>\n",
       "  </tbody>\n",
       "</table>\n",
       "</div>"
      ],
      "text/plain": [
       "                 Seq       ZN  F1D  SD  F2D  F3D L2D\n",
       "Date                                                \n",
       "1993-02-01  0.007087   708719    7   0   70  708  19\n",
       "1993-02-02  0.002115   211528    2   1   21  211  28\n",
       "1993-02-03  0.010516  1051648    1   0   10  105  48\n",
       "1993-02-04  0.004175   417534    4   1   41  417  34\n",
       "1993-02-05  0.000696    69577    6   9   69  695  77\n",
       "1993-02-08  0.000000        0    0   0    0    0   0\n",
       "1993-02-09  0.006974   697352    6   9   69  697  52\n",
       "1993-02-10  0.001399   139859    1   3   13  139  59\n",
       "1993-02-11  0.004881   488086    4   8   48  488  86\n",
       "1993-02-12  0.007680   768004    7   6   76  768  04"
      ]
     },
     "execution_count": 7,
     "metadata": {},
     "output_type": "execute_result"
    }
   ],
   "source": [
    "a = bf.Analysis(abs(sp.l_r), dec=8)  # used absolute values of SPY log returns\n",
    "a.head(10)"
   ]
  },
  {
   "cell_type": "code",
   "execution_count": null,
   "metadata": {
    "collapsed": false
   },
   "outputs": [],
   "source": [
    "z =np.log10(sp.l_r[sp.l_r!=0]).min()\n",
    "z"
   ]
  },
  {
   "cell_type": "code",
   "execution_count": null,
   "metadata": {
    "collapsed": false
   },
   "outputs": [],
   "source": [
    "int(4-z)"
   ]
  },
  {
   "cell_type": "code",
   "execution_count": null,
   "metadata": {
    "collapsed": false,
    "scrolled": true
   },
   "outputs": [],
   "source": [
    "sp[sp.columns[(sp !=0.0).any()]]"
   ]
  },
  {
   "cell_type": "code",
   "execution_count": null,
   "metadata": {
    "collapsed": true
   },
   "outputs": [],
   "source": [
    "plt.style.use('ggplot')"
   ]
  },
  {
   "cell_type": "code",
   "execution_count": 8,
   "metadata": {
    "collapsed": false,
    "scrolled": false
   },
   "outputs": [
    {
     "name": "stdout",
     "output_type": "stream",
     "text": [
      "\n",
      "---Test performed on 5982 registries.---\n",
      "\n",
      "\n",
      "The entries with the significant deviations are:\n",
      "\n",
      "             Expected     Found    Z_test\n",
      "First_2_Dig                              \n",
      "67           0.006434  0.010364  3.721111\n",
      "10           0.041393  0.050150  3.367981\n",
      "13           0.032185  0.039452  3.147992\n",
      "15           0.028029  0.021230  3.146493\n",
      "24           0.017729  0.012370  3.091499\n",
      "66           0.006531  0.009696  2.958659\n",
      "\n",
      "The Mean Absolute Deviation is 0.00139600928656\n",
      "    For the First Two Digits:\n",
      "    - 0.0000 to 0.0012: Close Conformity\n",
      "    - 0.0012 to 0.0018: Acceptable Conformity\n",
      "    - 0.0018 to 0.0022: Marginally Acceptable Conformity\n",
      "    - Above 0.0022: Nonconformity\n"
     ]
    },
    {
     "data": {
      "image/png": "[encoded data removed]",
      "text/plain": [
       "<matplotlib.figure.Figure at 0x7f81a9cb3190>"
      ]
     },
     "metadata": {},
     "output_type": "display_data"
    }
   ],
   "source": [
    "f1d, fa = a.first_digits(2,conf_level=99, show_high_Z='all')#, limit_N=2500)"
   ]
  },
  {
   "cell_type": "code",
   "execution_count": null,
   "metadata": {
    "collapsed": false
   },
   "outputs": [],
   "source": [
    "f1d"
   ]
  },
  {
   "cell_type": "code",
   "execution_count": null,
   "metadata": {
    "collapsed": false
   },
   "outputs": [],
   "source": [
    "fa"
   ]
  },
  {
   "cell_type": "code",
   "execution_count": null,
   "metadata": {
    "collapsed": false
   },
   "outputs": [],
   "source": [
    "a.first_digits(2, show_high_Z='all', conf_level=99)"
   ]
  },
  {
   "cell_type": "code",
   "execution_count": null,
   "metadata": {
    "collapsed": false
   },
   "outputs": [],
   "source": [
    "a.first_digits(3, conf_level=95, show_high_Z=2)"
   ]
  },
  {
   "cell_type": "code",
   "execution_count": null,
   "metadata": {
    "collapsed": false
   },
   "outputs": [],
   "source": [
    "a.second_digit(show_high_Z=10, limit_N=2500)"
   ]
  }
 ],
 "metadata": {
  "kernelspec": {
   "display_name": "Python [Root]",
   "language": "python",
   "name": "Python [Root]"
  },
  "language_info": {
   "codemirror_mode": {
    "name": "ipython",
    "version": 2
   },
   "file_extension": ".py",
   "mimetype": "text/x-python",
   "name": "python",
   "nbconvert_exporter": "python",
   "pygments_lexer": "ipython2",
   "version": "2.7.12"
  }
 },
 "nbformat": 4,
 "nbformat_minor": 0
}
