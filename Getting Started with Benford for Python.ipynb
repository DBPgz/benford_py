{
 "cells": [
  {
   "cell_type": "markdown",
   "metadata": {},
   "source": [
    "#### First let's get some public data"
   ]
  },
  {
   "cell_type": "code",
   "execution_count": 11,
   "metadata": {
    "collapsed": false
   },
   "outputs": [
    {
     "name": "stdout",
     "output_type": "stream",
     "text": [
      "Populating the interactive namespace from numpy and matplotlib\n"
     ]
    }
   ],
   "source": [
    "import numpy as np\n",
    "import pandas_datareader.data as web\n",
    "import benford as ben\n",
    "%pylab inline"
   ]
  },
  {
   "cell_type": "code",
   "execution_count": 16,
   "metadata": {
    "collapsed": true
   },
   "outputs": [],
   "source": [
    "sp = web.DataReader('SPY', 'yahoo', start='1990-01-01')"
   ]
  },
  {
   "cell_type": "code",
   "execution_count": 17,
   "metadata": {
    "collapsed": false
   },
   "outputs": [
    {
     "data": {
      "text/html": [
       "<div>\n",
       "<table border=\"1\" class=\"dataframe\">\n",
       "  <thead>\n",
       "    <tr style=\"text-align: right;\">\n",
       "      <th></th>\n",
       "      <th>Open</th>\n",
       "      <th>High</th>\n",
       "      <th>Low</th>\n",
       "      <th>Close</th>\n",
       "      <th>Volume</th>\n",
       "      <th>Adj Close</th>\n",
       "    </tr>\n",
       "    <tr>\n",
       "      <th>Date</th>\n",
       "      <th></th>\n",
       "      <th></th>\n",
       "      <th></th>\n",
       "      <th></th>\n",
       "      <th></th>\n",
       "      <th></th>\n",
       "    </tr>\n",
       "  </thead>\n",
       "  <tbody>\n",
       "    <tr>\n",
       "      <th>1993-01-29</th>\n",
       "      <td>43.9687</td>\n",
       "      <td>43.9687</td>\n",
       "      <td>43.7500</td>\n",
       "      <td>43.9375</td>\n",
       "      <td>1003200</td>\n",
       "      <td>28.455368</td>\n",
       "    </tr>\n",
       "    <tr>\n",
       "      <th>1993-02-01</th>\n",
       "      <td>43.9687</td>\n",
       "      <td>44.2500</td>\n",
       "      <td>43.9687</td>\n",
       "      <td>44.2500</td>\n",
       "      <td>480500</td>\n",
       "      <td>28.657753</td>\n",
       "    </tr>\n",
       "    <tr>\n",
       "      <th>1993-02-02</th>\n",
       "      <td>44.2187</td>\n",
       "      <td>44.3750</td>\n",
       "      <td>44.1250</td>\n",
       "      <td>44.3437</td>\n",
       "      <td>201300</td>\n",
       "      <td>28.718437</td>\n",
       "    </tr>\n",
       "    <tr>\n",
       "      <th>1993-02-03</th>\n",
       "      <td>44.4062</td>\n",
       "      <td>44.8437</td>\n",
       "      <td>44.3750</td>\n",
       "      <td>44.8125</td>\n",
       "      <td>529400</td>\n",
       "      <td>29.022047</td>\n",
       "    </tr>\n",
       "    <tr>\n",
       "      <th>1993-02-04</th>\n",
       "      <td>44.9687</td>\n",
       "      <td>45.0937</td>\n",
       "      <td>44.4687</td>\n",
       "      <td>45.0000</td>\n",
       "      <td>531500</td>\n",
       "      <td>29.143478</td>\n",
       "    </tr>\n",
       "  </tbody>\n",
       "</table>\n",
       "</div>"
      ],
      "text/plain": [
       "               Open     High      Low    Close   Volume  Adj Close\n",
       "Date                                                              \n",
       "1993-01-29  43.9687  43.9687  43.7500  43.9375  1003200  28.455368\n",
       "1993-02-01  43.9687  44.2500  43.9687  44.2500   480500  28.657753\n",
       "1993-02-02  44.2187  44.3750  44.1250  44.3437   201300  28.718437\n",
       "1993-02-03  44.4062  44.8437  44.3750  44.8125   529400  29.022047\n",
       "1993-02-04  44.9687  45.0937  44.4687  45.0000   531500  29.143478"
      ]
     },
     "execution_count": 17,
     "metadata": {},
     "output_type": "execute_result"
    }
   ],
   "source": [
    "sp.head()"
   ]
  },
  {
   "cell_type": "markdown",
   "metadata": {},
   "source": [
    "#### Now let's add some returns information"
   ]
  },
  {
   "cell_type": "code",
   "execution_count": 23,
   "metadata": {
    "collapsed": false
   },
   "outputs": [
    {
     "data": {
      "text/html": [
       "<div>\n",
       "<table border=\"1\" class=\"dataframe\">\n",
       "  <thead>\n",
       "    <tr style=\"text-align: right;\">\n",
       "      <th></th>\n",
       "      <th>Open</th>\n",
       "      <th>High</th>\n",
       "      <th>Low</th>\n",
       "      <th>Close</th>\n",
       "      <th>Volume</th>\n",
       "      <th>Adj_Close</th>\n",
       "      <th>p_r</th>\n",
       "      <th>l_r</th>\n",
       "    </tr>\n",
       "    <tr>\n",
       "      <th>Date</th>\n",
       "      <th></th>\n",
       "      <th></th>\n",
       "      <th></th>\n",
       "      <th></th>\n",
       "      <th></th>\n",
       "      <th></th>\n",
       "      <th></th>\n",
       "      <th></th>\n",
       "    </tr>\n",
       "  </thead>\n",
       "  <tbody>\n",
       "    <tr>\n",
       "      <th>2016-05-05</th>\n",
       "      <td>205.559998</td>\n",
       "      <td>205.979996</td>\n",
       "      <td>204.470001</td>\n",
       "      <td>204.970001</td>\n",
       "      <td>65635100</td>\n",
       "      <td>204.970001</td>\n",
       "      <td>-0.000195</td>\n",
       "      <td>-0.000195</td>\n",
       "    </tr>\n",
       "    <tr>\n",
       "      <th>2016-05-06</th>\n",
       "      <td>204.059998</td>\n",
       "      <td>205.770004</td>\n",
       "      <td>203.880005</td>\n",
       "      <td>205.720001</td>\n",
       "      <td>83784900</td>\n",
       "      <td>205.720001</td>\n",
       "      <td>0.003659</td>\n",
       "      <td>0.003652</td>\n",
       "    </tr>\n",
       "    <tr>\n",
       "      <th>2016-05-09</th>\n",
       "      <td>205.570007</td>\n",
       "      <td>206.399994</td>\n",
       "      <td>205.360001</td>\n",
       "      <td>205.889999</td>\n",
       "      <td>68187900</td>\n",
       "      <td>205.889999</td>\n",
       "      <td>0.000826</td>\n",
       "      <td>0.000826</td>\n",
       "    </tr>\n",
       "    <tr>\n",
       "      <th>2016-05-10</th>\n",
       "      <td>206.720001</td>\n",
       "      <td>208.470001</td>\n",
       "      <td>206.639999</td>\n",
       "      <td>208.449997</td>\n",
       "      <td>74236100</td>\n",
       "      <td>208.449997</td>\n",
       "      <td>0.012434</td>\n",
       "      <td>0.012357</td>\n",
       "    </tr>\n",
       "    <tr>\n",
       "      <th>2016-05-11</th>\n",
       "      <td>207.910004</td>\n",
       "      <td>208.539993</td>\n",
       "      <td>206.500000</td>\n",
       "      <td>206.500000</td>\n",
       "      <td>77749700</td>\n",
       "      <td>206.500000</td>\n",
       "      <td>-0.009355</td>\n",
       "      <td>-0.009399</td>\n",
       "    </tr>\n",
       "  </tbody>\n",
       "</table>\n",
       "</div>"
      ],
      "text/plain": [
       "                  Open        High         Low       Close    Volume  \\\n",
       "Date                                                                   \n",
       "2016-05-05  205.559998  205.979996  204.470001  204.970001  65635100   \n",
       "2016-05-06  204.059998  205.770004  203.880005  205.720001  83784900   \n",
       "2016-05-09  205.570007  206.399994  205.360001  205.889999  68187900   \n",
       "2016-05-10  206.720001  208.470001  206.639999  208.449997  74236100   \n",
       "2016-05-11  207.910004  208.539993  206.500000  206.500000  77749700   \n",
       "\n",
       "             Adj_Close       p_r       l_r  \n",
       "Date                                        \n",
       "2016-05-05  204.970001 -0.000195 -0.000195  \n",
       "2016-05-06  205.720001  0.003659  0.003652  \n",
       "2016-05-09  205.889999  0.000826  0.000826  \n",
       "2016-05-10  208.449997  0.012434  0.012357  \n",
       "2016-05-11  206.500000 -0.009355 -0.009399  "
      ]
     },
     "execution_count": 23,
     "metadata": {},
     "output_type": "execute_result"
    }
   ],
   "source": [
    "#adding _ to facilitate handling the column\n",
    "sp.rename(columns={'Adj Close':'Adj_Close'}, inplace=True) \n",
    "sp['p_r'] = sp.Adj_Close/sp.Adj_Close.shift()-1         #simple percentage returns\n",
    "sp['l_r'] = np.log(sp.Adj_Close/sp.Adj_Close.shift())  #log returns\n",
    "sp.tail()"
   ]
  },
  {
   "cell_type": "code",
   "execution_count": 24,
   "metadata": {
    "collapsed": false
   },
   "outputs": [
    {
     "data": {
      "text/plain": [
       "<matplotlib.axes._subplots.AxesSubplot at 0x7f5b1b565750>"
      ]
     },
     "execution_count": 24,
     "metadata": {},
     "output_type": "execute_result"
    },
    {
     "data": {
      "image/png": "[encoded data removed]",
      "text/plain": [
       "<matplotlib.figure.Figure at 0x7f5b238f2c10>"
      ]
     },
     "metadata": {},
     "output_type": "display_data"
    }
   ],
   "source": [
    "sp.l_r.hist(bins=70, figsize=(10,6))"
   ]
  },
  {
   "cell_type": "code",
   "execution_count": null,
   "metadata": {
    "collapsed": true
   },
   "outputs": [],
   "source": []
  }
 ],
 "metadata": {
  "kernelspec": {
   "display_name": "Python 2",
   "language": "python",
   "name": "python2"
  },
  "language_info": {
   "codemirror_mode": {
    "name": "ipython",
    "version": 2
   },
   "file_extension": ".py",
   "mimetype": "text/x-python",
   "name": "python",
   "nbconvert_exporter": "python",
   "pygments_lexer": "ipython2",
   "version": "2.7.11"
  }
 },
 "nbformat": 4,
 "nbformat_minor": 0
}
