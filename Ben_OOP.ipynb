{
 "cells": [
  {
   "cell_type": "code",
   "execution_count": 1,
   "metadata": {
    "collapsed": false
   },
   "outputs": [],
   "source": [
    "import pandas as pd\n",
    "import numpy as np\n",
    "import ben_oop as o"
   ]
  },
  {
   "cell_type": "code",
   "execution_count": 2,
   "metadata": {
    "collapsed": true
   },
   "outputs": [],
   "source": [
    "d = np.random.rand(10000) * 10000"
   ]
  },
  {
   "cell_type": "code",
   "execution_count": 3,
   "metadata": {
    "collapsed": false
   },
   "outputs": [
    {
     "data": {
      "text/plain": [
       "array([ 8244.77176149,   176.44945007,  7313.30978331, ...,  1721.53507467,\n",
       "        1553.91653601,  3215.67980358])"
      ]
     },
     "execution_count": 3,
     "metadata": {},
     "output_type": "execute_result"
    }
   ],
   "source": [
    "\n",
    "d"
   ]
  },
  {
   "cell_type": "code",
   "execution_count": 4,
   "metadata": {
    "collapsed": false
   },
   "outputs": [
    {
     "name": "stdout",
     "output_type": "stream",
     "text": [
      "Initialized sequence with 10000 registries.\n"
     ]
    }
   ],
   "source": [
    "b = o.Benford(d)"
   ]
  },
  {
   "cell_type": "code",
   "execution_count": 5,
   "metadata": {
    "collapsed": false
   },
   "outputs": [
    {
     "data": {
      "text/plain": [
       "10"
      ]
     },
     "execution_count": 5,
     "metadata": {},
     "output_type": "execute_result"
    }
   ],
   "source": [
    "sum(b.Seq<10)"
   ]
  },
  {
   "cell_type": "code",
   "execution_count": 6,
   "metadata": {
    "collapsed": false
   },
   "outputs": [
    {
     "name": "stdout",
     "output_type": "stream",
     "text": [
      "<class 'ben_oop.Benford'>\n",
      "Int64Index: 10000 entries, 0 to 9999\n",
      "Data columns (total 1 columns):\n",
      "Seq    10000 non-null float64\n",
      "dtypes: float64(1)\n",
      "memory usage: 156.2 KB\n"
     ]
    }
   ],
   "source": [
    "b.info()"
   ]
  },
  {
   "cell_type": "code",
   "execution_count": 7,
   "metadata": {
    "collapsed": false
   },
   "outputs": [
    {
     "name": "stdout",
     "output_type": "stream",
     "text": [
      "---Discarded 10 values lower than 10, corresponding to 0.1 percent of the sample.---\n",
      "\n",
      "---Performing test on 9990registries.---\n",
      "\n",
      "\n",
      "The 15 highest Z scores are:\n",
      "\n",
      "             Expected     Found     Z_test\n",
      "First_2_Dig                               \n",
      "10           0.041393  0.012012  14.742201\n",
      "12           0.034762  0.010410  13.287453\n",
      "96           0.004501  0.012913  12.561812\n",
      "11           0.037789  0.014214  12.356827\n",
      "14           0.029963  0.009610  11.932623\n",
      "99           0.004365  0.012112  11.746296\n",
      "13           0.032185  0.011712  11.594253\n",
      "86           0.005021  0.013213  11.585132\n",
      "90           0.004799  0.012613  11.300968\n",
      "95           0.004548  0.012112  11.237233\n",
      "98           0.004409  0.011812  11.167504\n",
      "84           0.005140  0.013113  11.145073\n",
      "15           0.028029  0.010811  10.426412\n",
      "97           0.004454  0.011211  10.141588\n",
      "16           0.026329  0.010711   9.749710\n",
      "\n",
      "The Mean Absolute Deviation is 0.00608787248425\n",
      "For the First Two Digits:\n",
      "\t\t\t- 0.0000 to 0.0012: Close Conformity\n",
      "\t\t\t- 0.0012 to 0.0018: Acceptable Conformity\n",
      "\t\t\t- 0.0018 to 0.0022: Marginally Acceptable Conformity\n",
      "\t\t\t- > 0.0022: Nonconformity\n"
     ]
    },
    {
     "name": "stderr",
     "output_type": "stream",
     "text": [
      "/home/milcent/anaconda/lib/python2.7/site-packages/pandas/core/generic.py:1974: SettingWithCopyWarning: \n",
      "A value is trying to be set on a copy of a slice from a DataFrame.\n",
      "Try using .loc[row_indexer,col_indexer] = value instead\n",
      "\n",
      "See the the caveats in the documentation: http://pandas.pydata.org/pandas-docs/stable/indexing.html#indexing-view-versus-copy\n",
      "  self[name] = value\n"
     ]
    }
   ],
   "source": [
    "sec = b.firstTwoDigits()"
   ]
  },
  {
   "cell_type": "code",
   "execution_count": null,
   "metadata": {
    "collapsed": true
   },
   "outputs": [],
   "source": []
  }
 ],
 "metadata": {
  "kernelspec": {
   "display_name": "Python 2",
   "language": "python",
   "name": "python2"
  },
  "language_info": {
   "codemirror_mode": {
    "name": "ipython",
    "version": 2
   },
   "file_extension": ".py",
   "mimetype": "text/x-python",
   "name": "python",
   "nbconvert_exporter": "python",
   "pygments_lexer": "ipython2",
   "version": "2.7.9"
  }
 },
 "nbformat": 4,
 "nbformat_minor": 0
}
