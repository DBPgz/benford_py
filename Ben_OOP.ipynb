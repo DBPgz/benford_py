{
 "cells": [
  {
   "cell_type": "code",
   "execution_count": 1,
   "metadata": {
    "collapsed": false,
    "scrolled": false
   },
   "outputs": [
    {
     "name": "stdout",
     "output_type": "stream",
     "text": [
      "Populating the interactive namespace from numpy and matplotlib\n"
     ]
    }
   ],
   "source": [
    "pylab inline"
   ]
  },
  {
   "cell_type": "code",
   "execution_count": 2,
   "metadata": {
    "collapsed": false,
    "scrolled": false
   },
   "outputs": [
    {
     "name": "stderr",
     "output_type": "stream",
     "text": [
      "/home/milcent/anaconda/lib/python2.7/site-packages/pandas/io/data.py:33: FutureWarning: \n",
      "The pandas.io.data module is moved to a separate package (pandas-datareader) and will be removed from pandas in a future version.\n",
      "After installing the pandas-datareader package (https://github.com/pydata/pandas-datareader), you can change the import ``from pandas.io import data, wb`` to ``from pandas_datareader import data, wb``.\n",
      "  FutureWarning)\n"
     ]
    }
   ],
   "source": [
    "import pandas as pd\n",
    "import numpy as np\n",
    "import ben_oop as o\n",
    "import pandas.io.data as web\n",
    "import matplotlib"
   ]
  },
  {
   "cell_type": "code",
   "execution_count": 3,
   "metadata": {
    "collapsed": false
   },
   "outputs": [
    {
     "name": "stdout",
     "output_type": "stream",
     "text": [
      "/home/milcent/Documentos/Benford Datasets\n"
     ]
    }
   ],
   "source": [
    "cd /home/milcent/Documentos/Benford\\ Datasets"
   ]
  },
  {
   "cell_type": "code",
   "execution_count": 4,
   "metadata": {
    "collapsed": false
   },
   "outputs": [
    {
     "name": "stdout",
     "output_type": "stream",
     "text": [
      "layout_01_01_200812.CSV  razao_contas_a_pagar_30092006_31122010.xls  table.csv\r\n",
      "layout_01_11_200812.CSV  SPY.csv\r\n"
     ]
    }
   ],
   "source": [
    "ls"
   ]
  },
  {
   "cell_type": "code",
   "execution_count": 5,
   "metadata": {
    "collapsed": false
   },
   "outputs": [],
   "source": [
    "i = web.DataReader('SPY', 'yahoo', start='1990-01-01')"
   ]
  },
  {
   "cell_type": "code",
   "execution_count": 6,
   "metadata": {
    "collapsed": false
   },
   "outputs": [
    {
     "name": "stdout",
     "output_type": "stream",
     "text": [
      "<class 'pandas.core.frame.DataFrame'>\n",
      "DatetimeIndex: 5734 entries, 1993-01-29 to 2015-11-03\n",
      "Data columns (total 6 columns):\n",
      "Open         5734 non-null float64\n",
      "High         5734 non-null float64\n",
      "Low          5734 non-null float64\n",
      "Close        5734 non-null float64\n",
      "Volume       5734 non-null int64\n",
      "Adj Close    5734 non-null float64\n",
      "dtypes: float64(5), int64(1)\n",
      "memory usage: 313.6 KB\n"
     ]
    }
   ],
   "source": [
    "i.info()"
   ]
  },
  {
   "cell_type": "code",
   "execution_count": null,
   "metadata": {
    "collapsed": true
   },
   "outputs": [],
   "source": [
    "i['Adj_Close']=i['Adj Close']\n",
    "del i['Adj Close']"
   ]
  },
  {
   "cell_type": "markdown",
   "metadata": {},
   "source": [
    "###  Reetornos percentual, logarítmico e normalizado"
   ]
  },
  {
   "cell_type": "code",
   "execution_count": 13,
   "metadata": {
    "collapsed": false
   },
   "outputs": [
    {
     "data": {
      "text/html": [
       "<div>\n",
       "<table border=\"1\" class=\"dataframe\">\n",
       "  <thead>\n",
       "    <tr style=\"text-align: right;\">\n",
       "      <th></th>\n",
       "      <th>Open</th>\n",
       "      <th>High</th>\n",
       "      <th>Low</th>\n",
       "      <th>Close</th>\n",
       "      <th>Volume</th>\n",
       "      <th>p_c</th>\n",
       "      <th>l_c</th>\n",
       "      <th>norm</th>\n",
       "      <th>Adj_Close</th>\n",
       "    </tr>\n",
       "    <tr>\n",
       "      <th>Date</th>\n",
       "      <th></th>\n",
       "      <th></th>\n",
       "      <th></th>\n",
       "      <th></th>\n",
       "      <th></th>\n",
       "      <th></th>\n",
       "      <th></th>\n",
       "      <th></th>\n",
       "      <th></th>\n",
       "    </tr>\n",
       "  </thead>\n",
       "  <tbody>\n",
       "    <tr>\n",
       "      <th>2015-10-28</th>\n",
       "      <td>207.000000</td>\n",
       "      <td>208.979996</td>\n",
       "      <td>206.210007</td>\n",
       "      <td>208.940002</td>\n",
       "      <td>132528000</td>\n",
       "      <td>0.011473</td>\n",
       "      <td>0.011408</td>\n",
       "      <td>0.927460</td>\n",
       "      <td>208.940002</td>\n",
       "    </tr>\n",
       "    <tr>\n",
       "      <th>2015-10-29</th>\n",
       "      <td>208.350006</td>\n",
       "      <td>209.270004</td>\n",
       "      <td>208.210007</td>\n",
       "      <td>208.889999</td>\n",
       "      <td>84727800</td>\n",
       "      <td>-0.000239</td>\n",
       "      <td>-0.000239</td>\n",
       "      <td>-0.055195</td>\n",
       "      <td>208.889999</td>\n",
       "    </tr>\n",
       "    <tr>\n",
       "      <th>2015-10-30</th>\n",
       "      <td>209.059998</td>\n",
       "      <td>209.440002</td>\n",
       "      <td>207.740005</td>\n",
       "      <td>207.869995</td>\n",
       "      <td>125338300</td>\n",
       "      <td>-0.004883</td>\n",
       "      <td>-0.004895</td>\n",
       "      <td>-0.444791</td>\n",
       "      <td>207.869995</td>\n",
       "    </tr>\n",
       "    <tr>\n",
       "      <th>2015-11-02</th>\n",
       "      <td>208.320007</td>\n",
       "      <td>210.619995</td>\n",
       "      <td>208.169998</td>\n",
       "      <td>210.330002</td>\n",
       "      <td>82533600</td>\n",
       "      <td>0.011834</td>\n",
       "      <td>0.011765</td>\n",
       "      <td>0.957770</td>\n",
       "      <td>210.330002</td>\n",
       "    </tr>\n",
       "    <tr>\n",
       "      <th>2015-11-03</th>\n",
       "      <td>209.970001</td>\n",
       "      <td>211.660004</td>\n",
       "      <td>209.699997</td>\n",
       "      <td>210.949997</td>\n",
       "      <td>94524100</td>\n",
       "      <td>0.002948</td>\n",
       "      <td>0.002943</td>\n",
       "      <td>0.212194</td>\n",
       "      <td>210.949997</td>\n",
       "    </tr>\n",
       "  </tbody>\n",
       "</table>\n",
       "</div>"
      ],
      "text/plain": [
       "                  Open        High         Low       Close     Volume  \\\n",
       "Date                                                                    \n",
       "2015-10-28  207.000000  208.979996  206.210007  208.940002  132528000   \n",
       "2015-10-29  208.350006  209.270004  208.210007  208.889999   84727800   \n",
       "2015-10-30  209.059998  209.440002  207.740005  207.869995  125338300   \n",
       "2015-11-02  208.320007  210.619995  208.169998  210.330002   82533600   \n",
       "2015-11-03  209.970001  211.660004  209.699997  210.949997   94524100   \n",
       "\n",
       "                 p_c       l_c      norm   Adj_Close  \n",
       "Date                                                  \n",
       "2015-10-28  0.011473  0.011408  0.927460  208.940002  \n",
       "2015-10-29 -0.000239 -0.000239 -0.055195  208.889999  \n",
       "2015-10-30 -0.004883 -0.004895 -0.444791  207.869995  \n",
       "2015-11-02  0.011834  0.011765  0.957770  210.330002  \n",
       "2015-11-03  0.002948  0.002943  0.212194  210.949997  "
      ]
     },
     "execution_count": 13,
     "metadata": {},
     "output_type": "execute_result"
    }
   ],
   "source": [
    "i['p_c'] = i.Adj_Close/i.Adj_Close.shift()-1\n",
    "i['l_c'] = np.log(i.Adj_Close/i.Adj_Close.shift())\n",
    "i['norm'] = (i.p_c - i.p_c.mean())/i.p_c.std()\n",
    "i.tail()"
   ]
  },
  {
   "cell_type": "code",
   "execution_count": 14,
   "metadata": {
    "collapsed": false
   },
   "outputs": [
    {
     "data": {
      "text/html": [
       "<div>\n",
       "<table border=\"1\" class=\"dataframe\">\n",
       "  <thead>\n",
       "    <tr style=\"text-align: right;\">\n",
       "      <th></th>\n",
       "      <th>Open</th>\n",
       "      <th>High</th>\n",
       "      <th>Low</th>\n",
       "      <th>Close</th>\n",
       "      <th>Volume</th>\n",
       "      <th>p_c</th>\n",
       "      <th>l_c</th>\n",
       "      <th>norm</th>\n",
       "      <th>Adj_Close</th>\n",
       "    </tr>\n",
       "    <tr>\n",
       "      <th>Date</th>\n",
       "      <th></th>\n",
       "      <th></th>\n",
       "      <th></th>\n",
       "      <th></th>\n",
       "      <th></th>\n",
       "      <th></th>\n",
       "      <th></th>\n",
       "      <th></th>\n",
       "      <th></th>\n",
       "    </tr>\n",
       "  </thead>\n",
       "  <tbody>\n",
       "    <tr>\n",
       "      <th>1993-01-29</th>\n",
       "      <td>43.9687</td>\n",
       "      <td>43.9687</td>\n",
       "      <td>43.7500</td>\n",
       "      <td>43.9375</td>\n",
       "      <td>1003200</td>\n",
       "      <td>NaN</td>\n",
       "      <td>NaN</td>\n",
       "      <td>NaN</td>\n",
       "      <td>28.772289</td>\n",
       "    </tr>\n",
       "    <tr>\n",
       "      <th>1993-02-01</th>\n",
       "      <td>43.9687</td>\n",
       "      <td>44.2500</td>\n",
       "      <td>43.9687</td>\n",
       "      <td>44.2500</td>\n",
       "      <td>480500</td>\n",
       "      <td>0.007112</td>\n",
       "      <td>0.007087</td>\n",
       "      <td>0.561601</td>\n",
       "      <td>28.976928</td>\n",
       "    </tr>\n",
       "    <tr>\n",
       "      <th>1993-02-02</th>\n",
       "      <td>44.2187</td>\n",
       "      <td>44.3750</td>\n",
       "      <td>44.1250</td>\n",
       "      <td>44.3437</td>\n",
       "      <td>201300</td>\n",
       "      <td>0.002118</td>\n",
       "      <td>0.002115</td>\n",
       "      <td>0.142540</td>\n",
       "      <td>29.038287</td>\n",
       "    </tr>\n",
       "    <tr>\n",
       "      <th>1993-02-03</th>\n",
       "      <td>44.4062</td>\n",
       "      <td>44.8437</td>\n",
       "      <td>44.3750</td>\n",
       "      <td>44.8125</td>\n",
       "      <td>529400</td>\n",
       "      <td>0.010572</td>\n",
       "      <td>0.010516</td>\n",
       "      <td>0.851858</td>\n",
       "      <td>29.345279</td>\n",
       "    </tr>\n",
       "    <tr>\n",
       "      <th>1993-02-04</th>\n",
       "      <td>44.9687</td>\n",
       "      <td>45.0937</td>\n",
       "      <td>44.4687</td>\n",
       "      <td>45.0000</td>\n",
       "      <td>531500</td>\n",
       "      <td>0.004184</td>\n",
       "      <td>0.004175</td>\n",
       "      <td>0.315925</td>\n",
       "      <td>29.468063</td>\n",
       "    </tr>\n",
       "  </tbody>\n",
       "</table>\n",
       "</div>"
      ],
      "text/plain": [
       "               Open     High      Low    Close   Volume       p_c       l_c  \\\n",
       "Date                                                                          \n",
       "1993-01-29  43.9687  43.9687  43.7500  43.9375  1003200       NaN       NaN   \n",
       "1993-02-01  43.9687  44.2500  43.9687  44.2500   480500  0.007112  0.007087   \n",
       "1993-02-02  44.2187  44.3750  44.1250  44.3437   201300  0.002118  0.002115   \n",
       "1993-02-03  44.4062  44.8437  44.3750  44.8125   529400  0.010572  0.010516   \n",
       "1993-02-04  44.9687  45.0937  44.4687  45.0000   531500  0.004184  0.004175   \n",
       "\n",
       "                norm  Adj_Close  \n",
       "Date                             \n",
       "1993-01-29       NaN  28.772289  \n",
       "1993-02-01  0.561601  28.976928  \n",
       "1993-02-02  0.142540  29.038287  \n",
       "1993-02-03  0.851858  29.345279  \n",
       "1993-02-04  0.315925  29.468063  "
      ]
     },
     "execution_count": 14,
     "metadata": {},
     "output_type": "execute_result"
    }
   ],
   "source": [
    "i.head()"
   ]
  },
  {
   "cell_type": "code",
   "execution_count": 24,
   "metadata": {
    "collapsed": true
   },
   "outputs": [],
   "source": [
    "i.to_csv('SPY.csv')"
   ]
  },
  {
   "cell_type": "markdown",
   "metadata": {},
   "source": [
    "### Direto do .csv"
   ]
  },
  {
   "cell_type": "code",
   "execution_count": 27,
   "metadata": {
    "collapsed": true
   },
   "outputs": [],
   "source": [
    "i = pd.read_csv('SPY.csv', index_col=0)"
   ]
  },
  {
   "cell_type": "code",
   "execution_count": 28,
   "metadata": {
    "collapsed": false
   },
   "outputs": [
    {
     "data": {
      "text/html": [
       "<div>\n",
       "<table border=\"1\" class=\"dataframe\">\n",
       "  <thead>\n",
       "    <tr style=\"text-align: right;\">\n",
       "      <th></th>\n",
       "      <th>Open</th>\n",
       "      <th>High</th>\n",
       "      <th>Low</th>\n",
       "      <th>Close</th>\n",
       "      <th>Volume</th>\n",
       "      <th>p_c</th>\n",
       "      <th>l_c</th>\n",
       "      <th>norm</th>\n",
       "      <th>Adj_Close</th>\n",
       "    </tr>\n",
       "    <tr>\n",
       "      <th>Date</th>\n",
       "      <th></th>\n",
       "      <th></th>\n",
       "      <th></th>\n",
       "      <th></th>\n",
       "      <th></th>\n",
       "      <th></th>\n",
       "      <th></th>\n",
       "      <th></th>\n",
       "      <th></th>\n",
       "    </tr>\n",
       "  </thead>\n",
       "  <tbody>\n",
       "    <tr>\n",
       "      <th>1993-01-29</th>\n",
       "      <td>43.9687</td>\n",
       "      <td>43.9687</td>\n",
       "      <td>43.7500</td>\n",
       "      <td>43.9375</td>\n",
       "      <td>1003200</td>\n",
       "      <td>NaN</td>\n",
       "      <td>NaN</td>\n",
       "      <td>NaN</td>\n",
       "      <td>28.772289</td>\n",
       "    </tr>\n",
       "    <tr>\n",
       "      <th>1993-02-01</th>\n",
       "      <td>43.9687</td>\n",
       "      <td>44.2500</td>\n",
       "      <td>43.9687</td>\n",
       "      <td>44.2500</td>\n",
       "      <td>480500</td>\n",
       "      <td>0.007112</td>\n",
       "      <td>0.007087</td>\n",
       "      <td>0.561601</td>\n",
       "      <td>28.976928</td>\n",
       "    </tr>\n",
       "    <tr>\n",
       "      <th>1993-02-02</th>\n",
       "      <td>44.2187</td>\n",
       "      <td>44.3750</td>\n",
       "      <td>44.1250</td>\n",
       "      <td>44.3437</td>\n",
       "      <td>201300</td>\n",
       "      <td>0.002118</td>\n",
       "      <td>0.002115</td>\n",
       "      <td>0.142540</td>\n",
       "      <td>29.038287</td>\n",
       "    </tr>\n",
       "    <tr>\n",
       "      <th>1993-02-03</th>\n",
       "      <td>44.4062</td>\n",
       "      <td>44.8437</td>\n",
       "      <td>44.3750</td>\n",
       "      <td>44.8125</td>\n",
       "      <td>529400</td>\n",
       "      <td>0.010572</td>\n",
       "      <td>0.010516</td>\n",
       "      <td>0.851858</td>\n",
       "      <td>29.345279</td>\n",
       "    </tr>\n",
       "    <tr>\n",
       "      <th>1993-02-04</th>\n",
       "      <td>44.9687</td>\n",
       "      <td>45.0937</td>\n",
       "      <td>44.4687</td>\n",
       "      <td>45.0000</td>\n",
       "      <td>531500</td>\n",
       "      <td>0.004184</td>\n",
       "      <td>0.004175</td>\n",
       "      <td>0.315925</td>\n",
       "      <td>29.468063</td>\n",
       "    </tr>\n",
       "  </tbody>\n",
       "</table>\n",
       "</div>"
      ],
      "text/plain": [
       "               Open     High      Low    Close   Volume       p_c       l_c  \\\n",
       "Date                                                                          \n",
       "1993-01-29  43.9687  43.9687  43.7500  43.9375  1003200       NaN       NaN   \n",
       "1993-02-01  43.9687  44.2500  43.9687  44.2500   480500  0.007112  0.007087   \n",
       "1993-02-02  44.2187  44.3750  44.1250  44.3437   201300  0.002118  0.002115   \n",
       "1993-02-03  44.4062  44.8437  44.3750  44.8125   529400  0.010572  0.010516   \n",
       "1993-02-04  44.9687  45.0937  44.4687  45.0000   531500  0.004184  0.004175   \n",
       "\n",
       "                norm  Adj_Close  \n",
       "Date                             \n",
       "1993-01-29       NaN  28.772289  \n",
       "1993-02-01  0.561601  28.976928  \n",
       "1993-02-02  0.142540  29.038287  \n",
       "1993-02-03  0.851858  29.345279  \n",
       "1993-02-04  0.315925  29.468063  "
      ]
     },
     "execution_count": 28,
     "metadata": {},
     "output_type": "execute_result"
    }
   ],
   "source": [
    "i.head()"
   ]
  },
  {
   "cell_type": "markdown",
   "metadata": {},
   "source": [
    "## Início da Análise"
   ]
  },
  {
   "cell_type": "code",
   "execution_count": 15,
   "metadata": {
    "collapsed": false,
    "scrolled": false
   },
   "outputs": [
    {
     "name": "stdout",
     "output_type": "stream",
     "text": [
      "Initialized sequence with 5733 registries.\n"
     ]
    }
   ],
   "source": [
    "ibn = o.Analysis(abs(i.l_c), dec=8)"
   ]
  },
  {
   "cell_type": "code",
   "execution_count": 16,
   "metadata": {
    "collapsed": false
   },
   "outputs": [
    {
     "data": {
      "text/html": [
       "<div>\n",
       "<table border=\"1\" class=\"dataframe\">\n",
       "  <thead>\n",
       "    <tr style=\"text-align: right;\">\n",
       "      <th></th>\n",
       "      <th>Seq</th>\n",
       "      <th>ZN</th>\n",
       "      <th>F1D</th>\n",
       "      <th>SD</th>\n",
       "      <th>F2D</th>\n",
       "      <th>F3D</th>\n",
       "      <th>L2D</th>\n",
       "    </tr>\n",
       "    <tr>\n",
       "      <th>Date</th>\n",
       "      <th></th>\n",
       "      <th></th>\n",
       "      <th></th>\n",
       "      <th></th>\n",
       "      <th></th>\n",
       "      <th></th>\n",
       "      <th></th>\n",
       "    </tr>\n",
       "  </thead>\n",
       "  <tbody>\n",
       "    <tr>\n",
       "      <th>2015-10-28</th>\n",
       "      <td>0.011408</td>\n",
       "      <td>1140776</td>\n",
       "      <td>1</td>\n",
       "      <td>1</td>\n",
       "      <td>11</td>\n",
       "      <td>114</td>\n",
       "      <td>76</td>\n",
       "    </tr>\n",
       "    <tr>\n",
       "      <th>2015-10-29</th>\n",
       "      <td>0.000239</td>\n",
       "      <td>23934</td>\n",
       "      <td>2</td>\n",
       "      <td>3</td>\n",
       "      <td>23</td>\n",
       "      <td>239</td>\n",
       "      <td>34</td>\n",
       "    </tr>\n",
       "    <tr>\n",
       "      <th>2015-10-30</th>\n",
       "      <td>0.004895</td>\n",
       "      <td>489493</td>\n",
       "      <td>4</td>\n",
       "      <td>8</td>\n",
       "      <td>48</td>\n",
       "      <td>489</td>\n",
       "      <td>93</td>\n",
       "    </tr>\n",
       "    <tr>\n",
       "      <th>2015-11-02</th>\n",
       "      <td>0.011765</td>\n",
       "      <td>1176487</td>\n",
       "      <td>1</td>\n",
       "      <td>1</td>\n",
       "      <td>11</td>\n",
       "      <td>117</td>\n",
       "      <td>87</td>\n",
       "    </tr>\n",
       "    <tr>\n",
       "      <th>2015-11-03</th>\n",
       "      <td>0.002943</td>\n",
       "      <td>294338</td>\n",
       "      <td>2</td>\n",
       "      <td>9</td>\n",
       "      <td>29</td>\n",
       "      <td>294</td>\n",
       "      <td>38</td>\n",
       "    </tr>\n",
       "  </tbody>\n",
       "</table>\n",
       "</div>"
      ],
      "text/plain": [
       "                 Seq       ZN  F1D  SD  F2D  F3D L2D\n",
       "Date                                                \n",
       "2015-10-28  0.011408  1140776    1   1   11  114  76\n",
       "2015-10-29  0.000239    23934    2   3   23  239  34\n",
       "2015-10-30  0.004895   489493    4   8   48  489  93\n",
       "2015-11-02  0.011765  1176487    1   1   11  117  87\n",
       "2015-11-03  0.002943   294338    2   9   29  294  38"
      ]
     },
     "execution_count": 16,
     "metadata": {},
     "output_type": "execute_result"
    }
   ],
   "source": [
    "ibn.tail()"
   ]
  },
  {
   "cell_type": "code",
   "execution_count": 21,
   "metadata": {
    "collapsed": false,
    "scrolled": false
   },
   "outputs": [
    {
     "name": "stdout",
     "output_type": "stream",
     "text": [
      "\n",
      "---Test performed on 5733 registries.---\n",
      "\n",
      "\n",
      "The positive deviations` top 20 Z scores are:\n",
      "\n",
      "             Expected     Found    Z_test\n",
      "First_2_Dig                              \n",
      "67           0.006434  0.010291  3.652742\n",
      "10           0.041393  0.050061  3.294928\n",
      "66           0.006531  0.009942  3.206881\n",
      "13           0.032185  0.039421  3.104427\n",
      "75           0.005752  0.007849  2.099486\n",
      "69           0.006249  0.008198  1.872861\n",
      "82           0.005264  0.006977  1.792271\n",
      "72           0.005990  0.007675  1.652876\n",
      "54           0.007969  0.009594  1.383530\n",
      "33           0.012965  0.015001  1.362681\n",
      "83           0.005201  0.006454  1.318586\n",
      "85           0.005080  0.006279  1.278008\n",
      "93           0.004645  0.005756  1.237436\n",
      "99           0.004365  0.005407  1.197370\n",
      "95           0.004548  0.005582  1.163717\n",
      "97           0.004454  0.005407  1.083524\n",
      "50           0.008600  0.009768  0.957625\n",
      "19           0.022276  0.024071  0.920810\n",
      "20           0.021189  0.022676  0.781502\n",
      "55           0.007825  0.008721  0.770020\n",
      "\n",
      "The Mean Absolute Deviation is 0.00145811757512\n",
      "For the First Two Digits:\n",
      "\t\t\t- 0.0000 to 0.0012: Close Conformity\n",
      "\t\t\t- 0.0012 to 0.0018: Acceptable Conformity\n",
      "\t\t\t- 0.0018 to 0.0022: Marginally Acceptable Conformity\n",
      "\t\t\t- Above 0.0022: Nonconformity\n"
     ]
    },
    {
     "data": {
      "image/png": "[encoded data removed]",
      "text/plain": [
       "<matplotlib.figure.Figure at 0x7f6ae01914d0>"
      ]
     },
     "metadata": {},
     "output_type": "display_data"
    }
   ],
   "source": [
    "c = ibn.firstDigits(2, conf_level=90)"
   ]
  },
  {
   "cell_type": "code",
   "execution_count": 22,
   "metadata": {
    "collapsed": false,
    "scrolled": false
   },
   "outputs": [
    {
     "name": "stdout",
     "output_type": "stream",
     "text": [
      "The Mantissas MEAN is 0.491351095867. Ref: 0.5.\n",
      "The Mantissas VARIANCE is 0.089730980745. Ref: 0.83333.\n"
     ]
    },
    {
     "name": "stderr",
     "output_type": "stream",
     "text": [
      "ben_oop.py:154: FutureWarning: sort(columns=....) is deprecated, use sort_values(by=.....)\n"
     ]
    },
    {
     "data": {
      "image/png": "[encoded data removed]",
      "text/plain": [
       "<matplotlib.figure.Figure at 0x7f6ae020dd50>"
      ]
     },
     "metadata": {},
     "output_type": "display_data"
    }
   ],
   "source": [
    "m = ibn.mantissas(plot = True)"
   ]
  },
  {
   "cell_type": "code",
   "execution_count": 23,
   "metadata": {
    "collapsed": false
   },
   "outputs": [
    {
     "data": {
      "text/plain": [
       "{'F2D': array([67, 10, 66, 13, 75, 69, 82, 72, 54, 33, 83, 85, 93, 99, 95, 97, 50,\n",
       "        19, 20, 55])}"
      ]
     },
     "execution_count": 23,
     "metadata": {},
     "output_type": "execute_result"
    }
   ],
   "source": [
    "ibn.maps"
   ]
  },
  {
   "cell_type": "markdown",
   "metadata": {},
   "source": [
    "## Pular para o início com o arquivo .csv"
   ]
  },
  {
   "cell_type": "code",
   "execution_count": 27,
   "metadata": {
    "collapsed": false
   },
   "outputs": [],
   "source": [
    "r = pd.read_excel('razao_contas_a_pagar_30092006_31122010.xls',\\\n",
    "                  skiprows=6, parse_cols=[0,1,2,3,5,6,7,8,9],header=0)"
   ]
  },
  {
   "cell_type": "code",
   "execution_count": 28,
   "metadata": {
    "collapsed": false,
    "scrolled": false
   },
   "outputs": [
    {
     "name": "stdout",
     "output_type": "stream",
     "text": [
      "<class 'pandas.core.frame.DataFrame'>\n",
      "Int64Index: 63649 entries, 3 to 63663\n",
      "Data columns (total 9 columns):\n",
      "Dia                 54333 non-null object\n",
      "Ano                 63649 non-null int64\n",
      "Remessa - Origem    54333 non-null object\n",
      "ContraPartida       54333 non-null object\n",
      "Lancto              54333 non-null object\n",
      "Destino             42015 non-null float64\n",
      "Complemento         54333 non-null object\n",
      "Debito              21659 non-null object\n",
      "Credito             34792 non-null object\n",
      "dtypes: float64(1), int64(1), object(7)\n",
      "memory usage: 4.9+ MB\n"
     ]
    }
   ],
   "source": [
    "r.Ano = r.Ano.apply(o._tint_)\n",
    "r = r[r.Ano!=0]\n",
    "r.info()"
   ]
  },
  {
   "cell_type": "code",
   "execution_count": 29,
   "metadata": {
    "collapsed": false
   },
   "outputs": [
    {
     "data": {
      "text/html": [
       "<div>\n",
       "<table border=\"1\" class=\"dataframe\">\n",
       "  <thead>\n",
       "    <tr style=\"text-align: right;\">\n",
       "      <th></th>\n",
       "      <th>Dia</th>\n",
       "      <th>Ano</th>\n",
       "      <th>Remessa - Origem</th>\n",
       "      <th>ContraPartida</th>\n",
       "      <th>Lancto</th>\n",
       "      <th>Destino</th>\n",
       "      <th>Complemento</th>\n",
       "      <th>Debito</th>\n",
       "      <th>Credito</th>\n",
       "    </tr>\n",
       "  </thead>\n",
       "  <tbody>\n",
       "    <tr>\n",
       "      <th>3</th>\n",
       "      <td>02/10</td>\n",
       "      <td>2006</td>\n",
       "      <td>000000-MANUAIS</td>\n",
       "      <td>8.1.7.06.00.0 279.0</td>\n",
       "      <td>00019 0004602584-01</td>\n",
       "      <td>19</td>\n",
       "      <td>INTEGRAÇAO DEWIN  EST DE LANÇ  4583382 CADAST ...</td>\n",
       "      <td>171.709,87</td>\n",
       "      <td>NaN</td>\n",
       "    </tr>\n",
       "    <tr>\n",
       "      <th>4</th>\n",
       "      <td>NaN</td>\n",
       "      <td>2006</td>\n",
       "      <td>NaN</td>\n",
       "      <td>NaN</td>\n",
       "      <td>NaN</td>\n",
       "      <td>NaN</td>\n",
       "      <td>NaN</td>\n",
       "      <td>NaN</td>\n",
       "      <td>NaN</td>\n",
       "    </tr>\n",
       "    <tr>\n",
       "      <th>5</th>\n",
       "      <td>02/10</td>\n",
       "      <td>2006</td>\n",
       "      <td>002276-CP001</td>\n",
       "      <td>1.8.8.92.00.4 760.2</td>\n",
       "      <td>00019 0004569188-01</td>\n",
       "      <td>19</td>\n",
       "      <td>INTEGRACAO CONTAS A PAGAR  Via Caixa</td>\n",
       "      <td>332.960,21</td>\n",
       "      <td>NaN</td>\n",
       "    </tr>\n",
       "    <tr>\n",
       "      <th>6</th>\n",
       "      <td>02/10</td>\n",
       "      <td>2006</td>\n",
       "      <td>002276-CP001</td>\n",
       "      <td>1.8.8.92.00.4 805.6</td>\n",
       "      <td>00019 0004569189-01</td>\n",
       "      <td>19</td>\n",
       "      <td>INTEGRACAO CONTAS A PAGAR  Debito Caixa Ec.Fed.</td>\n",
       "      <td>100.088,95</td>\n",
       "      <td>NaN</td>\n",
       "    </tr>\n",
       "    <tr>\n",
       "      <th>7</th>\n",
       "      <td>02/10</td>\n",
       "      <td>2006</td>\n",
       "      <td>002276-CP001</td>\n",
       "      <td>4.1.1.85.99.1 001.7</td>\n",
       "      <td>00019 0004569190-01</td>\n",
       "      <td>19</td>\n",
       "      <td>INTEGRACAO CONTAS A PAGAR  Conta Corrente DE</td>\n",
       "      <td>7.880.000,00</td>\n",
       "      <td>NaN</td>\n",
       "    </tr>\n",
       "  </tbody>\n",
       "</table>\n",
       "</div>"
      ],
      "text/plain": [
       "     Dia   Ano Remessa - Origem        ContraPartida               Lancto  \\\n",
       "3  02/10  2006   000000-MANUAIS  8.1.7.06.00.0 279.0  00019 0004602584-01   \n",
       "4    NaN  2006              NaN                  NaN                  NaN   \n",
       "5  02/10  2006     002276-CP001  1.8.8.92.00.4 760.2  00019 0004569188-01   \n",
       "6  02/10  2006     002276-CP001  1.8.8.92.00.4 805.6  00019 0004569189-01   \n",
       "7  02/10  2006     002276-CP001  4.1.1.85.99.1 001.7  00019 0004569190-01   \n",
       "\n",
       "   Destino                                        Complemento        Debito  \\\n",
       "3       19  INTEGRAÇAO DEWIN  EST DE LANÇ  4583382 CADAST ...    171.709,87   \n",
       "4      NaN                                                NaN           NaN   \n",
       "5       19               INTEGRACAO CONTAS A PAGAR  Via Caixa    332.960,21   \n",
       "6       19    INTEGRACAO CONTAS A PAGAR  Debito Caixa Ec.Fed.    100.088,95   \n",
       "7       19       INTEGRACAO CONTAS A PAGAR  Conta Corrente DE  7.880.000,00   \n",
       "\n",
       "  Credito  \n",
       "3     NaN  \n",
       "4     NaN  \n",
       "5     NaN  \n",
       "6     NaN  \n",
       "7     NaN  "
      ]
     },
     "execution_count": 29,
     "metadata": {},
     "output_type": "execute_result"
    }
   ],
   "source": [
    "r = r.reindex(index=np.arange(1,len(r)))\n",
    "r=r.dropna(how='all')\n",
    "r.head()"
   ]
  },
  {
   "cell_type": "code",
   "execution_count": 30,
   "metadata": {
    "collapsed": false,
    "scrolled": true
   },
   "outputs": [
    {
     "name": "stdout",
     "output_type": "stream",
     "text": [
      "<class 'pandas.core.frame.DataFrame'>\n",
      "Int64Index: 54318 entries, 3 to 63648\n",
      "Data columns (total 9 columns):\n",
      "Dia                 54318 non-null object\n",
      "Ano                 54318 non-null float64\n",
      "Remessa - Origem    54318 non-null object\n",
      "ContraPartida       54318 non-null object\n",
      "Lancto              54318 non-null object\n",
      "Destino             42000 non-null float64\n",
      "Complemento         54318 non-null object\n",
      "Debito              20595 non-null object\n",
      "Credito             33723 non-null object\n",
      "dtypes: float64(2), object(7)\n",
      "memory usage: 4.1+ MB\n"
     ]
    }
   ],
   "source": [
    "r = r[r.Dia.notnull()]\n",
    "r.info()"
   ]
  },
  {
   "cell_type": "code",
   "execution_count": 31,
   "metadata": {
    "collapsed": false
   },
   "outputs": [],
   "source": [
    "r.Ano=r.Ano.astype(int)"
   ]
  },
  {
   "cell_type": "code",
   "execution_count": 32,
   "metadata": {
    "collapsed": false,
    "scrolled": false
   },
   "outputs": [
    {
     "name": "stdout",
     "output_type": "stream",
     "text": [
      "<class 'pandas.core.frame.DataFrame'>\n",
      "Int64Index: 54318 entries, 3 to 63648\n",
      "Data columns (total 9 columns):\n",
      "Dia                 54318 non-null object\n",
      "Ano                 54318 non-null int64\n",
      "Remessa - Origem    54318 non-null object\n",
      "ContraPartida       54318 non-null object\n",
      "Lancto              54318 non-null object\n",
      "Destino             42000 non-null float64\n",
      "Complemento         54318 non-null object\n",
      "Debito              20595 non-null object\n",
      "Credito             33723 non-null object\n",
      "dtypes: float64(1), int64(1), object(7)\n",
      "memory usage: 4.1+ MB\n"
     ]
    }
   ],
   "source": [
    "r.info()"
   ]
  },
  {
   "cell_type": "code",
   "execution_count": 38,
   "metadata": {
    "collapsed": false
   },
   "outputs": [],
   "source": [
    "r.Credito = r.Credito.apply(o._sanitize_latin_float_)\n",
    "r.Debito = r.Debito.apply(o._sanitize_latin_float_)"
   ]
  },
  {
   "cell_type": "code",
   "execution_count": 43,
   "metadata": {
    "collapsed": false
   },
   "outputs": [],
   "source": [
    "r.Credito = r.Credito.convert_objects(convert_numeric=True)\n",
    "r.Debito = r.Debito.convert_objects(convert_numeric=True)"
   ]
  },
  {
   "cell_type": "code",
   "execution_count": 44,
   "metadata": {
    "collapsed": false,
    "scrolled": false
   },
   "outputs": [
    {
     "name": "stdout",
     "output_type": "stream",
     "text": [
      "<class 'pandas.core.frame.DataFrame'>\n",
      "Int64Index: 54318 entries, 3 to 63648\n",
      "Data columns (total 9 columns):\n",
      "Dia                 54318 non-null object\n",
      "Ano                 54318 non-null int64\n",
      "Remessa - Origem    54318 non-null object\n",
      "ContraPartida       54318 non-null object\n",
      "Lancto              54318 non-null object\n",
      "Destino             42000 non-null float64\n",
      "Complemento         54318 non-null object\n",
      "Debito              20595 non-null float64\n",
      "Credito             33722 non-null float64\n",
      "dtypes: float64(3), int64(1), object(5)\n",
      "memory usage: 4.1+ MB\n"
     ]
    }
   ],
   "source": [
    "r.info()"
   ]
  },
  {
   "cell_type": "code",
   "execution_count": 45,
   "metadata": {
    "collapsed": false
   },
   "outputs": [],
   "source": [
    "r.to_csv('table.csv', sep = '\\t', encoding='utf-8')"
   ]
  },
  {
   "cell_type": "markdown",
   "metadata": {},
   "source": [
    "## Iniciar daqui caso não precise manipular o arquivo em Excell"
   ]
  },
  {
   "cell_type": "code",
   "execution_count": 5,
   "metadata": {
    "collapsed": false
   },
   "outputs": [],
   "source": [
    "rr = pd.read_csv('table.csv', sep='\\t', index_col=1,dayfirst=True,parse_dates={'Data':[1,2]})"
   ]
  },
  {
   "cell_type": "code",
   "execution_count": 6,
   "metadata": {
    "collapsed": false
   },
   "outputs": [
    {
     "name": "stdout",
     "output_type": "stream",
     "text": [
      "<class 'pandas.core.frame.DataFrame'>\n",
      "Int64Index: 54333 entries, 3 to 63663\n",
      "Data columns (total 8 columns):\n",
      "Data                54333 non-null datetime64[ns]\n",
      "Remessa - Origem    54333 non-null object\n",
      "ContraPartida       54333 non-null object\n",
      "Lancto              54333 non-null object\n",
      "Destino             42015 non-null float64\n",
      "Complemento         54333 non-null object\n",
      "Debito              20600 non-null float64\n",
      "Credito             33732 non-null float64\n",
      "dtypes: datetime64[ns](1), float64(3), object(4)\n",
      "memory usage: 3.7+ MB\n"
     ]
    }
   ],
   "source": [
    "rr.info()"
   ]
  },
  {
   "cell_type": "code",
   "execution_count": 7,
   "metadata": {
    "collapsed": false
   },
   "outputs": [
    {
     "name": "stdout",
     "output_type": "stream",
     "text": [
      "Initialized sequence with 33732 registries.\n"
     ]
    }
   ],
   "source": [
    "b = o.Analysis(rr.Credito)"
   ]
  },
  {
   "cell_type": "code",
   "execution_count": 8,
   "metadata": {
    "collapsed": false
   },
   "outputs": [
    {
     "name": "stdout",
     "output_type": "stream",
     "text": [
      "<class 'ben_oop.Analysis'>\n",
      "Int64Index: 33732 entries, 13 to 63663\n",
      "Data columns (total 7 columns):\n",
      "Seq    33732 non-null float64\n",
      "ZN     33732 non-null int64\n",
      "F1D    33732 non-null int64\n",
      "SD     33732 non-null int64\n",
      "F2D    33732 non-null int64\n",
      "F3D    33732 non-null int64\n",
      "L2D    33732 non-null object\n",
      "dtypes: float64(1), int64(5), object(1)\n",
      "memory usage: 2.1+ MB\n"
     ]
    }
   ],
   "source": [
    "b.info()"
   ]
  },
  {
   "cell_type": "markdown",
   "metadata": {},
   "source": [
    "###  Mantissas"
   ]
  },
  {
   "cell_type": "code",
   "execution_count": 9,
   "metadata": {
    "collapsed": false
   },
   "outputs": [
    {
     "name": "stdout",
     "output_type": "stream",
     "text": [
      "The Mantissas MEAN is 0.498362635231. Ref: 0.5.\n",
      "The Mantissas VARIANCE is 0.0833405770397. Ref: 0.83333.\n"
     ]
    },
    {
     "data": {
      "image/png": "[encoded data removed]",
      "text/plain": [
       "<matplotlib.figure.Figure at 0x7fe0df048c90>"
      ]
     },
     "metadata": {},
     "output_type": "display_data"
    }
   ],
   "source": [
    "b.mantissas()"
   ]
  },
  {
   "cell_type": "code",
   "execution_count": 10,
   "metadata": {
    "collapsed": false
   },
   "outputs": [
    {
     "name": "stdout",
     "output_type": "stream",
     "text": [
      "<class 'ben_oop.Analysis'>\n",
      "Int64Index: 33732 entries, 13 to 63663\n",
      "Data columns (total 8 columns):\n",
      "Seq     33732 non-null float64\n",
      "ZN      33732 non-null int64\n",
      "F1D     33732 non-null int64\n",
      "SD      33732 non-null int64\n",
      "F2D     33732 non-null int64\n",
      "F3D     33732 non-null int64\n",
      "L2D     33732 non-null object\n",
      "Mant    33732 non-null float64\n",
      "dtypes: float64(2), int64(5), object(1)\n",
      "memory usage: 2.3+ MB\n"
     ]
    }
   ],
   "source": [
    "b.info()"
   ]
  },
  {
   "cell_type": "code",
   "execution_count": 11,
   "metadata": {
    "collapsed": false
   },
   "outputs": [
    {
     "data": {
      "text/html": [
       "<div>\n",
       "<table border=\"1\" class=\"dataframe\">\n",
       "  <thead>\n",
       "    <tr style=\"text-align: right;\">\n",
       "      <th></th>\n",
       "      <th>Seq</th>\n",
       "      <th>ZN</th>\n",
       "      <th>F1D</th>\n",
       "      <th>SD</th>\n",
       "      <th>F2D</th>\n",
       "      <th>F3D</th>\n",
       "      <th>L2D</th>\n",
       "      <th>Mant</th>\n",
       "    </tr>\n",
       "  </thead>\n",
       "  <tbody>\n",
       "    <tr>\n",
       "      <th>13</th>\n",
       "      <td>31980.00</td>\n",
       "      <td>3198000</td>\n",
       "      <td>3</td>\n",
       "      <td>1</td>\n",
       "      <td>31</td>\n",
       "      <td>319</td>\n",
       "      <td>00</td>\n",
       "      <td>0.504878</td>\n",
       "    </tr>\n",
       "    <tr>\n",
       "      <th>14</th>\n",
       "      <td>773446.87</td>\n",
       "      <td>77344687</td>\n",
       "      <td>7</td>\n",
       "      <td>7</td>\n",
       "      <td>77</td>\n",
       "      <td>773</td>\n",
       "      <td>87</td>\n",
       "      <td>0.888430</td>\n",
       "    </tr>\n",
       "    <tr>\n",
       "      <th>15</th>\n",
       "      <td>13659.00</td>\n",
       "      <td>1365900</td>\n",
       "      <td>1</td>\n",
       "      <td>3</td>\n",
       "      <td>13</td>\n",
       "      <td>136</td>\n",
       "      <td>00</td>\n",
       "      <td>0.135419</td>\n",
       "    </tr>\n",
       "    <tr>\n",
       "      <th>16</th>\n",
       "      <td>10726.00</td>\n",
       "      <td>1072600</td>\n",
       "      <td>1</td>\n",
       "      <td>0</td>\n",
       "      <td>10</td>\n",
       "      <td>107</td>\n",
       "      <td>00</td>\n",
       "      <td>0.030438</td>\n",
       "    </tr>\n",
       "    <tr>\n",
       "      <th>17</th>\n",
       "      <td>30253.32</td>\n",
       "      <td>3025332</td>\n",
       "      <td>3</td>\n",
       "      <td>0</td>\n",
       "      <td>30</td>\n",
       "      <td>302</td>\n",
       "      <td>32</td>\n",
       "      <td>0.480773</td>\n",
       "    </tr>\n",
       "  </tbody>\n",
       "</table>\n",
       "</div>"
      ],
      "text/plain": [
       "          Seq        ZN  F1D  SD  F2D  F3D L2D      Mant\n",
       "13   31980.00   3198000    3   1   31  319  00  0.504878\n",
       "14  773446.87  77344687    7   7   77  773  87  0.888430\n",
       "15   13659.00   1365900    1   3   13  136  00  0.135419\n",
       "16   10726.00   1072600    1   0   10  107  00  0.030438\n",
       "17   30253.32   3025332    3   0   30  302  32  0.480773"
      ]
     },
     "execution_count": 11,
     "metadata": {},
     "output_type": "execute_result"
    }
   ],
   "source": [
    "b.head()"
   ]
  },
  {
   "cell_type": "markdown",
   "metadata": {},
   "source": [
    "## Teste dos Dois Primeiros Dígitos"
   ]
  },
  {
   "cell_type": "code",
   "execution_count": 12,
   "metadata": {
    "collapsed": false
   },
   "outputs": [
    {
     "name": "stdout",
     "output_type": "stream",
     "text": [
      "\n",
      "---Test performed on 33732 registries.---\n",
      "\n",
      "\n",
      "The entries with the significant positive deviations are:\n",
      "\n",
      "             Expected     Found     Z_test\n",
      "First_2_Dig                               \n",
      "50           0.008600  0.013904  10.548942\n",
      "30           0.014240  0.019892   8.760910\n",
      "60           0.007179  0.010821   7.923301\n",
      "70           0.006160  0.009042   6.763755\n",
      "90           0.004799  0.006848   5.446065\n",
      "40           0.010724  0.013637   5.194367\n",
      "25           0.017033  0.020633   5.109644\n",
      "15           0.028029  0.031810   4.207075\n",
      "10           0.041393  0.045743   4.010985\n",
      "20           0.021189  0.024250   3.903283\n",
      "35           0.012234  0.014141   3.185078\n",
      "80           0.005395  0.006611   3.048576\n",
      "45           0.009545  0.011028   2.800832\n",
      "\n",
      "The Mean Absolute Deviation is 0.00103810167029\n",
      "\tFor the First Two Digits:\n",
      "\t- 0.0000 to 0.0012: Close Conformity\n",
      "\t- 0.0012 to 0.0018: Acceptable Conformity\n",
      "\t- 0.0018 to 0.0022: Marginally Acceptable Conformity\n",
      "\t- Above 0.0022: Nonconformity\n"
     ]
    },
    {
     "name": "stderr",
     "output_type": "stream",
     "text": [
      "/home/milcent/anaconda/lib/python2.7/site-packages/matplotlib/collections.py:590: FutureWarning: elementwise comparison failed; returning scalar instead, but in the future will perform elementwise comparison\n",
      "  if self._edgecolors == str('face'):\n"
     ]
    },
    {
     "data": {
      "image/png": "[encoded data removed]",
      "text/plain": [
       "<matplotlib.figure.Figure at 0x7fe0c79794d0>"
      ]
     },
     "metadata": {},
     "output_type": "display_data"
    }
   ],
   "source": [
    "b.firstDigits(2, conf_level=99, show_high_Z ='pos')\n"
   ]
  },
  {
   "cell_type": "code",
   "execution_count": 13,
   "metadata": {
    "collapsed": false
   },
   "outputs": [
    {
     "data": {
      "text/plain": [
       "{'F2D': array([50, 30, 60, 70, 90, 40, 25, 15, 10, 20, 35, 80, 45])}"
      ]
     },
     "execution_count": 13,
     "metadata": {},
     "output_type": "execute_result"
    }
   ],
   "source": [
    "b.maps"
   ]
  },
  {
   "cell_type": "code",
   "execution_count": 14,
   "metadata": {
    "collapsed": false
   },
   "outputs": [
    {
     "name": "stdout",
     "output_type": "stream",
     "text": [
      "\n",
      "---Test performed on 33732 registries.---\n",
      "\n",
      "\n",
      "The entries with the significant positive deviations are:\n",
      "\n",
      "         Expected     Found     Z_test\n",
      "Sec_Dig                               \n",
      "0        0.119679  0.150866  17.646398\n",
      "5        0.096677  0.109095   7.717713\n",
      "\n",
      "The Mean Absolute Deviation is 0.00872087272386\n",
      "\tFor the Second Digits:\n",
      "\t- 0.0000 to 0.0008: Close Conformity\n",
      "\t- 0.0008 to 0.0010: Acceptable Conformity\n",
      "\t- 0.0010 to 0.0012: Marginally Acceptable Conformity\n",
      "\t- Above 0.0012: Nonconformity\n"
     ]
    },
    {
     "data": {
      "image/png": "[encoded data removed]",
      "text/plain": [
       "<matplotlib.figure.Figure at 0x7fe0c77f3150>"
      ]
     },
     "metadata": {},
     "output_type": "display_data"
    }
   ],
   "source": [
    "b.secondDigit(show_high_Z='pos')"
   ]
  },
  {
   "cell_type": "code",
   "execution_count": 16,
   "metadata": {
    "collapsed": false
   },
   "outputs": [
    {
     "name": "stdout",
     "output_type": "stream",
     "text": [
      "\n",
      "---Test performed on 33732 registries.---\n",
      "\n",
      "\n",
      "The entries with the significant positive deviations are:\n",
      "\n",
      "            Expected     Found      Z_test\n",
      "Last_2_Dig                                \n",
      "00          0.010101  0.295921  524.971201\n",
      "50          0.010101  0.025851   28.928015\n",
      "40          0.010101  0.015475    9.870373\n",
      "80          0.010101  0.015267    9.489221\n",
      "20          0.010101  0.014615    8.291312\n",
      "60          0.010101  0.014586    8.236861\n",
      "90          0.010101  0.012244    3.935279\n",
      "10          0.010101  0.011858    3.227424\n"
     ]
    },
    {
     "data": {
      "image/png": "[encoded data removed]",
      "text/plain": [
       "<matplotlib.figure.Figure at 0x7fe0c7350d90>"
      ]
     },
     "metadata": {},
     "output_type": "display_data"
    }
   ],
   "source": [
    "b.lastTwoDigits()"
   ]
  },
  {
   "cell_type": "code",
   "execution_count": 17,
   "metadata": {
    "collapsed": false
   },
   "outputs": [
    {
     "data": {
      "text/plain": [
       "{'F2D': array([50, 30, 60, 70, 90, 40, 25, 15, 10, 20, 35, 80, 45]),\n",
       " 'LTD': array([ 0, 50, 40, 80, 20, 60, 90, 10]),\n",
       " 'SD': array([0, 5])}"
      ]
     },
     "execution_count": 17,
     "metadata": {},
     "output_type": "execute_result"
    }
   ],
   "source": [
    "b.maps"
   ]
  },
  {
   "cell_type": "code",
   "execution_count": 50,
   "metadata": {
    "collapsed": false
   },
   "outputs": [
    {
     "data": {
      "text/html": [
       "<div>\n",
       "<table border=\"1\" class=\"dataframe\">\n",
       "  <thead>\n",
       "    <tr style=\"text-align: right;\">\n",
       "      <th></th>\n",
       "      <th>Seq</th>\n",
       "      <th>ZN</th>\n",
       "      <th>FD</th>\n",
       "      <th>SD</th>\n",
       "      <th>FTD</th>\n",
       "      <th>LTD</th>\n",
       "    </tr>\n",
       "  </thead>\n",
       "  <tbody>\n",
       "    <tr>\n",
       "      <th>13</th>\n",
       "      <td>31980.00</td>\n",
       "      <td>3198000</td>\n",
       "      <td>3</td>\n",
       "      <td>1</td>\n",
       "      <td>31</td>\n",
       "      <td>00</td>\n",
       "    </tr>\n",
       "    <tr>\n",
       "      <th>14</th>\n",
       "      <td>773446.87</td>\n",
       "      <td>77344687</td>\n",
       "      <td>7</td>\n",
       "      <td>7</td>\n",
       "      <td>77</td>\n",
       "      <td>87</td>\n",
       "    </tr>\n",
       "    <tr>\n",
       "      <th>15</th>\n",
       "      <td>13659.00</td>\n",
       "      <td>1365900</td>\n",
       "      <td>1</td>\n",
       "      <td>3</td>\n",
       "      <td>13</td>\n",
       "      <td>00</td>\n",
       "    </tr>\n",
       "    <tr>\n",
       "      <th>16</th>\n",
       "      <td>10726.00</td>\n",
       "      <td>1072600</td>\n",
       "      <td>1</td>\n",
       "      <td>0</td>\n",
       "      <td>10</td>\n",
       "      <td>00</td>\n",
       "    </tr>\n",
       "    <tr>\n",
       "      <th>17</th>\n",
       "      <td>30253.32</td>\n",
       "      <td>3025332</td>\n",
       "      <td>3</td>\n",
       "      <td>0</td>\n",
       "      <td>30</td>\n",
       "      <td>32</td>\n",
       "    </tr>\n",
       "  </tbody>\n",
       "</table>\n",
       "</div>"
      ],
      "text/plain": [
       "          Seq        ZN  FD  SD  FTD LTD\n",
       "13   31980.00   3198000   3   1   31  00\n",
       "14  773446.87  77344687   7   7   77  87\n",
       "15   13659.00   1365900   1   3   13  00\n",
       "16   10726.00   1072600   1   0   10  00\n",
       "17   30253.32   3025332   3   0   30  32"
      ]
     },
     "execution_count": 50,
     "metadata": {},
     "output_type": "execute_result"
    }
   ],
   "source": [
    "bb =b.copy()\n",
    "bb.head()"
   ]
  },
  {
   "cell_type": "code",
   "execution_count": 71,
   "metadata": {
    "collapsed": false
   },
   "outputs": [],
   "source": [
    "e = bb.FTD == 30\n",
    "u = bb.FTD ==50\n",
    "e|u"
   ]
  },
  {
   "cell_type": "code",
   "execution_count": 51,
   "metadata": {
    "collapsed": false
   },
   "outputs": [],
   "source": [
    "bb['Ord']=np.nan\n",
    "for n,i in enumerate(b.maps['FTD']):\n",
    "    bb.Ord.loc[bb.FTD==i]=n"
   ]
  },
  {
   "cell_type": "code",
   "execution_count": 53,
   "metadata": {
    "collapsed": false
   },
   "outputs": [
    {
     "data": {
      "text/html": [
       "<div>\n",
       "<table border=\"1\" class=\"dataframe\">\n",
       "  <thead>\n",
       "    <tr style=\"text-align: right;\">\n",
       "      <th></th>\n",
       "      <th>Seq</th>\n",
       "      <th>ZN</th>\n",
       "      <th>FD</th>\n",
       "      <th>SD</th>\n",
       "      <th>FTD</th>\n",
       "      <th>LTD</th>\n",
       "      <th>Ord</th>\n",
       "    </tr>\n",
       "  </thead>\n",
       "  <tbody>\n",
       "    <tr>\n",
       "      <th>13</th>\n",
       "      <td>31980.00</td>\n",
       "      <td>3198000</td>\n",
       "      <td>3</td>\n",
       "      <td>1</td>\n",
       "      <td>31</td>\n",
       "      <td>00</td>\n",
       "      <td>NaN</td>\n",
       "    </tr>\n",
       "    <tr>\n",
       "      <th>14</th>\n",
       "      <td>773446.87</td>\n",
       "      <td>77344687</td>\n",
       "      <td>7</td>\n",
       "      <td>7</td>\n",
       "      <td>77</td>\n",
       "      <td>87</td>\n",
       "      <td>NaN</td>\n",
       "    </tr>\n",
       "    <tr>\n",
       "      <th>15</th>\n",
       "      <td>13659.00</td>\n",
       "      <td>1365900</td>\n",
       "      <td>1</td>\n",
       "      <td>3</td>\n",
       "      <td>13</td>\n",
       "      <td>00</td>\n",
       "      <td>NaN</td>\n",
       "    </tr>\n",
       "    <tr>\n",
       "      <th>16</th>\n",
       "      <td>10726.00</td>\n",
       "      <td>1072600</td>\n",
       "      <td>1</td>\n",
       "      <td>0</td>\n",
       "      <td>10</td>\n",
       "      <td>00</td>\n",
       "      <td>NaN</td>\n",
       "    </tr>\n",
       "    <tr>\n",
       "      <th>17</th>\n",
       "      <td>30253.32</td>\n",
       "      <td>3025332</td>\n",
       "      <td>3</td>\n",
       "      <td>0</td>\n",
       "      <td>30</td>\n",
       "      <td>32</td>\n",
       "      <td>1</td>\n",
       "    </tr>\n",
       "  </tbody>\n",
       "</table>\n",
       "</div>"
      ],
      "text/plain": [
       "          Seq        ZN  FD  SD  FTD LTD  Ord\n",
       "13   31980.00   3198000   3   1   31  00  NaN\n",
       "14  773446.87  77344687   7   7   77  87  NaN\n",
       "15   13659.00   1365900   1   3   13  00  NaN\n",
       "16   10726.00   1072600   1   0   10  00  NaN\n",
       "17   30253.32   3025332   3   0   30  32    1"
      ]
     },
     "execution_count": 53,
     "metadata": {},
     "output_type": "execute_result"
    }
   ],
   "source": [
    "bb.head()"
   ]
  },
  {
   "cell_type": "code",
   "execution_count": 54,
   "metadata": {
    "collapsed": false
   },
   "outputs": [
    {
     "data": {
      "text/html": [
       "<div>\n",
       "<table border=\"1\" class=\"dataframe\">\n",
       "  <thead>\n",
       "    <tr style=\"text-align: right;\">\n",
       "      <th></th>\n",
       "      <th>Seq</th>\n",
       "      <th>ZN</th>\n",
       "      <th>FD</th>\n",
       "      <th>SD</th>\n",
       "      <th>FTD</th>\n",
       "      <th>LTD</th>\n",
       "      <th>Ord</th>\n",
       "    </tr>\n",
       "  </thead>\n",
       "  <tbody>\n",
       "    <tr>\n",
       "      <th>17</th>\n",
       "      <td>30253.32</td>\n",
       "      <td>3025332</td>\n",
       "      <td>3</td>\n",
       "      <td>0</td>\n",
       "      <td>30</td>\n",
       "      <td>32</td>\n",
       "      <td>1</td>\n",
       "    </tr>\n",
       "    <tr>\n",
       "      <th>41</th>\n",
       "      <td>30.00</td>\n",
       "      <td>3000</td>\n",
       "      <td>3</td>\n",
       "      <td>0</td>\n",
       "      <td>30</td>\n",
       "      <td>00</td>\n",
       "      <td>1</td>\n",
       "    </tr>\n",
       "    <tr>\n",
       "      <th>44</th>\n",
       "      <td>30.00</td>\n",
       "      <td>3000</td>\n",
       "      <td>3</td>\n",
       "      <td>0</td>\n",
       "      <td>30</td>\n",
       "      <td>00</td>\n",
       "      <td>1</td>\n",
       "    </tr>\n",
       "    <tr>\n",
       "      <th>153</th>\n",
       "      <td>50224.00</td>\n",
       "      <td>5022400</td>\n",
       "      <td>5</td>\n",
       "      <td>0</td>\n",
       "      <td>50</td>\n",
       "      <td>00</td>\n",
       "      <td>0</td>\n",
       "    </tr>\n",
       "    <tr>\n",
       "      <th>188</th>\n",
       "      <td>500.00</td>\n",
       "      <td>50000</td>\n",
       "      <td>5</td>\n",
       "      <td>0</td>\n",
       "      <td>50</td>\n",
       "      <td>00</td>\n",
       "      <td>0</td>\n",
       "    </tr>\n",
       "  </tbody>\n",
       "</table>\n",
       "</div>"
      ],
      "text/plain": [
       "          Seq       ZN  FD  SD  FTD LTD  Ord\n",
       "17   30253.32  3025332   3   0   30  32    1\n",
       "41      30.00     3000   3   0   30  00    1\n",
       "44      30.00     3000   3   0   30  00    1\n",
       "153  50224.00  5022400   5   0   50  00    0\n",
       "188    500.00    50000   5   0   50  00    0"
      ]
     },
     "execution_count": 54,
     "metadata": {},
     "output_type": "execute_result"
    }
   ],
   "source": [
    "bb = bb.dropna()\n",
    "bb.head()"
   ]
  },
  {
   "cell_type": "code",
   "execution_count": 55,
   "metadata": {
    "collapsed": false
   },
   "outputs": [],
   "source": [
    "bb = bb[['Seq','Ord']].sort('Ord')"
   ]
  },
  {
   "cell_type": "code",
   "execution_count": 57,
   "metadata": {
    "collapsed": false
   },
   "outputs": [
    {
     "data": {
      "text/html": [
       "<div>\n",
       "<table border=\"1\" class=\"dataframe\">\n",
       "  <thead>\n",
       "    <tr style=\"text-align: right;\">\n",
       "      <th></th>\n",
       "      <th>Seq</th>\n",
       "      <th>Ord</th>\n",
       "      <th>Data</th>\n",
       "      <th>Remessa - Origem</th>\n",
       "      <th>ContraPartida</th>\n",
       "      <th>Lancto</th>\n",
       "      <th>Destino</th>\n",
       "      <th>Complemento</th>\n",
       "      <th>Debito</th>\n",
       "      <th>Credito</th>\n",
       "    </tr>\n",
       "  </thead>\n",
       "  <tbody>\n",
       "    <tr>\n",
       "      <th>27095</th>\n",
       "      <td>500.0</td>\n",
       "      <td>0</td>\n",
       "      <td>2008-04-10</td>\n",
       "      <td>002655-CP001</td>\n",
       "      <td>8.1.7.99.00.0 654.4</td>\n",
       "      <td>00019 0008055405-02</td>\n",
       "      <td>19</td>\n",
       "      <td>INTEGRACAO CONTAS A PAGAR  Desp. Buscas Apreen...</td>\n",
       "      <td>NaN</td>\n",
       "      <td>500.0</td>\n",
       "    </tr>\n",
       "    <tr>\n",
       "      <th>41549</th>\n",
       "      <td>50.0</td>\n",
       "      <td>0</td>\n",
       "      <td>2009-02-25</td>\n",
       "      <td>002876-CP001</td>\n",
       "      <td>8.1.7.75.00.0 604.3</td>\n",
       "      <td>00019 0009123124-02</td>\n",
       "      <td>19</td>\n",
       "      <td>INTEGRACAO CONTAS A PAGAR  Ajuda De Custo - Vi...</td>\n",
       "      <td>NaN</td>\n",
       "      <td>50.0</td>\n",
       "    </tr>\n",
       "    <tr>\n",
       "      <th>41432</th>\n",
       "      <td>500.0</td>\n",
       "      <td>0</td>\n",
       "      <td>2009-02-19</td>\n",
       "      <td>002874-CP001</td>\n",
       "      <td>8.1.7.75.00.0 604.3</td>\n",
       "      <td>00019 0009113788-02</td>\n",
       "      <td>19</td>\n",
       "      <td>INTEGRACAO CONTAS A PAGAR  Ajuda De Custo - Vi...</td>\n",
       "      <td>NaN</td>\n",
       "      <td>500.0</td>\n",
       "    </tr>\n",
       "    <tr>\n",
       "      <th>41407</th>\n",
       "      <td>505.1</td>\n",
       "      <td>0</td>\n",
       "      <td>2009-02-19</td>\n",
       "      <td>002717-ERP-CSC</td>\n",
       "      <td>8.1.7.42.00.2 412.9</td>\n",
       "      <td>00019 0009116002-02</td>\n",
       "      <td>NaN</td>\n",
       "      <td>INTEGRAÇÃO ERP-ORACLE  ORACLE EBS</td>\n",
       "      <td>NaN</td>\n",
       "      <td>505.1</td>\n",
       "    </tr>\n",
       "    <tr>\n",
       "      <th>15382</th>\n",
       "      <td>50228.0</td>\n",
       "      <td>0</td>\n",
       "      <td>2007-08-23</td>\n",
       "      <td>002500-CP001</td>\n",
       "      <td>8.1.7.57.00.4 492.3</td>\n",
       "      <td>00019 0005658812-02</td>\n",
       "      <td>19</td>\n",
       "      <td>INTEGRACAO CONTAS A PAGAR  Servicos Graficos</td>\n",
       "      <td>NaN</td>\n",
       "      <td>50228.0</td>\n",
       "    </tr>\n",
       "  </tbody>\n",
       "</table>\n",
       "</div>"
      ],
      "text/plain": [
       "           Seq  Ord       Data Remessa - Origem        ContraPartida  \\\n",
       "27095    500.0    0 2008-04-10     002655-CP001  8.1.7.99.00.0 654.4   \n",
       "41549     50.0    0 2009-02-25     002876-CP001  8.1.7.75.00.0 604.3   \n",
       "41432    500.0    0 2009-02-19     002874-CP001  8.1.7.75.00.0 604.3   \n",
       "41407    505.1    0 2009-02-19   002717-ERP-CSC  8.1.7.42.00.2 412.9   \n",
       "15382  50228.0    0 2007-08-23     002500-CP001  8.1.7.57.00.4 492.3   \n",
       "\n",
       "                    Lancto  Destino  \\\n",
       "27095  00019 0008055405-02       19   \n",
       "41549  00019 0009123124-02       19   \n",
       "41432  00019 0009113788-02       19   \n",
       "41407  00019 0009116002-02      NaN   \n",
       "15382  00019 0005658812-02       19   \n",
       "\n",
       "                                             Complemento  Debito  Credito  \n",
       "27095  INTEGRACAO CONTAS A PAGAR  Desp. Buscas Apreen...     NaN    500.0  \n",
       "41549  INTEGRACAO CONTAS A PAGAR  Ajuda De Custo - Vi...     NaN     50.0  \n",
       "41432  INTEGRACAO CONTAS A PAGAR  Ajuda De Custo - Vi...     NaN    500.0  \n",
       "41407                  INTEGRAÇÃO ERP-ORACLE  ORACLE EBS     NaN    505.1  \n",
       "15382       INTEGRACAO CONTAS A PAGAR  Servicos Graficos     NaN  50228.0  "
      ]
     },
     "execution_count": 57,
     "metadata": {},
     "output_type": "execute_result"
    }
   ],
   "source": [
    "dd = bb.join(rr)\n",
    "dd.head()"
   ]
  },
  {
   "cell_type": "code",
   "execution_count": 59,
   "metadata": {
    "collapsed": false,
    "scrolled": false
   },
   "outputs": [
    {
     "data": {
      "text/html": [
       "<div>\n",
       "<table border=\"1\" class=\"dataframe\">\n",
       "  <thead>\n",
       "    <tr style=\"text-align: right;\">\n",
       "      <th></th>\n",
       "      <th>Seq</th>\n",
       "      <th>Ord</th>\n",
       "      <th>Data</th>\n",
       "      <th>Remessa - Origem</th>\n",
       "      <th>ContraPartida</th>\n",
       "      <th>Lancto</th>\n",
       "      <th>Destino</th>\n",
       "      <th>Complemento</th>\n",
       "      <th>Debito</th>\n",
       "      <th>Credito</th>\n",
       "    </tr>\n",
       "  </thead>\n",
       "  <tbody>\n",
       "    <tr>\n",
       "      <th>27095</th>\n",
       "      <td>500.00</td>\n",
       "      <td>0</td>\n",
       "      <td>2008-04-10</td>\n",
       "      <td>002655-CP001</td>\n",
       "      <td>8.1.7.99.00.0 654.4</td>\n",
       "      <td>00019 0008055405-02</td>\n",
       "      <td>19</td>\n",
       "      <td>INTEGRACAO CONTAS A PAGAR  Desp. Buscas Apreen...</td>\n",
       "      <td>NaN</td>\n",
       "      <td>500.00</td>\n",
       "    </tr>\n",
       "    <tr>\n",
       "      <th>41549</th>\n",
       "      <td>50.00</td>\n",
       "      <td>0</td>\n",
       "      <td>2009-02-25</td>\n",
       "      <td>002876-CP001</td>\n",
       "      <td>8.1.7.75.00.0 604.3</td>\n",
       "      <td>00019 0009123124-02</td>\n",
       "      <td>19</td>\n",
       "      <td>INTEGRACAO CONTAS A PAGAR  Ajuda De Custo - Vi...</td>\n",
       "      <td>NaN</td>\n",
       "      <td>50.00</td>\n",
       "    </tr>\n",
       "    <tr>\n",
       "      <th>41432</th>\n",
       "      <td>500.00</td>\n",
       "      <td>0</td>\n",
       "      <td>2009-02-19</td>\n",
       "      <td>002874-CP001</td>\n",
       "      <td>8.1.7.75.00.0 604.3</td>\n",
       "      <td>00019 0009113788-02</td>\n",
       "      <td>19</td>\n",
       "      <td>INTEGRACAO CONTAS A PAGAR  Ajuda De Custo - Vi...</td>\n",
       "      <td>NaN</td>\n",
       "      <td>500.00</td>\n",
       "    </tr>\n",
       "    <tr>\n",
       "      <th>41407</th>\n",
       "      <td>505.10</td>\n",
       "      <td>0</td>\n",
       "      <td>2009-02-19</td>\n",
       "      <td>002717-ERP-CSC</td>\n",
       "      <td>8.1.7.42.00.2 412.9</td>\n",
       "      <td>00019 0009116002-02</td>\n",
       "      <td>NaN</td>\n",
       "      <td>INTEGRAÇÃO ERP-ORACLE  ORACLE EBS</td>\n",
       "      <td>NaN</td>\n",
       "      <td>505.10</td>\n",
       "    </tr>\n",
       "    <tr>\n",
       "      <th>15382</th>\n",
       "      <td>50228.00</td>\n",
       "      <td>0</td>\n",
       "      <td>2007-08-23</td>\n",
       "      <td>002500-CP001</td>\n",
       "      <td>8.1.7.57.00.4 492.3</td>\n",
       "      <td>00019 0005658812-02</td>\n",
       "      <td>19</td>\n",
       "      <td>INTEGRACAO CONTAS A PAGAR  Servicos Graficos</td>\n",
       "      <td>NaN</td>\n",
       "      <td>50228.00</td>\n",
       "    </tr>\n",
       "    <tr>\n",
       "      <th>41375</th>\n",
       "      <td>50600.00</td>\n",
       "      <td>0</td>\n",
       "      <td>2009-02-18</td>\n",
       "      <td>002873-CP001</td>\n",
       "      <td>8.1.7.06.00.0 270.6</td>\n",
       "      <td>00019 0009106108-02</td>\n",
       "      <td>19</td>\n",
       "      <td>INTEGRACAO CONTAS A PAGAR  Alugueis De Imoveis</td>\n",
       "      <td>NaN</td>\n",
       "      <td>50600.00</td>\n",
       "    </tr>\n",
       "    <tr>\n",
       "      <th>41336</th>\n",
       "      <td>5083.22</td>\n",
       "      <td>0</td>\n",
       "      <td>2009-02-17</td>\n",
       "      <td>002872-CP001</td>\n",
       "      <td>8.1.7.57.00.4 521.0</td>\n",
       "      <td>00019 0009105004-02</td>\n",
       "      <td>19</td>\n",
       "      <td>INTEGRACAO CONTAS A PAGAR  Comissao - Franquias</td>\n",
       "      <td>NaN</td>\n",
       "      <td>5083.22</td>\n",
       "    </tr>\n",
       "    <tr>\n",
       "      <th>42273</th>\n",
       "      <td>5.09</td>\n",
       "      <td>0</td>\n",
       "      <td>2009-03-16</td>\n",
       "      <td>002891-CP001</td>\n",
       "      <td>4.9.4.20.10.8 113.3</td>\n",
       "      <td>00019 0009192247-02</td>\n",
       "      <td>19</td>\n",
       "      <td>INTEGRACAO CONTAS A PAGAR  CONTR. SOCIAL S/ LU...</td>\n",
       "      <td>NaN</td>\n",
       "      <td>5.09</td>\n",
       "    </tr>\n",
       "    <tr>\n",
       "      <th>15511</th>\n",
       "      <td>501452.93</td>\n",
       "      <td>0</td>\n",
       "      <td>2007-08-27</td>\n",
       "      <td>002502-CP001</td>\n",
       "      <td>8.1.7.12.00.1 280.0</td>\n",
       "      <td>00019 0005678697-02</td>\n",
       "      <td>19</td>\n",
       "      <td>INTEGRACAO CONTAS A PAGAR  Correios Telegr.selos</td>\n",
       "      <td>NaN</td>\n",
       "      <td>501452.93</td>\n",
       "    </tr>\n",
       "    <tr>\n",
       "      <th>15814</th>\n",
       "      <td>502.08</td>\n",
       "      <td>0</td>\n",
       "      <td>2007-08-31</td>\n",
       "      <td>002506-CP001</td>\n",
       "      <td>8.1.7.99.00.0 645.5</td>\n",
       "      <td>00019 0005709873-02</td>\n",
       "      <td>19</td>\n",
       "      <td>INTEGRACAO CONTAS A PAGAR  Txs e Emol Judiciai...</td>\n",
       "      <td>NaN</td>\n",
       "      <td>502.08</td>\n",
       "    </tr>\n",
       "    <tr>\n",
       "      <th>15896</th>\n",
       "      <td>50649.97</td>\n",
       "      <td>0</td>\n",
       "      <td>2007-09-03</td>\n",
       "      <td>002507-CP001</td>\n",
       "      <td>8.1.9.99.00.6 100.2</td>\n",
       "      <td>00019 0005713901-02</td>\n",
       "      <td>19</td>\n",
       "      <td>INTEGRACAO CONTAS A PAGAR  desp veiculos apree...</td>\n",
       "      <td>NaN</td>\n",
       "      <td>50649.97</td>\n",
       "    </tr>\n",
       "    <tr>\n",
       "      <th>40275</th>\n",
       "      <td>5009.90</td>\n",
       "      <td>0</td>\n",
       "      <td>2009-01-21</td>\n",
       "      <td>002853-CP001</td>\n",
       "      <td>8.1.7.12.00.1 280.0</td>\n",
       "      <td>00019 0009009093-02</td>\n",
       "      <td>19</td>\n",
       "      <td>INTEGRACAO CONTAS A PAGAR  Correios Telegr.selos</td>\n",
       "      <td>NaN</td>\n",
       "      <td>5009.90</td>\n",
       "    </tr>\n",
       "    <tr>\n",
       "      <th>40194</th>\n",
       "      <td>50123.23</td>\n",
       "      <td>0</td>\n",
       "      <td>2009-01-20</td>\n",
       "      <td>002693-ERP-CSC</td>\n",
       "      <td>8.1.7.99.00.0 664.1</td>\n",
       "      <td>00019 0009009828-02</td>\n",
       "      <td>NaN</td>\n",
       "      <td>INTEGRAÇÃO ERP-ORACLE  ORACLE EBS</td>\n",
       "      <td>NaN</td>\n",
       "      <td>50123.23</td>\n",
       "    </tr>\n",
       "    <tr>\n",
       "      <th>16373</th>\n",
       "      <td>50288.62</td>\n",
       "      <td>0</td>\n",
       "      <td>2007-09-12</td>\n",
       "      <td>002513-CP001</td>\n",
       "      <td>8.1.7.57.00.4 521.0</td>\n",
       "      <td>00019 0005767720-02</td>\n",
       "      <td>19</td>\n",
       "      <td>INTEGRACAO CONTAS A PAGAR  Comissao - Franquias</td>\n",
       "      <td>NaN</td>\n",
       "      <td>50288.62</td>\n",
       "    </tr>\n",
       "    <tr>\n",
       "      <th>16376</th>\n",
       "      <td>5000.00</td>\n",
       "      <td>0</td>\n",
       "      <td>2007-09-12</td>\n",
       "      <td>002513-CP001</td>\n",
       "      <td>8.1.7.63.00.5 531.4</td>\n",
       "      <td>00019 0005767723-02</td>\n",
       "      <td>19</td>\n",
       "      <td>INTEGRACAO CONTAS A PAGAR  honorários instituc...</td>\n",
       "      <td>NaN</td>\n",
       "      <td>5000.00</td>\n",
       "    </tr>\n",
       "    <tr>\n",
       "      <th>41244</th>\n",
       "      <td>50.10</td>\n",
       "      <td>0</td>\n",
       "      <td>2009-02-13</td>\n",
       "      <td>002873-CP001</td>\n",
       "      <td>4.9.9.30.50.2 650.4</td>\n",
       "      <td>00019 0009106106-02</td>\n",
       "      <td>19</td>\n",
       "      <td>INTEGRACAO CONTAS A PAGAR  Imp. Renda Retido N...</td>\n",
       "      <td>NaN</td>\n",
       "      <td>50.10</td>\n",
       "    </tr>\n",
       "    <tr>\n",
       "      <th>16573</th>\n",
       "      <td>50099.82</td>\n",
       "      <td>0</td>\n",
       "      <td>2007-09-17</td>\n",
       "      <td>002516-CP001</td>\n",
       "      <td>8.1.7.99.00.0 664.1</td>\n",
       "      <td>00019 0005800504-02</td>\n",
       "      <td>19</td>\n",
       "      <td>INTEGRACAO CONTAS A PAGAR  Pgto judic. acões d...</td>\n",
       "      <td>NaN</td>\n",
       "      <td>50099.82</td>\n",
       "    </tr>\n",
       "    <tr>\n",
       "      <th>42348</th>\n",
       "      <td>509.29</td>\n",
       "      <td>0</td>\n",
       "      <td>2009-03-18</td>\n",
       "      <td>002891-CP001</td>\n",
       "      <td>1.9.9.10.00.2 810.7</td>\n",
       "      <td>00019 0009192245-02</td>\n",
       "      <td>19</td>\n",
       "      <td>INTEGRACAO CONTAS A PAGAR  FRANQUIAS</td>\n",
       "      <td>NaN</td>\n",
       "      <td>509.29</td>\n",
       "    </tr>\n",
       "    <tr>\n",
       "      <th>42784</th>\n",
       "      <td>5073.50</td>\n",
       "      <td>0</td>\n",
       "      <td>2009-03-31</td>\n",
       "      <td>002902-CP001</td>\n",
       "      <td>4.9.9.92.00.7 738.7</td>\n",
       "      <td>00019 0009247762-02</td>\n",
       "      <td>19</td>\n",
       "      <td>INTEGRACAO CONTAS A PAGAR  Cheque Banco</td>\n",
       "      <td>NaN</td>\n",
       "      <td>5073.50</td>\n",
       "    </tr>\n",
       "    <tr>\n",
       "      <th>14015</th>\n",
       "      <td>5000.00</td>\n",
       "      <td>0</td>\n",
       "      <td>2007-07-27</td>\n",
       "      <td>002481-CP001</td>\n",
       "      <td>8.1.7.63.00.5 531.4</td>\n",
       "      <td>00019 0005513611-02</td>\n",
       "      <td>19</td>\n",
       "      <td>INTEGRACAO CONTAS A PAGAR  honorários instituc...</td>\n",
       "      <td>NaN</td>\n",
       "      <td>5000.00</td>\n",
       "    </tr>\n",
       "    <tr>\n",
       "      <th>43663</th>\n",
       "      <td>5000.00</td>\n",
       "      <td>0</td>\n",
       "      <td>2009-04-30</td>\n",
       "      <td>002774-ERP-CSC</td>\n",
       "      <td>8.1.7.69.00.9 330.1</td>\n",
       "      <td>00019 0009333243-02</td>\n",
       "      <td>NaN</td>\n",
       "      <td>INTEGRAÇÃO ERP-ORACLE  ORACLE EBS</td>\n",
       "      <td>NaN</td>\n",
       "      <td>5000.00</td>\n",
       "    </tr>\n",
       "    <tr>\n",
       "      <th>43651</th>\n",
       "      <td>50700.00</td>\n",
       "      <td>0</td>\n",
       "      <td>2009-04-30</td>\n",
       "      <td>001860-DEWIN001</td>\n",
       "      <td>8.1.7.12.00.1 285.0</td>\n",
       "      <td>00019 0009336181-02</td>\n",
       "      <td>NaN</td>\n",
       "      <td>ACERTO DE C.R.  PROV. DESP. CELULAR</td>\n",
       "      <td>NaN</td>\n",
       "      <td>50700.00</td>\n",
       "    </tr>\n",
       "    <tr>\n",
       "      <th>43622</th>\n",
       "      <td>50.01</td>\n",
       "      <td>0</td>\n",
       "      <td>2009-04-29</td>\n",
       "      <td>002775-ERP-CSC</td>\n",
       "      <td>8.1.7.99.00.0 640.4</td>\n",
       "      <td>00019 0009367844-02</td>\n",
       "      <td>NaN</td>\n",
       "      <td>INTEGRAÇÃO ERP-ORACLE  ORACLE EBS</td>\n",
       "      <td>NaN</td>\n",
       "      <td>50.01</td>\n",
       "    </tr>\n",
       "    <tr>\n",
       "      <th>14158</th>\n",
       "      <td>5.00</td>\n",
       "      <td>0</td>\n",
       "      <td>2007-07-31</td>\n",
       "      <td>002483-CP001</td>\n",
       "      <td>8.1.7.99.00.0 638.2</td>\n",
       "      <td>00019 0005531488-02</td>\n",
       "      <td>19</td>\n",
       "      <td>INTEGRACAO CONTAS A PAGAR  Jornais E Revistas ...</td>\n",
       "      <td>NaN</td>\n",
       "      <td>5.00</td>\n",
       "    </tr>\n",
       "    <tr>\n",
       "      <th>14165</th>\n",
       "      <td>50710.75</td>\n",
       "      <td>0</td>\n",
       "      <td>2007-07-31</td>\n",
       "      <td>002483-CP001</td>\n",
       "      <td>8.1.7.99.00.0 664.1</td>\n",
       "      <td>00019 0005531496-02</td>\n",
       "      <td>19</td>\n",
       "      <td>INTEGRACAO CONTAS A PAGAR  Pgto judic. acões d...</td>\n",
       "      <td>NaN</td>\n",
       "      <td>50710.75</td>\n",
       "    </tr>\n",
       "    <tr>\n",
       "      <th>42415</th>\n",
       "      <td>507535.88</td>\n",
       "      <td>0</td>\n",
       "      <td>2009-03-20</td>\n",
       "      <td>002739-ERP-CSC</td>\n",
       "      <td>4.9.4.20.10.8 318.7</td>\n",
       "      <td>00019 0009201119-02</td>\n",
       "      <td>NaN</td>\n",
       "      <td>INTEGRAÇÃO ERP-ORACLE  ORACLE EBS</td>\n",
       "      <td>NaN</td>\n",
       "      <td>507535.88</td>\n",
       "    </tr>\n",
       "    <tr>\n",
       "      <th>14244</th>\n",
       "      <td>505.34</td>\n",
       "      <td>0</td>\n",
       "      <td>2007-08-01</td>\n",
       "      <td>002484-CP001</td>\n",
       "      <td>8.1.7.75.00.0 603.5</td>\n",
       "      <td>00019 0005538974-02</td>\n",
       "      <td>19</td>\n",
       "      <td>INTEGRACAO CONTAS A PAGAR  Despesas Viagens Ou...</td>\n",
       "      <td>NaN</td>\n",
       "      <td>505.34</td>\n",
       "    </tr>\n",
       "    <tr>\n",
       "      <th>14324</th>\n",
       "      <td>50745.00</td>\n",
       "      <td>0</td>\n",
       "      <td>2007-08-02</td>\n",
       "      <td>002485-CP001</td>\n",
       "      <td>8.1.7.39.00.8 380.7</td>\n",
       "      <td>00019 0005545150-02</td>\n",
       "      <td>19</td>\n",
       "      <td>INTEGRACAO CONTAS A PAGAR  Aluguel de Equip de...</td>\n",
       "      <td>NaN</td>\n",
       "      <td>50745.00</td>\n",
       "    </tr>\n",
       "    <tr>\n",
       "      <th>43610</th>\n",
       "      <td>5000.00</td>\n",
       "      <td>0</td>\n",
       "      <td>2009-04-29</td>\n",
       "      <td>002773-ERP-CSC</td>\n",
       "      <td>8.1.7.99.00.0 667.6</td>\n",
       "      <td>00019 0009327005-02</td>\n",
       "      <td>NaN</td>\n",
       "      <td>INTEGRAÇÃO ERP-ORACLE  ORACLE EBS</td>\n",
       "      <td>NaN</td>\n",
       "      <td>5000.00</td>\n",
       "    </tr>\n",
       "    <tr>\n",
       "      <th>43156</th>\n",
       "      <td>50.00</td>\n",
       "      <td>0</td>\n",
       "      <td>2009-04-13</td>\n",
       "      <td>002768-ERP-CSC</td>\n",
       "      <td>1.8.8.05.00.8 612.0</td>\n",
       "      <td>00019 0009314338-02</td>\n",
       "      <td>NaN</td>\n",
       "      <td>INTEGRAÇÃO ERP-ORACLE  ORACLE EBS</td>\n",
       "      <td>NaN</td>\n",
       "      <td>50.00</td>\n",
       "    </tr>\n",
       "    <tr>\n",
       "      <th>...</th>\n",
       "      <td>...</td>\n",
       "      <td>...</td>\n",
       "      <td>...</td>\n",
       "      <td>...</td>\n",
       "      <td>...</td>\n",
       "      <td>...</td>\n",
       "      <td>...</td>\n",
       "      <td>...</td>\n",
       "      <td>...</td>\n",
       "      <td>...</td>\n",
       "    </tr>\n",
       "    <tr>\n",
       "      <th>9892</th>\n",
       "      <td>606.00</td>\n",
       "      <td>2</td>\n",
       "      <td>2007-05-08</td>\n",
       "      <td>002424-CP001</td>\n",
       "      <td>8.1.7.99.00.0 619.6</td>\n",
       "      <td>00019 0005233105-02</td>\n",
       "      <td>19</td>\n",
       "      <td>INTEGRACAO CONTAS A PAGAR  Contr. Entidades De...</td>\n",
       "      <td>NaN</td>\n",
       "      <td>606.00</td>\n",
       "    </tr>\n",
       "    <tr>\n",
       "      <th>9808</th>\n",
       "      <td>600.00</td>\n",
       "      <td>2</td>\n",
       "      <td>2007-05-07</td>\n",
       "      <td>002423-CP001</td>\n",
       "      <td>8.1.7.45.00.9 422.2</td>\n",
       "      <td>00019 0005203016-02</td>\n",
       "      <td>19</td>\n",
       "      <td>INTEGRACAO CONTAS A PAGAR  promocao e eventos</td>\n",
       "      <td>NaN</td>\n",
       "      <td>600.00</td>\n",
       "    </tr>\n",
       "    <tr>\n",
       "      <th>9241</th>\n",
       "      <td>6000.00</td>\n",
       "      <td>2</td>\n",
       "      <td>2007-04-26</td>\n",
       "      <td>002417-CP001</td>\n",
       "      <td>8.1.7.39.00.8 382.3</td>\n",
       "      <td>00019 0005169465-02</td>\n",
       "      <td>19</td>\n",
       "      <td>INTEGRACAO CONTAS A PAGAR  Asses.tecn. Em P.d.</td>\n",
       "      <td>NaN</td>\n",
       "      <td>6000.00</td>\n",
       "    </tr>\n",
       "    <tr>\n",
       "      <th>9187</th>\n",
       "      <td>60185.75</td>\n",
       "      <td>2</td>\n",
       "      <td>2007-04-25</td>\n",
       "      <td>002416-CP001</td>\n",
       "      <td>8.1.7.63.00.5 518.7</td>\n",
       "      <td>00019 0005168834-02</td>\n",
       "      <td>19</td>\n",
       "      <td>INTEGRACAO CONTAS A PAGAR  Servs. Asses. Tecnica</td>\n",
       "      <td>NaN</td>\n",
       "      <td>60185.75</td>\n",
       "    </tr>\n",
       "    <tr>\n",
       "      <th>50245</th>\n",
       "      <td>60.38</td>\n",
       "      <td>2</td>\n",
       "      <td>2009-11-23</td>\n",
       "      <td>002949-ERP-CSC</td>\n",
       "      <td>8.1.7.66.00.2 545.6</td>\n",
       "      <td>00019 0010056127-02</td>\n",
       "      <td>NaN</td>\n",
       "      <td>INTEGRAÇÃO ERP-ORACLE  ORACLE EBS</td>\n",
       "      <td>NaN</td>\n",
       "      <td>60.38</td>\n",
       "    </tr>\n",
       "    <tr>\n",
       "      <th>8041</th>\n",
       "      <td>600000.00</td>\n",
       "      <td>2</td>\n",
       "      <td>2007-03-30</td>\n",
       "      <td>000000-MANUAIS</td>\n",
       "      <td>8.1.7.57.00.4 498.2</td>\n",
       "      <td>00019 0005147799-02</td>\n",
       "      <td>19</td>\n",
       "      <td>INTEGRAÇAO DEWIN  PROVISÃO S/PAGAMENTO A EFETUAR</td>\n",
       "      <td>NaN</td>\n",
       "      <td>600000.00</td>\n",
       "    </tr>\n",
       "    <tr>\n",
       "      <th>8137</th>\n",
       "      <td>600.00</td>\n",
       "      <td>2</td>\n",
       "      <td>2007-04-02</td>\n",
       "      <td>002400-CP001</td>\n",
       "      <td>8.1.7.63.00.5 532.2</td>\n",
       "      <td>00019 0005091793-02</td>\n",
       "      <td>19</td>\n",
       "      <td>INTEGRACAO CONTAS A PAGAR  Honorarios Trabalhi...</td>\n",
       "      <td>NaN</td>\n",
       "      <td>600.00</td>\n",
       "    </tr>\n",
       "    <tr>\n",
       "      <th>33500</th>\n",
       "      <td>6024.28</td>\n",
       "      <td>2</td>\n",
       "      <td>2008-08-18</td>\n",
       "      <td>002744-CP001</td>\n",
       "      <td>8.1.7.27.00.3 344.6</td>\n",
       "      <td>00019 0008467163-02</td>\n",
       "      <td>19</td>\n",
       "      <td>INTEGRACAO CONTAS A PAGAR  Convenio Assist. Me...</td>\n",
       "      <td>NaN</td>\n",
       "      <td>6024.28</td>\n",
       "    </tr>\n",
       "    <tr>\n",
       "      <th>8182</th>\n",
       "      <td>602.24</td>\n",
       "      <td>2</td>\n",
       "      <td>2007-04-03</td>\n",
       "      <td>002401-CP001</td>\n",
       "      <td>8.1.7.12.00.1 280.0</td>\n",
       "      <td>00019 0005094599-02</td>\n",
       "      <td>19</td>\n",
       "      <td>INTEGRACAO CONTAS A PAGAR  Correios Telegr.selos</td>\n",
       "      <td>NaN</td>\n",
       "      <td>602.24</td>\n",
       "    </tr>\n",
       "    <tr>\n",
       "      <th>33567</th>\n",
       "      <td>600.00</td>\n",
       "      <td>2</td>\n",
       "      <td>2008-08-19</td>\n",
       "      <td>002745-CP001</td>\n",
       "      <td>8.1.7.27.00.3 344.6</td>\n",
       "      <td>00019 0008477206-02</td>\n",
       "      <td>19</td>\n",
       "      <td>INTEGRACAO CONTAS A PAGAR  Convenio Assist. Me...</td>\n",
       "      <td>NaN</td>\n",
       "      <td>600.00</td>\n",
       "    </tr>\n",
       "    <tr>\n",
       "      <th>33662</th>\n",
       "      <td>605.90</td>\n",
       "      <td>2</td>\n",
       "      <td>2008-08-20</td>\n",
       "      <td>002746-CP001</td>\n",
       "      <td>8.1.7.99.00.0 655.2</td>\n",
       "      <td>00019 0008478852-02</td>\n",
       "      <td>19</td>\n",
       "      <td>INTEGRACAO CONTAS A PAGAR  Reemb. Refeicao Fun...</td>\n",
       "      <td>NaN</td>\n",
       "      <td>605.90</td>\n",
       "    </tr>\n",
       "    <tr>\n",
       "      <th>8264</th>\n",
       "      <td>60.24</td>\n",
       "      <td>2</td>\n",
       "      <td>2007-04-04</td>\n",
       "      <td>002402-CP001</td>\n",
       "      <td>8.1.7.57.00.4 480.0</td>\n",
       "      <td>00019 0005100345-02</td>\n",
       "      <td>19</td>\n",
       "      <td>INTEGRACAO CONTAS A PAGAR  Autent.repr.copias</td>\n",
       "      <td>NaN</td>\n",
       "      <td>60.24</td>\n",
       "    </tr>\n",
       "    <tr>\n",
       "      <th>8276</th>\n",
       "      <td>606.00</td>\n",
       "      <td>2</td>\n",
       "      <td>2007-04-04</td>\n",
       "      <td>002402-CP001</td>\n",
       "      <td>8.1.7.99.00.0 619.6</td>\n",
       "      <td>00019 0005100358-02</td>\n",
       "      <td>19</td>\n",
       "      <td>INTEGRACAO CONTAS A PAGAR  Contr. Entidades De...</td>\n",
       "      <td>NaN</td>\n",
       "      <td>606.00</td>\n",
       "    </tr>\n",
       "    <tr>\n",
       "      <th>49549</th>\n",
       "      <td>6096.38</td>\n",
       "      <td>2</td>\n",
       "      <td>2009-10-29</td>\n",
       "      <td>003047-CP001</td>\n",
       "      <td>8.1.7.99.00.0 641.2</td>\n",
       "      <td>00019 0009981434-02</td>\n",
       "      <td>19</td>\n",
       "      <td>INTEGRACAO CONTAS A PAGAR  Taxa E Emolumentos ...</td>\n",
       "      <td>NaN</td>\n",
       "      <td>6096.38</td>\n",
       "    </tr>\n",
       "    <tr>\n",
       "      <th>8397</th>\n",
       "      <td>60760.88</td>\n",
       "      <td>2</td>\n",
       "      <td>2007-04-09</td>\n",
       "      <td>002404-CP001</td>\n",
       "      <td>8.1.7.57.00.4 491.5</td>\n",
       "      <td>00019 0005136750-02</td>\n",
       "      <td>19</td>\n",
       "      <td>INTEGRACAO CONTAS A PAGAR  comissoes CNAB</td>\n",
       "      <td>NaN</td>\n",
       "      <td>60760.88</td>\n",
       "    </tr>\n",
       "    <tr>\n",
       "      <th>32113</th>\n",
       "      <td>6035.64</td>\n",
       "      <td>2</td>\n",
       "      <td>2008-07-22</td>\n",
       "      <td>002419-ERP-CSC</td>\n",
       "      <td>4.9.9.30.50.2 100.6</td>\n",
       "      <td>00019 0008390590-02</td>\n",
       "      <td>NaN</td>\n",
       "      <td>INTEGRAÇÃO ERP-ORACLE  ORACLE EBS</td>\n",
       "      <td>NaN</td>\n",
       "      <td>6035.64</td>\n",
       "    </tr>\n",
       "    <tr>\n",
       "      <th>49432</th>\n",
       "      <td>600.48</td>\n",
       "      <td>2</td>\n",
       "      <td>2009-10-27</td>\n",
       "      <td>002928-ERP-CSC</td>\n",
       "      <td>8.1.7.75.00.0 604.3</td>\n",
       "      <td>00019 0009970248-02</td>\n",
       "      <td>NaN</td>\n",
       "      <td>INTEGRAÇÃO ERP-ORACLE  ORACLE EBS</td>\n",
       "      <td>NaN</td>\n",
       "      <td>600.48</td>\n",
       "    </tr>\n",
       "    <tr>\n",
       "      <th>49341</th>\n",
       "      <td>600.00</td>\n",
       "      <td>2</td>\n",
       "      <td>2009-10-23</td>\n",
       "      <td>002927-ERP-CSC</td>\n",
       "      <td>8.1.7.99.00.0 661.7</td>\n",
       "      <td>00019 0009963507-02</td>\n",
       "      <td>NaN</td>\n",
       "      <td>INTEGRAÇÃO ERP-ORACLE  ORACLE EBS</td>\n",
       "      <td>NaN</td>\n",
       "      <td>600.00</td>\n",
       "    </tr>\n",
       "    <tr>\n",
       "      <th>8534</th>\n",
       "      <td>6003.88</td>\n",
       "      <td>2</td>\n",
       "      <td>2007-04-11</td>\n",
       "      <td>002406-CP001</td>\n",
       "      <td>8.1.7.57.00.4 491.5</td>\n",
       "      <td>00019 0005138059-02</td>\n",
       "      <td>19</td>\n",
       "      <td>INTEGRACAO CONTAS A PAGAR  comissoes CNAB</td>\n",
       "      <td>NaN</td>\n",
       "      <td>6003.88</td>\n",
       "    </tr>\n",
       "    <tr>\n",
       "      <th>8579</th>\n",
       "      <td>604.87</td>\n",
       "      <td>2</td>\n",
       "      <td>2007-04-12</td>\n",
       "      <td>002407-CP001</td>\n",
       "      <td>8.1.7.12.00.1 289.3</td>\n",
       "      <td>00019 0005142780-02</td>\n",
       "      <td>19</td>\n",
       "      <td>INTEGRACAO CONTAS A PAGAR  Desp.Telefonia - LP</td>\n",
       "      <td>NaN</td>\n",
       "      <td>604.87</td>\n",
       "    </tr>\n",
       "    <tr>\n",
       "      <th>8603</th>\n",
       "      <td>6004.00</td>\n",
       "      <td>2</td>\n",
       "      <td>2007-04-12</td>\n",
       "      <td>002407-CP001</td>\n",
       "      <td>8.1.7.66.00.2 553.7</td>\n",
       "      <td>00019 0005142807-02</td>\n",
       "      <td>19</td>\n",
       "      <td>INTEGRACAO CONTAS A PAGAR  Estac.de.Veic.Apree...</td>\n",
       "      <td>NaN</td>\n",
       "      <td>6004.00</td>\n",
       "    </tr>\n",
       "    <tr>\n",
       "      <th>8682</th>\n",
       "      <td>600.00</td>\n",
       "      <td>2</td>\n",
       "      <td>2007-04-13</td>\n",
       "      <td>002408-CP001</td>\n",
       "      <td>8.1.7.66.00.2 548.0</td>\n",
       "      <td>00019 0005139332-02</td>\n",
       "      <td>19</td>\n",
       "      <td>INTEGRACAO CONTAS A PAGAR  Fretes E Carretos</td>\n",
       "      <td>NaN</td>\n",
       "      <td>600.00</td>\n",
       "    </tr>\n",
       "    <tr>\n",
       "      <th>8812</th>\n",
       "      <td>60351.49</td>\n",
       "      <td>2</td>\n",
       "      <td>2007-04-17</td>\n",
       "      <td>002410-CP001</td>\n",
       "      <td>8.1.7.60.00.8 505.3</td>\n",
       "      <td>00019 0005142948-02</td>\n",
       "      <td>19</td>\n",
       "      <td>INTEGRACAO CONTAS A PAGAR  Vigilancia Banc. Se...</td>\n",
       "      <td>NaN</td>\n",
       "      <td>60351.49</td>\n",
       "    </tr>\n",
       "    <tr>\n",
       "      <th>49062</th>\n",
       "      <td>600.00</td>\n",
       "      <td>2</td>\n",
       "      <td>2009-10-14</td>\n",
       "      <td>003036-CP001</td>\n",
       "      <td>8.1.7.27.00.3 344.6</td>\n",
       "      <td>00019 0009915237-02</td>\n",
       "      <td>19</td>\n",
       "      <td>INTEGRACAO CONTAS A PAGAR  Convenio Assist. Me...</td>\n",
       "      <td>NaN</td>\n",
       "      <td>600.00</td>\n",
       "    </tr>\n",
       "    <tr>\n",
       "      <th>20924</th>\n",
       "      <td>6067.40</td>\n",
       "      <td>2</td>\n",
       "      <td>2007-12-07</td>\n",
       "      <td>002572-CP001</td>\n",
       "      <td>8.1.7.24.00.6 330.4</td>\n",
       "      <td>00019 0006716885-02</td>\n",
       "      <td>19</td>\n",
       "      <td>INTEGRACAO CONTAS A PAGAR  Bens Nao Imobilizados</td>\n",
       "      <td>NaN</td>\n",
       "      <td>6067.40</td>\n",
       "    </tr>\n",
       "    <tr>\n",
       "      <th>33854</th>\n",
       "      <td>6000.00</td>\n",
       "      <td>2</td>\n",
       "      <td>2008-08-25</td>\n",
       "      <td>002749-CP001</td>\n",
       "      <td>8.1.7.57.00.4 498.2</td>\n",
       "      <td>00019 0008494891-02</td>\n",
       "      <td>19</td>\n",
       "      <td>INTEGRACAO CONTAS A PAGAR  Servs.diver.pessoas...</td>\n",
       "      <td>NaN</td>\n",
       "      <td>6000.00</td>\n",
       "    </tr>\n",
       "    <tr>\n",
       "      <th>48953</th>\n",
       "      <td>6000.00</td>\n",
       "      <td>2</td>\n",
       "      <td>2009-10-09</td>\n",
       "      <td>002914-ERP-CSC</td>\n",
       "      <td>4.9.9.92.00.7 738.7</td>\n",
       "      <td>00019 0009898053-02</td>\n",
       "      <td>NaN</td>\n",
       "      <td>INTEGRAÇÃO ERP-ORACLE  ORACLE EBS</td>\n",
       "      <td>NaN</td>\n",
       "      <td>6000.00</td>\n",
       "    </tr>\n",
       "    <tr>\n",
       "      <th>48932</th>\n",
       "      <td>60060.06</td>\n",
       "      <td>2</td>\n",
       "      <td>2009-10-08</td>\n",
       "      <td>003033-CP001</td>\n",
       "      <td>1.9.9.10.00.2 810.7</td>\n",
       "      <td>00019 0009893151-02</td>\n",
       "      <td>19</td>\n",
       "      <td>INTEGRACAO CONTAS A PAGAR  FRANQUIAS</td>\n",
       "      <td>NaN</td>\n",
       "      <td>60060.06</td>\n",
       "    </tr>\n",
       "    <tr>\n",
       "      <th>8479</th>\n",
       "      <td>609.76</td>\n",
       "      <td>2</td>\n",
       "      <td>2007-04-10</td>\n",
       "      <td>002405-CP001</td>\n",
       "      <td>8.1.7.39.00.8 390.4</td>\n",
       "      <td>00019 0005136818-02</td>\n",
       "      <td>19</td>\n",
       "      <td>INTEGRACAO CONTAS A PAGAR  Mant.inst.equip.cpd</td>\n",
       "      <td>NaN</td>\n",
       "      <td>609.76</td>\n",
       "    </tr>\n",
       "    <tr>\n",
       "      <th>7183</th>\n",
       "      <td>60.00</td>\n",
       "      <td>2</td>\n",
       "      <td>2007-03-13</td>\n",
       "      <td>002386-CP001</td>\n",
       "      <td>8.1.7.06.00.0 280.3</td>\n",
       "      <td>00019 0005027105-02</td>\n",
       "      <td>19</td>\n",
       "      <td>INTEGRACAO CONTAS A PAGAR  Alugueis Diversos</td>\n",
       "      <td>NaN</td>\n",
       "      <td>60.00</td>\n",
       "    </tr>\n",
       "  </tbody>\n",
       "</table>\n",
       "<p>1505 rows × 10 columns</p>\n",
       "</div>"
      ],
      "text/plain": [
       "             Seq  Ord       Data Remessa - Origem        ContraPartida  \\\n",
       "27095     500.00    0 2008-04-10     002655-CP001  8.1.7.99.00.0 654.4   \n",
       "41549      50.00    0 2009-02-25     002876-CP001  8.1.7.75.00.0 604.3   \n",
       "41432     500.00    0 2009-02-19     002874-CP001  8.1.7.75.00.0 604.3   \n",
       "41407     505.10    0 2009-02-19   002717-ERP-CSC  8.1.7.42.00.2 412.9   \n",
       "15382   50228.00    0 2007-08-23     002500-CP001  8.1.7.57.00.4 492.3   \n",
       "41375   50600.00    0 2009-02-18     002873-CP001  8.1.7.06.00.0 270.6   \n",
       "41336    5083.22    0 2009-02-17     002872-CP001  8.1.7.57.00.4 521.0   \n",
       "42273       5.09    0 2009-03-16     002891-CP001  4.9.4.20.10.8 113.3   \n",
       "15511  501452.93    0 2007-08-27     002502-CP001  8.1.7.12.00.1 280.0   \n",
       "15814     502.08    0 2007-08-31     002506-CP001  8.1.7.99.00.0 645.5   \n",
       "15896   50649.97    0 2007-09-03     002507-CP001  8.1.9.99.00.6 100.2   \n",
       "40275    5009.90    0 2009-01-21     002853-CP001  8.1.7.12.00.1 280.0   \n",
       "40194   50123.23    0 2009-01-20   002693-ERP-CSC  8.1.7.99.00.0 664.1   \n",
       "16373   50288.62    0 2007-09-12     002513-CP001  8.1.7.57.00.4 521.0   \n",
       "16376    5000.00    0 2007-09-12     002513-CP001  8.1.7.63.00.5 531.4   \n",
       "41244      50.10    0 2009-02-13     002873-CP001  4.9.9.30.50.2 650.4   \n",
       "16573   50099.82    0 2007-09-17     002516-CP001  8.1.7.99.00.0 664.1   \n",
       "42348     509.29    0 2009-03-18     002891-CP001  1.9.9.10.00.2 810.7   \n",
       "42784    5073.50    0 2009-03-31     002902-CP001  4.9.9.92.00.7 738.7   \n",
       "14015    5000.00    0 2007-07-27     002481-CP001  8.1.7.63.00.5 531.4   \n",
       "43663    5000.00    0 2009-04-30   002774-ERP-CSC  8.1.7.69.00.9 330.1   \n",
       "43651   50700.00    0 2009-04-30  001860-DEWIN001  8.1.7.12.00.1 285.0   \n",
       "43622      50.01    0 2009-04-29   002775-ERP-CSC  8.1.7.99.00.0 640.4   \n",
       "14158       5.00    0 2007-07-31     002483-CP001  8.1.7.99.00.0 638.2   \n",
       "14165   50710.75    0 2007-07-31     002483-CP001  8.1.7.99.00.0 664.1   \n",
       "42415  507535.88    0 2009-03-20   002739-ERP-CSC  4.9.4.20.10.8 318.7   \n",
       "14244     505.34    0 2007-08-01     002484-CP001  8.1.7.75.00.0 603.5   \n",
       "14324   50745.00    0 2007-08-02     002485-CP001  8.1.7.39.00.8 380.7   \n",
       "43610    5000.00    0 2009-04-29   002773-ERP-CSC  8.1.7.99.00.0 667.6   \n",
       "43156      50.00    0 2009-04-13   002768-ERP-CSC  1.8.8.05.00.8 612.0   \n",
       "...          ...  ...        ...              ...                  ...   \n",
       "9892      606.00    2 2007-05-08     002424-CP001  8.1.7.99.00.0 619.6   \n",
       "9808      600.00    2 2007-05-07     002423-CP001  8.1.7.45.00.9 422.2   \n",
       "9241     6000.00    2 2007-04-26     002417-CP001  8.1.7.39.00.8 382.3   \n",
       "9187    60185.75    2 2007-04-25     002416-CP001  8.1.7.63.00.5 518.7   \n",
       "50245      60.38    2 2009-11-23   002949-ERP-CSC  8.1.7.66.00.2 545.6   \n",
       "8041   600000.00    2 2007-03-30   000000-MANUAIS  8.1.7.57.00.4 498.2   \n",
       "8137      600.00    2 2007-04-02     002400-CP001  8.1.7.63.00.5 532.2   \n",
       "33500    6024.28    2 2008-08-18     002744-CP001  8.1.7.27.00.3 344.6   \n",
       "8182      602.24    2 2007-04-03     002401-CP001  8.1.7.12.00.1 280.0   \n",
       "33567     600.00    2 2008-08-19     002745-CP001  8.1.7.27.00.3 344.6   \n",
       "33662     605.90    2 2008-08-20     002746-CP001  8.1.7.99.00.0 655.2   \n",
       "8264       60.24    2 2007-04-04     002402-CP001  8.1.7.57.00.4 480.0   \n",
       "8276      606.00    2 2007-04-04     002402-CP001  8.1.7.99.00.0 619.6   \n",
       "49549    6096.38    2 2009-10-29     003047-CP001  8.1.7.99.00.0 641.2   \n",
       "8397    60760.88    2 2007-04-09     002404-CP001  8.1.7.57.00.4 491.5   \n",
       "32113    6035.64    2 2008-07-22   002419-ERP-CSC  4.9.9.30.50.2 100.6   \n",
       "49432     600.48    2 2009-10-27   002928-ERP-CSC  8.1.7.75.00.0 604.3   \n",
       "49341     600.00    2 2009-10-23   002927-ERP-CSC  8.1.7.99.00.0 661.7   \n",
       "8534     6003.88    2 2007-04-11     002406-CP001  8.1.7.57.00.4 491.5   \n",
       "8579      604.87    2 2007-04-12     002407-CP001  8.1.7.12.00.1 289.3   \n",
       "8603     6004.00    2 2007-04-12     002407-CP001  8.1.7.66.00.2 553.7   \n",
       "8682      600.00    2 2007-04-13     002408-CP001  8.1.7.66.00.2 548.0   \n",
       "8812    60351.49    2 2007-04-17     002410-CP001  8.1.7.60.00.8 505.3   \n",
       "49062     600.00    2 2009-10-14     003036-CP001  8.1.7.27.00.3 344.6   \n",
       "20924    6067.40    2 2007-12-07     002572-CP001  8.1.7.24.00.6 330.4   \n",
       "33854    6000.00    2 2008-08-25     002749-CP001  8.1.7.57.00.4 498.2   \n",
       "48953    6000.00    2 2009-10-09   002914-ERP-CSC  4.9.9.92.00.7 738.7   \n",
       "48932   60060.06    2 2009-10-08     003033-CP001  1.9.9.10.00.2 810.7   \n",
       "8479      609.76    2 2007-04-10     002405-CP001  8.1.7.39.00.8 390.4   \n",
       "7183       60.00    2 2007-03-13     002386-CP001  8.1.7.06.00.0 280.3   \n",
       "\n",
       "                    Lancto  Destino  \\\n",
       "27095  00019 0008055405-02       19   \n",
       "41549  00019 0009123124-02       19   \n",
       "41432  00019 0009113788-02       19   \n",
       "41407  00019 0009116002-02      NaN   \n",
       "15382  00019 0005658812-02       19   \n",
       "41375  00019 0009106108-02       19   \n",
       "41336  00019 0009105004-02       19   \n",
       "42273  00019 0009192247-02       19   \n",
       "15511  00019 0005678697-02       19   \n",
       "15814  00019 0005709873-02       19   \n",
       "15896  00019 0005713901-02       19   \n",
       "40275  00019 0009009093-02       19   \n",
       "40194  00019 0009009828-02      NaN   \n",
       "16373  00019 0005767720-02       19   \n",
       "16376  00019 0005767723-02       19   \n",
       "41244  00019 0009106106-02       19   \n",
       "16573  00019 0005800504-02       19   \n",
       "42348  00019 0009192245-02       19   \n",
       "42784  00019 0009247762-02       19   \n",
       "14015  00019 0005513611-02       19   \n",
       "43663  00019 0009333243-02      NaN   \n",
       "43651  00019 0009336181-02      NaN   \n",
       "43622  00019 0009367844-02      NaN   \n",
       "14158  00019 0005531488-02       19   \n",
       "14165  00019 0005531496-02       19   \n",
       "42415  00019 0009201119-02      NaN   \n",
       "14244  00019 0005538974-02       19   \n",
       "14324  00019 0005545150-02       19   \n",
       "43610  00019 0009327005-02      NaN   \n",
       "43156  00019 0009314338-02      NaN   \n",
       "...                    ...      ...   \n",
       "9892   00019 0005233105-02       19   \n",
       "9808   00019 0005203016-02       19   \n",
       "9241   00019 0005169465-02       19   \n",
       "9187   00019 0005168834-02       19   \n",
       "50245  00019 0010056127-02      NaN   \n",
       "8041   00019 0005147799-02       19   \n",
       "8137   00019 0005091793-02       19   \n",
       "33500  00019 0008467163-02       19   \n",
       "8182   00019 0005094599-02       19   \n",
       "33567  00019 0008477206-02       19   \n",
       "33662  00019 0008478852-02       19   \n",
       "8264   00019 0005100345-02       19   \n",
       "8276   00019 0005100358-02       19   \n",
       "49549  00019 0009981434-02       19   \n",
       "8397   00019 0005136750-02       19   \n",
       "32113  00019 0008390590-02      NaN   \n",
       "49432  00019 0009970248-02      NaN   \n",
       "49341  00019 0009963507-02      NaN   \n",
       "8534   00019 0005138059-02       19   \n",
       "8579   00019 0005142780-02       19   \n",
       "8603   00019 0005142807-02       19   \n",
       "8682   00019 0005139332-02       19   \n",
       "8812   00019 0005142948-02       19   \n",
       "49062  00019 0009915237-02       19   \n",
       "20924  00019 0006716885-02       19   \n",
       "33854  00019 0008494891-02       19   \n",
       "48953  00019 0009898053-02      NaN   \n",
       "48932  00019 0009893151-02       19   \n",
       "8479   00019 0005136818-02       19   \n",
       "7183   00019 0005027105-02       19   \n",
       "\n",
       "                                             Complemento  Debito    Credito  \n",
       "27095  INTEGRACAO CONTAS A PAGAR  Desp. Buscas Apreen...     NaN     500.00  \n",
       "41549  INTEGRACAO CONTAS A PAGAR  Ajuda De Custo - Vi...     NaN      50.00  \n",
       "41432  INTEGRACAO CONTAS A PAGAR  Ajuda De Custo - Vi...     NaN     500.00  \n",
       "41407                  INTEGRAÇÃO ERP-ORACLE  ORACLE EBS     NaN     505.10  \n",
       "15382       INTEGRACAO CONTAS A PAGAR  Servicos Graficos     NaN   50228.00  \n",
       "41375     INTEGRACAO CONTAS A PAGAR  Alugueis De Imoveis     NaN   50600.00  \n",
       "41336    INTEGRACAO CONTAS A PAGAR  Comissao - Franquias     NaN    5083.22  \n",
       "42273  INTEGRACAO CONTAS A PAGAR  CONTR. SOCIAL S/ LU...     NaN       5.09  \n",
       "15511   INTEGRACAO CONTAS A PAGAR  Correios Telegr.selos     NaN  501452.93  \n",
       "15814  INTEGRACAO CONTAS A PAGAR  Txs e Emol Judiciai...     NaN     502.08  \n",
       "15896  INTEGRACAO CONTAS A PAGAR  desp veiculos apree...     NaN   50649.97  \n",
       "40275   INTEGRACAO CONTAS A PAGAR  Correios Telegr.selos     NaN    5009.90  \n",
       "40194                  INTEGRAÇÃO ERP-ORACLE  ORACLE EBS     NaN   50123.23  \n",
       "16373    INTEGRACAO CONTAS A PAGAR  Comissao - Franquias     NaN   50288.62  \n",
       "16376  INTEGRACAO CONTAS A PAGAR  honorários instituc...     NaN    5000.00  \n",
       "41244  INTEGRACAO CONTAS A PAGAR  Imp. Renda Retido N...     NaN      50.10  \n",
       "16573  INTEGRACAO CONTAS A PAGAR  Pgto judic. acões d...     NaN   50099.82  \n",
       "42348               INTEGRACAO CONTAS A PAGAR  FRANQUIAS     NaN     509.29  \n",
       "42784            INTEGRACAO CONTAS A PAGAR  Cheque Banco     NaN    5073.50  \n",
       "14015  INTEGRACAO CONTAS A PAGAR  honorários instituc...     NaN    5000.00  \n",
       "43663                  INTEGRAÇÃO ERP-ORACLE  ORACLE EBS     NaN    5000.00  \n",
       "43651                ACERTO DE C.R.  PROV. DESP. CELULAR     NaN   50700.00  \n",
       "43622                  INTEGRAÇÃO ERP-ORACLE  ORACLE EBS     NaN      50.01  \n",
       "14158  INTEGRACAO CONTAS A PAGAR  Jornais E Revistas ...     NaN       5.00  \n",
       "14165  INTEGRACAO CONTAS A PAGAR  Pgto judic. acões d...     NaN   50710.75  \n",
       "42415                  INTEGRAÇÃO ERP-ORACLE  ORACLE EBS     NaN  507535.88  \n",
       "14244  INTEGRACAO CONTAS A PAGAR  Despesas Viagens Ou...     NaN     505.34  \n",
       "14324  INTEGRACAO CONTAS A PAGAR  Aluguel de Equip de...     NaN   50745.00  \n",
       "43610                  INTEGRAÇÃO ERP-ORACLE  ORACLE EBS     NaN    5000.00  \n",
       "43156                  INTEGRAÇÃO ERP-ORACLE  ORACLE EBS     NaN      50.00  \n",
       "...                                                  ...     ...        ...  \n",
       "9892   INTEGRACAO CONTAS A PAGAR  Contr. Entidades De...     NaN     606.00  \n",
       "9808       INTEGRACAO CONTAS A PAGAR  promocao e eventos     NaN     600.00  \n",
       "9241      INTEGRACAO CONTAS A PAGAR  Asses.tecn. Em P.d.     NaN    6000.00  \n",
       "9187    INTEGRACAO CONTAS A PAGAR  Servs. Asses. Tecnica     NaN   60185.75  \n",
       "50245                  INTEGRAÇÃO ERP-ORACLE  ORACLE EBS     NaN      60.38  \n",
       "8041    INTEGRAÇAO DEWIN  PROVISÃO S/PAGAMENTO A EFETUAR     NaN  600000.00  \n",
       "8137   INTEGRACAO CONTAS A PAGAR  Honorarios Trabalhi...     NaN     600.00  \n",
       "33500  INTEGRACAO CONTAS A PAGAR  Convenio Assist. Me...     NaN    6024.28  \n",
       "8182    INTEGRACAO CONTAS A PAGAR  Correios Telegr.selos     NaN     602.24  \n",
       "33567  INTEGRACAO CONTAS A PAGAR  Convenio Assist. Me...     NaN     600.00  \n",
       "33662  INTEGRACAO CONTAS A PAGAR  Reemb. Refeicao Fun...     NaN     605.90  \n",
       "8264       INTEGRACAO CONTAS A PAGAR  Autent.repr.copias     NaN      60.24  \n",
       "8276   INTEGRACAO CONTAS A PAGAR  Contr. Entidades De...     NaN     606.00  \n",
       "49549  INTEGRACAO CONTAS A PAGAR  Taxa E Emolumentos ...     NaN    6096.38  \n",
       "8397           INTEGRACAO CONTAS A PAGAR  comissoes CNAB     NaN   60760.88  \n",
       "32113                  INTEGRAÇÃO ERP-ORACLE  ORACLE EBS     NaN    6035.64  \n",
       "49432                  INTEGRAÇÃO ERP-ORACLE  ORACLE EBS     NaN     600.48  \n",
       "49341                  INTEGRAÇÃO ERP-ORACLE  ORACLE EBS     NaN     600.00  \n",
       "8534           INTEGRACAO CONTAS A PAGAR  comissoes CNAB     NaN    6003.88  \n",
       "8579      INTEGRACAO CONTAS A PAGAR  Desp.Telefonia - LP     NaN     604.87  \n",
       "8603   INTEGRACAO CONTAS A PAGAR  Estac.de.Veic.Apree...     NaN    6004.00  \n",
       "8682        INTEGRACAO CONTAS A PAGAR  Fretes E Carretos     NaN     600.00  \n",
       "8812   INTEGRACAO CONTAS A PAGAR  Vigilancia Banc. Se...     NaN   60351.49  \n",
       "49062  INTEGRACAO CONTAS A PAGAR  Convenio Assist. Me...     NaN     600.00  \n",
       "20924   INTEGRACAO CONTAS A PAGAR  Bens Nao Imobilizados     NaN    6067.40  \n",
       "33854  INTEGRACAO CONTAS A PAGAR  Servs.diver.pessoas...     NaN    6000.00  \n",
       "48953                  INTEGRAÇÃO ERP-ORACLE  ORACLE EBS     NaN    6000.00  \n",
       "48932               INTEGRACAO CONTAS A PAGAR  FRANQUIAS     NaN   60060.06  \n",
       "8479      INTEGRACAO CONTAS A PAGAR  Mant.inst.equip.cpd     NaN     609.76  \n",
       "7183        INTEGRACAO CONTAS A PAGAR  Alugueis Diversos     NaN      60.00  \n",
       "\n",
       "[1505 rows x 10 columns]"
      ]
     },
     "execution_count": 59,
     "metadata": {},
     "output_type": "execute_result"
    }
   ],
   "source": [
    "dd"
   ]
  },
  {
   "cell_type": "code",
   "execution_count": 29,
   "metadata": {
    "collapsed": false
   },
   "outputs": [],
   "source": [
    "for n,i in enumerate(b.maps['FTD']):\n",
    "    g = bb.FTD==i\n",
    "    if n==0:\n",
    "        mm = g\n",
    "    else:\n",
    "        mm = mm|g   "
   ]
  },
  {
   "cell_type": "code",
   "execution_count": 31,
   "metadata": {
    "collapsed": false
   },
   "outputs": [
    {
     "data": {
      "text/plain": [
       "1505"
      ]
     },
     "execution_count": 31,
     "metadata": {},
     "output_type": "execute_result"
    }
   ],
   "source": [
    "sum(mm)"
   ]
  },
  {
   "cell_type": "code",
   "execution_count": 32,
   "metadata": {
    "collapsed": false
   },
   "outputs": [
    {
     "name": "stdout",
     "output_type": "stream",
     "text": [
      "<class 'pandas.core.frame.DataFrame'>\n",
      "Int64Index: 1505 entries, 17 to 63602\n",
      "Data columns (total 6 columns):\n",
      "Seq    1505 non-null float64\n",
      "ZN     1505 non-null int64\n",
      "FD     1505 non-null int64\n",
      "SD     1505 non-null int64\n",
      "FTD    1505 non-null int64\n",
      "LTD    1505 non-null object\n",
      "dtypes: float64(1), int64(4), object(1)\n",
      "memory usage: 82.3+ KB\n"
     ]
    }
   ],
   "source": [
    "bb = bb[mm]\n",
    "bb.info()"
   ]
  },
  {
   "cell_type": "code",
   "execution_count": 33,
   "metadata": {
    "collapsed": true
   },
   "outputs": [],
   "source": [
    "bb['I']=bb.index"
   ]
  },
  {
   "cell_type": "code",
   "execution_count": 38,
   "metadata": {
    "collapsed": false
   },
   "outputs": [
    {
     "data": {
      "text/plain": [
       "FTD  I    \n",
       "30   17         30253.32\n",
       "     41            30.00\n",
       "     44            30.00\n",
       "     215          306.12\n",
       "     407          300.00\n",
       "     625        30250.00\n",
       "     723      3000000.00\n",
       "     919       300000.00\n",
       "     989        30000.00\n",
       "     1147         302.61\n",
       "     1148          30.00\n",
       "     1187       30813.50\n",
       "     1202         302.79\n",
       "     1216        3067.30\n",
       "     1231        3000.00\n",
       "     1347         307.18\n",
       "     1595       30430.00\n",
       "     1630        3053.50\n",
       "     1702          30.00\n",
       "     1732         300.00\n",
       "     1817         300.00\n",
       "     1866         302.03\n",
       "     1868          30.00\n",
       "     1880        3012.30\n",
       "     1920       30000.00\n",
       "     1974         305.19\n",
       "     1983         300.00\n",
       "     1988         300.00\n",
       "     2051       30000.00\n",
       "     2066        3000.00\n",
       "                 ...    \n",
       "60   57612      60601.46\n",
       "     57681      60362.72\n",
       "     57697          6.09\n",
       "     57723      60387.28\n",
       "     58279       6012.71\n",
       "     58386         60.25\n",
       "     58586        600.00\n",
       "     58647     601778.89\n",
       "     59079       6019.32\n",
       "     59346         60.00\n",
       "     59462        600.00\n",
       "     59580         60.49\n",
       "     59668         60.00\n",
       "     59841      60749.29\n",
       "     59843      60810.00\n",
       "     60041     600542.40\n",
       "     60280       6024.73\n",
       "     60430         60.00\n",
       "     60458        600.00\n",
       "     60685        600.00\n",
       "     61070         60.00\n",
       "     61264        607.62\n",
       "     61468      60726.64\n",
       "     61559          0.60\n",
       "     62309       6076.46\n",
       "     62698       6043.05\n",
       "     62910     604287.69\n",
       "     63133      60605.76\n",
       "     63338       6043.05\n",
       "     63549        600.00\n",
       "Name: Seq, dtype: float64"
      ]
     },
     "execution_count": 38,
     "metadata": {},
     "output_type": "execute_result"
    }
   ],
   "source": [
    "bb.sort(['FTD','I']).set_index(['FTD','I'])['Seq']"
   ]
  },
  {
   "cell_type": "code",
   "execution_count": null,
   "metadata": {
    "collapsed": true
   },
   "outputs": [],
   "source": []
  },
  {
   "cell_type": "code",
   "execution_count": null,
   "metadata": {
    "collapsed": true
   },
   "outputs": [],
   "source": []
  },
  {
   "cell_type": "code",
   "execution_count": 47,
   "metadata": {
    "collapsed": false
   },
   "outputs": [],
   "source": [
    "index = pd.MultiIndex.from_arrays([bb.FTD,bb.index], names=['FTD', 'ind'])"
   ]
  },
  {
   "cell_type": "code",
   "execution_count": 51,
   "metadata": {
    "collapsed": false
   },
   "outputs": [
    {
     "data": {
      "text/plain": [
       "MultiIndex(levels=[[1, 2], [u'blue', u'red']],\n",
       "           labels=[[0, 0, 1, 1], [1, 0, 1, 0]],\n",
       "           names=[u'number', u'color'])"
      ]
     },
     "execution_count": 51,
     "metadata": {},
     "output_type": "execute_result"
    }
   ],
   "source": [
    "arrays = [[1, 1, 2, 2], ['red', 'blue', 'red', 'blue']]\n",
    "pd.MultiIndex.from_arrays(arrays, names=('number', 'color'))"
   ]
  },
  {
   "cell_type": "code",
   "execution_count": 56,
   "metadata": {
    "collapsed": false
   },
   "outputs": [
    {
     "data": {
      "text/html": [
       "<div>\n",
       "<table border=\"1\" class=\"dataframe\">\n",
       "  <thead>\n",
       "    <tr style=\"text-align: right;\">\n",
       "      <th></th>\n",
       "      <th></th>\n",
       "      <th>Seq</th>\n",
       "      <th>ZN</th>\n",
       "      <th>FD</th>\n",
       "      <th>SD</th>\n",
       "      <th>FTD</th>\n",
       "      <th>LTD</th>\n",
       "    </tr>\n",
       "    <tr>\n",
       "      <th>FTD</th>\n",
       "      <th>ind</th>\n",
       "      <th></th>\n",
       "      <th></th>\n",
       "      <th></th>\n",
       "      <th></th>\n",
       "      <th></th>\n",
       "      <th></th>\n",
       "    </tr>\n",
       "  </thead>\n",
       "  <tbody>\n",
       "    <tr>\n",
       "      <th>31</th>\n",
       "      <th>13</th>\n",
       "      <td>31980.00</td>\n",
       "      <td>3198000</td>\n",
       "      <td>3</td>\n",
       "      <td>1</td>\n",
       "      <td>31</td>\n",
       "      <td>00</td>\n",
       "    </tr>\n",
       "    <tr>\n",
       "      <th>77</th>\n",
       "      <th>14</th>\n",
       "      <td>773446.87</td>\n",
       "      <td>77344687</td>\n",
       "      <td>7</td>\n",
       "      <td>7</td>\n",
       "      <td>77</td>\n",
       "      <td>87</td>\n",
       "    </tr>\n",
       "    <tr>\n",
       "      <th>13</th>\n",
       "      <th>15</th>\n",
       "      <td>13659.00</td>\n",
       "      <td>1365900</td>\n",
       "      <td>1</td>\n",
       "      <td>3</td>\n",
       "      <td>13</td>\n",
       "      <td>00</td>\n",
       "    </tr>\n",
       "    <tr>\n",
       "      <th>10</th>\n",
       "      <th>16</th>\n",
       "      <td>10726.00</td>\n",
       "      <td>1072600</td>\n",
       "      <td>1</td>\n",
       "      <td>0</td>\n",
       "      <td>10</td>\n",
       "      <td>00</td>\n",
       "    </tr>\n",
       "    <tr>\n",
       "      <th>30</th>\n",
       "      <th>17</th>\n",
       "      <td>30253.32</td>\n",
       "      <td>3025332</td>\n",
       "      <td>3</td>\n",
       "      <td>0</td>\n",
       "      <td>30</td>\n",
       "      <td>32</td>\n",
       "    </tr>\n",
       "  </tbody>\n",
       "</table>\n",
       "</div>"
      ],
      "text/plain": [
       "               Seq        ZN  FD  SD  FTD LTD\n",
       "FTD ind                                      \n",
       "31  13    31980.00   3198000   3   1   31  00\n",
       "77  14   773446.87  77344687   7   7   77  87\n",
       "13  15    13659.00   1365900   1   3   13  00\n",
       "10  16    10726.00   1072600   1   0   10  00\n",
       "30  17    30253.32   3025332   3   0   30  32"
      ]
     },
     "execution_count": 56,
     "metadata": {},
     "output_type": "execute_result"
    }
   ],
   "source": [
    "bb = bb.set_index(index)\n",
    "bb.head()"
   ]
  },
  {
   "cell_type": "code",
   "execution_count": 60,
   "metadata": {
    "collapsed": false
   },
   "outputs": [
    {
     "ename": "ValueError",
     "evalue": "cannot set an array element with a sequence",
     "output_type": "error",
     "traceback": [
      "\u001b[1;31m---------------------------------------------------------------------------\u001b[0m",
      "\u001b[1;31mValueError\u001b[0m                                Traceback (most recent call last)",
      "\u001b[1;32m<ipython-input-60-3a56feff1b97>\u001b[0m in \u001b[0;36m<module>\u001b[1;34m()\u001b[0m\n\u001b[1;32m----> 1\u001b[1;33m \u001b[0mbb\u001b[0m\u001b[1;33m.\u001b[0m\u001b[0mreindex\u001b[0m\u001b[1;33m(\u001b[0m\u001b[1;33m[\u001b[0m\u001b[1;34m'FTD'\u001b[0m\u001b[1;33m,\u001b[0m\u001b[0mbb\u001b[0m\u001b[1;33m.\u001b[0m\u001b[0mindex\u001b[0m\u001b[1;33m]\u001b[0m\u001b[1;33m)\u001b[0m\u001b[1;33m\u001b[0m\u001b[0m\n\u001b[0m",
      "\u001b[1;32m/home/milcent/anaconda/lib/python2.7/site-packages/pandas/core/frame.pyc\u001b[0m in \u001b[0;36mreindex\u001b[1;34m(self, index, columns, **kwargs)\u001b[0m\n\u001b[0;32m   2509\u001b[0m     \u001b[1;32mdef\u001b[0m \u001b[0mreindex\u001b[0m\u001b[1;33m(\u001b[0m\u001b[0mself\u001b[0m\u001b[1;33m,\u001b[0m \u001b[0mindex\u001b[0m\u001b[1;33m=\u001b[0m\u001b[0mNone\u001b[0m\u001b[1;33m,\u001b[0m \u001b[0mcolumns\u001b[0m\u001b[1;33m=\u001b[0m\u001b[0mNone\u001b[0m\u001b[1;33m,\u001b[0m \u001b[1;33m**\u001b[0m\u001b[0mkwargs\u001b[0m\u001b[1;33m)\u001b[0m\u001b[1;33m:\u001b[0m\u001b[1;33m\u001b[0m\u001b[0m\n\u001b[0;32m   2510\u001b[0m         return super(DataFrame, self).reindex(index=index, columns=columns,\n\u001b[1;32m-> 2511\u001b[1;33m                                               **kwargs)\n\u001b[0m\u001b[0;32m   2512\u001b[0m \u001b[1;33m\u001b[0m\u001b[0m\n\u001b[0;32m   2513\u001b[0m     \u001b[1;33m@\u001b[0m\u001b[0mAppender\u001b[0m\u001b[1;33m(\u001b[0m\u001b[0m_shared_docs\u001b[0m\u001b[1;33m[\u001b[0m\u001b[1;34m'reindex_axis'\u001b[0m\u001b[1;33m]\u001b[0m \u001b[1;33m%\u001b[0m \u001b[0m_shared_doc_kwargs\u001b[0m\u001b[1;33m)\u001b[0m\u001b[1;33m\u001b[0m\u001b[0m\n",
      "\u001b[1;32m/home/milcent/anaconda/lib/python2.7/site-packages/pandas/core/generic.pyc\u001b[0m in \u001b[0;36mreindex\u001b[1;34m(self, *args, **kwargs)\u001b[0m\n\u001b[0;32m   1757\u001b[0m         \u001b[1;31m# if indicated must have index names equal here as well as values\u001b[0m\u001b[1;33m\u001b[0m\u001b[1;33m\u001b[0m\u001b[0m\n\u001b[0;32m   1758\u001b[0m         if all([self._get_axis(axis).identical(ax)\n\u001b[1;32m-> 1759\u001b[1;33m                 for axis, ax in axes.items() if ax is not None]):\n\u001b[0m\u001b[0;32m   1760\u001b[0m             \u001b[1;32mif\u001b[0m \u001b[0mcopy\u001b[0m\u001b[1;33m:\u001b[0m\u001b[1;33m\u001b[0m\u001b[0m\n\u001b[0;32m   1761\u001b[0m                 \u001b[1;32mreturn\u001b[0m \u001b[0mself\u001b[0m\u001b[1;33m.\u001b[0m\u001b[0mcopy\u001b[0m\u001b[1;33m(\u001b[0m\u001b[1;33m)\u001b[0m\u001b[1;33m\u001b[0m\u001b[0m\n",
      "\u001b[1;32m/home/milcent/anaconda/lib/python2.7/site-packages/pandas/core/index.pyc\u001b[0m in \u001b[0;36midentical\u001b[1;34m(self, other)\u001b[0m\n\u001b[0;32m   1247\u001b[0m         \u001b[0malso\u001b[0m \u001b[0mequal\u001b[0m\u001b[1;33m\u001b[0m\u001b[0m\n\u001b[0;32m   1248\u001b[0m         \"\"\"\n\u001b[1;32m-> 1249\u001b[1;33m         return (self.equals(other) and\n\u001b[0m\u001b[0;32m   1250\u001b[0m                 all((getattr(self, c, None) == getattr(other, c, None)\n\u001b[0;32m   1251\u001b[0m                      for c in self._comparables)) and\n",
      "\u001b[1;32m/home/milcent/anaconda/lib/python2.7/site-packages/pandas/core/index.pyc\u001b[0m in \u001b[0;36mequals\u001b[1;34m(self, other)\u001b[0m\n\u001b[0;32m   3443\u001b[0m \u001b[1;33m\u001b[0m\u001b[0m\n\u001b[0;32m   3444\u001b[0m         \u001b[1;32mtry\u001b[0m\u001b[1;33m:\u001b[0m\u001b[1;33m\u001b[0m\u001b[0m\n\u001b[1;32m-> 3445\u001b[1;33m             \u001b[1;32mreturn\u001b[0m \u001b[0marray_equivalent\u001b[0m\u001b[1;33m(\u001b[0m\u001b[0m_values_from_object\u001b[0m\u001b[1;33m(\u001b[0m\u001b[0mself\u001b[0m\u001b[1;33m)\u001b[0m\u001b[1;33m,\u001b[0m \u001b[0m_values_from_object\u001b[0m\u001b[1;33m(\u001b[0m\u001b[0mother\u001b[0m\u001b[1;33m)\u001b[0m\u001b[1;33m)\u001b[0m\u001b[1;33m\u001b[0m\u001b[0m\n\u001b[0m\u001b[0;32m   3446\u001b[0m         \u001b[1;32mexcept\u001b[0m \u001b[0mTypeError\u001b[0m\u001b[1;33m:\u001b[0m\u001b[1;33m\u001b[0m\u001b[0m\n\u001b[0;32m   3447\u001b[0m             \u001b[1;31m# e.g. fails in numpy 1.6 with DatetimeIndex #1681\u001b[0m\u001b[1;33m\u001b[0m\u001b[1;33m\u001b[0m\u001b[0m\n",
      "\u001b[1;32m/home/milcent/anaconda/lib/python2.7/site-packages/pandas/core/common.pyc\u001b[0m in \u001b[0;36marray_equivalent\u001b[1;34m(left, right, strict_nan)\u001b[0m\n\u001b[0;32m    436\u001b[0m     \"\"\"\n\u001b[0;32m    437\u001b[0m \u001b[1;33m\u001b[0m\u001b[0m\n\u001b[1;32m--> 438\u001b[1;33m     \u001b[0mleft\u001b[0m\u001b[1;33m,\u001b[0m \u001b[0mright\u001b[0m \u001b[1;33m=\u001b[0m \u001b[0mnp\u001b[0m\u001b[1;33m.\u001b[0m\u001b[0masarray\u001b[0m\u001b[1;33m(\u001b[0m\u001b[0mleft\u001b[0m\u001b[1;33m)\u001b[0m\u001b[1;33m,\u001b[0m \u001b[0mnp\u001b[0m\u001b[1;33m.\u001b[0m\u001b[0masarray\u001b[0m\u001b[1;33m(\u001b[0m\u001b[0mright\u001b[0m\u001b[1;33m)\u001b[0m\u001b[1;33m\u001b[0m\u001b[0m\n\u001b[0m\u001b[0;32m    439\u001b[0m     \u001b[1;32mif\u001b[0m \u001b[0mleft\u001b[0m\u001b[1;33m.\u001b[0m\u001b[0mshape\u001b[0m \u001b[1;33m!=\u001b[0m \u001b[0mright\u001b[0m\u001b[1;33m.\u001b[0m\u001b[0mshape\u001b[0m\u001b[1;33m:\u001b[0m \u001b[1;32mreturn\u001b[0m \u001b[0mFalse\u001b[0m\u001b[1;33m\u001b[0m\u001b[0m\n\u001b[0;32m    440\u001b[0m \u001b[1;33m\u001b[0m\u001b[0m\n",
      "\u001b[1;32m/home/milcent/anaconda/lib/python2.7/site-packages/numpy/core/numeric.pyc\u001b[0m in \u001b[0;36masarray\u001b[1;34m(a, dtype, order)\u001b[0m\n\u001b[0;32m    460\u001b[0m \u001b[1;33m\u001b[0m\u001b[0m\n\u001b[0;32m    461\u001b[0m     \"\"\"\n\u001b[1;32m--> 462\u001b[1;33m     \u001b[1;32mreturn\u001b[0m \u001b[0marray\u001b[0m\u001b[1;33m(\u001b[0m\u001b[0ma\u001b[0m\u001b[1;33m,\u001b[0m \u001b[0mdtype\u001b[0m\u001b[1;33m,\u001b[0m \u001b[0mcopy\u001b[0m\u001b[1;33m=\u001b[0m\u001b[0mFalse\u001b[0m\u001b[1;33m,\u001b[0m \u001b[0morder\u001b[0m\u001b[1;33m=\u001b[0m\u001b[0morder\u001b[0m\u001b[1;33m)\u001b[0m\u001b[1;33m\u001b[0m\u001b[0m\n\u001b[0m\u001b[0;32m    463\u001b[0m \u001b[1;33m\u001b[0m\u001b[0m\n\u001b[0;32m    464\u001b[0m \u001b[1;32mdef\u001b[0m \u001b[0masanyarray\u001b[0m\u001b[1;33m(\u001b[0m\u001b[0ma\u001b[0m\u001b[1;33m,\u001b[0m \u001b[0mdtype\u001b[0m\u001b[1;33m=\u001b[0m\u001b[0mNone\u001b[0m\u001b[1;33m,\u001b[0m \u001b[0morder\u001b[0m\u001b[1;33m=\u001b[0m\u001b[0mNone\u001b[0m\u001b[1;33m)\u001b[0m\u001b[1;33m:\u001b[0m\u001b[1;33m\u001b[0m\u001b[0m\n",
      "\u001b[1;31mValueError\u001b[0m: cannot set an array element with a sequence"
     ]
    }
   ],
   "source": [
    "bb.reindex()"
   ]
  },
  {
   "cell_type": "code",
   "execution_count": null,
   "metadata": {
    "collapsed": true
   },
   "outputs": [],
   "source": []
  }
 ],
 "metadata": {
  "kernelspec": {
   "display_name": "Python 2",
   "language": "python",
   "name": "python2"
  },
  "language_info": {
   "codemirror_mode": {
    "name": "ipython",
    "version": 2
   },
   "file_extension": ".py",
   "mimetype": "text/x-python",
   "name": "python",
   "nbconvert_exporter": "python",
   "pygments_lexer": "ipython2",
   "version": "2.7.10"
  }
 },
 "nbformat": 4,
 "nbformat_minor": 0
}
