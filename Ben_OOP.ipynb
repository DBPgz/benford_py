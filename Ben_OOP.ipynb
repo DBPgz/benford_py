{
 "cells": [
  {
   "cell_type": "code",
   "execution_count": 1,
   "metadata": {
    "collapsed": false,
    "scrolled": true
   },
   "outputs": [
    {
     "name": "stdout",
     "output_type": "stream",
     "text": [
      "Populating the interactive namespace from numpy and matplotlib\n"
     ]
    }
   ],
   "source": [
    "pylab inline "
   ]
  },
  {
   "cell_type": "code",
   "execution_count": 2,
   "metadata": {
    "collapsed": false
   },
   "outputs": [],
   "source": [
    "import pandas as pd\n",
    "import numpy as np\n",
    "import ben_oop as o"
   ]
  },
  {
   "cell_type": "code",
   "execution_count": 3,
   "metadata": {
    "collapsed": false,
    "scrolled": false
   },
   "outputs": [
    {
     "data": {
      "image/png": "[encoded data removed]",
      "text/plain": [
       "<matplotlib.figure.Figure at 0x7f3f9fd6cbd0>"
      ]
     },
     "metadata": {},
     "output_type": "display_data"
    }
   ],
   "source": [
    "f = o.Second()"
   ]
  },
  {
   "cell_type": "code",
   "execution_count": 4,
   "metadata": {
    "collapsed": false
   },
   "outputs": [
    {
     "data": {
      "text/html": [
       "<div style=\"max-height:1000px;max-width:1500px;overflow:auto;\">\n",
       "<table border=\"1\" class=\"dataframe\">\n",
       "  <thead>\n",
       "    <tr style=\"text-align: right;\">\n",
       "      <th></th>\n",
       "      <th>Expected</th>\n",
       "    </tr>\n",
       "    <tr>\n",
       "      <th>First_2_Dig</th>\n",
       "      <th></th>\n",
       "    </tr>\n",
       "  </thead>\n",
       "  <tbody>\n",
       "    <tr>\n",
       "      <th>10</th>\n",
       "      <td>0.041393</td>\n",
       "    </tr>\n",
       "    <tr>\n",
       "      <th>11</th>\n",
       "      <td>0.037789</td>\n",
       "    </tr>\n",
       "    <tr>\n",
       "      <th>12</th>\n",
       "      <td>0.034762</td>\n",
       "    </tr>\n",
       "    <tr>\n",
       "      <th>13</th>\n",
       "      <td>0.032185</td>\n",
       "    </tr>\n",
       "    <tr>\n",
       "      <th>14</th>\n",
       "      <td>0.029963</td>\n",
       "    </tr>\n",
       "    <tr>\n",
       "      <th>15</th>\n",
       "      <td>0.028029</td>\n",
       "    </tr>\n",
       "    <tr>\n",
       "      <th>16</th>\n",
       "      <td>0.026329</td>\n",
       "    </tr>\n",
       "    <tr>\n",
       "      <th>17</th>\n",
       "      <td>0.024824</td>\n",
       "    </tr>\n",
       "    <tr>\n",
       "      <th>18</th>\n",
       "      <td>0.023481</td>\n",
       "    </tr>\n",
       "    <tr>\n",
       "      <th>19</th>\n",
       "      <td>0.022276</td>\n",
       "    </tr>\n",
       "    <tr>\n",
       "      <th>20</th>\n",
       "      <td>0.021189</td>\n",
       "    </tr>\n",
       "    <tr>\n",
       "      <th>21</th>\n",
       "      <td>0.020203</td>\n",
       "    </tr>\n",
       "    <tr>\n",
       "      <th>22</th>\n",
       "      <td>0.019305</td>\n",
       "    </tr>\n",
       "    <tr>\n",
       "      <th>23</th>\n",
       "      <td>0.018483</td>\n",
       "    </tr>\n",
       "    <tr>\n",
       "      <th>24</th>\n",
       "      <td>0.017729</td>\n",
       "    </tr>\n",
       "    <tr>\n",
       "      <th>25</th>\n",
       "      <td>0.017033</td>\n",
       "    </tr>\n",
       "    <tr>\n",
       "      <th>26</th>\n",
       "      <td>0.016390</td>\n",
       "    </tr>\n",
       "    <tr>\n",
       "      <th>27</th>\n",
       "      <td>0.015794</td>\n",
       "    </tr>\n",
       "    <tr>\n",
       "      <th>28</th>\n",
       "      <td>0.015240</td>\n",
       "    </tr>\n",
       "    <tr>\n",
       "      <th>29</th>\n",
       "      <td>0.014723</td>\n",
       "    </tr>\n",
       "    <tr>\n",
       "      <th>30</th>\n",
       "      <td>0.014240</td>\n",
       "    </tr>\n",
       "    <tr>\n",
       "      <th>31</th>\n",
       "      <td>0.013788</td>\n",
       "    </tr>\n",
       "    <tr>\n",
       "      <th>32</th>\n",
       "      <td>0.013364</td>\n",
       "    </tr>\n",
       "    <tr>\n",
       "      <th>33</th>\n",
       "      <td>0.012965</td>\n",
       "    </tr>\n",
       "    <tr>\n",
       "      <th>34</th>\n",
       "      <td>0.012589</td>\n",
       "    </tr>\n",
       "    <tr>\n",
       "      <th>35</th>\n",
       "      <td>0.012234</td>\n",
       "    </tr>\n",
       "    <tr>\n",
       "      <th>36</th>\n",
       "      <td>0.011899</td>\n",
       "    </tr>\n",
       "    <tr>\n",
       "      <th>37</th>\n",
       "      <td>0.011582</td>\n",
       "    </tr>\n",
       "    <tr>\n",
       "      <th>38</th>\n",
       "      <td>0.011281</td>\n",
       "    </tr>\n",
       "    <tr>\n",
       "      <th>39</th>\n",
       "      <td>0.010995</td>\n",
       "    </tr>\n",
       "    <tr>\n",
       "      <th>...</th>\n",
       "      <td>...</td>\n",
       "    </tr>\n",
       "    <tr>\n",
       "      <th>70</th>\n",
       "      <td>0.006160</td>\n",
       "    </tr>\n",
       "    <tr>\n",
       "      <th>71</th>\n",
       "      <td>0.006074</td>\n",
       "    </tr>\n",
       "    <tr>\n",
       "      <th>72</th>\n",
       "      <td>0.005990</td>\n",
       "    </tr>\n",
       "    <tr>\n",
       "      <th>73</th>\n",
       "      <td>0.005909</td>\n",
       "    </tr>\n",
       "    <tr>\n",
       "      <th>74</th>\n",
       "      <td>0.005830</td>\n",
       "    </tr>\n",
       "    <tr>\n",
       "      <th>75</th>\n",
       "      <td>0.005752</td>\n",
       "    </tr>\n",
       "    <tr>\n",
       "      <th>76</th>\n",
       "      <td>0.005677</td>\n",
       "    </tr>\n",
       "    <tr>\n",
       "      <th>77</th>\n",
       "      <td>0.005604</td>\n",
       "    </tr>\n",
       "    <tr>\n",
       "      <th>78</th>\n",
       "      <td>0.005532</td>\n",
       "    </tr>\n",
       "    <tr>\n",
       "      <th>79</th>\n",
       "      <td>0.005463</td>\n",
       "    </tr>\n",
       "    <tr>\n",
       "      <th>80</th>\n",
       "      <td>0.005395</td>\n",
       "    </tr>\n",
       "    <tr>\n",
       "      <th>81</th>\n",
       "      <td>0.005329</td>\n",
       "    </tr>\n",
       "    <tr>\n",
       "      <th>82</th>\n",
       "      <td>0.005264</td>\n",
       "    </tr>\n",
       "    <tr>\n",
       "      <th>83</th>\n",
       "      <td>0.005201</td>\n",
       "    </tr>\n",
       "    <tr>\n",
       "      <th>84</th>\n",
       "      <td>0.005140</td>\n",
       "    </tr>\n",
       "    <tr>\n",
       "      <th>85</th>\n",
       "      <td>0.005080</td>\n",
       "    </tr>\n",
       "    <tr>\n",
       "      <th>86</th>\n",
       "      <td>0.005021</td>\n",
       "    </tr>\n",
       "    <tr>\n",
       "      <th>87</th>\n",
       "      <td>0.004963</td>\n",
       "    </tr>\n",
       "    <tr>\n",
       "      <th>88</th>\n",
       "      <td>0.004907</td>\n",
       "    </tr>\n",
       "    <tr>\n",
       "      <th>89</th>\n",
       "      <td>0.004853</td>\n",
       "    </tr>\n",
       "    <tr>\n",
       "      <th>90</th>\n",
       "      <td>0.004799</td>\n",
       "    </tr>\n",
       "    <tr>\n",
       "      <th>91</th>\n",
       "      <td>0.004746</td>\n",
       "    </tr>\n",
       "    <tr>\n",
       "      <th>92</th>\n",
       "      <td>0.004695</td>\n",
       "    </tr>\n",
       "    <tr>\n",
       "      <th>93</th>\n",
       "      <td>0.004645</td>\n",
       "    </tr>\n",
       "    <tr>\n",
       "      <th>94</th>\n",
       "      <td>0.004596</td>\n",
       "    </tr>\n",
       "    <tr>\n",
       "      <th>95</th>\n",
       "      <td>0.004548</td>\n",
       "    </tr>\n",
       "    <tr>\n",
       "      <th>96</th>\n",
       "      <td>0.004501</td>\n",
       "    </tr>\n",
       "    <tr>\n",
       "      <th>97</th>\n",
       "      <td>0.004454</td>\n",
       "    </tr>\n",
       "    <tr>\n",
       "      <th>98</th>\n",
       "      <td>0.004409</td>\n",
       "    </tr>\n",
       "    <tr>\n",
       "      <th>99</th>\n",
       "      <td>0.004365</td>\n",
       "    </tr>\n",
       "  </tbody>\n",
       "</table>\n",
       "<p>90 rows × 1 columns</p>\n",
       "</div>"
      ],
      "text/plain": [
       "             Expected\n",
       "First_2_Dig          \n",
       "10           0.041393\n",
       "11           0.037789\n",
       "12           0.034762\n",
       "13           0.032185\n",
       "14           0.029963\n",
       "15           0.028029\n",
       "16           0.026329\n",
       "17           0.024824\n",
       "18           0.023481\n",
       "19           0.022276\n",
       "20           0.021189\n",
       "21           0.020203\n",
       "22           0.019305\n",
       "23           0.018483\n",
       "24           0.017729\n",
       "25           0.017033\n",
       "26           0.016390\n",
       "27           0.015794\n",
       "28           0.015240\n",
       "29           0.014723\n",
       "30           0.014240\n",
       "31           0.013788\n",
       "32           0.013364\n",
       "33           0.012965\n",
       "34           0.012589\n",
       "35           0.012234\n",
       "36           0.011899\n",
       "37           0.011582\n",
       "38           0.011281\n",
       "39           0.010995\n",
       "...               ...\n",
       "70           0.006160\n",
       "71           0.006074\n",
       "72           0.005990\n",
       "73           0.005909\n",
       "74           0.005830\n",
       "75           0.005752\n",
       "76           0.005677\n",
       "77           0.005604\n",
       "78           0.005532\n",
       "79           0.005463\n",
       "80           0.005395\n",
       "81           0.005329\n",
       "82           0.005264\n",
       "83           0.005201\n",
       "84           0.005140\n",
       "85           0.005080\n",
       "86           0.005021\n",
       "87           0.004963\n",
       "88           0.004907\n",
       "89           0.004853\n",
       "90           0.004799\n",
       "91           0.004746\n",
       "92           0.004695\n",
       "93           0.004645\n",
       "94           0.004596\n",
       "95           0.004548\n",
       "96           0.004501\n",
       "97           0.004454\n",
       "98           0.004409\n",
       "99           0.004365\n",
       "\n",
       "[90 rows x 1 columns]"
      ]
     },
     "execution_count": 4,
     "metadata": {},
     "output_type": "execute_result"
    }
   ],
   "source": [
    "f"
   ]
  },
  {
   "cell_type": "code",
   "execution_count": 7,
   "metadata": {
    "collapsed": false
   },
   "outputs": [
    {
     "data": {
      "image/png": "[encoded data removed]",
      "text/plain": [
       "<matplotlib.figure.Figure at 0x7f5fe267ef90>"
      ]
     },
     "metadata": {},
     "output_type": "display_data"
    }
   ],
   "source": [
    "f = o.Expected(which='first')"
   ]
  },
  {
   "cell_type": "code",
   "execution_count": 5,
   "metadata": {
    "collapsed": false
   },
   "outputs": [
    {
     "name": "stdout",
     "output_type": "stream",
     "text": [
      "<class 'ben_oop.Expected'>\n",
      "Index: 0 entries\n",
      "Empty Expected"
     ]
    }
   ],
   "source": [
    "f.info()"
   ]
  },
  {
   "cell_type": "code",
   "execution_count": 9,
   "metadata": {
    "collapsed": false
   },
   "outputs": [
    {
     "data": {
      "image/png": "[encoded data removed]",
      "text/plain": [
       "<matplotlib.figure.Figure at 0x7f25cc112c10>"
      ]
     },
     "metadata": {},
     "output_type": "display_data"
    }
   ],
   "source": [
    "g = o.Expected()\n",
    "g.firstTwo()"
   ]
  },
  {
   "cell_type": "code",
   "execution_count": 12,
   "metadata": {
    "collapsed": false,
    "scrolled": true
   },
   "outputs": [
    {
     "data": {
      "text/html": [
       "<div style=\"max-height:1000px;max-width:1500px;overflow:auto;\">\n",
       "<table border=\"1\" class=\"dataframe\">\n",
       "  <thead>\n",
       "    <tr style=\"text-align: right;\">\n",
       "      <th></th>\n",
       "      <th>Expected</th>\n",
       "    </tr>\n",
       "    <tr>\n",
       "      <th>First_2_Dig</th>\n",
       "      <th></th>\n",
       "    </tr>\n",
       "  </thead>\n",
       "  <tbody>\n",
       "    <tr>\n",
       "      <th>10</th>\n",
       "      <td> 0.041393</td>\n",
       "    </tr>\n",
       "    <tr>\n",
       "      <th>11</th>\n",
       "      <td> 0.037789</td>\n",
       "    </tr>\n",
       "    <tr>\n",
       "      <th>12</th>\n",
       "      <td> 0.034762</td>\n",
       "    </tr>\n",
       "    <tr>\n",
       "      <th>13</th>\n",
       "      <td> 0.032185</td>\n",
       "    </tr>\n",
       "    <tr>\n",
       "      <th>14</th>\n",
       "      <td> 0.029963</td>\n",
       "    </tr>\n",
       "    <tr>\n",
       "      <th>15</th>\n",
       "      <td> 0.028029</td>\n",
       "    </tr>\n",
       "    <tr>\n",
       "      <th>16</th>\n",
       "      <td> 0.026329</td>\n",
       "    </tr>\n",
       "    <tr>\n",
       "      <th>17</th>\n",
       "      <td> 0.024824</td>\n",
       "    </tr>\n",
       "    <tr>\n",
       "      <th>18</th>\n",
       "      <td> 0.023481</td>\n",
       "    </tr>\n",
       "    <tr>\n",
       "      <th>19</th>\n",
       "      <td> 0.022276</td>\n",
       "    </tr>\n",
       "    <tr>\n",
       "      <th>20</th>\n",
       "      <td> 0.021189</td>\n",
       "    </tr>\n",
       "    <tr>\n",
       "      <th>21</th>\n",
       "      <td> 0.020203</td>\n",
       "    </tr>\n",
       "    <tr>\n",
       "      <th>22</th>\n",
       "      <td> 0.019305</td>\n",
       "    </tr>\n",
       "    <tr>\n",
       "      <th>23</th>\n",
       "      <td> 0.018483</td>\n",
       "    </tr>\n",
       "    <tr>\n",
       "      <th>24</th>\n",
       "      <td> 0.017729</td>\n",
       "    </tr>\n",
       "    <tr>\n",
       "      <th>25</th>\n",
       "      <td> 0.017033</td>\n",
       "    </tr>\n",
       "    <tr>\n",
       "      <th>26</th>\n",
       "      <td> 0.016390</td>\n",
       "    </tr>\n",
       "    <tr>\n",
       "      <th>27</th>\n",
       "      <td> 0.015794</td>\n",
       "    </tr>\n",
       "    <tr>\n",
       "      <th>28</th>\n",
       "      <td> 0.015240</td>\n",
       "    </tr>\n",
       "    <tr>\n",
       "      <th>29</th>\n",
       "      <td> 0.014723</td>\n",
       "    </tr>\n",
       "    <tr>\n",
       "      <th>30</th>\n",
       "      <td> 0.014240</td>\n",
       "    </tr>\n",
       "    <tr>\n",
       "      <th>31</th>\n",
       "      <td> 0.013788</td>\n",
       "    </tr>\n",
       "    <tr>\n",
       "      <th>32</th>\n",
       "      <td> 0.013364</td>\n",
       "    </tr>\n",
       "    <tr>\n",
       "      <th>33</th>\n",
       "      <td> 0.012965</td>\n",
       "    </tr>\n",
       "    <tr>\n",
       "      <th>34</th>\n",
       "      <td> 0.012589</td>\n",
       "    </tr>\n",
       "    <tr>\n",
       "      <th>35</th>\n",
       "      <td> 0.012234</td>\n",
       "    </tr>\n",
       "    <tr>\n",
       "      <th>36</th>\n",
       "      <td> 0.011899</td>\n",
       "    </tr>\n",
       "    <tr>\n",
       "      <th>37</th>\n",
       "      <td> 0.011582</td>\n",
       "    </tr>\n",
       "    <tr>\n",
       "      <th>38</th>\n",
       "      <td> 0.011281</td>\n",
       "    </tr>\n",
       "    <tr>\n",
       "      <th>39</th>\n",
       "      <td> 0.010995</td>\n",
       "    </tr>\n",
       "    <tr>\n",
       "      <th>...</th>\n",
       "      <td>...</td>\n",
       "    </tr>\n",
       "    <tr>\n",
       "      <th>70</th>\n",
       "      <td> 0.006160</td>\n",
       "    </tr>\n",
       "    <tr>\n",
       "      <th>71</th>\n",
       "      <td> 0.006074</td>\n",
       "    </tr>\n",
       "    <tr>\n",
       "      <th>72</th>\n",
       "      <td> 0.005990</td>\n",
       "    </tr>\n",
       "    <tr>\n",
       "      <th>73</th>\n",
       "      <td> 0.005909</td>\n",
       "    </tr>\n",
       "    <tr>\n",
       "      <th>74</th>\n",
       "      <td> 0.005830</td>\n",
       "    </tr>\n",
       "    <tr>\n",
       "      <th>75</th>\n",
       "      <td> 0.005752</td>\n",
       "    </tr>\n",
       "    <tr>\n",
       "      <th>76</th>\n",
       "      <td> 0.005677</td>\n",
       "    </tr>\n",
       "    <tr>\n",
       "      <th>77</th>\n",
       "      <td> 0.005604</td>\n",
       "    </tr>\n",
       "    <tr>\n",
       "      <th>78</th>\n",
       "      <td> 0.005532</td>\n",
       "    </tr>\n",
       "    <tr>\n",
       "      <th>79</th>\n",
       "      <td> 0.005463</td>\n",
       "    </tr>\n",
       "    <tr>\n",
       "      <th>80</th>\n",
       "      <td> 0.005395</td>\n",
       "    </tr>\n",
       "    <tr>\n",
       "      <th>81</th>\n",
       "      <td> 0.005329</td>\n",
       "    </tr>\n",
       "    <tr>\n",
       "      <th>82</th>\n",
       "      <td> 0.005264</td>\n",
       "    </tr>\n",
       "    <tr>\n",
       "      <th>83</th>\n",
       "      <td> 0.005201</td>\n",
       "    </tr>\n",
       "    <tr>\n",
       "      <th>84</th>\n",
       "      <td> 0.005140</td>\n",
       "    </tr>\n",
       "    <tr>\n",
       "      <th>85</th>\n",
       "      <td> 0.005080</td>\n",
       "    </tr>\n",
       "    <tr>\n",
       "      <th>86</th>\n",
       "      <td> 0.005021</td>\n",
       "    </tr>\n",
       "    <tr>\n",
       "      <th>87</th>\n",
       "      <td> 0.004963</td>\n",
       "    </tr>\n",
       "    <tr>\n",
       "      <th>88</th>\n",
       "      <td> 0.004907</td>\n",
       "    </tr>\n",
       "    <tr>\n",
       "      <th>89</th>\n",
       "      <td> 0.004853</td>\n",
       "    </tr>\n",
       "    <tr>\n",
       "      <th>90</th>\n",
       "      <td> 0.004799</td>\n",
       "    </tr>\n",
       "    <tr>\n",
       "      <th>91</th>\n",
       "      <td> 0.004746</td>\n",
       "    </tr>\n",
       "    <tr>\n",
       "      <th>92</th>\n",
       "      <td> 0.004695</td>\n",
       "    </tr>\n",
       "    <tr>\n",
       "      <th>93</th>\n",
       "      <td> 0.004645</td>\n",
       "    </tr>\n",
       "    <tr>\n",
       "      <th>94</th>\n",
       "      <td> 0.004596</td>\n",
       "    </tr>\n",
       "    <tr>\n",
       "      <th>95</th>\n",
       "      <td> 0.004548</td>\n",
       "    </tr>\n",
       "    <tr>\n",
       "      <th>96</th>\n",
       "      <td> 0.004501</td>\n",
       "    </tr>\n",
       "    <tr>\n",
       "      <th>97</th>\n",
       "      <td> 0.004454</td>\n",
       "    </tr>\n",
       "    <tr>\n",
       "      <th>98</th>\n",
       "      <td> 0.004409</td>\n",
       "    </tr>\n",
       "    <tr>\n",
       "      <th>99</th>\n",
       "      <td> 0.004365</td>\n",
       "    </tr>\n",
       "  </tbody>\n",
       "</table>\n",
       "<p>90 rows × 1 columns</p>\n",
       "</div>"
      ],
      "text/plain": [
       "             Expected\n",
       "First_2_Dig          \n",
       "10           0.041393\n",
       "11           0.037789\n",
       "12           0.034762\n",
       "13           0.032185\n",
       "14           0.029963\n",
       "15           0.028029\n",
       "16           0.026329\n",
       "17           0.024824\n",
       "18           0.023481\n",
       "19           0.022276\n",
       "20           0.021189\n",
       "21           0.020203\n",
       "22           0.019305\n",
       "23           0.018483\n",
       "24           0.017729\n",
       "25           0.017033\n",
       "26           0.016390\n",
       "27           0.015794\n",
       "28           0.015240\n",
       "29           0.014723\n",
       "30           0.014240\n",
       "31           0.013788\n",
       "32           0.013364\n",
       "33           0.012965\n",
       "34           0.012589\n",
       "35           0.012234\n",
       "36           0.011899\n",
       "37           0.011582\n",
       "38           0.011281\n",
       "39           0.010995\n",
       "...               ...\n",
       "70           0.006160\n",
       "71           0.006074\n",
       "72           0.005990\n",
       "73           0.005909\n",
       "74           0.005830\n",
       "75           0.005752\n",
       "76           0.005677\n",
       "77           0.005604\n",
       "78           0.005532\n",
       "79           0.005463\n",
       "80           0.005395\n",
       "81           0.005329\n",
       "82           0.005264\n",
       "83           0.005201\n",
       "84           0.005140\n",
       "85           0.005080\n",
       "86           0.005021\n",
       "87           0.004963\n",
       "88           0.004907\n",
       "89           0.004853\n",
       "90           0.004799\n",
       "91           0.004746\n",
       "92           0.004695\n",
       "93           0.004645\n",
       "94           0.004596\n",
       "95           0.004548\n",
       "96           0.004501\n",
       "97           0.004454\n",
       "98           0.004409\n",
       "99           0.004365\n",
       "\n",
       "[90 rows x 1 columns]"
      ]
     },
     "execution_count": 12,
     "metadata": {},
     "output_type": "execute_result"
    }
   ],
   "source": [
    "s = o.Expected()\n",
    "s = s.firstTwo(plot=False)\n",
    "s"
   ]
  },
  {
   "cell_type": "code",
   "execution_count": 3,
   "metadata": {
    "collapsed": false
   },
   "outputs": [
    {
     "name": "stdout",
     "output_type": "stream",
     "text": [
      "/home/milcent/Documentos/Benford Datasets\n"
     ]
    }
   ],
   "source": [
    "cd /home/milcent/Documentos/Benford\\ Datasets"
   ]
  },
  {
   "cell_type": "code",
   "execution_count": 4,
   "metadata": {
    "collapsed": false
   },
   "outputs": [
    {
     "name": "stdout",
     "output_type": "stream",
     "text": [
      "layout_01_01_200812.CSV  razao_contas_a_pagar_30092006_31122010.xls\r\n",
      "layout_01_11_200812.CSV\r\n"
     ]
    }
   ],
   "source": [
    "ls"
   ]
  },
  {
   "cell_type": "code",
   "execution_count": 5,
   "metadata": {
    "collapsed": false
   },
   "outputs": [],
   "source": [
    "r = pd.read_excel('razao_contas_a_pagar_30092006_31122010.xls',\\\n",
    "                  skiprows=6, parse_cols=[0,1,2,3,5,6,7,8,9],header=0)"
   ]
  },
  {
   "cell_type": "code",
   "execution_count": 6,
   "metadata": {
    "collapsed": false
   },
   "outputs": [
    {
     "name": "stdout",
     "output_type": "stream",
     "text": [
      "<class 'pandas.core.frame.DataFrame'>\n",
      "Int64Index: 54333 entries, 3 to 63663\n",
      "Data columns (total 9 columns):\n",
      "Dia                 54333 non-null object\n",
      "Ano                 54333 non-null float64\n",
      "Remessa - Origem    54333 non-null object\n",
      "ContraPartida       54333 non-null object\n",
      "Lancto              54333 non-null object\n",
      "Destino             42015 non-null float64\n",
      "Complemento         54333 non-null object\n",
      "Debito              20600 non-null object\n",
      "Credito             33733 non-null object\n",
      "dtypes: float64(2), object(7)\n",
      "memory usage: 4.1+ MB\n"
     ]
    }
   ],
   "source": [
    "r = r[r.Dia.notnull()]\n",
    "r.info()"
   ]
  },
  {
   "cell_type": "code",
   "execution_count": 7,
   "metadata": {
    "collapsed": false
   },
   "outputs": [
    {
     "name": "stdout",
     "output_type": "stream",
     "text": [
      "Initialized sequence with 33733 registries.\n"
     ]
    }
   ],
   "source": [
    "b = o.Benford(r.Credito)"
   ]
  },
  {
   "cell_type": "code",
   "execution_count": 8,
   "metadata": {
    "collapsed": false
   },
   "outputs": [],
   "source": [
    "b.prepare()"
   ]
  },
  {
   "cell_type": "code",
   "execution_count": 9,
   "metadata": {
    "collapsed": false,
    "scrolled": false
   },
   "outputs": [
    {
     "name": "stdout",
     "output_type": "stream",
     "text": [
      "\n",
      "---PTest performed on 33733 registries.---\n",
      "\n",
      "\n",
      "The top 20 Z scores are:\n",
      "\n",
      "             Expected     Found     Z_test\n",
      "First_2_Dig                               \n",
      "50           0.008600  0.013903  10.548278\n",
      "30           0.014240  0.019892   8.760126\n",
      "60           0.007179  0.010820   7.922720\n",
      "70           0.006160  0.009042   6.763227\n",
      "90           0.004799  0.006848   5.445606\n",
      "40           0.010724  0.013636   5.193723\n",
      "25           0.017033  0.020633   5.108852\n",
      "92           0.004695  0.002935   4.729498\n",
      "14           0.029963  0.026028   4.239521\n",
      "15           0.028029  0.031809   4.206088\n",
      "10           0.041393  0.045742   4.009794\n",
      "20           0.021189  0.024249   3.902424\n",
      "35           0.012234  0.014140   3.184425\n",
      "80           0.005395  0.006611   3.048130\n",
      "59           0.007299  0.005899   3.020637\n",
      "21           0.020203  0.017965   2.922531\n",
      "45           0.009545  0.011028   2.800256\n",
      "19           0.022276  0.020129   2.672872\n",
      "91           0.004746  0.003765   2.623014\n",
      "13           0.032185  0.029704   2.581690\n",
      "\n",
      "The Mean Absolute Deviation is 0.00103817978817\n",
      "For the First Two Digits:\n",
      "\t\t\t- 0.0000 to 0.0012: Close Conformity\n",
      "\t\t\t- 0.0012 to 0.0018: Acceptable Conformity\n",
      "\t\t\t- 0.0018 to 0.0022: Marginally Acceptable Conformity\n",
      "\t\t\t- Above 0.0022: Nonconformity\n"
     ]
    },
    {
     "data": {
      "image/png": "[encoded data removed]",
      "text/plain": [
       "<matplotlib.figure.Figure at 0x7f9d92d2e210>"
      ]
     },
     "metadata": {},
     "output_type": "display_data"
    }
   ],
   "source": [
    "c = b.firstTwoDigits()"
   ]
  },
  {
   "cell_type": "code",
   "execution_count": 10,
   "metadata": {
    "collapsed": false
   },
   "outputs": [
    {
     "name": "stdout",
     "output_type": "stream",
     "text": [
      "\n",
      "---Test performed on 33733 registries.---\n",
      "\n",
      "\n",
      "The highest Z scores are:\n",
      "\n",
      "           Expected     Found    Z_test\n",
      "First_Dig                              \n",
      "4          0.096910  0.099487  1.599982\n",
      "3          0.124939  0.127649  1.505735\n",
      "1          0.301030  0.297572  1.384535\n",
      "8          0.051153  0.049655  1.248743\n",
      "6          0.066947  0.068449  1.104142\n",
      "2          0.176091  0.174458  0.787424\n",
      "9          0.045757  0.045089  0.587241\n",
      "5          0.079181  0.079774  0.402855\n",
      "7          0.057992  0.057837  0.122120\n",
      "\n",
      "The Mean Absolute Deviation is 0.00164388384376\n",
      "For the First DigitS:\n",
      "\t\t\t- 0.0000 to 0.0006: Close Conformity\n",
      "\t\t\t- 0.0006 to 0.0012: Acceptable Conformity\n",
      "\t\t\t- 0.0012 to 0.0015: Marginally Acceptable Conformity\n",
      "\t\t\t- Above 0.0015: Nonconformity\n"
     ]
    },
    {
     "data": {
      "image/png": "[encoded data removed]",
      "text/plain": [
       "<matplotlib.figure.Figure at 0x7f9d94c54b10>"
      ]
     },
     "metadata": {},
     "output_type": "display_data"
    }
   ],
   "source": [
    "f = b.firstDigit()"
   ]
  },
  {
   "cell_type": "code",
   "execution_count": 11,
   "metadata": {
    "collapsed": false
   },
   "outputs": [
    {
     "name": "stdout",
     "output_type": "stream",
     "text": [
      "\n",
      "---Test performed on 33733 registries.---\n",
      "\n",
      "\n",
      "The highest Z scores are:\n",
      "\n",
      "         Expected     Found     Z_test\n",
      "Sec_Dig                               \n",
      "0        0.119679  0.150743  17.577032\n",
      "5        0.096677  0.109092   7.715817\n",
      "4        0.100308  0.092521   4.761150\n",
      "9        0.084997  0.078736   4.123678\n",
      "3        0.104330  0.097531   4.084996\n",
      "2        0.108821  0.102837   3.529529\n",
      "1        0.113890  0.108054   3.373897\n",
      "6        0.093375  0.088193   3.271223\n",
      "8        0.087570  0.084339   2.099539\n",
      "7        0.090352  0.087807   1.630329\n",
      "\n",
      "The Mean Absolute Deviation is 0.00871043807015\n",
      "For the Second DigitS:\n",
      "\t\t\t- 0.0000 to 0.0008: Close Conformity\n",
      "\t\t\t- 0.0008 to 0.0010: Acceptable Conformity\n",
      "\t\t\t- 0.0010 to 0.0012: Marginally Acceptable Conformity\n",
      "\t\t\t- Above 0.0012: Nonconformity\n"
     ]
    },
    {
     "data": {
      "image/png": "[encoded data removed]",
      "text/plain": [
       "<matplotlib.figure.Figure at 0x7f9d92715a90>"
      ]
     },
     "metadata": {},
     "output_type": "display_data"
    }
   ],
   "source": [
    "s = b.secondDigit()"
   ]
  },
  {
   "cell_type": "code",
   "execution_count": 12,
   "metadata": {
    "collapsed": false,
    "scrolled": false
   },
   "outputs": [
    {
     "name": "stdout",
     "output_type": "stream",
     "text": [
      "\n",
      "---Test performed on 33733 registries.---\n",
      "\n",
      "\n",
      "The top 20 Z scores are:\n",
      "\n",
      "            Expected     Found      Z_test\n",
      "Last_2_Dig                                \n",
      "00          0.010101  0.295497  524.200575\n",
      "50          0.010101  0.025583   28.436990\n",
      "40          0.010101  0.016393   11.557615\n",
      "80          0.010101  0.016305   11.394266\n",
      "60          0.010101  0.015712   10.305274\n",
      "20          0.010101  0.015623   10.141925\n",
      "27          0.010101  0.004951    9.459930\n",
      "41          0.010101  0.005069    9.242132\n",
      "71          0.010101  0.005188    9.024333\n",
      "49          0.010101  0.005247    8.915434\n",
      "98          0.010101  0.005247    8.915434\n",
      "77          0.010101  0.005277    8.860984\n",
      "79          0.010101  0.005277    8.860984\n",
      "73          0.010101  0.005336    8.752085\n",
      "21          0.010101  0.005366    8.697636\n",
      "61          0.010101  0.005455    8.534287\n",
      "63          0.010101  0.005544    8.370938\n",
      "09          0.010101  0.005603    8.262039\n",
      "39          0.010101  0.005632    8.207589\n",
      "59          0.010101  0.005662    8.153140\n"
     ]
    },
    {
     "data": {
      "image/png": "[encoded data removed]",
      "text/plain": [
       "<matplotlib.figure.Figure at 0x7f9d925b0710>"
      ]
     },
     "metadata": {},
     "output_type": "display_data"
    }
   ],
   "source": [
    "lt = b.lastTwoDigits()"
   ]
  },
  {
   "cell_type": "code",
   "execution_count": 13,
   "metadata": {
    "collapsed": false
   },
   "outputs": [
    {
     "name": "stdout",
     "output_type": "stream",
     "text": [
      "\n",
      "---Test performed on 33733 registries.---\n",
      "\n",
      "\n",
      "The 20 more commom duplicities are:\n",
      "\n",
      "      Counts   Percent\n",
      "150       93  0.002757\n",
      "100       91  0.002698\n",
      "50        85  0.002520\n",
      "1000      80  0.002372\n",
      "2000      80  0.002372\n",
      "300       78  0.002312\n",
      "200       76  0.002253\n",
      "3000      75  0.002223\n",
      "700       73  0.002164\n",
      "500       73  0.002164\n",
      "400       70  0.002075\n",
      "1500      69  0.002045\n",
      "450       68  0.002016\n",
      "600       64  0.001897\n",
      "5000      61  0.001808\n",
      "350       55  0.001630\n",
      "30        52  0.001542\n",
      "250       51  0.001512\n",
      "900       49  0.001453\n",
      "1200      45  0.001334\n"
     ]
    }
   ],
   "source": [
    "du = b.duplicities(top_Dupl=20)"
   ]
  },
  {
   "cell_type": "code",
   "execution_count": 17,
   "metadata": {
    "collapsed": false,
    "scrolled": false
   },
   "outputs": [
    {
     "data": {
      "text/plain": [
       "False"
      ]
     },
     "execution_count": 17,
     "metadata": {},
     "output_type": "execute_result"
    }
   ],
   "source": [
    "np.nan in du.index"
   ]
  },
  {
   "cell_type": "code",
   "execution_count": 43,
   "metadata": {
    "collapsed": false
   },
   "outputs": [
    {
     "data": {
      "text/plain": [
       "'999900'"
      ]
     },
     "execution_count": 43,
     "metadata": {},
     "output_type": "execute_result"
    }
   ],
   "source": [
    "e.max()"
   ]
  },
  {
   "cell_type": "code",
   "execution_count": null,
   "metadata": {
    "collapsed": true
   },
   "outputs": [],
   "source": []
  }
 ],
 "metadata": {
  "kernelspec": {
   "display_name": "Python 2",
   "language": "python",
   "name": "python2"
  },
  "language_info": {
   "codemirror_mode": {
    "name": "ipython",
    "version": 2
   },
   "file_extension": ".py",
   "mimetype": "text/x-python",
   "name": "python",
   "nbconvert_exporter": "python",
   "pygments_lexer": "ipython2",
   "version": "2.7.9"
  }
 },
 "nbformat": 4,
 "nbformat_minor": 0
}
