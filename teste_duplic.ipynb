{
 "cells": [
  {
   "cell_type": "markdown",
   "metadata": {},
   "source": [
    "### First let's import some libraries and get some public data"
   ]
  },
  {
   "cell_type": "markdown",
   "metadata": {},
   "source": [
    "#### Imports"
   ]
  },
  {
   "cell_type": "code",
   "execution_count": 1,
   "metadata": {
    "collapsed": false
   },
   "outputs": [],
   "source": [
    "import numpy as np\n",
    "import pandas as pd\n",
    "import pandas_datareader.data as web\n",
    "%matplotlib inline\n",
    "import matplotlib.pyplot as plt\n",
    "#%matplotlib notebook"
   ]
  },
  {
   "cell_type": "markdown",
   "metadata": {},
   "source": [
    "#### Fetch S&P500 ETF market data"
   ]
  },
  {
   "cell_type": "code",
   "execution_count": 2,
   "metadata": {
    "collapsed": false,
    "scrolled": false
   },
   "outputs": [],
   "source": [
    "sp = web.DataReader('SPY', 'yahoo', start='1990-01-01', end='2016-10-31')"
   ]
  },
  {
   "cell_type": "code",
   "execution_count": 3,
   "metadata": {
    "collapsed": false
   },
   "outputs": [
    {
     "data": {
      "text/html": [
       "<div>\n",
       "<table border=\"1\" class=\"dataframe\">\n",
       "  <thead>\n",
       "    <tr style=\"text-align: right;\">\n",
       "      <th></th>\n",
       "      <th>Open</th>\n",
       "      <th>High</th>\n",
       "      <th>Low</th>\n",
       "      <th>Close</th>\n",
       "      <th>Volume</th>\n",
       "      <th>Adj Close</th>\n",
       "    </tr>\n",
       "    <tr>\n",
       "      <th>Date</th>\n",
       "      <th></th>\n",
       "      <th></th>\n",
       "      <th></th>\n",
       "      <th></th>\n",
       "      <th></th>\n",
       "      <th></th>\n",
       "    </tr>\n",
       "  </thead>\n",
       "  <tbody>\n",
       "    <tr>\n",
       "      <th>1993-01-29</th>\n",
       "      <td>43.9687</td>\n",
       "      <td>43.9687</td>\n",
       "      <td>43.7500</td>\n",
       "      <td>43.9375</td>\n",
       "      <td>1003200</td>\n",
       "      <td>28.165877</td>\n",
       "    </tr>\n",
       "    <tr>\n",
       "      <th>1993-02-01</th>\n",
       "      <td>43.9687</td>\n",
       "      <td>44.2500</td>\n",
       "      <td>43.9687</td>\n",
       "      <td>44.2500</td>\n",
       "      <td>480500</td>\n",
       "      <td>28.366203</td>\n",
       "    </tr>\n",
       "    <tr>\n",
       "      <th>1993-02-02</th>\n",
       "      <td>44.2187</td>\n",
       "      <td>44.3750</td>\n",
       "      <td>44.1250</td>\n",
       "      <td>44.3437</td>\n",
       "      <td>201300</td>\n",
       "      <td>28.426269</td>\n",
       "    </tr>\n",
       "    <tr>\n",
       "      <th>1993-02-03</th>\n",
       "      <td>44.4062</td>\n",
       "      <td>44.8437</td>\n",
       "      <td>44.3750</td>\n",
       "      <td>44.8125</td>\n",
       "      <td>529400</td>\n",
       "      <td>28.726791</td>\n",
       "    </tr>\n",
       "    <tr>\n",
       "      <th>1993-02-04</th>\n",
       "      <td>44.9687</td>\n",
       "      <td>45.0937</td>\n",
       "      <td>44.4687</td>\n",
       "      <td>45.0000</td>\n",
       "      <td>531500</td>\n",
       "      <td>28.846986</td>\n",
       "    </tr>\n",
       "  </tbody>\n",
       "</table>\n",
       "</div>"
      ],
      "text/plain": [
       "               Open     High      Low    Close   Volume  Adj Close\n",
       "Date                                                              \n",
       "1993-01-29  43.9687  43.9687  43.7500  43.9375  1003200  28.165877\n",
       "1993-02-01  43.9687  44.2500  43.9687  44.2500   480500  28.366203\n",
       "1993-02-02  44.2187  44.3750  44.1250  44.3437   201300  28.426269\n",
       "1993-02-03  44.4062  44.8437  44.3750  44.8125   529400  28.726791\n",
       "1993-02-04  44.9687  45.0937  44.4687  45.0000   531500  28.846986"
      ]
     },
     "execution_count": 3,
     "metadata": {},
     "output_type": "execute_result"
    }
   ],
   "source": [
    "sp.head()"
   ]
  },
  {
   "cell_type": "markdown",
   "metadata": {},
   "source": [
    "#### Now let's add some computed information"
   ]
  },
  {
   "cell_type": "code",
   "execution_count": 4,
   "metadata": {
    "collapsed": false
   },
   "outputs": [
    {
     "data": {
      "text/html": [
       "<div>\n",
       "<table border=\"1\" class=\"dataframe\">\n",
       "  <thead>\n",
       "    <tr style=\"text-align: right;\">\n",
       "      <th></th>\n",
       "      <th>Open</th>\n",
       "      <th>High</th>\n",
       "      <th>Low</th>\n",
       "      <th>Close</th>\n",
       "      <th>Volume</th>\n",
       "      <th>Adj_Close</th>\n",
       "      <th>p_r</th>\n",
       "      <th>l_r</th>\n",
       "    </tr>\n",
       "    <tr>\n",
       "      <th>Date</th>\n",
       "      <th></th>\n",
       "      <th></th>\n",
       "      <th></th>\n",
       "      <th></th>\n",
       "      <th></th>\n",
       "      <th></th>\n",
       "      <th></th>\n",
       "      <th></th>\n",
       "    </tr>\n",
       "  </thead>\n",
       "  <tbody>\n",
       "    <tr>\n",
       "      <th>2016-10-25</th>\n",
       "      <td>214.679993</td>\n",
       "      <td>214.979996</td>\n",
       "      <td>213.979996</td>\n",
       "      <td>214.169998</td>\n",
       "      <td>66542300</td>\n",
       "      <td>214.169998</td>\n",
       "      <td>-0.003351</td>\n",
       "      <td>-0.003356</td>\n",
       "    </tr>\n",
       "    <tr>\n",
       "      <th>2016-10-26</th>\n",
       "      <td>213.210007</td>\n",
       "      <td>214.419998</td>\n",
       "      <td>212.929993</td>\n",
       "      <td>213.740005</td>\n",
       "      <td>75705500</td>\n",
       "      <td>213.740005</td>\n",
       "      <td>-0.002008</td>\n",
       "      <td>-0.002010</td>\n",
       "    </tr>\n",
       "    <tr>\n",
       "      <th>2016-10-27</th>\n",
       "      <td>214.580002</td>\n",
       "      <td>214.619995</td>\n",
       "      <td>213.080002</td>\n",
       "      <td>213.169998</td>\n",
       "      <td>77220200</td>\n",
       "      <td>213.169998</td>\n",
       "      <td>-0.002667</td>\n",
       "      <td>-0.002670</td>\n",
       "    </tr>\n",
       "    <tr>\n",
       "      <th>2016-10-28</th>\n",
       "      <td>213.139999</td>\n",
       "      <td>213.929993</td>\n",
       "      <td>211.710007</td>\n",
       "      <td>212.539993</td>\n",
       "      <td>140623200</td>\n",
       "      <td>212.539993</td>\n",
       "      <td>-0.002955</td>\n",
       "      <td>-0.002960</td>\n",
       "    </tr>\n",
       "    <tr>\n",
       "      <th>2016-10-31</th>\n",
       "      <td>212.929993</td>\n",
       "      <td>213.190002</td>\n",
       "      <td>212.360001</td>\n",
       "      <td>212.550003</td>\n",
       "      <td>61272500</td>\n",
       "      <td>212.550003</td>\n",
       "      <td>0.000047</td>\n",
       "      <td>0.000047</td>\n",
       "    </tr>\n",
       "  </tbody>\n",
       "</table>\n",
       "</div>"
      ],
      "text/plain": [
       "                  Open        High         Low       Close     Volume  \\\n",
       "Date                                                                    \n",
       "2016-10-25  214.679993  214.979996  213.979996  214.169998   66542300   \n",
       "2016-10-26  213.210007  214.419998  212.929993  213.740005   75705500   \n",
       "2016-10-27  214.580002  214.619995  213.080002  213.169998   77220200   \n",
       "2016-10-28  213.139999  213.929993  211.710007  212.539993  140623200   \n",
       "2016-10-31  212.929993  213.190002  212.360001  212.550003   61272500   \n",
       "\n",
       "             Adj_Close       p_r       l_r  \n",
       "Date                                        \n",
       "2016-10-25  214.169998 -0.003351 -0.003356  \n",
       "2016-10-26  213.740005 -0.002008 -0.002010  \n",
       "2016-10-27  213.169998 -0.002667 -0.002670  \n",
       "2016-10-28  212.539993 -0.002955 -0.002960  \n",
       "2016-10-31  212.550003  0.000047  0.000047  "
      ]
     },
     "execution_count": 4,
     "metadata": {},
     "output_type": "execute_result"
    }
   ],
   "source": [
    "#adding '_' to facilitate handling the column\n",
    "sp.rename(columns={'Adj Close':'Adj_Close'}, inplace=True) \n",
    "sp['p_r'] = sp.Adj_Close/sp.Adj_Close.shift()-1        #simple returns\n",
    "sp['l_r'] = np.log(sp.Adj_Close/sp.Adj_Close.shift())  #log returns\n",
    "sp.tail()"
   ]
  },
  {
   "cell_type": "code",
   "execution_count": 31,
   "metadata": {
    "collapsed": false
   },
   "outputs": [
    {
     "name": "stdout",
     "output_type": "stream",
     "text": [
      "<class 'pandas.core.frame.DataFrame'>\n",
      "DatetimeIndex: 5984 entries, 1993-01-29 to 2016-10-31\n",
      "Data columns (total 8 columns):\n",
      "Open         5984 non-null float64\n",
      "High         5984 non-null float64\n",
      "Low          5984 non-null float64\n",
      "Close        5984 non-null float64\n",
      "Volume       5984 non-null int64\n",
      "Adj_Close    5984 non-null float64\n",
      "p_r          5983 non-null float64\n",
      "l_r          5983 non-null float64\n",
      "dtypes: float64(7), int64(1)\n",
      "memory usage: 420.8 KB\n"
     ]
    }
   ],
   "source": [
    "sp.info()"
   ]
  },
  {
   "cell_type": "code",
   "execution_count": 5,
   "metadata": {
    "collapsed": true
   },
   "outputs": [],
   "source": [
    "import benford as bf"
   ]
  },
  {
   "cell_type": "markdown",
   "metadata": {},
   "source": [
    "### Now to real usage\n",
    "##### Benford's Analysis is the study of a series of numbers through the recording of digits position and comparing the digits proportion in the series with Benford's expected didstributions."
   ]
  },
  {
   "cell_type": "markdown",
   "metadata": {},
   "source": [
    "##### The main class in the Benford module is 'Analysis'. It takes a sequence of numbers and creates a pandas DataFrame with columns that refer to the digits and their position in each number."
   ]
  },
  {
   "cell_type": "code",
   "execution_count": 23,
   "metadata": {
    "collapsed": false,
    "scrolled": false
   },
   "outputs": [
    {
     "name": "stdout",
     "output_type": "stream",
     "text": [
      "Initialized sequence with 5984 registries.\n"
     ]
    },
    {
     "data": {
      "text/html": [
       "<div>\n",
       "<table border=\"1\" class=\"dataframe\">\n",
       "  <thead>\n",
       "    <tr style=\"text-align: right;\">\n",
       "      <th></th>\n",
       "      <th>Seq</th>\n",
       "      <th>ZN</th>\n",
       "      <th>F1D</th>\n",
       "      <th>SD</th>\n",
       "      <th>F2D</th>\n",
       "      <th>F3D</th>\n",
       "      <th>L2D</th>\n",
       "    </tr>\n",
       "    <tr>\n",
       "      <th>Date</th>\n",
       "      <th></th>\n",
       "      <th></th>\n",
       "      <th></th>\n",
       "      <th></th>\n",
       "      <th></th>\n",
       "      <th></th>\n",
       "      <th></th>\n",
       "    </tr>\n",
       "  </thead>\n",
       "  <tbody>\n",
       "    <tr>\n",
       "      <th>1993-01-29</th>\n",
       "      <td>1003200</td>\n",
       "      <td>1003200</td>\n",
       "      <td>1</td>\n",
       "      <td>0</td>\n",
       "      <td>10</td>\n",
       "      <td>100</td>\n",
       "      <td>00</td>\n",
       "    </tr>\n",
       "    <tr>\n",
       "      <th>1993-02-01</th>\n",
       "      <td>480500</td>\n",
       "      <td>480500</td>\n",
       "      <td>4</td>\n",
       "      <td>8</td>\n",
       "      <td>48</td>\n",
       "      <td>480</td>\n",
       "      <td>00</td>\n",
       "    </tr>\n",
       "    <tr>\n",
       "      <th>1993-02-02</th>\n",
       "      <td>201300</td>\n",
       "      <td>201300</td>\n",
       "      <td>2</td>\n",
       "      <td>0</td>\n",
       "      <td>20</td>\n",
       "      <td>201</td>\n",
       "      <td>00</td>\n",
       "    </tr>\n",
       "    <tr>\n",
       "      <th>1993-02-03</th>\n",
       "      <td>529400</td>\n",
       "      <td>529400</td>\n",
       "      <td>5</td>\n",
       "      <td>2</td>\n",
       "      <td>52</td>\n",
       "      <td>529</td>\n",
       "      <td>00</td>\n",
       "    </tr>\n",
       "    <tr>\n",
       "      <th>1993-02-04</th>\n",
       "      <td>531500</td>\n",
       "      <td>531500</td>\n",
       "      <td>5</td>\n",
       "      <td>3</td>\n",
       "      <td>53</td>\n",
       "      <td>531</td>\n",
       "      <td>00</td>\n",
       "    </tr>\n",
       "    <tr>\n",
       "      <th>1993-02-05</th>\n",
       "      <td>492100</td>\n",
       "      <td>492100</td>\n",
       "      <td>4</td>\n",
       "      <td>9</td>\n",
       "      <td>49</td>\n",
       "      <td>492</td>\n",
       "      <td>00</td>\n",
       "    </tr>\n",
       "    <tr>\n",
       "      <th>1993-02-08</th>\n",
       "      <td>596100</td>\n",
       "      <td>596100</td>\n",
       "      <td>5</td>\n",
       "      <td>9</td>\n",
       "      <td>59</td>\n",
       "      <td>596</td>\n",
       "      <td>00</td>\n",
       "    </tr>\n",
       "    <tr>\n",
       "      <th>1993-02-09</th>\n",
       "      <td>122100</td>\n",
       "      <td>122100</td>\n",
       "      <td>1</td>\n",
       "      <td>2</td>\n",
       "      <td>12</td>\n",
       "      <td>122</td>\n",
       "      <td>00</td>\n",
       "    </tr>\n",
       "    <tr>\n",
       "      <th>1993-02-10</th>\n",
       "      <td>379600</td>\n",
       "      <td>379600</td>\n",
       "      <td>3</td>\n",
       "      <td>7</td>\n",
       "      <td>37</td>\n",
       "      <td>379</td>\n",
       "      <td>00</td>\n",
       "    </tr>\n",
       "    <tr>\n",
       "      <th>1993-02-11</th>\n",
       "      <td>19500</td>\n",
       "      <td>19500</td>\n",
       "      <td>1</td>\n",
       "      <td>9</td>\n",
       "      <td>19</td>\n",
       "      <td>195</td>\n",
       "      <td>00</td>\n",
       "    </tr>\n",
       "  </tbody>\n",
       "</table>\n",
       "</div>"
      ],
      "text/plain": [
       "                Seq       ZN  F1D  SD  F2D  F3D L2D\n",
       "Date                                               \n",
       "1993-01-29  1003200  1003200    1   0   10  100  00\n",
       "1993-02-01   480500   480500    4   8   48  480  00\n",
       "1993-02-02   201300   201300    2   0   20  201  00\n",
       "1993-02-03   529400   529400    5   2   52  529  00\n",
       "1993-02-04   531500   531500    5   3   53  531  00\n",
       "1993-02-05   492100   492100    4   9   49  492  00\n",
       "1993-02-08   596100   596100    5   9   59  596  00\n",
       "1993-02-09   122100   122100    1   2   12  122  00\n",
       "1993-02-10   379600   379600    3   7   37  379  00\n",
       "1993-02-11    19500    19500    1   9   19  195  00"
      ]
     },
     "execution_count": 23,
     "metadata": {},
     "output_type": "execute_result"
    }
   ],
   "source": [
    "a = bf.Analysis(sp.Volume, sign='all', dec=0)  # used absolute values of SPY log returns\n",
    "a.head(10)"
   ]
  },
  {
   "cell_type": "code",
   "execution_count": 36,
   "metadata": {
    "collapsed": false
   },
   "outputs": [
    {
     "name": "stdout",
     "output_type": "stream",
     "text": [
      "Found 66 duplicated entries\n",
      "The entries with the 10 highest repitition counts are:\n",
      "         Count\n",
      "Entries       \n",
      "390700       3\n",
      "99300        3\n",
      "389400       3\n",
      "358200       3\n",
      "66900        3\n",
      "30800        2\n",
      "344500       2\n",
      "373700       2\n",
      "353800       2\n",
      "318500       2\n"
     ]
    }
   ],
   "source": [
    "a.duplicates(top_Rep=10)"
   ]
  },
  {
   "cell_type": "code",
   "execution_count": 37,
   "metadata": {
    "collapsed": false
   },
   "outputs": [
    {
     "data": {
      "text/plain": [
       "{'F2D': array([40, 72, 29, 24]),\n",
       " 'L2D': array([0]),\n",
       " 'dup': array([390700,  99300, 389400, 358200,  66900,  30800, 344500, 373700,\n",
       "        353800, 318500])}"
      ]
     },
     "execution_count": 37,
     "metadata": {},
     "output_type": "execute_result"
    }
   ],
   "source": [
    "a.maps"
   ]
  },
  {
   "cell_type": "code",
   "execution_count": null,
   "metadata": {
    "collapsed": true
   },
   "outputs": [],
   "source": []
  }
 ],
 "metadata": {
  "kernelspec": {
   "display_name": "Python [Root]",
   "language": "python",
   "name": "Python [Root]"
  },
  "language_info": {
   "codemirror_mode": {
    "name": "ipython",
    "version": 2
   },
   "file_extension": ".py",
   "mimetype": "text/x-python",
   "name": "python",
   "nbconvert_exporter": "python",
   "pygments_lexer": "ipython2",
   "version": "2.7.12"
  }
 },
 "nbformat": 4,
 "nbformat_minor": 0
}
