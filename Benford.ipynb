{
 "metadata": {
  "name": "",
  "signature": "sha256:e8b25fece4932dc2cf42547fd0e82502190e2599d9e38c46c7abcf33462b7f3c"
 },
 "nbformat": 3,
 "nbformat_minor": 0,
 "worksheets": [
  {
   "cells": [
    {
     "cell_type": "code",
     "collapsed": false,
     "input": [
      "import pandas as pd\n",
      "import numpy as np\n",
      "import matplotlib.pyplot as plt"
     ],
     "language": "python",
     "metadata": {},
     "outputs": [],
     "prompt_number": 1
    },
    {
     "cell_type": "code",
     "collapsed": false,
     "input": [
      "t = np.arange(10,1000,10)"
     ],
     "language": "python",
     "metadata": {},
     "outputs": [],
     "prompt_number": 13
    },
    {
     "cell_type": "code",
     "collapsed": false,
     "input": [
      "t[:10]"
     ],
     "language": "python",
     "metadata": {},
     "outputs": [
      {
       "metadata": {},
       "output_type": "pyout",
       "prompt_number": 14,
       "text": [
        "array([ 10,  20,  30,  40,  50,  60,  70,  80,  90, 100])"
       ]
      }
     ],
     "prompt_number": 14
    },
    {
     "cell_type": "heading",
     "level": 4,
     "metadata": {},
     "source": [
      "Getting the Mantissas"
     ]
    },
    {
     "cell_type": "code",
     "collapsed": false,
     "input": [
      "np.log10(t) - np.log10(t).astype(int)"
     ],
     "language": "python",
     "metadata": {},
     "outputs": [
      {
       "metadata": {},
       "output_type": "pyout",
       "prompt_number": 16,
       "text": [
        "array([ 0.        ,  0.30103   ,  0.47712125,  0.60205999,  0.69897   ,\n",
        "        0.77815125,  0.84509804,  0.90308999,  0.95424251,  0.        ,\n",
        "        0.04139269,  0.07918125,  0.11394335,  0.14612804,  0.17609126,\n",
        "        0.20411998,  0.23044892,  0.25527251,  0.2787536 ,  0.30103   ,\n",
        "        0.32221929,  0.34242268,  0.36172784,  0.38021124,  0.39794001,\n",
        "        0.41497335,  0.43136376,  0.44715803,  0.462398  ,  0.47712125,\n",
        "        0.49136169,  0.50514998,  0.51851394,  0.53147892,  0.54406804,\n",
        "        0.5563025 ,  0.56820172,  0.5797836 ,  0.59106461,  0.60205999,\n",
        "        0.61278386,  0.62324929,  0.63346846,  0.64345268,  0.65321251,\n",
        "        0.66275783,  0.67209786,  0.68124124,  0.69019608,  0.69897   ,\n",
        "        0.70757018,  0.71600334,  0.72427587,  0.73239376,  0.74036269,\n",
        "        0.74818803,  0.75587486,  0.76342799,  0.77085201,  0.77815125,\n",
        "        0.78532984,  0.79239169,  0.79934055,  0.80617997,  0.81291336,\n",
        "        0.81954394,  0.8260748 ,  0.83250891,  0.83884909,  0.84509804,\n",
        "        0.85125835,  0.8573325 ,  0.86332286,  0.86923172,  0.87506126,\n",
        "        0.88081359,  0.88649073,  0.8920946 ,  0.89762709,  0.90308999,\n",
        "        0.90848502,  0.91381385,  0.91907809,  0.92427929,  0.92941893,\n",
        "        0.93449845,  0.93951925,  0.94448267,  0.94939001,  0.95424251,\n",
        "        0.95904139,  0.96378783,  0.96848295,  0.97312785,  0.97772361,\n",
        "        0.98227123,  0.98677173,  0.99122608,  0.99563519])"
       ]
      }
     ],
     "prompt_number": 16
    },
    {
     "cell_type": "code",
     "collapsed": false,
     "input": [
      "g = np.random.randint(1000, size =200)\n",
      "g"
     ],
     "language": "python",
     "metadata": {},
     "outputs": [
      {
       "metadata": {},
       "output_type": "pyout",
       "prompt_number": 21,
       "text": [
        "array([935, 115, 318, 316, 951,  61, 689, 763, 971, 120, 407, 875,  44,\n",
        "       734,  73, 945, 938, 969, 575,  71, 529, 666, 619, 971, 636, 407,\n",
        "       339, 414, 767, 824, 842,  42, 909,  57, 821, 446, 166,  75, 142,\n",
        "       625, 380, 393, 776, 972, 911,  27, 430,  62, 748, 837, 390, 901,\n",
        "       417,  99, 655, 241, 990, 248, 745, 498, 783, 394, 617, 685,   9,\n",
        "       819, 714, 176, 908, 516,   1, 688, 706, 424, 418, 869, 479, 589,\n",
        "       582, 116, 945, 701, 646, 662,  99, 342, 470, 559,  21, 995, 505,\n",
        "       829, 834, 928,  90, 416, 468, 201, 676, 614, 784, 423, 643, 618,\n",
        "       912, 892, 649, 203, 392, 875, 732, 255, 917, 738, 752, 136, 192,\n",
        "       206, 685, 512, 567, 870,  69, 137,  37, 417, 513, 650, 532, 585,\n",
        "       529, 735, 997, 150,  58, 986, 242,  55, 265, 830, 528, 953, 873,\n",
        "       135, 617, 588, 834, 649, 432, 604, 795, 267, 294,  35, 405, 861,\n",
        "       810, 514, 981, 117, 990, 803,  47, 350, 148, 174, 188,  78, 856,\n",
        "       881, 146, 493, 784, 673, 572, 597, 974, 967, 772, 266, 537,  23,\n",
        "       787, 221, 800, 944, 346,  35, 511, 315, 964, 931, 597,  74, 479,\n",
        "       910, 369, 200, 625, 187])"
       ]
      }
     ],
     "prompt_number": 21
    },
    {
     "cell_type": "code",
     "collapsed": false,
     "input": [
      "m = np.log10(g) - np.log10(g).astype(int)\n",
      "m"
     ],
     "language": "python",
     "metadata": {},
     "outputs": [
      {
       "metadata": {},
       "output_type": "pyout",
       "prompt_number": 33,
       "text": [
        "array([ 0.97081161,  0.06069784,  0.50242712,  0.49968708,  0.97818052,\n",
        "        0.78532984,  0.83821922,  0.88252454,  0.98721923,  0.07918125,\n",
        "        0.60959441,  0.94200805,  0.64345268,  0.86569606,  0.86332286,\n",
        "        0.97543181,  0.97220284,  0.98632378,  0.75966784,  0.85125835,\n",
        "        0.72345567,  0.82347423,  0.79169065,  0.98721923,  0.80345712,\n",
        "        0.60959441,  0.5301997 ,  0.61700034,  0.88479536,  0.91592721,\n",
        "        0.92531209,  0.62324929,  0.95856388,  0.75587486,  0.91434316,\n",
        "        0.64933486,  0.22010809,  0.87506126,  0.15228834,  0.79588002,\n",
        "        0.5797836 ,  0.59439255,  0.88986172,  0.98766626,  0.95951838,\n",
        "        0.43136376,  0.63346846,  0.79239169,  0.8739016 ,  0.92272546,\n",
        "        0.59106461,  0.95472479,  0.62013605,  0.99563519,  0.8162413 ,\n",
        "        0.38201704,  0.99563519,  0.39445168,  0.87215627,  0.69722934,\n",
        "        0.89376176,  0.59549622,  0.79028516,  0.83569057,  0.95424251,\n",
        "        0.9132839 ,  0.85369821,  0.24551267,  0.95808585,  0.7126497 ,\n",
        "        0.        ,  0.83758844,  0.8488047 ,  0.62736586,  0.62117628,\n",
        "        0.93901978,  0.68033551,  0.77011529,  0.76492298,  0.06445799,\n",
        "        0.97543181,  0.84571802,  0.81023252,  0.82085799,  0.99563519,\n",
        "        0.53402611,  0.67209786,  0.74741181,  0.32221929,  0.99782308,\n",
        "        0.70329138,  0.91855453,  0.92116605,  0.96754798,  0.95424251,\n",
        "        0.61909333,  0.67024585,  0.30319606,  0.8299467 ,  0.78816837,\n",
        "        0.89431606,  0.62634037,  0.80821097,  0.79098848,  0.95999484,\n",
        "        0.95036485,  0.8122447 ,  0.30749604,  0.59328607,  0.94200805,\n",
        "        0.86451108,  0.40654018,  0.96236934,  0.86805636,  0.87621784,\n",
        "        0.13353891,  0.28330123,  0.31386722,  0.83569057,  0.70926996,\n",
        "        0.75358306,  0.93951925,  0.83884909,  0.13672057,  0.56820172,\n",
        "        0.62013605,  0.71011737,  0.81291336,  0.72591163,  0.76715587,\n",
        "        0.72345567,  0.86628734,  0.99869516,  0.17609126,  0.76342799,\n",
        "        0.99387691,  0.38381537,  0.74036269,  0.42324587,  0.91907809,\n",
        "        0.72263392,  0.9790929 ,  0.94101424,  0.13033377,  0.79028516,\n",
        "        0.76937733,  0.92116605,  0.8122447 ,  0.63548375,  0.78103694,\n",
        "        0.90036713,  0.42651126,  0.46834733,  0.54406804,  0.60745502,\n",
        "        0.93500315,  0.90848502,  0.71096312,  0.99166901,  0.06818586,\n",
        "        0.99563519,  0.90471555,  0.67209786,  0.54406804,  0.17026172,\n",
        "        0.24054925,  0.27415785,  0.8920946 ,  0.93247376,  0.94497591,\n",
        "        0.16435286,  0.69284692,  0.89431606,  0.82801506,  0.75739603,\n",
        "        0.77597433,  0.98855896,  0.98542647,  0.8876173 ,  0.42488164,\n",
        "        0.72997429,  0.36172784,  0.89597473,  0.34439227,  0.90308999,\n",
        "        0.97497199,  0.5390761 ,  0.54406804,  0.7084209 ,  0.49831055,\n",
        "        0.98407703,  0.96894968,  0.77597433,  0.86923172,  0.68033551,\n",
        "        0.95904139,  0.56702637,  0.30103   ,  0.79588002,  0.27184161])"
       ]
      }
     ],
     "prompt_number": 33
    },
    {
     "cell_type": "heading",
     "level": 4,
     "metadata": {},
     "source": [
      "Ordering the Mantissas and Plotting"
     ]
    },
    {
     "cell_type": "code",
     "collapsed": false,
     "input": [
      "m.sort()\n",
      "m"
     ],
     "language": "python",
     "metadata": {},
     "outputs": [
      {
       "metadata": {},
       "output_type": "pyout",
       "prompt_number": 34,
       "text": [
        "array([ 0.        ,  0.06069784,  0.06445799,  0.06818586,  0.07918125,\n",
        "        0.13033377,  0.13353891,  0.13672057,  0.15228834,  0.16435286,\n",
        "        0.17026172,  0.17609126,  0.22010809,  0.24054925,  0.24551267,\n",
        "        0.27184161,  0.27415785,  0.28330123,  0.30103   ,  0.30319606,\n",
        "        0.30749604,  0.31386722,  0.32221929,  0.34439227,  0.36172784,\n",
        "        0.38201704,  0.38381537,  0.39445168,  0.40654018,  0.42324587,\n",
        "        0.42488164,  0.42651126,  0.43136376,  0.46834733,  0.49831055,\n",
        "        0.49968708,  0.50242712,  0.5301997 ,  0.53402611,  0.5390761 ,\n",
        "        0.54406804,  0.54406804,  0.54406804,  0.56702637,  0.56820172,\n",
        "        0.5797836 ,  0.59106461,  0.59328607,  0.59439255,  0.59549622,\n",
        "        0.60745502,  0.60959441,  0.60959441,  0.61700034,  0.61909333,\n",
        "        0.62013605,  0.62013605,  0.62117628,  0.62324929,  0.62634037,\n",
        "        0.62736586,  0.63346846,  0.63548375,  0.64345268,  0.64933486,\n",
        "        0.67024585,  0.67209786,  0.67209786,  0.68033551,  0.68033551,\n",
        "        0.69284692,  0.69722934,  0.70329138,  0.7084209 ,  0.70926996,\n",
        "        0.71011737,  0.71096312,  0.7126497 ,  0.72263392,  0.72345567,\n",
        "        0.72345567,  0.72591163,  0.72997429,  0.74036269,  0.74741181,\n",
        "        0.75358306,  0.75587486,  0.75739603,  0.75966784,  0.76342799,\n",
        "        0.76492298,  0.76715587,  0.76937733,  0.77011529,  0.77597433,\n",
        "        0.77597433,  0.78103694,  0.78532984,  0.78816837,  0.79028516,\n",
        "        0.79028516,  0.79098848,  0.79169065,  0.79239169,  0.79588002,\n",
        "        0.79588002,  0.80345712,  0.80821097,  0.81023252,  0.8122447 ,\n",
        "        0.8122447 ,  0.81291336,  0.8162413 ,  0.82085799,  0.82347423,\n",
        "        0.82801506,  0.8299467 ,  0.83569057,  0.83569057,  0.83758844,\n",
        "        0.83821922,  0.83884909,  0.84571802,  0.8488047 ,  0.85125835,\n",
        "        0.85369821,  0.86332286,  0.86451108,  0.86569606,  0.86628734,\n",
        "        0.86805636,  0.86923172,  0.87215627,  0.8739016 ,  0.87506126,\n",
        "        0.87621784,  0.88252454,  0.88479536,  0.8876173 ,  0.88986172,\n",
        "        0.8920946 ,  0.89376176,  0.89431606,  0.89431606,  0.89597473,\n",
        "        0.90036713,  0.90308999,  0.90471555,  0.90848502,  0.9132839 ,\n",
        "        0.91434316,  0.91592721,  0.91855453,  0.91907809,  0.92116605,\n",
        "        0.92116605,  0.92272546,  0.92531209,  0.93247376,  0.93500315,\n",
        "        0.93901978,  0.93951925,  0.94101424,  0.94200805,  0.94200805,\n",
        "        0.94497591,  0.95036485,  0.95424251,  0.95424251,  0.95472479,\n",
        "        0.95808585,  0.95856388,  0.95904139,  0.95951838,  0.95999484,\n",
        "        0.96236934,  0.96754798,  0.96894968,  0.97081161,  0.97220284,\n",
        "        0.97497199,  0.97543181,  0.97543181,  0.97818052,  0.9790929 ,\n",
        "        0.98407703,  0.98542647,  0.98632378,  0.98721923,  0.98721923,\n",
        "        0.98766626,  0.98855896,  0.99166901,  0.99387691,  0.99563519,\n",
        "        0.99563519,  0.99563519,  0.99563519,  0.99782308,  0.99869516])"
       ]
      }
     ],
     "prompt_number": 34
    },
    {
     "cell_type": "code",
     "collapsed": false,
     "input": [
      "pylab inline"
     ],
     "language": "python",
     "metadata": {},
     "outputs": [
      {
       "output_type": "stream",
       "stream": "stdout",
       "text": [
        "Populating the interactive namespace from numpy and matplotlib\n"
       ]
      }
     ],
     "prompt_number": 38
    },
    {
     "cell_type": "code",
     "collapsed": false,
     "input": [
      "plt.plot(np.arange(len(m)), m)"
     ],
     "language": "python",
     "metadata": {},
     "outputs": [
      {
       "metadata": {},
       "output_type": "pyout",
       "prompt_number": 41,
       "text": [
        "[<matplotlib.lines.Line2D at 0x7f6bd2abac10>]"
       ]
      },
      {
       "metadata": {},
       "output_type": "display_data",
       "png": "[encoded data removed]",
       "text": [
        "<matplotlib.figure.Figure at 0x7f6bd2a670d0>"
       ]
      }
     ],
     "prompt_number": 41
    },
    {
     "cell_type": "code",
     "collapsed": false,
     "input": [
      "d = (np.log10(g) - np.log10(g).astype(int)).sort()\n",
      "print d"
     ],
     "language": "python",
     "metadata": {},
     "outputs": [
      {
       "output_type": "stream",
       "stream": "stdout",
       "text": [
        "None\n"
       ]
      }
     ],
     "prompt_number": 44
    }
   ],
   "metadata": {}
  }
 ]
}