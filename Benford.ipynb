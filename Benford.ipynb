{
 "metadata": {
  "name": "",
<<<<<<< HEAD
  "signature": "sha256:ebd12fa793aabbe9e13ac234838292ade2e4b2495a5db6b40e329cc45f766174"
=======
  "signature": "sha256:fcc266e2b3b12697d7c9842db0cdacb115ec8a6f19ec71172dc8235129cfee6c"
>>>>>>> 2f58a846ded1767abb5bf659b18b03c6e20063db
 },
 "nbformat": 3,
 "nbformat_minor": 0,
 "worksheets": [
  {
   "cells": [
    {
     "cell_type": "code",
     "collapsed": false,
     "input": [
      "import pandas as pd\n",
      "import numpy as np\n",
      "import matplotlib.pyplot as plt"
     ],
     "language": "python",
     "metadata": {},
     "outputs": [],
     "prompt_number": 1
    },
    {
     "cell_type": "code",
     "collapsed": false,
     "input": [
      "t = np.arange(10,1000,10)"
     ],
     "language": "python",
     "metadata": {},
     "outputs": [],
     "prompt_number": 2
    },
    {
     "cell_type": "code",
     "collapsed": false,
     "input": [
      "t[:10]"
     ],
     "language": "python",
     "metadata": {},
     "outputs": [
      {
       "metadata": {},
       "output_type": "pyout",
       "prompt_number": 3,
       "text": [
        "array([ 10,  20,  30,  40,  50,  60,  70,  80,  90, 100])"
       ]
      }
     ],
     "prompt_number": 3
    },
    {
     "cell_type": "heading",
     "level": 4,
     "metadata": {},
     "source": [
      "Getting the Mantissas"
     ]
    },
    {
     "cell_type": "code",
     "collapsed": false,
     "input": [
      "np.log10(t) - np.log10(t).astype(int)"
     ],
     "language": "python",
     "metadata": {},
     "outputs": [
      {
       "metadata": {},
       "output_type": "pyout",
       "prompt_number": 4,
       "text": [
        "array([ 0.        ,  0.30103   ,  0.47712125,  0.60205999,  0.69897   ,\n",
        "        0.77815125,  0.84509804,  0.90308999,  0.95424251,  0.        ,\n",
        "        0.04139269,  0.07918125,  0.11394335,  0.14612804,  0.17609126,\n",
        "        0.20411998,  0.23044892,  0.25527251,  0.2787536 ,  0.30103   ,\n",
        "        0.32221929,  0.34242268,  0.36172784,  0.38021124,  0.39794001,\n",
        "        0.41497335,  0.43136376,  0.44715803,  0.462398  ,  0.47712125,\n",
        "        0.49136169,  0.50514998,  0.51851394,  0.53147892,  0.54406804,\n",
        "        0.5563025 ,  0.56820172,  0.5797836 ,  0.59106461,  0.60205999,\n",
        "        0.61278386,  0.62324929,  0.63346846,  0.64345268,  0.65321251,\n",
        "        0.66275783,  0.67209786,  0.68124124,  0.69019608,  0.69897   ,\n",
        "        0.70757018,  0.71600334,  0.72427587,  0.73239376,  0.74036269,\n",
        "        0.74818803,  0.75587486,  0.76342799,  0.77085201,  0.77815125,\n",
        "        0.78532984,  0.79239169,  0.79934055,  0.80617997,  0.81291336,\n",
        "        0.81954394,  0.8260748 ,  0.83250891,  0.83884909,  0.84509804,\n",
        "        0.85125835,  0.8573325 ,  0.86332286,  0.86923172,  0.87506126,\n",
        "        0.88081359,  0.88649073,  0.8920946 ,  0.89762709,  0.90308999,\n",
        "        0.90848502,  0.91381385,  0.91907809,  0.92427929,  0.92941893,\n",
        "        0.93449845,  0.93951925,  0.94448267,  0.94939001,  0.95424251,\n",
        "        0.95904139,  0.96378783,  0.96848295,  0.97312785,  0.97772361,\n",
        "        0.98227123,  0.98677173,  0.99122608,  0.99563519])"
       ]
      }
     ],
     "prompt_number": 4
    },
    {
     "cell_type": "code",
     "collapsed": false,
     "input": [
      "g = np.random.randint(1000, size =200)\n",
      "g"
     ],
     "language": "python",
     "metadata": {},
     "outputs": [
      {
       "metadata": {},
       "output_type": "pyout",
       "prompt_number": 5,
       "text": [
<<<<<<< HEAD
        "array([310, 361, 211, 324, 624, 797,  70, 328, 196, 198, 549, 505, 395,\n",
        "        56, 864, 840, 436, 388, 845, 233, 540, 402, 569, 173, 442, 515,\n",
        "       865, 879, 622, 319, 483, 555, 217, 488, 940, 867, 630, 335, 541,\n",
        "       178, 604, 544, 663,  79, 996, 422, 336,  60, 587,  90, 905, 807,\n",
        "       792, 774, 642, 241, 742, 991, 108, 701, 453, 748, 208, 705,  32,\n",
        "       492,   5, 909, 914, 828, 355, 711, 988, 444, 995, 680, 890, 117,\n",
        "       967, 870, 337, 589, 168, 919, 378, 327, 811,  26,  79,  45,  86,\n",
        "       326, 133,  51, 618, 442, 254, 850,  92, 799, 687, 212, 949, 411,\n",
        "        81, 386, 383, 382, 488, 961, 865, 671, 311, 411, 335, 437, 640,\n",
        "       805, 560, 386, 947, 740, 499, 637,  93, 212, 277, 414,  55, 262,\n",
        "       342, 557, 458, 565,  30, 370, 664, 199, 737, 733, 243, 612, 183,\n",
        "       146, 941, 647, 224, 865, 489,  76, 216, 796, 897, 503, 246, 376,\n",
        "        87, 146, 866, 605, 348,  35, 655, 137, 247, 568, 756,   3, 365,\n",
        "       695, 202, 238,  66, 526, 508, 216, 121, 218, 604, 860, 423, 757,\n",
        "       362, 897, 605, 270, 518, 668, 966, 377, 924, 576,  47, 186, 311,\n",
        "        78, 206, 189, 883, 327])"
=======
        "array([483, 334, 203, 284, 643, 661, 707, 385, 219, 179, 318, 355, 477,\n",
        "       783, 776, 163, 403, 863, 241, 369, 970,  32, 638, 912, 377, 574,\n",
        "       262, 817, 799, 948, 979, 244,  28, 960,  29,  22, 875, 214, 311,\n",
        "       936,  41, 278, 519, 460,  92, 571, 381, 805, 220, 985, 273, 103,\n",
        "       797, 432, 121, 188, 987,  59, 258, 982, 188, 141, 843, 896, 989,\n",
        "       725, 500, 674, 857,  50, 391, 564, 324,  40, 817, 525,  17, 702,\n",
        "       828, 159, 730, 121, 638, 128, 647, 905, 405, 420, 718, 612, 614,\n",
        "       886, 495, 604, 308, 575, 963, 554, 801, 537, 304, 813, 900, 336,\n",
        "       773, 274, 918, 583,  13, 468, 533, 146, 945, 826, 143, 897, 654,\n",
        "       147, 216, 745, 598,   2, 229, 592, 857, 932, 955, 412, 857, 559,\n",
        "       331,   1, 970, 550, 397, 460, 786, 548,  43, 204, 165, 757, 248,\n",
        "       410, 969, 567, 825, 640, 744, 475, 365, 943, 257, 377,  88, 542,\n",
        "       327, 923, 207, 172,  48, 336, 566, 961, 316, 164, 553, 551, 240,\n",
        "       271, 491, 996, 551, 213, 405, 350, 420, 786, 402, 195, 215, 209,\n",
        "       673, 581,  92, 935, 741, 832, 213, 346, 149, 487, 712, 816, 332,\n",
        "        40, 240, 532, 514, 189])"
>>>>>>> 2f58a846ded1767abb5bf659b18b03c6e20063db
       ]
      }
     ],
     "prompt_number": 5
    },
    {
     "cell_type": "code",
     "collapsed": false,
     "input": [
      "m = np.log10(g) - np.log10(g).astype(int)\n",
      "m"
     ],
     "language": "python",
     "metadata": {},
     "outputs": [
      {
       "metadata": {},
       "output_type": "pyout",
       "prompt_number": 6,
       "text": [
<<<<<<< HEAD
        "array([ 0.49136169,  0.5575072 ,  0.32428246,  0.51054501,  0.79518459,\n",
        "        0.90145832,  0.84509804,  0.51587384,  0.29225607,  0.29666519,\n",
        "        0.73957234,  0.70329138,  0.5965971 ,  0.74818803,  0.93651374,\n",
        "        0.92427929,  0.63948649,  0.58883173,  0.92685671,  0.36735592,\n",
        "        0.73239376,  0.60422605,  0.75511227,  0.2380461 ,  0.64542227,\n",
        "        0.71180723,  0.93701611,  0.94398888,  0.79379038,  0.50379068,\n",
        "        0.68394713,  0.74429298,  0.33645973,  0.68841982,  0.97312785,\n",
        "        0.9380191 ,  0.79934055,  0.52504481,  0.73319727,  0.25042   ,\n",
        "        0.78103694,  0.7355989 ,  0.82151353,  0.89762709,  0.99825934,\n",
        "        0.62531245,  0.52633928,  0.77815125,  0.7686381 ,  0.95424251,\n",
        "        0.95664858,  0.90687353,  0.89872518,  0.88874096,  0.80753503,\n",
        "        0.38201704,  0.87040391,  0.99607365,  0.03342376,  0.84571802,\n",
        "        0.6560982 ,  0.8739016 ,  0.31806333,  0.84818912,  0.50514998,\n",
        "        0.6919651 ,  0.69897   ,  0.95856388,  0.9609462 ,  0.91803034,\n",
        "        0.55022835,  0.8518696 ,  0.99475694,  0.64738297,  0.99782308,\n",
        "        0.83250891,  0.94939001,  0.06818586,  0.98542647,  0.93951925,\n",
        "        0.5276299 ,  0.77011529,  0.22530928,  0.96331551,  0.5774918 ,\n",
        "        0.51454775,  0.90902085,  0.41497335,  0.89762709,  0.65321251,\n",
        "        0.93449845,  0.5132176 ,  0.12385164,  0.70757018,  0.79098848,\n",
        "        0.64542227,  0.40483372,  0.92941893,  0.96378783,  0.90254678,\n",
        "        0.83695674,  0.32633586,  0.97726621,  0.61384182,  0.90848502,\n",
        "        0.5865873 ,  0.58319877,  0.58206336,  0.68841982,  0.98272339,\n",
        "        0.93701611,  0.82672252,  0.49276039,  0.61384182,  0.52504481,\n",
        "        0.64048144,  0.80617997,  0.90579588,  0.74818803,  0.5865873 ,\n",
        "        0.97634998,  0.86923172,  0.69810055,  0.80413943,  0.96848295,\n",
        "        0.32633586,  0.44247977,  0.61700034,  0.74036269,  0.41830129,\n",
        "        0.53402611,  0.7458552 ,  0.66086548,  0.75204845,  0.47712125,\n",
        "        0.56820172,  0.82216808,  0.29885308,  0.86746749,  0.86510397,\n",
        "        0.38560627,  0.78675142,  0.26245109,  0.16435286,  0.97358962,\n",
        "        0.81090428,  0.35024802,  0.93701611,  0.68930886,  0.88081359,\n",
        "        0.33445375,  0.90091307,  0.95279244,  0.70156799,  0.39093511,\n",
        "        0.57518784,  0.93951925,  0.16435286,  0.93751789,  0.78175537,\n",
        "        0.54157924,  0.54406804,  0.8162413 ,  0.13672057,  0.39269695,\n",
        "        0.75434834,  0.8785218 ,  0.47712125,  0.56229286,  0.8419848 ,\n",
        "        0.30535137,  0.37657696,  0.81954394,  0.72098574,  0.70586371,\n",
        "        0.33445375,  0.08278537,  0.33845649,  0.78103694,  0.93449845,\n",
        "        0.62634037,  0.87909588,  0.55870857,  0.95279244,  0.78175537,\n",
        "        0.43136376,  0.71432976,  0.82477646,  0.98497713,  0.57634135,\n",
        "        0.96567197,  0.76042248,  0.67209786,  0.26951294,  0.49276039,\n",
        "        0.8920946 ,  0.31386722,  0.2764618 ,  0.9459607 ,  0.51454775])"
=======
        "array([ 0.68394713,  0.52374647,  0.30749604,  0.45331834,  0.80821097,\n",
        "        0.82020146,  0.84941941,  0.58546073,  0.34044411,  0.25285303,\n",
        "        0.50242712,  0.55022835,  0.67851838,  0.89376176,  0.88986172,\n",
        "        0.2121876 ,  0.60530505,  0.9360108 ,  0.38201704,  0.56702637,\n",
        "        0.98677173,  0.50514998,  0.80482068,  0.95999484,  0.57634135,\n",
        "        0.75891189,  0.41830129,  0.91222206,  0.90254678,  0.97680834,\n",
        "        0.99078269,  0.38738983,  0.44715803,  0.98227123,  0.462398  ,\n",
        "        0.34242268,  0.94200805,  0.33041377,  0.49276039,  0.97127585,\n",
        "        0.61278386,  0.4440448 ,  0.71516736,  0.66275783,  0.96378783,\n",
        "        0.75663611,  0.58092498,  0.90579588,  0.34242268,  0.99343623,\n",
        "        0.43616265,  0.01283722,  0.90145832,  0.63548375,  0.08278537,\n",
        "        0.27415785,  0.99431715,  0.77085201,  0.41161971,  0.99211149,\n",
        "        0.27415785,  0.14921911,  0.92582757,  0.95230801,  0.99519629,\n",
        "        0.86033801,  0.69897   ,  0.8286599 ,  0.93298082,  0.69897   ,\n",
        "        0.59217676,  0.7512791 ,  0.51054501,  0.60205999,  0.91222206,\n",
        "        0.7201593 ,  0.23044892,  0.84633711,  0.91803034,  0.20139712,\n",
        "        0.86332286,  0.08278537,  0.80482068,  0.10720997,  0.81090428,\n",
        "        0.95664858,  0.60745502,  0.62324929,  0.85612444,  0.78675142,\n",
        "        0.78816837,  0.94743372,  0.6946052 ,  0.78103694,  0.48855072,\n",
        "        0.75966784,  0.98362629,  0.74350976,  0.90363252,  0.72997429,\n",
        "        0.48287358,  0.91009055,  0.95424251,  0.52633928,  0.88817949,\n",
        "        0.43775056,  0.96284268,  0.76566855,  0.11394335,  0.67024585,\n",
        "        0.72672721,  0.16435286,  0.97543181,  0.91698005,  0.15533604,\n",
        "        0.95279244,  0.81557775,  0.16731733,  0.33445375,  0.87215627,\n",
        "        0.77670118,  0.30103   ,  0.35983548,  0.77232171,  0.93298082,\n",
        "        0.96941591,  0.98000337,  0.61489722,  0.93298082,  0.74741181,\n",
        "        0.51982799,  0.        ,  0.98677173,  0.74036269,  0.59879051,\n",
        "        0.66275783,  0.89542255,  0.73878056,  0.63346846,  0.30963017,\n",
        "        0.21748394,  0.87909588,  0.39445168,  0.61278386,  0.98632378,\n",
        "        0.75358306,  0.91645395,  0.80617997,  0.87157294,  0.67669361,\n",
        "        0.56229286,  0.97451169,  0.40993312,  0.57634135,  0.94448267,\n",
        "        0.73399929,  0.51454775,  0.9652017 ,  0.31597035,  0.23552845,\n",
        "        0.68124124,  0.52633928,  0.75281643,  0.98272339,  0.49968708,\n",
        "        0.21484385,  0.74272513,  0.7411516 ,  0.38021124,  0.43296929,\n",
        "        0.69108149,  0.99825934,  0.7411516 ,  0.3283796 ,  0.60745502,\n",
        "        0.54406804,  0.62324929,  0.89542255,  0.60422605,  0.29003461,\n",
        "        0.33243846,  0.32014629,  0.82801506,  0.76417613,  0.96378783,\n",
        "        0.97081161,  0.86981821,  0.92012333,  0.3283796 ,  0.5390761 ,\n",
        "        0.17318627,  0.68752896,  0.85247999,  0.91169016,  0.52113808,\n",
        "        0.60205999,  0.38021124,  0.72591163,  0.71096312,  0.2764618 ])"
>>>>>>> 2f58a846ded1767abb5bf659b18b03c6e20063db
       ]
      }
     ],
     "prompt_number": 6
    },
    {
     "cell_type": "heading",
     "level": 4,
     "metadata": {},
     "source": [
      "Ordering the Mantissas and Plotting"
     ]
    },
    {
     "cell_type": "code",
     "collapsed": false,
     "input": [
      "m.sort()\n",
      "m"
     ],
     "language": "python",
     "metadata": {},
     "outputs": [
      {
       "metadata": {},
       "output_type": "pyout",
       "prompt_number": 7,
       "text": [
<<<<<<< HEAD
        "array([ 0.03342376,  0.06818586,  0.08278537,  0.12385164,  0.13672057,\n",
        "        0.16435286,  0.16435286,  0.22530928,  0.2380461 ,  0.25042   ,\n",
        "        0.26245109,  0.26951294,  0.2764618 ,  0.29225607,  0.29666519,\n",
        "        0.29885308,  0.30535137,  0.31386722,  0.31806333,  0.32428246,\n",
        "        0.32633586,  0.32633586,  0.33445375,  0.33445375,  0.33645973,\n",
        "        0.33845649,  0.35024802,  0.36735592,  0.37657696,  0.38201704,\n",
        "        0.38560627,  0.39093511,  0.39269695,  0.40483372,  0.41497335,\n",
        "        0.41830129,  0.43136376,  0.44247977,  0.47712125,  0.47712125,\n",
        "        0.49136169,  0.49276039,  0.49276039,  0.50379068,  0.50514998,\n",
        "        0.51054501,  0.5132176 ,  0.51454775,  0.51454775,  0.51587384,\n",
        "        0.52504481,  0.52504481,  0.52633928,  0.5276299 ,  0.53402611,\n",
        "        0.54157924,  0.54406804,  0.55022835,  0.5575072 ,  0.55870857,\n",
        "        0.56229286,  0.56820172,  0.57518784,  0.57634135,  0.5774918 ,\n",
        "        0.58206336,  0.58319877,  0.5865873 ,  0.5865873 ,  0.58883173,\n",
        "        0.5965971 ,  0.60422605,  0.61384182,  0.61384182,  0.61700034,\n",
        "        0.62531245,  0.62634037,  0.63948649,  0.64048144,  0.64542227,\n",
        "        0.64542227,  0.64738297,  0.65321251,  0.6560982 ,  0.66086548,\n",
        "        0.67209786,  0.68394713,  0.68841982,  0.68841982,  0.68930886,\n",
        "        0.6919651 ,  0.69810055,  0.69897   ,  0.70156799,  0.70329138,\n",
        "        0.70586371,  0.70757018,  0.71180723,  0.71432976,  0.72098574,\n",
        "        0.73239376,  0.73319727,  0.7355989 ,  0.73957234,  0.74036269,\n",
        "        0.74429298,  0.7458552 ,  0.74818803,  0.74818803,  0.75204845,\n",
        "        0.75434834,  0.75511227,  0.76042248,  0.7686381 ,  0.77011529,\n",
        "        0.77815125,  0.78103694,  0.78103694,  0.78175537,  0.78175537,\n",
        "        0.78675142,  0.79098848,  0.79379038,  0.79518459,  0.79934055,\n",
        "        0.80413943,  0.80617997,  0.80753503,  0.81090428,  0.8162413 ,\n",
        "        0.81954394,  0.82151353,  0.82216808,  0.82477646,  0.82672252,\n",
        "        0.83250891,  0.83695674,  0.8419848 ,  0.84509804,  0.84571802,\n",
        "        0.84818912,  0.8518696 ,  0.86510397,  0.86746749,  0.86923172,\n",
        "        0.87040391,  0.8739016 ,  0.8785218 ,  0.87909588,  0.88081359,\n",
        "        0.88874096,  0.8920946 ,  0.89762709,  0.89762709,  0.89872518,\n",
        "        0.90091307,  0.90145832,  0.90254678,  0.90579588,  0.90687353,\n",
        "        0.90848502,  0.90902085,  0.91803034,  0.92427929,  0.92685671,\n",
        "        0.92941893,  0.93449845,  0.93449845,  0.93651374,  0.93701611,\n",
        "        0.93701611,  0.93701611,  0.93751789,  0.9380191 ,  0.93951925,\n",
        "        0.93951925,  0.94398888,  0.9459607 ,  0.94939001,  0.95279244,\n",
        "        0.95279244,  0.95424251,  0.95664858,  0.95856388,  0.9609462 ,\n",
        "        0.96331551,  0.96378783,  0.96567197,  0.96848295,  0.97312785,\n",
        "        0.97358962,  0.97634998,  0.97726621,  0.98272339,  0.98497713,\n",
        "        0.98542647,  0.99475694,  0.99607365,  0.99782308,  0.99825934])"
=======
        "array([ 0.        ,  0.01283722,  0.08278537,  0.08278537,  0.10720997,\n",
        "        0.11394335,  0.14921911,  0.15533604,  0.16435286,  0.16731733,\n",
        "        0.17318627,  0.20139712,  0.2121876 ,  0.21484385,  0.21748394,\n",
        "        0.23044892,  0.23552845,  0.25285303,  0.27415785,  0.27415785,\n",
        "        0.2764618 ,  0.29003461,  0.30103   ,  0.30749604,  0.30963017,\n",
        "        0.31597035,  0.32014629,  0.3283796 ,  0.3283796 ,  0.33041377,\n",
        "        0.33243846,  0.33445375,  0.34044411,  0.34242268,  0.34242268,\n",
        "        0.35983548,  0.38021124,  0.38021124,  0.38201704,  0.38738983,\n",
        "        0.39445168,  0.40993312,  0.41161971,  0.41830129,  0.43296929,\n",
        "        0.43616265,  0.43775056,  0.4440448 ,  0.44715803,  0.45331834,\n",
        "        0.462398  ,  0.48287358,  0.48855072,  0.49276039,  0.49968708,\n",
        "        0.50242712,  0.50514998,  0.51054501,  0.51454775,  0.51982799,\n",
        "        0.52113808,  0.52374647,  0.52633928,  0.52633928,  0.5390761 ,\n",
        "        0.54406804,  0.55022835,  0.56229286,  0.56702637,  0.57634135,\n",
        "        0.57634135,  0.58092498,  0.58546073,  0.59217676,  0.59879051,\n",
        "        0.60205999,  0.60205999,  0.60422605,  0.60530505,  0.60745502,\n",
        "        0.60745502,  0.61278386,  0.61278386,  0.61489722,  0.62324929,\n",
        "        0.62324929,  0.63346846,  0.63548375,  0.66275783,  0.66275783,\n",
        "        0.67024585,  0.67669361,  0.67851838,  0.68124124,  0.68394713,\n",
        "        0.68752896,  0.69108149,  0.6946052 ,  0.69897   ,  0.69897   ,\n",
        "        0.71096312,  0.71516736,  0.7201593 ,  0.72591163,  0.72672721,\n",
        "        0.72997429,  0.73399929,  0.73878056,  0.74036269,  0.7411516 ,\n",
        "        0.7411516 ,  0.74272513,  0.74350976,  0.74741181,  0.7512791 ,\n",
        "        0.75281643,  0.75358306,  0.75663611,  0.75891189,  0.75966784,\n",
        "        0.76417613,  0.76566855,  0.77085201,  0.77232171,  0.77670118,\n",
        "        0.78103694,  0.78675142,  0.78816837,  0.80482068,  0.80482068,\n",
        "        0.80617997,  0.80821097,  0.81090428,  0.81557775,  0.82020146,\n",
        "        0.82801506,  0.8286599 ,  0.84633711,  0.84941941,  0.85247999,\n",
        "        0.85612444,  0.86033801,  0.86332286,  0.86981821,  0.87157294,\n",
        "        0.87215627,  0.87909588,  0.88817949,  0.88986172,  0.89376176,\n",
        "        0.89542255,  0.89542255,  0.90145832,  0.90254678,  0.90363252,\n",
        "        0.90579588,  0.91009055,  0.91169016,  0.91222206,  0.91222206,\n",
        "        0.91645395,  0.91698005,  0.91803034,  0.92012333,  0.92582757,\n",
        "        0.93298082,  0.93298082,  0.93298082,  0.9360108 ,  0.94200805,\n",
        "        0.94448267,  0.94743372,  0.95230801,  0.95279244,  0.95424251,\n",
        "        0.95664858,  0.95999484,  0.96284268,  0.96378783,  0.96378783,\n",
        "        0.9652017 ,  0.96941591,  0.97081161,  0.97127585,  0.97451169,\n",
        "        0.97543181,  0.97680834,  0.98000337,  0.98227123,  0.98272339,\n",
        "        0.98362629,  0.98632378,  0.98677173,  0.98677173,  0.99078269,\n",
        "        0.99211149,  0.99343623,  0.99431715,  0.99519629,  0.99825934])"
>>>>>>> 2f58a846ded1767abb5bf659b18b03c6e20063db
       ]
      }
     ],
     "prompt_number": 7
    },
    {
     "cell_type": "code",
     "collapsed": false,
     "input": [
      "pylab inline"
     ],
     "language": "python",
     "metadata": {},
     "outputs": [
      {
       "output_type": "stream",
       "stream": "stdout",
       "text": [
        "Populating the interactive namespace from numpy and matplotlib\n"
       ]
      }
     ],
     "prompt_number": 8
    },
    {
     "cell_type": "code",
     "collapsed": false,
     "input": [
      "plt.plot(np.arange(len(m)), m)"
     ],
     "language": "python",
     "metadata": {},
     "outputs": [
      {
       "metadata": {},
       "output_type": "pyout",
       "prompt_number": 9,
       "text": [
<<<<<<< HEAD
        "[<matplotlib.lines.Line2D at 0x7fe4e5d6ba10>]"
=======
        "[<matplotlib.lines.Line2D at 0x7f2a2abc4450>]"
>>>>>>> 2f58a846ded1767abb5bf659b18b03c6e20063db
       ]
      },
      {
       "metadata": {},
       "output_type": "display_data",
<<<<<<< HEAD
       "png": "iVBORw0KGgoAAAANSUhEUgAAAXgAAAEACAYAAAC57G0KAAAABHNCSVQICAgIfAhkiAAAAAlwSFlz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\n",
       "text": [
        "<matplotlib.figure.Figure at 0x7fe4e5dcb890>"
=======
       "png": "iVBORw0KGgoAAAANSUhEUgAAAXgAAAEACAYAAAC57G0KAAAABHNCSVQICAgIfAhkiAAAAAlwSFlz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\nJKT+H5A8jVLVXf6CAAAAAElFTkSuQmCC\n",
       "text": [
        "<matplotlib.figure.Figure at 0x7f2a2aca6310>"
>>>>>>> 2f58a846ded1767abb5bf659b18b03c6e20063db
       ]
      }
     ],
     "prompt_number": 9
    },
    {
     "cell_type": "code",
     "collapsed": false,
     "input": [
      "g.sort()\n",
      "g"
     ],
     "language": "python",
     "metadata": {},
     "outputs": [
      {
       "metadata": {},
       "output_type": "pyout",
       "prompt_number": 10,
       "text": [
<<<<<<< HEAD
        "array([  3,   5,  26,  30,  32,  35,  45,  47,  51,  55,  56,  60,  66,\n",
        "        70,  76,  78,  79,  79,  81,  86,  87,  90,  92,  93, 108, 117,\n",
        "       121, 133, 137, 146, 146, 168, 173, 178, 183, 186, 189, 196, 198,\n",
        "       199, 202, 206, 208, 211, 212, 212, 216, 216, 217, 218, 224, 233,\n",
        "       238, 241, 243, 246, 247, 254, 262, 270, 277, 310, 311, 311, 319,\n",
        "       324, 326, 327, 327, 328, 335, 335, 336, 337, 342, 348, 355, 361,\n",
        "       362, 365, 370, 376, 377, 378, 382, 383, 386, 386, 388, 395, 402,\n",
        "       411, 411, 414, 422, 423, 436, 437, 442, 442, 444, 453, 458, 483,\n",
        "       488, 488, 489, 492, 499, 503, 505, 508, 515, 518, 526, 540, 541,\n",
        "       544, 549, 555, 557, 560, 565, 568, 569, 576, 587, 589, 604, 604,\n",
        "       605, 605, 612, 618, 622, 624, 630, 637, 640, 642, 647, 655, 663,\n",
        "       664, 668, 671, 680, 687, 695, 701, 705, 711, 733, 737, 740, 742,\n",
        "       748, 756, 757, 774, 792, 796, 797, 799, 805, 807, 811, 828, 840,\n",
        "       845, 850, 860, 864, 865, 865, 865, 866, 867, 870, 879, 883, 890,\n",
        "       897, 897, 905, 909, 914, 919, 924, 940, 941, 947, 949, 961, 966,\n",
        "       967, 988, 991, 995, 996])"
=======
        "array([  1,   2,  13,  17,  22,  28,  29,  32,  40,  40,  41,  43,  48,\n",
        "        50,  59,  88,  92,  92, 103, 121, 121, 128, 141, 143, 146, 147,\n",
        "       149, 159, 163, 164, 165, 172, 179, 188, 188, 189, 195, 203, 204,\n",
        "       207, 209, 213, 213, 214, 215, 216, 219, 220, 229, 240, 240, 241,\n",
        "       244, 248, 257, 258, 262, 271, 273, 274, 278, 284, 304, 308, 311,\n",
        "       316, 318, 324, 327, 331, 332, 334, 336, 336, 346, 350, 355, 365,\n",
        "       369, 377, 377, 381, 385, 391, 397, 402, 403, 405, 405, 410, 412,\n",
        "       420, 420, 432, 460, 460, 468, 475, 477, 483, 487, 491, 495, 500,\n",
        "       514, 519, 525, 532, 533, 537, 542, 548, 550, 551, 551, 553, 554,\n",
        "       559, 564, 566, 567, 571, 574, 575, 581, 583, 592, 598, 604, 612,\n",
        "       614, 638, 638, 640, 643, 647, 654, 661, 673, 674, 702, 707, 712,\n",
        "       718, 725, 730, 741, 744, 745, 757, 773, 776, 783, 786, 786, 797,\n",
        "       799, 801, 805, 813, 816, 817, 817, 825, 826, 828, 832, 843, 857,\n",
        "       857, 857, 863, 875, 886, 896, 897, 900, 905, 912, 918, 923, 932,\n",
        "       935, 936, 943, 945, 948, 955, 960, 961, 963, 969, 970, 970, 979,\n",
        "       982, 985, 987, 989, 996])"
>>>>>>> 2f58a846ded1767abb5bf659b18b03c6e20063db
       ]
      }
     ],
     "prompt_number": 10
    },
    {
     "cell_type": "code",
     "collapsed": false,
     "input": [
      "plt.plot(g, m)\n",
      "plt.grid()"
     ],
     "language": "python",
     "metadata": {},
     "outputs": [
      {
       "metadata": {},
       "output_type": "display_data",
<<<<<<< HEAD
       "png": "iVBORw0KGgoAAAANSUhEUgAAAXsAAAEACAYAAABS29YJAAAABHNCSVQICAgIfAhkiAAAAAlwSFlz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\niGSAir2ISAb8f5ymGjmSG5W7AAAAAElFTkSuQmCC\n",
       "text": [
        "<matplotlib.figure.Figure at 0x7fe4e5cbc490>"
=======
       "png": "iVBORw0KGgoAAAANSUhEUgAAAXsAAAEACAYAAABS29YJAAAABHNCSVQICAgIfAhkiAAAAAlwSFlz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\n2Rr7iGNwfwAAAABJRU5ErkJggg==\n",
       "text": [
        "<matplotlib.figure.Figure at 0x7f2a2abf8590>"
>>>>>>> 2f58a846ded1767abb5bf659b18b03c6e20063db
       ]
      }
     ],
     "prompt_number": 11
    },
    {
     "cell_type": "code",
     "collapsed": false,
     "input": [
      "tt = pd.DataFrame(g, columns=['numbers'])\n",
      "tt.head()"
     ],
     "language": "python",
     "metadata": {},
     "outputs": [
      {
       "html": [
        "<div style=\"max-height:1000px;max-width:1500px;overflow:auto;\">\n",
        "<table border=\"1\" class=\"dataframe\">\n",
        "  <thead>\n",
        "    <tr style=\"text-align: right;\">\n",
        "      <th></th>\n",
        "      <th>numbers</th>\n",
        "    </tr>\n",
        "  </thead>\n",
        "  <tbody>\n",
        "    <tr>\n",
        "      <th>0</th>\n",
<<<<<<< HEAD
        "      <td>  3</td>\n",
        "    </tr>\n",
        "    <tr>\n",
        "      <th>1</th>\n",
        "      <td>  5</td>\n",
        "    </tr>\n",
        "    <tr>\n",
        "      <th>2</th>\n",
        "      <td> 26</td>\n",
        "    </tr>\n",
        "    <tr>\n",
        "      <th>3</th>\n",
        "      <td> 30</td>\n",
        "    </tr>\n",
        "    <tr>\n",
        "      <th>4</th>\n",
        "      <td> 32</td>\n",
=======
        "      <td>  1</td>\n",
        "    </tr>\n",
        "    <tr>\n",
        "      <th>1</th>\n",
        "      <td>  2</td>\n",
        "    </tr>\n",
        "    <tr>\n",
        "      <th>2</th>\n",
        "      <td> 13</td>\n",
        "    </tr>\n",
        "    <tr>\n",
        "      <th>3</th>\n",
        "      <td> 17</td>\n",
        "    </tr>\n",
        "    <tr>\n",
        "      <th>4</th>\n",
        "      <td> 22</td>\n",
>>>>>>> 2f58a846ded1767abb5bf659b18b03c6e20063db
        "    </tr>\n",
        "  </tbody>\n",
        "</table>\n",
        "</div>"
       ],
       "metadata": {},
       "output_type": "pyout",
       "prompt_number": 12,
       "text": [
        "   numbers\n",
<<<<<<< HEAD
        "0        3\n",
        "1        5\n",
        "2       26\n",
        "3       30\n",
        "4       32"
=======
        "0        1\n",
        "1        2\n",
        "2       13\n",
        "3       17\n",
        "4       22"
>>>>>>> 2f58a846ded1767abb5bf659b18b03c6e20063db
       ]
      }
     ],
     "prompt_number": 12
    },
    {
     "cell_type": "code",
     "collapsed": false,
     "input": [
      "def _get_mantissas_(arr):\n",
      "\t'''\n",
      "\tThe mantissa is the non-integer part of the log of a number.\n",
      "\tThis fuction uses the element-wise array operations on numpy\n",
      "\tto get the mantissas of each number's log.\n",
      "\n",
      "\tarr: numpy array of integers or floats\n",
      "\t'''\n",
      "\n",
      "\treturn np.log10(arr) - np.log10(arr).astype(int)"
     ],
     "language": "python",
     "metadata": {},
     "outputs": [],
     "prompt_number": 13
    },
    {
     "cell_type": "code",
     "collapsed": false,
     "input": [
      "tt['mantissas']=_get_mantissas_(tt.numbers)\n",
      "tt.sort(columns='mantissas')\n",
      "tt"
     ],
     "language": "python",
     "metadata": {},
     "outputs": [
      {
       "html": [
        "<div style=\"max-height:1000px;max-width:1500px;overflow:auto;\">\n",
        "<table border=\"1\" class=\"dataframe\">\n",
        "  <thead>\n",
        "    <tr style=\"text-align: right;\">\n",
        "      <th></th>\n",
        "      <th>numbers</th>\n",
        "      <th>mantissas</th>\n",
        "      <th>m2</th>\n",
        "      <th>ms</th>\n",
        "    </tr>\n",
        "  </thead>\n",
        "  <tbody>\n",
        "    <tr>\n",
<<<<<<< HEAD
        "      <th>24 </th>\n",
        "      <td> 108</td>\n",
        "      <td> 0.033424</td>\n",
        "      <td> 0.033424</td>\n",
        "      <td>   0.033424</td>\n",
        "    </tr>\n",
        "    <tr>\n",
        "      <th>25 </th>\n",
        "      <td> 117</td>\n",
        "      <td> 0.068186</td>\n",
        "      <td> 0.068186</td>\n",
        "      <td>   0.101610</td>\n",
        "    </tr>\n",
        "    <tr>\n",
        "      <th>26 </th>\n",
        "      <td> 121</td>\n",
        "      <td> 0.082785</td>\n",
        "      <td> 0.082785</td>\n",
        "      <td>   0.184395</td>\n",
        "    </tr>\n",
        "    <tr>\n",
        "      <th>27 </th>\n",
        "      <td> 133</td>\n",
        "      <td> 0.123852</td>\n",
        "      <td> 0.123852</td>\n",
        "      <td>   0.308247</td>\n",
        "    </tr>\n",
        "    <tr>\n",
        "      <th>28 </th>\n",
        "      <td> 137</td>\n",
        "      <td> 0.136721</td>\n",
        "      <td> 0.136721</td>\n",
        "      <td>   0.444967</td>\n",
        "    </tr>\n",
        "    <tr>\n",
        "      <th>30 </th>\n",
        "      <td> 146</td>\n",
        "      <td> 0.164353</td>\n",
        "      <td> 0.164353</td>\n",
        "      <td>   0.609320</td>\n",
        "    </tr>\n",
        "    <tr>\n",
        "      <th>29 </th>\n",
        "      <td> 146</td>\n",
        "      <td> 0.164353</td>\n",
        "      <td> 0.164353</td>\n",
        "      <td>   0.773673</td>\n",
        "    </tr>\n",
        "    <tr>\n",
        "      <th>31 </th>\n",
        "      <td> 168</td>\n",
        "      <td> 0.225309</td>\n",
        "      <td> 0.225309</td>\n",
        "      <td>   0.998982</td>\n",
        "    </tr>\n",
        "    <tr>\n",
        "      <th>32 </th>\n",
        "      <td> 173</td>\n",
        "      <td> 0.238046</td>\n",
        "      <td> 0.238046</td>\n",
        "      <td>   1.237028</td>\n",
        "    </tr>\n",
        "    <tr>\n",
        "      <th>33 </th>\n",
        "      <td> 178</td>\n",
        "      <td> 0.250420</td>\n",
        "      <td> 0.250420</td>\n",
        "      <td>   1.487448</td>\n",
        "    </tr>\n",
        "    <tr>\n",
        "      <th>34 </th>\n",
        "      <td> 183</td>\n",
        "      <td> 0.262451</td>\n",
        "      <td> 0.262451</td>\n",
        "      <td>   1.749899</td>\n",
        "    </tr>\n",
        "    <tr>\n",
        "      <th>35 </th>\n",
        "      <td> 186</td>\n",
        "      <td> 0.269513</td>\n",
        "      <td> 0.269513</td>\n",
        "      <td>   2.019412</td>\n",
        "    </tr>\n",
        "    <tr>\n",
        "      <th>36 </th>\n",
        "      <td> 189</td>\n",
        "      <td> 0.276462</td>\n",
        "      <td> 0.276462</td>\n",
        "      <td>   2.295874</td>\n",
        "    </tr>\n",
        "    <tr>\n",
        "      <th>37 </th>\n",
        "      <td> 196</td>\n",
        "      <td> 0.292256</td>\n",
        "      <td> 0.292256</td>\n",
        "      <td>   2.588130</td>\n",
        "    </tr>\n",
        "    <tr>\n",
        "      <th>38 </th>\n",
        "      <td> 198</td>\n",
        "      <td> 0.296665</td>\n",
        "      <td> 0.296665</td>\n",
        "      <td>   2.884795</td>\n",
        "    </tr>\n",
        "    <tr>\n",
        "      <th>39 </th>\n",
        "      <td> 199</td>\n",
        "      <td> 0.298853</td>\n",
        "      <td> 0.298853</td>\n",
        "      <td>   3.183648</td>\n",
        "    </tr>\n",
        "    <tr>\n",
        "      <th>40 </th>\n",
        "      <td> 202</td>\n",
        "      <td> 0.305351</td>\n",
        "      <td> 0.305351</td>\n",
        "      <td>   3.489000</td>\n",
        "    </tr>\n",
        "    <tr>\n",
        "      <th>41 </th>\n",
        "      <td> 206</td>\n",
        "      <td> 0.313867</td>\n",
        "      <td> 0.313867</td>\n",
        "      <td>   3.802867</td>\n",
        "    </tr>\n",
        "    <tr>\n",
        "      <th>42 </th>\n",
        "      <td> 208</td>\n",
        "      <td> 0.318063</td>\n",
        "      <td> 0.318063</td>\n",
        "      <td>   4.120930</td>\n",
        "    </tr>\n",
        "    <tr>\n",
        "      <th>43 </th>\n",
        "      <td> 211</td>\n",
        "      <td> 0.324282</td>\n",
        "      <td> 0.324282</td>\n",
        "      <td>   4.445213</td>\n",
        "    </tr>\n",
        "    <tr>\n",
        "      <th>44 </th>\n",
        "      <td> 212</td>\n",
        "      <td> 0.326336</td>\n",
        "      <td> 0.326336</td>\n",
        "      <td>   4.771549</td>\n",
        "    </tr>\n",
        "    <tr>\n",
        "      <th>45 </th>\n",
        "      <td> 212</td>\n",
        "      <td> 0.326336</td>\n",
        "      <td> 0.326336</td>\n",
        "      <td>   5.097885</td>\n",
        "    </tr>\n",
        "    <tr>\n",
        "      <th>47 </th>\n",
        "      <td> 216</td>\n",
        "      <td> 0.334454</td>\n",
        "      <td> 0.334454</td>\n",
        "      <td>   5.432338</td>\n",
        "    </tr>\n",
        "    <tr>\n",
        "      <th>46 </th>\n",
        "      <td> 216</td>\n",
        "      <td> 0.334454</td>\n",
        "      <td> 0.334454</td>\n",
        "      <td>   5.766792</td>\n",
        "    </tr>\n",
        "    <tr>\n",
        "      <th>48 </th>\n",
        "      <td> 217</td>\n",
        "      <td> 0.336460</td>\n",
        "      <td> 0.336460</td>\n",
        "      <td>   6.103252</td>\n",
        "    </tr>\n",
        "    <tr>\n",
        "      <th>49 </th>\n",
        "      <td> 218</td>\n",
        "      <td> 0.338456</td>\n",
        "      <td> 0.338456</td>\n",
        "      <td>   6.441708</td>\n",
        "    </tr>\n",
        "    <tr>\n",
        "      <th>50 </th>\n",
        "      <td> 224</td>\n",
        "      <td> 0.350248</td>\n",
        "      <td> 0.350248</td>\n",
        "      <td>   6.791956</td>\n",
        "    </tr>\n",
        "    <tr>\n",
        "      <th>51 </th>\n",
        "      <td> 233</td>\n",
        "      <td> 0.367356</td>\n",
        "      <td> 0.367356</td>\n",
        "      <td>   7.159312</td>\n",
        "    </tr>\n",
        "    <tr>\n",
        "      <th>52 </th>\n",
        "      <td> 238</td>\n",
        "      <td> 0.376577</td>\n",
        "      <td> 0.376577</td>\n",
        "      <td>   7.535889</td>\n",
        "    </tr>\n",
        "    <tr>\n",
        "      <th>53 </th>\n",
        "      <td> 241</td>\n",
        "      <td> 0.382017</td>\n",
        "      <td> 0.382017</td>\n",
        "      <td>   7.917906</td>\n",
        "    </tr>\n",
        "    <tr>\n",
        "      <th>...</th>\n",
        "      <td>...</td>\n",
        "      <td>...</td>\n",
        "      <td>...</td>\n",
        "      <td>...</td>\n",
        "    </tr>\n",
        "    <tr>\n",
        "      <th>174</th>\n",
        "      <td> 865</td>\n",
        "      <td> 0.937016</td>\n",
        "      <td> 0.937016</td>\n",
        "      <td> 107.679783</td>\n",
        "    </tr>\n",
        "    <tr>\n",
        "      <th>175</th>\n",
        "      <td> 865</td>\n",
        "      <td> 0.937016</td>\n",
        "      <td> 0.937016</td>\n",
        "      <td> 108.616799</td>\n",
        "    </tr>\n",
        "    <tr>\n",
        "      <th>176</th>\n",
        "      <td> 866</td>\n",
        "      <td> 0.937518</td>\n",
        "      <td> 0.937518</td>\n",
        "      <td> 109.554317</td>\n",
        "    </tr>\n",
        "    <tr>\n",
        "      <th>177</th>\n",
        "      <td> 867</td>\n",
        "      <td> 0.938019</td>\n",
        "      <td> 0.938019</td>\n",
        "      <td> 110.492336</td>\n",
        "    </tr>\n",
        "    <tr>\n",
        "      <th>20 </th>\n",
        "      <td>  87</td>\n",
        "      <td> 0.939519</td>\n",
        "      <td> 0.939519</td>\n",
        "      <td> 111.431855</td>\n",
        "    </tr>\n",
        "    <tr>\n",
        "      <th>178</th>\n",
        "      <td> 870</td>\n",
        "      <td> 0.939519</td>\n",
        "      <td> 0.939519</td>\n",
        "      <td> 112.371374</td>\n",
        "    </tr>\n",
        "    <tr>\n",
        "      <th>179</th>\n",
        "      <td> 879</td>\n",
        "      <td> 0.943989</td>\n",
        "      <td> 0.943989</td>\n",
        "      <td> 113.315363</td>\n",
        "    </tr>\n",
        "    <tr>\n",
        "      <th>180</th>\n",
        "      <td> 883</td>\n",
        "      <td> 0.945961</td>\n",
        "      <td> 0.945961</td>\n",
        "      <td> 114.261324</td>\n",
        "    </tr>\n",
        "    <tr>\n",
        "      <th>181</th>\n",
        "      <td> 890</td>\n",
        "      <td> 0.949390</td>\n",
        "      <td> 0.949390</td>\n",
        "      <td> 115.210714</td>\n",
        "    </tr>\n",
        "    <tr>\n",
        "      <th>182</th>\n",
        "      <td> 897</td>\n",
        "      <td> 0.952792</td>\n",
        "      <td> 0.952792</td>\n",
        "      <td> 116.163506</td>\n",
        "    </tr>\n",
        "    <tr>\n",
        "      <th>183</th>\n",
        "      <td> 897</td>\n",
        "      <td> 0.952792</td>\n",
        "      <td> 0.952792</td>\n",
        "      <td> 117.116299</td>\n",
        "    </tr>\n",
        "    <tr>\n",
        "      <th>21 </th>\n",
        "      <td>  90</td>\n",
        "      <td> 0.954243</td>\n",
        "      <td> 0.954243</td>\n",
        "      <td> 118.070541</td>\n",
        "    </tr>\n",
        "    <tr>\n",
        "      <th>184</th>\n",
        "      <td> 905</td>\n",
        "      <td> 0.956649</td>\n",
        "      <td> 0.956649</td>\n",
        "      <td> 119.027190</td>\n",
        "    </tr>\n",
        "    <tr>\n",
        "      <th>185</th>\n",
        "      <td> 909</td>\n",
        "      <td> 0.958564</td>\n",
        "      <td> 0.958564</td>\n",
        "      <td> 119.985754</td>\n",
        "    </tr>\n",
        "    <tr>\n",
        "      <th>186</th>\n",
        "      <td> 914</td>\n",
        "      <td> 0.960946</td>\n",
        "      <td> 0.960946</td>\n",
        "      <td> 120.946700</td>\n",
        "    </tr>\n",
        "    <tr>\n",
        "      <th>187</th>\n",
        "      <td> 919</td>\n",
        "      <td> 0.963316</td>\n",
        "      <td> 0.963316</td>\n",
        "      <td> 121.910016</td>\n",
        "    </tr>\n",
        "    <tr>\n",
        "      <th>22 </th>\n",
        "      <td>  92</td>\n",
        "      <td> 0.963788</td>\n",
        "      <td> 0.963788</td>\n",
        "      <td> 122.873803</td>\n",
        "    </tr>\n",
        "    <tr>\n",
        "      <th>188</th>\n",
        "      <td> 924</td>\n",
        "      <td> 0.965672</td>\n",
        "      <td> 0.965672</td>\n",
        "      <td> 123.839475</td>\n",
        "    </tr>\n",
        "    <tr>\n",
        "      <th>23 </th>\n",
        "      <td>  93</td>\n",
        "      <td> 0.968483</td>\n",
        "      <td> 0.968483</td>\n",
        "      <td> 124.807958</td>\n",
        "    </tr>\n",
        "    <tr>\n",
        "      <th>189</th>\n",
        "      <td> 940</td>\n",
        "      <td> 0.973128</td>\n",
        "      <td> 0.973128</td>\n",
        "      <td> 125.781086</td>\n",
        "    </tr>\n",
        "    <tr>\n",
        "      <th>190</th>\n",
        "      <td> 941</td>\n",
        "      <td> 0.973590</td>\n",
        "      <td> 0.973590</td>\n",
        "      <td> 126.754676</td>\n",
        "    </tr>\n",
        "    <tr>\n",
        "      <th>191</th>\n",
        "      <td> 947</td>\n",
        "      <td> 0.976350</td>\n",
        "      <td> 0.976350</td>\n",
        "      <td> 127.731026</td>\n",
        "    </tr>\n",
        "    <tr>\n",
        "      <th>192</th>\n",
        "      <td> 949</td>\n",
        "      <td> 0.977266</td>\n",
        "      <td> 0.977266</td>\n",
        "      <td> 128.708292</td>\n",
        "    </tr>\n",
        "    <tr>\n",
        "      <th>193</th>\n",
        "      <td> 961</td>\n",
        "      <td> 0.982723</td>\n",
        "      <td> 0.982723</td>\n",
        "      <td> 129.691015</td>\n",
        "    </tr>\n",
        "    <tr>\n",
        "      <th>194</th>\n",
        "      <td> 966</td>\n",
        "      <td> 0.984977</td>\n",
        "      <td> 0.984977</td>\n",
        "      <td> 130.675992</td>\n",
        "    </tr>\n",
        "    <tr>\n",
        "      <th>195</th>\n",
        "      <td> 967</td>\n",
        "      <td> 0.985426</td>\n",
        "      <td> 0.985426</td>\n",
        "      <td> 131.661419</td>\n",
        "    </tr>\n",
        "    <tr>\n",
        "      <th>196</th>\n",
        "      <td> 988</td>\n",
        "      <td> 0.994757</td>\n",
        "      <td> 0.994757</td>\n",
        "      <td> 132.656176</td>\n",
        "    </tr>\n",
        "    <tr>\n",
        "      <th>197</th>\n",
        "      <td> 991</td>\n",
        "      <td> 0.996074</td>\n",
        "      <td> 0.996074</td>\n",
        "      <td> 133.652250</td>\n",
        "    </tr>\n",
        "    <tr>\n",
        "      <th>198</th>\n",
        "      <td> 995</td>\n",
        "      <td> 0.997823</td>\n",
        "      <td> 0.997823</td>\n",
        "      <td> 134.650073</td>\n",
        "    </tr>\n",
        "    <tr>\n",
        "      <th>199</th>\n",
        "      <td> 996</td>\n",
        "      <td> 0.998259</td>\n",
        "      <td> 0.998259</td>\n",
        "      <td> 135.648332</td>\n",
=======
        "      <th>0 </th>\n",
        "      <td>   1</td>\n",
        "      <td> 0.000000</td>\n",
        "    </tr>\n",
        "    <tr>\n",
        "      <th>18</th>\n",
        "      <td> 103</td>\n",
        "      <td> 0.012837</td>\n",
        "    </tr>\n",
        "    <tr>\n",
        "      <th>20</th>\n",
        "      <td> 121</td>\n",
        "      <td> 0.082785</td>\n",
        "    </tr>\n",
        "    <tr>\n",
        "      <th>19</th>\n",
        "      <td> 121</td>\n",
        "      <td> 0.082785</td>\n",
        "    </tr>\n",
        "    <tr>\n",
        "      <th>21</th>\n",
        "      <td> 128</td>\n",
        "      <td> 0.107210</td>\n",
>>>>>>> 2f58a846ded1767abb5bf659b18b03c6e20063db
        "    </tr>\n",
        "  </tbody>\n",
        "</table>\n",
        "<p>200 rows \u00d7 4 columns</p>\n",
        "</div>"
       ],
       "metadata": {},
       "output_type": "pyout",
       "prompt_number": 53,
       "text": [
<<<<<<< HEAD
        "     numbers  mantissas        m2          ms\n",
        "24       108   0.033424  0.033424    0.033424\n",
        "25       117   0.068186  0.068186    0.101610\n",
        "26       121   0.082785  0.082785    0.184395\n",
        "27       133   0.123852  0.123852    0.308247\n",
        "28       137   0.136721  0.136721    0.444967\n",
        "30       146   0.164353  0.164353    0.609320\n",
        "29       146   0.164353  0.164353    0.773673\n",
        "31       168   0.225309  0.225309    0.998982\n",
        "32       173   0.238046  0.238046    1.237028\n",
        "33       178   0.250420  0.250420    1.487448\n",
        "34       183   0.262451  0.262451    1.749899\n",
        "35       186   0.269513  0.269513    2.019412\n",
        "36       189   0.276462  0.276462    2.295874\n",
        "37       196   0.292256  0.292256    2.588130\n",
        "38       198   0.296665  0.296665    2.884795\n",
        "39       199   0.298853  0.298853    3.183648\n",
        "40       202   0.305351  0.305351    3.489000\n",
        "41       206   0.313867  0.313867    3.802867\n",
        "42       208   0.318063  0.318063    4.120930\n",
        "43       211   0.324282  0.324282    4.445213\n",
        "44       212   0.326336  0.326336    4.771549\n",
        "45       212   0.326336  0.326336    5.097885\n",
        "47       216   0.334454  0.334454    5.432338\n",
        "46       216   0.334454  0.334454    5.766792\n",
        "48       217   0.336460  0.336460    6.103252\n",
        "49       218   0.338456  0.338456    6.441708\n",
        "50       224   0.350248  0.350248    6.791956\n",
        "51       233   0.367356  0.367356    7.159312\n",
        "52       238   0.376577  0.376577    7.535889\n",
        "53       241   0.382017  0.382017    7.917906\n",
        "..       ...        ...       ...         ...\n",
        "174      865   0.937016  0.937016  107.679783\n",
        "175      865   0.937016  0.937016  108.616799\n",
        "176      866   0.937518  0.937518  109.554317\n",
        "177      867   0.938019  0.938019  110.492336\n",
        "20        87   0.939519  0.939519  111.431855\n",
        "178      870   0.939519  0.939519  112.371374\n",
        "179      879   0.943989  0.943989  113.315363\n",
        "180      883   0.945961  0.945961  114.261324\n",
        "181      890   0.949390  0.949390  115.210714\n",
        "182      897   0.952792  0.952792  116.163506\n",
        "183      897   0.952792  0.952792  117.116299\n",
        "21        90   0.954243  0.954243  118.070541\n",
        "184      905   0.956649  0.956649  119.027190\n",
        "185      909   0.958564  0.958564  119.985754\n",
        "186      914   0.960946  0.960946  120.946700\n",
        "187      919   0.963316  0.963316  121.910016\n",
        "22        92   0.963788  0.963788  122.873803\n",
        "188      924   0.965672  0.965672  123.839475\n",
        "23        93   0.968483  0.968483  124.807958\n",
        "189      940   0.973128  0.973128  125.781086\n",
        "190      941   0.973590  0.973590  126.754676\n",
        "191      947   0.976350  0.976350  127.731026\n",
        "192      949   0.977266  0.977266  128.708292\n",
        "193      961   0.982723  0.982723  129.691015\n",
        "194      966   0.984977  0.984977  130.675992\n",
        "195      967   0.985426  0.985426  131.661419\n",
        "196      988   0.994757  0.994757  132.656176\n",
        "197      991   0.996074  0.996074  133.652250\n",
        "198      995   0.997823  0.997823  134.650073\n",
        "199      996   0.998259  0.998259  135.648332\n",
        "\n",
        "[200 rows x 4 columns]"
=======
        "    numbers  mantissas\n",
        "0         1   0.000000\n",
        "18      103   0.012837\n",
        "20      121   0.082785\n",
        "19      121   0.082785\n",
        "21      128   0.107210"
>>>>>>> 2f58a846ded1767abb5bf659b18b03c6e20063db
       ]
      }
     ],
     "prompt_number": 53
    },
    {
     "cell_type": "code",
     "collapsed": false,
     "input": [
      "plt.plot(tt.numbers, tt.mantissas)"
     ],
     "language": "python",
     "metadata": {},
     "outputs": [
      {
       "metadata": {},
       "output_type": "pyout",
       "prompt_number": 58,
       "text": [
<<<<<<< HEAD
        "[<matplotlib.lines.Line2D at 0x7fe4e5217ad0>]"
=======
        "[<matplotlib.lines.Line2D at 0x7f2a2a9f4c50>]"
>>>>>>> 2f58a846ded1767abb5bf659b18b03c6e20063db
       ]
      },
      {
       "metadata": {},
       "output_type": "display_data",
<<<<<<< HEAD
       "png": "iVBORw0KGgoAAAANSUhEUgAAAXsAAAEACAYAAABS29YJAAAABHNCSVQICAgIfAhkiAAAAAlwSFlz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\nAWQzReYQu9PiAAAAAElFTkSuQmCC\n",
       "text": [
        "<matplotlib.figure.Figure at 0x7fe4e5320ed0>"
=======
       "png": "iVBORw0KGgoAAAANSUhEUgAAAXsAAAEACAYAAABS29YJAAAABHNCSVQICAgIfAhkiAAAAAlwSFlz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\n5sR/AaIct4QAAAAASUVORK5CYII=\n",
       "text": [
        "<matplotlib.figure.Figure at 0x7f2a2aace6d0>"
>>>>>>> 2f58a846ded1767abb5bf659b18b03c6e20063db
       ]
      }
     ],
     "prompt_number": 58
    },
    {
     "cell_type": "code",
     "collapsed": false,
     "input": [
      "plt.plot(np.arange(len(tt)), tt.mantissas)"
     ],
     "language": "python",
     "metadata": {},
     "outputs": [
      {
       "metadata": {},
       "output_type": "pyout",
       "prompt_number": 16,
       "text": [
<<<<<<< HEAD
        "[<matplotlib.lines.Line2D at 0x7fe4e5ba14d0>]"
=======
        "[<matplotlib.lines.Line2D at 0x7f2a2a99ed90>]"
>>>>>>> 2f58a846ded1767abb5bf659b18b03c6e20063db
       ]
      },
      {
       "metadata": {},
       "output_type": "display_data",
<<<<<<< HEAD
       "png": "iVBORw0KGgoAAAANSUhEUgAAAXgAAAEACAYAAAC57G0KAAAABHNCSVQICAgIfAhkiAAAAAlwSFlz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\n",
       "text": [
        "<matplotlib.figure.Figure at 0x7fe4e5c15c10>"
=======
       "png": "iVBORw0KGgoAAAANSUhEUgAAAXgAAAEACAYAAAC57G0KAAAABHNCSVQICAgIfAhkiAAAAAlwSFlz\nAAALEgAACxIB0t1+/AAAG8hJREFUeJzt3Xt4VPWdx/H3FwQKXoqIoHIpqFRQqkIxsEBlELWgu1Jt\nKyLqsm4LWlm1aEVcLZGnXqtVLD4WBbTUVbTcRIogF6M8FEEUwh2CmIWABhRhVW6B/PaP34gxJplJ\nMjNn5szn9TzzkJk5nvn2dPjwy+/8LuacQ0REwqdO0AWIiEhyKOBFREJKAS8iElIKeBGRkFLAi4iE\nlAJeRCSkYga8mU00s2IzW13FMU+ZWYGZ5ZtZp8SWKCIiNRFPC/55oG9lb5rZZcCZzrl2wBDgmQTV\nJiIitRAz4J1zi4DPqzjkCuCv0WOXAo3NrHliyhMRkZpKRB98C2BbmedFQMsEnFdERGohUTdZrdxz\nrX8gIhKwYxJwju1AqzLPW0Zf+xYzU+iLiNSAc658IzouiWjBzwRuADCzbsAe51xxRQc65/RI0GPU\nqFGB1xCWh66lrmcqH2++6ejZ09GwoaN1a8ellzpuvdXx9NOOOXMcH3747eNrI2YL3sxeBnoBTc1s\nGzAKqBcN7HHOudlmdpmZbQa+Av6jVhWJiGSwgwehuNg/3n4b/v53//OBA7B/PzRvDn/4A1x+ORx7\nbHJriRnwzrmBcRwzLDHliIhkltJSmD8fJk+GOXPg00/h5JN9kHfuDA89BKefDg0awPe+B9//PtRJ\n0RTTRPTBSwAikUjQJYSGrmVihf167toFS5bAxo3+sWiRD+4bb4T//m9o2zZ1AR6L1baPJ+4PMnOp\n+iwRkUQoKYG1a2H1ah/sK1fC669Dt27Qvj2cdRZ06gQ5OWA1ug0am5nhaniTVQEvIlLOoUMwfTrc\nfTc0bAjnnee7XNq2heuug5NOSl0ttQl4ddGISNY6dAimTYNZs+Cjj+DLL32rvbDQh/rEidC7d9BV\n1pxa8CKSdT76CCZMgPHj4eyzYdAgaNfO3wCtWxfOOMO33NOBWvAiIpXYuhVWrfJ96KtW+aGLRUVw\nzTXw1lvQoUPQFSaPWvAiEkqHDsGTT8Kjj0LXrr7fvGNHf4O0e3c4JkOat2rBi4gAzsG778Lf/uYn\nGF1wASxb5sehZyMFvIiEQlER/PKX8PnncP318N570KZN0FUFK02G44uI1MxXX/kbpjk50L8/rF/v\nJxxle7iDWvAikkGcg9Gj4Ykn/M/ghzX26eOXCrjwwmDrSzcKeBHJCKWlcOedsHAh5OdD48b+9Xr1\noFGjYGtLVwp4EUl7u3b5fvX9+/3QxhNPDLqizKCAF5G0UlDg+9F37oQtW2D5cr+41y23+GV2M2V4\nYzrQOHgRCYRz8OGHsH077N3ru2D+8Q947TU/br1pUz+88Uc/gosughNOCLriYGgcvIhkjN27ITcX\nXnwRjjsOfvAD359ep46fVbpxo7pgEkUBLyJJtXs3bNrkg3vhQpg9G66+2i8b0LJl0NWFm7poRCQp\n/v53GDbMb1XXrp1/XHih36qudeugq8sc6qIRkUB9vUTA4sW+T33nTv/zrFnQpUvyNsOQqqkFLyI1\n9vnnftjigw/Cvn1+wlHbtn6ky8CBfm9SqR3t6CQiKTd8uF9P/YIL4Oab4aqr0mcv0jBRF42IpNS4\ncfDGG7Btm98kQ9KTAl5EqmXaNPj9730fu8I9vSngRaRKzvkt7goK4P33YexYmDMHzjwz6MokFgW8\niFTq9dfhppt8yJ9zDpxyCuTlwQ9/GHRlEg8FvIh8x7598PTTflneV1+FHj001DET6Z63iBy1dy+M\nHAmtWvmW+uLF0LOnwj1TKeBFhC+/hMceg7POguJi+OADv/BX27ZBVya1oS4akSy2aZMf8jhpEvTu\nDW++CeeeG3RVkihqwYtkoZ074ZJL4Cc/8TsiLV3q+9oV7uGiFrxIFnrqKTjtNL9WTIMGQVcjyaKl\nCkSyzMGDfjXHt9+G9u2DrkZiqc1SBeqiEckyr74K552ncM8G6qIRyRILF/rt8GbO9F00En5qwYtk\ngblz4Zpr/Pj2P/3Jb7oh4acWvEiIlZbC88/7yUszZkD37kFXJKkUswVvZn3NbIOZFZjZiAreb2pm\nc8xspZmtMbPBSalURKpl7Vro1QuefRbmzVO4Z6MqA97M6gJjgb7A2cBAM+tQ7rBhwArn3PlABHjc\nzPSbgUgASkv91nk33wyRCFx7Lfzzn/6mqmSfWEGcA2x2zhUCmNlkoD+wvswxHwNfT484AfjMOXc4\nwXWKSDkHDsDs2VBSAlu3+uUFFi6EJk1g0CBYvdqv/ijZK1bAtwC2lXleBHQtd8xzwEIz2wEcD1yd\nuPJEpDKPPw6TJ0OHDn7S0k9/Cg89BG3aBF2ZpItYAR/PzKR7gJXOuYiZnQHMM7PznHNflD8wNzf3\n6M+RSIRIJFKNUkXkawcO+I035s2Djh2DrkYSKS8vj7y8vIScq8qZrGbWDch1zvWNPh8JlDrnHilz\nzGzgAefc4ujzBcAI59zycufSTFaRBJk40U9YmjMn6Eok2ZK56fZyoJ2ZtQF2AAOAgeWO2QBcDCw2\ns+bAWcCWmhQjIlXbtMlvdj1mjB8dI1KVKkfRRG+WDgPmAuuAV5xz681sqJkNjR72INDFzPKB+cBd\nzrndySxaJNs4B+PH+52VNmyA0aOhT5+gq5J0p8XGRNLcpk0wfLjf+HrKFH9TVbKHFhsTCaE9e+B3\nv/MTlHr18sMgFe5SHQp4kTTiHDz3HJxzDpx6Knz6KaxZ44Ne67ZLdWnGqUgaKCiA+fNh+nT47DMf\n8l26QP36QVcmmUx98CIB2bULtm2Dl17ye6L+27/Bv/wL3HCDgl2+kcxhkiKSQNu3w4QJMHWqX16g\nTRvo2tV3wzRrFnR1EjZqwYskiXPw5pt+tml+PhQVQXGxX5d90CDo1g3q1g26Skl3tWnBK+BFEsw5\n359+772wf78P9E6d4Ac/8C32Ro2CrlAyibpoRAKwf7/vRy8thY8/hvfe82PVly3zo19Gj4Zf/hLq\naKyaBEQteJE4OQfTpsELL/gw37MHTj7Zd7M0bepHvbRrB2ee6bfEO0bNJ0kAddGIJNnmzXDHHX44\n46hRfrRLq1ZgNfprJxI/zWQVSZING2DoUH9DtGtXWLECBgyA1q0V7pL+9EukSDlLl8J990FhIezd\nC0OG+KBv2jToykSqRwEvElVa6jfR+MMf4I9/9K32tm016UgylwJeBN/HPmQI7NsHS5bAGWcEXZFI\n7akPXrLaoUNw552+f71fP1i8WOEu4aEWvGS1Rx+F99+HtWvhlFOCrkYksTRMUrJWQYEf7vj++36W\nqUg60kxWkTjt2wePP+772TdtgnvuUbhLeKkFL1nhwAH461/hwQf96Jjrr4eGDSES0YJfkt7Ughep\nxBdfwLhx8Kc/wfnn+7XXe/QIuiqR1FDASygVFcGzz8Izz0CfPjB7tg94kWyigJfQ2LPHb3n34ovf\nLCmwZIlf/EskG6kPXjJeXh4MH+5HxVx0ke9f/9d/he99L+jKRGpPffCStSZNgt/9znfH9OunZQVE\nylLAS8b6y1/goYd8C75Dh6CrEUk/CnjJKDt2+K3wvvjC75y0cKGWFhCpjNaikYwyZQps3+772LVu\njEjV1IKXjDJ3LvzqV36vUxGpmkbRSMY4eNDvgVpYCE2aBF2NSGpoyz7JCv/8J5x9tsJdJF4KeMkY\nc+fCpZcGXYVI5lDAS9o7eBDmzYOpUxXwItWhm6yS1g4fhksu8atB3nijX79dROKjgJe0Nno0NGjg\nJzPV0e+bItWigJe0s3MnXHed/3PnTvjgA4W7SE3E/GtjZn3NbIOZFZjZiEqOiZjZCjNbY2Z5Ca9S\nssaXX8Lll/ulfZ9/Hlau1F6pIjVV5Th4M6sLbAQuBrYD7wEDnXPryxzTGFgM/NQ5V2RmTZ1zn1Zw\nLo2Dl+84cAAmToS9e/0M1Vmz4OKL4bnnwGo08lckXJK5mmQOsNk5Vxj9oMlAf2B9mWOuBaY654oA\nKgp3kbKKimD1ah/uo0ZB69bwox/5vVFfew3OPVfhLpIIsQK+BbCtzPMioGu5Y9oB9czsLeB4YIxz\n7m+JK1Ey1f/9Hxw6BP/7vzBnDuTnw9q1UFwMnTv7vVB/+1sYPFiBLpIMsQI+nj6VekBnoA/QCFhi\nZu865wpqW5xkpmXL4IEHYMECv+nGySdD375w5ZVw991w3nna6FokFWIF/HagVZnnrfCt+LK2AZ86\n5/YD+83sHeA84DsBn5ube/TnSCRCJBKpfsWS1l56CW6/3Q9vfOklOPbYoCsSySx5eXnk5eUl5Fyx\nbrIeg7/J2gfYASzjuzdZ2wNjgZ8CDYClwADn3Lpy59JN1hBzDh57DP78Z7/BdceOQVckEg5Ju8nq\nnDtsZsOAuUBdYIJzbr2ZDY2+P845t8HM5gCrgFLgufLhLuF28KDfNu+tt/yCYC1bBl2RiICWC5Za\nWrAAbrkF2reHF16Axo2DrkgkXLTptqSMc/DGG36EzGuvwbvvwpgxcMUVQVcmIuUp4KVa/vhHGD8e\nOnWCc86BCROgUaOgqxKRiqiLRuI2e7bfLm/pUmjVKvbxIlJ72tFJkmrfPn8TdfBgePVVhbtIplAX\njcR0661+Vcc1a6BZs6CrEZF4KeClSosW+WUG1q2DE04IuhoRqQ510Uil9u6Fm26CJ59UuItkIgW8\nVKigALp180v3/vznQVcjIjWhgJdvcQ7GjYPu3f2aMmPGaKVHkUylPnj5lvvvh5kz/R6o55wTdDUi\nUhsaBy9HbdkCF1zg123XejIi6UFLFUitFBXB7t1wzz1wxx0Kd5GwUAs+S338MbzyCrz8Mnz4IZx2\nmg/2adP8Jh0ikh5q04JXwGeRXbvgrrv8sr579sDPfgYDB0KfPnCMfpcTSUvqopEqOQdTp8Jtt8Gg\nQTBvHpx+urbNEwk7BXzIrVrlFwg7fNhvoderV9AViUiqaBx8SH32GTzyiO9+uekmWL5c4S6SbRTw\nIVJaCtOnw5VXwhlnwMqVsGQJ3Hgj1NH/0yJZRzdZQ6KkxHfF5Of71R9/8QutHyMSBrrJmuW2bIHf\n/Ma30hcvhmOPDboiEUkH+sU9gx05AqNHQ04O9OwJM2Yo3EXkG2rBZ6ivvvLj2A8f9t0yLVoEXZGI\npBsFfIZ65RXfJTNvniYpiUjF1EWToSZNgptvVriLSOU0iiYDFRZCly6wYwfUrx90NSKSTLUZRaMW\nfAZ68UUYMEDhLiJV0y/4GWb3bnj2WZgyJehKRCTdqQWfQUpK4Oqr/SMnJ+hqRCTdqQ8+Q+zf75cc\n2LsXXn9dK0GKZAv1wYeYc7B0KUQi/vmUKQp3EYmP+uDT2NatcM01UFzst9K7+WawGv07LiLZSC34\nNFRU5Ndu79YNrroKCgr8WjMKdxGpDrXg08isWfDww7Bxow/38ePhssuCrkpEMpVusqaJTZuge3c/\nBPKKKzRDVUQ8bbodAoMGQYcOcO+9QVciIulEAZ/h1q3zo2Q+/BCOPz7oakQknSR1mKSZ9TWzDWZW\nYGYjqjjuAjM7bGZX1aSQbPXJJ771PnKkwl1EEqvKgDezusBYoC9wNjDQzDpUctwjwBxAYz3isHEj\nPP2073e/6iq4/fagKxKRsInVgs8BNjvnCp1zJcBkoH8Fx/0XMAXYleD6QmnHDj9KZsUKGDMG7rtP\nQyBFJPFijdVoAWwr87wI6Fr2ADNrgQ/9i4ALAHW0x/DYYzB4MDzxRNCViEiYxQr4eML6SeBu55wz\nM0NdNFXatQteeAFWrw66EhEJu1gBvx1oVeZ5K3wrvqwfA5N9ttMU6GdmJc65meVPlpube/TnSCRC\n5OsFVrKEc3DPPX41SO2hKiIVycvLIy8vLyHnqnKYpJkdA2wE+gA7gGXAQOfc+kqOfx543Tk3rYL3\nsnqY5JEjfi2Z/HyYMwdOPDHoikQkE9RmmGSVLXjn3GEzGwbMBeoCE5xz681saPT9cTX50GyzbRtc\nfz3Uqwfz52s4pIikhiY6JcEnn/gbqSUlsH49LFsGd90FI0ZoqV8RqR7NZE0zI0fC2rVw0UVw+unQ\nsyc0aRJ0VSKSiRTwaeTIEWjTBt54Azp2DLoaEcl02tEpjbz1FjRrpnAXkeAp4BNs0iS44YagqxAR\nURdNQu3ZA23b+nVmmjULuhoRCQN10aSJiRP9DkwKdxFJB2rBJ8iRI9CuHbz8MnTtGvt4EZF4JG2i\nk8RWUuI3yX7nHTj5ZIW7iKQPBXwNFRXBrbfCggXw/e/7PVTHjg26KhGRb6gPvpr27YPp0yEnBzp3\n9tvsbd0KW7b4/ncRkXShFnwMpaXwwQd+DZl58/yyA+ef75f8vfTSoKsTEamcbrJW4t574cEH/RK/\n7dvDJZf4RySixcJEJHV0kzXBnnwSpk6FnTvhpJO0nZ6IZCYFfBkFBXDnnX6hsIULoWnToCsSEak5\n3WSN+sc/oEcP/1izBlq3DroiEZHayeoWfGmpn5g0cyYsWuT/7NYt6KpERBIja2+y7t/vd1natg2G\nDIErrvATlURE0oluslZTaakP9GbN/AzUBg2CrkhEJPGyMuCfesq34CdN0hZ6IhJeWddFs3Gjv5H6\n7rtw5plBVyMiUjVt2VcNl18OffrA8OFBVyIiEpv64OM0f75vwU+fHnQlIiLJlzXj4AsK4I474OGH\noX79oKsREUm+UAf8lCnQsiU0bw69evnFwX7+86CrEhFJjVD3wffsCTfdBL17w6mnQp1Q/3MmImGk\nm6wVKCyELl1gxw51yYhI5tKm2xWYPBl+8QuFu4hkr9AG/EsvwbXXBl2FiEhwQhnw778Pe/f6PngR\nkWwVyoAfMwZuuUU3VUUku4XuJusnn0CHDn4z7CZNkv5xIiJJpZusZTzzDAwYoHAXEQnNUgUHDsB9\n98GLL/olgEVEsl1oAv6226CoCFat0sYdIiIQkoBfuRJeew02bIDGjYOuRkQkPWR8H/zBg771fv/9\nCncRkbLiCngz62tmG8yswMxGVPD+IDPLN7NVZrbYzM5NfKnfKC2FhQvhV7+C006DE0/0P4uIyDdi\ndtGYWV1gLHAxsB14z8xmOufWlzlsC3Chc26vmfUFngW6JaNggKFDYckSGDwY8vP9ipEiIvJt8fTB\n5wCbnXOFAGY2GegPHA1459ySMscvBZIWuTNm+NZ7fj4cd1yyPkVEJPPF00XTAthW5nlR9LXK/Ccw\nuzZFVWbPHr/876RJCncRkVjiacHHPf3UzHoDNwI9Kno/Nzf36M+RSIRIJBLvqQGYNw86d/abZouI\nhFFeXh55eXkJOVfMpQrMrBuQ65zrG30+Eih1zj1S7rhzgWlAX+fc5grOU+ulCoYOhfbt4be/rdVp\nREQyRrKXKlgOtDOzNmZWHxgAzCxXQGt8uF9XUbgnyvz5cPHFyTq7iEi4xOyicc4dNrNhwFygLjDB\nObfezIZG3x8H/B44EXjGzABKnHM5iSz0o4/gq6+gY8dEnlVEJLwyZjXJ8eMhL8+vNSMiki2yYjXJ\nuXPVPSMiUh1pH/AlJXD77fDBB3D55UFXIyKSOdI24A8ehAcegHbtYMsWWL5cq0SKiFRHWq4m6RwM\nGQLFxTBtmh/7LiIi1ZOWAf/II7BmDSxaBI0aBV2NiEhmSquAP3wY7rgD5syBBQsU7iIitZFWAf/Q\nQ7B6NSxdqrXdRURqK61usr79Ntx5p8JdRCQR0maiU2mp37hj82aNlhER+VooJjpt3AhNmyrcRUQS\nJW0CftkyyEno6jUiItktbQJ+6VLo2jXoKkREwiNtAl4teBGRxEqLm6z798NJJ8Fnn0HDhikpR0Qk\nI2T0TdYjR+Cuu6B7d4W7iEgiBT7R6de/9pt5zJgRdCUiIuESaBfNzp3wwx/Cjh1alkBEpCIZ20Uz\naxZcconCXUQkGQIN+JkzoX//ICsQEQmvwLpo9u2DU06BwkJo0iQlJYiIZJzadNGk/Carc7BhA7zz\nDvz4xwp3EZFkSXnAv/ce9O4Np58O99+f6k8XEckeKQ/4wkLo1w+mTEn1J4uIZJeU32Tdvh1atEj1\np4qIZJ+UB3xREbRsmepPFRHJPmrBi4iElAJeRCSk1EUjIhJSKZ3odOSIo2FD2LNHK0eKiMQjY9ai\n+fRTOP54hbuISCqkNODV/y4ikjopDXj1v4uIpI5a8CIiIaUWvIhISKkFLyISUjED3sz6mtkGMysw\nsxGVHPNU9P18M+tU2bmKihTwIiKpUmXAm1ldYCzQFzgbGGhmHcodcxlwpnOuHTAEeKay823dqoBP\nlLy8vKBLCA1dy8TS9UwfsVrwOcBm51yhc64EmAyU32TvCuCvAM65pUBjM2te2Qnbt69FtXKU/hIl\njq5lYul6po9YAd8C2FbmeVH0tVjHVHgr9YknoF696pYoIiI1ESvg413HoPw02gr/u8sui/NsIiJS\na1WuRWNm3YBc51zf6PORQKlz7pEyx/wFyHPOTY4+3wD0cs4VlztXaha9EREJmWRtur0caGdmbYAd\nwABgYLljZgLDgMnRfxD2lA/32hQoIiI1U2XAO+cOm9kwYC5QF5jgnFtvZkOj749zzs02s8vMbDPw\nFfAfSa9aRERiStlywSIiklpJn8kaz0QpqZqZFZrZKjNbYWbLoq81MbN5ZrbJzN40s8ZB15muzGyi\nmRWb2eoyr1V6/cxsZPT7usHMLg2m6vRUybXMNbOi6PdzhZn1K/OermUVzKyVmb1lZmvNbI2Z3Rp9\nPTHfT+dc0h74bp3NQBugHrAS6JDMzwzjA/gIaFLutUeBu6I/jwAeDrrOdH0APwE6AatjXT/8hL6V\n0e9rm+j3t07Q/xvS5VHJtRwFDK/gWF3L2NfzFOD86M/HARuBDon6fia7BR/PRCmJT/mb1EcnmEX/\n/Flqy8kczrlFwOflXq7s+vUHXnbOlTjnCvF/gXJSUWcmqORawne/n6BrGZNz7hPn3Mroz18C6/Fz\nixLy/Ux2wMczUUpic8B8M1tuZr+OvtbcfTNaqRiodPawVKiy63ca/nv6NX1n4/Nf0bWoJpTpTtC1\nrIboaMVOwFIS9P1MdsDrDm5i9HDOdQL6AbeY2U/Kvun872661jUUx/XTta3aM0Bb4HzgY+DxKo7V\ntayAmR0HTAVuc859Ufa92nw/kx3w24FWZZ634tv/+kgcnHMfR//cBUzH/0pWbGanAJjZqcDO4CrM\nSJVdv/Lf2ZbR16QSzrmdLgoYzzddBrqWcTCzevhw/5tzbkb05YR8P5Md8EcnSplZffxEqZlJ/sxQ\nMbNGZnZ89OdjgUuB1fjr+O/Rw/4dmFHxGaQSlV2/mcA1ZlbfzNoC7YBlAdSXMaIB9LUr8d9P0LWM\nycwMmACsc849WeathHw/Y81krRVXyUSpZH5mCDUHpvvvAccA/+Oce9PMlgOvmtl/AoXA1cGVmN7M\n7GWgF9DUzLYBvwcepoLr55xbZ2avAuuAw8Bvoi1TocJrOQqImNn5+K6Cj4CvJ0LqWsbWA7gOWGVm\nK6KvjSRB309NdBIRCamUbtknIiKpo4AXEQkpBbyISEgp4EVEQkoBLyISUgp4EZGQUsCLiISUAl5E\nJKT+H5A8jVLVXf6CAAAAAElFTkSuQmCC\n",
       "text": [
        "<matplotlib.figure.Figure at 0x7f2a2aa2b810>"
>>>>>>> 2f58a846ded1767abb5bf659b18b03c6e20063db
       ]
      }
     ],
     "prompt_number": 16
    },
    {
     "cell_type": "code",
     "collapsed": false,
     "input": [
      "tt['m2'] = _get_mantissas_(tt.numbers)\n",
      "sum(tt.mantissas!=tt.m2)"
     ],
     "language": "python",
     "metadata": {},
     "outputs": [
      {
       "metadata": {},
       "output_type": "pyout",
       "prompt_number": 17,
       "text": [
        "0"
       ]
      }
     ],
     "prompt_number": 17
    },
    {
     "cell_type": "code",
     "collapsed": false,
     "input": [
      "tt['ms']=tt.m2.cumsum()\n",
      "plt.plot(np.arange(len(tt.ms)), tt.ms,scale='log')"
     ],
     "language": "python",
     "metadata": {},
     "outputs": [
      {
<<<<<<< HEAD
       "ename": "TypeError",
       "evalue": "There is no line property \"scale\"",
       "output_type": "pyerr",
       "traceback": [
        "\u001b[1;31m---------------------------------------------------------------------------\u001b[0m\n\u001b[1;31mTypeError\u001b[0m                                 Traceback (most recent call last)",
        "\u001b[1;32m<ipython-input-59-303ea6538c66>\u001b[0m in \u001b[0;36m<module>\u001b[1;34m()\u001b[0m\n\u001b[0;32m      1\u001b[0m \u001b[0mtt\u001b[0m\u001b[1;33m[\u001b[0m\u001b[1;34m'ms'\u001b[0m\u001b[1;33m]\u001b[0m\u001b[1;33m=\u001b[0m\u001b[0mtt\u001b[0m\u001b[1;33m.\u001b[0m\u001b[0mm2\u001b[0m\u001b[1;33m.\u001b[0m\u001b[0mcumsum\u001b[0m\u001b[1;33m(\u001b[0m\u001b[1;33m)\u001b[0m\u001b[1;33m\u001b[0m\u001b[0m\n\u001b[1;32m----> 2\u001b[1;33m \u001b[0mplt\u001b[0m\u001b[1;33m.\u001b[0m\u001b[0mplot\u001b[0m\u001b[1;33m(\u001b[0m\u001b[0mnp\u001b[0m\u001b[1;33m.\u001b[0m\u001b[0marange\u001b[0m\u001b[1;33m(\u001b[0m\u001b[0mlen\u001b[0m\u001b[1;33m(\u001b[0m\u001b[0mtt\u001b[0m\u001b[1;33m.\u001b[0m\u001b[0mms\u001b[0m\u001b[1;33m)\u001b[0m\u001b[1;33m)\u001b[0m\u001b[1;33m,\u001b[0m \u001b[0mtt\u001b[0m\u001b[1;33m.\u001b[0m\u001b[0mms\u001b[0m\u001b[1;33m,\u001b[0m\u001b[0mscale\u001b[0m\u001b[1;33m=\u001b[0m\u001b[1;34m'log'\u001b[0m\u001b[1;33m)\u001b[0m\u001b[1;33m\u001b[0m\u001b[0m\n\u001b[0m",
        "\u001b[1;32m/home/milcent/anaconda/lib/python2.7/site-packages/matplotlib/pyplot.pyc\u001b[0m in \u001b[0;36mplot\u001b[1;34m(*args, **kwargs)\u001b[0m\n\u001b[0;32m   3097\u001b[0m         \u001b[0max\u001b[0m\u001b[1;33m.\u001b[0m\u001b[0mhold\u001b[0m\u001b[1;33m(\u001b[0m\u001b[0mhold\u001b[0m\u001b[1;33m)\u001b[0m\u001b[1;33m\u001b[0m\u001b[0m\n\u001b[0;32m   3098\u001b[0m     \u001b[1;32mtry\u001b[0m\u001b[1;33m:\u001b[0m\u001b[1;33m\u001b[0m\u001b[0m\n\u001b[1;32m-> 3099\u001b[1;33m         \u001b[0mret\u001b[0m \u001b[1;33m=\u001b[0m \u001b[0max\u001b[0m\u001b[1;33m.\u001b[0m\u001b[0mplot\u001b[0m\u001b[1;33m(\u001b[0m\u001b[1;33m*\u001b[0m\u001b[0margs\u001b[0m\u001b[1;33m,\u001b[0m \u001b[1;33m**\u001b[0m\u001b[0mkwargs\u001b[0m\u001b[1;33m)\u001b[0m\u001b[1;33m\u001b[0m\u001b[0m\n\u001b[0m\u001b[0;32m   3100\u001b[0m         \u001b[0mdraw_if_interactive\u001b[0m\u001b[1;33m(\u001b[0m\u001b[1;33m)\u001b[0m\u001b[1;33m\u001b[0m\u001b[0m\n\u001b[0;32m   3101\u001b[0m     \u001b[1;32mfinally\u001b[0m\u001b[1;33m:\u001b[0m\u001b[1;33m\u001b[0m\u001b[0m\n",
        "\u001b[1;32m/home/milcent/anaconda/lib/python2.7/site-packages/matplotlib/axes/_axes.pyc\u001b[0m in \u001b[0;36mplot\u001b[1;34m(self, *args, **kwargs)\u001b[0m\n\u001b[0;32m   1372\u001b[0m         \u001b[0mlines\u001b[0m \u001b[1;33m=\u001b[0m \u001b[1;33m[\u001b[0m\u001b[1;33m]\u001b[0m\u001b[1;33m\u001b[0m\u001b[0m\n\u001b[0;32m   1373\u001b[0m \u001b[1;33m\u001b[0m\u001b[0m\n\u001b[1;32m-> 1374\u001b[1;33m         \u001b[1;32mfor\u001b[0m \u001b[0mline\u001b[0m \u001b[1;32min\u001b[0m \u001b[0mself\u001b[0m\u001b[1;33m.\u001b[0m\u001b[0m_get_lines\u001b[0m\u001b[1;33m(\u001b[0m\u001b[1;33m*\u001b[0m\u001b[0margs\u001b[0m\u001b[1;33m,\u001b[0m \u001b[1;33m**\u001b[0m\u001b[0mkwargs\u001b[0m\u001b[1;33m)\u001b[0m\u001b[1;33m:\u001b[0m\u001b[1;33m\u001b[0m\u001b[0m\n\u001b[0m\u001b[0;32m   1375\u001b[0m             \u001b[0mself\u001b[0m\u001b[1;33m.\u001b[0m\u001b[0madd_line\u001b[0m\u001b[1;33m(\u001b[0m\u001b[0mline\u001b[0m\u001b[1;33m)\u001b[0m\u001b[1;33m\u001b[0m\u001b[0m\n\u001b[0;32m   1376\u001b[0m             \u001b[0mlines\u001b[0m\u001b[1;33m.\u001b[0m\u001b[0mappend\u001b[0m\u001b[1;33m(\u001b[0m\u001b[0mline\u001b[0m\u001b[1;33m)\u001b[0m\u001b[1;33m\u001b[0m\u001b[0m\n",
        "\u001b[1;32m/home/milcent/anaconda/lib/python2.7/site-packages/matplotlib/axes/_base.pyc\u001b[0m in \u001b[0;36m_grab_next_args\u001b[1;34m(self, *args, **kwargs)\u001b[0m\n\u001b[0;32m    301\u001b[0m                 \u001b[1;32mreturn\u001b[0m\u001b[1;33m\u001b[0m\u001b[0m\n\u001b[0;32m    302\u001b[0m             \u001b[1;32mif\u001b[0m \u001b[0mlen\u001b[0m\u001b[1;33m(\u001b[0m\u001b[0mremaining\u001b[0m\u001b[1;33m)\u001b[0m \u001b[1;33m<=\u001b[0m \u001b[1;36m3\u001b[0m\u001b[1;33m:\u001b[0m\u001b[1;33m\u001b[0m\u001b[0m\n\u001b[1;32m--> 303\u001b[1;33m                 \u001b[1;32mfor\u001b[0m \u001b[0mseg\u001b[0m \u001b[1;32min\u001b[0m \u001b[0mself\u001b[0m\u001b[1;33m.\u001b[0m\u001b[0m_plot_args\u001b[0m\u001b[1;33m(\u001b[0m\u001b[0mremaining\u001b[0m\u001b[1;33m,\u001b[0m \u001b[0mkwargs\u001b[0m\u001b[1;33m)\u001b[0m\u001b[1;33m:\u001b[0m\u001b[1;33m\u001b[0m\u001b[0m\n\u001b[0m\u001b[0;32m    304\u001b[0m                     \u001b[1;32myield\u001b[0m \u001b[0mseg\u001b[0m\u001b[1;33m\u001b[0m\u001b[0m\n\u001b[0;32m    305\u001b[0m                 \u001b[1;32mreturn\u001b[0m\u001b[1;33m\u001b[0m\u001b[0m\n",
        "\u001b[1;32m/home/milcent/anaconda/lib/python2.7/site-packages/matplotlib/axes/_base.pyc\u001b[0m in \u001b[0;36m_plot_args\u001b[1;34m(self, tup, kwargs)\u001b[0m\n\u001b[0;32m    289\u001b[0m         \u001b[0mncx\u001b[0m\u001b[1;33m,\u001b[0m \u001b[0mncy\u001b[0m \u001b[1;33m=\u001b[0m \u001b[0mx\u001b[0m\u001b[1;33m.\u001b[0m\u001b[0mshape\u001b[0m\u001b[1;33m[\u001b[0m\u001b[1;36m1\u001b[0m\u001b[1;33m]\u001b[0m\u001b[1;33m,\u001b[0m \u001b[0my\u001b[0m\u001b[1;33m.\u001b[0m\u001b[0mshape\u001b[0m\u001b[1;33m[\u001b[0m\u001b[1;36m1\u001b[0m\u001b[1;33m]\u001b[0m\u001b[1;33m\u001b[0m\u001b[0m\n\u001b[0;32m    290\u001b[0m         \u001b[1;32mfor\u001b[0m \u001b[0mj\u001b[0m \u001b[1;32min\u001b[0m \u001b[0mxrange\u001b[0m\u001b[1;33m(\u001b[0m\u001b[0mmax\u001b[0m\u001b[1;33m(\u001b[0m\u001b[0mncx\u001b[0m\u001b[1;33m,\u001b[0m \u001b[0mncy\u001b[0m\u001b[1;33m)\u001b[0m\u001b[1;33m)\u001b[0m\u001b[1;33m:\u001b[0m\u001b[1;33m\u001b[0m\u001b[0m\n\u001b[1;32m--> 291\u001b[1;33m             \u001b[0mseg\u001b[0m \u001b[1;33m=\u001b[0m \u001b[0mfunc\u001b[0m\u001b[1;33m(\u001b[0m\u001b[0mx\u001b[0m\u001b[1;33m[\u001b[0m\u001b[1;33m:\u001b[0m\u001b[1;33m,\u001b[0m \u001b[0mj\u001b[0m \u001b[1;33m%\u001b[0m \u001b[0mncx\u001b[0m\u001b[1;33m]\u001b[0m\u001b[1;33m,\u001b[0m \u001b[0my\u001b[0m\u001b[1;33m[\u001b[0m\u001b[1;33m:\u001b[0m\u001b[1;33m,\u001b[0m \u001b[0mj\u001b[0m \u001b[1;33m%\u001b[0m \u001b[0mncy\u001b[0m\u001b[1;33m]\u001b[0m\u001b[1;33m,\u001b[0m \u001b[0mkw\u001b[0m\u001b[1;33m,\u001b[0m \u001b[0mkwargs\u001b[0m\u001b[1;33m)\u001b[0m\u001b[1;33m\u001b[0m\u001b[0m\n\u001b[0m\u001b[0;32m    292\u001b[0m             \u001b[0mret\u001b[0m\u001b[1;33m.\u001b[0m\u001b[0mappend\u001b[0m\u001b[1;33m(\u001b[0m\u001b[0mseg\u001b[0m\u001b[1;33m)\u001b[0m\u001b[1;33m\u001b[0m\u001b[0m\n\u001b[0;32m    293\u001b[0m         \u001b[1;32mreturn\u001b[0m \u001b[0mret\u001b[0m\u001b[1;33m\u001b[0m\u001b[0m\n",
        "\u001b[1;32m/home/milcent/anaconda/lib/python2.7/site-packages/matplotlib/axes/_base.pyc\u001b[0m in \u001b[0;36m_makeline\u001b[1;34m(self, x, y, kw, kwargs)\u001b[0m\n\u001b[0;32m    241\u001b[0m                             \u001b[1;33m**\u001b[0m\u001b[0mkw\u001b[0m\u001b[1;33m\u001b[0m\u001b[0m\n\u001b[0;32m    242\u001b[0m                             )\n\u001b[1;32m--> 243\u001b[1;33m         \u001b[0mself\u001b[0m\u001b[1;33m.\u001b[0m\u001b[0mset_lineprops\u001b[0m\u001b[1;33m(\u001b[0m\u001b[0mseg\u001b[0m\u001b[1;33m,\u001b[0m \u001b[1;33m**\u001b[0m\u001b[0mkwargs\u001b[0m\u001b[1;33m)\u001b[0m\u001b[1;33m\u001b[0m\u001b[0m\n\u001b[0m\u001b[0;32m    244\u001b[0m         \u001b[1;32mreturn\u001b[0m \u001b[0mseg\u001b[0m\u001b[1;33m\u001b[0m\u001b[0m\n\u001b[0;32m    245\u001b[0m \u001b[1;33m\u001b[0m\u001b[0m\n",
        "\u001b[1;32m/home/milcent/anaconda/lib/python2.7/site-packages/matplotlib/axes/_base.pyc\u001b[0m in \u001b[0;36mset_lineprops\u001b[1;34m(self, line, **kwargs)\u001b[0m\n\u001b[0;32m    182\u001b[0m             \u001b[0mfuncName\u001b[0m \u001b[1;33m=\u001b[0m \u001b[1;34m\"set_%s\"\u001b[0m \u001b[1;33m%\u001b[0m \u001b[0mkey\u001b[0m\u001b[1;33m\u001b[0m\u001b[0m\n\u001b[0;32m    183\u001b[0m             \u001b[1;32mif\u001b[0m \u001b[1;32mnot\u001b[0m \u001b[0mhasattr\u001b[0m\u001b[1;33m(\u001b[0m\u001b[0mline\u001b[0m\u001b[1;33m,\u001b[0m \u001b[0mfuncName\u001b[0m\u001b[1;33m)\u001b[0m\u001b[1;33m:\u001b[0m\u001b[1;33m\u001b[0m\u001b[0m\n\u001b[1;32m--> 184\u001b[1;33m                 \u001b[1;32mraise\u001b[0m \u001b[0mTypeError\u001b[0m\u001b[1;33m(\u001b[0m\u001b[1;34m'There is no line property \"%s\"'\u001b[0m \u001b[1;33m%\u001b[0m \u001b[0mkey\u001b[0m\u001b[1;33m)\u001b[0m\u001b[1;33m\u001b[0m\u001b[0m\n\u001b[0m\u001b[0;32m    185\u001b[0m             \u001b[0mfunc\u001b[0m \u001b[1;33m=\u001b[0m \u001b[0mgetattr\u001b[0m\u001b[1;33m(\u001b[0m\u001b[0mline\u001b[0m\u001b[1;33m,\u001b[0m \u001b[0mfuncName\u001b[0m\u001b[1;33m)\u001b[0m\u001b[1;33m\u001b[0m\u001b[0m\n\u001b[0;32m    186\u001b[0m             \u001b[0mfunc\u001b[0m\u001b[1;33m(\u001b[0m\u001b[0mval\u001b[0m\u001b[1;33m)\u001b[0m\u001b[1;33m\u001b[0m\u001b[0m\n",
        "\u001b[1;31mTypeError\u001b[0m: There is no line property \"scale\""
=======
       "metadata": {},
       "output_type": "pyout",
       "prompt_number": 18,
       "text": [
        "[<matplotlib.lines.Line2D at 0x7f2a2a8cd6d0>]"
>>>>>>> 2f58a846ded1767abb5bf659b18b03c6e20063db
       ]
      },
      {
       "metadata": {},
       "output_type": "display_data",
<<<<<<< HEAD
       "png": "iVBORw0KGgoAAAANSUhEUgAAAXcAAAEACAYAAABI5zaHAAAABHNCSVQICAgIfAhkiAAAAAlwSFlz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\nYII=\n",
       "text": [
        "<matplotlib.figure.Figure at 0x7fe4e5520990>"
=======
       "png": "iVBORw0KGgoAAAANSUhEUgAAAXsAAAEACAYAAABS29YJAAAABHNCSVQICAgIfAhkiAAAAAlwSFlz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\niEgBUNiLiBQAhb2ISAH4f81ygVXGlIlNAAAAAElFTkSuQmCC\n",
       "text": [
        "<matplotlib.figure.Figure at 0x7f2a2a9cb710>"
>>>>>>> 2f58a846ded1767abb5bf659b18b03c6e20063db
       ]
      }
     ],
     "prompt_number": 59
    },
    {
     "cell_type": "code",
     "collapsed": false,
     "input": [
      "h = 9.234\n",
      "h*=100\n",
      "str(h)[:2]"
     ],
     "language": "python",
     "metadata": {},
     "outputs": [
      {
       "metadata": {},
       "output_type": "pyout",
       "prompt_number": 19,
       "text": [
        "'92'"
       ]
      }
     ],
     "prompt_number": 19
    },
    {
     "cell_type": "code",
     "collapsed": false,
     "input": [
      "len(str((1/m[3]).astype(int)))"
     ],
     "language": "python",
     "metadata": {},
     "outputs": [
      {
       "metadata": {},
       "output_type": "pyout",
       "prompt_number": 20,
       "text": [
        "1"
       ]
      }
     ],
     "prompt_number": 20
    },
    {
     "cell_type": "code",
     "collapsed": false,
     "input": [
      "eb = np.arange(10,100).reshape(90,1)\n",
      "eb = eb.astype(str)\n",
      "eb[:,0]"
     ],
     "language": "python",
     "metadata": {},
     "outputs": [
      {
       "metadata": {},
       "output_type": "pyout",
       "prompt_number": 21,
       "text": [
        "array(['10', '11', '12', '13', '14', '15', '16', '17', '18', '19', '20',\n",
        "       '21', '22', '23', '24', '25', '26', '27', '28', '29', '30', '31',\n",
        "       '32', '33', '34', '35', '36', '37', '38', '39', '40', '41', '42',\n",
        "       '43', '44', '45', '46', '47', '48', '49', '50', '51', '52', '53',\n",
        "       '54', '55', '56', '57', '58', '59', '60', '61', '62', '63', '64',\n",
        "       '65', '66', '67', '68', '69', '70', '71', '72', '73', '74', '75',\n",
        "       '76', '77', '78', '79', '80', '81', '82', '83', '84', '85', '86',\n",
        "       '87', '88', '89', '90', '91', '92', '93', '94', '95', '96', '97',\n",
        "       '98', '99'], \n",
        "      dtype='|S21')"
       ]
      }
     ],
     "prompt_number": 21
    },
    {
     "cell_type": "code",
     "collapsed": false,
     "input": [
      "eb = np.arange(10,100)\n",
      "eb = eb.astype(str)\n",
      "f = np.array([l[0] for l in eb]).reshape(90,1)\n",
      "s = np.array([l[1] for l in eb]).reshape(90,1)\n",
      "eb = np.hstack((f,s)).astype(int)\n",
      "eb[:,0]"
     ],
     "language": "python",
     "metadata": {},
     "outputs": [
      {
       "metadata": {},
       "output_type": "pyout",
       "prompt_number": 22,
       "text": [
        "array([1, 1, 1, 1, 1, 1, 1, 1, 1, 1, 2, 2, 2, 2, 2, 2, 2, 2, 2, 2, 3, 3, 3,\n",
        "       3, 3, 3, 3, 3, 3, 3, 4, 4, 4, 4, 4, 4, 4, 4, 4, 4, 5, 5, 5, 5, 5, 5,\n",
        "       5, 5, 5, 5, 6, 6, 6, 6, 6, 6, 6, 6, 6, 6, 7, 7, 7, 7, 7, 7, 7, 7, 7,\n",
        "       7, 8, 8, 8, 8, 8, 8, 8, 8, 8, 8, 9, 9, 9, 9, 9, 9, 9, 9, 9, 9])"
       ]
      }
     ],
     "prompt_number": 22
    },
    {
     "cell_type": "code",
     "collapsed": false,
     "input": [
      "e2 = np.arange(10,100)\n",
      "p = np.log10(1+(1./e2))\n",
      "plt.bar(e2,p)"
     ],
     "language": "python",
     "metadata": {},
     "outputs": [
      {
       "metadata": {},
       "output_type": "pyout",
       "prompt_number": 25,
       "text": [
        "<Container object of 90 artists>"
       ]
      },
      {
       "metadata": {},
       "output_type": "display_data",
       "png": "iVBORw0KGgoAAAANSUhEUgAAAYUAAAEACAYAAABcXmojAAAABHNCSVQICAgIfAhkiAAAAAlwSFlz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\nEaUkhYiIKP1/m8p/5c5fgOMAAAAASUVORK5CYII=\n",
       "text": [
<<<<<<< HEAD
        "<matplotlib.figure.Figure at 0x7fe4e5b71b90>"
=======
        "<matplotlib.figure.Figure at 0x7f2a2a897c10>"
>>>>>>> 2f58a846ded1767abb5bf659b18b03c6e20063db
       ]
      }
     ],
     "prompt_number": 25
    },
    {
     "cell_type": "code",
     "collapsed": false,
     "input": [
      "e3 = e2.astype(str)\n",
      "s = np.array([l[1] for l in e3]).astype(int)\n",
      "p[s == 0].sum()"
     ],
     "language": "python",
     "metadata": {},
     "outputs": [
      {
       "metadata": {},
       "output_type": "pyout",
       "prompt_number": 26,
       "text": [
        "0.11967926859688073"
       ]
      }
     ],
     "prompt_number": 26
    },
    {
     "cell_type": "code",
     "collapsed": false,
     "input": [
      "def __second__(output_DF=True):\n",
      "\ta = np.arange(10,100)\n",
      "\tExpected = np.log10(1 + (1. / a))\n",
      "\tSec_Dig = np.array(range(10)*9)\n",
      "\tif output_DF == False:\n",
      "\t\tc = np.zeros(10)\n",
      "\t\tfor n in Sec_Dig:\n",
      "\t\t\tc[n] = Expected[Sec_Dig == n].sum()\n",
      "\t\treturn c\n",
      "\telse:\n",
      "\t\td = pd.DataFrame({'Expected': Expected, 'Sec_Dig': Sec_Dig},\\\n",
      "\t\tindex = a)\n",
      "\t\treturn d.groupby('Sec_Dig').agg(sum)"
     ],
     "language": "python",
     "metadata": {},
     "outputs": [],
     "prompt_number": 27
    },
    {
     "cell_type": "code",
     "collapsed": false,
     "input": [
      "__second__()"
     ],
     "language": "python",
     "metadata": {},
     "outputs": [
      {
       "metadata": {},
       "output_type": "pyout",
       "prompt_number": 28,
       "text": [
        "array([ 0.11967927,  0.1138901 ,  0.1088215 ,  0.10432956,  0.1003082 ,\n",
        "        0.09667724,  0.09337474,  0.09035199,  0.08757005,  0.08499735])"
       ]
      }
     ],
     "prompt_number": 28
    },
    {
     "cell_type": "code",
     "collapsed": false,
     "input": [
      "def __first__(output_DF=True):\n",
      "\tFirst_Dig = np.arange(1,10)\n",
      "\tExpected = np.log10(1 + (1. / First_Dig))\n",
      "\tif output_DF == False:\n",
      "\t\treturn Expected\n",
      "\telse:\n",
      "\t\treturn pd.DataFrame({'Expected':Expected,\\\n",
      "\t\t\t'First_Dig':First_Dig}).set_index('First_Dig')"
     ],
     "language": "python",
     "metadata": {},
     "outputs": [],
     "prompt_number": 29
    },
    {
     "cell_type": "code",
     "collapsed": false,
     "input": [
      "a5 = np.arange(0,10)\n",
      "plt.plot(a5, __second__())\n",
      "plt.ylim((0,.15))"
     ],
     "language": "python",
     "metadata": {},
     "outputs": [
      {
       "metadata": {},
       "output_type": "pyout",
       "prompt_number": 30,
       "text": [
        "(0, 0.15)"
       ]
      },
      {
       "metadata": {},
       "output_type": "display_data",
       "png": "iVBORw0KGgoAAAANSUhEUgAAAXgAAAD7CAYAAABgzo9kAAAABHNCSVQICAgIfAhkiAAAAAlwSFlz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\n",
       "text": [
<<<<<<< HEAD
        "<matplotlib.figure.Figure at 0x7fe4e5b55050>"
=======
        "<matplotlib.figure.Figure at 0x7f2a2a41c0d0>"
>>>>>>> 2f58a846ded1767abb5bf659b18b03c6e20063db
       ]
      }
     ],
     "prompt_number": 30
    },
    {
     "cell_type": "code",
     "collapsed": false,
     "input": [
      "np.array(range(10)*10)"
     ],
     "language": "python",
     "metadata": {},
     "outputs": [
      {
       "metadata": {},
       "output_type": "pyout",
       "prompt_number": 31,
       "text": [
        "array([0, 1, 2, 3, 4, 5, 6, 7, 8, 9, 0, 1, 2, 3, 4, 5, 6, 7, 8, 9, 0, 1, 2,\n",
        "       3, 4, 5, 6, 7, 8, 9, 0, 1, 2, 3, 4, 5, 6, 7, 8, 9, 0, 1, 2, 3, 4, 5,\n",
        "       6, 7, 8, 9, 0, 1, 2, 3, 4, 5, 6, 7, 8, 9, 0, 1, 2, 3, 4, 5, 6, 7, 8,\n",
        "       9, 0, 1, 2, 3, 4, 5, 6, 7, 8, 9, 0, 1, 2, 3, 4, 5, 6, 7, 8, 9, 0, 1,\n",
        "       2, 3, 4, 5, 6, 7, 8, 9])"
       ]
      }
     ],
     "prompt_number": 31
    },
    {
     "cell_type": "code",
     "collapsed": false,
     "input": [
      "firstDigit()"
     ],
     "language": "python",
     "metadata": {},
     "outputs": [
      {
       "metadata": {},
       "output_type": "pyout",
       "prompt_number": 32,
       "text": [
        "array([ 0.30103   ,  0.17609126,  0.12493874,  0.09691001,  0.07918125,\n",
        "        0.06694679,  0.05799195,  0.05115252,  0.04575749])"
       ]
      }
     ],
     "prompt_number": 32
    },
    {
     "cell_type": "code",
     "collapsed": false,
     "input": [
      "a6 = np.arange(1,10)\n",
      "plt.bar(a6,firstDigit())"
     ],
     "language": "python",
     "metadata": {},
     "outputs": [
      {
       "metadata": {},
       "output_type": "pyout",
       "prompt_number": 33,
       "text": [
        "<Container object of 9 artists>"
       ]
      },
      {
       "metadata": {},
       "output_type": "display_data",
       "png": "iVBORw0KGgoAAAANSUhEUgAAAXsAAAEACAYAAABS29YJAAAABHNCSVQICAgIfAhkiAAAAAlwSFlz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\n",
       "text": [
<<<<<<< HEAD
        "<matplotlib.figure.Figure at 0x7fe4e57131d0>"
       ]
      }
     ],
     "prompt_number": 31
    },
    {
     "cell_type": "code",
     "collapsed": false,
     "input": [
      "def secondDig():\n",
      "\ta = np.arange(10,100)\n",
      "\tprobs = np.log10(1 + (1. / a))\n",
      "\tb = range(10)\n",
      "\ts = np.array(b*9)\n",
      "\tc = np.zeros(10)\n",
      "\tfor n in b:\n",
      "\t\tc[n] = probs[s == n].sum()\n",
      "\treturn c"
     ],
     "language": "python",
     "metadata": {},
     "outputs": [],
     "prompt_number": 32
    },
    {
     "cell_type": "code",
     "collapsed": false,
     "input": [
      "%timeit secondDigit\n",
      "%timeit secondDig"
     ],
     "language": "python",
     "metadata": {},
     "outputs": [
      {
       "output_type": "stream",
       "stream": "stdout",
       "text": [
        "10000000 loops, best of 3: 31.5 ns per loop\n",
        "10000000 loops, best of 3: 30.3 ns per loop"
       ]
      },
      {
       "output_type": "stream",
       "stream": "stdout",
       "text": [
        "\n"
=======
        "<matplotlib.figure.Figure at 0x7f2a2a30d0d0>"
>>>>>>> 2f58a846ded1767abb5bf659b18b03c6e20063db
       ]
      }
     ],
     "prompt_number": 33
    },
    {
     "cell_type": "code",
     "collapsed": false,
     "input": [
      "def __firstTwo__(output_DF=True):\n",
      "\tFirst_2_Dig = np.arange(10,100)\n",
      "\tExpected = np.log10(1 + (1. / First_2_Dig))\n",
      "\tif output_DF == False:\n",
      "\t\treturn Expected\n",
      "\telse:\n",
      "\t\treturn pd.DataFrame({'First_2_Dig':First_2_Dig,\\\n",
      "                             'Expected':Expected}).set_index('First_2_Dig')"
     ],
     "language": "python",
     "metadata": {},
     "outputs": [],
     "prompt_number": 92
    },
    {
     "cell_type": "code",
     "collapsed": false,
     "input": [
      "__firstTwo__()"
     ],
     "language": "python",
     "metadata": {},
     "outputs": [
      {
       "html": [
        "<div style=\"max-height:1000px;max-width:1500px;overflow:auto;\">\n",
        "<table border=\"1\" class=\"dataframe\">\n",
        "  <thead>\n",
        "    <tr style=\"text-align: right;\">\n",
        "      <th></th>\n",
        "      <th>Expected</th>\n",
        "    </tr>\n",
        "    <tr>\n",
        "      <th>First_2_Dig</th>\n",
        "      <th></th>\n",
        "    </tr>\n",
        "  </thead>\n",
        "  <tbody>\n",
        "    <tr>\n",
        "      <th>10</th>\n",
        "      <td> 0.041393</td>\n",
        "    </tr>\n",
        "    <tr>\n",
        "      <th>11</th>\n",
        "      <td> 0.037789</td>\n",
        "    </tr>\n",
        "    <tr>\n",
        "      <th>12</th>\n",
        "      <td> 0.034762</td>\n",
        "    </tr>\n",
        "    <tr>\n",
        "      <th>13</th>\n",
        "      <td> 0.032185</td>\n",
        "    </tr>\n",
        "    <tr>\n",
        "      <th>14</th>\n",
        "      <td> 0.029963</td>\n",
        "    </tr>\n",
        "    <tr>\n",
        "      <th>15</th>\n",
        "      <td> 0.028029</td>\n",
        "    </tr>\n",
        "    <tr>\n",
        "      <th>16</th>\n",
        "      <td> 0.026329</td>\n",
        "    </tr>\n",
        "    <tr>\n",
        "      <th>17</th>\n",
        "      <td> 0.024824</td>\n",
        "    </tr>\n",
        "    <tr>\n",
        "      <th>18</th>\n",
        "      <td> 0.023481</td>\n",
        "    </tr>\n",
        "    <tr>\n",
        "      <th>19</th>\n",
        "      <td> 0.022276</td>\n",
        "    </tr>\n",
<<<<<<< HEAD
        "  </tbody>\n",
        "</table>\n",
        "</div>"
       ],
       "metadata": {},
       "output_type": "pyout",
       "prompt_number": 35,
       "text": [
        "           probs\n",
        "secdig          \n",
        "0       0.119679\n",
        "1       0.113890\n",
        "2       0.108821\n",
        "3       0.104330\n",
        "4       0.100308\n",
        "5       0.096677\n",
        "6       0.093375\n",
        "7       0.090352\n",
        "8       0.087570\n",
        "9       0.084997"
       ]
      }
     ],
     "prompt_number": 35
    },
    {
     "cell_type": "code",
     "collapsed": false,
     "input": [
      "%timeit secondDigit\n",
      "%timeit secondDig\n",
      "%timeit secondD"
     ],
     "language": "python",
     "metadata": {},
     "outputs": [
      {
       "output_type": "stream",
       "stream": "stdout",
       "text": [
        "10000000 loops, best of 3: 31.5 ns per loop\n",
        "10000000 loops, best of 3: 29.6 ns per loop"
       ]
      },
      {
       "output_type": "stream",
       "stream": "stdout",
       "text": [
        "\n",
        "10000000 loops, best of 3: 30.2 ns per loop"
       ]
      },
      {
       "output_type": "stream",
       "stream": "stdout",
       "text": [
        "\n"
       ]
      }
     ],
     "prompt_number": 36
    },
    {
     "cell_type": "code",
     "collapsed": false,
     "input": [
      "def firstTwoDigits(output_DF=True):\n",
      "\t'''\n",
      "\tReturns the expected probabilities of the first two digits\n",
      "\taccording to Benford's distribution.\n",
      "\t\n",
      "\t- output_DF: Defaluts to Ture, Outputing a pandas Series\n",
      "\t\t\t\tobject with the probabilities and the respective\n",
      "\t\t\t\tdigits as the index, or a numpy array if False.\n",
      "\t'''\n",
      "\tFirst_2_Dig = np.arange(10,100)\n",
      "\tExpected = np.log10(1 + (1. / First_2_Dig))\n",
      "\tif output_DF == False:\n",
      "\t\treturn Expected\n",
      "\telse:\n",
      "\t\treturn pd.Series(Expected, index = First_2_Dig)"
     ],
     "language": "python",
     "metadata": {},
     "outputs": [],
     "prompt_number": 37
    },
    {
     "cell_type": "code",
     "collapsed": false,
     "input": [
      "g =firstDigit()\n",
      "g"
     ],
     "language": "python",
     "metadata": {},
     "outputs": [
      {
       "metadata": {},
       "output_type": "pyout",
       "prompt_number": 38,
       "text": [
        "array([ 0.30103   ,  0.17609126,  0.12493874,  0.09691001,  0.07918125,\n",
        "        0.06694679,  0.05799195,  0.05115252,  0.04575749])"
       ]
      }
     ],
     "prompt_number": 38
    },
    {
     "cell_type": "code",
     "collapsed": false,
     "input": [
      "secondDigit()"
     ],
     "language": "python",
     "metadata": {},
     "outputs": [
      {
       "metadata": {},
       "output_type": "pyout",
       "prompt_number": 39,
       "text": [
        "array([ 0.11967927,  0.1138901 ,  0.1088215 ,  0.10432956,  0.1003082 ,\n",
        "        0.09667724,  0.09337474,  0.09035199,  0.08757005,  0.08499735])"
       ]
      }
     ],
     "prompt_number": 39
    },
    {
     "cell_type": "code",
     "collapsed": false,
     "input": [
      "def firstTwoDigits(output_DF=True):\n",
      "\t'''\n",
      "\tReturns the expected probabilities of the first two digits\n",
      "\taccording to Benford's distribution.\n",
      "\t\n",
      "\t- output_DF: Defaluts to Ture, Outputing a pandas DataFrame\n",
      "\t\t\t\tobject with the probabilities and the respective\n",
      "\t\t\t\tdigits as the index, or a numpy array if False.\n",
      "\t'''\n",
      "\tFirst_2_Dig = np.arange(10,100)\n",
      "\tExpected = np.log10(1 + (1. / First_2_Dig))\n",
      "\tif output_DF == False:\n",
      "\t\treturn Expected\n",
      "\telse:\n",
      "\t\treturn pd.DataFrame({'First_2_Dig':First_2_Dig,\\\n",
      "                             'Expected':Expected}).set_index('First_2_Dig')"
     ],
     "language": "python",
     "metadata": {},
     "outputs": [],
     "prompt_number": 40
    },
    {
     "cell_type": "code",
     "collapsed": false,
     "input": [
      "firstTwoDigits()"
     ],
     "language": "python",
     "metadata": {},
     "outputs": [
      {
       "html": [
        "<div style=\"max-height:1000px;max-width:1500px;overflow:auto;\">\n",
        "<table border=\"1\" class=\"dataframe\">\n",
        "  <thead>\n",
        "    <tr style=\"text-align: right;\">\n",
        "      <th></th>\n",
        "      <th>Expected</th>\n",
        "    </tr>\n",
        "    <tr>\n",
        "      <th>First_2_Dig</th>\n",
        "      <th></th>\n",
        "    </tr>\n",
        "  </thead>\n",
        "  <tbody>\n",
        "    <tr>\n",
        "      <th>10</th>\n",
        "      <td> 0.041393</td>\n",
        "    </tr>\n",
        "    <tr>\n",
        "      <th>11</th>\n",
        "      <td> 0.037789</td>\n",
        "    </tr>\n",
        "    <tr>\n",
        "      <th>12</th>\n",
        "      <td> 0.034762</td>\n",
        "    </tr>\n",
        "    <tr>\n",
        "      <th>13</th>\n",
        "      <td> 0.032185</td>\n",
        "    </tr>\n",
        "    <tr>\n",
        "      <th>14</th>\n",
        "      <td> 0.029963</td>\n",
        "    </tr>\n",
        "    <tr>\n",
        "      <th>15</th>\n",
        "      <td> 0.028029</td>\n",
        "    </tr>\n",
        "    <tr>\n",
        "      <th>16</th>\n",
        "      <td> 0.026329</td>\n",
        "    </tr>\n",
        "    <tr>\n",
        "      <th>17</th>\n",
        "      <td> 0.024824</td>\n",
        "    </tr>\n",
        "    <tr>\n",
        "      <th>18</th>\n",
        "      <td> 0.023481</td>\n",
        "    </tr>\n",
        "    <tr>\n",
        "      <th>19</th>\n",
        "      <td> 0.022276</td>\n",
        "    </tr>\n",
=======
>>>>>>> 2f58a846ded1767abb5bf659b18b03c6e20063db
        "    <tr>\n",
        "      <th>20</th>\n",
        "      <td> 0.021189</td>\n",
        "    </tr>\n",
        "    <tr>\n",
        "      <th>21</th>\n",
        "      <td> 0.020203</td>\n",
        "    </tr>\n",
        "    <tr>\n",
        "      <th>22</th>\n",
        "      <td> 0.019305</td>\n",
        "    </tr>\n",
        "    <tr>\n",
        "      <th>23</th>\n",
        "      <td> 0.018483</td>\n",
        "    </tr>\n",
        "    <tr>\n",
        "      <th>24</th>\n",
        "      <td> 0.017729</td>\n",
        "    </tr>\n",
        "    <tr>\n",
        "      <th>25</th>\n",
        "      <td> 0.017033</td>\n",
        "    </tr>\n",
        "    <tr>\n",
        "      <th>26</th>\n",
        "      <td> 0.016390</td>\n",
        "    </tr>\n",
        "    <tr>\n",
        "      <th>27</th>\n",
        "      <td> 0.015794</td>\n",
        "    </tr>\n",
        "    <tr>\n",
        "      <th>28</th>\n",
        "      <td> 0.015240</td>\n",
        "    </tr>\n",
        "    <tr>\n",
        "      <th>29</th>\n",
        "      <td> 0.014723</td>\n",
        "    </tr>\n",
        "    <tr>\n",
        "      <th>30</th>\n",
        "      <td> 0.014240</td>\n",
        "    </tr>\n",
        "    <tr>\n",
        "      <th>31</th>\n",
        "      <td> 0.013788</td>\n",
        "    </tr>\n",
        "    <tr>\n",
        "      <th>32</th>\n",
        "      <td> 0.013364</td>\n",
        "    </tr>\n",
        "    <tr>\n",
        "      <th>33</th>\n",
        "      <td> 0.012965</td>\n",
        "    </tr>\n",
        "    <tr>\n",
        "      <th>34</th>\n",
        "      <td> 0.012589</td>\n",
        "    </tr>\n",
        "    <tr>\n",
        "      <th>35</th>\n",
        "      <td> 0.012234</td>\n",
        "    </tr>\n",
        "    <tr>\n",
        "      <th>36</th>\n",
        "      <td> 0.011899</td>\n",
        "    </tr>\n",
        "    <tr>\n",
        "      <th>37</th>\n",
        "      <td> 0.011582</td>\n",
        "    </tr>\n",
        "    <tr>\n",
        "      <th>38</th>\n",
        "      <td> 0.011281</td>\n",
        "    </tr>\n",
        "    <tr>\n",
        "      <th>39</th>\n",
        "      <td> 0.010995</td>\n",
        "    </tr>\n",
        "    <tr>\n",
        "      <th>...</th>\n",
        "      <td>...</td>\n",
        "    </tr>\n",
        "    <tr>\n",
        "      <th>70</th>\n",
        "      <td> 0.006160</td>\n",
        "    </tr>\n",
        "    <tr>\n",
        "      <th>71</th>\n",
        "      <td> 0.006074</td>\n",
        "    </tr>\n",
        "    <tr>\n",
        "      <th>72</th>\n",
        "      <td> 0.005990</td>\n",
        "    </tr>\n",
        "    <tr>\n",
        "      <th>73</th>\n",
        "      <td> 0.005909</td>\n",
        "    </tr>\n",
        "    <tr>\n",
        "      <th>74</th>\n",
        "      <td> 0.005830</td>\n",
        "    </tr>\n",
        "    <tr>\n",
        "      <th>75</th>\n",
        "      <td> 0.005752</td>\n",
        "    </tr>\n",
        "    <tr>\n",
        "      <th>76</th>\n",
        "      <td> 0.005677</td>\n",
        "    </tr>\n",
        "    <tr>\n",
        "      <th>77</th>\n",
        "      <td> 0.005604</td>\n",
        "    </tr>\n",
        "    <tr>\n",
        "      <th>78</th>\n",
        "      <td> 0.005532</td>\n",
        "    </tr>\n",
        "    <tr>\n",
        "      <th>79</th>\n",
        "      <td> 0.005463</td>\n",
        "    </tr>\n",
        "    <tr>\n",
        "      <th>80</th>\n",
        "      <td> 0.005395</td>\n",
        "    </tr>\n",
        "    <tr>\n",
        "      <th>81</th>\n",
        "      <td> 0.005329</td>\n",
        "    </tr>\n",
        "    <tr>\n",
        "      <th>82</th>\n",
        "      <td> 0.005264</td>\n",
        "    </tr>\n",
        "    <tr>\n",
        "      <th>83</th>\n",
        "      <td> 0.005201</td>\n",
        "    </tr>\n",
        "    <tr>\n",
        "      <th>84</th>\n",
        "      <td> 0.005140</td>\n",
        "    </tr>\n",
        "    <tr>\n",
        "      <th>85</th>\n",
        "      <td> 0.005080</td>\n",
        "    </tr>\n",
        "    <tr>\n",
        "      <th>86</th>\n",
        "      <td> 0.005021</td>\n",
        "    </tr>\n",
        "    <tr>\n",
        "      <th>87</th>\n",
        "      <td> 0.004963</td>\n",
        "    </tr>\n",
        "    <tr>\n",
        "      <th>88</th>\n",
        "      <td> 0.004907</td>\n",
        "    </tr>\n",
        "    <tr>\n",
        "      <th>89</th>\n",
        "      <td> 0.004853</td>\n",
        "    </tr>\n",
        "    <tr>\n",
        "      <th>90</th>\n",
        "      <td> 0.004799</td>\n",
        "    </tr>\n",
        "    <tr>\n",
        "      <th>91</th>\n",
        "      <td> 0.004746</td>\n",
        "    </tr>\n",
        "    <tr>\n",
        "      <th>92</th>\n",
        "      <td> 0.004695</td>\n",
        "    </tr>\n",
        "    <tr>\n",
        "      <th>93</th>\n",
        "      <td> 0.004645</td>\n",
        "    </tr>\n",
        "    <tr>\n",
        "      <th>94</th>\n",
        "      <td> 0.004596</td>\n",
        "    </tr>\n",
        "    <tr>\n",
        "      <th>95</th>\n",
        "      <td> 0.004548</td>\n",
        "    </tr>\n",
        "    <tr>\n",
        "      <th>96</th>\n",
        "      <td> 0.004501</td>\n",
        "    </tr>\n",
        "    <tr>\n",
        "      <th>97</th>\n",
        "      <td> 0.004454</td>\n",
        "    </tr>\n",
        "    <tr>\n",
        "      <th>98</th>\n",
        "      <td> 0.004409</td>\n",
        "    </tr>\n",
        "    <tr>\n",
        "      <th>99</th>\n",
        "      <td> 0.004365</td>\n",
        "    </tr>\n",
        "  </tbody>\n",
        "</table>\n",
        "<p>90 rows \u00d7 1 columns</p>\n",
        "</div>"
       ],
       "metadata": {},
       "output_type": "pyout",
<<<<<<< HEAD
       "prompt_number": 41,
=======
       "prompt_number": 45,
>>>>>>> 2f58a846ded1767abb5bf659b18b03c6e20063db
       "text": [
        "             Expected\n",
        "First_2_Dig          \n",
        "10           0.041393\n",
        "11           0.037789\n",
        "12           0.034762\n",
        "13           0.032185\n",
        "14           0.029963\n",
        "15           0.028029\n",
        "16           0.026329\n",
        "17           0.024824\n",
        "18           0.023481\n",
        "19           0.022276\n",
        "20           0.021189\n",
        "21           0.020203\n",
        "22           0.019305\n",
        "23           0.018483\n",
        "24           0.017729\n",
        "25           0.017033\n",
        "26           0.016390\n",
        "27           0.015794\n",
        "28           0.015240\n",
        "29           0.014723\n",
        "30           0.014240\n",
        "31           0.013788\n",
        "32           0.013364\n",
        "33           0.012965\n",
        "34           0.012589\n",
        "35           0.012234\n",
        "36           0.011899\n",
        "37           0.011582\n",
        "38           0.011281\n",
        "39           0.010995\n",
        "...               ...\n",
        "70           0.006160\n",
        "71           0.006074\n",
        "72           0.005990\n",
        "73           0.005909\n",
        "74           0.005830\n",
        "75           0.005752\n",
        "76           0.005677\n",
        "77           0.005604\n",
        "78           0.005532\n",
        "79           0.005463\n",
        "80           0.005395\n",
        "81           0.005329\n",
        "82           0.005264\n",
        "83           0.005201\n",
        "84           0.005140\n",
        "85           0.005080\n",
        "86           0.005021\n",
        "87           0.004963\n",
        "88           0.004907\n",
        "89           0.004853\n",
        "90           0.004799\n",
        "91           0.004746\n",
        "92           0.004695\n",
        "93           0.004645\n",
        "94           0.004596\n",
        "95           0.004548\n",
        "96           0.004501\n",
        "97           0.004454\n",
        "98           0.004409\n",
        "99           0.004365\n",
        "\n",
        "[90 rows x 1 columns]"
       ]
      }
     ],
<<<<<<< HEAD
     "prompt_number": 41
=======
     "prompt_number": 45
    },
    {
     "cell_type": "code",
     "collapsed": false,
     "input": [
      "h = np.random.randint(1000, size =200)\n",
      "h"
     ],
     "language": "python",
     "metadata": {},
     "outputs": [
      {
       "metadata": {},
       "output_type": "pyout",
       "prompt_number": 48,
       "text": [
        "array([884,  39, 548, 319, 722, 868, 457, 920, 208, 665,  17, 159, 770,\n",
        "       464, 246, 410, 661,   3, 332, 509, 502, 659, 995, 576, 898, 382,\n",
        "       466, 158, 564, 436, 294, 583, 780, 895, 545, 489, 913, 189, 691,\n",
        "       497, 446, 106, 316, 601, 919, 843, 165, 949, 352, 605, 847, 959,\n",
        "       913, 272, 628, 448,  37, 717, 398, 167, 243, 270, 827, 913, 508,\n",
        "       218, 687, 640, 170, 289, 290, 955, 121, 192, 761, 378, 394,  47,\n",
        "       978, 499,  44, 897, 156, 947,  68, 397, 246, 729, 914,  14, 238,\n",
        "       912, 909, 848, 482, 759, 401, 169, 798, 741, 256,  46, 593,  10,\n",
        "        73, 508, 556, 475, 317, 106,  29,  59, 321, 996,   3, 246, 886,\n",
        "         7, 145, 225, 492, 539,  23, 795, 917, 898, 847, 265,  15, 184,\n",
        "       950, 932, 597, 863, 439, 834, 169, 434, 406, 144, 913, 517, 157,\n",
        "       938, 442, 546, 615, 877, 535, 619, 452, 963, 339, 190, 473, 717,\n",
        "       599,  72, 444, 987, 799,  38, 559, 326,  41, 116, 305, 255, 120,\n",
        "        52, 936, 227, 465, 465, 628, 943, 200, 926,  94, 819,  76, 857,\n",
        "       536, 704, 787, 465, 486, 568, 268, 405, 390, 506,  45, 489, 204,\n",
        "       859, 653, 385, 922, 366])"
       ]
      }
     ],
     "prompt_number": 48
    },
    {
     "cell_type": "code",
     "collapsed": false,
     "input": [
      "%timeit len(h[h<40]) #winner\n",
      "%timeit (h<40).sum() "
     ],
     "language": "python",
     "metadata": {},
     "outputs": [
      {
       "output_type": "stream",
       "stream": "stdout",
       "text": [
        "1000000 loops, best of 3: 1.46 \u00b5s per loop\n",
        "100000 loops, best of 3: 2.83 \u00b5s per loop"
       ]
      },
      {
       "output_type": "stream",
       "stream": "stdout",
       "text": [
        "\n"
       ]
      }
     ],
     "prompt_number": 53
    },
    {
     "cell_type": "code",
     "collapsed": false,
     "input": [
      "len(h)"
     ],
     "language": "python",
     "metadata": {},
     "outputs": [
      {
       "metadata": {},
       "output_type": "pyout",
       "prompt_number": 59,
       "text": [
        "200"
       ]
      }
     ],
     "prompt_number": 59
    },
    {
     "cell_type": "code",
     "collapsed": false,
     "input": [
      "n = len(h[h<40])\n",
      "p = float(n)/len(h) * 100.\n",
      "print \"Discarded \" + str(n) + \" values lower than 40, corresponding to \"\\\n",
      "+ str(p) + \" percent of the sample.\""
     ],
     "language": "python",
     "metadata": {},
     "outputs": [
      {
       "output_type": "stream",
       "stream": "stdout",
       "text": [
        "Discarded 12 values lower than 40, corresponding to 6.0 percent of the sample.\n"
       ]
      }
     ],
     "prompt_number": 65
    },
    {
     "cell_type": "code",
     "collapsed": false,
     "input": [
      "r = 290 * np.random.randn(1000)+1500\n",
      "rr = pd.DataFrame({'val':r, 'ind':np.arange(1000)}).set_index('ind')\n",
      "rr\n"
     ],
     "language": "python",
     "metadata": {},
     "outputs": [
      {
       "html": [
        "<div style=\"max-height:1000px;max-width:1500px;overflow:auto;\">\n",
        "<table border=\"1\" class=\"dataframe\">\n",
        "  <thead>\n",
        "    <tr style=\"text-align: right;\">\n",
        "      <th></th>\n",
        "      <th>val</th>\n",
        "    </tr>\n",
        "    <tr>\n",
        "      <th>ind</th>\n",
        "      <th></th>\n",
        "    </tr>\n",
        "  </thead>\n",
        "  <tbody>\n",
        "    <tr>\n",
        "      <th>0  </th>\n",
        "      <td> 1843.362462</td>\n",
        "    </tr>\n",
        "    <tr>\n",
        "      <th>1  </th>\n",
        "      <td> 1576.125392</td>\n",
        "    </tr>\n",
        "    <tr>\n",
        "      <th>2  </th>\n",
        "      <td> 1498.759478</td>\n",
        "    </tr>\n",
        "    <tr>\n",
        "      <th>3  </th>\n",
        "      <td> 2046.117177</td>\n",
        "    </tr>\n",
        "    <tr>\n",
        "      <th>4  </th>\n",
        "      <td> 1252.148869</td>\n",
        "    </tr>\n",
        "    <tr>\n",
        "      <th>5  </th>\n",
        "      <td> 1748.353269</td>\n",
        "    </tr>\n",
        "    <tr>\n",
        "      <th>6  </th>\n",
        "      <td> 1563.457240</td>\n",
        "    </tr>\n",
        "    <tr>\n",
        "      <th>7  </th>\n",
        "      <td> 1796.291503</td>\n",
        "    </tr>\n",
        "    <tr>\n",
        "      <th>8  </th>\n",
        "      <td> 1288.504400</td>\n",
        "    </tr>\n",
        "    <tr>\n",
        "      <th>9  </th>\n",
        "      <td> 1143.156729</td>\n",
        "    </tr>\n",
        "    <tr>\n",
        "      <th>10 </th>\n",
        "      <td> 1446.384600</td>\n",
        "    </tr>\n",
        "    <tr>\n",
        "      <th>11 </th>\n",
        "      <td> 1120.996630</td>\n",
        "    </tr>\n",
        "    <tr>\n",
        "      <th>12 </th>\n",
        "      <td> 1980.020575</td>\n",
        "    </tr>\n",
        "    <tr>\n",
        "      <th>13 </th>\n",
        "      <td> 1016.020489</td>\n",
        "    </tr>\n",
        "    <tr>\n",
        "      <th>14 </th>\n",
        "      <td> 1586.182964</td>\n",
        "    </tr>\n",
        "    <tr>\n",
        "      <th>15 </th>\n",
        "      <td> 1377.392993</td>\n",
        "    </tr>\n",
        "    <tr>\n",
        "      <th>16 </th>\n",
        "      <td> 1461.997884</td>\n",
        "    </tr>\n",
        "    <tr>\n",
        "      <th>17 </th>\n",
        "      <td> 1796.151901</td>\n",
        "    </tr>\n",
        "    <tr>\n",
        "      <th>18 </th>\n",
        "      <td> 1599.677414</td>\n",
        "    </tr>\n",
        "    <tr>\n",
        "      <th>19 </th>\n",
        "      <td> 1383.523046</td>\n",
        "    </tr>\n",
        "    <tr>\n",
        "      <th>20 </th>\n",
        "      <td> 1570.636820</td>\n",
        "    </tr>\n",
        "    <tr>\n",
        "      <th>21 </th>\n",
        "      <td> 1227.351885</td>\n",
        "    </tr>\n",
        "    <tr>\n",
        "      <th>22 </th>\n",
        "      <td> 1647.492157</td>\n",
        "    </tr>\n",
        "    <tr>\n",
        "      <th>23 </th>\n",
        "      <td> 1829.872175</td>\n",
        "    </tr>\n",
        "    <tr>\n",
        "      <th>24 </th>\n",
        "      <td> 1236.979617</td>\n",
        "    </tr>\n",
        "    <tr>\n",
        "      <th>25 </th>\n",
        "      <td> 1745.896459</td>\n",
        "    </tr>\n",
        "    <tr>\n",
        "      <th>26 </th>\n",
        "      <td> 1641.789802</td>\n",
        "    </tr>\n",
        "    <tr>\n",
        "      <th>27 </th>\n",
        "      <td> 1239.079514</td>\n",
        "    </tr>\n",
        "    <tr>\n",
        "      <th>28 </th>\n",
        "      <td> 1400.254028</td>\n",
        "    </tr>\n",
        "    <tr>\n",
        "      <th>29 </th>\n",
        "      <td> 1145.362114</td>\n",
        "    </tr>\n",
        "    <tr>\n",
        "      <th>...</th>\n",
        "      <td>...</td>\n",
        "    </tr>\n",
        "    <tr>\n",
        "      <th>970</th>\n",
        "      <td> 1395.049234</td>\n",
        "    </tr>\n",
        "    <tr>\n",
        "      <th>971</th>\n",
        "      <td> 1662.520717</td>\n",
        "    </tr>\n",
        "    <tr>\n",
        "      <th>972</th>\n",
        "      <td> 1628.119864</td>\n",
        "    </tr>\n",
        "    <tr>\n",
        "      <th>973</th>\n",
        "      <td> 1940.877417</td>\n",
        "    </tr>\n",
        "    <tr>\n",
        "      <th>974</th>\n",
        "      <td> 1900.670247</td>\n",
        "    </tr>\n",
        "    <tr>\n",
        "      <th>975</th>\n",
        "      <td> 1418.979890</td>\n",
        "    </tr>\n",
        "    <tr>\n",
        "      <th>976</th>\n",
        "      <td> 1374.261538</td>\n",
        "    </tr>\n",
        "    <tr>\n",
        "      <th>977</th>\n",
        "      <td> 1267.498704</td>\n",
        "    </tr>\n",
        "    <tr>\n",
        "      <th>978</th>\n",
        "      <td> 1835.787669</td>\n",
        "    </tr>\n",
        "    <tr>\n",
        "      <th>979</th>\n",
        "      <td> 1823.403871</td>\n",
        "    </tr>\n",
        "    <tr>\n",
        "      <th>980</th>\n",
        "      <td> 1692.675562</td>\n",
        "    </tr>\n",
        "    <tr>\n",
        "      <th>981</th>\n",
        "      <td> 1215.893765</td>\n",
        "    </tr>\n",
        "    <tr>\n",
        "      <th>982</th>\n",
        "      <td> 1402.642100</td>\n",
        "    </tr>\n",
        "    <tr>\n",
        "      <th>983</th>\n",
        "      <td> 1495.715184</td>\n",
        "    </tr>\n",
        "    <tr>\n",
        "      <th>984</th>\n",
        "      <td> 1464.884884</td>\n",
        "    </tr>\n",
        "    <tr>\n",
        "      <th>985</th>\n",
        "      <td> 1489.407285</td>\n",
        "    </tr>\n",
        "    <tr>\n",
        "      <th>986</th>\n",
        "      <td> 1588.708756</td>\n",
        "    </tr>\n",
        "    <tr>\n",
        "      <th>987</th>\n",
        "      <td> 1271.397161</td>\n",
        "    </tr>\n",
        "    <tr>\n",
        "      <th>988</th>\n",
        "      <td> 1718.092738</td>\n",
        "    </tr>\n",
        "    <tr>\n",
        "      <th>989</th>\n",
        "      <td> 1150.999697</td>\n",
        "    </tr>\n",
        "    <tr>\n",
        "      <th>990</th>\n",
        "      <td> 1785.972182</td>\n",
        "    </tr>\n",
        "    <tr>\n",
        "      <th>991</th>\n",
        "      <td> 1305.166525</td>\n",
        "    </tr>\n",
        "    <tr>\n",
        "      <th>992</th>\n",
        "      <td> 1261.445127</td>\n",
        "    </tr>\n",
        "    <tr>\n",
        "      <th>993</th>\n",
        "      <td> 1349.286000</td>\n",
        "    </tr>\n",
        "    <tr>\n",
        "      <th>994</th>\n",
        "      <td> 1835.322639</td>\n",
        "    </tr>\n",
        "    <tr>\n",
        "      <th>995</th>\n",
        "      <td> 1227.513104</td>\n",
        "    </tr>\n",
        "    <tr>\n",
        "      <th>996</th>\n",
        "      <td> 1685.729467</td>\n",
        "    </tr>\n",
        "    <tr>\n",
        "      <th>997</th>\n",
        "      <td> 1634.539159</td>\n",
        "    </tr>\n",
        "    <tr>\n",
        "      <th>998</th>\n",
        "      <td> 1394.788916</td>\n",
        "    </tr>\n",
        "    <tr>\n",
        "      <th>999</th>\n",
        "      <td> 1340.742496</td>\n",
        "    </tr>\n",
        "  </tbody>\n",
        "</table>\n",
        "<p>1000 rows \u00d7 1 columns</p>\n",
        "</div>"
       ],
       "metadata": {},
       "output_type": "pyout",
       "prompt_number": 181,
       "text": [
        "             val\n",
        "ind             \n",
        "0    1843.362462\n",
        "1    1576.125392\n",
        "2    1498.759478\n",
        "3    2046.117177\n",
        "4    1252.148869\n",
        "5    1748.353269\n",
        "6    1563.457240\n",
        "7    1796.291503\n",
        "8    1288.504400\n",
        "9    1143.156729\n",
        "10   1446.384600\n",
        "11   1120.996630\n",
        "12   1980.020575\n",
        "13   1016.020489\n",
        "14   1586.182964\n",
        "15   1377.392993\n",
        "16   1461.997884\n",
        "17   1796.151901\n",
        "18   1599.677414\n",
        "19   1383.523046\n",
        "20   1570.636820\n",
        "21   1227.351885\n",
        "22   1647.492157\n",
        "23   1829.872175\n",
        "24   1236.979617\n",
        "25   1745.896459\n",
        "26   1641.789802\n",
        "27   1239.079514\n",
        "28   1400.254028\n",
        "29   1145.362114\n",
        "..           ...\n",
        "970  1395.049234\n",
        "971  1662.520717\n",
        "972  1628.119864\n",
        "973  1940.877417\n",
        "974  1900.670247\n",
        "975  1418.979890\n",
        "976  1374.261538\n",
        "977  1267.498704\n",
        "978  1835.787669\n",
        "979  1823.403871\n",
        "980  1692.675562\n",
        "981  1215.893765\n",
        "982  1402.642100\n",
        "983  1495.715184\n",
        "984  1464.884884\n",
        "985  1489.407285\n",
        "986  1588.708756\n",
        "987  1271.397161\n",
        "988  1718.092738\n",
        "989  1150.999697\n",
        "990  1785.972182\n",
        "991  1305.166525\n",
        "992  1261.445127\n",
        "993  1349.286000\n",
        "994  1835.322639\n",
        "995  1227.513104\n",
        "996  1685.729467\n",
        "997  1634.539159\n",
        "998  1394.788916\n",
        "999  1340.742496\n",
        "\n",
        "[1000 rows x 1 columns]"
       ]
      }
     ],
     "prompt_number": 181
    },
    {
     "cell_type": "code",
     "collapsed": false,
     "input": [
      "rr.val = rr.val.apply(str).apply(lambda x: x[:2]).apply(int)\n",
      "rr.val"
     ],
     "language": "python",
     "metadata": {},
     "outputs": [
      {
       "metadata": {},
       "output_type": "pyout",
       "prompt_number": 182,
       "text": [
        "ind\n",
        "0      18\n",
        "1      15\n",
        "2      14\n",
        "3      20\n",
        "4      12\n",
        "5      17\n",
        "6      15\n",
        "7      17\n",
        "8      12\n",
        "9      11\n",
        "10     14\n",
        "11     11\n",
        "12     19\n",
        "13     10\n",
        "14     15\n",
        "...\n",
        "985    14\n",
        "986    15\n",
        "987    12\n",
        "988    17\n",
        "989    11\n",
        "990    17\n",
        "991    13\n",
        "992    12\n",
        "993    13\n",
        "994    18\n",
        "995    12\n",
        "996    16\n",
        "997    16\n",
        "998    13\n",
        "999    13\n",
        "Name: val, Length: 1000, dtype: int64"
       ]
      }
     ],
     "prompt_number": 182
    },
    {
     "cell_type": "code",
     "collapsed": false,
     "input": [
      "v = rr.val.value_counts()\n",
      "prop = rr.val.value_counts(normalize = True)\n",
      "prop.head()"
     ],
     "language": "python",
     "metadata": {},
     "outputs": [
      {
       "metadata": {},
       "output_type": "pyout",
       "prompt_number": 185,
       "text": [
        "14    0.134\n",
        "16    0.126\n",
        "13    0.125\n",
        "15    0.117\n",
        "17    0.106\n",
        "dtype: float64"
       ]
      }
     ],
     "prompt_number": 185
    },
    {
     "cell_type": "code",
     "collapsed": false,
     "input": [
      "df = pd.DataFrame({'Counts': v, 'Found': prop}).sort_index()\n",
      "#df.index.names = ['First_2_Dig']\n",
      "if len(df.index)<90:\n",
      "    df = df.reindex(np.arange(10,100))\n",
      "df = __firstTwo__().join(df)\n",
      "fig = plt.figure(figsize=(15,10))\n",
      "ax = fig.add_subplot(1,1,1)\n",
      "ax.plot(df.index,df.Expected, color='r', linewidth=2.0)\n",
      "ax.bar(df.index,df.Found)"
     ],
     "language": "python",
     "metadata": {},
     "outputs": [
      {
       "metadata": {},
       "output_type": "pyout",
       "prompt_number": 186,
       "text": [
        "<Container object of 90 artists>"
       ]
      },
      {
       "metadata": {},
       "output_type": "display_data",
       "png": "iVBORw0KGgoAAAANSUhEUgAAA3UAAAJPCAYAAADbmP1fAAAABHNCSVQICAgIfAhkiAAAAAlwSFlz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\n",
       "text": [
        "<matplotlib.figure.Figure at 0x7f2a27631ad0>"
       ]
      }
     ],
     "prompt_number": 186
    },
    {
     "cell_type": "code",
     "collapsed": false,
     "input": [
      "df.head()"
     ],
     "language": "python",
     "metadata": {},
     "outputs": [
      {
       "html": [
        "<div style=\"max-height:1000px;max-width:1500px;overflow:auto;\">\n",
        "<table border=\"1\" class=\"dataframe\">\n",
        "  <thead>\n",
        "    <tr style=\"text-align: right;\">\n",
        "      <th></th>\n",
        "      <th>Expected</th>\n",
        "      <th>Counts</th>\n",
        "      <th>Found</th>\n",
        "    </tr>\n",
        "    <tr>\n",
        "      <th>First_2_Dig</th>\n",
        "      <th></th>\n",
        "      <th></th>\n",
        "      <th></th>\n",
        "    </tr>\n",
        "  </thead>\n",
        "  <tbody>\n",
        "    <tr>\n",
        "      <th>10</th>\n",
        "      <td> 0.041393</td>\n",
        "      <td>  43</td>\n",
        "      <td> 0.043</td>\n",
        "    </tr>\n",
        "    <tr>\n",
        "      <th>11</th>\n",
        "      <td> 0.037789</td>\n",
        "      <td>  57</td>\n",
        "      <td> 0.057</td>\n",
        "    </tr>\n",
        "    <tr>\n",
        "      <th>12</th>\n",
        "      <td> 0.034762</td>\n",
        "      <td> 100</td>\n",
        "      <td> 0.100</td>\n",
        "    </tr>\n",
        "    <tr>\n",
        "      <th>13</th>\n",
        "      <td> 0.032185</td>\n",
        "      <td> 125</td>\n",
        "      <td> 0.125</td>\n",
        "    </tr>\n",
        "    <tr>\n",
        "      <th>14</th>\n",
        "      <td> 0.029963</td>\n",
        "      <td> 134</td>\n",
        "      <td> 0.134</td>\n",
        "    </tr>\n",
        "  </tbody>\n",
        "</table>\n",
        "</div>"
       ],
       "metadata": {},
       "output_type": "pyout",
       "prompt_number": 187,
       "text": [
        "             Expected  Counts  Found\n",
        "First_2_Dig                         \n",
        "10           0.041393      43  0.043\n",
        "11           0.037789      57  0.057\n",
        "12           0.034762     100  0.100\n",
        "13           0.032185     125  0.125\n",
        "14           0.029963     134  0.134"
       ]
      }
     ],
     "prompt_number": 187
    },
    {
     "cell_type": "code",
     "collapsed": false,
     "input": [
      "isinstance(df.Expected, pd.Series)"
     ],
     "language": "python",
     "metadata": {},
     "outputs": [
      {
       "metadata": {},
       "output_type": "pyout",
       "prompt_number": 195,
       "text": [
        "True"
       ]
      }
     ],
     "prompt_number": 195
>>>>>>> 2f58a846ded1767abb5bf659b18b03c6e20063db
    }
   ],
   "metadata": {}
  }
 ]
}