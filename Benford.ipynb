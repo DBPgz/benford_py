{
 "metadata": {
  "name": "",
  "signature": "sha256:f656794b73ecd707edef2348e4538211c733c7d4c78d1f22adf3d5597ee58425"
 },
 "nbformat": 3,
 "nbformat_minor": 0,
 "worksheets": [
  {
   "cells": [
    {
     "cell_type": "code",
     "collapsed": false,
     "input": [
      "import pandas as pd\n",
      "import numpy as np\n",
      "import matplotlib.pyplot as plt"
     ],
     "language": "python",
     "metadata": {},
     "outputs": [],
     "prompt_number": 1
    },
    {
     "cell_type": "code",
     "collapsed": false,
     "input": [
      "t = np.arange(10,1000,10)"
     ],
     "language": "python",
     "metadata": {},
     "outputs": [],
     "prompt_number": 2
    },
    {
     "cell_type": "code",
     "collapsed": false,
     "input": [
      "t[:10]"
     ],
     "language": "python",
     "metadata": {},
     "outputs": [
      {
       "metadata": {},
       "output_type": "pyout",
       "prompt_number": 3,
       "text": [
        "array([ 10,  20,  30,  40,  50,  60,  70,  80,  90, 100])"
       ]
      }
     ],
     "prompt_number": 3
    },
    {
     "cell_type": "heading",
     "level": 4,
     "metadata": {},
     "source": [
      "Getting the Mantissas"
     ]
    },
    {
     "cell_type": "code",
     "collapsed": false,
     "input": [
      "np.log10(t) - np.log10(t).astype(int)"
     ],
     "language": "python",
     "metadata": {},
     "outputs": [
      {
       "metadata": {},
       "output_type": "pyout",
       "prompt_number": 4,
       "text": [
        "array([ 0.        ,  0.30103   ,  0.47712125,  0.60205999,  0.69897   ,\n",
        "        0.77815125,  0.84509804,  0.90308999,  0.95424251,  0.        ,\n",
        "        0.04139269,  0.07918125,  0.11394335,  0.14612804,  0.17609126,\n",
        "        0.20411998,  0.23044892,  0.25527251,  0.2787536 ,  0.30103   ,\n",
        "        0.32221929,  0.34242268,  0.36172784,  0.38021124,  0.39794001,\n",
        "        0.41497335,  0.43136376,  0.44715803,  0.462398  ,  0.47712125,\n",
        "        0.49136169,  0.50514998,  0.51851394,  0.53147892,  0.54406804,\n",
        "        0.5563025 ,  0.56820172,  0.5797836 ,  0.59106461,  0.60205999,\n",
        "        0.61278386,  0.62324929,  0.63346846,  0.64345268,  0.65321251,\n",
        "        0.66275783,  0.67209786,  0.68124124,  0.69019608,  0.69897   ,\n",
        "        0.70757018,  0.71600334,  0.72427587,  0.73239376,  0.74036269,\n",
        "        0.74818803,  0.75587486,  0.76342799,  0.77085201,  0.77815125,\n",
        "        0.78532984,  0.79239169,  0.79934055,  0.80617997,  0.81291336,\n",
        "        0.81954394,  0.8260748 ,  0.83250891,  0.83884909,  0.84509804,\n",
        "        0.85125835,  0.8573325 ,  0.86332286,  0.86923172,  0.87506126,\n",
        "        0.88081359,  0.88649073,  0.8920946 ,  0.89762709,  0.90308999,\n",
        "        0.90848502,  0.91381385,  0.91907809,  0.92427929,  0.92941893,\n",
        "        0.93449845,  0.93951925,  0.94448267,  0.94939001,  0.95424251,\n",
        "        0.95904139,  0.96378783,  0.96848295,  0.97312785,  0.97772361,\n",
        "        0.98227123,  0.98677173,  0.99122608,  0.99563519])"
       ]
      }
     ],
     "prompt_number": 4
    },
    {
     "cell_type": "code",
     "collapsed": false,
     "input": [
      "g = np.random.randint(1000, size =200)\n",
      "g"
     ],
     "language": "python",
     "metadata": {},
     "outputs": [
      {
       "metadata": {},
       "output_type": "pyout",
       "prompt_number": 5,
       "text": [
        "array([148, 262, 706, 135, 742, 678, 906, 112, 254, 597, 613, 216, 107,\n",
        "       924, 697, 393, 236, 636, 629, 141, 688, 580, 720, 541, 429, 635,\n",
        "       263, 613, 357, 280, 611, 585, 834, 982, 874, 119, 712,  18, 256,\n",
        "       616, 756, 431, 658, 474, 856,  98, 231, 866, 821, 668, 301, 749,\n",
        "       238, 930, 525, 153, 793,  67, 822, 459, 916, 700, 796, 440, 329,\n",
        "       126,  65, 923, 524, 474, 493, 523, 691, 447, 547, 331, 310, 689,\n",
        "       888, 401, 594, 135, 802, 174, 574,  67, 877, 428, 860, 516, 362,\n",
        "       634, 908, 924, 768, 702, 928,   6, 750, 103, 311, 729,  21, 693,\n",
        "       197, 468,  58, 750,  16, 801, 951, 372,  15, 381, 378, 982, 981,\n",
        "       717,  47, 869, 716, 458, 988, 888, 956, 265, 402, 273, 618, 192,\n",
        "       548, 440, 963, 696, 359,   3, 336, 920, 851, 703,  15, 821, 770,\n",
        "       792, 362, 464, 177, 961, 166, 567, 978, 307, 102, 828, 674,  48,\n",
        "       807, 829, 686, 520,  71, 108, 568,  73, 806, 348, 335, 903,  71,\n",
        "       705, 972, 364, 541, 835, 379, 318, 621, 592, 272, 245, 107, 326,\n",
        "       197, 885, 888, 413,  60, 303, 751, 572, 822, 818, 262, 112, 561,\n",
        "       674,   5, 953, 981, 777])"
       ]
      }
     ],
     "prompt_number": 5
    },
    {
     "cell_type": "code",
     "collapsed": false,
     "input": [
      "m = np.log10(g) - np.log10(g).astype(int)\n",
      "m"
     ],
     "language": "python",
     "metadata": {},
     "outputs": [
      {
       "metadata": {},
       "output_type": "pyout",
       "prompt_number": 6,
       "text": [
        "array([ 0.17026172,  0.41830129,  0.8488047 ,  0.13033377,  0.87040391,\n",
        "        0.83122969,  0.9571282 ,  0.04921802,  0.40483372,  0.77597433,\n",
        "        0.78746047,  0.33445375,  0.02938378,  0.96567197,  0.84323278,\n",
        "        0.59439255,  0.372912  ,  0.80345712,  0.79865065,  0.14921911,\n",
        "        0.83758844,  0.76342799,  0.8573325 ,  0.73319727,  0.63245729,\n",
        "        0.80277373,  0.41995575,  0.78746047,  0.55266822,  0.44715803,\n",
        "        0.78604121,  0.76715587,  0.92116605,  0.99211149,  0.94151143,\n",
        "        0.07554696,  0.85247999,  0.25527251,  0.40823997,  0.78958071,\n",
        "        0.8785218 ,  0.63447727,  0.81822589,  0.67577834,  0.93247376,\n",
        "        0.99122608,  0.36361198,  0.93751789,  0.91434316,  0.82477646,\n",
        "        0.4785665 ,  0.87448182,  0.37657696,  0.96848295,  0.7201593 ,\n",
        "        0.18469143,  0.89927319,  0.8260748 ,  0.91487182,  0.66181269,\n",
        "        0.96189547,  0.84509804,  0.90091307,  0.64345268,  0.5171959 ,\n",
        "        0.10037055,  0.81291336,  0.9652017 ,  0.71933129,  0.67577834,\n",
        "        0.69284692,  0.71850169,  0.83947805,  0.65030752,  0.73798733,\n",
        "        0.51982799,  0.49136169,  0.83821922,  0.94841297,  0.60314437,\n",
        "        0.77378644,  0.13033377,  0.90417437,  0.24054925,  0.75891189,\n",
        "        0.8260748 ,  0.94299959,  0.63144377,  0.93449845,  0.7126497 ,\n",
        "        0.55870857,  0.80208926,  0.95808585,  0.96567197,  0.88536122,\n",
        "        0.84633711,  0.96754798,  0.77815125,  0.87506126,  0.01283722,\n",
        "        0.49276039,  0.86272753,  0.32221929,  0.84073323,  0.29446623,\n",
        "        0.67024585,  0.76342799,  0.87506126,  0.20411998,  0.90363252,\n",
        "        0.97818052,  0.57054294,  0.17609126,  0.58092498,  0.5774918 ,\n",
        "        0.99211149,  0.99166901,  0.85551916,  0.67209786,  0.93901978,\n",
        "        0.85491302,  0.66086548,  0.99475694,  0.94841297,  0.98045789,\n",
        "        0.42324587,  0.60422605,  0.43616265,  0.79098848,  0.28330123,\n",
        "        0.73878056,  0.64345268,  0.98362629,  0.84260924,  0.55509445,\n",
        "        0.47712125,  0.52633928,  0.96378783,  0.92992956,  0.84695533,\n",
        "        0.17609126,  0.91434316,  0.88649073,  0.89872518,  0.55870857,\n",
        "        0.66651798,  0.24797327,  0.98272339,  0.22010809,  0.75358306,\n",
        "        0.99033885,  0.48713838,  0.00860017,  0.91803034,  0.8286599 ,\n",
        "        0.68124124,  0.90687353,  0.91855453,  0.83632412,  0.71600334,\n",
        "        0.85125835,  0.03342376,  0.75434834,  0.86332286,  0.90633504,\n",
        "        0.54157924,  0.52504481,  0.95568775,  0.85125835,  0.84818912,\n",
        "        0.98766626,  0.56110138,  0.73319727,  0.92168648,  0.57863921,\n",
        "        0.50242712,  0.7930916 ,  0.77232171,  0.4345689 ,  0.38916608,\n",
        "        0.02938378,  0.5132176 ,  0.29446623,  0.94694327,  0.94841297,\n",
        "        0.61595005,  0.77815125,  0.48144263,  0.87563994,  0.75739603,\n",
        "        0.91487182,  0.9127533 ,  0.41830129,  0.04921802,  0.74896286,\n",
        "        0.8286599 ,  0.69897   ,  0.9790929 ,  0.99166901,  0.89042102])"
       ]
      }
     ],
     "prompt_number": 6
    },
    {
     "cell_type": "heading",
     "level": 4,
     "metadata": {},
     "source": [
      "Ordering the Mantissas and Plotting"
     ]
    },
    {
     "cell_type": "code",
     "collapsed": false,
     "input": [
      "m.sort()\n",
      "m"
     ],
     "language": "python",
     "metadata": {},
     "outputs": [
      {
       "metadata": {},
       "output_type": "pyout",
       "prompt_number": 7,
       "text": [
        "array([ 0.00860017,  0.01283722,  0.02938378,  0.02938378,  0.03342376,\n",
        "        0.04921802,  0.04921802,  0.07554696,  0.10037055,  0.13033377,\n",
        "        0.13033377,  0.14921911,  0.17026172,  0.17609126,  0.17609126,\n",
        "        0.18469143,  0.20411998,  0.22010809,  0.24054925,  0.24797327,\n",
        "        0.25527251,  0.28330123,  0.29446623,  0.29446623,  0.32221929,\n",
        "        0.33445375,  0.36361198,  0.372912  ,  0.37657696,  0.38916608,\n",
        "        0.40483372,  0.40823997,  0.41830129,  0.41830129,  0.41995575,\n",
        "        0.42324587,  0.4345689 ,  0.43616265,  0.44715803,  0.47712125,\n",
        "        0.4785665 ,  0.48144263,  0.48713838,  0.49136169,  0.49276039,\n",
        "        0.50242712,  0.5132176 ,  0.5171959 ,  0.51982799,  0.52504481,\n",
        "        0.52633928,  0.54157924,  0.55266822,  0.55509445,  0.55870857,\n",
        "        0.55870857,  0.56110138,  0.57054294,  0.5774918 ,  0.57863921,\n",
        "        0.58092498,  0.59439255,  0.60314437,  0.60422605,  0.61595005,\n",
        "        0.63144377,  0.63245729,  0.63447727,  0.64345268,  0.64345268,\n",
        "        0.65030752,  0.66086548,  0.66181269,  0.66651798,  0.67024585,\n",
        "        0.67209786,  0.67577834,  0.67577834,  0.68124124,  0.69284692,\n",
        "        0.69897   ,  0.7126497 ,  0.71600334,  0.71850169,  0.71933129,\n",
        "        0.7201593 ,  0.73319727,  0.73319727,  0.73798733,  0.73878056,\n",
        "        0.74896286,  0.75358306,  0.75434834,  0.75739603,  0.75891189,\n",
        "        0.76342799,  0.76342799,  0.76715587,  0.77232171,  0.77378644,\n",
        "        0.77597433,  0.77815125,  0.77815125,  0.78604121,  0.78746047,\n",
        "        0.78746047,  0.78958071,  0.79098848,  0.7930916 ,  0.79865065,\n",
        "        0.80208926,  0.80277373,  0.80345712,  0.81291336,  0.81822589,\n",
        "        0.82477646,  0.8260748 ,  0.8260748 ,  0.8286599 ,  0.8286599 ,\n",
        "        0.83122969,  0.83632412,  0.83758844,  0.83821922,  0.83947805,\n",
        "        0.84073323,  0.84260924,  0.84323278,  0.84509804,  0.84633711,\n",
        "        0.84695533,  0.84818912,  0.8488047 ,  0.85125835,  0.85125835,\n",
        "        0.85247999,  0.85491302,  0.85551916,  0.8573325 ,  0.86272753,\n",
        "        0.86332286,  0.87040391,  0.87448182,  0.87506126,  0.87506126,\n",
        "        0.87563994,  0.8785218 ,  0.88536122,  0.88649073,  0.89042102,\n",
        "        0.89872518,  0.89927319,  0.90091307,  0.90363252,  0.90417437,\n",
        "        0.90633504,  0.90687353,  0.9127533 ,  0.91434316,  0.91434316,\n",
        "        0.91487182,  0.91487182,  0.91803034,  0.91855453,  0.92116605,\n",
        "        0.92168648,  0.92992956,  0.93247376,  0.93449845,  0.93751789,\n",
        "        0.93901978,  0.94151143,  0.94299959,  0.94694327,  0.94841297,\n",
        "        0.94841297,  0.94841297,  0.95568775,  0.9571282 ,  0.95808585,\n",
        "        0.96189547,  0.96378783,  0.9652017 ,  0.96567197,  0.96567197,\n",
        "        0.96754798,  0.96848295,  0.97818052,  0.9790929 ,  0.98045789,\n",
        "        0.98272339,  0.98362629,  0.98766626,  0.99033885,  0.99122608,\n",
        "        0.99166901,  0.99166901,  0.99211149,  0.99211149,  0.99475694])"
       ]
      }
     ],
     "prompt_number": 7
    },
    {
     "cell_type": "code",
     "collapsed": false,
     "input": [
      "pylab inline"
     ],
     "language": "python",
     "metadata": {},
     "outputs": [
      {
       "output_type": "stream",
       "stream": "stdout",
       "text": [
        "Populating the interactive namespace from numpy and matplotlib\n"
       ]
      }
     ],
     "prompt_number": 8
    },
    {
     "cell_type": "code",
     "collapsed": false,
     "input": [
      "plt.plot(np.arange(len(m)), m)"
     ],
     "language": "python",
     "metadata": {},
     "outputs": [
      {
       "metadata": {},
       "output_type": "pyout",
       "prompt_number": 9,
       "text": [
        "[<matplotlib.lines.Line2D at 0x7f58a437ba10>]"
       ]
      },
      {
       "metadata": {},
       "output_type": "display_data",
       "png": "[encoded data removed]",
       "text": [
        "<matplotlib.figure.Figure at 0x7f58a43db890>"
       ]
      }
     ],
     "prompt_number": 9
    },
    {
     "cell_type": "code",
     "collapsed": false,
     "input": [
      "g.sort()\n",
      "g"
     ],
     "language": "python",
     "metadata": {},
     "outputs": [
      {
       "metadata": {},
       "output_type": "pyout",
       "prompt_number": 10,
       "text": [
        "array([  3,   5,   6,  15,  15,  16,  18,  21,  47,  48,  58,  60,  65,\n",
        "        67,  67,  71,  71,  73,  98, 102, 103, 107, 107, 108, 112, 112,\n",
        "       119, 126, 135, 135, 141, 148, 153, 166, 174, 177, 192, 197, 197,\n",
        "       216, 231, 236, 238, 245, 254, 256, 262, 262, 263, 265, 272, 273,\n",
        "       280, 301, 303, 307, 310, 311, 318, 326, 329, 331, 335, 336, 348,\n",
        "       357, 359, 362, 362, 364, 372, 378, 379, 381, 393, 401, 402, 413,\n",
        "       428, 429, 431, 440, 440, 447, 458, 459, 464, 468, 474, 474, 493,\n",
        "       516, 520, 523, 524, 525, 541, 541, 547, 548, 561, 567, 568, 572,\n",
        "       574, 580, 585, 592, 594, 597, 611, 613, 613, 616, 618, 621, 629,\n",
        "       634, 635, 636, 658, 668, 674, 674, 678, 686, 688, 689, 691, 693,\n",
        "       696, 697, 700, 702, 703, 705, 706, 712, 716, 717, 720, 729, 742,\n",
        "       749, 750, 750, 751, 756, 768, 770, 777, 792, 793, 796, 801, 802,\n",
        "       806, 807, 818, 821, 821, 822, 822, 828, 829, 834, 835, 851, 856,\n",
        "       860, 866, 869, 874, 877, 885, 888, 888, 888, 903, 906, 908, 916,\n",
        "       920, 923, 924, 924, 928, 930, 951, 953, 956, 961, 963, 972, 978,\n",
        "       981, 981, 982, 982, 988])"
       ]
      }
     ],
     "prompt_number": 10
    },
    {
     "cell_type": "code",
     "collapsed": false,
     "input": [
      "plt.plot(g, m)\n",
      "plt.grid()"
     ],
     "language": "python",
     "metadata": {},
     "outputs": [
      {
       "metadata": {},
       "output_type": "display_data",
       "png": "[encoded data removed]",
       "text": [
        "<matplotlib.figure.Figure at 0x7f58a42cc490>"
       ]
      }
     ],
     "prompt_number": 11
    },
    {
     "cell_type": "code",
     "collapsed": false,
     "input": [
      "tt = pd.DataFrame(g, columns=['numbers'])\n",
      "tt.head()"
     ],
     "language": "python",
     "metadata": {},
     "outputs": [
      {
       "html": [
        "<div style=\"max-height:1000px;max-width:1500px;overflow:auto;\">\n",
        "<table border=\"1\" class=\"dataframe\">\n",
        "  <thead>\n",
        "    <tr style=\"text-align: right;\">\n",
        "      <th></th>\n",
        "      <th>numbers</th>\n",
        "    </tr>\n",
        "  </thead>\n",
        "  <tbody>\n",
        "    <tr>\n",
        "      <th>0</th>\n",
        "      <td>  3</td>\n",
        "    </tr>\n",
        "    <tr>\n",
        "      <th>1</th>\n",
        "      <td>  5</td>\n",
        "    </tr>\n",
        "    <tr>\n",
        "      <th>2</th>\n",
        "      <td>  6</td>\n",
        "    </tr>\n",
        "    <tr>\n",
        "      <th>3</th>\n",
        "      <td> 15</td>\n",
        "    </tr>\n",
        "    <tr>\n",
        "      <th>4</th>\n",
        "      <td> 15</td>\n",
        "    </tr>\n",
        "  </tbody>\n",
        "</table>\n",
        "</div>"
       ],
       "metadata": {},
       "output_type": "pyout",
       "prompt_number": 12,
       "text": [
        "   numbers\n",
        "0        3\n",
        "1        5\n",
        "2        6\n",
        "3       15\n",
        "4       15"
       ]
      }
     ],
     "prompt_number": 12
    },
    {
     "cell_type": "code",
     "collapsed": false,
     "input": [
      "def _get_mantissas_(arr):\n",
      "\t'''\n",
      "\tThe mantissa is the non-integer part of the log of a number.\n",
      "\tThis fuction uses the element-wise array operations on numpy\n",
      "\tto get the mantissas of each number's log.\n",
      "\n",
      "\tarr: numpy array of integers or floats\n",
      "\t'''\n",
      "\n",
      "\treturn np.log10(arr) - np.log10(arr).astype(int)"
     ],
     "language": "python",
     "metadata": {},
     "outputs": [],
     "prompt_number": 13
    },
    {
     "cell_type": "code",
     "collapsed": false,
     "input": [
      "tt['mantissas']=_get_mantissas_(tt.numbers)\n",
      "tt.sort(columns='mantissas')\n",
      "tt"
     ],
     "language": "python",
     "metadata": {},
     "outputs": [
      {
       "html": [
        "<div style=\"max-height:1000px;max-width:1500px;overflow:auto;\">\n",
        "<table border=\"1\" class=\"dataframe\">\n",
        "  <thead>\n",
        "    <tr style=\"text-align: right;\">\n",
        "      <th></th>\n",
        "      <th>numbers</th>\n",
        "      <th>mantissas</th>\n",
        "    </tr>\n",
        "  </thead>\n",
        "  <tbody>\n",
        "    <tr>\n",
        "      <th>0  </th>\n",
        "      <td>   3</td>\n",
        "      <td> 0.477121</td>\n",
        "    </tr>\n",
        "    <tr>\n",
        "      <th>1  </th>\n",
        "      <td>   5</td>\n",
        "      <td> 0.698970</td>\n",
        "    </tr>\n",
        "    <tr>\n",
        "      <th>2  </th>\n",
        "      <td>   6</td>\n",
        "      <td> 0.778151</td>\n",
        "    </tr>\n",
        "    <tr>\n",
        "      <th>3  </th>\n",
        "      <td>  15</td>\n",
        "      <td> 0.176091</td>\n",
        "    </tr>\n",
        "    <tr>\n",
        "      <th>4  </th>\n",
        "      <td>  15</td>\n",
        "      <td> 0.176091</td>\n",
        "    </tr>\n",
        "    <tr>\n",
        "      <th>5  </th>\n",
        "      <td>  16</td>\n",
        "      <td> 0.204120</td>\n",
        "    </tr>\n",
        "    <tr>\n",
        "      <th>6  </th>\n",
        "      <td>  18</td>\n",
        "      <td> 0.255273</td>\n",
        "    </tr>\n",
        "    <tr>\n",
        "      <th>7  </th>\n",
        "      <td>  21</td>\n",
        "      <td> 0.322219</td>\n",
        "    </tr>\n",
        "    <tr>\n",
        "      <th>8  </th>\n",
        "      <td>  47</td>\n",
        "      <td> 0.672098</td>\n",
        "    </tr>\n",
        "    <tr>\n",
        "      <th>9  </th>\n",
        "      <td>  48</td>\n",
        "      <td> 0.681241</td>\n",
        "    </tr>\n",
        "    <tr>\n",
        "      <th>10 </th>\n",
        "      <td>  58</td>\n",
        "      <td> 0.763428</td>\n",
        "    </tr>\n",
        "    <tr>\n",
        "      <th>11 </th>\n",
        "      <td>  60</td>\n",
        "      <td> 0.778151</td>\n",
        "    </tr>\n",
        "    <tr>\n",
        "      <th>12 </th>\n",
        "      <td>  65</td>\n",
        "      <td> 0.812913</td>\n",
        "    </tr>\n",
        "    <tr>\n",
        "      <th>13 </th>\n",
        "      <td>  67</td>\n",
        "      <td> 0.826075</td>\n",
        "    </tr>\n",
        "    <tr>\n",
        "      <th>14 </th>\n",
        "      <td>  67</td>\n",
        "      <td> 0.826075</td>\n",
        "    </tr>\n",
        "    <tr>\n",
        "      <th>15 </th>\n",
        "      <td>  71</td>\n",
        "      <td> 0.851258</td>\n",
        "    </tr>\n",
        "    <tr>\n",
        "      <th>16 </th>\n",
        "      <td>  71</td>\n",
        "      <td> 0.851258</td>\n",
        "    </tr>\n",
        "    <tr>\n",
        "      <th>17 </th>\n",
        "      <td>  73</td>\n",
        "      <td> 0.863323</td>\n",
        "    </tr>\n",
        "    <tr>\n",
        "      <th>18 </th>\n",
        "      <td>  98</td>\n",
        "      <td> 0.991226</td>\n",
        "    </tr>\n",
        "    <tr>\n",
        "      <th>19 </th>\n",
        "      <td> 102</td>\n",
        "      <td> 0.008600</td>\n",
        "    </tr>\n",
        "    <tr>\n",
        "      <th>20 </th>\n",
        "      <td> 103</td>\n",
        "      <td> 0.012837</td>\n",
        "    </tr>\n",
        "    <tr>\n",
        "      <th>21 </th>\n",
        "      <td> 107</td>\n",
        "      <td> 0.029384</td>\n",
        "    </tr>\n",
        "    <tr>\n",
        "      <th>22 </th>\n",
        "      <td> 107</td>\n",
        "      <td> 0.029384</td>\n",
        "    </tr>\n",
        "    <tr>\n",
        "      <th>23 </th>\n",
        "      <td> 108</td>\n",
        "      <td> 0.033424</td>\n",
        "    </tr>\n",
        "    <tr>\n",
        "      <th>24 </th>\n",
        "      <td> 112</td>\n",
        "      <td> 0.049218</td>\n",
        "    </tr>\n",
        "    <tr>\n",
        "      <th>25 </th>\n",
        "      <td> 112</td>\n",
        "      <td> 0.049218</td>\n",
        "    </tr>\n",
        "    <tr>\n",
        "      <th>26 </th>\n",
        "      <td> 119</td>\n",
        "      <td> 0.075547</td>\n",
        "    </tr>\n",
        "    <tr>\n",
        "      <th>27 </th>\n",
        "      <td> 126</td>\n",
        "      <td> 0.100371</td>\n",
        "    </tr>\n",
        "    <tr>\n",
        "      <th>28 </th>\n",
        "      <td> 135</td>\n",
        "      <td> 0.130334</td>\n",
        "    </tr>\n",
        "    <tr>\n",
        "      <th>29 </th>\n",
        "      <td> 135</td>\n",
        "      <td> 0.130334</td>\n",
        "    </tr>\n",
        "    <tr>\n",
        "      <th>...</th>\n",
        "      <td>...</td>\n",
        "      <td>...</td>\n",
        "    </tr>\n",
        "    <tr>\n",
        "      <th>170</th>\n",
        "      <td> 866</td>\n",
        "      <td> 0.937518</td>\n",
        "    </tr>\n",
        "    <tr>\n",
        "      <th>171</th>\n",
        "      <td> 869</td>\n",
        "      <td> 0.939020</td>\n",
        "    </tr>\n",
        "    <tr>\n",
        "      <th>172</th>\n",
        "      <td> 874</td>\n",
        "      <td> 0.941511</td>\n",
        "    </tr>\n",
        "    <tr>\n",
        "      <th>173</th>\n",
        "      <td> 877</td>\n",
        "      <td> 0.943000</td>\n",
        "    </tr>\n",
        "    <tr>\n",
        "      <th>174</th>\n",
        "      <td> 885</td>\n",
        "      <td> 0.946943</td>\n",
        "    </tr>\n",
        "    <tr>\n",
        "      <th>175</th>\n",
        "      <td> 888</td>\n",
        "      <td> 0.948413</td>\n",
        "    </tr>\n",
        "    <tr>\n",
        "      <th>176</th>\n",
        "      <td> 888</td>\n",
        "      <td> 0.948413</td>\n",
        "    </tr>\n",
        "    <tr>\n",
        "      <th>177</th>\n",
        "      <td> 888</td>\n",
        "      <td> 0.948413</td>\n",
        "    </tr>\n",
        "    <tr>\n",
        "      <th>178</th>\n",
        "      <td> 903</td>\n",
        "      <td> 0.955688</td>\n",
        "    </tr>\n",
        "    <tr>\n",
        "      <th>179</th>\n",
        "      <td> 906</td>\n",
        "      <td> 0.957128</td>\n",
        "    </tr>\n",
        "    <tr>\n",
        "      <th>180</th>\n",
        "      <td> 908</td>\n",
        "      <td> 0.958086</td>\n",
        "    </tr>\n",
        "    <tr>\n",
        "      <th>181</th>\n",
        "      <td> 916</td>\n",
        "      <td> 0.961895</td>\n",
        "    </tr>\n",
        "    <tr>\n",
        "      <th>182</th>\n",
        "      <td> 920</td>\n",
        "      <td> 0.963788</td>\n",
        "    </tr>\n",
        "    <tr>\n",
        "      <th>183</th>\n",
        "      <td> 923</td>\n",
        "      <td> 0.965202</td>\n",
        "    </tr>\n",
        "    <tr>\n",
        "      <th>184</th>\n",
        "      <td> 924</td>\n",
        "      <td> 0.965672</td>\n",
        "    </tr>\n",
        "    <tr>\n",
        "      <th>185</th>\n",
        "      <td> 924</td>\n",
        "      <td> 0.965672</td>\n",
        "    </tr>\n",
        "    <tr>\n",
        "      <th>186</th>\n",
        "      <td> 928</td>\n",
        "      <td> 0.967548</td>\n",
        "    </tr>\n",
        "    <tr>\n",
        "      <th>187</th>\n",
        "      <td> 930</td>\n",
        "      <td> 0.968483</td>\n",
        "    </tr>\n",
        "    <tr>\n",
        "      <th>188</th>\n",
        "      <td> 951</td>\n",
        "      <td> 0.978181</td>\n",
        "    </tr>\n",
        "    <tr>\n",
        "      <th>189</th>\n",
        "      <td> 953</td>\n",
        "      <td> 0.979093</td>\n",
        "    </tr>\n",
        "    <tr>\n",
        "      <th>190</th>\n",
        "      <td> 956</td>\n",
        "      <td> 0.980458</td>\n",
        "    </tr>\n",
        "    <tr>\n",
        "      <th>191</th>\n",
        "      <td> 961</td>\n",
        "      <td> 0.982723</td>\n",
        "    </tr>\n",
        "    <tr>\n",
        "      <th>192</th>\n",
        "      <td> 963</td>\n",
        "      <td> 0.983626</td>\n",
        "    </tr>\n",
        "    <tr>\n",
        "      <th>193</th>\n",
        "      <td> 972</td>\n",
        "      <td> 0.987666</td>\n",
        "    </tr>\n",
        "    <tr>\n",
        "      <th>194</th>\n",
        "      <td> 978</td>\n",
        "      <td> 0.990339</td>\n",
        "    </tr>\n",
        "    <tr>\n",
        "      <th>195</th>\n",
        "      <td> 981</td>\n",
        "      <td> 0.991669</td>\n",
        "    </tr>\n",
        "    <tr>\n",
        "      <th>196</th>\n",
        "      <td> 981</td>\n",
        "      <td> 0.991669</td>\n",
        "    </tr>\n",
        "    <tr>\n",
        "      <th>197</th>\n",
        "      <td> 982</td>\n",
        "      <td> 0.992111</td>\n",
        "    </tr>\n",
        "    <tr>\n",
        "      <th>198</th>\n",
        "      <td> 982</td>\n",
        "      <td> 0.992111</td>\n",
        "    </tr>\n",
        "    <tr>\n",
        "      <th>199</th>\n",
        "      <td> 988</td>\n",
        "      <td> 0.994757</td>\n",
        "    </tr>\n",
        "  </tbody>\n",
        "</table>\n",
        "<p>200 rows \u00d7 2 columns</p>\n",
        "</div>"
       ],
       "metadata": {},
       "output_type": "pyout",
       "prompt_number": 14,
       "text": [
        "     numbers  mantissas\n",
        "0          3   0.477121\n",
        "1          5   0.698970\n",
        "2          6   0.778151\n",
        "3         15   0.176091\n",
        "4         15   0.176091\n",
        "5         16   0.204120\n",
        "6         18   0.255273\n",
        "7         21   0.322219\n",
        "8         47   0.672098\n",
        "9         48   0.681241\n",
        "10        58   0.763428\n",
        "11        60   0.778151\n",
        "12        65   0.812913\n",
        "13        67   0.826075\n",
        "14        67   0.826075\n",
        "15        71   0.851258\n",
        "16        71   0.851258\n",
        "17        73   0.863323\n",
        "18        98   0.991226\n",
        "19       102   0.008600\n",
        "20       103   0.012837\n",
        "21       107   0.029384\n",
        "22       107   0.029384\n",
        "23       108   0.033424\n",
        "24       112   0.049218\n",
        "25       112   0.049218\n",
        "26       119   0.075547\n",
        "27       126   0.100371\n",
        "28       135   0.130334\n",
        "29       135   0.130334\n",
        "..       ...        ...\n",
        "170      866   0.937518\n",
        "171      869   0.939020\n",
        "172      874   0.941511\n",
        "173      877   0.943000\n",
        "174      885   0.946943\n",
        "175      888   0.948413\n",
        "176      888   0.948413\n",
        "177      888   0.948413\n",
        "178      903   0.955688\n",
        "179      906   0.957128\n",
        "180      908   0.958086\n",
        "181      916   0.961895\n",
        "182      920   0.963788\n",
        "183      923   0.965202\n",
        "184      924   0.965672\n",
        "185      924   0.965672\n",
        "186      928   0.967548\n",
        "187      930   0.968483\n",
        "188      951   0.978181\n",
        "189      953   0.979093\n",
        "190      956   0.980458\n",
        "191      961   0.982723\n",
        "192      963   0.983626\n",
        "193      972   0.987666\n",
        "194      978   0.990339\n",
        "195      981   0.991669\n",
        "196      981   0.991669\n",
        "197      982   0.992111\n",
        "198      982   0.992111\n",
        "199      988   0.994757\n",
        "\n",
        "[200 rows x 2 columns]"
       ]
      }
     ],
     "prompt_number": 14
    },
    {
     "cell_type": "code",
     "collapsed": false,
     "input": [
      "plt.plot(tt.numbers, tt.mantissas)"
     ],
     "language": "python",
     "metadata": {},
     "outputs": [
      {
       "metadata": {},
       "output_type": "pyout",
       "prompt_number": 15,
       "text": [
        "[<matplotlib.lines.Line2D at 0x7f58a4213210>]"
       ]
      },
      {
       "metadata": {},
       "output_type": "display_data",
       "png": "[encoded data removed]",
       "text": [
        "<matplotlib.figure.Figure at 0x7f58a42c5290>"
       ]
      }
     ],
     "prompt_number": 15
    },
    {
     "cell_type": "code",
     "collapsed": false,
     "input": [
      "plt.plot(np.arange(len(tt)), tt.mantissas)"
     ],
     "language": "python",
     "metadata": {},
     "outputs": [
      {
       "metadata": {},
       "output_type": "pyout",
       "prompt_number": 16,
       "text": [
        "[<matplotlib.lines.Line2D at 0x7f58a41c2050>]"
       ]
      },
      {
       "metadata": {},
       "output_type": "display_data",
       "png": "[encoded data removed]",
       "text": [
        "<matplotlib.figure.Figure at 0x7f58a430d450>"
       ]
      }
     ],
     "prompt_number": 16
    },
    {
     "cell_type": "code",
     "collapsed": false,
     "input": [
      "tt['m2'] = _get_mantissas_(tt.numbers)\n",
      "sum(tt.mantissas!=tt.m2)"
     ],
     "language": "python",
     "metadata": {},
     "outputs": [
      {
       "metadata": {},
       "output_type": "pyout",
       "prompt_number": 17,
       "text": [
        "0"
       ]
      }
     ],
     "prompt_number": 17
    },
    {
     "cell_type": "code",
     "collapsed": false,
     "input": [
      "tt['ms']=tt.m2.cumsum()\n",
      "plt.plot(np.arange(len(tt.ms)), tt.ms)"
     ],
     "language": "python",
     "metadata": {},
     "outputs": [
      {
       "metadata": {},
       "output_type": "pyout",
       "prompt_number": 29,
       "text": [
        "[<matplotlib.lines.Line2D at 0x7f58a3b27410>]"
       ]
      },
      {
       "metadata": {},
       "output_type": "display_data",
       "png": "[encoded data removed]",
       "text": [
        "<matplotlib.figure.Figure at 0x7f58a3e06e10>"
       ]
      }
     ],
     "prompt_number": 29
    },
    {
     "cell_type": "code",
     "collapsed": false,
     "input": [
      "h = 9.234\n",
      "h*=100\n",
      "str(h)[:2]"
     ],
     "language": "python",
     "metadata": {},
     "outputs": [
      {
       "metadata": {},
       "output_type": "pyout",
       "prompt_number": 19,
       "text": [
        "'92'"
       ]
      }
     ],
     "prompt_number": 19
    },
    {
     "cell_type": "code",
     "collapsed": false,
     "input": [
      "len(str((1/m[3]).astype(int)))"
     ],
     "language": "python",
     "metadata": {},
     "outputs": [
      {
       "metadata": {},
       "output_type": "pyout",
       "prompt_number": 20,
       "text": [
        "2"
       ]
      }
     ],
     "prompt_number": 20
    },
    {
     "cell_type": "code",
     "collapsed": false,
     "input": [
      "eb = np.arange(10,100).reshape(90,1)\n",
      "eb = eb.astype(str)\n",
      "eb[:,0]"
     ],
     "language": "python",
     "metadata": {},
     "outputs": [
      {
       "metadata": {},
       "output_type": "pyout",
       "prompt_number": 21,
       "text": [
        "array(['10', '11', '12', '13', '14', '15', '16', '17', '18', '19', '20',\n",
        "       '21', '22', '23', '24', '25', '26', '27', '28', '29', '30', '31',\n",
        "       '32', '33', '34', '35', '36', '37', '38', '39', '40', '41', '42',\n",
        "       '43', '44', '45', '46', '47', '48', '49', '50', '51', '52', '53',\n",
        "       '54', '55', '56', '57', '58', '59', '60', '61', '62', '63', '64',\n",
        "       '65', '66', '67', '68', '69', '70', '71', '72', '73', '74', '75',\n",
        "       '76', '77', '78', '79', '80', '81', '82', '83', '84', '85', '86',\n",
        "       '87', '88', '89', '90', '91', '92', '93', '94', '95', '96', '97',\n",
        "       '98', '99'], \n",
        "      dtype='|S21')"
       ]
      }
     ],
     "prompt_number": 21
    },
    {
     "cell_type": "code",
     "collapsed": false,
     "input": [
      "eb = np.arange(10,100)\n",
      "eb = eb.astype(str)\n",
      "f = np.array([l[0] for l in eb]).reshape(90,1)\n",
      "s = np.array([l[1] for l in eb]).reshape(90,1)\n",
      "eb = np.hstack((f,s)).astype(int)\n",
      "eb[:,0]"
     ],
     "language": "python",
     "metadata": {},
     "outputs": [
      {
       "metadata": {},
       "output_type": "pyout",
       "prompt_number": 22,
       "text": [
        "array([1, 1, 1, 1, 1, 1, 1, 1, 1, 1, 2, 2, 2, 2, 2, 2, 2, 2, 2, 2, 3, 3, 3,\n",
        "       3, 3, 3, 3, 3, 3, 3, 4, 4, 4, 4, 4, 4, 4, 4, 4, 4, 5, 5, 5, 5, 5, 5,\n",
        "       5, 5, 5, 5, 6, 6, 6, 6, 6, 6, 6, 6, 6, 6, 7, 7, 7, 7, 7, 7, 7, 7, 7,\n",
        "       7, 8, 8, 8, 8, 8, 8, 8, 8, 8, 8, 9, 9, 9, 9, 9, 9, 9, 9, 9, 9])"
       ]
      }
     ],
     "prompt_number": 22
    },
    {
     "cell_type": "code",
     "collapsed": false,
     "input": [
      "e2 = np.arange(10,100)\n",
      "p = np.log10(1+(1./e2))\n",
      "plt.bar(e2,p)"
     ],
     "language": "python",
     "metadata": {},
     "outputs": [
      {
       "metadata": {},
       "output_type": "pyout",
       "prompt_number": 23,
       "text": [
        "<Container object of 90 artists>"
       ]
      },
      {
       "metadata": {},
       "output_type": "display_data",
       "png": "[encoded data removed]",
       "text": [
        "<matplotlib.figure.Figure at 0x7f58a410e750>"
       ]
      }
     ],
     "prompt_number": 23
    },
    {
     "cell_type": "code",
     "collapsed": false,
     "input": [
      "e3 = e2.astype(str)\n",
      "s = np.array([l[1] for l in e3]).astype(int)\n",
      "p[s == 0].sum()"
     ],
     "language": "python",
     "metadata": {},
     "outputs": [
      {
       "metadata": {},
       "output_type": "pyout",
       "prompt_number": 24,
       "text": [
        "0.11967926859688073"
       ]
      }
     ],
     "prompt_number": 24
    },
    {
     "cell_type": "code",
     "collapsed": false,
     "input": [
      "def __first__(output_DF=True):\n",
      "\t'''\n",
      "\tReturns the expected probabilities of the first digits\n",
      "\taccording to Benford's distribution.\n",
      "\t\n",
      "\t- output_DF: Defaluts to True, outputing a pandas DataFrame\n",
      "\t\t\t\twith the probabilities, and the respective\n",
      "\t\t\t\tdigits as the index, or a numpy array if False, when\n",
      "\t\t\t\tthere will not be an index, and one must remember\n",
      "\t\t\t\tthat the indexing for the 1 probability will be \n",
      "\t\t\t\t[0], [1] for the two, and so on up untill [8] for\n",
      "\t\t\t\tthe probability of the first digit 9.\n",
      "\t'''\n",
      "\tFirst_Dig = np.arange(1,10)\n",
      "\tExpected = np.log10(1 + (1. / First_Dig))\n",
      "\tif output_DF == False:\n",
      "\t\treturn Expected\n",
      "\telse:\n",
      "\t\treturn pd.DataFrame({'Expected':Expected,\\\n",
      "\t\t\t'First_Dig':First_Dig}).set_index('First_Dig')"
     ],
     "language": "python",
     "metadata": {},
     "outputs": [],
     "prompt_number": 25
    },
    {
     "cell_type": "code",
     "collapsed": false,
     "input": [
      "np.array(range(10)*10)"
     ],
     "language": "python",
     "metadata": {},
     "outputs": [
      {
       "metadata": {},
       "output_type": "pyout",
       "prompt_number": 26,
       "text": [
        "array([0, 1, 2, 3, 4, 5, 6, 7, 8, 9, 0, 1, 2, 3, 4, 5, 6, 7, 8, 9, 0, 1, 2,\n",
        "       3, 4, 5, 6, 7, 8, 9, 0, 1, 2, 3, 4, 5, 6, 7, 8, 9, 0, 1, 2, 3, 4, 5,\n",
        "       6, 7, 8, 9, 0, 1, 2, 3, 4, 5, 6, 7, 8, 9, 0, 1, 2, 3, 4, 5, 6, 7, 8,\n",
        "       9, 0, 1, 2, 3, 4, 5, 6, 7, 8, 9, 0, 1, 2, 3, 4, 5, 6, 7, 8, 9, 0, 1,\n",
        "       2, 3, 4, 5, 6, 7, 8, 9])"
       ]
      }
     ],
     "prompt_number": 26
    },
    {
     "cell_type": "code",
     "collapsed": false,
     "input": [
      "__first__()"
     ],
     "language": "python",
     "metadata": {},
     "outputs": [
      {
       "html": [
        "<div style=\"max-height:1000px;max-width:1500px;overflow:auto;\">\n",
        "<table border=\"1\" class=\"dataframe\">\n",
        "  <thead>\n",
        "    <tr style=\"text-align: right;\">\n",
        "      <th></th>\n",
        "      <th>Expected</th>\n",
        "    </tr>\n",
        "    <tr>\n",
        "      <th>First_Dig</th>\n",
        "      <th></th>\n",
        "    </tr>\n",
        "  </thead>\n",
        "  <tbody>\n",
        "    <tr>\n",
        "      <th>1</th>\n",
        "      <td> 0.301030</td>\n",
        "    </tr>\n",
        "    <tr>\n",
        "      <th>2</th>\n",
        "      <td> 0.176091</td>\n",
        "    </tr>\n",
        "    <tr>\n",
        "      <th>3</th>\n",
        "      <td> 0.124939</td>\n",
        "    </tr>\n",
        "    <tr>\n",
        "      <th>4</th>\n",
        "      <td> 0.096910</td>\n",
        "    </tr>\n",
        "    <tr>\n",
        "      <th>5</th>\n",
        "      <td> 0.079181</td>\n",
        "    </tr>\n",
        "    <tr>\n",
        "      <th>6</th>\n",
        "      <td> 0.066947</td>\n",
        "    </tr>\n",
        "    <tr>\n",
        "      <th>7</th>\n",
        "      <td> 0.057992</td>\n",
        "    </tr>\n",
        "    <tr>\n",
        "      <th>8</th>\n",
        "      <td> 0.051153</td>\n",
        "    </tr>\n",
        "    <tr>\n",
        "      <th>9</th>\n",
        "      <td> 0.045757</td>\n",
        "    </tr>\n",
        "  </tbody>\n",
        "</table>\n",
        "</div>"
       ],
       "metadata": {},
       "output_type": "pyout",
       "prompt_number": 27,
       "text": [
        "           Expected\n",
        "First_Dig          \n",
        "1          0.301030\n",
        "2          0.176091\n",
        "3          0.124939\n",
        "4          0.096910\n",
        "5          0.079181\n",
        "6          0.066947\n",
        "7          0.057992\n",
        "8          0.051153\n",
        "9          0.045757"
       ]
      }
     ],
     "prompt_number": 27
    },
    {
     "cell_type": "code",
     "collapsed": false,
     "input": [
      "a6 = np.arange(1,10)\n",
      "plt.bar(a6,__first__().Expected)"
     ],
     "language": "python",
     "metadata": {},
     "outputs": [
      {
       "metadata": {},
       "output_type": "pyout",
       "prompt_number": 31,
       "text": [
        "<Container object of 9 artists>"
       ]
      },
      {
       "metadata": {},
       "output_type": "display_data",
       "png": "[encoded data removed]",
       "text": [
        "<matplotlib.figure.Figure at 0x7f58a39f8d90>"
       ]
      }
     ],
     "prompt_number": 31
    },
    {
     "cell_type": "code",
     "collapsed": false,
     "input": [
      "def __second__(output_DF=True):\n",
      "\t'''\n",
      "\tReturns the expected probabilities of the second digits\n",
      "\taccording to Benford's distribution.\n",
      "\t\n",
      "\toutput_DF: Defaluts to Ture, Outputing a pandas DataFrame\n",
      "\t\t\twith the digit as index and the respective probability\n",
      "\t\t\tin the 'prob' column, or a numpy array if False. In\n",
      "\t\t\tthis case, coincidently the indexing within the array\n",
      "\t\t\twill match the second digits -> [0] - prob. of 0,\n",
      "\t\t\t[1] - prob of 1, and sort\ton up untill [9] - prob of 9.\n",
      "\t'''\n",
      "\ta = np.arange(10,100)\n",
      "\tExpected = np.log10(1 + (1. / a))\n",
      "\tSec_Dig = np.array(range(10)*9)\n",
      "\tif output_DF == False:\n",
      "\t\tc = np.zeros(10)\n",
      "\t\tfor n in Sec_Dig:\n",
      "\t\t\tc[n] = Expected[Sec_Dig == n].sum()\n",
      "\t\treturn c\n",
      "\telse:\n",
      "\t\td = pd.DataFrame({'Expected': Expected, 'Sec_Dig': Sec_Dig},\\\n",
      "\t\tindex = a)\n",
      "\t\treturn d.groupby('Sec_Dig').agg(sum)"
     ],
     "language": "python",
     "metadata": {},
     "outputs": [],
     "prompt_number": 32
    },
    {
     "cell_type": "code",
     "collapsed": false,
     "input": [
      "__second__()"
     ],
     "language": "python",
     "metadata": {},
     "outputs": [
      {
       "html": [
        "<div style=\"max-height:1000px;max-width:1500px;overflow:auto;\">\n",
        "<table border=\"1\" class=\"dataframe\">\n",
        "  <thead>\n",
        "    <tr style=\"text-align: right;\">\n",
        "      <th></th>\n",
        "      <th>Expected</th>\n",
        "    </tr>\n",
        "    <tr>\n",
        "      <th>Sec_Dig</th>\n",
        "      <th></th>\n",
        "    </tr>\n",
        "  </thead>\n",
        "  <tbody>\n",
        "    <tr>\n",
        "      <th>0</th>\n",
        "      <td> 0.119679</td>\n",
        "    </tr>\n",
        "    <tr>\n",
        "      <th>1</th>\n",
        "      <td> 0.113890</td>\n",
        "    </tr>\n",
        "    <tr>\n",
        "      <th>2</th>\n",
        "      <td> 0.108821</td>\n",
        "    </tr>\n",
        "    <tr>\n",
        "      <th>3</th>\n",
        "      <td> 0.104330</td>\n",
        "    </tr>\n",
        "    <tr>\n",
        "      <th>4</th>\n",
        "      <td> 0.100308</td>\n",
        "    </tr>\n",
        "    <tr>\n",
        "      <th>5</th>\n",
        "      <td> 0.096677</td>\n",
        "    </tr>\n",
        "    <tr>\n",
        "      <th>6</th>\n",
        "      <td> 0.093375</td>\n",
        "    </tr>\n",
        "    <tr>\n",
        "      <th>7</th>\n",
        "      <td> 0.090352</td>\n",
        "    </tr>\n",
        "    <tr>\n",
        "      <th>8</th>\n",
        "      <td> 0.087570</td>\n",
        "    </tr>\n",
        "    <tr>\n",
        "      <th>9</th>\n",
        "      <td> 0.084997</td>\n",
        "    </tr>\n",
        "  </tbody>\n",
        "</table>\n",
        "</div>"
       ],
       "metadata": {},
       "output_type": "pyout",
       "prompt_number": 33,
       "text": [
        "         Expected\n",
        "Sec_Dig          \n",
        "0        0.119679\n",
        "1        0.113890\n",
        "2        0.108821\n",
        "3        0.104330\n",
        "4        0.100308\n",
        "5        0.096677\n",
        "6        0.093375\n",
        "7        0.090352\n",
        "8        0.087570\n",
        "9        0.084997"
       ]
      }
     ],
     "prompt_number": 33
    },
    {
     "cell_type": "code",
     "collapsed": false,
     "input": [
      "a5 = np.arange(0,10)\n",
      "plt.plot(a5, __second__().Expected)\n",
      "plt.ylim((0,.15))"
     ],
     "language": "python",
     "metadata": {},
     "outputs": [
      {
       "metadata": {},
       "output_type": "pyout",
       "prompt_number": 37,
       "text": [
        "(0, 0.15)"
       ]
      },
      {
       "metadata": {},
       "output_type": "display_data",
       "png": "[encoded data removed]",
       "text": [
        "<matplotlib.figure.Figure at 0x7f58a3870790>"
       ]
      }
     ],
     "prompt_number": 37
    },
    {
     "cell_type": "code",
     "collapsed": false,
     "input": [
      "g =__first__()\n",
      "g"
     ],
     "language": "python",
     "metadata": {},
     "outputs": [
      {
       "html": [
        "<div style=\"max-height:1000px;max-width:1500px;overflow:auto;\">\n",
        "<table border=\"1\" class=\"dataframe\">\n",
        "  <thead>\n",
        "    <tr style=\"text-align: right;\">\n",
        "      <th></th>\n",
        "      <th>Expected</th>\n",
        "    </tr>\n",
        "    <tr>\n",
        "      <th>First_Dig</th>\n",
        "      <th></th>\n",
        "    </tr>\n",
        "  </thead>\n",
        "  <tbody>\n",
        "    <tr>\n",
        "      <th>1</th>\n",
        "      <td> 0.301030</td>\n",
        "    </tr>\n",
        "    <tr>\n",
        "      <th>2</th>\n",
        "      <td> 0.176091</td>\n",
        "    </tr>\n",
        "    <tr>\n",
        "      <th>3</th>\n",
        "      <td> 0.124939</td>\n",
        "    </tr>\n",
        "    <tr>\n",
        "      <th>4</th>\n",
        "      <td> 0.096910</td>\n",
        "    </tr>\n",
        "    <tr>\n",
        "      <th>5</th>\n",
        "      <td> 0.079181</td>\n",
        "    </tr>\n",
        "    <tr>\n",
        "      <th>6</th>\n",
        "      <td> 0.066947</td>\n",
        "    </tr>\n",
        "    <tr>\n",
        "      <th>7</th>\n",
        "      <td> 0.057992</td>\n",
        "    </tr>\n",
        "    <tr>\n",
        "      <th>8</th>\n",
        "      <td> 0.051153</td>\n",
        "    </tr>\n",
        "    <tr>\n",
        "      <th>9</th>\n",
        "      <td> 0.045757</td>\n",
        "    </tr>\n",
        "  </tbody>\n",
        "</table>\n",
        "</div>"
       ],
       "metadata": {},
       "output_type": "pyout",
       "prompt_number": 38,
       "text": [
        "           Expected\n",
        "First_Dig          \n",
        "1          0.301030\n",
        "2          0.176091\n",
        "3          0.124939\n",
        "4          0.096910\n",
        "5          0.079181\n",
        "6          0.066947\n",
        "7          0.057992\n",
        "8          0.051153\n",
        "9          0.045757"
       ]
      }
     ],
     "prompt_number": 38
    },
    {
     "cell_type": "code",
     "collapsed": false,
     "input": [
      "__second__()"
     ],
     "language": "python",
     "metadata": {},
     "outputs": [
      {
       "html": [
        "<div style=\"max-height:1000px;max-width:1500px;overflow:auto;\">\n",
        "<table border=\"1\" class=\"dataframe\">\n",
        "  <thead>\n",
        "    <tr style=\"text-align: right;\">\n",
        "      <th></th>\n",
        "      <th>Expected</th>\n",
        "    </tr>\n",
        "    <tr>\n",
        "      <th>Sec_Dig</th>\n",
        "      <th></th>\n",
        "    </tr>\n",
        "  </thead>\n",
        "  <tbody>\n",
        "    <tr>\n",
        "      <th>0</th>\n",
        "      <td> 0.119679</td>\n",
        "    </tr>\n",
        "    <tr>\n",
        "      <th>1</th>\n",
        "      <td> 0.113890</td>\n",
        "    </tr>\n",
        "    <tr>\n",
        "      <th>2</th>\n",
        "      <td> 0.108821</td>\n",
        "    </tr>\n",
        "    <tr>\n",
        "      <th>3</th>\n",
        "      <td> 0.104330</td>\n",
        "    </tr>\n",
        "    <tr>\n",
        "      <th>4</th>\n",
        "      <td> 0.100308</td>\n",
        "    </tr>\n",
        "    <tr>\n",
        "      <th>5</th>\n",
        "      <td> 0.096677</td>\n",
        "    </tr>\n",
        "    <tr>\n",
        "      <th>6</th>\n",
        "      <td> 0.093375</td>\n",
        "    </tr>\n",
        "    <tr>\n",
        "      <th>7</th>\n",
        "      <td> 0.090352</td>\n",
        "    </tr>\n",
        "    <tr>\n",
        "      <th>8</th>\n",
        "      <td> 0.087570</td>\n",
        "    </tr>\n",
        "    <tr>\n",
        "      <th>9</th>\n",
        "      <td> 0.084997</td>\n",
        "    </tr>\n",
        "  </tbody>\n",
        "</table>\n",
        "</div>"
       ],
       "metadata": {},
       "output_type": "pyout",
       "prompt_number": 39,
       "text": [
        "         Expected\n",
        "Sec_Dig          \n",
        "0        0.119679\n",
        "1        0.113890\n",
        "2        0.108821\n",
        "3        0.104330\n",
        "4        0.100308\n",
        "5        0.096677\n",
        "6        0.093375\n",
        "7        0.090352\n",
        "8        0.087570\n",
        "9        0.084997"
       ]
      }
     ],
     "prompt_number": 39
    },
    {
     "cell_type": "code",
     "collapsed": false,
     "input": [
      "def __firstTwo__(output_DF=True):\n",
      "\t'''\n",
      "\tReturns the expected probabilities of the first two digits\n",
      "\taccording to Benford's distribution.\n",
      "\t\n",
      "\t- output_DF: Defaluts to Ture, Outputing a pandas DataFrame\n",
      "\t\t\t\tobject with the probabilities and the respective\n",
      "\t\t\t\tdigits as the index, or a numpy array if False, when\n",
      "\t\t\t\tthere will not be an index column, and one must\n",
      "\t\t\t\tremember that the indexing for the 10 probability\n",
      "\t\t\t\twill be [0], [1] for 11, and so on up untill [89] for\n",
      "\t\t\t\tthe probability of the first digit 99.\n",
      "\t'''\n",
      "\tFirst_2_Dig = np.arange(10,100)\n",
      "\tExpected = np.log10(1 + (1. / First_2_Dig))\n",
      "\tif output_DF == False:\n",
      "\t\treturn Expected\n",
      "\telse:\n",
      "\t\treturn pd.DataFrame({'First_2_Dig':First_2_Dig,\\\n",
      "\t\t\t'Expected':Expected}).set_index('First_2_Dig')"
     ],
     "language": "python",
     "metadata": {},
     "outputs": [],
     "prompt_number": 40
    },
    {
     "cell_type": "code",
     "collapsed": false,
     "input": [
      "__firstTwo__().head()"
     ],
     "language": "python",
     "metadata": {},
     "outputs": [
      {
       "html": [
        "<div style=\"max-height:1000px;max-width:1500px;overflow:auto;\">\n",
        "<table border=\"1\" class=\"dataframe\">\n",
        "  <thead>\n",
        "    <tr style=\"text-align: right;\">\n",
        "      <th></th>\n",
        "      <th>Expected</th>\n",
        "    </tr>\n",
        "    <tr>\n",
        "      <th>First_2_Dig</th>\n",
        "      <th></th>\n",
        "    </tr>\n",
        "  </thead>\n",
        "  <tbody>\n",
        "    <tr>\n",
        "      <th>10</th>\n",
        "      <td> 0.041393</td>\n",
        "    </tr>\n",
        "    <tr>\n",
        "      <th>11</th>\n",
        "      <td> 0.037789</td>\n",
        "    </tr>\n",
        "    <tr>\n",
        "      <th>12</th>\n",
        "      <td> 0.034762</td>\n",
        "    </tr>\n",
        "    <tr>\n",
        "      <th>13</th>\n",
        "      <td> 0.032185</td>\n",
        "    </tr>\n",
        "    <tr>\n",
        "      <th>14</th>\n",
        "      <td> 0.029963</td>\n",
        "    </tr>\n",
        "  </tbody>\n",
        "</table>\n",
        "</div>"
       ],
       "metadata": {},
       "output_type": "pyout",
       "prompt_number": 41,
       "text": [
        "             Expected\n",
        "First_2_Dig          \n",
        "10           0.041393\n",
        "11           0.037789\n",
        "12           0.034762\n",
        "13           0.032185\n",
        "14           0.029963"
       ]
      }
     ],
     "prompt_number": 41
    },
    {
     "cell_type": "code",
     "collapsed": false,
     "input": [
      "r = np.absolute(1000 * np.random.randn(1000))\n",
      "r[:10]"
     ],
     "language": "python",
     "metadata": {},
     "outputs": [
      {
       "metadata": {},
       "output_type": "pyout",
       "prompt_number": 42,
       "text": [
        "array([  826.66707998,  1167.90312793,   842.79297477,  1408.53805941,\n",
        "        1212.86972398,   395.7323845 ,   567.54007751,  1562.44818607,\n",
        "        1095.59079243,   196.21658201])"
       ]
      }
     ],
     "prompt_number": 42
    },
    {
     "cell_type": "code",
     "collapsed": false,
     "input": [
      "a = pd.Series(r)\n",
      "a.head()"
     ],
     "language": "python",
     "metadata": {},
     "outputs": [
      {
       "metadata": {},
       "output_type": "pyout",
       "prompt_number": 43,
       "text": [
        "0     826.667080\n",
        "1    1167.903128\n",
        "2     842.792975\n",
        "3    1408.538059\n",
        "4    1212.869724\n",
        "dtype: float64"
       ]
      }
     ],
     "prompt_number": 43
    },
    {
     "cell_type": "code",
     "collapsed": false,
     "input": [
      "a = a[a >= 10]\n",
      "a.head()"
     ],
     "language": "python",
     "metadata": {},
     "outputs": [
      {
       "metadata": {},
       "output_type": "pyout",
       "prompt_number": 44,
       "text": [
        "0     826.667080\n",
        "1    1167.903128\n",
        "2     842.792975\n",
        "3    1408.538059\n",
        "4    1212.869724\n",
        "dtype: float64"
       ]
      }
     ],
     "prompt_number": 44
    },
    {
     "cell_type": "code",
     "collapsed": false,
     "input": [
      "a = a.apply(str).apply(lambda x: x[:2]).apply(int)\n",
      "a.head()"
     ],
     "language": "python",
     "metadata": {},
     "outputs": [
      {
       "metadata": {},
       "output_type": "pyout",
       "prompt_number": 45,
       "text": [
        "0    82\n",
        "1    11\n",
        "2    84\n",
        "3    14\n",
        "4    12\n",
        "dtype: int64"
       ]
      }
     ],
     "prompt_number": 45
    },
    {
     "cell_type": "code",
     "collapsed": false,
     "input": [
      "v = a.value_counts()\n",
      "v.head()"
     ],
     "language": "python",
     "metadata": {},
     "outputs": [
      {
       "metadata": {},
       "output_type": "pyout",
       "prompt_number": 46,
       "text": [
        "10    61\n",
        "13    55\n",
        "12    51\n",
        "14    45\n",
        "11    42\n",
        "dtype: int64"
       ]
      }
     ],
     "prompt_number": 46
    },
    {
     "cell_type": "code",
     "collapsed": false,
     "input": [
      "p = a.value_counts(normalize=True)\n",
      "p.head()"
     ],
     "language": "python",
     "metadata": {},
     "outputs": [
      {
       "metadata": {},
       "output_type": "pyout",
       "prompt_number": 47,
       "text": [
        "10    0.061307\n",
        "13    0.055276\n",
        "12    0.051256\n",
        "14    0.045226\n",
        "11    0.042211\n",
        "dtype: float64"
       ]
      }
     ],
     "prompt_number": 47
    },
    {
     "cell_type": "code",
     "collapsed": false,
     "input": [
      "df = pd.DataFrame({'Counts': v, 'Found': p}).sort_index()\n",
      "df.head()"
     ],
     "language": "python",
     "metadata": {},
     "outputs": [
      {
       "html": [
        "<div style=\"max-height:1000px;max-width:1500px;overflow:auto;\">\n",
        "<table border=\"1\" class=\"dataframe\">\n",
        "  <thead>\n",
        "    <tr style=\"text-align: right;\">\n",
        "      <th></th>\n",
        "      <th>Counts</th>\n",
        "      <th>Found</th>\n",
        "    </tr>\n",
        "  </thead>\n",
        "  <tbody>\n",
        "    <tr>\n",
        "      <th>10</th>\n",
        "      <td> 61</td>\n",
        "      <td> 0.061307</td>\n",
        "    </tr>\n",
        "    <tr>\n",
        "      <th>11</th>\n",
        "      <td> 42</td>\n",
        "      <td> 0.042211</td>\n",
        "    </tr>\n",
        "    <tr>\n",
        "      <th>12</th>\n",
        "      <td> 51</td>\n",
        "      <td> 0.051256</td>\n",
        "    </tr>\n",
        "    <tr>\n",
        "      <th>13</th>\n",
        "      <td> 55</td>\n",
        "      <td> 0.055276</td>\n",
        "    </tr>\n",
        "    <tr>\n",
        "      <th>14</th>\n",
        "      <td> 45</td>\n",
        "      <td> 0.045226</td>\n",
        "    </tr>\n",
        "  </tbody>\n",
        "</table>\n",
        "</div>"
       ],
       "metadata": {},
       "output_type": "pyout",
       "prompt_number": 48,
       "text": [
        "    Counts     Found\n",
        "10      61  0.061307\n",
        "11      42  0.042211\n",
        "12      51  0.051256\n",
        "13      55  0.055276\n",
        "14      45  0.045226"
       ]
      }
     ],
     "prompt_number": 48
    },
    {
     "cell_type": "code",
     "collapsed": false,
     "input": [
      "len(df.index)"
     ],
     "language": "python",
     "metadata": {},
     "outputs": [
      {
       "metadata": {},
       "output_type": "pyout",
       "prompt_number": 58,
       "text": [
        "90"
       ]
      }
     ],
     "prompt_number": 58
    },
    {
     "cell_type": "code",
     "collapsed": false,
     "input": [
      "# if len(df.index<90):\n",
      "df2 = df.reindex(np.arange(10,100))\n"
     ],
     "language": "python",
     "metadata": {},
     "outputs": [],
     "prompt_number": 49
    },
    {
     "cell_type": "code",
     "collapsed": false,
     "input": [
      "df2.ix[df2.Counts.isnull()]"
     ],
     "language": "python",
     "metadata": {},
     "outputs": [
      {
       "html": [
        "<div style=\"max-height:1000px;max-width:1500px;overflow:auto;\">\n",
        "<table border=\"1\" class=\"dataframe\">\n",
        "  <thead>\n",
        "    <tr style=\"text-align: right;\">\n",
        "      <th></th>\n",
        "      <th>Counts</th>\n",
        "      <th>Found</th>\n",
        "    </tr>\n",
        "  </thead>\n",
        "  <tbody>\n",
        "  </tbody>\n",
        "</table>\n",
        "</div>"
       ],
       "metadata": {},
       "output_type": "pyout",
       "prompt_number": 50,
       "text": [
        "Empty DataFrame\n",
        "Columns: [Counts, Found]\n",
        "Index: []"
       ]
      }
     ],
     "prompt_number": 50
    },
    {
     "cell_type": "code",
     "collapsed": false,
     "input": [
      "df2 = df2.fillna(0)\n",
      "df2.ix[df2.Counts.isnull()]"
     ],
     "language": "python",
     "metadata": {},
     "outputs": [
      {
       "html": [
        "<div style=\"max-height:1000px;max-width:1500px;overflow:auto;\">\n",
        "<table border=\"1\" class=\"dataframe\">\n",
        "  <thead>\n",
        "    <tr style=\"text-align: right;\">\n",
        "      <th></th>\n",
        "      <th>Counts</th>\n",
        "      <th>Found</th>\n",
        "    </tr>\n",
        "  </thead>\n",
        "  <tbody>\n",
        "  </tbody>\n",
        "</table>\n",
        "</div>"
       ],
       "metadata": {},
       "output_type": "pyout",
       "prompt_number": 51,
       "text": [
        "Empty DataFrame\n",
        "Columns: [Counts, Found]\n",
        "Index: []"
       ]
      }
     ],
     "prompt_number": 51
    },
    {
     "cell_type": "code",
     "collapsed": false,
     "input": [
      "df2 = __firstTwo__().join(df2)\n",
      "df2.head()"
     ],
     "language": "python",
     "metadata": {},
     "outputs": [
      {
       "html": [
        "<div style=\"max-height:1000px;max-width:1500px;overflow:auto;\">\n",
        "<table border=\"1\" class=\"dataframe\">\n",
        "  <thead>\n",
        "    <tr style=\"text-align: right;\">\n",
        "      <th></th>\n",
        "      <th>Expected</th>\n",
        "      <th>Counts</th>\n",
        "      <th>Found</th>\n",
        "    </tr>\n",
        "    <tr>\n",
        "      <th>First_2_Dig</th>\n",
        "      <th></th>\n",
        "      <th></th>\n",
        "      <th></th>\n",
        "    </tr>\n",
        "  </thead>\n",
        "  <tbody>\n",
        "    <tr>\n",
        "      <th>10</th>\n",
        "      <td> 0.041393</td>\n",
        "      <td> 61</td>\n",
        "      <td> 0.061307</td>\n",
        "    </tr>\n",
        "    <tr>\n",
        "      <th>11</th>\n",
        "      <td> 0.037789</td>\n",
        "      <td> 42</td>\n",
        "      <td> 0.042211</td>\n",
        "    </tr>\n",
        "    <tr>\n",
        "      <th>12</th>\n",
        "      <td> 0.034762</td>\n",
        "      <td> 51</td>\n",
        "      <td> 0.051256</td>\n",
        "    </tr>\n",
        "    <tr>\n",
        "      <th>13</th>\n",
        "      <td> 0.032185</td>\n",
        "      <td> 55</td>\n",
        "      <td> 0.055276</td>\n",
        "    </tr>\n",
        "    <tr>\n",
        "      <th>14</th>\n",
        "      <td> 0.029963</td>\n",
        "      <td> 45</td>\n",
        "      <td> 0.045226</td>\n",
        "    </tr>\n",
        "  </tbody>\n",
        "</table>\n",
        "</div>"
       ],
       "metadata": {},
       "output_type": "pyout",
       "prompt_number": 52,
       "text": [
        "             Expected  Counts     Found\n",
        "First_2_Dig                            \n",
        "10           0.041393      61  0.061307\n",
        "11           0.037789      42  0.042211\n",
        "12           0.034762      51  0.051256\n",
        "13           0.032185      55  0.055276\n",
        "14           0.029963      45  0.045226"
       ]
      }
     ],
     "prompt_number": 52
    },
    {
     "cell_type": "code",
     "collapsed": false,
     "input": [
      "fig = plt.figure(figsize=(15,10))\n",
      "ax = fig.add_subplot(111)\n",
      "ax.plot(df2.index,df2.Expected, color='r',linewidth=2.5)\n",
      "ax.bar(df2.index, df2.Found)\n"
     ],
     "language": "python",
     "metadata": {},
     "outputs": [
      {
       "metadata": {},
       "output_type": "pyout",
       "prompt_number": 53,
       "text": [
        "<Container object of 90 artists>"
       ]
      },
      {
       "metadata": {},
       "output_type": "display_data",
       "png": "[encoded data removed]",
       "text": [
        "<matplotlib.figure.Figure at 0x7f58a3bc1710>"
       ]
      }
     ],
     "prompt_number": 53
    },
    {
     "cell_type": "code",
     "collapsed": false,
     "input": [
      "df2['AbsDif'] = np.absolute(df2.Found - df2.Expected)\n",
      "df2[30:40]"
     ],
     "language": "python",
     "metadata": {},
     "outputs": [
      {
       "html": [
        "<div style=\"max-height:1000px;max-width:1500px;overflow:auto;\">\n",
        "<table border=\"1\" class=\"dataframe\">\n",
        "  <thead>\n",
        "    <tr style=\"text-align: right;\">\n",
        "      <th></th>\n",
        "      <th>Expected</th>\n",
        "      <th>Counts</th>\n",
        "      <th>Found</th>\n",
        "      <th>AbsDif</th>\n",
        "    </tr>\n",
        "    <tr>\n",
        "      <th>First_2_Dig</th>\n",
        "      <th></th>\n",
        "      <th></th>\n",
        "      <th></th>\n",
        "      <th></th>\n",
        "    </tr>\n",
        "  </thead>\n",
        "  <tbody>\n",
        "    <tr>\n",
        "      <th>40</th>\n",
        "      <td> 0.010724</td>\n",
        "      <td> 14</td>\n",
        "      <td> 0.014070</td>\n",
        "      <td> 0.003346</td>\n",
        "    </tr>\n",
        "    <tr>\n",
        "      <th>41</th>\n",
        "      <td> 0.010465</td>\n",
        "      <td> 14</td>\n",
        "      <td> 0.014070</td>\n",
        "      <td> 0.003605</td>\n",
        "    </tr>\n",
        "    <tr>\n",
        "      <th>42</th>\n",
        "      <td> 0.010219</td>\n",
        "      <td>  8</td>\n",
        "      <td> 0.008040</td>\n",
        "      <td> 0.002179</td>\n",
        "    </tr>\n",
        "    <tr>\n",
        "      <th>43</th>\n",
        "      <td> 0.009984</td>\n",
        "      <td>  8</td>\n",
        "      <td> 0.008040</td>\n",
        "      <td> 0.001944</td>\n",
        "    </tr>\n",
        "    <tr>\n",
        "      <th>44</th>\n",
        "      <td> 0.009760</td>\n",
        "      <td>  8</td>\n",
        "      <td> 0.008040</td>\n",
        "      <td> 0.001720</td>\n",
        "    </tr>\n",
        "    <tr>\n",
        "      <th>45</th>\n",
        "      <td> 0.009545</td>\n",
        "      <td>  7</td>\n",
        "      <td> 0.007035</td>\n",
        "      <td> 0.002510</td>\n",
        "    </tr>\n",
        "    <tr>\n",
        "      <th>46</th>\n",
        "      <td> 0.009340</td>\n",
        "      <td> 12</td>\n",
        "      <td> 0.012060</td>\n",
        "      <td> 0.002720</td>\n",
        "    </tr>\n",
        "    <tr>\n",
        "      <th>47</th>\n",
        "      <td> 0.009143</td>\n",
        "      <td> 11</td>\n",
        "      <td> 0.011055</td>\n",
        "      <td> 0.001912</td>\n",
        "    </tr>\n",
        "    <tr>\n",
        "      <th>48</th>\n",
        "      <td> 0.008955</td>\n",
        "      <td>  5</td>\n",
        "      <td> 0.005025</td>\n",
        "      <td> 0.003930</td>\n",
        "    </tr>\n",
        "    <tr>\n",
        "      <th>49</th>\n",
        "      <td> 0.008774</td>\n",
        "      <td>  8</td>\n",
        "      <td> 0.008040</td>\n",
        "      <td> 0.000734</td>\n",
        "    </tr>\n",
        "  </tbody>\n",
        "</table>\n",
        "</div>"
       ],
       "metadata": {},
       "output_type": "pyout",
       "prompt_number": 54,
       "text": [
        "             Expected  Counts     Found    AbsDif\n",
        "First_2_Dig                                      \n",
        "40           0.010724      14  0.014070  0.003346\n",
        "41           0.010465      14  0.014070  0.003605\n",
        "42           0.010219       8  0.008040  0.002179\n",
        "43           0.009984       8  0.008040  0.001944\n",
        "44           0.009760       8  0.008040  0.001720\n",
        "45           0.009545       7  0.007035  0.002510\n",
        "46           0.009340      12  0.012060  0.002720\n",
        "47           0.009143      11  0.011055  0.001912\n",
        "48           0.008955       5  0.005025  0.003930\n",
        "49           0.008774       8  0.008040  0.000734"
       ]
      }
     ],
     "prompt_number": 54
    },
    {
     "cell_type": "code",
     "collapsed": false,
     "input": [
      "df2['Z'] = (df2.AbsDif - (1/2*len(r)))/(np.sqrt(df2.Expected*\\\n",
      "                                                (1-df2.Expected)/len(r)))\n",
      "df2.head()"
     ],
     "language": "python",
     "metadata": {},
     "outputs": [
      {
       "html": [
        "<div style=\"max-height:1000px;max-width:1500px;overflow:auto;\">\n",
        "<table border=\"1\" class=\"dataframe\">\n",
        "  <thead>\n",
        "    <tr style=\"text-align: right;\">\n",
        "      <th></th>\n",
        "      <th>Expected</th>\n",
        "      <th>Counts</th>\n",
        "      <th>Found</th>\n",
        "      <th>AbsDif</th>\n",
        "      <th>Z</th>\n",
        "    </tr>\n",
        "    <tr>\n",
        "      <th>First_2_Dig</th>\n",
        "      <th></th>\n",
        "      <th></th>\n",
        "      <th></th>\n",
        "      <th></th>\n",
        "      <th></th>\n",
        "    </tr>\n",
        "  </thead>\n",
        "  <tbody>\n",
        "    <tr>\n",
        "      <th>10</th>\n",
        "      <td> 0.041393</td>\n",
        "      <td> 61</td>\n",
        "      <td> 0.061307</td>\n",
        "      <td> 0.019914</td>\n",
        "      <td> 3.161353</td>\n",
        "    </tr>\n",
        "    <tr>\n",
        "      <th>11</th>\n",
        "      <td> 0.037789</td>\n",
        "      <td> 42</td>\n",
        "      <td> 0.042211</td>\n",
        "      <td> 0.004422</td>\n",
        "      <td> 0.733418</td>\n",
        "    </tr>\n",
        "    <tr>\n",
        "      <th>12</th>\n",
        "      <td> 0.034762</td>\n",
        "      <td> 51</td>\n",
        "      <td> 0.051256</td>\n",
        "      <td> 0.016494</td>\n",
        "      <td> 2.847478</td>\n",
        "    </tr>\n",
        "    <tr>\n",
        "      <th>13</th>\n",
        "      <td> 0.032185</td>\n",
        "      <td> 55</td>\n",
        "      <td> 0.055276</td>\n",
        "      <td> 0.023092</td>\n",
        "      <td> 4.137471</td>\n",
        "    </tr>\n",
        "    <tr>\n",
        "      <th>14</th>\n",
        "      <td> 0.029963</td>\n",
        "      <td> 45</td>\n",
        "      <td> 0.045226</td>\n",
        "      <td> 0.015263</td>\n",
        "      <td> 2.831059</td>\n",
        "    </tr>\n",
        "  </tbody>\n",
        "</table>\n",
        "</div>"
       ],
       "metadata": {},
       "output_type": "pyout",
       "prompt_number": 63,
       "text": [
        "             Expected  Counts     Found    AbsDif         Z\n",
        "First_2_Dig                                                \n",
        "10           0.041393      61  0.061307  0.019914  3.161353\n",
        "11           0.037789      42  0.042211  0.004422  0.733418\n",
        "12           0.034762      51  0.051256  0.016494  2.847478\n",
        "13           0.032185      55  0.055276  0.023092  4.137471\n",
        "14           0.029963      45  0.045226  0.015263  2.831059"
       ]
      }
     ],
     "prompt_number": 63
    },
    {
     "cell_type": "code",
     "collapsed": false,
     "input": [
      "df2.sort('Z',ascending=False)[df2.Z > 1.99]"
     ],
     "language": "python",
     "metadata": {},
     "outputs": [
      {
       "html": [
        "<div style=\"max-height:1000px;max-width:1500px;overflow:auto;\">\n",
        "<table border=\"1\" class=\"dataframe\">\n",
        "  <thead>\n",
        "    <tr style=\"text-align: right;\">\n",
        "      <th></th>\n",
        "      <th>Expected</th>\n",
        "      <th>Counts</th>\n",
        "      <th>Found</th>\n",
        "      <th>AbsDif</th>\n",
        "      <th>Z</th>\n",
        "    </tr>\n",
        "    <tr>\n",
        "      <th>First_2_Dig</th>\n",
        "      <th></th>\n",
        "      <th></th>\n",
        "      <th></th>\n",
        "      <th></th>\n",
        "      <th></th>\n",
        "    </tr>\n",
        "  </thead>\n",
        "  <tbody>\n",
        "    <tr>\n",
        "      <th>13</th>\n",
        "      <td> 0.032185</td>\n",
        "      <td> 55</td>\n",
        "      <td> 0.055276</td>\n",
        "      <td> 0.023092</td>\n",
        "      <td> 4.137471</td>\n",
        "    </tr>\n",
        "    <tr>\n",
        "      <th>10</th>\n",
        "      <td> 0.041393</td>\n",
        "      <td> 61</td>\n",
        "      <td> 0.061307</td>\n",
        "      <td> 0.019914</td>\n",
        "      <td> 3.161353</td>\n",
        "    </tr>\n",
        "    <tr>\n",
        "      <th>33</th>\n",
        "      <td> 0.012965</td>\n",
        "      <td>  2</td>\n",
        "      <td> 0.002010</td>\n",
        "      <td> 0.010955</td>\n",
        "      <td> 3.062368</td>\n",
        "    </tr>\n",
        "    <tr>\n",
        "      <th>12</th>\n",
        "      <td> 0.034762</td>\n",
        "      <td> 51</td>\n",
        "      <td> 0.051256</td>\n",
        "      <td> 0.016494</td>\n",
        "      <td> 2.847478</td>\n",
        "    </tr>\n",
        "    <tr>\n",
        "      <th>14</th>\n",
        "      <td> 0.029963</td>\n",
        "      <td> 45</td>\n",
        "      <td> 0.045226</td>\n",
        "      <td> 0.015263</td>\n",
        "      <td> 2.831059</td>\n",
        "    </tr>\n",
        "    <tr>\n",
        "      <th>62</th>\n",
        "      <td> 0.006949</td>\n",
        "      <td> 14</td>\n",
        "      <td> 0.014070</td>\n",
        "      <td> 0.007121</td>\n",
        "      <td> 2.710993</td>\n",
        "    </tr>\n",
        "    <tr>\n",
        "      <th>98</th>\n",
        "      <td> 0.004409</td>\n",
        "      <td> 10</td>\n",
        "      <td> 0.010050</td>\n",
        "      <td> 0.005641</td>\n",
        "      <td> 2.692464</td>\n",
        "    </tr>\n",
        "    <tr>\n",
        "      <th>76</th>\n",
        "      <td> 0.005677</td>\n",
        "      <td> 12</td>\n",
        "      <td> 0.012060</td>\n",
        "      <td> 0.006383</td>\n",
        "      <td> 2.686631</td>\n",
        "    </tr>\n",
        "    <tr>\n",
        "      <th>23</th>\n",
        "      <td> 0.018483</td>\n",
        "      <td>  8</td>\n",
        "      <td> 0.008040</td>\n",
        "      <td> 0.010443</td>\n",
        "      <td> 2.451850</td>\n",
        "    </tr>\n",
        "    <tr>\n",
        "      <th>89</th>\n",
        "      <td> 0.004853</td>\n",
        "      <td> 10</td>\n",
        "      <td> 0.010050</td>\n",
        "      <td> 0.005198</td>\n",
        "      <td> 2.365313</td>\n",
        "    </tr>\n",
        "    <tr>\n",
        "      <th>77</th>\n",
        "      <td> 0.005604</td>\n",
        "      <td> 11</td>\n",
        "      <td> 0.011055</td>\n",
        "      <td> 0.005451</td>\n",
        "      <td> 2.309319</td>\n",
        "    </tr>\n",
        "    <tr>\n",
        "      <th>25</th>\n",
        "      <td> 0.017033</td>\n",
        "      <td>  8</td>\n",
        "      <td> 0.008040</td>\n",
        "      <td> 0.008993</td>\n",
        "      <td> 2.197819</td>\n",
        "    </tr>\n",
        "  </tbody>\n",
        "</table>\n",
        "</div>"
       ],
       "metadata": {},
       "output_type": "pyout",
       "prompt_number": 72,
       "text": [
        "             Expected  Counts     Found    AbsDif         Z\n",
        "First_2_Dig                                                \n",
        "13           0.032185      55  0.055276  0.023092  4.137471\n",
        "10           0.041393      61  0.061307  0.019914  3.161353\n",
        "33           0.012965       2  0.002010  0.010955  3.062368\n",
        "12           0.034762      51  0.051256  0.016494  2.847478\n",
        "14           0.029963      45  0.045226  0.015263  2.831059\n",
        "62           0.006949      14  0.014070  0.007121  2.710993\n",
        "98           0.004409      10  0.010050  0.005641  2.692464\n",
        "76           0.005677      12  0.012060  0.006383  2.686631\n",
        "23           0.018483       8  0.008040  0.010443  2.451850\n",
        "89           0.004853      10  0.010050  0.005198  2.365313\n",
        "77           0.005604      11  0.011055  0.005451  2.309319\n",
        "25           0.017033       8  0.008040  0.008993  2.197819"
       ]
      }
     ],
     "prompt_number": 72
    },
    {
     "cell_type": "code",
     "collapsed": false,
     "input": [
      "mad = df2.AbsDif.mean()\n",
      "mad"
     ],
     "language": "python",
     "metadata": {},
     "outputs": [
      {
       "metadata": {},
       "output_type": "pyout",
       "prompt_number": 67,
       "text": [
        "0.0038324933215249483"
       ]
      }
     ],
     "prompt_number": 67
    },
    {
     "cell_type": "code",
     "collapsed": false,
     "input": [
      "q = (df2.AbsDif**2)\n",
      "q.mean()"
     ],
     "language": "python",
     "metadata": {},
     "outputs": [
      {
       "metadata": {},
       "output_type": "pyout",
       "prompt_number": 68,
       "text": [
        "3.0396457516731526e-05"
       ]
      }
     ],
     "prompt_number": 68
    },
    {
     "cell_type": "code",
     "collapsed": false,
     "input": [
      "def __MAD__(df):\n",
      "\ttry:\n",
      "\t\treturn df.AbsDif.mean()\n",
      "\texcept:\n",
      "\t\tdf['AbsDif'] = np.absolute(df.Found-df.Expected)\n",
      "\t\treturn df.AbsDif.mean()"
     ],
     "language": "python",
     "metadata": {},
     "outputs": [],
     "prompt_number": 74
    },
    {
     "cell_type": "code",
     "collapsed": false,
     "input": [
      "df3 = df2[['Expected','Counts','Found']]\n",
      "MAD = __MAD__(df3)\n",
      "MAD"
     ],
     "language": "python",
     "metadata": {},
     "outputs": [
      {
       "metadata": {},
       "output_type": "pyout",
       "prompt_number": 77,
       "text": [
        "0.0038324933215249483"
       ]
      }
     ],
     "prompt_number": 77
    }
   ],
   "metadata": {}
  }
 ]
}