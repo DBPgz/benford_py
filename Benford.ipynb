{
 "metadata": {
  "name": "",
  "signature": "sha256:62ecbbbf7b4481b0b2b11b2b46b47ad4914f730d32c7878f0de9861cf2532a31"
 },
 "nbformat": 3,
 "nbformat_minor": 0,
 "worksheets": [
  {
   "cells": [
    {
     "cell_type": "code",
     "collapsed": false,
     "input": [
      "import pandas as pd\n",
      "import numpy as np\n",
      "import matplotlib.pyplot as plt"
     ],
     "language": "python",
     "metadata": {},
     "outputs": [],
     "prompt_number": 1
    },
    {
     "cell_type": "code",
     "collapsed": false,
     "input": [
      "t = np.arange(10,1000,10)"
     ],
     "language": "python",
     "metadata": {},
     "outputs": [],
     "prompt_number": 2
    },
    {
     "cell_type": "code",
     "collapsed": false,
     "input": [
      "t[:10]"
     ],
     "language": "python",
     "metadata": {},
     "outputs": [
      {
       "metadata": {},
       "output_type": "pyout",
       "prompt_number": 3,
       "text": [
        "array([ 10,  20,  30,  40,  50,  60,  70,  80,  90, 100])"
       ]
      }
     ],
     "prompt_number": 3
    },
    {
     "cell_type": "heading",
     "level": 4,
     "metadata": {},
     "source": [
      "Getting the Mantissas"
     ]
    },
    {
     "cell_type": "code",
     "collapsed": false,
     "input": [
      "np.log10(t) - np.log10(t).astype(int)"
     ],
     "language": "python",
     "metadata": {},
     "outputs": [
      {
       "metadata": {},
       "output_type": "pyout",
       "prompt_number": 4,
       "text": [
        "array([ 0.        ,  0.30103   ,  0.47712125,  0.60205999,  0.69897   ,\n",
        "        0.77815125,  0.84509804,  0.90308999,  0.95424251,  0.        ,\n",
        "        0.04139269,  0.07918125,  0.11394335,  0.14612804,  0.17609126,\n",
        "        0.20411998,  0.23044892,  0.25527251,  0.2787536 ,  0.30103   ,\n",
        "        0.32221929,  0.34242268,  0.36172784,  0.38021124,  0.39794001,\n",
        "        0.41497335,  0.43136376,  0.44715803,  0.462398  ,  0.47712125,\n",
        "        0.49136169,  0.50514998,  0.51851394,  0.53147892,  0.54406804,\n",
        "        0.5563025 ,  0.56820172,  0.5797836 ,  0.59106461,  0.60205999,\n",
        "        0.61278386,  0.62324929,  0.63346846,  0.64345268,  0.65321251,\n",
        "        0.66275783,  0.67209786,  0.68124124,  0.69019608,  0.69897   ,\n",
        "        0.70757018,  0.71600334,  0.72427587,  0.73239376,  0.74036269,\n",
        "        0.74818803,  0.75587486,  0.76342799,  0.77085201,  0.77815125,\n",
        "        0.78532984,  0.79239169,  0.79934055,  0.80617997,  0.81291336,\n",
        "        0.81954394,  0.8260748 ,  0.83250891,  0.83884909,  0.84509804,\n",
        "        0.85125835,  0.8573325 ,  0.86332286,  0.86923172,  0.87506126,\n",
        "        0.88081359,  0.88649073,  0.8920946 ,  0.89762709,  0.90308999,\n",
        "        0.90848502,  0.91381385,  0.91907809,  0.92427929,  0.92941893,\n",
        "        0.93449845,  0.93951925,  0.94448267,  0.94939001,  0.95424251,\n",
        "        0.95904139,  0.96378783,  0.96848295,  0.97312785,  0.97772361,\n",
        "        0.98227123,  0.98677173,  0.99122608,  0.99563519])"
       ]
      }
     ],
     "prompt_number": 4
    },
    {
     "cell_type": "code",
     "collapsed": false,
     "input": [
      "g = np.random.randint(1000, size =200)\n",
      "g"
     ],
     "language": "python",
     "metadata": {},
     "outputs": [
      {
       "metadata": {},
       "output_type": "pyout",
       "prompt_number": 5,
       "text": [
        "array([209, 255,  51,  63, 958, 485, 625, 239, 501, 496, 239,  77, 910,\n",
        "       236, 690,  91, 720, 930,  40, 721, 670, 506, 504, 348, 432, 280,\n",
        "       510, 948, 807, 839, 954, 294, 552, 247, 917, 110, 772, 431,  54,\n",
        "       366, 805, 318, 479, 123, 338, 666, 313, 174, 694, 901, 812, 143,\n",
        "       137, 450, 619, 870, 117, 479,  12, 811, 666, 337, 673,  46, 989,\n",
        "       287, 704, 665, 118, 149, 241, 143, 442, 750, 969, 495, 400, 646,\n",
        "       205, 493,  42,  66,  65, 318, 397, 997, 270, 509, 945, 568, 371,\n",
        "       240, 587, 453, 150,  85, 451,  18, 696, 406, 701, 266, 803, 128,\n",
        "       846,   1, 748, 484, 536, 546, 649, 960, 596, 861, 310, 153,  53,\n",
        "       120, 304, 419, 777, 420, 407, 995,  69,  20, 921, 228, 682, 658,\n",
        "        89, 854, 574, 555, 684, 670,  14, 666, 112, 349,  52, 875, 656,\n",
        "       117, 415, 929, 142, 111, 866, 680, 538, 380, 965, 101, 242, 845,\n",
        "       390, 646, 800, 272, 676, 296,  87, 903, 640, 290, 180, 684,  82,\n",
        "       408, 920,  92, 454, 891,  95, 700, 977, 855, 641, 291, 696, 888,\n",
        "       215, 154, 132, 148, 806, 148, 132, 160, 712, 766, 721, 914, 934,\n",
        "       101, 815, 309, 759, 474])"
       ]
      }
     ],
     "prompt_number": 5
    },
    {
     "cell_type": "code",
     "collapsed": false,
     "input": [
      "m = np.log10(g) - np.log10(g).astype(int)\n",
      "m"
     ],
     "language": "python",
     "metadata": {},
     "outputs": [
      {
       "metadata": {},
       "output_type": "pyout",
       "prompt_number": 6,
       "text": [
        "array([ 0.32014629,  0.40654018,  0.70757018,  0.79934055,  0.98136551,\n",
        "        0.68574174,  0.79588002,  0.3783979 ,  0.69983773,  0.69548168,\n",
        "        0.3783979 ,  0.88649073,  0.95904139,  0.372912  ,  0.83884909,\n",
        "        0.95904139,  0.8573325 ,  0.96848295,  0.60205999,  0.85793526,\n",
        "        0.8260748 ,  0.70415052,  0.70243054,  0.54157924,  0.63548375,\n",
        "        0.44715803,  0.70757018,  0.97680834,  0.90687353,  0.92376196,\n",
        "        0.97954837,  0.46834733,  0.74193908,  0.39269695,  0.96236934,\n",
        "        0.04139269,  0.8876173 ,  0.63447727,  0.73239376,  0.56348109,\n",
        "        0.90579588,  0.50242712,  0.68033551,  0.08990511,  0.5289167 ,\n",
        "        0.82347423,  0.49554434,  0.24054925,  0.84135947,  0.95472479,\n",
        "        0.90955603,  0.15533604,  0.13672057,  0.65321251,  0.79169065,\n",
        "        0.93951925,  0.06818586,  0.68033551,  0.07918125,  0.90902085,\n",
        "        0.82347423,  0.5276299 ,  0.82801506,  0.66275783,  0.99519629,\n",
        "        0.4578819 ,  0.84757266,  0.82282165,  0.07188201,  0.17318627,\n",
        "        0.38201704,  0.15533604,  0.64542227,  0.87506126,  0.98632378,\n",
        "        0.6946052 ,  0.60205999,  0.81023252,  0.31175386,  0.69284692,\n",
        "        0.62324929,  0.81954394,  0.81291336,  0.50242712,  0.59879051,\n",
        "        0.99869516,  0.43136376,  0.70671778,  0.97543181,  0.75434834,\n",
        "        0.56937391,  0.38021124,  0.7686381 ,  0.6560982 ,  0.17609126,\n",
        "        0.92941893,  0.65417654,  0.25527251,  0.84260924,  0.60852603,\n",
        "        0.84571802,  0.42488164,  0.90471555,  0.10720997,  0.92737036,\n",
        "        0.        ,  0.8739016 ,  0.68484536,  0.72916479,  0.73719264,\n",
        "        0.8122447 ,  0.98227123,  0.77524626,  0.93500315,  0.49136169,\n",
        "        0.18469143,  0.72427587,  0.07918125,  0.48287358,  0.62221402,\n",
        "        0.89042102,  0.62324929,  0.60959441,  0.99782308,  0.83884909,\n",
        "        0.30103   ,  0.96425963,  0.35793485,  0.83378437,  0.81822589,\n",
        "        0.94939001,  0.93145787,  0.75891189,  0.74429298,  0.8350561 ,\n",
        "        0.8260748 ,  0.14612804,  0.82347423,  0.04921802,  0.54282543,\n",
        "        0.71600334,  0.94200805,  0.81690384,  0.06818586,  0.6180481 ,\n",
        "        0.96801571,  0.15228834,  0.04532298,  0.93751789,  0.83250891,\n",
        "        0.73078228,  0.5797836 ,  0.98452731,  0.00432137,  0.38381537,\n",
        "        0.92685671,  0.59106461,  0.81023252,  0.90308999,  0.4345689 ,\n",
        "        0.8299467 ,  0.47129171,  0.93951925,  0.95568775,  0.80617997,\n",
        "        0.462398  ,  0.25527251,  0.8350561 ,  0.91381385,  0.61066016,\n",
        "        0.96378783,  0.96378783,  0.65705585,  0.9498777 ,  0.97772361,\n",
        "        0.84509804,  0.98989456,  0.93196611,  0.80685803,  0.46389299,\n",
        "        0.84260924,  0.94841297,  0.33243846,  0.18752072,  0.12057393,\n",
        "        0.17026172,  0.90633504,  0.17026172,  0.12057393,  0.20411998,\n",
        "        0.85247999,  0.88422877,  0.85793526,  0.9609462 ,  0.97034688,\n",
        "        0.00432137,  0.91115761,  0.48995848,  0.88024178,  0.67577834])"
       ]
      }
     ],
     "prompt_number": 6
    },
    {
     "cell_type": "heading",
     "level": 4,
     "metadata": {},
     "source": [
      "Ordering the Mantissas and Plotting"
     ]
    },
    {
     "cell_type": "code",
     "collapsed": false,
     "input": [
      "m.sort()\n",
      "m"
     ],
     "language": "python",
     "metadata": {},
     "outputs": [
      {
       "metadata": {},
       "output_type": "pyout",
       "prompt_number": 7,
       "text": [
        "array([ 0.        ,  0.00432137,  0.00432137,  0.04139269,  0.04532298,\n",
        "        0.04921802,  0.06818586,  0.06818586,  0.07188201,  0.07918125,\n",
        "        0.07918125,  0.08990511,  0.10720997,  0.12057393,  0.12057393,\n",
        "        0.13672057,  0.14612804,  0.15228834,  0.15533604,  0.15533604,\n",
        "        0.17026172,  0.17026172,  0.17318627,  0.17609126,  0.18469143,\n",
        "        0.18752072,  0.20411998,  0.24054925,  0.25527251,  0.25527251,\n",
        "        0.30103   ,  0.31175386,  0.32014629,  0.33243846,  0.35793485,\n",
        "        0.372912  ,  0.3783979 ,  0.3783979 ,  0.38021124,  0.38201704,\n",
        "        0.38381537,  0.39269695,  0.40654018,  0.42488164,  0.43136376,\n",
        "        0.4345689 ,  0.44715803,  0.4578819 ,  0.462398  ,  0.46389299,\n",
        "        0.46834733,  0.47129171,  0.48287358,  0.48995848,  0.49136169,\n",
        "        0.49554434,  0.50242712,  0.50242712,  0.5276299 ,  0.5289167 ,\n",
        "        0.54157924,  0.54282543,  0.56348109,  0.56937391,  0.5797836 ,\n",
        "        0.59106461,  0.59879051,  0.60205999,  0.60205999,  0.60852603,\n",
        "        0.60959441,  0.61066016,  0.6180481 ,  0.62221402,  0.62324929,\n",
        "        0.62324929,  0.63447727,  0.63548375,  0.64542227,  0.65321251,\n",
        "        0.65417654,  0.6560982 ,  0.65705585,  0.66275783,  0.67577834,\n",
        "        0.68033551,  0.68033551,  0.68484536,  0.68574174,  0.69284692,\n",
        "        0.6946052 ,  0.69548168,  0.69983773,  0.70243054,  0.70415052,\n",
        "        0.70671778,  0.70757018,  0.70757018,  0.71600334,  0.72427587,\n",
        "        0.72916479,  0.73078228,  0.73239376,  0.73719264,  0.74193908,\n",
        "        0.74429298,  0.75434834,  0.75891189,  0.7686381 ,  0.77524626,\n",
        "        0.79169065,  0.79588002,  0.79934055,  0.80617997,  0.80685803,\n",
        "        0.81023252,  0.81023252,  0.8122447 ,  0.81291336,  0.81690384,\n",
        "        0.81822589,  0.81954394,  0.82282165,  0.82347423,  0.82347423,\n",
        "        0.82347423,  0.8260748 ,  0.8260748 ,  0.82801506,  0.8299467 ,\n",
        "        0.83250891,  0.83378437,  0.8350561 ,  0.8350561 ,  0.83884909,\n",
        "        0.83884909,  0.84135947,  0.84260924,  0.84260924,  0.84509804,\n",
        "        0.84571802,  0.84757266,  0.85247999,  0.8573325 ,  0.85793526,\n",
        "        0.85793526,  0.8739016 ,  0.87506126,  0.88024178,  0.88422877,\n",
        "        0.88649073,  0.8876173 ,  0.89042102,  0.90308999,  0.90471555,\n",
        "        0.90579588,  0.90633504,  0.90687353,  0.90902085,  0.90955603,\n",
        "        0.91115761,  0.91381385,  0.92376196,  0.92685671,  0.92737036,\n",
        "        0.92941893,  0.93145787,  0.93196611,  0.93500315,  0.93751789,\n",
        "        0.93951925,  0.93951925,  0.94200805,  0.94841297,  0.94939001,\n",
        "        0.9498777 ,  0.95472479,  0.95568775,  0.95904139,  0.95904139,\n",
        "        0.9609462 ,  0.96236934,  0.96378783,  0.96378783,  0.96425963,\n",
        "        0.96801571,  0.96848295,  0.97034688,  0.97543181,  0.97680834,\n",
        "        0.97772361,  0.97954837,  0.98136551,  0.98227123,  0.98452731,\n",
        "        0.98632378,  0.98989456,  0.99519629,  0.99782308,  0.99869516])"
       ]
      }
     ],
     "prompt_number": 7
    },
    {
     "cell_type": "code",
     "collapsed": false,
     "input": [
      "pylab inline"
     ],
     "language": "python",
     "metadata": {},
     "outputs": [
      {
       "output_type": "stream",
       "stream": "stdout",
       "text": [
        "Populating the interactive namespace from numpy and matplotlib\n"
       ]
      }
     ],
     "prompt_number": 8
    },
    {
     "cell_type": "code",
     "collapsed": false,
     "input": [
      "plt.plot(np.arange(len(m)), m)"
     ],
     "language": "python",
     "metadata": {},
     "outputs": [
      {
       "metadata": {},
       "output_type": "pyout",
       "prompt_number": 9,
       "text": [
        "[<matplotlib.lines.Line2D at 0x7ffc7c5e1450>]"
       ]
      },
      {
       "metadata": {},
       "output_type": "display_data",
       "png": "[encoded data removed]",
       "text": [
        "<matplotlib.figure.Figure at 0x7ffc7c6c3290>"
       ]
      }
     ],
     "prompt_number": 9
    },
    {
     "cell_type": "code",
     "collapsed": false,
     "input": [
      "g.sort()\n",
      "g"
     ],
     "language": "python",
     "metadata": {},
     "outputs": [
      {
       "metadata": {},
       "output_type": "pyout",
       "prompt_number": 10,
       "text": [
        "array([  1,  12,  14,  18,  20,  40,  42,  46,  51,  52,  53,  54,  63,\n",
        "        65,  66,  69,  77,  82,  85,  87,  89,  91,  92,  95, 101, 101,\n",
        "       110, 111, 112, 117, 117, 118, 120, 123, 128, 132, 132, 137, 142,\n",
        "       143, 143, 148, 148, 149, 150, 153, 154, 160, 174, 180, 205, 209,\n",
        "       215, 228, 236, 239, 239, 240, 241, 242, 247, 255, 266, 270, 272,\n",
        "       280, 287, 290, 291, 294, 296, 304, 309, 310, 313, 318, 318, 337,\n",
        "       338, 348, 349, 366, 371, 380, 390, 397, 400, 406, 407, 408, 415,\n",
        "       419, 420, 431, 432, 442, 450, 451, 453, 454, 474, 479, 479, 484,\n",
        "       485, 493, 495, 496, 501, 504, 506, 509, 510, 536, 538, 546, 552,\n",
        "       555, 568, 574, 587, 596, 619, 625, 640, 641, 646, 646, 649, 656,\n",
        "       658, 665, 666, 666, 666, 670, 670, 673, 676, 680, 682, 684, 684,\n",
        "       690, 694, 696, 696, 700, 701, 704, 712, 720, 721, 721, 748, 750,\n",
        "       759, 766, 772, 777, 800, 803, 805, 806, 807, 811, 812, 815, 839,\n",
        "       845, 846, 854, 855, 861, 866, 870, 875, 888, 891, 901, 903, 910,\n",
        "       914, 917, 920, 921, 929, 930, 934, 945, 948, 954, 958, 960, 965,\n",
        "       969, 977, 989, 995, 997])"
       ]
      }
     ],
     "prompt_number": 10
    },
    {
     "cell_type": "code",
     "collapsed": false,
     "input": [
      "plt.plot(g, m)\n",
      "plt.grid()"
     ],
     "language": "python",
     "metadata": {},
     "outputs": [
      {
       "metadata": {},
       "output_type": "display_data",
       "png": "[encoded data removed]",
       "text": [
        "<matplotlib.figure.Figure at 0x7ffc7c615850>"
       ]
      }
     ],
     "prompt_number": 11
    },
    {
     "cell_type": "code",
     "collapsed": false,
     "input": [
      "tt = pd.DataFrame(g, columns=['numbers'])\n",
      "tt.head()"
     ],
     "language": "python",
     "metadata": {},
     "outputs": [
      {
       "html": [
        "<div style=\"max-height:1000px;max-width:1500px;overflow:auto;\">\n",
        "<table border=\"1\" class=\"dataframe\">\n",
        "  <thead>\n",
        "    <tr style=\"text-align: right;\">\n",
        "      <th></th>\n",
        "      <th>numbers</th>\n",
        "    </tr>\n",
        "  </thead>\n",
        "  <tbody>\n",
        "    <tr>\n",
        "      <th>0</th>\n",
        "      <td>  1</td>\n",
        "    </tr>\n",
        "    <tr>\n",
        "      <th>1</th>\n",
        "      <td> 12</td>\n",
        "    </tr>\n",
        "    <tr>\n",
        "      <th>2</th>\n",
        "      <td> 14</td>\n",
        "    </tr>\n",
        "    <tr>\n",
        "      <th>3</th>\n",
        "      <td> 18</td>\n",
        "    </tr>\n",
        "    <tr>\n",
        "      <th>4</th>\n",
        "      <td> 20</td>\n",
        "    </tr>\n",
        "  </tbody>\n",
        "</table>\n",
        "</div>"
       ],
       "metadata": {},
       "output_type": "pyout",
       "prompt_number": 12,
       "text": [
        "   numbers\n",
        "0        1\n",
        "1       12\n",
        "2       14\n",
        "3       18\n",
        "4       20"
       ]
      }
     ],
     "prompt_number": 12
    },
    {
     "cell_type": "code",
     "collapsed": false,
     "input": [
      "def _get_mantissas_(arr):\n",
      "\t'''\n",
      "\tThe mantissa is the non-integer part of the log of a number.\n",
      "\tThis fuction uses the element-wise array operations on numpy\n",
      "\tto get the mantissas of each number's log.\n",
      "\n",
      "\tarr: numpy array of integers or floats\n",
      "\t'''\n",
      "\n",
      "\treturn np.log10(arr) - np.log10(arr).astype(int)"
     ],
     "language": "python",
     "metadata": {},
     "outputs": [],
     "prompt_number": 13
    },
    {
     "cell_type": "code",
     "collapsed": false,
     "input": [
      "tt['mantissas']=np.log10(tt.numbers) - np.log10(tt.numbers).astype(int)\n",
      "tt = tt.sort(columns='mantissas')         #sort DataFrame by mantissas column\n",
      "tt.head()"
     ],
     "language": "python",
     "metadata": {},
     "outputs": [
      {
       "html": [
        "<div style=\"max-height:1000px;max-width:1500px;overflow:auto;\">\n",
        "<table border=\"1\" class=\"dataframe\">\n",
        "  <thead>\n",
        "    <tr style=\"text-align: right;\">\n",
        "      <th></th>\n",
        "      <th>numbers</th>\n",
        "      <th>mantissas</th>\n",
        "    </tr>\n",
        "  </thead>\n",
        "  <tbody>\n",
        "    <tr>\n",
        "      <th>0 </th>\n",
        "      <td>   1</td>\n",
        "      <td> 0.000000</td>\n",
        "    </tr>\n",
        "    <tr>\n",
        "      <th>25</th>\n",
        "      <td> 101</td>\n",
        "      <td> 0.004321</td>\n",
        "    </tr>\n",
        "    <tr>\n",
        "      <th>24</th>\n",
        "      <td> 101</td>\n",
        "      <td> 0.004321</td>\n",
        "    </tr>\n",
        "    <tr>\n",
        "      <th>26</th>\n",
        "      <td> 110</td>\n",
        "      <td> 0.041393</td>\n",
        "    </tr>\n",
        "    <tr>\n",
        "      <th>27</th>\n",
        "      <td> 111</td>\n",
        "      <td> 0.045323</td>\n",
        "    </tr>\n",
        "  </tbody>\n",
        "</table>\n",
        "</div>"
       ],
       "metadata": {},
       "output_type": "pyout",
       "prompt_number": 14,
       "text": [
        "    numbers  mantissas\n",
        "0         1   0.000000\n",
        "25      101   0.004321\n",
        "24      101   0.004321\n",
        "26      110   0.041393\n",
        "27      111   0.045323"
       ]
      }
     ],
     "prompt_number": 14
    },
    {
     "cell_type": "code",
     "collapsed": false,
     "input": [
      "plt.plot(tt.numbers, tt.mantissas)"
     ],
     "language": "python",
     "metadata": {},
     "outputs": [
      {
       "metadata": {},
       "output_type": "pyout",
       "prompt_number": 15,
       "text": [
        "[<matplotlib.lines.Line2D at 0x7ffc7c410c50>]"
       ]
      },
      {
       "metadata": {},
       "output_type": "display_data",
       "png": "[encoded data removed]",
       "text": [
        "<matplotlib.figure.Figure at 0x7ffc7c4ea7d0>"
       ]
      }
     ],
     "prompt_number": 15
    },
    {
     "cell_type": "code",
     "collapsed": false,
     "input": [
      "plt.plot(np.arange(len(tt)), tt.mantissas)"
     ],
     "language": "python",
     "metadata": {},
     "outputs": [
      {
       "metadata": {},
       "output_type": "pyout",
       "prompt_number": 16,
       "text": [
        "[<matplotlib.lines.Line2D at 0x7ffc7c3bbd90>]"
       ]
      },
      {
       "metadata": {},
       "output_type": "display_data",
       "png": "[encoded data removed]",
       "text": [
        "<matplotlib.figure.Figure at 0x7ffc7c448cd0>"
       ]
      }
     ],
     "prompt_number": 16
    },
    {
     "cell_type": "code",
     "collapsed": false,
     "input": [
      "tt['m2'] = _get_mantissas_(tt.numbers)\n",
      "sum(tt.mantissas!=tt.m2)"
     ],
     "language": "python",
     "metadata": {},
     "outputs": [
      {
       "metadata": {},
       "output_type": "pyout",
       "prompt_number": 17,
       "text": [
        "0"
       ]
      }
     ],
     "prompt_number": 17
    },
    {
     "cell_type": "code",
     "collapsed": false,
     "input": [
      "tt['ms']=tt.m2.cumsum()\n",
      "plt.plot(np.arange(len(tt.ms)), tt.ms)"
     ],
     "language": "python",
     "metadata": {},
     "outputs": [
      {
       "metadata": {},
       "output_type": "pyout",
       "prompt_number": 18,
       "text": [
        "[<matplotlib.lines.Line2D at 0x7ffc7c2ea6d0>]"
       ]
      },
      {
       "metadata": {},
       "output_type": "display_data",
       "png": "[encoded data removed]",
       "text": [
        "<matplotlib.figure.Figure at 0x7ffc7c3f18d0>"
       ]
      }
     ],
     "prompt_number": 18
    },
    {
     "cell_type": "code",
     "collapsed": false,
     "input": [
      "h = 9.234\n",
      "h*=100\n",
      "str(h)[:2]"
     ],
     "language": "python",
     "metadata": {},
     "outputs": [
      {
       "metadata": {},
       "output_type": "pyout",
       "prompt_number": 22,
       "text": [
        "'92'"
       ]
      }
     ],
     "prompt_number": 22
    },
    {
     "cell_type": "code",
     "collapsed": false,
     "input": [
      "len(str((1/m[3]).astype(int)))"
     ],
     "language": "python",
     "metadata": {},
     "outputs": [
      {
       "metadata": {},
       "output_type": "pyout",
       "prompt_number": 50,
       "text": [
        "2"
       ]
      }
     ],
     "prompt_number": 50
    },
    {
     "cell_type": "code",
     "collapsed": false,
     "input": [
      "eb = np.arange(10,100).reshape(90,1)\n",
      "eb = eb.astype(str)\n",
      "eb[:,0]"
     ],
     "language": "python",
     "metadata": {},
     "outputs": [
      {
       "metadata": {},
       "output_type": "pyout",
       "prompt_number": 92,
       "text": [
        "array(['10', '11', '12', '13', '14', '15', '16', '17', '18', '19', '20',\n",
        "       '21', '22', '23', '24', '25', '26', '27', '28', '29', '30', '31',\n",
        "       '32', '33', '34', '35', '36', '37', '38', '39', '40', '41', '42',\n",
        "       '43', '44', '45', '46', '47', '48', '49', '50', '51', '52', '53',\n",
        "       '54', '55', '56', '57', '58', '59', '60', '61', '62', '63', '64',\n",
        "       '65', '66', '67', '68', '69', '70', '71', '72', '73', '74', '75',\n",
        "       '76', '77', '78', '79', '80', '81', '82', '83', '84', '85', '86',\n",
        "       '87', '88', '89', '90', '91', '92', '93', '94', '95', '96', '97',\n",
        "       '98', '99'], \n",
        "      dtype='|S21')"
       ]
      }
     ],
     "prompt_number": 92
    },
    {
     "cell_type": "code",
     "collapsed": false,
     "input": [
      "eb = np.arange(10,100)\n",
      "eb = eb.astype(str)\n",
      "f = np.array([l[0] for l in eb]).reshape(90,1)\n",
      "s = np.array([l[1] for l in eb]).reshape(90,1)\n",
      "eb = np.hstack((f,s)).astype(int)\n",
      "eb[:,0]"
     ],
     "language": "python",
     "metadata": {},
     "outputs": [
      {
       "metadata": {},
       "output_type": "pyout",
       "prompt_number": 105,
       "text": [
        "array([1, 1, 1, 1, 1, 1, 1, 1, 1, 1, 2, 2, 2, 2, 2, 2, 2, 2, 2, 2, 3, 3, 3,\n",
        "       3, 3, 3, 3, 3, 3, 3, 4, 4, 4, 4, 4, 4, 4, 4, 4, 4, 5, 5, 5, 5, 5, 5,\n",
        "       5, 5, 5, 5, 6, 6, 6, 6, 6, 6, 6, 6, 6, 6, 7, 7, 7, 7, 7, 7, 7, 7, 7,\n",
        "       7, 8, 8, 8, 8, 8, 8, 8, 8, 8, 8, 9, 9, 9, 9, 9, 9, 9, 9, 9, 9])"
       ]
      }
     ],
     "prompt_number": 105
    },
    {
     "cell_type": "code",
     "collapsed": false,
     "input": [
      "e2 = np.arange(10,100)\n",
      "p = np.log10(1+(1./e2))\n",
      "plt.bar(e2,p)"
     ],
     "language": "python",
     "metadata": {},
     "outputs": [
      {
       "metadata": {},
       "output_type": "pyout",
       "prompt_number": 118,
       "text": [
        "<Container object of 90 artists>"
       ]
      },
      {
       "metadata": {},
       "output_type": "display_data",
       "png": "[encoded data removed]",
       "text": [
        "<matplotlib.figure.Figure at 0x7ffc7b46f090>"
       ]
      }
     ],
     "prompt_number": 118
    },
    {
     "cell_type": "code",
     "collapsed": false,
     "input": [
      "e3 = e2.astype(str)\n",
      "s = np.array([l[1] for l in e3]).astype(int)\n",
      "p[s == 0].sum()"
     ],
     "language": "python",
     "metadata": {},
     "outputs": [
      {
       "metadata": {},
       "output_type": "pyout",
       "prompt_number": 146,
       "text": [
        "0.11967926859688073"
       ]
      }
     ],
     "prompt_number": 146
    },
    {
     "cell_type": "code",
     "collapsed": false,
     "input": [
      "def secondDigit():\n",
      "\ta = np.arange(10,100)\n",
      "\taa = a.astype(str)\n",
      "\ts = np.array([l[1] for l in aa]).astype(int)\n",
      "\tb = np.arange(0,10)\n",
      "\tprobs = np.log10(1 + (1. / a))\n",
      "\tc = np.zeros(10)\n",
      "\tfor n in b:\n",
      "\t\tc[n] = probs[s == n].sum()\n",
      "\treturn c"
     ],
     "language": "python",
     "metadata": {},
     "outputs": [],
     "prompt_number": 152
    },
    {
     "cell_type": "code",
     "collapsed": false,
     "input": [
      "secondDigit()"
     ],
     "language": "python",
     "metadata": {},
     "outputs": [
      {
       "metadata": {},
       "output_type": "pyout",
       "prompt_number": 153,
       "text": [
        "array([ 0.11967927,  0.1138901 ,  0.1088215 ,  0.10432956,  0.1003082 ,\n",
        "        0.09667724,  0.09337474,  0.09035199,  0.08757005,  0.08499735])"
       ]
      }
     ],
     "prompt_number": 153
    },
    {
     "cell_type": "code",
     "collapsed": false,
     "input": [
      "def firstDigit():\n",
      "\ta = np.arange(1,10)\n",
      "\treturn np.log10(1 + (1. / a))"
     ],
     "language": "python",
     "metadata": {},
     "outputs": [],
     "prompt_number": 164
    },
    {
     "cell_type": "code",
     "collapsed": false,
     "input": [
      "a5 = np.arange(0,10)\n",
      "plt.plot(a5, secondDigit())\n",
      "plt.ylim((0,.15))"
     ],
     "language": "python",
     "metadata": {},
     "outputs": [
      {
       "metadata": {},
       "output_type": "pyout",
       "prompt_number": 159,
       "text": [
        "(0, 0.15)"
       ]
      },
      {
       "metadata": {},
       "output_type": "display_data",
       "png": "[encoded data removed]",
       "text": [
        "<matplotlib.figure.Figure at 0x7ffc7ac1b450>"
       ]
      }
     ],
     "prompt_number": 159
    },
    {
     "cell_type": "code",
     "collapsed": false,
     "input": [
      "firstDigit()"
     ],
     "language": "python",
     "metadata": {},
     "outputs": [
      {
       "metadata": {},
       "output_type": "pyout",
       "prompt_number": 165,
       "text": [
        "array([ 0.30103   ,  0.17609126,  0.12493874,  0.09691001,  0.07918125,\n",
        "        0.06694679,  0.05799195,  0.05115252,  0.04575749])"
       ]
      }
     ],
     "prompt_number": 165
    },
    {
     "cell_type": "code",
     "collapsed": false,
     "input": [
      "a6 = np.arange(1,10)\n",
      "plt.bar(a6,firstDigit())"
     ],
     "language": "python",
     "metadata": {},
     "outputs": [
      {
       "metadata": {},
       "output_type": "pyout",
       "prompt_number": 166,
       "text": [
        "<Container object of 9 artists>"
       ]
      },
      {
       "metadata": {},
       "output_type": "display_data",
       "png": "[encoded data removed]",
       "text": [
        "<matplotlib.figure.Figure at 0x7ffc7aa05dd0>"
       ]
      }
     ],
     "prompt_number": 166
    }
   ],
   "metadata": {}
  }
 ]
}