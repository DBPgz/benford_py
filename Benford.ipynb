{
 "metadata": {
  "name": "",
  "signature": "sha256:f1da08d1332c229e45e1ba59b428618d6824f37818cdd5ff659a50fd8ce198f1"
 },
 "nbformat": 3,
 "nbformat_minor": 0,
 "worksheets": [
  {
   "cells": [
    {
     "cell_type": "code",
     "collapsed": false,
     "input": [
      "import pandas as pd\n",
      "import numpy as np\n",
      "import matplotlib.pyplot as plt"
     ],
     "language": "python",
     "metadata": {},
     "outputs": [],
     "prompt_number": 1
    },
    {
     "cell_type": "code",
     "collapsed": false,
     "input": [
      "t = np.arange(10,1000,10)"
     ],
     "language": "python",
     "metadata": {},
     "outputs": [],
     "prompt_number": 2
    },
    {
     "cell_type": "code",
     "collapsed": false,
     "input": [
      "t[:10]"
     ],
     "language": "python",
     "metadata": {},
     "outputs": [
      {
       "metadata": {},
       "output_type": "pyout",
       "prompt_number": 3,
       "text": [
        "array([ 10,  20,  30,  40,  50,  60,  70,  80,  90, 100])"
       ]
      }
     ],
     "prompt_number": 3
    },
    {
     "cell_type": "heading",
     "level": 4,
     "metadata": {},
     "source": [
      "Getting the Mantissas"
     ]
    },
    {
     "cell_type": "code",
     "collapsed": false,
     "input": [
      "np.log10(t) - np.log10(t).astype(int)"
     ],
     "language": "python",
     "metadata": {},
     "outputs": [
      {
       "metadata": {},
       "output_type": "pyout",
       "prompt_number": 4,
       "text": [
        "array([ 0.        ,  0.30103   ,  0.47712125,  0.60205999,  0.69897   ,\n",
        "        0.77815125,  0.84509804,  0.90308999,  0.95424251,  0.        ,\n",
        "        0.04139269,  0.07918125,  0.11394335,  0.14612804,  0.17609126,\n",
        "        0.20411998,  0.23044892,  0.25527251,  0.2787536 ,  0.30103   ,\n",
        "        0.32221929,  0.34242268,  0.36172784,  0.38021124,  0.39794001,\n",
        "        0.41497335,  0.43136376,  0.44715803,  0.462398  ,  0.47712125,\n",
        "        0.49136169,  0.50514998,  0.51851394,  0.53147892,  0.54406804,\n",
        "        0.5563025 ,  0.56820172,  0.5797836 ,  0.59106461,  0.60205999,\n",
        "        0.61278386,  0.62324929,  0.63346846,  0.64345268,  0.65321251,\n",
        "        0.66275783,  0.67209786,  0.68124124,  0.69019608,  0.69897   ,\n",
        "        0.70757018,  0.71600334,  0.72427587,  0.73239376,  0.74036269,\n",
        "        0.74818803,  0.75587486,  0.76342799,  0.77085201,  0.77815125,\n",
        "        0.78532984,  0.79239169,  0.79934055,  0.80617997,  0.81291336,\n",
        "        0.81954394,  0.8260748 ,  0.83250891,  0.83884909,  0.84509804,\n",
        "        0.85125835,  0.8573325 ,  0.86332286,  0.86923172,  0.87506126,\n",
        "        0.88081359,  0.88649073,  0.8920946 ,  0.89762709,  0.90308999,\n",
        "        0.90848502,  0.91381385,  0.91907809,  0.92427929,  0.92941893,\n",
        "        0.93449845,  0.93951925,  0.94448267,  0.94939001,  0.95424251,\n",
        "        0.95904139,  0.96378783,  0.96848295,  0.97312785,  0.97772361,\n",
        "        0.98227123,  0.98677173,  0.99122608,  0.99563519])"
       ]
      }
     ],
     "prompt_number": 4
    },
    {
     "cell_type": "code",
     "collapsed": false,
     "input": [
      "g = np.random.randint(1000, size =200)\n",
      "g"
     ],
     "language": "python",
     "metadata": {},
     "outputs": [
      {
       "metadata": {},
       "output_type": "pyout",
       "prompt_number": 5,
       "text": [
        "array([ 11, 218, 555, 993, 285, 669, 677,  38, 568, 534, 742, 766, 895,\n",
        "       154, 133, 669, 424, 650, 640, 518, 744, 131,  69, 144, 440, 434,\n",
        "       583, 884, 931, 370, 374, 183,  18, 361, 113, 677, 679, 754, 558,\n",
        "       202, 628, 414, 479, 172, 976, 715, 518, 840, 804, 878, 642, 708,\n",
        "        77, 319,   3, 804, 538, 182, 198, 632, 331, 914, 632, 458, 912,\n",
        "       392, 274, 227, 459, 517, 923, 785,  26, 934, 704, 556, 403, 368,\n",
        "       151, 773, 433,  79, 211, 655, 257, 172,  45, 678,  65, 253, 616,\n",
        "        53, 648, 848, 702, 637, 802, 132, 460, 592, 278,  16, 379, 318,\n",
        "       749, 683, 596, 551, 225, 957,  52, 408, 663, 270,   9, 241, 570,\n",
        "       109, 310, 326, 937, 814, 866, 546, 308, 719, 857, 667, 529, 875,\n",
        "       324, 503, 236, 969, 334, 792, 539, 360, 771, 762, 723, 538, 440,\n",
        "       999,  31, 423, 642,  48, 716, 472, 982, 898, 701, 537, 964,  79,\n",
        "       914, 303, 269, 421, 158, 535, 894, 554, 614, 184, 477, 968, 758,\n",
        "       885, 342, 967, 914,   8, 750, 117, 854, 546, 101, 995, 280, 900,\n",
        "       924, 692, 910, 704, 319, 277,  41, 162, 393, 238, 712, 813, 976,\n",
        "       319, 861, 179,  70, 916])"
       ]
      }
     ],
     "prompt_number": 5
    },
    {
     "cell_type": "code",
     "collapsed": false,
     "input": [
      "m = np.log10(g) - np.log10(g).astype(int)\n",
      "m"
     ],
     "language": "python",
     "metadata": {},
     "outputs": [
      {
       "metadata": {},
       "output_type": "pyout",
       "prompt_number": 6,
       "text": [
        "array([ 0.04139269,  0.33845649,  0.74429298,  0.99694925,  0.45484486,\n",
        "        0.82542612,  0.83058867,  0.5797836 ,  0.75434834,  0.72754126,\n",
        "        0.87040391,  0.88422877,  0.95182304,  0.18752072,  0.12385164,\n",
        "        0.82542612,  0.62736586,  0.81291336,  0.80617997,  0.71432976,\n",
        "        0.87157294,  0.1172713 ,  0.83884909,  0.15836249,  0.64345268,\n",
        "        0.63748973,  0.76566855,  0.94645227,  0.96894968,  0.56820172,\n",
        "        0.5728716 ,  0.26245109,  0.25527251,  0.5575072 ,  0.05307844,\n",
        "        0.83058867,  0.83186977,  0.87737135,  0.7466342 ,  0.30535137,\n",
        "        0.79795964,  0.61700034,  0.68033551,  0.23552845,  0.98944982,\n",
        "        0.85430604,  0.71432976,  0.92427929,  0.90525605,  0.94349452,\n",
        "        0.80753503,  0.85003326,  0.88649073,  0.50379068,  0.47712125,\n",
        "        0.90525605,  0.73078228,  0.26007139,  0.29666519,  0.80071708,\n",
        "        0.51982799,  0.9609462 ,  0.80071708,  0.66086548,  0.95999484,\n",
        "        0.59328607,  0.43775056,  0.35602586,  0.66181269,  0.71349054,\n",
        "        0.9652017 ,  0.89486966,  0.41497335,  0.97034688,  0.84757266,\n",
        "        0.74507479,  0.60530505,  0.56584782,  0.17897695,  0.88817949,\n",
        "        0.6364879 ,  0.89762709,  0.32428246,  0.8162413 ,  0.40993312,\n",
        "        0.23552845,  0.65321251,  0.83122969,  0.81291336,  0.40312052,\n",
        "        0.78958071,  0.72427587,  0.81157501,  0.92839585,  0.84633711,\n",
        "        0.80413943,  0.90417437,  0.12057393,  0.66275783,  0.77232171,\n",
        "        0.4440448 ,  0.20411998,  0.57863921,  0.50242712,  0.87448182,\n",
        "        0.8344207 ,  0.77524626,  0.7411516 ,  0.35218252,  0.98091194,\n",
        "        0.71600334,  0.61066016,  0.82151353,  0.43136376,  0.95424251,\n",
        "        0.38201704,  0.75587486,  0.0374265 ,  0.49136169,  0.5132176 ,\n",
        "        0.97173959,  0.9106244 ,  0.93751789,  0.73719264,  0.48855072,\n",
        "        0.85672889,  0.93298082,  0.82412583,  0.72345567,  0.94200805,\n",
        "        0.51054501,  0.70156799,  0.372912  ,  0.98632378,  0.52374647,\n",
        "        0.89872518,  0.73158877,  0.5563025 ,  0.88705438,  0.88195497,\n",
        "        0.8591383 ,  0.73078228,  0.64345268,  0.99956549,  0.49136169,\n",
        "        0.62634037,  0.80753503,  0.68124124,  0.85491302,  0.673942  ,\n",
        "        0.99211149,  0.95327634,  0.84571802,  0.72997429,  0.98407703,\n",
        "        0.89762709,  0.9609462 ,  0.48144263,  0.42975228,  0.6242821 ,\n",
        "        0.19865709,  0.72835378,  0.95133752,  0.74350976,  0.78816837,\n",
        "        0.26481782,  0.67851838,  0.98587536,  0.87966921,  0.94694327,\n",
        "        0.53402611,  0.98542647,  0.9609462 ,  0.90308999,  0.87506126,\n",
        "        0.06818586,  0.93145787,  0.73719264,  0.00432137,  0.99782308,\n",
        "        0.44715803,  0.95424251,  0.96567197,  0.84010609,  0.95904139,\n",
        "        0.84757266,  0.50379068,  0.44247977,  0.61278386,  0.20951501,\n",
        "        0.59439255,  0.37657696,  0.85247999,  0.91009055,  0.98944982,\n",
        "        0.50379068,  0.93500315,  0.25285303,  0.84509804,  0.96189547])"
       ]
      }
     ],
     "prompt_number": 6
    },
    {
     "cell_type": "heading",
     "level": 4,
     "metadata": {},
     "source": [
      "Ordering the Mantissas and Plotting"
     ]
    },
    {
     "cell_type": "code",
     "collapsed": false,
     "input": [
      "m.sort()\n",
      "m"
     ],
     "language": "python",
     "metadata": {},
     "outputs": [
      {
       "metadata": {},
       "output_type": "pyout",
       "prompt_number": 7,
       "text": [
        "array([ 0.00432137,  0.0374265 ,  0.04139269,  0.05307844,  0.06818586,\n",
        "        0.1172713 ,  0.12057393,  0.12385164,  0.15836249,  0.17897695,\n",
        "        0.18752072,  0.19865709,  0.20411998,  0.20951501,  0.23552845,\n",
        "        0.23552845,  0.25285303,  0.25527251,  0.26007139,  0.26245109,\n",
        "        0.26481782,  0.29666519,  0.30535137,  0.32428246,  0.33845649,\n",
        "        0.35218252,  0.35602586,  0.372912  ,  0.37657696,  0.38201704,\n",
        "        0.40312052,  0.40993312,  0.41497335,  0.42975228,  0.43136376,\n",
        "        0.43775056,  0.44247977,  0.4440448 ,  0.44715803,  0.45484486,\n",
        "        0.47712125,  0.48144263,  0.48855072,  0.49136169,  0.49136169,\n",
        "        0.50242712,  0.50379068,  0.50379068,  0.50379068,  0.51054501,\n",
        "        0.5132176 ,  0.51982799,  0.52374647,  0.53402611,  0.5563025 ,\n",
        "        0.5575072 ,  0.56584782,  0.56820172,  0.5728716 ,  0.57863921,\n",
        "        0.5797836 ,  0.59328607,  0.59439255,  0.60530505,  0.61066016,\n",
        "        0.61278386,  0.61700034,  0.6242821 ,  0.62634037,  0.62736586,\n",
        "        0.6364879 ,  0.63748973,  0.64345268,  0.64345268,  0.65321251,\n",
        "        0.66086548,  0.66181269,  0.66275783,  0.673942  ,  0.67851838,\n",
        "        0.68033551,  0.68124124,  0.70156799,  0.71349054,  0.71432976,\n",
        "        0.71432976,  0.71600334,  0.72345567,  0.72427587,  0.72754126,\n",
        "        0.72835378,  0.72997429,  0.73078228,  0.73078228,  0.73158877,\n",
        "        0.73719264,  0.73719264,  0.7411516 ,  0.74350976,  0.74429298,\n",
        "        0.74507479,  0.7466342 ,  0.75434834,  0.75587486,  0.76566855,\n",
        "        0.77232171,  0.77524626,  0.78816837,  0.78958071,  0.79795964,\n",
        "        0.80071708,  0.80071708,  0.80413943,  0.80617997,  0.80753503,\n",
        "        0.80753503,  0.81157501,  0.81291336,  0.81291336,  0.8162413 ,\n",
        "        0.82151353,  0.82412583,  0.82542612,  0.82542612,  0.83058867,\n",
        "        0.83058867,  0.83122969,  0.83186977,  0.8344207 ,  0.83884909,\n",
        "        0.84010609,  0.84509804,  0.84571802,  0.84633711,  0.84757266,\n",
        "        0.84757266,  0.85003326,  0.85247999,  0.85430604,  0.85491302,\n",
        "        0.85672889,  0.8591383 ,  0.87040391,  0.87157294,  0.87448182,\n",
        "        0.87506126,  0.87737135,  0.87966921,  0.88195497,  0.88422877,\n",
        "        0.88649073,  0.88705438,  0.88817949,  0.89486966,  0.89762709,\n",
        "        0.89762709,  0.89872518,  0.90308999,  0.90417437,  0.90525605,\n",
        "        0.90525605,  0.91009055,  0.9106244 ,  0.92427929,  0.92839585,\n",
        "        0.93145787,  0.93298082,  0.93500315,  0.93751789,  0.94200805,\n",
        "        0.94349452,  0.94645227,  0.94694327,  0.95133752,  0.95182304,\n",
        "        0.95327634,  0.95424251,  0.95424251,  0.95904139,  0.95999484,\n",
        "        0.9609462 ,  0.9609462 ,  0.9609462 ,  0.96189547,  0.9652017 ,\n",
        "        0.96567197,  0.96894968,  0.97034688,  0.97173959,  0.98091194,\n",
        "        0.98407703,  0.98542647,  0.98587536,  0.98632378,  0.98944982,\n",
        "        0.98944982,  0.99211149,  0.99694925,  0.99782308,  0.99956549])"
       ]
      }
     ],
     "prompt_number": 7
    },
    {
     "cell_type": "code",
     "collapsed": false,
     "input": [
      "pylab inline"
     ],
     "language": "python",
     "metadata": {},
     "outputs": [
      {
       "output_type": "stream",
       "stream": "stdout",
       "text": [
        "Populating the interactive namespace from numpy and matplotlib\n"
       ]
      }
     ],
     "prompt_number": 8
    },
    {
     "cell_type": "code",
     "collapsed": false,
     "input": [
      "plt.plot(np.arange(len(m)), m)"
     ],
     "language": "python",
     "metadata": {},
     "outputs": [
      {
       "metadata": {},
       "output_type": "pyout",
       "prompt_number": 9,
       "text": [
        "[<matplotlib.lines.Line2D at 0x7f791cb6ca10>]"
       ]
      },
      {
       "metadata": {},
       "output_type": "display_data",
       "png": "[encoded data removed]",
       "text": [
        "<matplotlib.figure.Figure at 0x7f791cbcb890>"
       ]
      }
     ],
     "prompt_number": 9
    },
    {
     "cell_type": "code",
     "collapsed": false,
     "input": [
      "g.sort()\n",
      "g"
     ],
     "language": "python",
     "metadata": {},
     "outputs": [
      {
       "metadata": {},
       "output_type": "pyout",
       "prompt_number": 10,
       "text": [
        "array([  3,   8,   9,  11,  16,  18,  26,  31,  38,  41,  45,  48,  52,\n",
        "        53,  65,  69,  70,  77,  79,  79, 101, 109, 113, 117, 131, 132,\n",
        "       133, 144, 151, 154, 158, 162, 172, 172, 179, 182, 183, 184, 198,\n",
        "       202, 211, 218, 225, 227, 236, 238, 241, 253, 257, 269, 270, 274,\n",
        "       277, 278, 280, 285, 303, 308, 310, 318, 319, 319, 319, 324, 326,\n",
        "       331, 334, 342, 360, 361, 368, 370, 374, 379, 392, 393, 403, 408,\n",
        "       414, 421, 423, 424, 433, 434, 440, 440, 458, 459, 460, 472, 477,\n",
        "       479, 503, 517, 518, 518, 529, 534, 535, 537, 538, 538, 539, 546,\n",
        "       546, 551, 554, 555, 556, 558, 568, 570, 583, 592, 596, 614, 616,\n",
        "       628, 632, 632, 637, 640, 642, 642, 648, 650, 655, 663, 667, 669,\n",
        "       669, 677, 677, 678, 679, 683, 692, 701, 702, 704, 704, 708, 712,\n",
        "       715, 716, 719, 723, 742, 744, 749, 750, 754, 758, 762, 766, 771,\n",
        "       773, 785, 792, 802, 804, 804, 813, 814, 840, 848, 854, 857, 861,\n",
        "       866, 875, 878, 884, 885, 894, 895, 898, 900, 910, 912, 914, 914,\n",
        "       914, 916, 923, 924, 931, 934, 937, 957, 964, 967, 968, 969, 976,\n",
        "       976, 982, 993, 995, 999])"
       ]
      }
     ],
     "prompt_number": 10
    },
    {
     "cell_type": "code",
     "collapsed": false,
     "input": [
      "plt.plot(g, m)\n",
      "plt.grid()"
     ],
     "language": "python",
     "metadata": {},
     "outputs": [
      {
       "metadata": {},
       "output_type": "display_data",
       "png": "[encoded data removed]",
       "text": [
        "<matplotlib.figure.Figure at 0x7f791cabc490>"
       ]
      }
     ],
     "prompt_number": 11
    },
    {
     "cell_type": "code",
     "collapsed": false,
     "input": [
      "tt = pd.DataFrame(g, columns=['numbers'])\n",
      "tt.head()"
     ],
     "language": "python",
     "metadata": {},
     "outputs": [
      {
       "html": [
        "<div style=\"max-height:1000px;max-width:1500px;overflow:auto;\">\n",
        "<table border=\"1\" class=\"dataframe\">\n",
        "  <thead>\n",
        "    <tr style=\"text-align: right;\">\n",
        "      <th></th>\n",
        "      <th>numbers</th>\n",
        "    </tr>\n",
        "  </thead>\n",
        "  <tbody>\n",
        "    <tr>\n",
        "      <th>0</th>\n",
        "      <td>  3</td>\n",
        "    </tr>\n",
        "    <tr>\n",
        "      <th>1</th>\n",
        "      <td>  8</td>\n",
        "    </tr>\n",
        "    <tr>\n",
        "      <th>2</th>\n",
        "      <td>  9</td>\n",
        "    </tr>\n",
        "    <tr>\n",
        "      <th>3</th>\n",
        "      <td> 11</td>\n",
        "    </tr>\n",
        "    <tr>\n",
        "      <th>4</th>\n",
        "      <td> 16</td>\n",
        "    </tr>\n",
        "  </tbody>\n",
        "</table>\n",
        "</div>"
       ],
       "metadata": {},
       "output_type": "pyout",
       "prompt_number": 12,
       "text": [
        "   numbers\n",
        "0        3\n",
        "1        8\n",
        "2        9\n",
        "3       11\n",
        "4       16"
       ]
      }
     ],
     "prompt_number": 12
    },
    {
     "cell_type": "code",
     "collapsed": false,
     "input": [
      "def _get_mantissas_(arr):\n",
      "\t'''\n",
      "\tThe mantissa is the non-integer part of the log of a number.\n",
      "\tThis fuction uses the element-wise array operations on numpy\n",
      "\tto get the mantissas of each number's log.\n",
      "\n",
      "\tarr: numpy array of integers or floats\n",
      "\t'''\n",
      "\n",
      "\treturn np.log10(arr) - np.log10(arr).astype(int)"
     ],
     "language": "python",
     "metadata": {},
     "outputs": [],
     "prompt_number": 13
    },
    {
     "cell_type": "code",
     "collapsed": false,
     "input": [
      "tt['mantissas']=_get_mantissas_(tt.numbers)\n",
      "tt.sort(columns='mantissas')\n",
      "tt"
     ],
     "language": "python",
     "metadata": {},
     "outputs": [
      {
       "html": [
        "<div style=\"max-height:1000px;max-width:1500px;overflow:auto;\">\n",
        "<table border=\"1\" class=\"dataframe\">\n",
        "  <thead>\n",
        "    <tr style=\"text-align: right;\">\n",
        "      <th></th>\n",
        "      <th>numbers</th>\n",
        "      <th>mantissas</th>\n",
        "    </tr>\n",
        "  </thead>\n",
        "  <tbody>\n",
        "    <tr>\n",
        "      <th>0  </th>\n",
        "      <td>   3</td>\n",
        "      <td> 0.477121</td>\n",
        "    </tr>\n",
        "    <tr>\n",
        "      <th>1  </th>\n",
        "      <td>   8</td>\n",
        "      <td> 0.903090</td>\n",
        "    </tr>\n",
        "    <tr>\n",
        "      <th>2  </th>\n",
        "      <td>   9</td>\n",
        "      <td> 0.954243</td>\n",
        "    </tr>\n",
        "    <tr>\n",
        "      <th>3  </th>\n",
        "      <td>  11</td>\n",
        "      <td> 0.041393</td>\n",
        "    </tr>\n",
        "    <tr>\n",
        "      <th>4  </th>\n",
        "      <td>  16</td>\n",
        "      <td> 0.204120</td>\n",
        "    </tr>\n",
        "    <tr>\n",
        "      <th>5  </th>\n",
        "      <td>  18</td>\n",
        "      <td> 0.255273</td>\n",
        "    </tr>\n",
        "    <tr>\n",
        "      <th>6  </th>\n",
        "      <td>  26</td>\n",
        "      <td> 0.414973</td>\n",
        "    </tr>\n",
        "    <tr>\n",
        "      <th>7  </th>\n",
        "      <td>  31</td>\n",
        "      <td> 0.491362</td>\n",
        "    </tr>\n",
        "    <tr>\n",
        "      <th>8  </th>\n",
        "      <td>  38</td>\n",
        "      <td> 0.579784</td>\n",
        "    </tr>\n",
        "    <tr>\n",
        "      <th>9  </th>\n",
        "      <td>  41</td>\n",
        "      <td> 0.612784</td>\n",
        "    </tr>\n",
        "    <tr>\n",
        "      <th>10 </th>\n",
        "      <td>  45</td>\n",
        "      <td> 0.653213</td>\n",
        "    </tr>\n",
        "    <tr>\n",
        "      <th>11 </th>\n",
        "      <td>  48</td>\n",
        "      <td> 0.681241</td>\n",
        "    </tr>\n",
        "    <tr>\n",
        "      <th>12 </th>\n",
        "      <td>  52</td>\n",
        "      <td> 0.716003</td>\n",
        "    </tr>\n",
        "    <tr>\n",
        "      <th>13 </th>\n",
        "      <td>  53</td>\n",
        "      <td> 0.724276</td>\n",
        "    </tr>\n",
        "    <tr>\n",
        "      <th>14 </th>\n",
        "      <td>  65</td>\n",
        "      <td> 0.812913</td>\n",
        "    </tr>\n",
        "    <tr>\n",
        "      <th>15 </th>\n",
        "      <td>  69</td>\n",
        "      <td> 0.838849</td>\n",
        "    </tr>\n",
        "    <tr>\n",
        "      <th>16 </th>\n",
        "      <td>  70</td>\n",
        "      <td> 0.845098</td>\n",
        "    </tr>\n",
        "    <tr>\n",
        "      <th>17 </th>\n",
        "      <td>  77</td>\n",
        "      <td> 0.886491</td>\n",
        "    </tr>\n",
        "    <tr>\n",
        "      <th>18 </th>\n",
        "      <td>  79</td>\n",
        "      <td> 0.897627</td>\n",
        "    </tr>\n",
        "    <tr>\n",
        "      <th>19 </th>\n",
        "      <td>  79</td>\n",
        "      <td> 0.897627</td>\n",
        "    </tr>\n",
        "    <tr>\n",
        "      <th>20 </th>\n",
        "      <td> 101</td>\n",
        "      <td> 0.004321</td>\n",
        "    </tr>\n",
        "    <tr>\n",
        "      <th>21 </th>\n",
        "      <td> 109</td>\n",
        "      <td> 0.037426</td>\n",
        "    </tr>\n",
        "    <tr>\n",
        "      <th>22 </th>\n",
        "      <td> 113</td>\n",
        "      <td> 0.053078</td>\n",
        "    </tr>\n",
        "    <tr>\n",
        "      <th>23 </th>\n",
        "      <td> 117</td>\n",
        "      <td> 0.068186</td>\n",
        "    </tr>\n",
        "    <tr>\n",
        "      <th>24 </th>\n",
        "      <td> 131</td>\n",
        "      <td> 0.117271</td>\n",
        "    </tr>\n",
        "    <tr>\n",
        "      <th>25 </th>\n",
        "      <td> 132</td>\n",
        "      <td> 0.120574</td>\n",
        "    </tr>\n",
        "    <tr>\n",
        "      <th>26 </th>\n",
        "      <td> 133</td>\n",
        "      <td> 0.123852</td>\n",
        "    </tr>\n",
        "    <tr>\n",
        "      <th>27 </th>\n",
        "      <td> 144</td>\n",
        "      <td> 0.158362</td>\n",
        "    </tr>\n",
        "    <tr>\n",
        "      <th>28 </th>\n",
        "      <td> 151</td>\n",
        "      <td> 0.178977</td>\n",
        "    </tr>\n",
        "    <tr>\n",
        "      <th>29 </th>\n",
        "      <td> 154</td>\n",
        "      <td> 0.187521</td>\n",
        "    </tr>\n",
        "    <tr>\n",
        "      <th>...</th>\n",
        "      <td>...</td>\n",
        "      <td>...</td>\n",
        "    </tr>\n",
        "    <tr>\n",
        "      <th>170</th>\n",
        "      <td> 875</td>\n",
        "      <td> 0.942008</td>\n",
        "    </tr>\n",
        "    <tr>\n",
        "      <th>171</th>\n",
        "      <td> 878</td>\n",
        "      <td> 0.943495</td>\n",
        "    </tr>\n",
        "    <tr>\n",
        "      <th>172</th>\n",
        "      <td> 884</td>\n",
        "      <td> 0.946452</td>\n",
        "    </tr>\n",
        "    <tr>\n",
        "      <th>173</th>\n",
        "      <td> 885</td>\n",
        "      <td> 0.946943</td>\n",
        "    </tr>\n",
        "    <tr>\n",
        "      <th>174</th>\n",
        "      <td> 894</td>\n",
        "      <td> 0.951338</td>\n",
        "    </tr>\n",
        "    <tr>\n",
        "      <th>175</th>\n",
        "      <td> 895</td>\n",
        "      <td> 0.951823</td>\n",
        "    </tr>\n",
        "    <tr>\n",
        "      <th>176</th>\n",
        "      <td> 898</td>\n",
        "      <td> 0.953276</td>\n",
        "    </tr>\n",
        "    <tr>\n",
        "      <th>177</th>\n",
        "      <td> 900</td>\n",
        "      <td> 0.954243</td>\n",
        "    </tr>\n",
        "    <tr>\n",
        "      <th>178</th>\n",
        "      <td> 910</td>\n",
        "      <td> 0.959041</td>\n",
        "    </tr>\n",
        "    <tr>\n",
        "      <th>179</th>\n",
        "      <td> 912</td>\n",
        "      <td> 0.959995</td>\n",
        "    </tr>\n",
        "    <tr>\n",
        "      <th>180</th>\n",
        "      <td> 914</td>\n",
        "      <td> 0.960946</td>\n",
        "    </tr>\n",
        "    <tr>\n",
        "      <th>181</th>\n",
        "      <td> 914</td>\n",
        "      <td> 0.960946</td>\n",
        "    </tr>\n",
        "    <tr>\n",
        "      <th>182</th>\n",
        "      <td> 914</td>\n",
        "      <td> 0.960946</td>\n",
        "    </tr>\n",
        "    <tr>\n",
        "      <th>183</th>\n",
        "      <td> 916</td>\n",
        "      <td> 0.961895</td>\n",
        "    </tr>\n",
        "    <tr>\n",
        "      <th>184</th>\n",
        "      <td> 923</td>\n",
        "      <td> 0.965202</td>\n",
        "    </tr>\n",
        "    <tr>\n",
        "      <th>185</th>\n",
        "      <td> 924</td>\n",
        "      <td> 0.965672</td>\n",
        "    </tr>\n",
        "    <tr>\n",
        "      <th>186</th>\n",
        "      <td> 931</td>\n",
        "      <td> 0.968950</td>\n",
        "    </tr>\n",
        "    <tr>\n",
        "      <th>187</th>\n",
        "      <td> 934</td>\n",
        "      <td> 0.970347</td>\n",
        "    </tr>\n",
        "    <tr>\n",
        "      <th>188</th>\n",
        "      <td> 937</td>\n",
        "      <td> 0.971740</td>\n",
        "    </tr>\n",
        "    <tr>\n",
        "      <th>189</th>\n",
        "      <td> 957</td>\n",
        "      <td> 0.980912</td>\n",
        "    </tr>\n",
        "    <tr>\n",
        "      <th>190</th>\n",
        "      <td> 964</td>\n",
        "      <td> 0.984077</td>\n",
        "    </tr>\n",
        "    <tr>\n",
        "      <th>191</th>\n",
        "      <td> 967</td>\n",
        "      <td> 0.985426</td>\n",
        "    </tr>\n",
        "    <tr>\n",
        "      <th>192</th>\n",
        "      <td> 968</td>\n",
        "      <td> 0.985875</td>\n",
        "    </tr>\n",
        "    <tr>\n",
        "      <th>193</th>\n",
        "      <td> 969</td>\n",
        "      <td> 0.986324</td>\n",
        "    </tr>\n",
        "    <tr>\n",
        "      <th>194</th>\n",
        "      <td> 976</td>\n",
        "      <td> 0.989450</td>\n",
        "    </tr>\n",
        "    <tr>\n",
        "      <th>195</th>\n",
        "      <td> 976</td>\n",
        "      <td> 0.989450</td>\n",
        "    </tr>\n",
        "    <tr>\n",
        "      <th>196</th>\n",
        "      <td> 982</td>\n",
        "      <td> 0.992111</td>\n",
        "    </tr>\n",
        "    <tr>\n",
        "      <th>197</th>\n",
        "      <td> 993</td>\n",
        "      <td> 0.996949</td>\n",
        "    </tr>\n",
        "    <tr>\n",
        "      <th>198</th>\n",
        "      <td> 995</td>\n",
        "      <td> 0.997823</td>\n",
        "    </tr>\n",
        "    <tr>\n",
        "      <th>199</th>\n",
        "      <td> 999</td>\n",
        "      <td> 0.999565</td>\n",
        "    </tr>\n",
        "  </tbody>\n",
        "</table>\n",
        "<p>200 rows \u00d7 2 columns</p>\n",
        "</div>"
       ],
       "metadata": {},
       "output_type": "pyout",
       "prompt_number": 14,
       "text": [
        "     numbers  mantissas\n",
        "0          3   0.477121\n",
        "1          8   0.903090\n",
        "2          9   0.954243\n",
        "3         11   0.041393\n",
        "4         16   0.204120\n",
        "5         18   0.255273\n",
        "6         26   0.414973\n",
        "7         31   0.491362\n",
        "8         38   0.579784\n",
        "9         41   0.612784\n",
        "10        45   0.653213\n",
        "11        48   0.681241\n",
        "12        52   0.716003\n",
        "13        53   0.724276\n",
        "14        65   0.812913\n",
        "15        69   0.838849\n",
        "16        70   0.845098\n",
        "17        77   0.886491\n",
        "18        79   0.897627\n",
        "19        79   0.897627\n",
        "20       101   0.004321\n",
        "21       109   0.037426\n",
        "22       113   0.053078\n",
        "23       117   0.068186\n",
        "24       131   0.117271\n",
        "25       132   0.120574\n",
        "26       133   0.123852\n",
        "27       144   0.158362\n",
        "28       151   0.178977\n",
        "29       154   0.187521\n",
        "..       ...        ...\n",
        "170      875   0.942008\n",
        "171      878   0.943495\n",
        "172      884   0.946452\n",
        "173      885   0.946943\n",
        "174      894   0.951338\n",
        "175      895   0.951823\n",
        "176      898   0.953276\n",
        "177      900   0.954243\n",
        "178      910   0.959041\n",
        "179      912   0.959995\n",
        "180      914   0.960946\n",
        "181      914   0.960946\n",
        "182      914   0.960946\n",
        "183      916   0.961895\n",
        "184      923   0.965202\n",
        "185      924   0.965672\n",
        "186      931   0.968950\n",
        "187      934   0.970347\n",
        "188      937   0.971740\n",
        "189      957   0.980912\n",
        "190      964   0.984077\n",
        "191      967   0.985426\n",
        "192      968   0.985875\n",
        "193      969   0.986324\n",
        "194      976   0.989450\n",
        "195      976   0.989450\n",
        "196      982   0.992111\n",
        "197      993   0.996949\n",
        "198      995   0.997823\n",
        "199      999   0.999565\n",
        "\n",
        "[200 rows x 2 columns]"
       ]
      }
     ],
     "prompt_number": 14
    },
    {
     "cell_type": "code",
     "collapsed": false,
     "input": [
      "plt.plot(tt.numbers, tt.mantissas)"
     ],
     "language": "python",
     "metadata": {},
     "outputs": [
      {
       "metadata": {},
       "output_type": "pyout",
       "prompt_number": 15,
       "text": [
        "[<matplotlib.lines.Line2D at 0x7f791cabcf50>]"
       ]
      },
      {
       "metadata": {},
       "output_type": "display_data",
       "png": "[encoded data removed]",
       "text": [
        "<matplotlib.figure.Figure at 0x7f791cab5c90>"
       ]
      }
     ],
     "prompt_number": 15
    },
    {
     "cell_type": "code",
     "collapsed": false,
     "input": [
      "plt.plot(np.arange(len(tt)), tt.mantissas)"
     ],
     "language": "python",
     "metadata": {},
     "outputs": [
      {
       "metadata": {},
       "output_type": "pyout",
       "prompt_number": 16,
       "text": [
        "[<matplotlib.lines.Line2D at 0x7f791c9b2050>]"
       ]
      },
      {
       "metadata": {},
       "output_type": "display_data",
       "png": "[encoded data removed]",
       "text": [
        "<matplotlib.figure.Figure at 0x7f791ca65150>"
       ]
      }
     ],
     "prompt_number": 16
    },
    {
     "cell_type": "code",
     "collapsed": false,
     "input": [
      "tt['m2'] = _get_mantissas_(tt.numbers)\n",
      "sum(tt.mantissas!=tt.m2)"
     ],
     "language": "python",
     "metadata": {},
     "outputs": [
      {
       "metadata": {},
       "output_type": "pyout",
       "prompt_number": 17,
       "text": [
        "0"
       ]
      }
     ],
     "prompt_number": 17
    },
    {
     "cell_type": "code",
     "collapsed": false,
     "input": [
      "tt['ms']=tt.m2.cumsum()\n",
      "plt.plot(np.arange(len(tt.ms)), tt.ms)"
     ],
     "language": "python",
     "metadata": {},
     "outputs": [
      {
       "metadata": {},
       "output_type": "pyout",
       "prompt_number": 18,
       "text": [
        "[<matplotlib.lines.Line2D at 0x7f791c8d0950>]"
       ]
      },
      {
       "metadata": {},
       "output_type": "display_data",
       "png": "[encoded data removed]",
       "text": [
        "<matplotlib.figure.Figure at 0x7f791ca439d0>"
       ]
      }
     ],
     "prompt_number": 18
    },
    {
     "cell_type": "code",
     "collapsed": false,
     "input": [
      "h = 9.234\n",
      "h*=100\n",
      "str(h)[:2]"
     ],
     "language": "python",
     "metadata": {},
     "outputs": [
      {
       "metadata": {},
       "output_type": "pyout",
       "prompt_number": 19,
       "text": [
        "'92'"
       ]
      }
     ],
     "prompt_number": 19
    },
    {
     "cell_type": "code",
     "collapsed": false,
     "input": [
      "len(str((1/m[3]).astype(int)))"
     ],
     "language": "python",
     "metadata": {},
     "outputs": [
      {
       "metadata": {},
       "output_type": "pyout",
       "prompt_number": 20,
       "text": [
        "2"
       ]
      }
     ],
     "prompt_number": 20
    },
    {
     "cell_type": "code",
     "collapsed": false,
     "input": [
      "eb = np.arange(10,100).reshape(90,1)\n",
      "eb = eb.astype(str)\n",
      "eb[:,0]"
     ],
     "language": "python",
     "metadata": {},
     "outputs": [
      {
       "metadata": {},
       "output_type": "pyout",
       "prompt_number": 21,
       "text": [
        "array(['10', '11', '12', '13', '14', '15', '16', '17', '18', '19', '20',\n",
        "       '21', '22', '23', '24', '25', '26', '27', '28', '29', '30', '31',\n",
        "       '32', '33', '34', '35', '36', '37', '38', '39', '40', '41', '42',\n",
        "       '43', '44', '45', '46', '47', '48', '49', '50', '51', '52', '53',\n",
        "       '54', '55', '56', '57', '58', '59', '60', '61', '62', '63', '64',\n",
        "       '65', '66', '67', '68', '69', '70', '71', '72', '73', '74', '75',\n",
        "       '76', '77', '78', '79', '80', '81', '82', '83', '84', '85', '86',\n",
        "       '87', '88', '89', '90', '91', '92', '93', '94', '95', '96', '97',\n",
        "       '98', '99'], \n",
        "      dtype='|S21')"
       ]
      }
     ],
     "prompt_number": 21
    },
    {
     "cell_type": "code",
     "collapsed": false,
     "input": [
      "eb = np.arange(10,100)\n",
      "eb = eb.astype(str)\n",
      "f = np.array([l[0] for l in eb]).reshape(90,1)\n",
      "s = np.array([l[1] for l in eb]).reshape(90,1)\n",
      "eb = np.hstack((f,s)).astype(int)\n",
      "eb[:,0]"
     ],
     "language": "python",
     "metadata": {},
     "outputs": [
      {
       "metadata": {},
       "output_type": "pyout",
       "prompt_number": 22,
       "text": [
        "array([1, 1, 1, 1, 1, 1, 1, 1, 1, 1, 2, 2, 2, 2, 2, 2, 2, 2, 2, 2, 3, 3, 3,\n",
        "       3, 3, 3, 3, 3, 3, 3, 4, 4, 4, 4, 4, 4, 4, 4, 4, 4, 5, 5, 5, 5, 5, 5,\n",
        "       5, 5, 5, 5, 6, 6, 6, 6, 6, 6, 6, 6, 6, 6, 7, 7, 7, 7, 7, 7, 7, 7, 7,\n",
        "       7, 8, 8, 8, 8, 8, 8, 8, 8, 8, 8, 9, 9, 9, 9, 9, 9, 9, 9, 9, 9])"
       ]
      }
     ],
     "prompt_number": 22
    },
    {
     "cell_type": "code",
     "collapsed": false,
     "input": [
      "e2 = np.arange(10,100)\n",
      "p = np.log10(1+(1./e2))\n",
      "plt.bar(e2,p)"
     ],
     "language": "python",
     "metadata": {},
     "outputs": [
      {
       "metadata": {},
       "output_type": "pyout",
       "prompt_number": 23,
       "text": [
        "<Container object of 90 artists>"
       ]
      },
      {
       "metadata": {},
       "output_type": "display_data",
       "png": "[encoded data removed]",
       "text": [
        "<matplotlib.figure.Figure at 0x7f791c8fdc90>"
       ]
      }
     ],
     "prompt_number": 23
    },
    {
     "cell_type": "code",
     "collapsed": false,
     "input": [
      "e3 = e2.astype(str)\n",
      "s = np.array([l[1] for l in e3]).astype(int)\n",
      "p[s == 0].sum()"
     ],
     "language": "python",
     "metadata": {},
     "outputs": [
      {
       "metadata": {},
       "output_type": "pyout",
       "prompt_number": 24,
       "text": [
        "0.11967926859688073"
       ]
      }
     ],
     "prompt_number": 24
    },
    {
     "cell_type": "code",
     "collapsed": false,
     "input": [
      "def __first__(output_DF=True):\n",
      "\t'''\n",
      "\tReturns the expected probabilities of the first digits\n",
      "\taccording to Benford's distribution.\n",
      "\t\n",
      "\t- output_DF: Defaluts to True, outputing a pandas DataFrame\n",
      "\t\t\t\twith the probabilities, and the respective\n",
      "\t\t\t\tdigits as the index, or a numpy array if False, when\n",
      "\t\t\t\tthere will not be an index, and one must remember\n",
      "\t\t\t\tthat the indexing for the 1 probability will be \n",
      "\t\t\t\t[0], [1] for the two, and so on up untill [8] for\n",
      "\t\t\t\tthe probability of the first digit 9.\n",
      "\t'''\n",
      "\tFirst_Dig = np.arange(1,10)\n",
      "\tExpected = np.log10(1 + (1. / First_Dig))\n",
      "\tif output_DF == False:\n",
      "\t\treturn Expected\n",
      "\telse:\n",
      "\t\treturn pd.DataFrame({'Expected':Expected,\\\n",
      "\t\t\t'First_Dig':First_Dig}).set_index('First_Dig')"
     ],
     "language": "python",
     "metadata": {},
     "outputs": [],
     "prompt_number": 25
    },
    {
     "cell_type": "code",
     "collapsed": false,
     "input": [
      "np.array(range(10)*10)"
     ],
     "language": "python",
     "metadata": {},
     "outputs": [
      {
       "metadata": {},
       "output_type": "pyout",
       "prompt_number": 26,
       "text": [
        "array([0, 1, 2, 3, 4, 5, 6, 7, 8, 9, 0, 1, 2, 3, 4, 5, 6, 7, 8, 9, 0, 1, 2,\n",
        "       3, 4, 5, 6, 7, 8, 9, 0, 1, 2, 3, 4, 5, 6, 7, 8, 9, 0, 1, 2, 3, 4, 5,\n",
        "       6, 7, 8, 9, 0, 1, 2, 3, 4, 5, 6, 7, 8, 9, 0, 1, 2, 3, 4, 5, 6, 7, 8,\n",
        "       9, 0, 1, 2, 3, 4, 5, 6, 7, 8, 9, 0, 1, 2, 3, 4, 5, 6, 7, 8, 9, 0, 1,\n",
        "       2, 3, 4, 5, 6, 7, 8, 9])"
       ]
      }
     ],
     "prompt_number": 26
    },
    {
     "cell_type": "code",
     "collapsed": false,
     "input": [
      "__first__()"
     ],
     "language": "python",
     "metadata": {},
     "outputs": [
      {
       "html": [
        "<div style=\"max-height:1000px;max-width:1500px;overflow:auto;\">\n",
        "<table border=\"1\" class=\"dataframe\">\n",
        "  <thead>\n",
        "    <tr style=\"text-align: right;\">\n",
        "      <th></th>\n",
        "      <th>Expected</th>\n",
        "    </tr>\n",
        "    <tr>\n",
        "      <th>First_Dig</th>\n",
        "      <th></th>\n",
        "    </tr>\n",
        "  </thead>\n",
        "  <tbody>\n",
        "    <tr>\n",
        "      <th>1</th>\n",
        "      <td> 0.301030</td>\n",
        "    </tr>\n",
        "    <tr>\n",
        "      <th>2</th>\n",
        "      <td> 0.176091</td>\n",
        "    </tr>\n",
        "    <tr>\n",
        "      <th>3</th>\n",
        "      <td> 0.124939</td>\n",
        "    </tr>\n",
        "    <tr>\n",
        "      <th>4</th>\n",
        "      <td> 0.096910</td>\n",
        "    </tr>\n",
        "    <tr>\n",
        "      <th>5</th>\n",
        "      <td> 0.079181</td>\n",
        "    </tr>\n",
        "    <tr>\n",
        "      <th>6</th>\n",
        "      <td> 0.066947</td>\n",
        "    </tr>\n",
        "    <tr>\n",
        "      <th>7</th>\n",
        "      <td> 0.057992</td>\n",
        "    </tr>\n",
        "    <tr>\n",
        "      <th>8</th>\n",
        "      <td> 0.051153</td>\n",
        "    </tr>\n",
        "    <tr>\n",
        "      <th>9</th>\n",
        "      <td> 0.045757</td>\n",
        "    </tr>\n",
        "  </tbody>\n",
        "</table>\n",
        "</div>"
       ],
       "metadata": {},
       "output_type": "pyout",
       "prompt_number": 27,
       "text": [
        "           Expected\n",
        "First_Dig          \n",
        "1          0.301030\n",
        "2          0.176091\n",
        "3          0.124939\n",
        "4          0.096910\n",
        "5          0.079181\n",
        "6          0.066947\n",
        "7          0.057992\n",
        "8          0.051153\n",
        "9          0.045757"
       ]
      }
     ],
     "prompt_number": 27
    },
    {
     "cell_type": "code",
     "collapsed": false,
     "input": [
      "a6 = np.arange(1,10)\n",
      "plt.bar(a6,__first__().Expected)"
     ],
     "language": "python",
     "metadata": {},
     "outputs": [
      {
       "metadata": {},
       "output_type": "pyout",
       "prompt_number": 28,
       "text": [
        "<Container object of 9 artists>"
       ]
      },
      {
       "metadata": {},
       "output_type": "display_data",
       "png": "[encoded data removed]",
       "text": [
        "<matplotlib.figure.Figure at 0x7f791c637090>"
       ]
      }
     ],
     "prompt_number": 28
    },
    {
     "cell_type": "code",
     "collapsed": false,
     "input": [
      "def __second__(output_DF=True):\n",
      "\t'''\n",
      "\tReturns the expected probabilities of the second digits\n",
      "\taccording to Benford's distribution.\n",
      "\t\n",
      "\toutput_DF: Defaluts to Ture, Outputing a pandas DataFrame\n",
      "\t\t\twith the digit as index and the respective probability\n",
      "\t\t\tin the 'prob' column, or a numpy array if False. In\n",
      "\t\t\tthis case, coincidently the indexing within the array\n",
      "\t\t\twill match the second digits -> [0] - prob. of 0,\n",
      "\t\t\t[1] - prob of 1, and sort\ton up untill [9] - prob of 9.\n",
      "\t'''\n",
      "\ta = np.arange(10,100)\n",
      "\tExpected = np.log10(1 + (1. / a))\n",
      "\tSec_Dig = np.array(range(10)*9)\n",
      "\tif output_DF == False:\n",
      "\t\tc = np.zeros(10)\n",
      "\t\tfor n in Sec_Dig:\n",
      "\t\t\tc[n] = Expected[Sec_Dig == n].sum()\n",
      "\t\treturn c\n",
      "\telse:\n",
      "\t\td = pd.DataFrame({'Expected': Expected, 'Sec_Dig': Sec_Dig},\\\n",
      "\t\tindex = a)\n",
      "\t\treturn d.groupby('Sec_Dig').agg(sum)"
     ],
     "language": "python",
     "metadata": {},
     "outputs": [],
     "prompt_number": 29
    },
    {
     "cell_type": "code",
     "collapsed": false,
     "input": [
      "__second__()"
     ],
     "language": "python",
     "metadata": {},
     "outputs": [
      {
       "html": [
        "<div style=\"max-height:1000px;max-width:1500px;overflow:auto;\">\n",
        "<table border=\"1\" class=\"dataframe\">\n",
        "  <thead>\n",
        "    <tr style=\"text-align: right;\">\n",
        "      <th></th>\n",
        "      <th>Expected</th>\n",
        "    </tr>\n",
        "    <tr>\n",
        "      <th>Sec_Dig</th>\n",
        "      <th></th>\n",
        "    </tr>\n",
        "  </thead>\n",
        "  <tbody>\n",
        "    <tr>\n",
        "      <th>0</th>\n",
        "      <td> 0.119679</td>\n",
        "    </tr>\n",
        "    <tr>\n",
        "      <th>1</th>\n",
        "      <td> 0.113890</td>\n",
        "    </tr>\n",
        "    <tr>\n",
        "      <th>2</th>\n",
        "      <td> 0.108821</td>\n",
        "    </tr>\n",
        "    <tr>\n",
        "      <th>3</th>\n",
        "      <td> 0.104330</td>\n",
        "    </tr>\n",
        "    <tr>\n",
        "      <th>4</th>\n",
        "      <td> 0.100308</td>\n",
        "    </tr>\n",
        "    <tr>\n",
        "      <th>5</th>\n",
        "      <td> 0.096677</td>\n",
        "    </tr>\n",
        "    <tr>\n",
        "      <th>6</th>\n",
        "      <td> 0.093375</td>\n",
        "    </tr>\n",
        "    <tr>\n",
        "      <th>7</th>\n",
        "      <td> 0.090352</td>\n",
        "    </tr>\n",
        "    <tr>\n",
        "      <th>8</th>\n",
        "      <td> 0.087570</td>\n",
        "    </tr>\n",
        "    <tr>\n",
        "      <th>9</th>\n",
        "      <td> 0.084997</td>\n",
        "    </tr>\n",
        "  </tbody>\n",
        "</table>\n",
        "</div>"
       ],
       "metadata": {},
       "output_type": "pyout",
       "prompt_number": 30,
       "text": [
        "         Expected\n",
        "Sec_Dig          \n",
        "0        0.119679\n",
        "1        0.113890\n",
        "2        0.108821\n",
        "3        0.104330\n",
        "4        0.100308\n",
        "5        0.096677\n",
        "6        0.093375\n",
        "7        0.090352\n",
        "8        0.087570\n",
        "9        0.084997"
       ]
      }
     ],
     "prompt_number": 30
    },
    {
     "cell_type": "code",
     "collapsed": false,
     "input": [
      "a5 = np.arange(0,10)\n",
      "plt.plot(a5, __second__().Expected)\n",
      "plt.ylim((0,.15))"
     ],
     "language": "python",
     "metadata": {},
     "outputs": [
      {
       "metadata": {},
       "output_type": "pyout",
       "prompt_number": 31,
       "text": [
        "(0, 0.15)"
       ]
      },
      {
       "metadata": {},
       "output_type": "display_data",
       "png": "[encoded data removed]",
       "text": [
        "<matplotlib.figure.Figure at 0x7f791c511890>"
       ]
      }
     ],
     "prompt_number": 31
    },
    {
     "cell_type": "code",
     "collapsed": false,
     "input": [
      "g =__first__()\n",
      "g"
     ],
     "language": "python",
     "metadata": {},
     "outputs": [
      {
       "html": [
        "<div style=\"max-height:1000px;max-width:1500px;overflow:auto;\">\n",
        "<table border=\"1\" class=\"dataframe\">\n",
        "  <thead>\n",
        "    <tr style=\"text-align: right;\">\n",
        "      <th></th>\n",
        "      <th>Expected</th>\n",
        "    </tr>\n",
        "    <tr>\n",
        "      <th>First_Dig</th>\n",
        "      <th></th>\n",
        "    </tr>\n",
        "  </thead>\n",
        "  <tbody>\n",
        "    <tr>\n",
        "      <th>1</th>\n",
        "      <td> 0.301030</td>\n",
        "    </tr>\n",
        "    <tr>\n",
        "      <th>2</th>\n",
        "      <td> 0.176091</td>\n",
        "    </tr>\n",
        "    <tr>\n",
        "      <th>3</th>\n",
        "      <td> 0.124939</td>\n",
        "    </tr>\n",
        "    <tr>\n",
        "      <th>4</th>\n",
        "      <td> 0.096910</td>\n",
        "    </tr>\n",
        "    <tr>\n",
        "      <th>5</th>\n",
        "      <td> 0.079181</td>\n",
        "    </tr>\n",
        "    <tr>\n",
        "      <th>6</th>\n",
        "      <td> 0.066947</td>\n",
        "    </tr>\n",
        "    <tr>\n",
        "      <th>7</th>\n",
        "      <td> 0.057992</td>\n",
        "    </tr>\n",
        "    <tr>\n",
        "      <th>8</th>\n",
        "      <td> 0.051153</td>\n",
        "    </tr>\n",
        "    <tr>\n",
        "      <th>9</th>\n",
        "      <td> 0.045757</td>\n",
        "    </tr>\n",
        "  </tbody>\n",
        "</table>\n",
        "</div>"
       ],
       "metadata": {},
       "output_type": "pyout",
       "prompt_number": 32,
       "text": [
        "           Expected\n",
        "First_Dig          \n",
        "1          0.301030\n",
        "2          0.176091\n",
        "3          0.124939\n",
        "4          0.096910\n",
        "5          0.079181\n",
        "6          0.066947\n",
        "7          0.057992\n",
        "8          0.051153\n",
        "9          0.045757"
       ]
      }
     ],
     "prompt_number": 32
    },
    {
     "cell_type": "code",
     "collapsed": false,
     "input": [
      "__second__()"
     ],
     "language": "python",
     "metadata": {},
     "outputs": [
      {
       "html": [
        "<div style=\"max-height:1000px;max-width:1500px;overflow:auto;\">\n",
        "<table border=\"1\" class=\"dataframe\">\n",
        "  <thead>\n",
        "    <tr style=\"text-align: right;\">\n",
        "      <th></th>\n",
        "      <th>Expected</th>\n",
        "    </tr>\n",
        "    <tr>\n",
        "      <th>Sec_Dig</th>\n",
        "      <th></th>\n",
        "    </tr>\n",
        "  </thead>\n",
        "  <tbody>\n",
        "    <tr>\n",
        "      <th>0</th>\n",
        "      <td> 0.119679</td>\n",
        "    </tr>\n",
        "    <tr>\n",
        "      <th>1</th>\n",
        "      <td> 0.113890</td>\n",
        "    </tr>\n",
        "    <tr>\n",
        "      <th>2</th>\n",
        "      <td> 0.108821</td>\n",
        "    </tr>\n",
        "    <tr>\n",
        "      <th>3</th>\n",
        "      <td> 0.104330</td>\n",
        "    </tr>\n",
        "    <tr>\n",
        "      <th>4</th>\n",
        "      <td> 0.100308</td>\n",
        "    </tr>\n",
        "    <tr>\n",
        "      <th>5</th>\n",
        "      <td> 0.096677</td>\n",
        "    </tr>\n",
        "    <tr>\n",
        "      <th>6</th>\n",
        "      <td> 0.093375</td>\n",
        "    </tr>\n",
        "    <tr>\n",
        "      <th>7</th>\n",
        "      <td> 0.090352</td>\n",
        "    </tr>\n",
        "    <tr>\n",
        "      <th>8</th>\n",
        "      <td> 0.087570</td>\n",
        "    </tr>\n",
        "    <tr>\n",
        "      <th>9</th>\n",
        "      <td> 0.084997</td>\n",
        "    </tr>\n",
        "  </tbody>\n",
        "</table>\n",
        "</div>"
       ],
       "metadata": {},
       "output_type": "pyout",
       "prompt_number": 33,
       "text": [
        "         Expected\n",
        "Sec_Dig          \n",
        "0        0.119679\n",
        "1        0.113890\n",
        "2        0.108821\n",
        "3        0.104330\n",
        "4        0.100308\n",
        "5        0.096677\n",
        "6        0.093375\n",
        "7        0.090352\n",
        "8        0.087570\n",
        "9        0.084997"
       ]
      }
     ],
     "prompt_number": 33
    },
    {
     "cell_type": "code",
     "collapsed": false,
     "input": [
      "def __firstTwo__(output_DF=True):\n",
      "\t'''\n",
      "\tReturns the expected probabilities of the first two digits\n",
      "\taccording to Benford's distribution.\n",
      "\t\n",
      "\t- output_DF: Defaluts to Ture, Outputing a pandas DataFrame\n",
      "\t\t\t\tobject with the probabilities and the respective\n",
      "\t\t\t\tdigits as the index, or a numpy array if False, when\n",
      "\t\t\t\tthere will not be an index column, and one must\n",
      "\t\t\t\tremember that the indexing for the 10 probability\n",
      "\t\t\t\twill be [0], [1] for 11, and so on up untill [89] for\n",
      "\t\t\t\tthe probability of the first digit 99.\n",
      "\t'''\n",
      "\tFirst_2_Dig = np.arange(10,100)\n",
      "\tExpected = np.log10(1 + (1. / First_2_Dig))\n",
      "\tif output_DF == False:\n",
      "\t\treturn Expected\n",
      "\telse:\n",
      "\t\treturn pd.DataFrame({'First_2_Dig':First_2_Dig,\\\n",
      "\t\t\t'Expected':Expected}).set_index('First_2_Dig')"
     ],
     "language": "python",
     "metadata": {},
     "outputs": [],
     "prompt_number": 34
    },
    {
     "cell_type": "code",
     "collapsed": false,
     "input": [
      "__firstTwo__().head()"
     ],
     "language": "python",
     "metadata": {},
     "outputs": [
      {
       "html": [
        "<div style=\"max-height:1000px;max-width:1500px;overflow:auto;\">\n",
        "<table border=\"1\" class=\"dataframe\">\n",
        "  <thead>\n",
        "    <tr style=\"text-align: right;\">\n",
        "      <th></th>\n",
        "      <th>Expected</th>\n",
        "    </tr>\n",
        "    <tr>\n",
        "      <th>First_2_Dig</th>\n",
        "      <th></th>\n",
        "    </tr>\n",
        "  </thead>\n",
        "  <tbody>\n",
        "    <tr>\n",
        "      <th>10</th>\n",
        "      <td> 0.041393</td>\n",
        "    </tr>\n",
        "    <tr>\n",
        "      <th>11</th>\n",
        "      <td> 0.037789</td>\n",
        "    </tr>\n",
        "    <tr>\n",
        "      <th>12</th>\n",
        "      <td> 0.034762</td>\n",
        "    </tr>\n",
        "    <tr>\n",
        "      <th>13</th>\n",
        "      <td> 0.032185</td>\n",
        "    </tr>\n",
        "    <tr>\n",
        "      <th>14</th>\n",
        "      <td> 0.029963</td>\n",
        "    </tr>\n",
        "  </tbody>\n",
        "</table>\n",
        "</div>"
       ],
       "metadata": {},
       "output_type": "pyout",
       "prompt_number": 35,
       "text": [
        "             Expected\n",
        "First_2_Dig          \n",
        "10           0.041393\n",
        "11           0.037789\n",
        "12           0.034762\n",
        "13           0.032185\n",
        "14           0.029963"
       ]
      }
     ],
     "prompt_number": 35
    },
    {
     "cell_type": "code",
     "collapsed": false,
     "input": [
      "r = np.absolute(1000 * np.random.randn(1000))\n",
      "r[:10]"
     ],
     "language": "python",
     "metadata": {},
     "outputs": [
      {
       "metadata": {},
       "output_type": "pyout",
       "prompt_number": 36,
       "text": [
        "array([  588.06754044,   360.95674792,  1809.1437578 ,  1660.79170905,\n",
        "         769.33537347,  1599.63557143,    57.45867027,  2281.33176619,\n",
        "         720.77767976,  1443.14375994])"
       ]
      }
     ],
     "prompt_number": 36
    },
    {
     "cell_type": "code",
     "collapsed": false,
     "input": [
      "a = pd.Series(r)\n",
      "a.head()"
     ],
     "language": "python",
     "metadata": {},
     "outputs": [
      {
       "metadata": {},
       "output_type": "pyout",
       "prompt_number": 37,
       "text": [
        "0     588.067540\n",
        "1     360.956748\n",
        "2    1809.143758\n",
        "3    1660.791709\n",
        "4     769.335373\n",
        "dtype: float64"
       ]
      }
     ],
     "prompt_number": 37
    },
    {
     "cell_type": "code",
     "collapsed": false,
     "input": [
      "a = a[a >= 10]\n",
      "a.head()"
     ],
     "language": "python",
     "metadata": {},
     "outputs": [
      {
       "metadata": {},
       "output_type": "pyout",
       "prompt_number": 38,
       "text": [
        "0     588.067540\n",
        "1     360.956748\n",
        "2    1809.143758\n",
        "3    1660.791709\n",
        "4     769.335373\n",
        "dtype: float64"
       ]
      }
     ],
     "prompt_number": 38
    },
    {
     "cell_type": "code",
     "collapsed": false,
     "input": [
      "a = a.apply(str).apply(lambda x: x[:2]).apply(int)\n",
      "a.head()"
     ],
     "language": "python",
     "metadata": {},
     "outputs": [
      {
       "metadata": {},
       "output_type": "pyout",
       "prompt_number": 39,
       "text": [
        "0    58\n",
        "1    36\n",
        "2    18\n",
        "3    16\n",
        "4    76\n",
        "dtype: int64"
       ]
      }
     ],
     "prompt_number": 39
    },
    {
     "cell_type": "code",
     "collapsed": false,
     "input": [
      "v = a.value_counts()\n",
      "v.head()"
     ],
     "language": "python",
     "metadata": {},
     "outputs": [
      {
       "metadata": {},
       "output_type": "pyout",
       "prompt_number": 40,
       "text": [
        "10    46\n",
        "11    46\n",
        "12    45\n",
        "15    43\n",
        "16    39\n",
        "dtype: int64"
       ]
      }
     ],
     "prompt_number": 40
    },
    {
     "cell_type": "code",
     "collapsed": false,
     "input": [
      "p = a.value_counts(normalize=True)\n",
      "p.head()"
     ],
     "language": "python",
     "metadata": {},
     "outputs": [
      {
       "metadata": {},
       "output_type": "pyout",
       "prompt_number": 41,
       "text": [
        "10    0.046371\n",
        "11    0.046371\n",
        "12    0.045363\n",
        "15    0.043347\n",
        "16    0.039315\n",
        "dtype: float64"
       ]
      }
     ],
     "prompt_number": 41
    },
    {
     "cell_type": "code",
     "collapsed": false,
     "input": [
      "df = pd.DataFrame({'Counts': v, 'Found': p}).sort_index()\n",
      "df.head()"
     ],
     "language": "python",
     "metadata": {},
     "outputs": [
      {
       "html": [
        "<div style=\"max-height:1000px;max-width:1500px;overflow:auto;\">\n",
        "<table border=\"1\" class=\"dataframe\">\n",
        "  <thead>\n",
        "    <tr style=\"text-align: right;\">\n",
        "      <th></th>\n",
        "      <th>Counts</th>\n",
        "      <th>Found</th>\n",
        "    </tr>\n",
        "  </thead>\n",
        "  <tbody>\n",
        "    <tr>\n",
        "      <th>10</th>\n",
        "      <td> 46</td>\n",
        "      <td> 0.046371</td>\n",
        "    </tr>\n",
        "    <tr>\n",
        "      <th>11</th>\n",
        "      <td> 46</td>\n",
        "      <td> 0.046371</td>\n",
        "    </tr>\n",
        "    <tr>\n",
        "      <th>12</th>\n",
        "      <td> 45</td>\n",
        "      <td> 0.045363</td>\n",
        "    </tr>\n",
        "    <tr>\n",
        "      <th>13</th>\n",
        "      <td> 28</td>\n",
        "      <td> 0.028226</td>\n",
        "    </tr>\n",
        "    <tr>\n",
        "      <th>14</th>\n",
        "      <td> 27</td>\n",
        "      <td> 0.027218</td>\n",
        "    </tr>\n",
        "  </tbody>\n",
        "</table>\n",
        "</div>"
       ],
       "metadata": {},
       "output_type": "pyout",
       "prompt_number": 42,
       "text": [
        "    Counts     Found\n",
        "10      46  0.046371\n",
        "11      46  0.046371\n",
        "12      45  0.045363\n",
        "13      28  0.028226\n",
        "14      27  0.027218"
       ]
      }
     ],
     "prompt_number": 42
    },
    {
     "cell_type": "code",
     "collapsed": false,
     "input": [
      "len(df.index)"
     ],
     "language": "python",
     "metadata": {},
     "outputs": [
      {
       "metadata": {},
       "output_type": "pyout",
       "prompt_number": 43,
       "text": [
        "90"
       ]
      }
     ],
     "prompt_number": 43
    },
    {
     "cell_type": "code",
     "collapsed": false,
     "input": [
      "# if len(df.index<90):\n",
      "df2 = df.reindex(np.arange(10,100))\n"
     ],
     "language": "python",
     "metadata": {},
     "outputs": [],
     "prompt_number": 44
    },
    {
     "cell_type": "code",
     "collapsed": false,
     "input": [
      "df2.ix[df2.Counts.isnull()]"
     ],
     "language": "python",
     "metadata": {},
     "outputs": [
      {
       "html": [
        "<div style=\"max-height:1000px;max-width:1500px;overflow:auto;\">\n",
        "<table border=\"1\" class=\"dataframe\">\n",
        "  <thead>\n",
        "    <tr style=\"text-align: right;\">\n",
        "      <th></th>\n",
        "      <th>Counts</th>\n",
        "      <th>Found</th>\n",
        "    </tr>\n",
        "  </thead>\n",
        "  <tbody>\n",
        "  </tbody>\n",
        "</table>\n",
        "</div>"
       ],
       "metadata": {},
       "output_type": "pyout",
       "prompt_number": 45,
       "text": [
        "Empty DataFrame\n",
        "Columns: [Counts, Found]\n",
        "Index: []"
       ]
      }
     ],
     "prompt_number": 45
    },
    {
     "cell_type": "code",
     "collapsed": false,
     "input": [
      "df2 = df2.fillna(0)\n",
      "df2.ix[df2.Counts.isnull()]"
     ],
     "language": "python",
     "metadata": {},
     "outputs": [
      {
       "html": [
        "<div style=\"max-height:1000px;max-width:1500px;overflow:auto;\">\n",
        "<table border=\"1\" class=\"dataframe\">\n",
        "  <thead>\n",
        "    <tr style=\"text-align: right;\">\n",
        "      <th></th>\n",
        "      <th>Counts</th>\n",
        "      <th>Found</th>\n",
        "    </tr>\n",
        "  </thead>\n",
        "  <tbody>\n",
        "  </tbody>\n",
        "</table>\n",
        "</div>"
       ],
       "metadata": {},
       "output_type": "pyout",
       "prompt_number": 46,
       "text": [
        "Empty DataFrame\n",
        "Columns: [Counts, Found]\n",
        "Index: []"
       ]
      }
     ],
     "prompt_number": 46
    },
    {
     "cell_type": "code",
     "collapsed": false,
     "input": [
      "df2 = __firstTwo__().join(df2)\n",
      "df2.head()"
     ],
     "language": "python",
     "metadata": {},
     "outputs": [
      {
       "html": [
        "<div style=\"max-height:1000px;max-width:1500px;overflow:auto;\">\n",
        "<table border=\"1\" class=\"dataframe\">\n",
        "  <thead>\n",
        "    <tr style=\"text-align: right;\">\n",
        "      <th></th>\n",
        "      <th>Expected</th>\n",
        "      <th>Counts</th>\n",
        "      <th>Found</th>\n",
        "    </tr>\n",
        "    <tr>\n",
        "      <th>First_2_Dig</th>\n",
        "      <th></th>\n",
        "      <th></th>\n",
        "      <th></th>\n",
        "    </tr>\n",
        "  </thead>\n",
        "  <tbody>\n",
        "    <tr>\n",
        "      <th>10</th>\n",
        "      <td> 0.041393</td>\n",
        "      <td> 46</td>\n",
        "      <td> 0.046371</td>\n",
        "    </tr>\n",
        "    <tr>\n",
        "      <th>11</th>\n",
        "      <td> 0.037789</td>\n",
        "      <td> 46</td>\n",
        "      <td> 0.046371</td>\n",
        "    </tr>\n",
        "    <tr>\n",
        "      <th>12</th>\n",
        "      <td> 0.034762</td>\n",
        "      <td> 45</td>\n",
        "      <td> 0.045363</td>\n",
        "    </tr>\n",
        "    <tr>\n",
        "      <th>13</th>\n",
        "      <td> 0.032185</td>\n",
        "      <td> 28</td>\n",
        "      <td> 0.028226</td>\n",
        "    </tr>\n",
        "    <tr>\n",
        "      <th>14</th>\n",
        "      <td> 0.029963</td>\n",
        "      <td> 27</td>\n",
        "      <td> 0.027218</td>\n",
        "    </tr>\n",
        "  </tbody>\n",
        "</table>\n",
        "</div>"
       ],
       "metadata": {},
       "output_type": "pyout",
       "prompt_number": 47,
       "text": [
        "             Expected  Counts     Found\n",
        "First_2_Dig                            \n",
        "10           0.041393      46  0.046371\n",
        "11           0.037789      46  0.046371\n",
        "12           0.034762      45  0.045363\n",
        "13           0.032185      28  0.028226\n",
        "14           0.029963      27  0.027218"
       ]
      }
     ],
     "prompt_number": 47
    },
    {
     "cell_type": "code",
     "collapsed": false,
     "input": [
      "fig = plt.figure(figsize=(15,10))\n",
      "ax = fig.add_subplot(111)\n",
      "ax.bar(df2.index, df2.Found)\n",
      "ax.plot(df2.index,df2.Expected, color='r',linewidth=2.5)\n",
      "\n"
     ],
     "language": "python",
     "metadata": {},
     "outputs": [
      {
       "metadata": {},
       "output_type": "pyout",
       "prompt_number": 48,
       "text": [
        "[<matplotlib.lines.Line2D at 0x7f791c439890>]"
       ]
      },
      {
       "metadata": {},
       "output_type": "display_data",
       "png": "[encoded data removed]",
       "text": [
        "<matplotlib.figure.Figure at 0x7f791c511790>"
       ]
      }
     ],
     "prompt_number": 48
    },
    {
     "cell_type": "code",
     "collapsed": false,
     "input": [
      "df2['AbsDif'] = np.absolute(df2.Found - df2.Expected)\n",
      "df2[30:40]"
     ],
     "language": "python",
     "metadata": {},
     "outputs": [
      {
       "html": [
        "<div style=\"max-height:1000px;max-width:1500px;overflow:auto;\">\n",
        "<table border=\"1\" class=\"dataframe\">\n",
        "  <thead>\n",
        "    <tr style=\"text-align: right;\">\n",
        "      <th></th>\n",
        "      <th>Expected</th>\n",
        "      <th>Counts</th>\n",
        "      <th>Found</th>\n",
        "      <th>AbsDif</th>\n",
        "    </tr>\n",
        "    <tr>\n",
        "      <th>First_2_Dig</th>\n",
        "      <th></th>\n",
        "      <th></th>\n",
        "      <th></th>\n",
        "      <th></th>\n",
        "    </tr>\n",
        "  </thead>\n",
        "  <tbody>\n",
        "    <tr>\n",
        "      <th>40</th>\n",
        "      <td> 0.010724</td>\n",
        "      <td>  9</td>\n",
        "      <td> 0.009073</td>\n",
        "      <td> 0.001651</td>\n",
        "    </tr>\n",
        "    <tr>\n",
        "      <th>41</th>\n",
        "      <td> 0.010465</td>\n",
        "      <td> 15</td>\n",
        "      <td> 0.015121</td>\n",
        "      <td> 0.004656</td>\n",
        "    </tr>\n",
        "    <tr>\n",
        "      <th>42</th>\n",
        "      <td> 0.010219</td>\n",
        "      <td>  8</td>\n",
        "      <td> 0.008065</td>\n",
        "      <td> 0.002155</td>\n",
        "    </tr>\n",
        "    <tr>\n",
        "      <th>43</th>\n",
        "      <td> 0.009984</td>\n",
        "      <td>  3</td>\n",
        "      <td> 0.003024</td>\n",
        "      <td> 0.006960</td>\n",
        "    </tr>\n",
        "    <tr>\n",
        "      <th>44</th>\n",
        "      <td> 0.009760</td>\n",
        "      <td>  8</td>\n",
        "      <td> 0.008065</td>\n",
        "      <td> 0.001695</td>\n",
        "    </tr>\n",
        "    <tr>\n",
        "      <th>45</th>\n",
        "      <td> 0.009545</td>\n",
        "      <td> 12</td>\n",
        "      <td> 0.012097</td>\n",
        "      <td> 0.002551</td>\n",
        "    </tr>\n",
        "    <tr>\n",
        "      <th>46</th>\n",
        "      <td> 0.009340</td>\n",
        "      <td>  5</td>\n",
        "      <td> 0.005040</td>\n",
        "      <td> 0.004300</td>\n",
        "    </tr>\n",
        "    <tr>\n",
        "      <th>47</th>\n",
        "      <td> 0.009143</td>\n",
        "      <td>  8</td>\n",
        "      <td> 0.008065</td>\n",
        "      <td> 0.001079</td>\n",
        "    </tr>\n",
        "    <tr>\n",
        "      <th>48</th>\n",
        "      <td> 0.008955</td>\n",
        "      <td>  8</td>\n",
        "      <td> 0.008065</td>\n",
        "      <td> 0.000890</td>\n",
        "    </tr>\n",
        "    <tr>\n",
        "      <th>49</th>\n",
        "      <td> 0.008774</td>\n",
        "      <td>  7</td>\n",
        "      <td> 0.007056</td>\n",
        "      <td> 0.001717</td>\n",
        "    </tr>\n",
        "  </tbody>\n",
        "</table>\n",
        "</div>"
       ],
       "metadata": {},
       "output_type": "pyout",
       "prompt_number": 49,
       "text": [
        "             Expected  Counts     Found    AbsDif\n",
        "First_2_Dig                                      \n",
        "40           0.010724       9  0.009073  0.001651\n",
        "41           0.010465      15  0.015121  0.004656\n",
        "42           0.010219       8  0.008065  0.002155\n",
        "43           0.009984       3  0.003024  0.006960\n",
        "44           0.009760       8  0.008065  0.001695\n",
        "45           0.009545      12  0.012097  0.002551\n",
        "46           0.009340       5  0.005040  0.004300\n",
        "47           0.009143       8  0.008065  0.001079\n",
        "48           0.008955       8  0.008065  0.000890\n",
        "49           0.008774       7  0.007056  0.001717"
       ]
      }
     ],
     "prompt_number": 49
    },
    {
     "cell_type": "code",
     "collapsed": false,
     "input": [
      "df2['Z'] = (df2.AbsDif - (1/2*len(r)))/(np.sqrt(df2.Expected*\\\n",
      "                                                (1-df2.Expected)/len(r)))\n",
      "df2.head()"
     ],
     "language": "python",
     "metadata": {},
     "outputs": [
      {
       "html": [
        "<div style=\"max-height:1000px;max-width:1500px;overflow:auto;\">\n",
        "<table border=\"1\" class=\"dataframe\">\n",
        "  <thead>\n",
        "    <tr style=\"text-align: right;\">\n",
        "      <th></th>\n",
        "      <th>Expected</th>\n",
        "      <th>Counts</th>\n",
        "      <th>Found</th>\n",
        "      <th>AbsDif</th>\n",
        "      <th>Z</th>\n",
        "    </tr>\n",
        "    <tr>\n",
        "      <th>First_2_Dig</th>\n",
        "      <th></th>\n",
        "      <th></th>\n",
        "      <th></th>\n",
        "      <th></th>\n",
        "      <th></th>\n",
        "    </tr>\n",
        "  </thead>\n",
        "  <tbody>\n",
        "    <tr>\n",
        "      <th>10</th>\n",
        "      <td> 0.041393</td>\n",
        "      <td> 46</td>\n",
        "      <td> 0.046371</td>\n",
        "      <td> 0.004978</td>\n",
        "      <td> 0.790310</td>\n",
        "    </tr>\n",
        "    <tr>\n",
        "      <th>11</th>\n",
        "      <td> 0.037789</td>\n",
        "      <td> 46</td>\n",
        "      <td> 0.046371</td>\n",
        "      <td> 0.008582</td>\n",
        "      <td> 1.423291</td>\n",
        "    </tr>\n",
        "    <tr>\n",
        "      <th>12</th>\n",
        "      <td> 0.034762</td>\n",
        "      <td> 45</td>\n",
        "      <td> 0.045363</td>\n",
        "      <td> 0.010601</td>\n",
        "      <td> 1.830072</td>\n",
        "    </tr>\n",
        "    <tr>\n",
        "      <th>13</th>\n",
        "      <td> 0.032185</td>\n",
        "      <td> 28</td>\n",
        "      <td> 0.028226</td>\n",
        "      <td> 0.003959</td>\n",
        "      <td> 0.709335</td>\n",
        "    </tr>\n",
        "    <tr>\n",
        "      <th>14</th>\n",
        "      <td> 0.029963</td>\n",
        "      <td> 27</td>\n",
        "      <td> 0.027218</td>\n",
        "      <td> 0.002745</td>\n",
        "      <td> 0.509249</td>\n",
        "    </tr>\n",
        "  </tbody>\n",
        "</table>\n",
        "</div>"
       ],
       "metadata": {},
       "output_type": "pyout",
       "prompt_number": 50,
       "text": [
        "             Expected  Counts     Found    AbsDif         Z\n",
        "First_2_Dig                                                \n",
        "10           0.041393      46  0.046371  0.004978  0.790310\n",
        "11           0.037789      46  0.046371  0.008582  1.423291\n",
        "12           0.034762      45  0.045363  0.010601  1.830072\n",
        "13           0.032185      28  0.028226  0.003959  0.709335\n",
        "14           0.029963      27  0.027218  0.002745  0.509249"
       ]
      }
     ],
     "prompt_number": 50
    },
    {
     "cell_type": "code",
     "collapsed": false,
     "input": [
      "df2.sort('Z',ascending=False)[df2.Z > 1.96]"
     ],
     "language": "python",
     "metadata": {},
     "outputs": [
      {
       "html": [
        "<div style=\"max-height:1000px;max-width:1500px;overflow:auto;\">\n",
        "<table border=\"1\" class=\"dataframe\">\n",
        "  <thead>\n",
        "    <tr style=\"text-align: right;\">\n",
        "      <th></th>\n",
        "      <th>Expected</th>\n",
        "      <th>Counts</th>\n",
        "      <th>Found</th>\n",
        "      <th>AbsDif</th>\n",
        "      <th>Z</th>\n",
        "    </tr>\n",
        "    <tr>\n",
        "      <th>First_2_Dig</th>\n",
        "      <th></th>\n",
        "      <th></th>\n",
        "      <th></th>\n",
        "      <th></th>\n",
        "      <th></th>\n",
        "    </tr>\n",
        "  </thead>\n",
        "  <tbody>\n",
        "    <tr>\n",
        "      <th>55</th>\n",
        "      <td> 0.007825</td>\n",
        "      <td> 17</td>\n",
        "      <td> 0.017137</td>\n",
        "      <td> 0.009312</td>\n",
        "      <td> 3.341844</td>\n",
        "    </tr>\n",
        "    <tr>\n",
        "      <th>24</th>\n",
        "      <td> 0.017729</td>\n",
        "      <td>  5</td>\n",
        "      <td> 0.005040</td>\n",
        "      <td> 0.012688</td>\n",
        "      <td> 3.040559</td>\n",
        "    </tr>\n",
        "    <tr>\n",
        "      <th>15</th>\n",
        "      <td> 0.028029</td>\n",
        "      <td> 43</td>\n",
        "      <td> 0.043347</td>\n",
        "      <td> 0.015318</td>\n",
        "      <td> 2.934777</td>\n",
        "    </tr>\n",
        "    <tr>\n",
        "      <th>32</th>\n",
        "      <td> 0.013364</td>\n",
        "      <td>  4</td>\n",
        "      <td> 0.004032</td>\n",
        "      <td> 0.009332</td>\n",
        "      <td> 2.569892</td>\n",
        "    </tr>\n",
        "    <tr>\n",
        "      <th>16</th>\n",
        "      <td> 0.026329</td>\n",
        "      <td> 39</td>\n",
        "      <td> 0.039315</td>\n",
        "      <td> 0.012986</td>\n",
        "      <td> 2.564711</td>\n",
        "    </tr>\n",
        "    <tr>\n",
        "      <th>38</th>\n",
        "      <td> 0.011281</td>\n",
        "      <td>  3</td>\n",
        "      <td> 0.003024</td>\n",
        "      <td> 0.008257</td>\n",
        "      <td> 2.472306</td>\n",
        "    </tr>\n",
        "    <tr>\n",
        "      <th>90</th>\n",
        "      <td> 0.004799</td>\n",
        "      <td> 10</td>\n",
        "      <td> 0.010081</td>\n",
        "      <td> 0.005282</td>\n",
        "      <td> 2.416870</td>\n",
        "    </tr>\n",
        "    <tr>\n",
        "      <th>86</th>\n",
        "      <td> 0.005021</td>\n",
        "      <td> 10</td>\n",
        "      <td> 0.010081</td>\n",
        "      <td> 0.005060</td>\n",
        "      <td> 2.263829</td>\n",
        "    </tr>\n",
        "    <tr>\n",
        "      <th>43</th>\n",
        "      <td> 0.009984</td>\n",
        "      <td>  3</td>\n",
        "      <td> 0.003024</td>\n",
        "      <td> 0.006960</td>\n",
        "      <td> 2.213772</td>\n",
        "    </tr>\n",
        "    <tr>\n",
        "      <th>84</th>\n",
        "      <td> 0.005140</td>\n",
        "      <td> 10</td>\n",
        "      <td> 0.010081</td>\n",
        "      <td> 0.004941</td>\n",
        "      <td> 2.185083</td>\n",
        "    </tr>\n",
        "    <tr>\n",
        "      <th>23</th>\n",
        "      <td> 0.018483</td>\n",
        "      <td> 10</td>\n",
        "      <td> 0.010081</td>\n",
        "      <td> 0.008403</td>\n",
        "      <td> 1.972796</td>\n",
        "    </tr>\n",
        "  </tbody>\n",
        "</table>\n",
        "</div>"
       ],
       "metadata": {},
       "output_type": "pyout",
       "prompt_number": 61,
       "text": [
        "             Expected  Counts     Found    AbsDif         Z\n",
        "First_2_Dig                                                \n",
        "55           0.007825      17  0.017137  0.009312  3.341844\n",
        "24           0.017729       5  0.005040  0.012688  3.040559\n",
        "15           0.028029      43  0.043347  0.015318  2.934777\n",
        "32           0.013364       4  0.004032  0.009332  2.569892\n",
        "16           0.026329      39  0.039315  0.012986  2.564711\n",
        "38           0.011281       3  0.003024  0.008257  2.472306\n",
        "90           0.004799      10  0.010081  0.005282  2.416870\n",
        "86           0.005021      10  0.010081  0.005060  2.263829\n",
        "43           0.009984       3  0.003024  0.006960  2.213772\n",
        "84           0.005140      10  0.010081  0.004941  2.185083\n",
        "23           0.018483      10  0.010081  0.008403  1.972796"
       ]
      }
     ],
     "prompt_number": 61
    },
    {
     "cell_type": "code",
     "collapsed": false,
     "input": [
      "mad = df2.AbsDif.mean()\n",
      "mad"
     ],
     "language": "python",
     "metadata": {},
     "outputs": [
      {
       "metadata": {},
       "output_type": "pyout",
       "prompt_number": 52,
       "text": [
        "0.0032974062422196021"
       ]
      }
     ],
     "prompt_number": 52
    },
    {
     "cell_type": "code",
     "collapsed": false,
     "input": [
      "q = (df2.AbsDif**2)\n",
      "q.mean()"
     ],
     "language": "python",
     "metadata": {},
     "outputs": [
      {
       "metadata": {},
       "output_type": "pyout",
       "prompt_number": 53,
       "text": [
        "2.0139053594064104e-05"
       ]
      }
     ],
     "prompt_number": 53
    },
    {
     "cell_type": "code",
     "collapsed": false,
     "input": [
      "def __MAD__(df):\n",
      "\ttry:\n",
      "\t\treturn df.AbsDif.mean()\n",
      "\texcept:\n",
      "\t\tdf['AbsDif'] = np.absolute(df.Found-df.Expected)\n",
      "\t\treturn df.AbsDif.mean()"
     ],
     "language": "python",
     "metadata": {},
     "outputs": [],
     "prompt_number": 54
    },
    {
     "cell_type": "code",
     "collapsed": false,
     "input": [
      "df3 = df2[['Expected','Counts','Found']]\n",
      "MAD = __MAD__(df3)\n",
      "MAD"
     ],
     "language": "python",
     "metadata": {},
     "outputs": [
      {
       "output_type": "stream",
       "stream": "stderr",
       "text": [
        "-c:5: SettingWithCopyWarning: \n",
        "A value is trying to be set on a copy of a slice from a DataFrame.\n",
        "Try using .loc[row_indexer,col_indexer] = value instead\n",
        "\n",
        "See the the caveats in the documentation: http://pandas.pydata.org/pandas-docs/stable/indexing.html#indexing-view-versus-copy\n"
       ]
      },
      {
       "metadata": {},
       "output_type": "pyout",
       "prompt_number": 55,
       "text": [
        "0.0032974062422196021"
       ]
      }
     ],
     "prompt_number": 55
    },
    {
     "cell_type": "code",
     "collapsed": false,
     "input": [
      "N= len(r)\n",
      "sig_5 = 1.96 * np.sqrt(df2.Expected*(1-df2.Expected)/N)\n",
      "upper = df2.Expected + sig_5 + (1/(2*N))\n",
      "lower = df2.Expected - sig_5 - (1/(2*N))\n",
      "fig = plt.figure(figsize=(15,10))\n",
      "ax = fig.add_subplot(111)\n",
      "ax.bar(df2.index, df2.Found)\n",
      "ax.plot(df2.index,df2.Expected, color='g',linewidth=2.5)\n",
      "ax.plot(df2.index, upper, color= 'r')\n",
      "ax.plot(df2.index, lower, color= 'r')\n",
      "ax.fill_between(df2.index, upper,lower, color='r', alpha=.3)"
     ],
     "language": "python",
     "metadata": {},
     "outputs": [
      {
       "metadata": {},
       "output_type": "pyout",
       "prompt_number": 67,
       "text": [
        "<matplotlib.collections.PolyCollection at 0x7f791a3fcfd0>"
       ]
      },
      {
       "metadata": {},
       "output_type": "display_data",
       "png": "[encoded data removed]",
       "text": [
        "<matplotlib.figure.Figure at 0x7f791a677990>"
       ]
      }
     ],
     "prompt_number": 67
    },
    {
     "cell_type": "code",
     "collapsed": false,
     "input": [],
     "language": "python",
     "metadata": {},
     "outputs": []
    },
    {
     "cell_type": "code",
     "collapsed": false,
     "input": [],
     "language": "python",
     "metadata": {},
     "outputs": []
    },
    {
     "cell_type": "code",
     "collapsed": false,
     "input": [],
     "language": "python",
     "metadata": {},
     "outputs": []
    },
    {
     "cell_type": "code",
     "collapsed": false,
     "input": [],
     "language": "python",
     "metadata": {},
     "outputs": []
    }
   ],
   "metadata": {}
  }
 ]
}