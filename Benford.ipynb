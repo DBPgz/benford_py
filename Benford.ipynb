{
 "metadata": {
  "name": "",
  "signature": "sha256:d176c2694b61115fca3f91bad5dcf019cc341019a72ba662f747e0aed2861d2c"
 },
 "nbformat": 3,
 "nbformat_minor": 0,
 "worksheets": [
  {
   "cells": [
    {
     "cell_type": "code",
     "collapsed": false,
     "input": [
      "import pandas as pd\n",
      "import numpy as np\n",
      "import matplotlib.pyplot as plt"
     ],
     "language": "python",
     "metadata": {},
     "outputs": [],
     "prompt_number": 1
    },
    {
     "cell_type": "code",
     "collapsed": false,
     "input": [
      "t = np.arange(10,1000,10)"
     ],
     "language": "python",
     "metadata": {},
     "outputs": [],
     "prompt_number": 2
    },
    {
     "cell_type": "code",
     "collapsed": false,
     "input": [
      "t[:10]"
     ],
     "language": "python",
     "metadata": {},
     "outputs": [
      {
       "metadata": {},
       "output_type": "pyout",
       "prompt_number": 3,
       "text": [
        "array([ 10,  20,  30,  40,  50,  60,  70,  80,  90, 100])"
       ]
      }
     ],
     "prompt_number": 3
    },
    {
     "cell_type": "heading",
     "level": 4,
     "metadata": {},
     "source": [
      "Getting the Mantissas"
     ]
    },
    {
     "cell_type": "code",
     "collapsed": false,
     "input": [
      "np.log10(t) - np.log10(t).astype(int)"
     ],
     "language": "python",
     "metadata": {},
     "outputs": [
      {
       "metadata": {},
       "output_type": "pyout",
       "prompt_number": 4,
       "text": [
        "array([ 0.        ,  0.30103   ,  0.47712125,  0.60205999,  0.69897   ,\n",
        "        0.77815125,  0.84509804,  0.90308999,  0.95424251,  0.        ,\n",
        "        0.04139269,  0.07918125,  0.11394335,  0.14612804,  0.17609126,\n",
        "        0.20411998,  0.23044892,  0.25527251,  0.2787536 ,  0.30103   ,\n",
        "        0.32221929,  0.34242268,  0.36172784,  0.38021124,  0.39794001,\n",
        "        0.41497335,  0.43136376,  0.44715803,  0.462398  ,  0.47712125,\n",
        "        0.49136169,  0.50514998,  0.51851394,  0.53147892,  0.54406804,\n",
        "        0.5563025 ,  0.56820172,  0.5797836 ,  0.59106461,  0.60205999,\n",
        "        0.61278386,  0.62324929,  0.63346846,  0.64345268,  0.65321251,\n",
        "        0.66275783,  0.67209786,  0.68124124,  0.69019608,  0.69897   ,\n",
        "        0.70757018,  0.71600334,  0.72427587,  0.73239376,  0.74036269,\n",
        "        0.74818803,  0.75587486,  0.76342799,  0.77085201,  0.77815125,\n",
        "        0.78532984,  0.79239169,  0.79934055,  0.80617997,  0.81291336,\n",
        "        0.81954394,  0.8260748 ,  0.83250891,  0.83884909,  0.84509804,\n",
        "        0.85125835,  0.8573325 ,  0.86332286,  0.86923172,  0.87506126,\n",
        "        0.88081359,  0.88649073,  0.8920946 ,  0.89762709,  0.90308999,\n",
        "        0.90848502,  0.91381385,  0.91907809,  0.92427929,  0.92941893,\n",
        "        0.93449845,  0.93951925,  0.94448267,  0.94939001,  0.95424251,\n",
        "        0.95904139,  0.96378783,  0.96848295,  0.97312785,  0.97772361,\n",
        "        0.98227123,  0.98677173,  0.99122608,  0.99563519])"
       ]
      }
     ],
     "prompt_number": 4
    },
    {
     "cell_type": "code",
     "collapsed": false,
     "input": [
      "g = np.random.randint(1000, size =200)\n",
      "g"
     ],
     "language": "python",
     "metadata": {},
     "outputs": [
      {
       "metadata": {},
       "output_type": "pyout",
       "prompt_number": 5,
       "text": [
        "array([267, 620, 287, 199, 752, 252, 654, 351, 293, 236, 866, 217, 601,\n",
        "       425,  13,  31, 555, 318, 263,  52, 663, 799, 478,  69, 723, 756,\n",
        "       904, 965, 711,  45, 198, 654, 588, 531, 793, 957, 607, 451,  62,\n",
        "        64,  19, 424, 869, 326, 405, 452, 731, 719, 118, 620, 117, 980,\n",
        "       686,  21, 671, 333, 497, 517, 253, 519, 434, 885, 343, 172, 154,\n",
        "       899, 759, 608, 991, 477, 949, 368, 485, 362, 531, 218, 750, 547,\n",
        "       555, 571, 931, 149, 661, 362, 191, 221, 554, 201,  89, 142, 836,\n",
        "       828, 157, 401,  18, 792, 316, 940, 337, 469, 939, 135, 505, 677,\n",
        "       241, 778, 709, 588, 807, 399, 306, 617, 295, 479, 651, 264, 346,\n",
        "       191,  28, 732, 966,   4, 396, 674, 643, 723, 449, 711, 380, 893,\n",
        "       648, 274, 154, 425, 860, 836, 372, 210, 144, 692, 995,  32, 755,\n",
        "       222, 281,  69, 115, 757, 215, 729, 813, 163, 126, 514, 857,  84,\n",
        "        33, 642, 512, 935, 587, 102, 465, 742, 987, 439, 257, 550, 688,\n",
        "       961, 401, 101, 575, 813, 933, 162, 382, 242, 236, 995, 703, 530,\n",
        "       718, 264, 807, 382, 996, 794, 316, 120, 636, 799, 772, 340, 176,\n",
        "       920, 196, 259, 176, 796])"
       ]
      }
     ],
     "prompt_number": 5
    },
    {
     "cell_type": "code",
     "collapsed": false,
     "input": [
      "m = np.log10(g) - np.log10(g).astype(int)\n",
      "m"
     ],
     "language": "python",
     "metadata": {},
     "outputs": [
      {
       "metadata": {},
       "output_type": "pyout",
       "prompt_number": 6,
       "text": [
        "array([ 0.42651126,  0.79239169,  0.4578819 ,  0.29885308,  0.87621784,\n",
        "        0.40140054,  0.81557775,  0.54530712,  0.46686762,  0.372912  ,\n",
        "        0.93751789,  0.33645973,  0.77887447,  0.62838893,  0.11394335,\n",
        "        0.49136169,  0.74429298,  0.50242712,  0.41995575,  0.71600334,\n",
        "        0.82151353,  0.90254678,  0.6794279 ,  0.83884909,  0.8591383 ,\n",
        "        0.8785218 ,  0.95616843,  0.98452731,  0.8518696 ,  0.65321251,\n",
        "        0.29666519,  0.81557775,  0.76937733,  0.72509452,  0.89927319,\n",
        "        0.98091194,  0.78318869,  0.65417654,  0.79239169,  0.80617997,\n",
        "        0.2787536 ,  0.62736586,  0.93901978,  0.5132176 ,  0.60745502,\n",
        "        0.65513843,  0.86391738,  0.85672889,  0.07188201,  0.79239169,\n",
        "        0.06818586,  0.99122608,  0.83632412,  0.32221929,  0.82672252,\n",
        "        0.52244423,  0.69635639,  0.71349054,  0.40312052,  0.71516736,\n",
        "        0.63748973,  0.94694327,  0.53529412,  0.23552845,  0.18752072,\n",
        "        0.95375969,  0.88024178,  0.78390358,  0.99607365,  0.67851838,\n",
        "        0.97726621,  0.56584782,  0.68574174,  0.55870857,  0.72509452,\n",
        "        0.33845649,  0.87506126,  0.73798733,  0.74429298,  0.75663611,\n",
        "        0.96894968,  0.17318627,  0.82020146,  0.55870857,  0.28103337,\n",
        "        0.34439227,  0.74350976,  0.30319606,  0.94939001,  0.15228834,\n",
        "        0.92220628,  0.91803034,  0.19589965,  0.60314437,  0.25527251,\n",
        "        0.89872518,  0.49968708,  0.97312785,  0.5276299 ,  0.67117284,\n",
        "        0.97266559,  0.13033377,  0.70329138,  0.83058867,  0.38201704,\n",
        "        0.8909796 ,  0.85064624,  0.76937733,  0.90687353,  0.6009729 ,\n",
        "        0.48572143,  0.79028516,  0.46982202,  0.68033551,  0.81358099,\n",
        "        0.42160393,  0.5390761 ,  0.28103337,  0.44715803,  0.86451108,\n",
        "        0.98497713,  0.60205999,  0.59769519,  0.8286599 ,  0.80821097,\n",
        "        0.8591383 ,  0.65224634,  0.8518696 ,  0.5797836 ,  0.95085146,\n",
        "        0.81157501,  0.43775056,  0.18752072,  0.62838893,  0.93449845,\n",
        "        0.92220628,  0.57054294,  0.32221929,  0.15836249,  0.84010609,\n",
        "        0.99782308,  0.50514998,  0.87794695,  0.34635297,  0.44870632,\n",
        "        0.83884909,  0.06069784,  0.87909588,  0.33243846,  0.86272753,\n",
        "        0.91009055,  0.2121876 ,  0.10037055,  0.71096312,  0.93298082,\n",
        "        0.92427929,  0.51851394,  0.80753503,  0.70926996,  0.97081161,\n",
        "        0.7686381 ,  0.00860017,  0.66745295,  0.87040391,  0.99431715,\n",
        "        0.64246452,  0.40993312,  0.74036269,  0.83758844,  0.98272339,\n",
        "        0.60314437,  0.00432137,  0.75966784,  0.91009055,  0.96988164,\n",
        "        0.20951501,  0.58206336,  0.38381537,  0.372912  ,  0.99782308,\n",
        "        0.84695533,  0.72427587,  0.85612444,  0.42160393,  0.90687353,\n",
        "        0.58206336,  0.99825934,  0.8998205 ,  0.49968708,  0.07918125,\n",
        "        0.80345712,  0.90254678,  0.8876173 ,  0.53147892,  0.24551267,\n",
        "        0.96378783,  0.29225607,  0.41329976,  0.24551267,  0.90091307])"
       ]
      }
     ],
     "prompt_number": 6
    },
    {
     "cell_type": "heading",
     "level": 4,
     "metadata": {},
     "source": [
      "Ordering the Mantissas and Plotting"
     ]
    },
    {
     "cell_type": "code",
     "collapsed": false,
     "input": [
      "m.sort()\n",
      "m"
     ],
     "language": "python",
     "metadata": {},
     "outputs": [
      {
       "metadata": {},
       "output_type": "pyout",
       "prompt_number": 7,
       "text": [
        "array([ 0.00432137,  0.00860017,  0.06069784,  0.06818586,  0.07188201,\n",
        "        0.07918125,  0.10037055,  0.11394335,  0.13033377,  0.15228834,\n",
        "        0.15836249,  0.17318627,  0.18752072,  0.18752072,  0.19589965,\n",
        "        0.20951501,  0.2121876 ,  0.23552845,  0.24551267,  0.24551267,\n",
        "        0.25527251,  0.2787536 ,  0.28103337,  0.28103337,  0.29225607,\n",
        "        0.29666519,  0.29885308,  0.30319606,  0.32221929,  0.32221929,\n",
        "        0.33243846,  0.33645973,  0.33845649,  0.34439227,  0.34635297,\n",
        "        0.372912  ,  0.372912  ,  0.38201704,  0.38381537,  0.40140054,\n",
        "        0.40312052,  0.40993312,  0.41329976,  0.41995575,  0.42160393,\n",
        "        0.42160393,  0.42651126,  0.43775056,  0.44715803,  0.44870632,\n",
        "        0.4578819 ,  0.46686762,  0.46982202,  0.48572143,  0.49136169,\n",
        "        0.49968708,  0.49968708,  0.50242712,  0.50514998,  0.5132176 ,\n",
        "        0.51851394,  0.52244423,  0.5276299 ,  0.53147892,  0.53529412,\n",
        "        0.5390761 ,  0.54530712,  0.55870857,  0.55870857,  0.56584782,\n",
        "        0.57054294,  0.5797836 ,  0.58206336,  0.58206336,  0.59769519,\n",
        "        0.6009729 ,  0.60205999,  0.60314437,  0.60314437,  0.60745502,\n",
        "        0.62736586,  0.62838893,  0.62838893,  0.63748973,  0.64246452,\n",
        "        0.65224634,  0.65321251,  0.65417654,  0.65513843,  0.66745295,\n",
        "        0.67117284,  0.67851838,  0.6794279 ,  0.68033551,  0.68574174,\n",
        "        0.69635639,  0.70329138,  0.70926996,  0.71096312,  0.71349054,\n",
        "        0.71516736,  0.71600334,  0.72427587,  0.72509452,  0.72509452,\n",
        "        0.73798733,  0.74036269,  0.74350976,  0.74429298,  0.74429298,\n",
        "        0.75663611,  0.75966784,  0.7686381 ,  0.76937733,  0.76937733,\n",
        "        0.77887447,  0.78318869,  0.78390358,  0.79028516,  0.79239169,\n",
        "        0.79239169,  0.79239169,  0.80345712,  0.80617997,  0.80753503,\n",
        "        0.80821097,  0.81157501,  0.81358099,  0.81557775,  0.81557775,\n",
        "        0.82020146,  0.82151353,  0.82672252,  0.8286599 ,  0.83058867,\n",
        "        0.83632412,  0.83758844,  0.83884909,  0.83884909,  0.84010609,\n",
        "        0.84695533,  0.85064624,  0.8518696 ,  0.8518696 ,  0.85612444,\n",
        "        0.85672889,  0.8591383 ,  0.8591383 ,  0.86272753,  0.86391738,\n",
        "        0.86451108,  0.87040391,  0.87506126,  0.87621784,  0.87794695,\n",
        "        0.8785218 ,  0.87909588,  0.88024178,  0.8876173 ,  0.8909796 ,\n",
        "        0.89872518,  0.89927319,  0.8998205 ,  0.90091307,  0.90254678,\n",
        "        0.90254678,  0.90687353,  0.90687353,  0.91009055,  0.91009055,\n",
        "        0.91803034,  0.92220628,  0.92220628,  0.92427929,  0.93298082,\n",
        "        0.93449845,  0.93751789,  0.93901978,  0.94694327,  0.94939001,\n",
        "        0.95085146,  0.95375969,  0.95616843,  0.96378783,  0.96894968,\n",
        "        0.96988164,  0.97081161,  0.97266559,  0.97312785,  0.97726621,\n",
        "        0.98091194,  0.98272339,  0.98452731,  0.98497713,  0.99122608,\n",
        "        0.99431715,  0.99607365,  0.99782308,  0.99782308,  0.99825934])"
       ]
      }
     ],
     "prompt_number": 7
    },
    {
     "cell_type": "code",
     "collapsed": false,
     "input": [
      "pylab inline"
     ],
     "language": "python",
     "metadata": {},
     "outputs": [
      {
       "output_type": "stream",
       "stream": "stdout",
       "text": [
        "Populating the interactive namespace from numpy and matplotlib\n"
       ]
      }
     ],
     "prompt_number": 8
    },
    {
     "cell_type": "code",
     "collapsed": false,
     "input": [
      "plt.plot(np.arange(len(m)), m)"
     ],
     "language": "python",
     "metadata": {},
     "outputs": [
      {
       "metadata": {},
       "output_type": "pyout",
       "prompt_number": 9,
       "text": [
        "[<matplotlib.lines.Line2D at 0x7f3a38718490>]"
       ]
      },
      {
       "metadata": {},
       "output_type": "display_data",
       "png": "[encoded data removed]",
       "text": [
        "<matplotlib.figure.Figure at 0x7f3a387fa350>"
       ]
      }
     ],
     "prompt_number": 9
    },
    {
     "cell_type": "code",
     "collapsed": false,
     "input": [
      "g.sort()\n",
      "g"
     ],
     "language": "python",
     "metadata": {},
     "outputs": [
      {
       "metadata": {},
       "output_type": "pyout",
       "prompt_number": 17,
       "text": [
        "array([  4,  13,  18,  19,  21,  28,  31,  32,  33,  45,  52,  62,  64,\n",
        "        69,  69,  84,  89, 101, 102, 115, 117, 118, 120, 126, 135, 142,\n",
        "       144, 149, 154, 154, 157, 162, 163, 172, 176, 176, 191, 191, 196,\n",
        "       198, 199, 201, 210, 215, 217, 218, 221, 222, 236, 236, 241, 242,\n",
        "       252, 253, 257, 259, 263, 264, 264, 267, 274, 281, 287, 293, 295,\n",
        "       306, 316, 316, 318, 326, 333, 337, 340, 343, 346, 351, 362, 362,\n",
        "       368, 372, 380, 382, 382, 396, 399, 401, 401, 405, 424, 425, 425,\n",
        "       434, 439, 449, 451, 452, 465, 469, 477, 478, 479, 485, 497, 505,\n",
        "       512, 514, 517, 519, 530, 531, 531, 547, 550, 554, 555, 555, 571,\n",
        "       575, 587, 588, 588, 601, 607, 608, 617, 620, 620, 636, 642, 643,\n",
        "       648, 651, 654, 654, 661, 663, 671, 674, 677, 686, 688, 692, 703,\n",
        "       709, 711, 711, 718, 719, 723, 723, 729, 731, 732, 742, 750, 752,\n",
        "       755, 756, 757, 759, 772, 778, 792, 793, 794, 796, 799, 799, 807,\n",
        "       807, 813, 813, 828, 836, 836, 857, 860, 866, 869, 885, 893, 899,\n",
        "       904, 920, 931, 933, 935, 939, 940, 949, 957, 961, 965, 966, 980,\n",
        "       987, 991, 995, 995, 996])"
       ]
      }
     ],
     "prompt_number": 17
    },
    {
     "cell_type": "code",
     "collapsed": false,
     "input": [
      "plt.plot(g, m)\n",
      "plt.grid()"
     ],
     "language": "python",
     "metadata": {},
     "outputs": [
      {
       "metadata": {},
       "output_type": "display_data",
       "png": "[encoded data removed]",
       "text": [
        "<matplotlib.figure.Figure at 0x7f3a3832d110>"
       ]
      }
     ],
     "prompt_number": 19
    },
    {
     "cell_type": "code",
     "collapsed": false,
     "input": [
      "tt = pd.DataFrame(g, columns=['numbers'])\n",
      "tt.head()"
     ],
     "language": "python",
     "metadata": {},
     "outputs": [
      {
       "html": [
        "<div style=\"max-height:1000px;max-width:1500px;overflow:auto;\">\n",
        "<table border=\"1\" class=\"dataframe\">\n",
        "  <thead>\n",
        "    <tr style=\"text-align: right;\">\n",
        "      <th></th>\n",
        "      <th>numbers</th>\n",
        "    </tr>\n",
        "  </thead>\n",
        "  <tbody>\n",
        "    <tr>\n",
        "      <th>0</th>\n",
        "      <td>  4</td>\n",
        "    </tr>\n",
        "    <tr>\n",
        "      <th>1</th>\n",
        "      <td> 13</td>\n",
        "    </tr>\n",
        "    <tr>\n",
        "      <th>2</th>\n",
        "      <td> 18</td>\n",
        "    </tr>\n",
        "    <tr>\n",
        "      <th>3</th>\n",
        "      <td> 19</td>\n",
        "    </tr>\n",
        "    <tr>\n",
        "      <th>4</th>\n",
        "      <td> 21</td>\n",
        "    </tr>\n",
        "  </tbody>\n",
        "</table>\n",
        "</div>"
       ],
       "metadata": {},
       "output_type": "pyout",
       "prompt_number": 53,
       "text": [
        "   numbers\n",
        "0        4\n",
        "1       13\n",
        "2       18\n",
        "3       19\n",
        "4       21"
       ]
      }
     ],
     "prompt_number": 53
    },
    {
     "cell_type": "code",
     "collapsed": false,
     "input": [
      "def _get_mantissas_(arr):\n",
      "\t'''\n",
      "\tThe mantissa is the non-integer part of the log of a number.\n",
      "\tThis fuction uses the element-wise array operations on numpy\n",
      "\tto get the mantissas of each number's log.\n",
      "\n",
      "\tarr: numpy array of integers or floats\n",
      "\t'''\n",
      "\n",
      "\treturn np.log10(arr) - np.log10(arr).astype(int)"
     ],
     "language": "python",
     "metadata": {},
     "outputs": [],
     "prompt_number": 61
    },
    {
     "cell_type": "code",
     "collapsed": false,
     "input": [
      "tt['mantissas']=np.log10(tt.numbers) - np.log10(tt.numbers).astype(int)\n",
      "tt = tt.sort(columns='mantissas')         #sort DataFrame by mantissas column\n",
      "tt.head()"
     ],
     "language": "python",
     "metadata": {},
     "outputs": [
      {
       "html": [
        "<div style=\"max-height:1000px;max-width:1500px;overflow:auto;\">\n",
        "<table border=\"1\" class=\"dataframe\">\n",
        "  <thead>\n",
        "    <tr style=\"text-align: right;\">\n",
        "      <th></th>\n",
        "      <th>numbers</th>\n",
        "      <th>mantissas</th>\n",
        "    </tr>\n",
        "  </thead>\n",
        "  <tbody>\n",
        "    <tr>\n",
        "      <th>17</th>\n",
        "      <td> 101</td>\n",
        "      <td> 0.004321</td>\n",
        "    </tr>\n",
        "    <tr>\n",
        "      <th>18</th>\n",
        "      <td> 102</td>\n",
        "      <td> 0.008600</td>\n",
        "    </tr>\n",
        "    <tr>\n",
        "      <th>19</th>\n",
        "      <td> 115</td>\n",
        "      <td> 0.060698</td>\n",
        "    </tr>\n",
        "    <tr>\n",
        "      <th>20</th>\n",
        "      <td> 117</td>\n",
        "      <td> 0.068186</td>\n",
        "    </tr>\n",
        "    <tr>\n",
        "      <th>21</th>\n",
        "      <td> 118</td>\n",
        "      <td> 0.071882</td>\n",
        "    </tr>\n",
        "  </tbody>\n",
        "</table>\n",
        "</div>"
       ],
       "metadata": {},
       "output_type": "pyout",
       "prompt_number": 55,
       "text": [
        "    numbers  mantissas\n",
        "17      101   0.004321\n",
        "18      102   0.008600\n",
        "19      115   0.060698\n",
        "20      117   0.068186\n",
        "21      118   0.071882"
       ]
      }
     ],
     "prompt_number": 55
    },
    {
     "cell_type": "code",
     "collapsed": false,
     "input": [
      "plt.plot(tt.numbers, tt.mantissas)"
     ],
     "language": "python",
     "metadata": {},
     "outputs": [
      {
       "metadata": {},
       "output_type": "pyout",
       "prompt_number": 56,
       "text": [
        "[<matplotlib.lines.Line2D at 0x7f3a3811bad0>]"
       ]
      },
      {
       "metadata": {},
       "output_type": "display_data",
       "png": "[encoded data removed]",
       "text": [
        "<matplotlib.figure.Figure at 0x7f3a383f3110>"
       ]
      }
     ],
     "prompt_number": 56
    },
    {
     "cell_type": "code",
     "collapsed": false,
     "input": [
      "plt.plot(np.arange(len(tt)), tt.mantissas)"
     ],
     "language": "python",
     "metadata": {},
     "outputs": [
      {
       "metadata": {},
       "output_type": "pyout",
       "prompt_number": 59,
       "text": [
        "[<matplotlib.lines.Line2D at 0x7f3a37e722d0>]"
       ]
      },
      {
       "metadata": {},
       "output_type": "display_data",
       "png": "[encoded data removed]",
       "text": [
        "<matplotlib.figure.Figure at 0x7f3a37fe26d0>"
       ]
      }
     ],
     "prompt_number": 59
    },
    {
     "cell_type": "code",
     "collapsed": false,
     "input": [
      "tt['m2'] = _get_mantissas_(tt.numbers)\n",
      "sum(tt.mantissas!=tt.m2)"
     ],
     "language": "python",
     "metadata": {},
     "outputs": [
      {
       "metadata": {},
       "output_type": "pyout",
       "prompt_number": 64,
       "text": [
        "0"
       ]
      }
     ],
     "prompt_number": 64
    },
    {
     "cell_type": "code",
     "collapsed": false,
     "input": [
      "tt['ms']=tt.m2.cumsum()\n",
      "plt.plot(np.arange(len(tt.ms)), tt.ms)"
     ],
     "language": "python",
     "metadata": {},
     "outputs": [
      {
       "metadata": {},
       "output_type": "pyout",
       "prompt_number": 66,
       "text": [
        "[<matplotlib.lines.Line2D at 0x7f3a37fc3150>]"
       ]
      },
      {
       "metadata": {},
       "output_type": "display_data",
       "png": "[encoded data removed]",
       "text": [
        "<matplotlib.figure.Figure at 0x7f3a37ef2250>"
       ]
      }
     ],
     "prompt_number": 66
    }
   ],
   "metadata": {}
  }
 ]
}