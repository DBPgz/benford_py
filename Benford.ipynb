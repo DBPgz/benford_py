{
 "metadata": {
  "name": "",
  "signature": "sha256:7217aa1863459f8a3539e6a9ecf1942fbd36bc4ea07ed3d9eb40b979f66fedd6"
 },
 "nbformat": 3,
 "nbformat_minor": 0,
 "worksheets": [
  {
   "cells": [
    {
     "cell_type": "code",
     "collapsed": false,
     "input": [
      "import pandas as pd\n",
      "import numpy as np\n",
      "import matplotlib.pyplot as plt"
     ],
     "language": "python",
     "metadata": {},
     "outputs": [],
     "prompt_number": 1
    },
    {
     "cell_type": "code",
     "collapsed": false,
     "input": [
      "t = np.arange(10,1000,10)"
     ],
     "language": "python",
     "metadata": {},
     "outputs": [],
     "prompt_number": 2
    },
    {
     "cell_type": "code",
     "collapsed": false,
     "input": [
      "t[:10]"
     ],
     "language": "python",
     "metadata": {},
     "outputs": [
      {
       "metadata": {},
       "output_type": "pyout",
       "prompt_number": 3,
       "text": [
        "array([ 10,  20,  30,  40,  50,  60,  70,  80,  90, 100])"
       ]
      }
     ],
     "prompt_number": 3
    },
    {
     "cell_type": "heading",
     "level": 4,
     "metadata": {},
     "source": [
      "Getting the Mantissas"
     ]
    },
    {
     "cell_type": "code",
     "collapsed": false,
     "input": [
      "np.log10(t) - np.log10(t).astype(int)"
     ],
     "language": "python",
     "metadata": {},
     "outputs": [
      {
       "metadata": {},
       "output_type": "pyout",
       "prompt_number": 4,
       "text": [
        "array([ 0.        ,  0.30103   ,  0.47712125,  0.60205999,  0.69897   ,\n",
        "        0.77815125,  0.84509804,  0.90308999,  0.95424251,  0.        ,\n",
        "        0.04139269,  0.07918125,  0.11394335,  0.14612804,  0.17609126,\n",
        "        0.20411998,  0.23044892,  0.25527251,  0.2787536 ,  0.30103   ,\n",
        "        0.32221929,  0.34242268,  0.36172784,  0.38021124,  0.39794001,\n",
        "        0.41497335,  0.43136376,  0.44715803,  0.462398  ,  0.47712125,\n",
        "        0.49136169,  0.50514998,  0.51851394,  0.53147892,  0.54406804,\n",
        "        0.5563025 ,  0.56820172,  0.5797836 ,  0.59106461,  0.60205999,\n",
        "        0.61278386,  0.62324929,  0.63346846,  0.64345268,  0.65321251,\n",
        "        0.66275783,  0.67209786,  0.68124124,  0.69019608,  0.69897   ,\n",
        "        0.70757018,  0.71600334,  0.72427587,  0.73239376,  0.74036269,\n",
        "        0.74818803,  0.75587486,  0.76342799,  0.77085201,  0.77815125,\n",
        "        0.78532984,  0.79239169,  0.79934055,  0.80617997,  0.81291336,\n",
        "        0.81954394,  0.8260748 ,  0.83250891,  0.83884909,  0.84509804,\n",
        "        0.85125835,  0.8573325 ,  0.86332286,  0.86923172,  0.87506126,\n",
        "        0.88081359,  0.88649073,  0.8920946 ,  0.89762709,  0.90308999,\n",
        "        0.90848502,  0.91381385,  0.91907809,  0.92427929,  0.92941893,\n",
        "        0.93449845,  0.93951925,  0.94448267,  0.94939001,  0.95424251,\n",
        "        0.95904139,  0.96378783,  0.96848295,  0.97312785,  0.97772361,\n",
        "        0.98227123,  0.98677173,  0.99122608,  0.99563519])"
       ]
      }
     ],
     "prompt_number": 4
    },
    {
     "cell_type": "code",
     "collapsed": false,
     "input": [
      "g = np.random.randint(1000, size =200)\n",
      "g"
     ],
     "language": "python",
     "metadata": {},
     "outputs": [
      {
       "metadata": {},
       "output_type": "pyout",
       "prompt_number": 5,
       "text": [
        "array([200, 691,  29, 237, 955, 636, 417, 197, 822, 683, 444,   5, 642,\n",
        "       876, 788, 309, 148, 520, 415, 241, 599, 551, 352, 444, 679, 671,\n",
        "       211, 807, 538, 517, 981, 991, 677, 437, 143, 465, 175, 308, 980,\n",
        "       694, 548, 693, 357, 643, 798, 648, 496, 331, 176, 536, 911, 217,\n",
        "       232,  38, 996, 728, 787, 858, 947, 373, 181, 520, 561, 985, 143,\n",
        "       836, 786, 354, 257, 965, 530, 170,  36, 119, 507,  75, 399, 489,\n",
        "       257, 943, 972, 226, 853, 739, 734, 535, 624, 533, 478, 790,   6,\n",
        "       756,  36, 469, 530,  42, 659,  80, 425, 156,  57, 450, 477, 745,\n",
        "       453, 948, 146, 995, 491,  16,  26, 187, 509, 420, 111, 652,  89,\n",
        "       827, 867, 836, 781,  97, 116, 380, 102, 614, 649, 664,  39,  75,\n",
        "       683, 827, 529, 211, 399, 367, 222, 932, 638, 618, 885, 396, 682,\n",
        "       504, 570, 752, 462, 875, 569, 904, 296, 630, 214, 853, 140, 471,\n",
        "       749, 701, 464, 592, 774, 801, 998,  12, 954, 494,  64, 177,  36,\n",
        "       533, 859, 162, 252, 720, 142, 219, 397, 230, 299,   5, 281, 221,\n",
        "       278, 998,  40, 880, 153, 650, 707, 931, 473, 661, 710,  37, 400,\n",
        "       852, 510, 678,  88, 872])"
       ]
      }
     ],
     "prompt_number": 5
    },
    {
     "cell_type": "code",
     "collapsed": false,
     "input": [
      "m = np.log10(g) - np.log10(g).astype(int)\n",
      "m"
     ],
     "language": "python",
     "metadata": {},
     "outputs": [
      {
       "metadata": {},
       "output_type": "pyout",
       "prompt_number": 6,
       "text": [
        "array([ 0.30103   ,  0.83947805,  0.462398  ,  0.37474835,  0.98000337,\n",
        "        0.80345712,  0.62013605,  0.29446623,  0.91487182,  0.8344207 ,\n",
        "        0.64738297,  0.69897   ,  0.80753503,  0.94250411,  0.89652622,\n",
        "        0.48995848,  0.17026172,  0.71600334,  0.6180481 ,  0.38201704,\n",
        "        0.77742682,  0.7411516 ,  0.54654266,  0.64738297,  0.83186977,\n",
        "        0.82672252,  0.32428246,  0.90687353,  0.73078228,  0.71349054,\n",
        "        0.99166901,  0.99607365,  0.83058867,  0.64048144,  0.15533604,\n",
        "        0.66745295,  0.24303805,  0.48855072,  0.99122608,  0.84135947,\n",
        "        0.73878056,  0.84073323,  0.55266822,  0.80821097,  0.90200289,\n",
        "        0.81157501,  0.69548168,  0.51982799,  0.24551267,  0.72916479,\n",
        "        0.95951838,  0.33645973,  0.36548798,  0.5797836 ,  0.99825934,\n",
        "        0.86213138,  0.89597473,  0.93348729,  0.97634998,  0.57170883,\n",
        "        0.25767857,  0.71600334,  0.74896286,  0.99343623,  0.15533604,\n",
        "        0.92220628,  0.89542255,  0.54900326,  0.40993312,  0.98452731,\n",
        "        0.72427587,  0.23044892,  0.5563025 ,  0.07554696,  0.70500796,\n",
        "        0.87506126,  0.6009729 ,  0.68930886,  0.40993312,  0.97451169,\n",
        "        0.98766626,  0.35410844,  0.93094903,  0.86864444,  0.86569606,\n",
        "        0.72835378,  0.79518459,  0.72672721,  0.6794279 ,  0.89762709,\n",
        "        0.77815125,  0.8785218 ,  0.5563025 ,  0.67117284,  0.72427587,\n",
        "        0.62324929,  0.81888541,  0.90308999,  0.62838893,  0.1931246 ,\n",
        "        0.75587486,  0.65321251,  0.67851838,  0.87215627,  0.6560982 ,\n",
        "        0.97680834,  0.16435286,  0.99782308,  0.69108149,  0.20411998,\n",
        "        0.41497335,  0.27184161,  0.70671778,  0.62324929,  0.04532298,\n",
        "        0.8142476 ,  0.94939001,  0.91750551,  0.9380191 ,  0.92220628,\n",
        "        0.89265103,  0.98677173,  0.06445799,  0.5797836 ,  0.00860017,\n",
        "        0.78816837,  0.8122447 ,  0.82216808,  0.59106461,  0.87506126,\n",
        "        0.8344207 ,  0.91750551,  0.72345567,  0.32428246,  0.6009729 ,\n",
        "        0.56466606,  0.34635297,  0.96941591,  0.80482068,  0.79098848,\n",
        "        0.94694327,  0.59769519,  0.83378437,  0.70243054,  0.75587486,\n",
        "        0.87621784,  0.66464198,  0.94200805,  0.75511227,  0.95616843,\n",
        "        0.47129171,  0.79934055,  0.33041377,  0.93094903,  0.14612804,\n",
        "        0.67302091,  0.87448182,  0.84571802,  0.66651798,  0.77232171,\n",
        "        0.88874096,  0.90363252,  0.99913054,  0.07918125,  0.97954837,\n",
        "        0.69372695,  0.80617997,  0.24797327,  0.5563025 ,  0.72672721,\n",
        "        0.93399316,  0.20951501,  0.40140054,  0.8573325 ,  0.15228834,\n",
        "        0.34044411,  0.59879051,  0.36172784,  0.47567119,  0.69897   ,\n",
        "        0.44870632,  0.34439227,  0.4440448 ,  0.99913054,  0.60205999,\n",
        "        0.94448267,  0.18469143,  0.81291336,  0.84941941,  0.96894968,\n",
        "        0.67486114,  0.82020146,  0.85125835,  0.56820172,  0.60205999,\n",
        "        0.93043959,  0.70757018,  0.83122969,  0.94448267,  0.94051648])"
       ]
      }
     ],
     "prompt_number": 6
    },
    {
     "cell_type": "heading",
     "level": 4,
     "metadata": {},
     "source": [
      "Ordering the Mantissas and Plotting"
     ]
    },
    {
     "cell_type": "code",
     "collapsed": false,
     "input": [
      "m.sort()\n",
      "m"
     ],
     "language": "python",
     "metadata": {},
     "outputs": [
      {
       "metadata": {},
       "output_type": "pyout",
       "prompt_number": 7,
       "text": [
        "array([ 0.00860017,  0.04532298,  0.06445799,  0.07554696,  0.07918125,\n",
        "        0.14612804,  0.15228834,  0.15533604,  0.15533604,  0.16435286,\n",
        "        0.17026172,  0.18469143,  0.1931246 ,  0.20411998,  0.20951501,\n",
        "        0.23044892,  0.24303805,  0.24551267,  0.24797327,  0.25767857,\n",
        "        0.27184161,  0.29446623,  0.30103   ,  0.32428246,  0.32428246,\n",
        "        0.33041377,  0.33645973,  0.34044411,  0.34439227,  0.34635297,\n",
        "        0.35410844,  0.36172784,  0.36548798,  0.37474835,  0.38201704,\n",
        "        0.40140054,  0.40993312,  0.40993312,  0.41497335,  0.4440448 ,\n",
        "        0.44870632,  0.462398  ,  0.47129171,  0.47567119,  0.48855072,\n",
        "        0.48995848,  0.51982799,  0.54654266,  0.54900326,  0.55266822,\n",
        "        0.5563025 ,  0.5563025 ,  0.5563025 ,  0.56466606,  0.56820172,\n",
        "        0.57170883,  0.5797836 ,  0.5797836 ,  0.59106461,  0.59769519,\n",
        "        0.59879051,  0.6009729 ,  0.6009729 ,  0.60205999,  0.60205999,\n",
        "        0.6180481 ,  0.62013605,  0.62324929,  0.62324929,  0.62838893,\n",
        "        0.64048144,  0.64738297,  0.64738297,  0.65321251,  0.6560982 ,\n",
        "        0.66464198,  0.66651798,  0.66745295,  0.67117284,  0.67302091,\n",
        "        0.67486114,  0.67851838,  0.6794279 ,  0.68930886,  0.69108149,\n",
        "        0.69372695,  0.69548168,  0.69897   ,  0.69897   ,  0.70243054,\n",
        "        0.70500796,  0.70671778,  0.70757018,  0.71349054,  0.71600334,\n",
        "        0.71600334,  0.72345567,  0.72427587,  0.72427587,  0.72672721,\n",
        "        0.72672721,  0.72835378,  0.72916479,  0.73078228,  0.73878056,\n",
        "        0.7411516 ,  0.74896286,  0.75511227,  0.75587486,  0.75587486,\n",
        "        0.77232171,  0.77742682,  0.77815125,  0.78816837,  0.79098848,\n",
        "        0.79518459,  0.79934055,  0.80345712,  0.80482068,  0.80617997,\n",
        "        0.80753503,  0.80821097,  0.81157501,  0.8122447 ,  0.81291336,\n",
        "        0.8142476 ,  0.81888541,  0.82020146,  0.82216808,  0.82672252,\n",
        "        0.83058867,  0.83122969,  0.83186977,  0.83378437,  0.8344207 ,\n",
        "        0.8344207 ,  0.83947805,  0.84073323,  0.84135947,  0.84571802,\n",
        "        0.84941941,  0.85125835,  0.8573325 ,  0.86213138,  0.86569606,\n",
        "        0.86864444,  0.87215627,  0.87448182,  0.87506126,  0.87506126,\n",
        "        0.87621784,  0.8785218 ,  0.88874096,  0.89265103,  0.89542255,\n",
        "        0.89597473,  0.89652622,  0.89762709,  0.90200289,  0.90308999,\n",
        "        0.90363252,  0.90687353,  0.91487182,  0.91750551,  0.91750551,\n",
        "        0.92220628,  0.92220628,  0.93043959,  0.93094903,  0.93094903,\n",
        "        0.93348729,  0.93399316,  0.9380191 ,  0.94051648,  0.94200805,\n",
        "        0.94250411,  0.94448267,  0.94448267,  0.94694327,  0.94939001,\n",
        "        0.95616843,  0.95951838,  0.96894968,  0.96941591,  0.97451169,\n",
        "        0.97634998,  0.97680834,  0.97954837,  0.98000337,  0.98452731,\n",
        "        0.98677173,  0.98766626,  0.99122608,  0.99166901,  0.99343623,\n",
        "        0.99607365,  0.99782308,  0.99825934,  0.99913054,  0.99913054])"
       ]
      }
     ],
     "prompt_number": 7
    },
    {
     "cell_type": "code",
     "collapsed": false,
     "input": [
      "pylab inline"
     ],
     "language": "python",
     "metadata": {},
     "outputs": [
      {
       "output_type": "stream",
       "stream": "stdout",
       "text": [
        "Populating the interactive namespace from numpy and matplotlib\n"
       ]
      }
     ],
     "prompt_number": 8
    },
    {
     "cell_type": "code",
     "collapsed": false,
     "input": [
      "plt.plot(np.arange(len(m)), m)"
     ],
     "language": "python",
     "metadata": {},
     "outputs": [
      {
       "metadata": {},
       "output_type": "pyout",
       "prompt_number": 9,
       "text": [
        "[<matplotlib.lines.Line2D at 0x7f6e8958f490>]"
       ]
      },
      {
       "metadata": {},
       "output_type": "display_data",
       "png": "[encoded data removed]",
       "text": [
        "<matplotlib.figure.Figure at 0x7f6e89671350>"
       ]
      }
     ],
     "prompt_number": 9
    },
    {
     "cell_type": "code",
     "collapsed": false,
     "input": [
      "g.sort()\n",
      "g"
     ],
     "language": "python",
     "metadata": {},
     "outputs": [
      {
       "metadata": {},
       "output_type": "pyout",
       "prompt_number": 10,
       "text": [
        "array([  5,   5,   6,  12,  16,  26,  29,  36,  36,  36,  37,  38,  39,\n",
        "        40,  42,  57,  64,  75,  75,  80,  88,  89,  97, 102, 111, 116,\n",
        "       119, 140, 142, 143, 143, 146, 148, 153, 156, 162, 170, 175, 176,\n",
        "       177, 181, 187, 197, 200, 211, 211, 214, 217, 219, 221, 222, 226,\n",
        "       230, 232, 237, 241, 252, 257, 257, 278, 281, 296, 299, 308, 309,\n",
        "       331, 352, 354, 357, 367, 373, 380, 396, 397, 399, 399, 400, 415,\n",
        "       417, 420, 425, 437, 444, 444, 450, 453, 462, 464, 465, 469, 471,\n",
        "       473, 477, 478, 489, 491, 494, 496, 504, 507, 509, 510, 517, 520,\n",
        "       520, 529, 530, 530, 533, 533, 535, 536, 538, 548, 551, 561, 569,\n",
        "       570, 592, 599, 614, 618, 624, 630, 636, 638, 642, 643, 648, 649,\n",
        "       650, 652, 659, 661, 664, 671, 677, 678, 679, 682, 683, 683, 691,\n",
        "       693, 694, 701, 707, 710, 720, 728, 734, 739, 745, 749, 752, 756,\n",
        "       774, 781, 786, 787, 788, 790, 798, 801, 807, 822, 827, 827, 836,\n",
        "       836, 852, 853, 853, 858, 859, 867, 872, 875, 876, 880, 885, 904,\n",
        "       911, 931, 932, 943, 947, 948, 954, 955, 965, 972, 980, 981, 985,\n",
        "       991, 995, 996, 998, 998])"
       ]
      }
     ],
     "prompt_number": 10
    },
    {
     "cell_type": "code",
     "collapsed": false,
     "input": [
      "plt.plot(g, m)\n",
      "plt.grid()"
     ],
     "language": "python",
     "metadata": {},
     "outputs": [
      {
       "metadata": {},
       "output_type": "display_data",
       "png": "[encoded data removed]",
       "text": [
        "<matplotlib.figure.Figure at 0x7f6e895c3750>"
       ]
      }
     ],
     "prompt_number": 11
    },
    {
     "cell_type": "code",
     "collapsed": false,
     "input": [
      "tt = pd.DataFrame(g, columns=['numbers'])\n",
      "tt.head()"
     ],
     "language": "python",
     "metadata": {},
     "outputs": [
      {
       "html": [
        "<div style=\"max-height:1000px;max-width:1500px;overflow:auto;\">\n",
        "<table border=\"1\" class=\"dataframe\">\n",
        "  <thead>\n",
        "    <tr style=\"text-align: right;\">\n",
        "      <th></th>\n",
        "      <th>numbers</th>\n",
        "    </tr>\n",
        "  </thead>\n",
        "  <tbody>\n",
        "    <tr>\n",
        "      <th>0</th>\n",
        "      <td>  5</td>\n",
        "    </tr>\n",
        "    <tr>\n",
        "      <th>1</th>\n",
        "      <td>  5</td>\n",
        "    </tr>\n",
        "    <tr>\n",
        "      <th>2</th>\n",
        "      <td>  6</td>\n",
        "    </tr>\n",
        "    <tr>\n",
        "      <th>3</th>\n",
        "      <td> 12</td>\n",
        "    </tr>\n",
        "    <tr>\n",
        "      <th>4</th>\n",
        "      <td> 16</td>\n",
        "    </tr>\n",
        "  </tbody>\n",
        "</table>\n",
        "</div>"
       ],
       "metadata": {},
       "output_type": "pyout",
       "prompt_number": 12,
       "text": [
        "   numbers\n",
        "0        5\n",
        "1        5\n",
        "2        6\n",
        "3       12\n",
        "4       16"
       ]
      }
     ],
     "prompt_number": 12
    },
    {
     "cell_type": "code",
     "collapsed": false,
     "input": [
      "def _get_mantissas_(arr):\n",
      "\t'''\n",
      "\tThe mantissa is the non-integer part of the log of a number.\n",
      "\tThis fuction uses the element-wise array operations on numpy\n",
      "\tto get the mantissas of each number's log.\n",
      "\n",
      "\tarr: numpy array of integers or floats\n",
      "\t'''\n",
      "\n",
      "\treturn np.log10(arr) - np.log10(arr).astype(int)"
     ],
     "language": "python",
     "metadata": {},
     "outputs": [],
     "prompt_number": 13
    },
    {
     "cell_type": "code",
     "collapsed": false,
     "input": [
      "tt['mantissas']=_get_mantissas_(tt.numbers)\n",
      "tt.sort(columns='mantissas')\n",
      "tt"
     ],
     "language": "python",
     "metadata": {},
     "outputs": [
      {
       "html": [
        "<div style=\"max-height:1000px;max-width:1500px;overflow:auto;\">\n",
        "<table border=\"1\" class=\"dataframe\">\n",
        "  <thead>\n",
        "    <tr style=\"text-align: right;\">\n",
        "      <th></th>\n",
        "      <th>numbers</th>\n",
        "      <th>mantissas</th>\n",
        "    </tr>\n",
        "  </thead>\n",
        "  <tbody>\n",
        "    <tr>\n",
        "      <th>0  </th>\n",
        "      <td>   5</td>\n",
        "      <td> 0.698970</td>\n",
        "    </tr>\n",
        "    <tr>\n",
        "      <th>1  </th>\n",
        "      <td>   5</td>\n",
        "      <td> 0.698970</td>\n",
        "    </tr>\n",
        "    <tr>\n",
        "      <th>2  </th>\n",
        "      <td>   6</td>\n",
        "      <td> 0.778151</td>\n",
        "    </tr>\n",
        "    <tr>\n",
        "      <th>3  </th>\n",
        "      <td>  12</td>\n",
        "      <td> 0.079181</td>\n",
        "    </tr>\n",
        "    <tr>\n",
        "      <th>4  </th>\n",
        "      <td>  16</td>\n",
        "      <td> 0.204120</td>\n",
        "    </tr>\n",
        "    <tr>\n",
        "      <th>5  </th>\n",
        "      <td>  26</td>\n",
        "      <td> 0.414973</td>\n",
        "    </tr>\n",
        "    <tr>\n",
        "      <th>6  </th>\n",
        "      <td>  29</td>\n",
        "      <td> 0.462398</td>\n",
        "    </tr>\n",
        "    <tr>\n",
        "      <th>7  </th>\n",
        "      <td>  36</td>\n",
        "      <td> 0.556303</td>\n",
        "    </tr>\n",
        "    <tr>\n",
        "      <th>8  </th>\n",
        "      <td>  36</td>\n",
        "      <td> 0.556303</td>\n",
        "    </tr>\n",
        "    <tr>\n",
        "      <th>9  </th>\n",
        "      <td>  36</td>\n",
        "      <td> 0.556303</td>\n",
        "    </tr>\n",
        "    <tr>\n",
        "      <th>10 </th>\n",
        "      <td>  37</td>\n",
        "      <td> 0.568202</td>\n",
        "    </tr>\n",
        "    <tr>\n",
        "      <th>11 </th>\n",
        "      <td>  38</td>\n",
        "      <td> 0.579784</td>\n",
        "    </tr>\n",
        "    <tr>\n",
        "      <th>12 </th>\n",
        "      <td>  39</td>\n",
        "      <td> 0.591065</td>\n",
        "    </tr>\n",
        "    <tr>\n",
        "      <th>13 </th>\n",
        "      <td>  40</td>\n",
        "      <td> 0.602060</td>\n",
        "    </tr>\n",
        "    <tr>\n",
        "      <th>14 </th>\n",
        "      <td>  42</td>\n",
        "      <td> 0.623249</td>\n",
        "    </tr>\n",
        "    <tr>\n",
        "      <th>15 </th>\n",
        "      <td>  57</td>\n",
        "      <td> 0.755875</td>\n",
        "    </tr>\n",
        "    <tr>\n",
        "      <th>16 </th>\n",
        "      <td>  64</td>\n",
        "      <td> 0.806180</td>\n",
        "    </tr>\n",
        "    <tr>\n",
        "      <th>17 </th>\n",
        "      <td>  75</td>\n",
        "      <td> 0.875061</td>\n",
        "    </tr>\n",
        "    <tr>\n",
        "      <th>18 </th>\n",
        "      <td>  75</td>\n",
        "      <td> 0.875061</td>\n",
        "    </tr>\n",
        "    <tr>\n",
        "      <th>19 </th>\n",
        "      <td>  80</td>\n",
        "      <td> 0.903090</td>\n",
        "    </tr>\n",
        "    <tr>\n",
        "      <th>20 </th>\n",
        "      <td>  88</td>\n",
        "      <td> 0.944483</td>\n",
        "    </tr>\n",
        "    <tr>\n",
        "      <th>21 </th>\n",
        "      <td>  89</td>\n",
        "      <td> 0.949390</td>\n",
        "    </tr>\n",
        "    <tr>\n",
        "      <th>22 </th>\n",
        "      <td>  97</td>\n",
        "      <td> 0.986772</td>\n",
        "    </tr>\n",
        "    <tr>\n",
        "      <th>23 </th>\n",
        "      <td> 102</td>\n",
        "      <td> 0.008600</td>\n",
        "    </tr>\n",
        "    <tr>\n",
        "      <th>24 </th>\n",
        "      <td> 111</td>\n",
        "      <td> 0.045323</td>\n",
        "    </tr>\n",
        "    <tr>\n",
        "      <th>25 </th>\n",
        "      <td> 116</td>\n",
        "      <td> 0.064458</td>\n",
        "    </tr>\n",
        "    <tr>\n",
        "      <th>26 </th>\n",
        "      <td> 119</td>\n",
        "      <td> 0.075547</td>\n",
        "    </tr>\n",
        "    <tr>\n",
        "      <th>27 </th>\n",
        "      <td> 140</td>\n",
        "      <td> 0.146128</td>\n",
        "    </tr>\n",
        "    <tr>\n",
        "      <th>28 </th>\n",
        "      <td> 142</td>\n",
        "      <td> 0.152288</td>\n",
        "    </tr>\n",
        "    <tr>\n",
        "      <th>29 </th>\n",
        "      <td> 143</td>\n",
        "      <td> 0.155336</td>\n",
        "    </tr>\n",
        "    <tr>\n",
        "      <th>...</th>\n",
        "      <td>...</td>\n",
        "      <td>...</td>\n",
        "    </tr>\n",
        "    <tr>\n",
        "      <th>170</th>\n",
        "      <td> 852</td>\n",
        "      <td> 0.930440</td>\n",
        "    </tr>\n",
        "    <tr>\n",
        "      <th>171</th>\n",
        "      <td> 853</td>\n",
        "      <td> 0.930949</td>\n",
        "    </tr>\n",
        "    <tr>\n",
        "      <th>172</th>\n",
        "      <td> 853</td>\n",
        "      <td> 0.930949</td>\n",
        "    </tr>\n",
        "    <tr>\n",
        "      <th>173</th>\n",
        "      <td> 858</td>\n",
        "      <td> 0.933487</td>\n",
        "    </tr>\n",
        "    <tr>\n",
        "      <th>174</th>\n",
        "      <td> 859</td>\n",
        "      <td> 0.933993</td>\n",
        "    </tr>\n",
        "    <tr>\n",
        "      <th>175</th>\n",
        "      <td> 867</td>\n",
        "      <td> 0.938019</td>\n",
        "    </tr>\n",
        "    <tr>\n",
        "      <th>176</th>\n",
        "      <td> 872</td>\n",
        "      <td> 0.940516</td>\n",
        "    </tr>\n",
        "    <tr>\n",
        "      <th>177</th>\n",
        "      <td> 875</td>\n",
        "      <td> 0.942008</td>\n",
        "    </tr>\n",
        "    <tr>\n",
        "      <th>178</th>\n",
        "      <td> 876</td>\n",
        "      <td> 0.942504</td>\n",
        "    </tr>\n",
        "    <tr>\n",
        "      <th>179</th>\n",
        "      <td> 880</td>\n",
        "      <td> 0.944483</td>\n",
        "    </tr>\n",
        "    <tr>\n",
        "      <th>180</th>\n",
        "      <td> 885</td>\n",
        "      <td> 0.946943</td>\n",
        "    </tr>\n",
        "    <tr>\n",
        "      <th>181</th>\n",
        "      <td> 904</td>\n",
        "      <td> 0.956168</td>\n",
        "    </tr>\n",
        "    <tr>\n",
        "      <th>182</th>\n",
        "      <td> 911</td>\n",
        "      <td> 0.959518</td>\n",
        "    </tr>\n",
        "    <tr>\n",
        "      <th>183</th>\n",
        "      <td> 931</td>\n",
        "      <td> 0.968950</td>\n",
        "    </tr>\n",
        "    <tr>\n",
        "      <th>184</th>\n",
        "      <td> 932</td>\n",
        "      <td> 0.969416</td>\n",
        "    </tr>\n",
        "    <tr>\n",
        "      <th>185</th>\n",
        "      <td> 943</td>\n",
        "      <td> 0.974512</td>\n",
        "    </tr>\n",
        "    <tr>\n",
        "      <th>186</th>\n",
        "      <td> 947</td>\n",
        "      <td> 0.976350</td>\n",
        "    </tr>\n",
        "    <tr>\n",
        "      <th>187</th>\n",
        "      <td> 948</td>\n",
        "      <td> 0.976808</td>\n",
        "    </tr>\n",
        "    <tr>\n",
        "      <th>188</th>\n",
        "      <td> 954</td>\n",
        "      <td> 0.979548</td>\n",
        "    </tr>\n",
        "    <tr>\n",
        "      <th>189</th>\n",
        "      <td> 955</td>\n",
        "      <td> 0.980003</td>\n",
        "    </tr>\n",
        "    <tr>\n",
        "      <th>190</th>\n",
        "      <td> 965</td>\n",
        "      <td> 0.984527</td>\n",
        "    </tr>\n",
        "    <tr>\n",
        "      <th>191</th>\n",
        "      <td> 972</td>\n",
        "      <td> 0.987666</td>\n",
        "    </tr>\n",
        "    <tr>\n",
        "      <th>192</th>\n",
        "      <td> 980</td>\n",
        "      <td> 0.991226</td>\n",
        "    </tr>\n",
        "    <tr>\n",
        "      <th>193</th>\n",
        "      <td> 981</td>\n",
        "      <td> 0.991669</td>\n",
        "    </tr>\n",
        "    <tr>\n",
        "      <th>194</th>\n",
        "      <td> 985</td>\n",
        "      <td> 0.993436</td>\n",
        "    </tr>\n",
        "    <tr>\n",
        "      <th>195</th>\n",
        "      <td> 991</td>\n",
        "      <td> 0.996074</td>\n",
        "    </tr>\n",
        "    <tr>\n",
        "      <th>196</th>\n",
        "      <td> 995</td>\n",
        "      <td> 0.997823</td>\n",
        "    </tr>\n",
        "    <tr>\n",
        "      <th>197</th>\n",
        "      <td> 996</td>\n",
        "      <td> 0.998259</td>\n",
        "    </tr>\n",
        "    <tr>\n",
        "      <th>198</th>\n",
        "      <td> 998</td>\n",
        "      <td> 0.999131</td>\n",
        "    </tr>\n",
        "    <tr>\n",
        "      <th>199</th>\n",
        "      <td> 998</td>\n",
        "      <td> 0.999131</td>\n",
        "    </tr>\n",
        "  </tbody>\n",
        "</table>\n",
        "<p>200 rows \u00d7 2 columns</p>\n",
        "</div>"
       ],
       "metadata": {},
       "output_type": "pyout",
       "prompt_number": 14,
       "text": [
        "     numbers  mantissas\n",
        "0          5   0.698970\n",
        "1          5   0.698970\n",
        "2          6   0.778151\n",
        "3         12   0.079181\n",
        "4         16   0.204120\n",
        "5         26   0.414973\n",
        "6         29   0.462398\n",
        "7         36   0.556303\n",
        "8         36   0.556303\n",
        "9         36   0.556303\n",
        "10        37   0.568202\n",
        "11        38   0.579784\n",
        "12        39   0.591065\n",
        "13        40   0.602060\n",
        "14        42   0.623249\n",
        "15        57   0.755875\n",
        "16        64   0.806180\n",
        "17        75   0.875061\n",
        "18        75   0.875061\n",
        "19        80   0.903090\n",
        "20        88   0.944483\n",
        "21        89   0.949390\n",
        "22        97   0.986772\n",
        "23       102   0.008600\n",
        "24       111   0.045323\n",
        "25       116   0.064458\n",
        "26       119   0.075547\n",
        "27       140   0.146128\n",
        "28       142   0.152288\n",
        "29       143   0.155336\n",
        "..       ...        ...\n",
        "170      852   0.930440\n",
        "171      853   0.930949\n",
        "172      853   0.930949\n",
        "173      858   0.933487\n",
        "174      859   0.933993\n",
        "175      867   0.938019\n",
        "176      872   0.940516\n",
        "177      875   0.942008\n",
        "178      876   0.942504\n",
        "179      880   0.944483\n",
        "180      885   0.946943\n",
        "181      904   0.956168\n",
        "182      911   0.959518\n",
        "183      931   0.968950\n",
        "184      932   0.969416\n",
        "185      943   0.974512\n",
        "186      947   0.976350\n",
        "187      948   0.976808\n",
        "188      954   0.979548\n",
        "189      955   0.980003\n",
        "190      965   0.984527\n",
        "191      972   0.987666\n",
        "192      980   0.991226\n",
        "193      981   0.991669\n",
        "194      985   0.993436\n",
        "195      991   0.996074\n",
        "196      995   0.997823\n",
        "197      996   0.998259\n",
        "198      998   0.999131\n",
        "199      998   0.999131\n",
        "\n",
        "[200 rows x 2 columns]"
       ]
      }
     ],
     "prompt_number": 14
    },
    {
     "cell_type": "code",
     "collapsed": false,
     "input": [
      "plt.plot(tt.numbers, tt.mantissas)"
     ],
     "language": "python",
     "metadata": {},
     "outputs": [
      {
       "metadata": {},
       "output_type": "pyout",
       "prompt_number": 15,
       "text": [
        "[<matplotlib.lines.Line2D at 0x7f6e893ceb10>]"
       ]
      },
      {
       "metadata": {},
       "output_type": "display_data",
       "png": "[encoded data removed]",
       "text": [
        "<matplotlib.figure.Figure at 0x7f6e89498f10>"
       ]
      }
     ],
     "prompt_number": 15
    },
    {
     "cell_type": "code",
     "collapsed": false,
     "input": [
      "plt.plot(np.arange(len(tt)), tt.mantissas)"
     ],
     "language": "python",
     "metadata": {},
     "outputs": [
      {
       "metadata": {},
       "output_type": "pyout",
       "prompt_number": 16,
       "text": [
        "[<matplotlib.lines.Line2D at 0x7f6e892f8c90>]"
       ]
      },
      {
       "metadata": {},
       "output_type": "display_data",
       "png": "[encoded data removed]",
       "text": [
        "<matplotlib.figure.Figure at 0x7f6e89406710>"
       ]
      }
     ],
     "prompt_number": 16
    },
    {
     "cell_type": "code",
     "collapsed": false,
     "input": [
      "tt['m2'] = _get_mantissas_(tt.numbers)\n",
      "sum(tt.mantissas!=tt.m2)"
     ],
     "language": "python",
     "metadata": {},
     "outputs": [
      {
       "metadata": {},
       "output_type": "pyout",
       "prompt_number": 17,
       "text": [
        "0"
       ]
      }
     ],
     "prompt_number": 17
    },
    {
     "cell_type": "code",
     "collapsed": false,
     "input": [
      "tt['ms']=tt.m2.cumsum()\n",
      "plt.plot(np.arange(len(tt.ms)), tt.ms)"
     ],
     "language": "python",
     "metadata": {},
     "outputs": [
      {
       "metadata": {},
       "output_type": "pyout",
       "prompt_number": 18,
       "text": [
        "[<matplotlib.lines.Line2D at 0x7f6e892a35d0>]"
       ]
      },
      {
       "metadata": {},
       "output_type": "display_data",
       "png": "[encoded data removed]",
       "text": [
        "<matplotlib.figure.Figure at 0x7f6e893a6f50>"
       ]
      }
     ],
     "prompt_number": 18
    },
    {
     "cell_type": "code",
     "collapsed": false,
     "input": [
      "h = 9.234\n",
      "h*=100\n",
      "str(h)[:2]"
     ],
     "language": "python",
     "metadata": {},
     "outputs": [
      {
       "metadata": {},
       "output_type": "pyout",
       "prompt_number": 19,
       "text": [
        "'92'"
       ]
      }
     ],
     "prompt_number": 19
    },
    {
     "cell_type": "code",
     "collapsed": false,
     "input": [
      "len(str((1/m[3]).astype(int)))"
     ],
     "language": "python",
     "metadata": {},
     "outputs": [
      {
       "metadata": {},
       "output_type": "pyout",
       "prompt_number": 20,
       "text": [
        "2"
       ]
      }
     ],
     "prompt_number": 20
    },
    {
     "cell_type": "code",
     "collapsed": false,
     "input": [
      "eb = np.arange(10,100).reshape(90,1)\n",
      "eb = eb.astype(str)\n",
      "eb[:,0]"
     ],
     "language": "python",
     "metadata": {},
     "outputs": [
      {
       "metadata": {},
       "output_type": "pyout",
       "prompt_number": 21,
       "text": [
        "array(['10', '11', '12', '13', '14', '15', '16', '17', '18', '19', '20',\n",
        "       '21', '22', '23', '24', '25', '26', '27', '28', '29', '30', '31',\n",
        "       '32', '33', '34', '35', '36', '37', '38', '39', '40', '41', '42',\n",
        "       '43', '44', '45', '46', '47', '48', '49', '50', '51', '52', '53',\n",
        "       '54', '55', '56', '57', '58', '59', '60', '61', '62', '63', '64',\n",
        "       '65', '66', '67', '68', '69', '70', '71', '72', '73', '74', '75',\n",
        "       '76', '77', '78', '79', '80', '81', '82', '83', '84', '85', '86',\n",
        "       '87', '88', '89', '90', '91', '92', '93', '94', '95', '96', '97',\n",
        "       '98', '99'], \n",
        "      dtype='|S21')"
       ]
      }
     ],
     "prompt_number": 21
    },
    {
     "cell_type": "code",
     "collapsed": false,
     "input": [
      "eb = np.arange(10,100)\n",
      "eb = eb.astype(str)\n",
      "f = np.array([l[0] for l in eb]).reshape(90,1)\n",
      "s = np.array([l[1] for l in eb]).reshape(90,1)\n",
      "eb = np.hstack((f,s)).astype(int)\n",
      "eb[:,0]"
     ],
     "language": "python",
     "metadata": {},
     "outputs": [
      {
       "metadata": {},
       "output_type": "pyout",
       "prompt_number": 22,
       "text": [
        "array([1, 1, 1, 1, 1, 1, 1, 1, 1, 1, 2, 2, 2, 2, 2, 2, 2, 2, 2, 2, 3, 3, 3,\n",
        "       3, 3, 3, 3, 3, 3, 3, 4, 4, 4, 4, 4, 4, 4, 4, 4, 4, 5, 5, 5, 5, 5, 5,\n",
        "       5, 5, 5, 5, 6, 6, 6, 6, 6, 6, 6, 6, 6, 6, 7, 7, 7, 7, 7, 7, 7, 7, 7,\n",
        "       7, 8, 8, 8, 8, 8, 8, 8, 8, 8, 8, 9, 9, 9, 9, 9, 9, 9, 9, 9, 9])"
       ]
      }
     ],
     "prompt_number": 22
    },
    {
     "cell_type": "code",
     "collapsed": false,
     "input": [
      "e2 = np.arange(10,100)\n",
      "p = np.log10(1+(1./e2))\n",
      "plt.bar(e2,p)"
     ],
     "language": "python",
     "metadata": {},
     "outputs": [
      {
       "metadata": {},
       "output_type": "pyout",
       "prompt_number": 23,
       "text": [
        "<Container object of 90 artists>"
       ]
      },
      {
       "metadata": {},
       "output_type": "display_data",
       "png": "[encoded data removed]",
       "text": [
        "<matplotlib.figure.Figure at 0x7f6e892db7d0>"
       ]
      }
     ],
     "prompt_number": 23
    },
    {
     "cell_type": "code",
     "collapsed": false,
     "input": [
      "e3 = e2.astype(str)\n",
      "s = np.array([l[1] for l in e3]).astype(int)\n",
      "p[s == 0].sum()"
     ],
     "language": "python",
     "metadata": {},
     "outputs": [
      {
       "metadata": {},
       "output_type": "pyout",
       "prompt_number": 24,
       "text": [
        "0.11967926859688073"
       ]
      }
     ],
     "prompt_number": 24
    },
    {
     "cell_type": "code",
     "collapsed": false,
     "input": [
      "def __first__(output_DF=True):\n",
      "\t'''\n",
      "\tReturns the expected probabilities of the first digits\n",
      "\taccording to Benford's distribution.\n",
      "\t\n",
      "\t- output_DF: Defaluts to True, outputing a pandas DataFrame\n",
      "\t\t\t\twith the probabilities, and the respective\n",
      "\t\t\t\tdigits as the index, or a numpy array if False, when\n",
      "\t\t\t\tthere will not be an index, and one must remember\n",
      "\t\t\t\tthat the indexing for the 1 probability will be \n",
      "\t\t\t\t[0], [1] for the two, and so on up untill [8] for\n",
      "\t\t\t\tthe probability of the first digit 9.\n",
      "\t'''\n",
      "\tFirst_Dig = np.arange(1,10)\n",
      "\tExpected = np.log10(1 + (1. / First_Dig))\n",
      "\tif output_DF == False:\n",
      "\t\treturn Expected\n",
      "\telse:\n",
      "\t\treturn pd.DataFrame({'Expected':Expected,\\\n",
      "\t\t\t'First_Dig':First_Dig}).set_index('First_Dig')"
     ],
     "language": "python",
     "metadata": {},
     "outputs": [],
     "prompt_number": 25
    },
    {
     "cell_type": "code",
     "collapsed": false,
     "input": [
      "np.array(range(10)*10)"
     ],
     "language": "python",
     "metadata": {},
     "outputs": [
      {
       "metadata": {},
       "output_type": "pyout",
       "prompt_number": 26,
       "text": [
        "array([0, 1, 2, 3, 4, 5, 6, 7, 8, 9, 0, 1, 2, 3, 4, 5, 6, 7, 8, 9, 0, 1, 2,\n",
        "       3, 4, 5, 6, 7, 8, 9, 0, 1, 2, 3, 4, 5, 6, 7, 8, 9, 0, 1, 2, 3, 4, 5,\n",
        "       6, 7, 8, 9, 0, 1, 2, 3, 4, 5, 6, 7, 8, 9, 0, 1, 2, 3, 4, 5, 6, 7, 8,\n",
        "       9, 0, 1, 2, 3, 4, 5, 6, 7, 8, 9, 0, 1, 2, 3, 4, 5, 6, 7, 8, 9, 0, 1,\n",
        "       2, 3, 4, 5, 6, 7, 8, 9])"
       ]
      }
     ],
     "prompt_number": 26
    },
    {
     "cell_type": "code",
     "collapsed": false,
     "input": [
      "__first__()"
     ],
     "language": "python",
     "metadata": {},
     "outputs": [
      {
       "html": [
        "<div style=\"max-height:1000px;max-width:1500px;overflow:auto;\">\n",
        "<table border=\"1\" class=\"dataframe\">\n",
        "  <thead>\n",
        "    <tr style=\"text-align: right;\">\n",
        "      <th></th>\n",
        "      <th>Expected</th>\n",
        "    </tr>\n",
        "    <tr>\n",
        "      <th>First_Dig</th>\n",
        "      <th></th>\n",
        "    </tr>\n",
        "  </thead>\n",
        "  <tbody>\n",
        "    <tr>\n",
        "      <th>1</th>\n",
        "      <td> 0.301030</td>\n",
        "    </tr>\n",
        "    <tr>\n",
        "      <th>2</th>\n",
        "      <td> 0.176091</td>\n",
        "    </tr>\n",
        "    <tr>\n",
        "      <th>3</th>\n",
        "      <td> 0.124939</td>\n",
        "    </tr>\n",
        "    <tr>\n",
        "      <th>4</th>\n",
        "      <td> 0.096910</td>\n",
        "    </tr>\n",
        "    <tr>\n",
        "      <th>5</th>\n",
        "      <td> 0.079181</td>\n",
        "    </tr>\n",
        "    <tr>\n",
        "      <th>6</th>\n",
        "      <td> 0.066947</td>\n",
        "    </tr>\n",
        "    <tr>\n",
        "      <th>7</th>\n",
        "      <td> 0.057992</td>\n",
        "    </tr>\n",
        "    <tr>\n",
        "      <th>8</th>\n",
        "      <td> 0.051153</td>\n",
        "    </tr>\n",
        "    <tr>\n",
        "      <th>9</th>\n",
        "      <td> 0.045757</td>\n",
        "    </tr>\n",
        "  </tbody>\n",
        "</table>\n",
        "</div>"
       ],
       "metadata": {},
       "output_type": "pyout",
       "prompt_number": 27,
       "text": [
        "           Expected\n",
        "First_Dig          \n",
        "1          0.301030\n",
        "2          0.176091\n",
        "3          0.124939\n",
        "4          0.096910\n",
        "5          0.079181\n",
        "6          0.066947\n",
        "7          0.057992\n",
        "8          0.051153\n",
        "9          0.045757"
       ]
      }
     ],
     "prompt_number": 27
    },
    {
     "cell_type": "code",
     "collapsed": false,
     "input": [
      "a6 = np.arange(1,10)\n",
      "plt.bar(a6,__first__().Expected)"
     ],
     "language": "python",
     "metadata": {},
     "outputs": [
      {
       "metadata": {},
       "output_type": "pyout",
       "prompt_number": 28,
       "text": [
        "<Container object of 9 artists>"
       ]
      },
      {
       "metadata": {},
       "output_type": "display_data",
       "png": "[encoded data removed]",
       "text": [
        "<matplotlib.figure.Figure at 0x7f6e89150810>"
       ]
      }
     ],
     "prompt_number": 28
    },
    {
     "cell_type": "code",
     "collapsed": false,
     "input": [
      "def __second__(output_DF=True):\n",
      "\t'''\n",
      "\tReturns the expected probabilities of the second digits\n",
      "\taccording to Benford's distribution.\n",
      "\t\n",
      "\toutput_DF: Defaluts to Ture, Outputing a pandas DataFrame\n",
      "\t\t\twith the digit as index and the respective probability\n",
      "\t\t\tin the 'prob' column, or a numpy array if False. In\n",
      "\t\t\tthis case, coincidently the indexing within the array\n",
      "\t\t\twill match the second digits -> [0] - prob. of 0,\n",
      "\t\t\t[1] - prob of 1, and sort\ton up untill [9] - prob of 9.\n",
      "\t'''\n",
      "\ta = np.arange(10,100)\n",
      "\tExpected = np.log10(1 + (1. / a))\n",
      "\tSec_Dig = np.array(range(10)*9)\n",
      "\tif output_DF == False:\n",
      "\t\tc = np.zeros(10)\n",
      "\t\tfor n in Sec_Dig:\n",
      "\t\t\tc[n] = Expected[Sec_Dig == n].sum()\n",
      "\t\treturn c\n",
      "\telse:\n",
      "\t\td = pd.DataFrame({'Expected': Expected, 'Sec_Dig': Sec_Dig},\\\n",
      "\t\tindex = a)\n",
      "\t\treturn d.groupby('Sec_Dig').agg(sum)"
     ],
     "language": "python",
     "metadata": {},
     "outputs": [],
     "prompt_number": 29
    },
    {
     "cell_type": "code",
     "collapsed": false,
     "input": [
      "__second__()"
     ],
     "language": "python",
     "metadata": {},
     "outputs": [
      {
       "html": [
        "<div style=\"max-height:1000px;max-width:1500px;overflow:auto;\">\n",
        "<table border=\"1\" class=\"dataframe\">\n",
        "  <thead>\n",
        "    <tr style=\"text-align: right;\">\n",
        "      <th></th>\n",
        "      <th>Expected</th>\n",
        "    </tr>\n",
        "    <tr>\n",
        "      <th>Sec_Dig</th>\n",
        "      <th></th>\n",
        "    </tr>\n",
        "  </thead>\n",
        "  <tbody>\n",
        "    <tr>\n",
        "      <th>0</th>\n",
        "      <td> 0.119679</td>\n",
        "    </tr>\n",
        "    <tr>\n",
        "      <th>1</th>\n",
        "      <td> 0.113890</td>\n",
        "    </tr>\n",
        "    <tr>\n",
        "      <th>2</th>\n",
        "      <td> 0.108821</td>\n",
        "    </tr>\n",
        "    <tr>\n",
        "      <th>3</th>\n",
        "      <td> 0.104330</td>\n",
        "    </tr>\n",
        "    <tr>\n",
        "      <th>4</th>\n",
        "      <td> 0.100308</td>\n",
        "    </tr>\n",
        "    <tr>\n",
        "      <th>5</th>\n",
        "      <td> 0.096677</td>\n",
        "    </tr>\n",
        "    <tr>\n",
        "      <th>6</th>\n",
        "      <td> 0.093375</td>\n",
        "    </tr>\n",
        "    <tr>\n",
        "      <th>7</th>\n",
        "      <td> 0.090352</td>\n",
        "    </tr>\n",
        "    <tr>\n",
        "      <th>8</th>\n",
        "      <td> 0.087570</td>\n",
        "    </tr>\n",
        "    <tr>\n",
        "      <th>9</th>\n",
        "      <td> 0.084997</td>\n",
        "    </tr>\n",
        "  </tbody>\n",
        "</table>\n",
        "</div>"
       ],
       "metadata": {},
       "output_type": "pyout",
       "prompt_number": 30,
       "text": [
        "         Expected\n",
        "Sec_Dig          \n",
        "0        0.119679\n",
        "1        0.113890\n",
        "2        0.108821\n",
        "3        0.104330\n",
        "4        0.100308\n",
        "5        0.096677\n",
        "6        0.093375\n",
        "7        0.090352\n",
        "8        0.087570\n",
        "9        0.084997"
       ]
      }
     ],
     "prompt_number": 30
    },
    {
     "cell_type": "code",
     "collapsed": false,
     "input": [
      "a5 = np.arange(0,10)\n",
      "plt.plot(a5, __second__().Expected)\n",
      "plt.ylim((0,.15))"
     ],
     "language": "python",
     "metadata": {},
     "outputs": [
      {
       "metadata": {},
       "output_type": "pyout",
       "prompt_number": 31,
       "text": [
        "(0, 0.15)"
       ]
      },
      {
       "metadata": {},
       "output_type": "display_data",
       "png": "[encoded data removed]",
       "text": [
        "<matplotlib.figure.Figure at 0x7f6e8923bf50>"
       ]
      }
     ],
     "prompt_number": 31
    },
    {
     "cell_type": "code",
     "collapsed": false,
     "input": [
      "g =__first__()\n",
      "g"
     ],
     "language": "python",
     "metadata": {},
     "outputs": [
      {
       "html": [
        "<div style=\"max-height:1000px;max-width:1500px;overflow:auto;\">\n",
        "<table border=\"1\" class=\"dataframe\">\n",
        "  <thead>\n",
        "    <tr style=\"text-align: right;\">\n",
        "      <th></th>\n",
        "      <th>Expected</th>\n",
        "    </tr>\n",
        "    <tr>\n",
        "      <th>First_Dig</th>\n",
        "      <th></th>\n",
        "    </tr>\n",
        "  </thead>\n",
        "  <tbody>\n",
        "    <tr>\n",
        "      <th>1</th>\n",
        "      <td> 0.301030</td>\n",
        "    </tr>\n",
        "    <tr>\n",
        "      <th>2</th>\n",
        "      <td> 0.176091</td>\n",
        "    </tr>\n",
        "    <tr>\n",
        "      <th>3</th>\n",
        "      <td> 0.124939</td>\n",
        "    </tr>\n",
        "    <tr>\n",
        "      <th>4</th>\n",
        "      <td> 0.096910</td>\n",
        "    </tr>\n",
        "    <tr>\n",
        "      <th>5</th>\n",
        "      <td> 0.079181</td>\n",
        "    </tr>\n",
        "    <tr>\n",
        "      <th>6</th>\n",
        "      <td> 0.066947</td>\n",
        "    </tr>\n",
        "    <tr>\n",
        "      <th>7</th>\n",
        "      <td> 0.057992</td>\n",
        "    </tr>\n",
        "    <tr>\n",
        "      <th>8</th>\n",
        "      <td> 0.051153</td>\n",
        "    </tr>\n",
        "    <tr>\n",
        "      <th>9</th>\n",
        "      <td> 0.045757</td>\n",
        "    </tr>\n",
        "  </tbody>\n",
        "</table>\n",
        "</div>"
       ],
       "metadata": {},
       "output_type": "pyout",
       "prompt_number": 32,
       "text": [
        "           Expected\n",
        "First_Dig          \n",
        "1          0.301030\n",
        "2          0.176091\n",
        "3          0.124939\n",
        "4          0.096910\n",
        "5          0.079181\n",
        "6          0.066947\n",
        "7          0.057992\n",
        "8          0.051153\n",
        "9          0.045757"
       ]
      }
     ],
     "prompt_number": 32
    },
    {
     "cell_type": "code",
     "collapsed": false,
     "input": [
      "__second__()"
     ],
     "language": "python",
     "metadata": {},
     "outputs": [
      {
       "html": [
        "<div style=\"max-height:1000px;max-width:1500px;overflow:auto;\">\n",
        "<table border=\"1\" class=\"dataframe\">\n",
        "  <thead>\n",
        "    <tr style=\"text-align: right;\">\n",
        "      <th></th>\n",
        "      <th>Expected</th>\n",
        "    </tr>\n",
        "    <tr>\n",
        "      <th>Sec_Dig</th>\n",
        "      <th></th>\n",
        "    </tr>\n",
        "  </thead>\n",
        "  <tbody>\n",
        "    <tr>\n",
        "      <th>0</th>\n",
        "      <td> 0.119679</td>\n",
        "    </tr>\n",
        "    <tr>\n",
        "      <th>1</th>\n",
        "      <td> 0.113890</td>\n",
        "    </tr>\n",
        "    <tr>\n",
        "      <th>2</th>\n",
        "      <td> 0.108821</td>\n",
        "    </tr>\n",
        "    <tr>\n",
        "      <th>3</th>\n",
        "      <td> 0.104330</td>\n",
        "    </tr>\n",
        "    <tr>\n",
        "      <th>4</th>\n",
        "      <td> 0.100308</td>\n",
        "    </tr>\n",
        "    <tr>\n",
        "      <th>5</th>\n",
        "      <td> 0.096677</td>\n",
        "    </tr>\n",
        "    <tr>\n",
        "      <th>6</th>\n",
        "      <td> 0.093375</td>\n",
        "    </tr>\n",
        "    <tr>\n",
        "      <th>7</th>\n",
        "      <td> 0.090352</td>\n",
        "    </tr>\n",
        "    <tr>\n",
        "      <th>8</th>\n",
        "      <td> 0.087570</td>\n",
        "    </tr>\n",
        "    <tr>\n",
        "      <th>9</th>\n",
        "      <td> 0.084997</td>\n",
        "    </tr>\n",
        "  </tbody>\n",
        "</table>\n",
        "</div>"
       ],
       "metadata": {},
       "output_type": "pyout",
       "prompt_number": 33,
       "text": [
        "         Expected\n",
        "Sec_Dig          \n",
        "0        0.119679\n",
        "1        0.113890\n",
        "2        0.108821\n",
        "3        0.104330\n",
        "4        0.100308\n",
        "5        0.096677\n",
        "6        0.093375\n",
        "7        0.090352\n",
        "8        0.087570\n",
        "9        0.084997"
       ]
      }
     ],
     "prompt_number": 33
    },
    {
     "cell_type": "code",
     "collapsed": false,
     "input": [
      "def __firstTwo__(output_DF=True):\n",
      "\t'''\n",
      "\tReturns the expected probabilities of the first two digits\n",
      "\taccording to Benford's distribution.\n",
      "\t\n",
      "\t- output_DF: Defaluts to Ture, Outputing a pandas DataFrame\n",
      "\t\t\t\tobject with the probabilities and the respective\n",
      "\t\t\t\tdigits as the index, or a numpy array if False, when\n",
      "\t\t\t\tthere will not be an index column, and one must\n",
      "\t\t\t\tremember that the indexing for the 10 probability\n",
      "\t\t\t\twill be [0], [1] for 11, and so on up untill [89] for\n",
      "\t\t\t\tthe probability of the first digit 99.\n",
      "\t'''\n",
      "\tFirst_2_Dig = np.arange(10,100)\n",
      "\tExpected = np.log10(1 + (1. / First_2_Dig))\n",
      "\tif output_DF == False:\n",
      "\t\treturn Expected\n",
      "\telse:\n",
      "\t\treturn pd.DataFrame({'First_2_Dig':First_2_Dig,\\\n",
      "\t\t\t'Expected':Expected}).set_index('First_2_Dig')"
     ],
     "language": "python",
     "metadata": {},
     "outputs": [],
     "prompt_number": 34
    },
    {
     "cell_type": "code",
     "collapsed": false,
     "input": [
      "__firstTwo__().head()"
     ],
     "language": "python",
     "metadata": {},
     "outputs": [
      {
       "html": [
        "<div style=\"max-height:1000px;max-width:1500px;overflow:auto;\">\n",
        "<table border=\"1\" class=\"dataframe\">\n",
        "  <thead>\n",
        "    <tr style=\"text-align: right;\">\n",
        "      <th></th>\n",
        "      <th>Expected</th>\n",
        "    </tr>\n",
        "    <tr>\n",
        "      <th>First_2_Dig</th>\n",
        "      <th></th>\n",
        "    </tr>\n",
        "  </thead>\n",
        "  <tbody>\n",
        "    <tr>\n",
        "      <th>10</th>\n",
        "      <td> 0.041393</td>\n",
        "    </tr>\n",
        "    <tr>\n",
        "      <th>11</th>\n",
        "      <td> 0.037789</td>\n",
        "    </tr>\n",
        "    <tr>\n",
        "      <th>12</th>\n",
        "      <td> 0.034762</td>\n",
        "    </tr>\n",
        "    <tr>\n",
        "      <th>13</th>\n",
        "      <td> 0.032185</td>\n",
        "    </tr>\n",
        "    <tr>\n",
        "      <th>14</th>\n",
        "      <td> 0.029963</td>\n",
        "    </tr>\n",
        "  </tbody>\n",
        "</table>\n",
        "</div>"
       ],
       "metadata": {},
       "output_type": "pyout",
       "prompt_number": 35,
       "text": [
        "             Expected\n",
        "First_2_Dig          \n",
        "10           0.041393\n",
        "11           0.037789\n",
        "12           0.034762\n",
        "13           0.032185\n",
        "14           0.029963"
       ]
      }
     ],
     "prompt_number": 35
    },
    {
     "cell_type": "code",
     "collapsed": false,
     "input": [
      "r = np.absolute(1000 * np.random.randn(1000))\n",
      "r[:10]"
     ],
     "language": "python",
     "metadata": {},
     "outputs": [
      {
       "metadata": {},
       "output_type": "pyout",
       "prompt_number": 36,
       "text": [
        "array([ 2258.35943589,   889.68799977,   788.2992558 ,   498.14802163,\n",
        "        1861.35376111,  1036.00590376,  1083.24440366,  1344.28445015,\n",
        "         208.30619772,   398.00773428])"
       ]
      }
     ],
     "prompt_number": 36
    },
    {
     "cell_type": "code",
     "collapsed": false,
     "input": [
      "a = pd.Series(r)\n",
      "a.head()"
     ],
     "language": "python",
     "metadata": {},
     "outputs": [
      {
       "metadata": {},
       "output_type": "pyout",
       "prompt_number": 37,
       "text": [
        "0    2258.359436\n",
        "1     889.688000\n",
        "2     788.299256\n",
        "3     498.148022\n",
        "4    1861.353761\n",
        "dtype: float64"
       ]
      }
     ],
     "prompt_number": 37
    },
    {
     "cell_type": "code",
     "collapsed": false,
     "input": [
      "a = a[a >= 10]\n",
      "a.head()"
     ],
     "language": "python",
     "metadata": {},
     "outputs": [
      {
       "metadata": {},
       "output_type": "pyout",
       "prompt_number": 38,
       "text": [
        "0    2258.359436\n",
        "1     889.688000\n",
        "2     788.299256\n",
        "3     498.148022\n",
        "4    1861.353761\n",
        "dtype: float64"
       ]
      }
     ],
     "prompt_number": 38
    },
    {
     "cell_type": "code",
     "collapsed": false,
     "input": [
      "a = a.apply(str).apply(lambda x: x[:2]).apply(int)\n",
      "a.head()"
     ],
     "language": "python",
     "metadata": {},
     "outputs": [
      {
       "metadata": {},
       "output_type": "pyout",
       "prompt_number": 39,
       "text": [
        "0    22\n",
        "1    88\n",
        "2    78\n",
        "3    49\n",
        "4    18\n",
        "dtype: int64"
       ]
      }
     ],
     "prompt_number": 39
    },
    {
     "cell_type": "code",
     "collapsed": false,
     "input": [
      "v = a.value_counts()\n",
      "v.head()"
     ],
     "language": "python",
     "metadata": {},
     "outputs": [
      {
       "metadata": {},
       "output_type": "pyout",
       "prompt_number": 40,
       "text": [
        "10    54\n",
        "11    48\n",
        "13    45\n",
        "14    43\n",
        "12    39\n",
        "dtype: int64"
       ]
      }
     ],
     "prompt_number": 40
    },
    {
     "cell_type": "code",
     "collapsed": false,
     "input": [
      "p = a.value_counts(normalize=True)\n",
      "p.head()"
     ],
     "language": "python",
     "metadata": {},
     "outputs": [
      {
       "metadata": {},
       "output_type": "pyout",
       "prompt_number": 41,
       "text": [
        "10    0.054271\n",
        "11    0.048241\n",
        "13    0.045226\n",
        "14    0.043216\n",
        "12    0.039196\n",
        "dtype: float64"
       ]
      }
     ],
     "prompt_number": 41
    },
    {
     "cell_type": "code",
     "collapsed": false,
     "input": [
      "df = pd.DataFrame({'Counts': v, 'Found': p}).sort_index()\n",
      "df.head()"
     ],
     "language": "python",
     "metadata": {},
     "outputs": [
      {
       "html": [
        "<div style=\"max-height:1000px;max-width:1500px;overflow:auto;\">\n",
        "<table border=\"1\" class=\"dataframe\">\n",
        "  <thead>\n",
        "    <tr style=\"text-align: right;\">\n",
        "      <th></th>\n",
        "      <th>Counts</th>\n",
        "      <th>Found</th>\n",
        "    </tr>\n",
        "  </thead>\n",
        "  <tbody>\n",
        "    <tr>\n",
        "      <th>10</th>\n",
        "      <td> 54</td>\n",
        "      <td> 0.054271</td>\n",
        "    </tr>\n",
        "    <tr>\n",
        "      <th>11</th>\n",
        "      <td> 48</td>\n",
        "      <td> 0.048241</td>\n",
        "    </tr>\n",
        "    <tr>\n",
        "      <th>12</th>\n",
        "      <td> 39</td>\n",
        "      <td> 0.039196</td>\n",
        "    </tr>\n",
        "    <tr>\n",
        "      <th>13</th>\n",
        "      <td> 45</td>\n",
        "      <td> 0.045226</td>\n",
        "    </tr>\n",
        "    <tr>\n",
        "      <th>14</th>\n",
        "      <td> 43</td>\n",
        "      <td> 0.043216</td>\n",
        "    </tr>\n",
        "  </tbody>\n",
        "</table>\n",
        "</div>"
       ],
       "metadata": {},
       "output_type": "pyout",
       "prompt_number": 42,
       "text": [
        "    Counts     Found\n",
        "10      54  0.054271\n",
        "11      48  0.048241\n",
        "12      39  0.039196\n",
        "13      45  0.045226\n",
        "14      43  0.043216"
       ]
      }
     ],
     "prompt_number": 42
    },
    {
     "cell_type": "code",
     "collapsed": false,
     "input": [
      "len(df.index)"
     ],
     "language": "python",
     "metadata": {},
     "outputs": [
      {
       "metadata": {},
       "output_type": "pyout",
       "prompt_number": 43,
       "text": [
        "90"
       ]
      }
     ],
     "prompt_number": 43
    },
    {
     "cell_type": "code",
     "collapsed": false,
     "input": [
      "# if len(df.index<90):\n",
      "df2 = df.reindex(np.arange(10,100))\n"
     ],
     "language": "python",
     "metadata": {},
     "outputs": [],
     "prompt_number": 44
    },
    {
     "cell_type": "code",
     "collapsed": false,
     "input": [
      "df2.ix[df2.Counts.isnull()]"
     ],
     "language": "python",
     "metadata": {},
     "outputs": [
      {
       "html": [
        "<div style=\"max-height:1000px;max-width:1500px;overflow:auto;\">\n",
        "<table border=\"1\" class=\"dataframe\">\n",
        "  <thead>\n",
        "    <tr style=\"text-align: right;\">\n",
        "      <th></th>\n",
        "      <th>Counts</th>\n",
        "      <th>Found</th>\n",
        "    </tr>\n",
        "  </thead>\n",
        "  <tbody>\n",
        "  </tbody>\n",
        "</table>\n",
        "</div>"
       ],
       "metadata": {},
       "output_type": "pyout",
       "prompt_number": 45,
       "text": [
        "Empty DataFrame\n",
        "Columns: [Counts, Found]\n",
        "Index: []"
       ]
      }
     ],
     "prompt_number": 45
    },
    {
     "cell_type": "code",
     "collapsed": false,
     "input": [
      "df2 = df2.fillna(0)\n",
      "df2.ix[df2.Counts.isnull()]"
     ],
     "language": "python",
     "metadata": {},
     "outputs": [
      {
       "html": [
        "<div style=\"max-height:1000px;max-width:1500px;overflow:auto;\">\n",
        "<table border=\"1\" class=\"dataframe\">\n",
        "  <thead>\n",
        "    <tr style=\"text-align: right;\">\n",
        "      <th></th>\n",
        "      <th>Counts</th>\n",
        "      <th>Found</th>\n",
        "    </tr>\n",
        "  </thead>\n",
        "  <tbody>\n",
        "  </tbody>\n",
        "</table>\n",
        "</div>"
       ],
       "metadata": {},
       "output_type": "pyout",
       "prompt_number": 46,
       "text": [
        "Empty DataFrame\n",
        "Columns: [Counts, Found]\n",
        "Index: []"
       ]
      }
     ],
     "prompt_number": 46
    },
    {
     "cell_type": "code",
     "collapsed": false,
     "input": [
      "df2 = __firstTwo__().join(df2)\n",
      "df2.head()"
     ],
     "language": "python",
     "metadata": {},
     "outputs": [
      {
       "html": [
        "<div style=\"max-height:1000px;max-width:1500px;overflow:auto;\">\n",
        "<table border=\"1\" class=\"dataframe\">\n",
        "  <thead>\n",
        "    <tr style=\"text-align: right;\">\n",
        "      <th></th>\n",
        "      <th>Expected</th>\n",
        "      <th>Counts</th>\n",
        "      <th>Found</th>\n",
        "    </tr>\n",
        "    <tr>\n",
        "      <th>First_2_Dig</th>\n",
        "      <th></th>\n",
        "      <th></th>\n",
        "      <th></th>\n",
        "    </tr>\n",
        "  </thead>\n",
        "  <tbody>\n",
        "    <tr>\n",
        "      <th>10</th>\n",
        "      <td> 0.041393</td>\n",
        "      <td> 54</td>\n",
        "      <td> 0.054271</td>\n",
        "    </tr>\n",
        "    <tr>\n",
        "      <th>11</th>\n",
        "      <td> 0.037789</td>\n",
        "      <td> 48</td>\n",
        "      <td> 0.048241</td>\n",
        "    </tr>\n",
        "    <tr>\n",
        "      <th>12</th>\n",
        "      <td> 0.034762</td>\n",
        "      <td> 39</td>\n",
        "      <td> 0.039196</td>\n",
        "    </tr>\n",
        "    <tr>\n",
        "      <th>13</th>\n",
        "      <td> 0.032185</td>\n",
        "      <td> 45</td>\n",
        "      <td> 0.045226</td>\n",
        "    </tr>\n",
        "    <tr>\n",
        "      <th>14</th>\n",
        "      <td> 0.029963</td>\n",
        "      <td> 43</td>\n",
        "      <td> 0.043216</td>\n",
        "    </tr>\n",
        "  </tbody>\n",
        "</table>\n",
        "</div>"
       ],
       "metadata": {},
       "output_type": "pyout",
       "prompt_number": 47,
       "text": [
        "             Expected  Counts     Found\n",
        "First_2_Dig                            \n",
        "10           0.041393      54  0.054271\n",
        "11           0.037789      48  0.048241\n",
        "12           0.034762      39  0.039196\n",
        "13           0.032185      45  0.045226\n",
        "14           0.029963      43  0.043216"
       ]
      }
     ],
     "prompt_number": 47
    },
    {
     "cell_type": "code",
     "collapsed": false,
     "input": [
      "fig = plt.figure(figsize=(15,10))\n",
      "ax = fig.add_subplot(111)\n",
      "ax.plot(df2.index,df2.Expected, color='r',linewidth=2.5)\n",
      "ax.bar(df2.index, df2.Found)\n"
     ],
     "language": "python",
     "metadata": {},
     "outputs": [
      {
       "metadata": {},
       "output_type": "pyout",
       "prompt_number": 48,
       "text": [
        "<Container object of 90 artists>"
       ]
      },
      {
       "metadata": {},
       "output_type": "display_data",
       "png": "[encoded data removed]",
       "text": [
        "<matplotlib.figure.Figure at 0x7f6e88f3ad90>"
       ]
      }
     ],
     "prompt_number": 48
    },
    {
     "cell_type": "code",
     "collapsed": false,
     "input": [
      "df2['AbsDif'] = np.absolute(df2.Found - df2.Expected)\n",
      "df2[30:40]"
     ],
     "language": "python",
     "metadata": {},
     "outputs": [
      {
       "html": [
        "<div style=\"max-height:1000px;max-width:1500px;overflow:auto;\">\n",
        "<table border=\"1\" class=\"dataframe\">\n",
        "  <thead>\n",
        "    <tr style=\"text-align: right;\">\n",
        "      <th></th>\n",
        "      <th>Expected</th>\n",
        "      <th>Counts</th>\n",
        "      <th>Found</th>\n",
        "      <th>AbsDif</th>\n",
        "    </tr>\n",
        "    <tr>\n",
        "      <th>First_2_Dig</th>\n",
        "      <th></th>\n",
        "      <th></th>\n",
        "      <th></th>\n",
        "      <th></th>\n",
        "    </tr>\n",
        "  </thead>\n",
        "  <tbody>\n",
        "    <tr>\n",
        "      <th>40</th>\n",
        "      <td> 0.010724</td>\n",
        "      <td>  5</td>\n",
        "      <td> 0.005025</td>\n",
        "      <td> 0.005699</td>\n",
        "    </tr>\n",
        "    <tr>\n",
        "      <th>41</th>\n",
        "      <td> 0.010465</td>\n",
        "      <td> 14</td>\n",
        "      <td> 0.014070</td>\n",
        "      <td> 0.003605</td>\n",
        "    </tr>\n",
        "    <tr>\n",
        "      <th>42</th>\n",
        "      <td> 0.010219</td>\n",
        "      <td>  8</td>\n",
        "      <td> 0.008040</td>\n",
        "      <td> 0.002179</td>\n",
        "    </tr>\n",
        "    <tr>\n",
        "      <th>43</th>\n",
        "      <td> 0.009984</td>\n",
        "      <td>  5</td>\n",
        "      <td> 0.005025</td>\n",
        "      <td> 0.004959</td>\n",
        "    </tr>\n",
        "    <tr>\n",
        "      <th>44</th>\n",
        "      <td> 0.009760</td>\n",
        "      <td> 12</td>\n",
        "      <td> 0.012060</td>\n",
        "      <td> 0.002300</td>\n",
        "    </tr>\n",
        "    <tr>\n",
        "      <th>45</th>\n",
        "      <td> 0.009545</td>\n",
        "      <td>  6</td>\n",
        "      <td> 0.006030</td>\n",
        "      <td> 0.003515</td>\n",
        "    </tr>\n",
        "    <tr>\n",
        "      <th>46</th>\n",
        "      <td> 0.009340</td>\n",
        "      <td>  8</td>\n",
        "      <td> 0.008040</td>\n",
        "      <td> 0.001300</td>\n",
        "    </tr>\n",
        "    <tr>\n",
        "      <th>47</th>\n",
        "      <td> 0.009143</td>\n",
        "      <td>  7</td>\n",
        "      <td> 0.007035</td>\n",
        "      <td> 0.002108</td>\n",
        "    </tr>\n",
        "    <tr>\n",
        "      <th>48</th>\n",
        "      <td> 0.008955</td>\n",
        "      <td>  4</td>\n",
        "      <td> 0.004020</td>\n",
        "      <td> 0.004935</td>\n",
        "    </tr>\n",
        "    <tr>\n",
        "      <th>49</th>\n",
        "      <td> 0.008774</td>\n",
        "      <td>  3</td>\n",
        "      <td> 0.003015</td>\n",
        "      <td> 0.005759</td>\n",
        "    </tr>\n",
        "  </tbody>\n",
        "</table>\n",
        "</div>"
       ],
       "metadata": {},
       "output_type": "pyout",
       "prompt_number": 49,
       "text": [
        "             Expected  Counts     Found    AbsDif\n",
        "First_2_Dig                                      \n",
        "40           0.010724       5  0.005025  0.005699\n",
        "41           0.010465      14  0.014070  0.003605\n",
        "42           0.010219       8  0.008040  0.002179\n",
        "43           0.009984       5  0.005025  0.004959\n",
        "44           0.009760      12  0.012060  0.002300\n",
        "45           0.009545       6  0.006030  0.003515\n",
        "46           0.009340       8  0.008040  0.001300\n",
        "47           0.009143       7  0.007035  0.002108\n",
        "48           0.008955       4  0.004020  0.004935\n",
        "49           0.008774       3  0.003015  0.005759"
       ]
      }
     ],
     "prompt_number": 49
    },
    {
     "cell_type": "code",
     "collapsed": false,
     "input": [
      "df2['Z'] = (df2.AbsDif - (1/2*len(r)))/(np.sqrt(df2.Expected*\\\n",
      "                                                (1-df2.Expected)/len(r)))\n",
      "df2.head()"
     ],
     "language": "python",
     "metadata": {},
     "outputs": [
      {
       "html": [
        "<div style=\"max-height:1000px;max-width:1500px;overflow:auto;\">\n",
        "<table border=\"1\" class=\"dataframe\">\n",
        "  <thead>\n",
        "    <tr style=\"text-align: right;\">\n",
        "      <th></th>\n",
        "      <th>Expected</th>\n",
        "      <th>Counts</th>\n",
        "      <th>Found</th>\n",
        "      <th>AbsDif</th>\n",
        "      <th>Z</th>\n",
        "    </tr>\n",
        "    <tr>\n",
        "      <th>First_2_Dig</th>\n",
        "      <th></th>\n",
        "      <th></th>\n",
        "      <th></th>\n",
        "      <th></th>\n",
        "      <th></th>\n",
        "    </tr>\n",
        "  </thead>\n",
        "  <tbody>\n",
        "    <tr>\n",
        "      <th>10</th>\n",
        "      <td> 0.041393</td>\n",
        "      <td> 54</td>\n",
        "      <td> 0.054271</td>\n",
        "      <td> 0.012879</td>\n",
        "      <td> 2.044508</td>\n",
        "    </tr>\n",
        "    <tr>\n",
        "      <th>11</th>\n",
        "      <td> 0.037789</td>\n",
        "      <td> 48</td>\n",
        "      <td> 0.048241</td>\n",
        "      <td> 0.010453</td>\n",
        "      <td> 1.733448</td>\n",
        "    </tr>\n",
        "    <tr>\n",
        "      <th>12</th>\n",
        "      <td> 0.034762</td>\n",
        "      <td> 39</td>\n",
        "      <td> 0.039196</td>\n",
        "      <td> 0.004434</td>\n",
        "      <td> 0.765443</td>\n",
        "    </tr>\n",
        "    <tr>\n",
        "      <th>13</th>\n",
        "      <td> 0.032185</td>\n",
        "      <td> 45</td>\n",
        "      <td> 0.045226</td>\n",
        "      <td> 0.013041</td>\n",
        "      <td> 2.336711</td>\n",
        "    </tr>\n",
        "    <tr>\n",
        "      <th>14</th>\n",
        "      <td> 0.029963</td>\n",
        "      <td> 43</td>\n",
        "      <td> 0.043216</td>\n",
        "      <td> 0.013253</td>\n",
        "      <td> 2.458222</td>\n",
        "    </tr>\n",
        "  </tbody>\n",
        "</table>\n",
        "</div>"
       ],
       "metadata": {},
       "output_type": "pyout",
       "prompt_number": 50,
       "text": [
        "             Expected  Counts     Found    AbsDif         Z\n",
        "First_2_Dig                                                \n",
        "10           0.041393      54  0.054271  0.012879  2.044508\n",
        "11           0.037789      48  0.048241  0.010453  1.733448\n",
        "12           0.034762      39  0.039196  0.004434  0.765443\n",
        "13           0.032185      45  0.045226  0.013041  2.336711\n",
        "14           0.029963      43  0.043216  0.013253  2.458222"
       ]
      }
     ],
     "prompt_number": 50
    },
    {
     "cell_type": "code",
     "collapsed": false,
     "input": [
      "df2.sort('Z',ascending=False)[df2.Z > 1.99]"
     ],
     "language": "python",
     "metadata": {},
     "outputs": [
      {
       "output_type": "stream",
       "stream": "stderr",
       "text": [
        "/home/milcent/anaconda/lib/python2.7/site-packages/pandas/core/frame.py:1808: UserWarning: Boolean Series key will be reindexed to match DataFrame index.\n",
        "  \"DataFrame index.\", UserWarning)\n"
       ]
      },
      {
       "html": [
        "<div style=\"max-height:1000px;max-width:1500px;overflow:auto;\">\n",
        "<table border=\"1\" class=\"dataframe\">\n",
        "  <thead>\n",
        "    <tr style=\"text-align: right;\">\n",
        "      <th></th>\n",
        "      <th>Expected</th>\n",
        "      <th>Counts</th>\n",
        "      <th>Found</th>\n",
        "      <th>AbsDif</th>\n",
        "      <th>Z</th>\n",
        "    </tr>\n",
        "    <tr>\n",
        "      <th>First_2_Dig</th>\n",
        "      <th></th>\n",
        "      <th></th>\n",
        "      <th></th>\n",
        "      <th></th>\n",
        "      <th></th>\n",
        "    </tr>\n",
        "  </thead>\n",
        "  <tbody>\n",
        "    <tr>\n",
        "      <th>73</th>\n",
        "      <td> 0.005909</td>\n",
        "      <td> 16</td>\n",
        "      <td> 0.016080</td>\n",
        "      <td> 0.010172</td>\n",
        "      <td> 4.196835</td>\n",
        "    </tr>\n",
        "    <tr>\n",
        "      <th>57</th>\n",
        "      <td> 0.007553</td>\n",
        "      <td> 15</td>\n",
        "      <td> 0.015075</td>\n",
        "      <td> 0.007522</td>\n",
        "      <td> 2.747450</td>\n",
        "    </tr>\n",
        "    <tr>\n",
        "      <th>36</th>\n",
        "      <td> 0.011899</td>\n",
        "      <td>  3</td>\n",
        "      <td> 0.003015</td>\n",
        "      <td> 0.008884</td>\n",
        "      <td> 2.590931</td>\n",
        "    </tr>\n",
        "    <tr>\n",
        "      <th>32</th>\n",
        "      <td> 0.013364</td>\n",
        "      <td>  4</td>\n",
        "      <td> 0.004020</td>\n",
        "      <td> 0.009344</td>\n",
        "      <td> 2.573240</td>\n",
        "    </tr>\n",
        "    <tr>\n",
        "      <th>93</th>\n",
        "      <td> 0.004645</td>\n",
        "      <td> 10</td>\n",
        "      <td> 0.010050</td>\n",
        "      <td> 0.005405</td>\n",
        "      <td> 2.513889</td>\n",
        "    </tr>\n",
        "    <tr>\n",
        "      <th>14</th>\n",
        "      <td> 0.029963</td>\n",
        "      <td> 43</td>\n",
        "      <td> 0.043216</td>\n",
        "      <td> 0.013253</td>\n",
        "      <td> 2.458222</td>\n",
        "    </tr>\n",
        "    <tr>\n",
        "      <th>78</th>\n",
        "      <td> 0.005532</td>\n",
        "      <td> 11</td>\n",
        "      <td> 0.011055</td>\n",
        "      <td> 0.005523</td>\n",
        "      <td> 2.354522</td>\n",
        "    </tr>\n",
        "    <tr>\n",
        "      <th>13</th>\n",
        "      <td> 0.032185</td>\n",
        "      <td> 45</td>\n",
        "      <td> 0.045226</td>\n",
        "      <td> 0.013041</td>\n",
        "      <td> 2.336711</td>\n",
        "    </tr>\n",
        "    <tr>\n",
        "      <th>88</th>\n",
        "      <td> 0.004907</td>\n",
        "      <td> 10</td>\n",
        "      <td> 0.010050</td>\n",
        "      <td> 0.005143</td>\n",
        "      <td> 2.327314</td>\n",
        "    </tr>\n",
        "    <tr>\n",
        "      <th>24</th>\n",
        "      <td> 0.017729</td>\n",
        "      <td>  8</td>\n",
        "      <td> 0.008040</td>\n",
        "      <td> 0.009689</td>\n",
        "      <td> 2.321692</td>\n",
        "    </tr>\n",
        "    <tr>\n",
        "      <th>20</th>\n",
        "      <td> 0.021189</td>\n",
        "      <td> 11</td>\n",
        "      <td> 0.011055</td>\n",
        "      <td> 0.010134</td>\n",
        "      <td> 2.225226</td>\n",
        "    </tr>\n",
        "    <tr>\n",
        "      <th>59</th>\n",
        "      <td> 0.007299</td>\n",
        "      <td> 13</td>\n",
        "      <td> 0.013065</td>\n",
        "      <td> 0.005766</td>\n",
        "      <td> 2.142068</td>\n",
        "    </tr>\n",
        "    <tr>\n",
        "      <th>83</th>\n",
        "      <td> 0.005201</td>\n",
        "      <td> 10</td>\n",
        "      <td> 0.010050</td>\n",
        "      <td> 0.004849</td>\n",
        "      <td> 2.131759</td>\n",
        "    </tr>\n",
        "    <tr>\n",
        "      <th>31</th>\n",
        "      <td> 0.013788</td>\n",
        "      <td>  6</td>\n",
        "      <td> 0.006030</td>\n",
        "      <td> 0.007758</td>\n",
        "      <td> 2.103861</td>\n",
        "    </tr>\n",
        "    <tr>\n",
        "      <th>10</th>\n",
        "      <td> 0.041393</td>\n",
        "      <td> 54</td>\n",
        "      <td> 0.054271</td>\n",
        "      <td> 0.012879</td>\n",
        "      <td> 2.044508</td>\n",
        "    </tr>\n",
        "  </tbody>\n",
        "</table>\n",
        "</div>"
       ],
       "metadata": {},
       "output_type": "pyout",
       "prompt_number": 51,
       "text": [
        "             Expected  Counts     Found    AbsDif         Z\n",
        "First_2_Dig                                                \n",
        "73           0.005909      16  0.016080  0.010172  4.196835\n",
        "57           0.007553      15  0.015075  0.007522  2.747450\n",
        "36           0.011899       3  0.003015  0.008884  2.590931\n",
        "32           0.013364       4  0.004020  0.009344  2.573240\n",
        "93           0.004645      10  0.010050  0.005405  2.513889\n",
        "14           0.029963      43  0.043216  0.013253  2.458222\n",
        "78           0.005532      11  0.011055  0.005523  2.354522\n",
        "13           0.032185      45  0.045226  0.013041  2.336711\n",
        "88           0.004907      10  0.010050  0.005143  2.327314\n",
        "24           0.017729       8  0.008040  0.009689  2.321692\n",
        "20           0.021189      11  0.011055  0.010134  2.225226\n",
        "59           0.007299      13  0.013065  0.005766  2.142068\n",
        "83           0.005201      10  0.010050  0.004849  2.131759\n",
        "31           0.013788       6  0.006030  0.007758  2.103861\n",
        "10           0.041393      54  0.054271  0.012879  2.044508"
       ]
      }
     ],
     "prompt_number": 51
    },
    {
     "cell_type": "code",
     "collapsed": false,
     "input": [
      "mad = df2.AbsDif.mean()\n",
      "mad"
     ],
     "language": "python",
     "metadata": {},
     "outputs": [
      {
       "metadata": {},
       "output_type": "pyout",
       "prompt_number": 52,
       "text": [
        "0.0037838132379806764"
       ]
      }
     ],
     "prompt_number": 52
    },
    {
     "cell_type": "code",
     "collapsed": false,
     "input": [
      "q = (df2.AbsDif**2)\n",
      "q.mean()"
     ],
     "language": "python",
     "metadata": {},
     "outputs": [
      {
       "metadata": {},
       "output_type": "pyout",
       "prompt_number": 53,
       "text": [
        "2.3673861208329963e-05"
       ]
      }
     ],
     "prompt_number": 53
    },
    {
     "cell_type": "code",
     "collapsed": false,
     "input": [
      "def __MAD__(df):\n",
      "\ttry:\n",
      "\t\treturn df.AbsDif.mean()\n",
      "\texcept:\n",
      "\t\tdf['AbsDif'] = np.absolute(df.Found-df.Expected)\n",
      "\t\treturn df.AbsDif.mean()"
     ],
     "language": "python",
     "metadata": {},
     "outputs": [],
     "prompt_number": 54
    },
    {
     "cell_type": "code",
     "collapsed": false,
     "input": [
      "df3 = df2[['Expected','Counts','Found']]\n",
      "MAD = __MAD__(df3)\n",
      "MAD"
     ],
     "language": "python",
     "metadata": {},
     "outputs": [
      {
       "output_type": "stream",
       "stream": "stderr",
       "text": [
        "-c:5: SettingWithCopyWarning: \n",
        "A value is trying to be set on a copy of a slice from a DataFrame.\n",
        "Try using .loc[row_indexer,col_indexer] = value instead\n",
        "\n",
        "See the the caveats in the documentation: http://pandas.pydata.org/pandas-docs/stable/indexing.html#indexing-view-versus-copy\n"
       ]
      },
      {
       "metadata": {},
       "output_type": "pyout",
       "prompt_number": 55,
       "text": [
        "0.0037838132379806764"
       ]
      }
     ],
     "prompt_number": 55
    }
   ],
   "metadata": {}
  }
 ]
}