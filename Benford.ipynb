{
 "metadata": {
  "name": "",
  "signature": "sha256:8b4d77f583147705a5bf8b4f7d35b10a5729a86af37cb2502bf9bd4a48ae1432"
 },
 "nbformat": 3,
 "nbformat_minor": 0,
 "worksheets": [
  {
   "cells": [
    {
     "cell_type": "code",
     "collapsed": false,
     "input": [
      "import pandas as pd\n",
      "import numpy as np\n",
      "import matplotlib.pyplot as plt"
     ],
     "language": "python",
     "metadata": {},
     "outputs": [],
     "prompt_number": 1
    },
    {
     "cell_type": "code",
     "collapsed": false,
     "input": [
      "t = np.arange(10,1000,10)"
     ],
     "language": "python",
     "metadata": {},
     "outputs": [],
     "prompt_number": 2
    },
    {
     "cell_type": "code",
     "collapsed": false,
     "input": [
      "t[:10]"
     ],
     "language": "python",
     "metadata": {},
     "outputs": [
      {
       "metadata": {},
       "output_type": "pyout",
       "prompt_number": 3,
       "text": [
        "array([ 10,  20,  30,  40,  50,  60,  70,  80,  90, 100])"
       ]
      }
     ],
     "prompt_number": 3
    },
    {
     "cell_type": "heading",
     "level": 4,
     "metadata": {},
     "source": [
      "Getting the Mantissas"
     ]
    },
    {
     "cell_type": "code",
     "collapsed": false,
     "input": [
      "np.log10(t) - np.log10(t).astype(int)"
     ],
     "language": "python",
     "metadata": {},
     "outputs": [
      {
       "metadata": {},
       "output_type": "pyout",
       "prompt_number": 4,
       "text": [
        "array([ 0.        ,  0.30103   ,  0.47712125,  0.60205999,  0.69897   ,\n",
        "        0.77815125,  0.84509804,  0.90308999,  0.95424251,  0.        ,\n",
        "        0.04139269,  0.07918125,  0.11394335,  0.14612804,  0.17609126,\n",
        "        0.20411998,  0.23044892,  0.25527251,  0.2787536 ,  0.30103   ,\n",
        "        0.32221929,  0.34242268,  0.36172784,  0.38021124,  0.39794001,\n",
        "        0.41497335,  0.43136376,  0.44715803,  0.462398  ,  0.47712125,\n",
        "        0.49136169,  0.50514998,  0.51851394,  0.53147892,  0.54406804,\n",
        "        0.5563025 ,  0.56820172,  0.5797836 ,  0.59106461,  0.60205999,\n",
        "        0.61278386,  0.62324929,  0.63346846,  0.64345268,  0.65321251,\n",
        "        0.66275783,  0.67209786,  0.68124124,  0.69019608,  0.69897   ,\n",
        "        0.70757018,  0.71600334,  0.72427587,  0.73239376,  0.74036269,\n",
        "        0.74818803,  0.75587486,  0.76342799,  0.77085201,  0.77815125,\n",
        "        0.78532984,  0.79239169,  0.79934055,  0.80617997,  0.81291336,\n",
        "        0.81954394,  0.8260748 ,  0.83250891,  0.83884909,  0.84509804,\n",
        "        0.85125835,  0.8573325 ,  0.86332286,  0.86923172,  0.87506126,\n",
        "        0.88081359,  0.88649073,  0.8920946 ,  0.89762709,  0.90308999,\n",
        "        0.90848502,  0.91381385,  0.91907809,  0.92427929,  0.92941893,\n",
        "        0.93449845,  0.93951925,  0.94448267,  0.94939001,  0.95424251,\n",
        "        0.95904139,  0.96378783,  0.96848295,  0.97312785,  0.97772361,\n",
        "        0.98227123,  0.98677173,  0.99122608,  0.99563519])"
       ]
      }
     ],
     "prompt_number": 4
    },
    {
     "cell_type": "code",
     "collapsed": false,
     "input": [
      "g = np.random.randint(1000, size =200)\n",
      "g"
     ],
     "language": "python",
     "metadata": {},
     "outputs": [
      {
       "metadata": {},
       "output_type": "pyout",
       "prompt_number": 5,
       "text": [
        "array([814, 827, 299, 280, 506, 107, 240, 330, 639,   9, 421, 986, 827,\n",
        "       877, 153,  12, 238, 325, 787, 715, 457, 885, 922, 746, 748,  76,\n",
        "        36, 894,  96, 104, 825, 757, 455, 791, 364,  46, 401, 517, 949,\n",
        "       985, 569, 220, 212, 220, 492, 694, 650, 122, 896, 114, 356, 881,\n",
        "       201, 152, 322, 602,  83, 214,   0, 926, 992, 864, 449, 977, 366,\n",
        "       266, 747, 276, 339, 672, 556, 376, 403, 643, 216, 707, 270, 721,\n",
        "       243, 955, 795,  97, 702, 189, 853, 359, 244, 991, 843, 476, 582,\n",
        "        56,  21, 753, 502, 799, 208, 814, 384, 925, 210, 138, 295, 669,\n",
        "       584, 855, 322, 290, 421, 227, 371, 172, 822, 356, 956, 810, 240,\n",
        "       860, 446, 950, 494, 584,  31, 160, 432, 961, 116, 834, 231, 206,\n",
        "       485, 273,  78, 334, 692, 686, 917, 967, 559,  38, 674, 862, 654,\n",
        "       301, 617, 569, 101, 303, 794, 115, 876,  57, 151, 596, 950, 477,\n",
        "       540, 461, 665, 525, 253, 402,  95, 271, 322, 558, 463, 502, 207,\n",
        "       106, 806, 246, 352, 899, 994, 658, 454, 852, 231, 244, 791, 115,\n",
        "        77, 167, 845, 284, 962, 734, 865, 195, 637, 215, 636, 667, 397,\n",
        "       823, 613, 391, 224, 279])"
       ]
      }
     ],
     "prompt_number": 5
    },
    {
     "cell_type": "code",
     "collapsed": false,
     "input": [
      "m = np.log10(g) - np.log10(g).astype(int)\n",
      "m"
     ],
     "language": "python",
     "metadata": {},
     "outputs": [
      {
       "metadata": {},
       "output_type": "pyout",
       "prompt_number": 6,
       "text": [
        "array([ 0.9106244 ,  0.91750551,  0.47567119,  0.44715803,  0.70415052,\n",
        "        0.02938378,  0.38021124,  0.51851394,  0.80550086,  0.95424251,\n",
        "        0.6242821 ,  0.99387691,  0.91750551,  0.94299959,  0.18469143,\n",
        "        0.07918125,  0.37657696,  0.51188336,  0.89597473,  0.85430604,\n",
        "        0.6599162 ,  0.94694327,  0.96473092,  0.87273883,  0.8739016 ,\n",
        "        0.88081359,  0.5563025 ,  0.95133752,  0.98227123,  0.01703334,\n",
        "        0.91645395,  0.87909588,  0.6580114 ,  0.89817648,  0.56110138,\n",
        "        0.66275783,  0.60314437,  0.71349054,  0.97726621,  0.99343623,\n",
        "        0.75511227,  0.34242268,  0.32633586,  0.34242268,  0.6919651 ,\n",
        "        0.84135947,  0.81291336,  0.08635983,  0.95230801,  0.05690485,\n",
        "        0.55145   ,  0.94497591,  0.30319606,  0.18184359,  0.50785587,\n",
        "        0.77959649,  0.91907809,  0.33041377,        -inf,  0.96661099,\n",
        "        0.99651167,  0.93651374,  0.65224634,  0.98989456,  0.56348109,\n",
        "        0.42488164,  0.8733206 ,  0.44090908,  0.5301997 ,  0.82736927,\n",
        "        0.74507479,  0.57518784,  0.60530505,  0.80821097,  0.33445375,\n",
        "        0.84941941,  0.43136376,  0.85793526,  0.38560627,  0.98000337,\n",
        "        0.90036713,  0.98677173,  0.84633711,  0.2764618 ,  0.93094903,\n",
        "        0.55509445,  0.38738983,  0.99607365,  0.92582757,  0.67760695,\n",
        "        0.76492298,  0.74818803,  0.32221929,  0.87679498,  0.70070372,\n",
        "        0.90254678,  0.31806333,  0.9106244 ,  0.58433122,  0.96614173,\n",
        "        0.32221929,  0.13987909,  0.46982202,  0.82542612,  0.76641285,\n",
        "        0.93196611,  0.50785587,  0.462398  ,  0.6242821 ,  0.35602586,\n",
        "        0.56937391,  0.23552845,  0.91487182,  0.55145   ,  0.98045789,\n",
        "        0.90848502,  0.38021124,  0.93449845,  0.64933486,  0.97772361,\n",
        "        0.69372695,  0.76641285,  0.49136169,  0.20411998,  0.63548375,\n",
        "        0.98272339,  0.06445799,  0.92116605,  0.36361198,  0.31386722,\n",
        "        0.68574174,  0.43616265,  0.8920946 ,  0.52374647,  0.84010609,\n",
        "        0.83632412,  0.96236934,  0.98542647,  0.74741181,  0.5797836 ,\n",
        "        0.8286599 ,  0.93550727,  0.81557775,  0.4785665 ,  0.79028516,\n",
        "        0.75511227,  0.00432137,  0.48144263,  0.8998205 ,  0.06069784,\n",
        "        0.94250411,  0.75587486,  0.17897695,  0.77524626,  0.97772361,\n",
        "        0.67851838,  0.73239376,  0.66370093,  0.82282165,  0.7201593 ,\n",
        "        0.40312052,  0.60422605,  0.97772361,  0.43296929,  0.50785587,\n",
        "        0.7466342 ,  0.66558099,  0.70070372,  0.31597035,  0.02530587,\n",
        "        0.90633504,  0.39093511,  0.54654266,  0.95375969,  0.99738638,\n",
        "        0.81822589,  0.65705585,  0.93043959,  0.36361198,  0.38738983,\n",
        "        0.89817648,  0.06069784,  0.88649073,  0.22271647,  0.92685671,\n",
        "        0.45331834,  0.98317507,  0.86569606,  0.93701611,  0.29003461,\n",
        "        0.80413943,  0.33243846,  0.80345712,  0.82412583,  0.59879051,\n",
        "        0.91539984,  0.78746047,  0.59217676,  0.35024802,  0.4456042 ])"
       ]
      }
     ],
     "prompt_number": 6
    },
    {
     "cell_type": "heading",
     "level": 4,
     "metadata": {},
     "source": [
      "Ordering the Mantissas and Plotting"
     ]
    },
    {
     "cell_type": "code",
     "collapsed": false,
     "input": [
      "m.sort()\n",
      "m"
     ],
     "language": "python",
     "metadata": {},
     "outputs": [
      {
       "metadata": {},
       "output_type": "pyout",
       "prompt_number": 7,
       "text": [
        "array([       -inf,  0.00432137,  0.01703334,  0.02530587,  0.02938378,\n",
        "        0.05690485,  0.06069784,  0.06069784,  0.06445799,  0.07918125,\n",
        "        0.08635983,  0.13987909,  0.17897695,  0.18184359,  0.18469143,\n",
        "        0.20411998,  0.22271647,  0.23552845,  0.2764618 ,  0.29003461,\n",
        "        0.30319606,  0.31386722,  0.31597035,  0.31806333,  0.32221929,\n",
        "        0.32221929,  0.32633586,  0.33041377,  0.33243846,  0.33445375,\n",
        "        0.34242268,  0.34242268,  0.35024802,  0.35602586,  0.36361198,\n",
        "        0.36361198,  0.37657696,  0.38021124,  0.38021124,  0.38560627,\n",
        "        0.38738983,  0.38738983,  0.39093511,  0.40312052,  0.42488164,\n",
        "        0.43136376,  0.43296929,  0.43616265,  0.44090908,  0.4456042 ,\n",
        "        0.44715803,  0.45331834,  0.462398  ,  0.46982202,  0.47567119,\n",
        "        0.4785665 ,  0.48144263,  0.49136169,  0.50785587,  0.50785587,\n",
        "        0.50785587,  0.51188336,  0.51851394,  0.52374647,  0.5301997 ,\n",
        "        0.54654266,  0.55145   ,  0.55145   ,  0.55509445,  0.5563025 ,\n",
        "        0.56110138,  0.56348109,  0.56937391,  0.57518784,  0.5797836 ,\n",
        "        0.58433122,  0.59217676,  0.59879051,  0.60314437,  0.60422605,\n",
        "        0.60530505,  0.6242821 ,  0.6242821 ,  0.63548375,  0.64933486,\n",
        "        0.65224634,  0.65705585,  0.6580114 ,  0.6599162 ,  0.66275783,\n",
        "        0.66370093,  0.66558099,  0.67760695,  0.67851838,  0.68574174,\n",
        "        0.6919651 ,  0.69372695,  0.70070372,  0.70070372,  0.70415052,\n",
        "        0.71349054,  0.7201593 ,  0.73239376,  0.74507479,  0.7466342 ,\n",
        "        0.74741181,  0.74818803,  0.75511227,  0.75511227,  0.75587486,\n",
        "        0.76492298,  0.76641285,  0.76641285,  0.77524626,  0.77959649,\n",
        "        0.78746047,  0.79028516,  0.80345712,  0.80413943,  0.80550086,\n",
        "        0.80821097,  0.81291336,  0.81557775,  0.81822589,  0.82282165,\n",
        "        0.82412583,  0.82542612,  0.82736927,  0.8286599 ,  0.83632412,\n",
        "        0.84010609,  0.84135947,  0.84633711,  0.84941941,  0.85430604,\n",
        "        0.85793526,  0.86569606,  0.87273883,  0.8733206 ,  0.8739016 ,\n",
        "        0.87679498,  0.87909588,  0.88081359,  0.88649073,  0.8920946 ,\n",
        "        0.89597473,  0.89817648,  0.89817648,  0.8998205 ,  0.90036713,\n",
        "        0.90254678,  0.90633504,  0.90848502,  0.9106244 ,  0.9106244 ,\n",
        "        0.91487182,  0.91539984,  0.91645395,  0.91750551,  0.91750551,\n",
        "        0.91907809,  0.92116605,  0.92582757,  0.92685671,  0.93043959,\n",
        "        0.93094903,  0.93196611,  0.93449845,  0.93550727,  0.93651374,\n",
        "        0.93701611,  0.94250411,  0.94299959,  0.94497591,  0.94694327,\n",
        "        0.95133752,  0.95230801,  0.95375969,  0.95424251,  0.96236934,\n",
        "        0.96473092,  0.96614173,  0.96661099,  0.97726621,  0.97772361,\n",
        "        0.97772361,  0.97772361,  0.98000337,  0.98045789,  0.98227123,\n",
        "        0.98272339,  0.98317507,  0.98542647,  0.98677173,  0.98989456,\n",
        "        0.99343623,  0.99387691,  0.99607365,  0.99651167,  0.99738638])"
       ]
      }
     ],
     "prompt_number": 7
    },
    {
     "cell_type": "code",
     "collapsed": false,
     "input": [
      "pylab inline"
     ],
     "language": "python",
     "metadata": {},
     "outputs": [
      {
       "output_type": "stream",
       "stream": "stdout",
       "text": [
        "Populating the interactive namespace from numpy and matplotlib\n"
       ]
      }
     ],
     "prompt_number": 8
    },
    {
     "cell_type": "code",
     "collapsed": false,
     "input": [
      "plt.plot(np.arange(len(m)), m)"
     ],
     "language": "python",
     "metadata": {},
     "outputs": [
      {
       "metadata": {},
       "output_type": "pyout",
       "prompt_number": 9,
       "text": [
        "[<matplotlib.lines.Line2D at 0x7fcdbe964a10>]"
       ]
      },
      {
       "metadata": {},
       "output_type": "display_data",
       "png": "[encoded data removed]",
       "text": [
        "<matplotlib.figure.Figure at 0x7fcdbe9c3890>"
       ]
      }
     ],
     "prompt_number": 9
    },
    {
     "cell_type": "code",
     "collapsed": false,
     "input": [
      "g.sort()\n",
      "g"
     ],
     "language": "python",
     "metadata": {},
     "outputs": [
      {
       "metadata": {},
       "output_type": "pyout",
       "prompt_number": 10,
       "text": [
        "array([  0,   9,  12,  21,  31,  36,  38,  46,  56,  57,  76,  77,  78,\n",
        "        83,  95,  96,  97, 101, 104, 106, 107, 114, 115, 115, 116, 122,\n",
        "       138, 151, 152, 153, 160, 167, 172, 189, 195, 201, 206, 207, 208,\n",
        "       210, 212, 214, 215, 216, 220, 220, 224, 227, 231, 231, 238, 240,\n",
        "       240, 243, 244, 244, 246, 253, 266, 270, 271, 273, 276, 279, 280,\n",
        "       284, 290, 295, 299, 301, 303, 322, 322, 322, 325, 330, 334, 339,\n",
        "       352, 356, 356, 359, 364, 366, 371, 376, 384, 391, 397, 401, 402,\n",
        "       403, 421, 421, 432, 446, 449, 454, 455, 457, 461, 463, 476, 477,\n",
        "       485, 492, 494, 502, 502, 506, 517, 525, 540, 556, 558, 559, 569,\n",
        "       569, 582, 584, 584, 596, 602, 613, 617, 636, 637, 639, 643, 650,\n",
        "       654, 658, 665, 667, 669, 672, 674, 686, 692, 694, 702, 707, 715,\n",
        "       721, 734, 746, 747, 748, 753, 757, 787, 791, 791, 794, 795, 799,\n",
        "       806, 810, 814, 814, 822, 823, 825, 827, 827, 834, 843, 845, 852,\n",
        "       853, 855, 860, 862, 864, 865, 876, 877, 881, 885, 894, 896, 899,\n",
        "       917, 922, 925, 926, 949, 950, 950, 955, 956, 961, 962, 967, 977,\n",
        "       985, 986, 991, 992, 994])"
       ]
      }
     ],
     "prompt_number": 10
    },
    {
     "cell_type": "code",
     "collapsed": false,
     "input": [
      "plt.plot(g, m)\n",
      "plt.grid()"
     ],
     "language": "python",
     "metadata": {},
     "outputs": [
      {
       "metadata": {},
       "output_type": "display_data",
       "png": "[encoded data removed]",
       "text": [
        "<matplotlib.figure.Figure at 0x7fcdbe8b4490>"
       ]
      }
     ],
     "prompt_number": 11
    },
    {
     "cell_type": "code",
     "collapsed": false,
     "input": [
      "tt = pd.DataFrame(g, columns=['numbers'])\n",
      "tt.head()"
     ],
     "language": "python",
     "metadata": {},
     "outputs": [
      {
       "html": [
        "<div style=\"max-height:1000px;max-width:1500px;overflow:auto;\">\n",
        "<table border=\"1\" class=\"dataframe\">\n",
        "  <thead>\n",
        "    <tr style=\"text-align: right;\">\n",
        "      <th></th>\n",
        "      <th>numbers</th>\n",
        "    </tr>\n",
        "  </thead>\n",
        "  <tbody>\n",
        "    <tr>\n",
        "      <th>0</th>\n",
        "      <td>  0</td>\n",
        "    </tr>\n",
        "    <tr>\n",
        "      <th>1</th>\n",
        "      <td>  9</td>\n",
        "    </tr>\n",
        "    <tr>\n",
        "      <th>2</th>\n",
        "      <td> 12</td>\n",
        "    </tr>\n",
        "    <tr>\n",
        "      <th>3</th>\n",
        "      <td> 21</td>\n",
        "    </tr>\n",
        "    <tr>\n",
        "      <th>4</th>\n",
        "      <td> 31</td>\n",
        "    </tr>\n",
        "  </tbody>\n",
        "</table>\n",
        "</div>"
       ],
       "metadata": {},
       "output_type": "pyout",
       "prompt_number": 12,
       "text": [
        "   numbers\n",
        "0        0\n",
        "1        9\n",
        "2       12\n",
        "3       21\n",
        "4       31"
       ]
      }
     ],
     "prompt_number": 12
    },
    {
     "cell_type": "code",
     "collapsed": false,
     "input": [
      "def _get_mantissas_(arr):\n",
      "\t'''\n",
      "\tThe mantissa is the non-integer part of the log of a number.\n",
      "\tThis fuction uses the element-wise array operations on numpy\n",
      "\tto get the mantissas of each number's log.\n",
      "\n",
      "\tarr: numpy array of integers or floats\n",
      "\t'''\n",
      "\n",
      "\treturn np.log10(arr) - np.log10(arr).astype(int)"
     ],
     "language": "python",
     "metadata": {},
     "outputs": [],
     "prompt_number": 13
    },
    {
     "cell_type": "code",
     "collapsed": false,
     "input": [
      "tt['mantissas']=_get_mantissas_(tt.numbers)\n",
      "tt.sort(columns='mantissas')\n",
      "tt"
     ],
     "language": "python",
     "metadata": {},
     "outputs": [
      {
       "html": [
        "<div style=\"max-height:1000px;max-width:1500px;overflow:auto;\">\n",
        "<table border=\"1\" class=\"dataframe\">\n",
        "  <thead>\n",
        "    <tr style=\"text-align: right;\">\n",
        "      <th></th>\n",
        "      <th>numbers</th>\n",
        "      <th>mantissas</th>\n",
        "    </tr>\n",
        "  </thead>\n",
        "  <tbody>\n",
        "    <tr>\n",
        "      <th>0  </th>\n",
        "      <td>   0</td>\n",
        "      <td>     -inf</td>\n",
        "    </tr>\n",
        "    <tr>\n",
        "      <th>1  </th>\n",
        "      <td>   9</td>\n",
        "      <td> 0.954243</td>\n",
        "    </tr>\n",
        "    <tr>\n",
        "      <th>2  </th>\n",
        "      <td>  12</td>\n",
        "      <td> 0.079181</td>\n",
        "    </tr>\n",
        "    <tr>\n",
        "      <th>3  </th>\n",
        "      <td>  21</td>\n",
        "      <td> 0.322219</td>\n",
        "    </tr>\n",
        "    <tr>\n",
        "      <th>4  </th>\n",
        "      <td>  31</td>\n",
        "      <td> 0.491362</td>\n",
        "    </tr>\n",
        "    <tr>\n",
        "      <th>5  </th>\n",
        "      <td>  36</td>\n",
        "      <td> 0.556303</td>\n",
        "    </tr>\n",
        "    <tr>\n",
        "      <th>6  </th>\n",
        "      <td>  38</td>\n",
        "      <td> 0.579784</td>\n",
        "    </tr>\n",
        "    <tr>\n",
        "      <th>7  </th>\n",
        "      <td>  46</td>\n",
        "      <td> 0.662758</td>\n",
        "    </tr>\n",
        "    <tr>\n",
        "      <th>8  </th>\n",
        "      <td>  56</td>\n",
        "      <td> 0.748188</td>\n",
        "    </tr>\n",
        "    <tr>\n",
        "      <th>9  </th>\n",
        "      <td>  57</td>\n",
        "      <td> 0.755875</td>\n",
        "    </tr>\n",
        "    <tr>\n",
        "      <th>10 </th>\n",
        "      <td>  76</td>\n",
        "      <td> 0.880814</td>\n",
        "    </tr>\n",
        "    <tr>\n",
        "      <th>11 </th>\n",
        "      <td>  77</td>\n",
        "      <td> 0.886491</td>\n",
        "    </tr>\n",
        "    <tr>\n",
        "      <th>12 </th>\n",
        "      <td>  78</td>\n",
        "      <td> 0.892095</td>\n",
        "    </tr>\n",
        "    <tr>\n",
        "      <th>13 </th>\n",
        "      <td>  83</td>\n",
        "      <td> 0.919078</td>\n",
        "    </tr>\n",
        "    <tr>\n",
        "      <th>14 </th>\n",
        "      <td>  95</td>\n",
        "      <td> 0.977724</td>\n",
        "    </tr>\n",
        "    <tr>\n",
        "      <th>15 </th>\n",
        "      <td>  96</td>\n",
        "      <td> 0.982271</td>\n",
        "    </tr>\n",
        "    <tr>\n",
        "      <th>16 </th>\n",
        "      <td>  97</td>\n",
        "      <td> 0.986772</td>\n",
        "    </tr>\n",
        "    <tr>\n",
        "      <th>17 </th>\n",
        "      <td> 101</td>\n",
        "      <td> 0.004321</td>\n",
        "    </tr>\n",
        "    <tr>\n",
        "      <th>18 </th>\n",
        "      <td> 104</td>\n",
        "      <td> 0.017033</td>\n",
        "    </tr>\n",
        "    <tr>\n",
        "      <th>19 </th>\n",
        "      <td> 106</td>\n",
        "      <td> 0.025306</td>\n",
        "    </tr>\n",
        "    <tr>\n",
        "      <th>20 </th>\n",
        "      <td> 107</td>\n",
        "      <td> 0.029384</td>\n",
        "    </tr>\n",
        "    <tr>\n",
        "      <th>21 </th>\n",
        "      <td> 114</td>\n",
        "      <td> 0.056905</td>\n",
        "    </tr>\n",
        "    <tr>\n",
        "      <th>22 </th>\n",
        "      <td> 115</td>\n",
        "      <td> 0.060698</td>\n",
        "    </tr>\n",
        "    <tr>\n",
        "      <th>23 </th>\n",
        "      <td> 115</td>\n",
        "      <td> 0.060698</td>\n",
        "    </tr>\n",
        "    <tr>\n",
        "      <th>24 </th>\n",
        "      <td> 116</td>\n",
        "      <td> 0.064458</td>\n",
        "    </tr>\n",
        "    <tr>\n",
        "      <th>25 </th>\n",
        "      <td> 122</td>\n",
        "      <td> 0.086360</td>\n",
        "    </tr>\n",
        "    <tr>\n",
        "      <th>26 </th>\n",
        "      <td> 138</td>\n",
        "      <td> 0.139879</td>\n",
        "    </tr>\n",
        "    <tr>\n",
        "      <th>27 </th>\n",
        "      <td> 151</td>\n",
        "      <td> 0.178977</td>\n",
        "    </tr>\n",
        "    <tr>\n",
        "      <th>28 </th>\n",
        "      <td> 152</td>\n",
        "      <td> 0.181844</td>\n",
        "    </tr>\n",
        "    <tr>\n",
        "      <th>29 </th>\n",
        "      <td> 153</td>\n",
        "      <td> 0.184691</td>\n",
        "    </tr>\n",
        "    <tr>\n",
        "      <th>...</th>\n",
        "      <td>...</td>\n",
        "      <td>...</td>\n",
        "    </tr>\n",
        "    <tr>\n",
        "      <th>170</th>\n",
        "      <td> 855</td>\n",
        "      <td> 0.931966</td>\n",
        "    </tr>\n",
        "    <tr>\n",
        "      <th>171</th>\n",
        "      <td> 860</td>\n",
        "      <td> 0.934498</td>\n",
        "    </tr>\n",
        "    <tr>\n",
        "      <th>172</th>\n",
        "      <td> 862</td>\n",
        "      <td> 0.935507</td>\n",
        "    </tr>\n",
        "    <tr>\n",
        "      <th>173</th>\n",
        "      <td> 864</td>\n",
        "      <td> 0.936514</td>\n",
        "    </tr>\n",
        "    <tr>\n",
        "      <th>174</th>\n",
        "      <td> 865</td>\n",
        "      <td> 0.937016</td>\n",
        "    </tr>\n",
        "    <tr>\n",
        "      <th>175</th>\n",
        "      <td> 876</td>\n",
        "      <td> 0.942504</td>\n",
        "    </tr>\n",
        "    <tr>\n",
        "      <th>176</th>\n",
        "      <td> 877</td>\n",
        "      <td> 0.943000</td>\n",
        "    </tr>\n",
        "    <tr>\n",
        "      <th>177</th>\n",
        "      <td> 881</td>\n",
        "      <td> 0.944976</td>\n",
        "    </tr>\n",
        "    <tr>\n",
        "      <th>178</th>\n",
        "      <td> 885</td>\n",
        "      <td> 0.946943</td>\n",
        "    </tr>\n",
        "    <tr>\n",
        "      <th>179</th>\n",
        "      <td> 894</td>\n",
        "      <td> 0.951338</td>\n",
        "    </tr>\n",
        "    <tr>\n",
        "      <th>180</th>\n",
        "      <td> 896</td>\n",
        "      <td> 0.952308</td>\n",
        "    </tr>\n",
        "    <tr>\n",
        "      <th>181</th>\n",
        "      <td> 899</td>\n",
        "      <td> 0.953760</td>\n",
        "    </tr>\n",
        "    <tr>\n",
        "      <th>182</th>\n",
        "      <td> 917</td>\n",
        "      <td> 0.962369</td>\n",
        "    </tr>\n",
        "    <tr>\n",
        "      <th>183</th>\n",
        "      <td> 922</td>\n",
        "      <td> 0.964731</td>\n",
        "    </tr>\n",
        "    <tr>\n",
        "      <th>184</th>\n",
        "      <td> 925</td>\n",
        "      <td> 0.966142</td>\n",
        "    </tr>\n",
        "    <tr>\n",
        "      <th>185</th>\n",
        "      <td> 926</td>\n",
        "      <td> 0.966611</td>\n",
        "    </tr>\n",
        "    <tr>\n",
        "      <th>186</th>\n",
        "      <td> 949</td>\n",
        "      <td> 0.977266</td>\n",
        "    </tr>\n",
        "    <tr>\n",
        "      <th>187</th>\n",
        "      <td> 950</td>\n",
        "      <td> 0.977724</td>\n",
        "    </tr>\n",
        "    <tr>\n",
        "      <th>188</th>\n",
        "      <td> 950</td>\n",
        "      <td> 0.977724</td>\n",
        "    </tr>\n",
        "    <tr>\n",
        "      <th>189</th>\n",
        "      <td> 955</td>\n",
        "      <td> 0.980003</td>\n",
        "    </tr>\n",
        "    <tr>\n",
        "      <th>190</th>\n",
        "      <td> 956</td>\n",
        "      <td> 0.980458</td>\n",
        "    </tr>\n",
        "    <tr>\n",
        "      <th>191</th>\n",
        "      <td> 961</td>\n",
        "      <td> 0.982723</td>\n",
        "    </tr>\n",
        "    <tr>\n",
        "      <th>192</th>\n",
        "      <td> 962</td>\n",
        "      <td> 0.983175</td>\n",
        "    </tr>\n",
        "    <tr>\n",
        "      <th>193</th>\n",
        "      <td> 967</td>\n",
        "      <td> 0.985426</td>\n",
        "    </tr>\n",
        "    <tr>\n",
        "      <th>194</th>\n",
        "      <td> 977</td>\n",
        "      <td> 0.989895</td>\n",
        "    </tr>\n",
        "    <tr>\n",
        "      <th>195</th>\n",
        "      <td> 985</td>\n",
        "      <td> 0.993436</td>\n",
        "    </tr>\n",
        "    <tr>\n",
        "      <th>196</th>\n",
        "      <td> 986</td>\n",
        "      <td> 0.993877</td>\n",
        "    </tr>\n",
        "    <tr>\n",
        "      <th>197</th>\n",
        "      <td> 991</td>\n",
        "      <td> 0.996074</td>\n",
        "    </tr>\n",
        "    <tr>\n",
        "      <th>198</th>\n",
        "      <td> 992</td>\n",
        "      <td> 0.996512</td>\n",
        "    </tr>\n",
        "    <tr>\n",
        "      <th>199</th>\n",
        "      <td> 994</td>\n",
        "      <td> 0.997386</td>\n",
        "    </tr>\n",
        "  </tbody>\n",
        "</table>\n",
        "<p>200 rows \u00d7 2 columns</p>\n",
        "</div>"
       ],
       "metadata": {},
       "output_type": "pyout",
       "prompt_number": 14,
       "text": [
        "     numbers  mantissas\n",
        "0          0       -inf\n",
        "1          9   0.954243\n",
        "2         12   0.079181\n",
        "3         21   0.322219\n",
        "4         31   0.491362\n",
        "5         36   0.556303\n",
        "6         38   0.579784\n",
        "7         46   0.662758\n",
        "8         56   0.748188\n",
        "9         57   0.755875\n",
        "10        76   0.880814\n",
        "11        77   0.886491\n",
        "12        78   0.892095\n",
        "13        83   0.919078\n",
        "14        95   0.977724\n",
        "15        96   0.982271\n",
        "16        97   0.986772\n",
        "17       101   0.004321\n",
        "18       104   0.017033\n",
        "19       106   0.025306\n",
        "20       107   0.029384\n",
        "21       114   0.056905\n",
        "22       115   0.060698\n",
        "23       115   0.060698\n",
        "24       116   0.064458\n",
        "25       122   0.086360\n",
        "26       138   0.139879\n",
        "27       151   0.178977\n",
        "28       152   0.181844\n",
        "29       153   0.184691\n",
        "..       ...        ...\n",
        "170      855   0.931966\n",
        "171      860   0.934498\n",
        "172      862   0.935507\n",
        "173      864   0.936514\n",
        "174      865   0.937016\n",
        "175      876   0.942504\n",
        "176      877   0.943000\n",
        "177      881   0.944976\n",
        "178      885   0.946943\n",
        "179      894   0.951338\n",
        "180      896   0.952308\n",
        "181      899   0.953760\n",
        "182      917   0.962369\n",
        "183      922   0.964731\n",
        "184      925   0.966142\n",
        "185      926   0.966611\n",
        "186      949   0.977266\n",
        "187      950   0.977724\n",
        "188      950   0.977724\n",
        "189      955   0.980003\n",
        "190      956   0.980458\n",
        "191      961   0.982723\n",
        "192      962   0.983175\n",
        "193      967   0.985426\n",
        "194      977   0.989895\n",
        "195      985   0.993436\n",
        "196      986   0.993877\n",
        "197      991   0.996074\n",
        "198      992   0.996512\n",
        "199      994   0.997386\n",
        "\n",
        "[200 rows x 2 columns]"
       ]
      }
     ],
     "prompt_number": 14
    },
    {
     "cell_type": "code",
     "collapsed": false,
     "input": [
      "plt.plot(tt.numbers, tt.mantissas)"
     ],
     "language": "python",
     "metadata": {},
     "outputs": [
      {
       "metadata": {},
       "output_type": "pyout",
       "prompt_number": 15,
       "text": [
        "[<matplotlib.lines.Line2D at 0x7fcdbe7fb210>]"
       ]
      },
      {
       "metadata": {},
       "output_type": "display_data",
       "png": "[encoded data removed]",
       "text": [
        "<matplotlib.figure.Figure at 0x7fcdbe8adfd0>"
       ]
      }
     ],
     "prompt_number": 15
    },
    {
     "cell_type": "code",
     "collapsed": false,
     "input": [
      "plt.plot(np.arange(len(tt)), tt.mantissas)"
     ],
     "language": "python",
     "metadata": {},
     "outputs": [
      {
       "metadata": {},
       "output_type": "pyout",
       "prompt_number": 16,
       "text": [
        "[<matplotlib.lines.Line2D at 0x7fcdbe7aa150>]"
       ]
      },
      {
       "metadata": {},
       "output_type": "display_data",
       "png": "[encoded data removed]",
       "text": [
        "<matplotlib.figure.Figure at 0x7fcdbe8f51d0>"
       ]
      }
     ],
     "prompt_number": 16
    },
    {
     "cell_type": "code",
     "collapsed": false,
     "input": [
      "tt['m2'] = _get_mantissas_(tt.numbers)\n",
      "sum(tt.mantissas!=tt.m2)"
     ],
     "language": "python",
     "metadata": {},
     "outputs": [
      {
       "metadata": {},
       "output_type": "pyout",
       "prompt_number": 17,
       "text": [
        "0"
       ]
      }
     ],
     "prompt_number": 17
    },
    {
     "cell_type": "code",
     "collapsed": false,
     "input": [
      "tt['ms']=tt.m2.cumsum()\n",
      "plt.plot(np.arange(len(tt.ms)))"
     ],
     "language": "python",
     "metadata": {},
     "outputs": [
      {
       "metadata": {},
       "output_type": "pyout",
       "prompt_number": 20,
       "text": [
        "[<matplotlib.lines.Line2D at 0x7fcdbe401b10>]"
       ]
      },
      {
       "metadata": {},
       "output_type": "display_data",
       "png": "[encoded data removed]",
       "text": [
        "<matplotlib.figure.Figure at 0x7fcdbe483c10>"
       ]
      }
     ],
     "prompt_number": 20
    },
    {
     "cell_type": "code",
     "collapsed": false,
     "input": [
      "h = 9.234\n",
      "h*=100\n",
      "str(h)[:2]"
     ],
     "language": "python",
     "metadata": {},
     "outputs": [
      {
       "metadata": {},
       "output_type": "pyout",
       "prompt_number": 21,
       "text": [
        "'92'"
       ]
      }
     ],
     "prompt_number": 21
    },
    {
     "cell_type": "code",
     "collapsed": false,
     "input": [
      "len(str((1/m[3]).astype(int)))"
     ],
     "language": "python",
     "metadata": {},
     "outputs": [
      {
       "metadata": {},
       "output_type": "pyout",
       "prompt_number": 22,
       "text": [
        "2"
       ]
      }
     ],
     "prompt_number": 22
    },
    {
     "cell_type": "code",
     "collapsed": false,
     "input": [
      "eb = np.arange(10,100).reshape(90,1)\n",
      "eb = eb.astype(str)\n",
      "eb[:,0]"
     ],
     "language": "python",
     "metadata": {},
     "outputs": [
      {
       "metadata": {},
       "output_type": "pyout",
       "prompt_number": 23,
       "text": [
        "array(['10', '11', '12', '13', '14', '15', '16', '17', '18', '19', '20',\n",
        "       '21', '22', '23', '24', '25', '26', '27', '28', '29', '30', '31',\n",
        "       '32', '33', '34', '35', '36', '37', '38', '39', '40', '41', '42',\n",
        "       '43', '44', '45', '46', '47', '48', '49', '50', '51', '52', '53',\n",
        "       '54', '55', '56', '57', '58', '59', '60', '61', '62', '63', '64',\n",
        "       '65', '66', '67', '68', '69', '70', '71', '72', '73', '74', '75',\n",
        "       '76', '77', '78', '79', '80', '81', '82', '83', '84', '85', '86',\n",
        "       '87', '88', '89', '90', '91', '92', '93', '94', '95', '96', '97',\n",
        "       '98', '99'], \n",
        "      dtype='|S21')"
       ]
      }
     ],
     "prompt_number": 23
    },
    {
     "cell_type": "code",
     "collapsed": false,
     "input": [
      "eb = np.arange(10,100)\n",
      "eb = eb.astype(str)\n",
      "f = np.array([l[0] for l in eb]).reshape(90,1)\n",
      "s = np.array([l[1] for l in eb]).reshape(90,1)\n",
      "eb = np.hstack((f,s)).astype(int)\n",
      "eb[:,0]"
     ],
     "language": "python",
     "metadata": {},
     "outputs": [
      {
       "metadata": {},
       "output_type": "pyout",
       "prompt_number": 24,
       "text": [
        "array([1, 1, 1, 1, 1, 1, 1, 1, 1, 1, 2, 2, 2, 2, 2, 2, 2, 2, 2, 2, 3, 3, 3,\n",
        "       3, 3, 3, 3, 3, 3, 3, 4, 4, 4, 4, 4, 4, 4, 4, 4, 4, 5, 5, 5, 5, 5, 5,\n",
        "       5, 5, 5, 5, 6, 6, 6, 6, 6, 6, 6, 6, 6, 6, 7, 7, 7, 7, 7, 7, 7, 7, 7,\n",
        "       7, 8, 8, 8, 8, 8, 8, 8, 8, 8, 8, 9, 9, 9, 9, 9, 9, 9, 9, 9, 9])"
       ]
      }
     ],
     "prompt_number": 24
    },
    {
     "cell_type": "code",
     "collapsed": false,
     "input": [
      "e2 = np.arange(10,100)\n",
      "p = np.log10(1+(1./e2))\n",
      "plt.bar(e2,p)"
     ],
     "language": "python",
     "metadata": {},
     "outputs": [
      {
       "metadata": {},
       "output_type": "pyout",
       "prompt_number": 25,
       "text": [
        "<Container object of 90 artists>"
       ]
      },
      {
       "metadata": {},
       "output_type": "display_data",
       "png": "[encoded data removed]",
       "text": [
        "<matplotlib.figure.Figure at 0x7fcdbe70b4d0>"
       ]
      }
     ],
     "prompt_number": 25
    },
    {
     "cell_type": "code",
     "collapsed": false,
     "input": [
      "e3 = e2.astype(str)\n",
      "s = np.array([l[1] for l in e3]).astype(int)\n",
      "p[s == 0].sum()"
     ],
     "language": "python",
     "metadata": {},
     "outputs": [
      {
       "metadata": {},
       "output_type": "pyout",
       "prompt_number": 26,
       "text": [
        "0.11967926859688073"
       ]
      }
     ],
     "prompt_number": 26
    },
    {
     "cell_type": "code",
     "collapsed": false,
     "input": [
      "def __first__(output_DF=True):\n",
      "\t'''\n",
      "\tReturns the expected probabilities of the first digits\n",
      "\taccording to Benford's distribution.\n",
      "\t\n",
      "\t- output_DF: Defaluts to True, outputing a pandas DataFrame\n",
      "\t\t\t\twith the probabilities, and the respective\n",
      "\t\t\t\tdigits as the index, or a numpy array if False, when\n",
      "\t\t\t\tthere will not be an index, and one must remember\n",
      "\t\t\t\tthat the indexing for the 1 probability will be \n",
      "\t\t\t\t[0], [1] for the two, and so on up untill [8] for\n",
      "\t\t\t\tthe probability of the first digit 9.\n",
      "\t'''\n",
      "\tFirst_Dig = np.arange(1,10)\n",
      "\tExpected = np.log10(1 + (1. / First_Dig))\n",
      "\tif output_DF == False:\n",
      "\t\treturn Expected\n",
      "\telse:\n",
      "\t\treturn pd.DataFrame({'Expected':Expected,\\\n",
      "\t\t\t'First_Dig':First_Dig}).set_index('First_Dig')"
     ],
     "language": "python",
     "metadata": {},
     "outputs": [],
     "prompt_number": 44
    },
    {
     "cell_type": "code",
     "collapsed": false,
     "input": [
      "np.array(range(10)*10)"
     ],
     "language": "python",
     "metadata": {},
     "outputs": [
      {
       "metadata": {},
       "output_type": "pyout",
       "prompt_number": 31,
       "text": [
        "array([0, 1, 2, 3, 4, 5, 6, 7, 8, 9, 0, 1, 2, 3, 4, 5, 6, 7, 8, 9, 0, 1, 2,\n",
        "       3, 4, 5, 6, 7, 8, 9, 0, 1, 2, 3, 4, 5, 6, 7, 8, 9, 0, 1, 2, 3, 4, 5,\n",
        "       6, 7, 8, 9, 0, 1, 2, 3, 4, 5, 6, 7, 8, 9, 0, 1, 2, 3, 4, 5, 6, 7, 8,\n",
        "       9, 0, 1, 2, 3, 4, 5, 6, 7, 8, 9, 0, 1, 2, 3, 4, 5, 6, 7, 8, 9, 0, 1,\n",
        "       2, 3, 4, 5, 6, 7, 8, 9])"
       ]
      }
     ],
     "prompt_number": 31
    },
    {
     "cell_type": "code",
     "collapsed": false,
     "input": [
      "__first__()"
     ],
     "language": "python",
     "metadata": {},
     "outputs": [
      {
       "metadata": {},
       "output_type": "pyout",
       "prompt_number": 32,
       "text": [
        "array([ 0.30103   ,  0.17609126,  0.12493874,  0.09691001,  0.07918125,\n",
        "        0.06694679,  0.05799195,  0.05115252,  0.04575749])"
       ]
      }
     ],
     "prompt_number": 32
    },
    {
     "cell_type": "code",
     "collapsed": false,
     "input": [
      "a6 = np.arange(1,10)\n",
      "plt.bar(a6,__first__())"
     ],
     "language": "python",
     "metadata": {},
     "outputs": [
      {
       "metadata": {},
       "output_type": "pyout",
       "prompt_number": 33,
       "text": [
        "<Container object of 9 artists>"
       ]
      },
      {
       "metadata": {},
       "output_type": "display_data",
       "png": "[encoded data removed]",
       "text": [
        "<matplotlib.figure.Figure at 0x7fcdbe0a0250>"
       ]
      }
     ],
     "prompt_number": 33
    },
    {
     "cell_type": "code",
     "collapsed": false,
     "input": [
      "def __second__(output_DF=True):\n",
      "\t'''\n",
      "\tReturns the expected probabilities of the second digits\n",
      "\taccording to Benford's distribution.\n",
      "\t\n",
      "\toutput_DF: Defaluts to Ture, Outputing a pandas DataFrame\n",
      "\t\t\twith the digit as index and the respective probability\n",
      "\t\t\tin the 'prob' column, or a numpy array if False. In\n",
      "\t\t\tthis case, coincidently the indexing within the array\n",
      "\t\t\twill match the second digits -> [0] - prob. of 0,\n",
      "\t\t\t[1] - prob of 1, and sort\ton up untill [9] - prob of 9.\n",
      "\t'''\n",
      "\ta = np.arange(10,100)\n",
      "\tExpected = np.log10(1 + (1. / a))\n",
      "\tSec_Dig = np.array(range(10)*9)\n",
      "\tif output_DF == False:\n",
      "\t\tc = np.zeros(10)\n",
      "\t\tfor n in Sec_Dig:\n",
      "\t\t\tc[n] = Expected[Sec_Dig == n].sum()\n",
      "\t\treturn c\n",
      "\telse:\n",
      "\t\td = pd.DataFrame({'Expected': Expected, 'Sec_Dig': Sec_Dig},\\\n",
      "\t\tindex = a)\n",
      "\t\treturn d.groupby('Sec_Dig').agg(sum)"
     ],
     "language": "python",
     "metadata": {},
     "outputs": [],
     "prompt_number": 47
    },
    {
     "cell_type": "code",
     "collapsed": false,
     "input": [
      "__second__()"
     ],
     "language": "python",
     "metadata": {},
     "outputs": [
      {
       "html": [
        "<div style=\"max-height:1000px;max-width:1500px;overflow:auto;\">\n",
        "<table border=\"1\" class=\"dataframe\">\n",
        "  <thead>\n",
        "    <tr style=\"text-align: right;\">\n",
        "      <th></th>\n",
        "      <th>probs</th>\n",
        "    </tr>\n",
        "    <tr>\n",
        "      <th>secdig</th>\n",
        "      <th></th>\n",
        "    </tr>\n",
        "  </thead>\n",
        "  <tbody>\n",
        "    <tr>\n",
        "      <th>0</th>\n",
        "      <td> 0.119679</td>\n",
        "    </tr>\n",
        "    <tr>\n",
        "      <th>1</th>\n",
        "      <td> 0.113890</td>\n",
        "    </tr>\n",
        "    <tr>\n",
        "      <th>2</th>\n",
        "      <td> 0.108821</td>\n",
        "    </tr>\n",
        "    <tr>\n",
        "      <th>3</th>\n",
        "      <td> 0.104330</td>\n",
        "    </tr>\n",
        "    <tr>\n",
        "      <th>4</th>\n",
        "      <td> 0.100308</td>\n",
        "    </tr>\n",
        "    <tr>\n",
        "      <th>5</th>\n",
        "      <td> 0.096677</td>\n",
        "    </tr>\n",
        "    <tr>\n",
        "      <th>6</th>\n",
        "      <td> 0.093375</td>\n",
        "    </tr>\n",
        "    <tr>\n",
        "      <th>7</th>\n",
        "      <td> 0.090352</td>\n",
        "    </tr>\n",
        "    <tr>\n",
        "      <th>8</th>\n",
        "      <td> 0.087570</td>\n",
        "    </tr>\n",
        "    <tr>\n",
        "      <th>9</th>\n",
        "      <td> 0.084997</td>\n",
        "    </tr>\n",
        "  </tbody>\n",
        "</table>\n",
        "</div>"
       ],
       "metadata": {},
       "output_type": "pyout",
       "prompt_number": 37,
       "text": [
        "           probs\n",
        "secdig          \n",
        "0       0.119679\n",
        "1       0.113890\n",
        "2       0.108821\n",
        "3       0.104330\n",
        "4       0.100308\n",
        "5       0.096677\n",
        "6       0.093375\n",
        "7       0.090352\n",
        "8       0.087570\n",
        "9       0.084997"
       ]
      }
     ],
     "prompt_number": 37
    },
    {
     "cell_type": "code",
     "collapsed": false,
     "input": [
      "a5 = np.arange(0,10)\n",
      "plt.plot(a5, secondDigit())\n",
      "plt.ylim((0,.15))"
     ],
     "language": "python",
     "metadata": {},
     "outputs": [
      {
       "metadata": {},
       "output_type": "pyout",
       "prompt_number": 46,
       "text": [
        "(0, 0.15)"
       ]
      },
      {
       "metadata": {},
       "output_type": "display_data",
       "png": "[encoded data removed]",
       "text": [
        "<matplotlib.figure.Figure at 0x7fcdbdf7ce10>"
       ]
      }
     ],
     "prompt_number": 46
    },
    {
     "cell_type": "code",
     "collapsed": false,
     "input": [
      "g =__first__()\n",
      "g"
     ],
     "language": "python",
     "metadata": {},
     "outputs": [
      {
       "metadata": {},
       "output_type": "pyout",
       "prompt_number": 40,
       "text": [
        "array([ 0.30103   ,  0.17609126,  0.12493874,  0.09691001,  0.07918125,\n",
        "        0.06694679,  0.05799195,  0.05115252,  0.04575749])"
       ]
      }
     ],
     "prompt_number": 40
    },
    {
     "cell_type": "code",
     "collapsed": false,
     "input": [
      "__second__()"
     ],
     "language": "python",
     "metadata": {},
     "outputs": [
      {
       "metadata": {},
       "output_type": "pyout",
       "prompt_number": 41,
       "text": [
        "array([ 0.11967927,  0.1138901 ,  0.1088215 ,  0.10432956,  0.1003082 ,\n",
        "        0.09667724,  0.09337474,  0.09035199,  0.08757005,  0.08499735])"
       ]
      }
     ],
     "prompt_number": 41
    },
    {
     "cell_type": "code",
     "collapsed": false,
     "input": [
      "def __firstTwo__(output_DF=True):\n",
      "\t'''\n",
      "\tReturns the expected probabilities of the first two digits\n",
      "\taccording to Benford's distribution.\n",
      "\t\n",
      "\t- output_DF: Defaluts to Ture, Outputing a pandas DataFrame\n",
      "\t\t\t\tobject with the probabilities and the respective\n",
      "\t\t\t\tdigits as the index, or a numpy array if False, when\n",
      "\t\t\t\tthere will not be an index column, and one must\n",
      "\t\t\t\tremember that the indexing for the 10 probability\n",
      "\t\t\t\twill be [0], [1] for 11, and so on up untill [89] for\n",
      "\t\t\t\tthe probability of the first digit 99.\n",
      "\t'''\n",
      "\tFirst_2_Dig = np.arange(10,100)\n",
      "\tExpected = np.log10(1 + (1. / First_2_Dig))\n",
      "\tif output_DF == False:\n",
      "\t\treturn Expected\n",
      "\telse:\n",
      "\t\treturn pd.DataFrame({'First_2_Dig':First_2_Dig,\\\n",
      "\t\t\t'Expected':Expected}).set_index('First_2_Dig')"
     ],
     "language": "python",
     "metadata": {},
     "outputs": [],
     "prompt_number": 48
    },
    {
     "cell_type": "code",
     "collapsed": false,
     "input": [
      "__firstTwo__().head()"
     ],
     "language": "python",
     "metadata": {},
     "outputs": [
      {
       "html": [
        "<div style=\"max-height:1000px;max-width:1500px;overflow:auto;\">\n",
        "<table border=\"1\" class=\"dataframe\">\n",
        "  <thead>\n",
        "    <tr style=\"text-align: right;\">\n",
        "      <th></th>\n",
        "      <th>Expected</th>\n",
        "    </tr>\n",
        "    <tr>\n",
        "      <th>First_2_Dig</th>\n",
        "      <th></th>\n",
        "    </tr>\n",
        "  </thead>\n",
        "  <tbody>\n",
        "    <tr>\n",
        "      <th>10</th>\n",
        "      <td> 0.041393</td>\n",
        "    </tr>\n",
        "    <tr>\n",
        "      <th>11</th>\n",
        "      <td> 0.037789</td>\n",
        "    </tr>\n",
        "    <tr>\n",
        "      <th>12</th>\n",
        "      <td> 0.034762</td>\n",
        "    </tr>\n",
        "    <tr>\n",
        "      <th>13</th>\n",
        "      <td> 0.032185</td>\n",
        "    </tr>\n",
        "    <tr>\n",
        "      <th>14</th>\n",
        "      <td> 0.029963</td>\n",
        "    </tr>\n",
        "  </tbody>\n",
        "</table>\n",
        "</div>"
       ],
       "metadata": {},
       "output_type": "pyout",
       "prompt_number": 51,
       "text": [
        "             Expected\n",
        "First_2_Dig          \n",
        "10           0.041393\n",
        "11           0.037789\n",
        "12           0.034762\n",
        "13           0.032185\n",
        "14           0.029963"
       ]
      }
     ],
     "prompt_number": 51
    },
    {
     "cell_type": "code",
     "collapsed": false,
     "input": [
      "r = np.absolute(1000 * np.random.randn(1000))\n",
      "r[:10]"
     ],
     "language": "python",
     "metadata": {},
     "outputs": [
      {
       "metadata": {},
       "output_type": "pyout",
       "prompt_number": 66,
       "text": [
        "array([ 1544.01958325,  1384.60093465,  1425.93647821,  1833.36255011,\n",
        "        2465.73860657,  1296.73491946,  1110.02933309,   687.85103073,\n",
        "         117.15410908,   645.75780601])"
       ]
      }
     ],
     "prompt_number": 66
    },
    {
     "cell_type": "code",
     "collapsed": false,
     "input": [
      "a = pd.Series(r)\n",
      "a.head()"
     ],
     "language": "python",
     "metadata": {},
     "outputs": [
      {
       "metadata": {},
       "output_type": "pyout",
       "prompt_number": 72,
       "text": [
        "0    1544.019583\n",
        "1    1384.600935\n",
        "2    1425.936478\n",
        "3    1833.362550\n",
        "4    2465.738607\n",
        "dtype: float64"
       ]
      }
     ],
     "prompt_number": 72
    },
    {
     "cell_type": "code",
     "collapsed": false,
     "input": [
      "a = a[a >= 10]\n",
      "a.head()"
     ],
     "language": "python",
     "metadata": {},
     "outputs": [
      {
       "metadata": {},
       "output_type": "pyout",
       "prompt_number": 73,
       "text": [
        "0    1544.019583\n",
        "1    1384.600935\n",
        "2    1425.936478\n",
        "3    1833.362550\n",
        "4    2465.738607\n",
        "dtype: float64"
       ]
      }
     ],
     "prompt_number": 73
    },
    {
     "cell_type": "code",
     "collapsed": false,
     "input": [
      "a = a.apply(str).apply(lambda x: x[:2]).apply(int)\n",
      "a.head()"
     ],
     "language": "python",
     "metadata": {},
     "outputs": [
      {
       "metadata": {},
       "output_type": "pyout",
       "prompt_number": 74,
       "text": [
        "0    15\n",
        "1    13\n",
        "2    14\n",
        "3    18\n",
        "4    24\n",
        "dtype: int64"
       ]
      }
     ],
     "prompt_number": 74
    },
    {
     "cell_type": "code",
     "collapsed": false,
     "input": [
      "v = a.value_counts()\n",
      "v.head()"
     ],
     "language": "python",
     "metadata": {},
     "outputs": [
      {
       "metadata": {},
       "output_type": "pyout",
       "prompt_number": 75,
       "text": [
        "11    61\n",
        "10    58\n",
        "12    47\n",
        "14    37\n",
        "17    33\n",
        "dtype: int64"
       ]
      }
     ],
     "prompt_number": 75
    },
    {
     "cell_type": "code",
     "collapsed": false,
     "input": [
      "p = a.value_counts(normalize=True)\n",
      "p.head()"
     ],
     "language": "python",
     "metadata": {},
     "outputs": [
      {
       "metadata": {},
       "output_type": "pyout",
       "prompt_number": 77,
       "text": [
        "11    0.061678\n",
        "10    0.058645\n",
        "12    0.047523\n",
        "14    0.037412\n",
        "17    0.033367\n",
        "dtype: float64"
       ]
      }
     ],
     "prompt_number": 77
    },
    {
     "cell_type": "code",
     "collapsed": false,
     "input": [
      "df = pd.DataFrame({'Counts': v, 'Found': p}).sort_index()\n",
      "df.head()"
     ],
     "language": "python",
     "metadata": {},
     "outputs": [
      {
       "html": [
        "<div style=\"max-height:1000px;max-width:1500px;overflow:auto;\">\n",
        "<table border=\"1\" class=\"dataframe\">\n",
        "  <thead>\n",
        "    <tr style=\"text-align: right;\">\n",
        "      <th></th>\n",
        "      <th>Counts</th>\n",
        "      <th>Found</th>\n",
        "    </tr>\n",
        "  </thead>\n",
        "  <tbody>\n",
        "    <tr>\n",
        "      <th>10</th>\n",
        "      <td> 58</td>\n",
        "      <td> 0.058645</td>\n",
        "    </tr>\n",
        "    <tr>\n",
        "      <th>11</th>\n",
        "      <td> 61</td>\n",
        "      <td> 0.061678</td>\n",
        "    </tr>\n",
        "    <tr>\n",
        "      <th>12</th>\n",
        "      <td> 47</td>\n",
        "      <td> 0.047523</td>\n",
        "    </tr>\n",
        "    <tr>\n",
        "      <th>13</th>\n",
        "      <td> 31</td>\n",
        "      <td> 0.031345</td>\n",
        "    </tr>\n",
        "    <tr>\n",
        "      <th>14</th>\n",
        "      <td> 37</td>\n",
        "      <td> 0.037412</td>\n",
        "    </tr>\n",
        "  </tbody>\n",
        "</table>\n",
        "</div>"
       ],
       "metadata": {},
       "output_type": "pyout",
       "prompt_number": 115,
       "text": [
        "    Counts     Found\n",
        "10      58  0.058645\n",
        "11      61  0.061678\n",
        "12      47  0.047523\n",
        "13      31  0.031345\n",
        "14      37  0.037412"
       ]
      }
     ],
     "prompt_number": 115
    },
    {
     "cell_type": "code",
     "collapsed": false,
     "input": [
      "# if len(df.index<90):\n",
      "df2 = df.reindex(np.arange(10,100))\n"
     ],
     "language": "python",
     "metadata": {},
     "outputs": [],
     "prompt_number": 116
    },
    {
     "cell_type": "code",
     "collapsed": false,
     "input": [
      "df2.ix[df2.Counts.isnull()]"
     ],
     "language": "python",
     "metadata": {},
     "outputs": [
      {
       "html": [
        "<div style=\"max-height:1000px;max-width:1500px;overflow:auto;\">\n",
        "<table border=\"1\" class=\"dataframe\">\n",
        "  <thead>\n",
        "    <tr style=\"text-align: right;\">\n",
        "      <th></th>\n",
        "      <th>Counts</th>\n",
        "      <th>Found</th>\n",
        "    </tr>\n",
        "  </thead>\n",
        "  <tbody>\n",
        "    <tr>\n",
        "      <th>47</th>\n",
        "      <td>NaN</td>\n",
        "      <td>NaN</td>\n",
        "    </tr>\n",
        "  </tbody>\n",
        "</table>\n",
        "</div>"
       ],
       "metadata": {},
       "output_type": "pyout",
       "prompt_number": 107,
       "text": [
        "    Counts  Found\n",
        "47     NaN    NaN"
       ]
      }
     ],
     "prompt_number": 107
    },
    {
     "cell_type": "code",
     "collapsed": false,
     "input": [
      "df2 = df2.fillna(0)\n",
      "df2.ix[df2.Counts.isnull()]"
     ],
     "language": "python",
     "metadata": {},
     "outputs": [
      {
       "html": [
        "<div style=\"max-height:1000px;max-width:1500px;overflow:auto;\">\n",
        "<table border=\"1\" class=\"dataframe\">\n",
        "  <thead>\n",
        "    <tr style=\"text-align: right;\">\n",
        "      <th></th>\n",
        "      <th>Counts</th>\n",
        "      <th>Found</th>\n",
        "    </tr>\n",
        "  </thead>\n",
        "  <tbody>\n",
        "  </tbody>\n",
        "</table>\n",
        "</div>"
       ],
       "metadata": {},
       "output_type": "pyout",
       "prompt_number": 118,
       "text": [
        "Empty DataFrame\n",
        "Columns: [Counts, Found]\n",
        "Index: []"
       ]
      }
     ],
     "prompt_number": 118
    },
    {
     "cell_type": "code",
     "collapsed": false,
     "input": [
      "df2 = __firstTwo__().join(df2)\n",
      "df2.head()"
     ],
     "language": "python",
     "metadata": {},
     "outputs": [
      {
       "html": [
        "<div style=\"max-height:1000px;max-width:1500px;overflow:auto;\">\n",
        "<table border=\"1\" class=\"dataframe\">\n",
        "  <thead>\n",
        "    <tr style=\"text-align: right;\">\n",
        "      <th></th>\n",
        "      <th>Expected</th>\n",
        "      <th>Counts</th>\n",
        "      <th>Found</th>\n",
        "    </tr>\n",
        "    <tr>\n",
        "      <th>First_2_Dig</th>\n",
        "      <th></th>\n",
        "      <th></th>\n",
        "      <th></th>\n",
        "    </tr>\n",
        "  </thead>\n",
        "  <tbody>\n",
        "    <tr>\n",
        "      <th>10</th>\n",
        "      <td> 0.041393</td>\n",
        "      <td> 58</td>\n",
        "      <td> 0.058645</td>\n",
        "    </tr>\n",
        "    <tr>\n",
        "      <th>11</th>\n",
        "      <td> 0.037789</td>\n",
        "      <td> 61</td>\n",
        "      <td> 0.061678</td>\n",
        "    </tr>\n",
        "    <tr>\n",
        "      <th>12</th>\n",
        "      <td> 0.034762</td>\n",
        "      <td> 47</td>\n",
        "      <td> 0.047523</td>\n",
        "    </tr>\n",
        "    <tr>\n",
        "      <th>13</th>\n",
        "      <td> 0.032185</td>\n",
        "      <td> 31</td>\n",
        "      <td> 0.031345</td>\n",
        "    </tr>\n",
        "    <tr>\n",
        "      <th>14</th>\n",
        "      <td> 0.029963</td>\n",
        "      <td> 37</td>\n",
        "      <td> 0.037412</td>\n",
        "    </tr>\n",
        "  </tbody>\n",
        "</table>\n",
        "</div>"
       ],
       "metadata": {},
       "output_type": "pyout",
       "prompt_number": 119,
       "text": [
        "             Expected  Counts     Found\n",
        "First_2_Dig                            \n",
        "10           0.041393      58  0.058645\n",
        "11           0.037789      61  0.061678\n",
        "12           0.034762      47  0.047523\n",
        "13           0.032185      31  0.031345\n",
        "14           0.029963      37  0.037412"
       ]
      }
     ],
     "prompt_number": 119
    },
    {
     "cell_type": "code",
     "collapsed": false,
     "input": [
      "fig = plt.figure(figsize=(15,10))\n",
      "ax = fig.add_subplot(111)\n",
      "ax.plot(df2.index,df2.Expected, color='r',linewidth=2.5)\n",
      "ax.bar(df2.index, df2.Found)\n"
     ],
     "language": "python",
     "metadata": {},
     "outputs": [
      {
       "metadata": {},
       "output_type": "pyout",
       "prompt_number": 120,
       "text": [
        "<Container object of 90 artists>"
       ]
      },
      {
       "metadata": {},
       "output_type": "display_data",
       "png": "[encoded data removed]",
       "text": [
        "<matplotlib.figure.Figure at 0x7fcdbe76acd0>"
       ]
      }
     ],
     "prompt_number": 120
    },
    {
     "cell_type": "code",
     "collapsed": false,
     "input": [
      "df2['AbsDif'] = np.absolute(df2.Found - df2.Expected)\n",
      "df2[30:40]"
     ],
     "language": "python",
     "metadata": {},
     "outputs": [
      {
       "html": [
        "<div style=\"max-height:1000px;max-width:1500px;overflow:auto;\">\n",
        "<table border=\"1\" class=\"dataframe\">\n",
        "  <thead>\n",
        "    <tr style=\"text-align: right;\">\n",
        "      <th></th>\n",
        "      <th>Expected</th>\n",
        "      <th>Counts</th>\n",
        "      <th>Found</th>\n",
        "      <th>AbsDif</th>\n",
        "    </tr>\n",
        "    <tr>\n",
        "      <th>First_2_Dig</th>\n",
        "      <th></th>\n",
        "      <th></th>\n",
        "      <th></th>\n",
        "      <th></th>\n",
        "    </tr>\n",
        "  </thead>\n",
        "  <tbody>\n",
        "    <tr>\n",
        "      <th>40</th>\n",
        "      <td> 0.010724</td>\n",
        "      <td> 10</td>\n",
        "      <td> 0.010111</td>\n",
        "      <td> 0.000613</td>\n",
        "    </tr>\n",
        "    <tr>\n",
        "      <th>41</th>\n",
        "      <td> 0.010465</td>\n",
        "      <td> 12</td>\n",
        "      <td> 0.012133</td>\n",
        "      <td> 0.001668</td>\n",
        "    </tr>\n",
        "    <tr>\n",
        "      <th>42</th>\n",
        "      <td> 0.010219</td>\n",
        "      <td> 11</td>\n",
        "      <td> 0.011122</td>\n",
        "      <td> 0.000903</td>\n",
        "    </tr>\n",
        "    <tr>\n",
        "      <th>43</th>\n",
        "      <td> 0.009984</td>\n",
        "      <td> 12</td>\n",
        "      <td> 0.012133</td>\n",
        "      <td> 0.002149</td>\n",
        "    </tr>\n",
        "    <tr>\n",
        "      <th>44</th>\n",
        "      <td> 0.009760</td>\n",
        "      <td> 11</td>\n",
        "      <td> 0.011122</td>\n",
        "      <td> 0.001363</td>\n",
        "    </tr>\n",
        "    <tr>\n",
        "      <th>45</th>\n",
        "      <td> 0.009545</td>\n",
        "      <td> 11</td>\n",
        "      <td> 0.011122</td>\n",
        "      <td> 0.001577</td>\n",
        "    </tr>\n",
        "    <tr>\n",
        "      <th>46</th>\n",
        "      <td> 0.009340</td>\n",
        "      <td>  6</td>\n",
        "      <td> 0.006067</td>\n",
        "      <td> 0.003273</td>\n",
        "    </tr>\n",
        "    <tr>\n",
        "      <th>47</th>\n",
        "      <td> 0.009143</td>\n",
        "      <td>  0</td>\n",
        "      <td> 0.000000</td>\n",
        "      <td> 0.009143</td>\n",
        "    </tr>\n",
        "    <tr>\n",
        "      <th>48</th>\n",
        "      <td> 0.008955</td>\n",
        "      <td> 11</td>\n",
        "      <td> 0.011122</td>\n",
        "      <td> 0.002168</td>\n",
        "    </tr>\n",
        "    <tr>\n",
        "      <th>49</th>\n",
        "      <td> 0.008774</td>\n",
        "      <td>  8</td>\n",
        "      <td> 0.008089</td>\n",
        "      <td> 0.000685</td>\n",
        "    </tr>\n",
        "  </tbody>\n",
        "</table>\n",
        "</div>"
       ],
       "metadata": {},
       "output_type": "pyout",
       "prompt_number": 121,
       "text": [
        "             Expected  Counts     Found    AbsDif\n",
        "First_2_Dig                                      \n",
        "40           0.010724      10  0.010111  0.000613\n",
        "41           0.010465      12  0.012133  0.001668\n",
        "42           0.010219      11  0.011122  0.000903\n",
        "43           0.009984      12  0.012133  0.002149\n",
        "44           0.009760      11  0.011122  0.001363\n",
        "45           0.009545      11  0.011122  0.001577\n",
        "46           0.009340       6  0.006067  0.003273\n",
        "47           0.009143       0  0.000000  0.009143\n",
        "48           0.008955      11  0.011122  0.002168\n",
        "49           0.008774       8  0.008089  0.000685"
       ]
      }
     ],
     "prompt_number": 121
    },
    {
     "cell_type": "code",
     "collapsed": false,
     "input": [
      "df2['Z'] = (df2.AbsDif - (1/2*len(r)))/(np.sqrt(df2.Expected*\\\n",
      "                                                (1-df2.Expected/len(r))))\n",
      "df2.head()"
     ],
     "language": "python",
     "metadata": {},
     "outputs": [
      {
       "html": [
        "<div style=\"max-height:1000px;max-width:1500px;overflow:auto;\">\n",
        "<table border=\"1\" class=\"dataframe\">\n",
        "  <thead>\n",
        "    <tr style=\"text-align: right;\">\n",
        "      <th></th>\n",
        "      <th>Expected</th>\n",
        "      <th>Counts</th>\n",
        "      <th>Found</th>\n",
        "      <th>AbsDif</th>\n",
        "      <th>Z</th>\n",
        "    </tr>\n",
        "    <tr>\n",
        "      <th>First_2_Dig</th>\n",
        "      <th></th>\n",
        "      <th></th>\n",
        "      <th></th>\n",
        "      <th></th>\n",
        "      <th></th>\n",
        "    </tr>\n",
        "  </thead>\n",
        "  <tbody>\n",
        "    <tr>\n",
        "      <th>10</th>\n",
        "      <td> 0.041393</td>\n",
        "      <td> 58</td>\n",
        "      <td> 0.058645</td>\n",
        "      <td> 0.017252</td>\n",
        "      <td> 0.084800</td>\n",
        "    </tr>\n",
        "    <tr>\n",
        "      <th>11</th>\n",
        "      <td> 0.037789</td>\n",
        "      <td> 61</td>\n",
        "      <td> 0.061678</td>\n",
        "      <td> 0.023890</td>\n",
        "      <td> 0.122897</td>\n",
        "    </tr>\n",
        "    <tr>\n",
        "      <th>12</th>\n",
        "      <td> 0.034762</td>\n",
        "      <td> 47</td>\n",
        "      <td> 0.047523</td>\n",
        "      <td> 0.012761</td>\n",
        "      <td> 0.068443</td>\n",
        "    </tr>\n",
        "    <tr>\n",
        "      <th>13</th>\n",
        "      <td> 0.032185</td>\n",
        "      <td> 31</td>\n",
        "      <td> 0.031345</td>\n",
        "      <td> 0.000840</td>\n",
        "      <td> 0.004682</td>\n",
        "    </tr>\n",
        "    <tr>\n",
        "      <th>14</th>\n",
        "      <td> 0.029963</td>\n",
        "      <td> 37</td>\n",
        "      <td> 0.037412</td>\n",
        "      <td> 0.007448</td>\n",
        "      <td> 0.043030</td>\n",
        "    </tr>\n",
        "  </tbody>\n",
        "</table>\n",
        "</div>"
       ],
       "metadata": {},
       "output_type": "pyout",
       "prompt_number": 122,
       "text": [
        "             Expected  Counts     Found    AbsDif         Z\n",
        "First_2_Dig                                                \n",
        "10           0.041393      58  0.058645  0.017252  0.084800\n",
        "11           0.037789      61  0.061678  0.023890  0.122897\n",
        "12           0.034762      47  0.047523  0.012761  0.068443\n",
        "13           0.032185      31  0.031345  0.000840  0.004682\n",
        "14           0.029963      37  0.037412  0.007448  0.043030"
       ]
      }
     ],
     "prompt_number": 122
    },
    {
     "cell_type": "code",
     "collapsed": false,
     "input": [
      "df2.sort('Z',ascending=False).head(10)"
     ],
     "language": "python",
     "metadata": {},
     "outputs": [
      {
       "html": [
        "<div style=\"max-height:1000px;max-width:1500px;overflow:auto;\">\n",
        "<table border=\"1\" class=\"dataframe\">\n",
        "  <thead>\n",
        "    <tr style=\"text-align: right;\">\n",
        "      <th></th>\n",
        "      <th>Expected</th>\n",
        "      <th>Counts</th>\n",
        "      <th>Found</th>\n",
        "      <th>AbsDif</th>\n",
        "      <th>Z</th>\n",
        "    </tr>\n",
        "    <tr>\n",
        "      <th>First_2_Dig</th>\n",
        "      <th></th>\n",
        "      <th></th>\n",
        "      <th></th>\n",
        "      <th></th>\n",
        "      <th></th>\n",
        "    </tr>\n",
        "  </thead>\n",
        "  <tbody>\n",
        "    <tr>\n",
        "      <th>11</th>\n",
        "      <td> 0.037789</td>\n",
        "      <td> 61</td>\n",
        "      <td> 0.061678</td>\n",
        "      <td> 0.023890</td>\n",
        "      <td> 0.122897</td>\n",
        "    </tr>\n",
        "    <tr>\n",
        "      <th>47</th>\n",
        "      <td> 0.009143</td>\n",
        "      <td>  0</td>\n",
        "      <td> 0.000000</td>\n",
        "      <td> 0.009143</td>\n",
        "      <td> 0.095621</td>\n",
        "    </tr>\n",
        "    <tr>\n",
        "      <th>71</th>\n",
        "      <td> 0.006074</td>\n",
        "      <td> 13</td>\n",
        "      <td> 0.013145</td>\n",
        "      <td> 0.007070</td>\n",
        "      <td> 0.090720</td>\n",
        "    </tr>\n",
        "    <tr>\n",
        "      <th>10</th>\n",
        "      <td> 0.041393</td>\n",
        "      <td> 58</td>\n",
        "      <td> 0.058645</td>\n",
        "      <td> 0.017252</td>\n",
        "      <td> 0.084800</td>\n",
        "    </tr>\n",
        "    <tr>\n",
        "      <th>75</th>\n",
        "      <td> 0.005752</td>\n",
        "      <td> 12</td>\n",
        "      <td> 0.012133</td>\n",
        "      <td> 0.006381</td>\n",
        "      <td> 0.084135</td>\n",
        "    </tr>\n",
        "    <tr>\n",
        "      <th>73</th>\n",
        "      <td> 0.005909</td>\n",
        "      <td> 12</td>\n",
        "      <td> 0.012133</td>\n",
        "      <td> 0.006225</td>\n",
        "      <td> 0.080977</td>\n",
        "    </tr>\n",
        "    <tr>\n",
        "      <th>30</th>\n",
        "      <td> 0.014240</td>\n",
        "      <td>  5</td>\n",
        "      <td> 0.005056</td>\n",
        "      <td> 0.009185</td>\n",
        "      <td> 0.076968</td>\n",
        "    </tr>\n",
        "    <tr>\n",
        "      <th>20</th>\n",
        "      <td> 0.021189</td>\n",
        "      <td> 10</td>\n",
        "      <td> 0.010111</td>\n",
        "      <td> 0.011078</td>\n",
        "      <td> 0.076105</td>\n",
        "    </tr>\n",
        "    <tr>\n",
        "      <th>28</th>\n",
        "      <td> 0.015240</td>\n",
        "      <td>  6</td>\n",
        "      <td> 0.006067</td>\n",
        "      <td> 0.009173</td>\n",
        "      <td> 0.074308</td>\n",
        "    </tr>\n",
        "    <tr>\n",
        "      <th>85</th>\n",
        "      <td> 0.005080</td>\n",
        "      <td> 10</td>\n",
        "      <td> 0.010111</td>\n",
        "      <td> 0.005032</td>\n",
        "      <td> 0.070600</td>\n",
        "    </tr>\n",
        "  </tbody>\n",
        "</table>\n",
        "</div>"
       ],
       "metadata": {},
       "output_type": "pyout",
       "prompt_number": 125,
       "text": [
        "             Expected  Counts     Found    AbsDif         Z\n",
        "First_2_Dig                                                \n",
        "11           0.037789      61  0.061678  0.023890  0.122897\n",
        "47           0.009143       0  0.000000  0.009143  0.095621\n",
        "71           0.006074      13  0.013145  0.007070  0.090720\n",
        "10           0.041393      58  0.058645  0.017252  0.084800\n",
        "75           0.005752      12  0.012133  0.006381  0.084135\n",
        "73           0.005909      12  0.012133  0.006225  0.080977\n",
        "30           0.014240       5  0.005056  0.009185  0.076968\n",
        "20           0.021189      10  0.010111  0.011078  0.076105\n",
        "28           0.015240       6  0.006067  0.009173  0.074308\n",
        "85           0.005080      10  0.010111  0.005032  0.070600"
       ]
      }
     ],
     "prompt_number": 125
    },
    {
     "cell_type": "code",
     "collapsed": false,
     "input": [
      "mad = df2.Z.mean()\n",
      "mad"
     ],
     "language": "python",
     "metadata": {},
     "outputs": [
      {
       "metadata": {},
       "output_type": "pyout",
       "prompt_number": 126,
       "text": [
        "0.032164442169118755"
       ]
      }
     ],
     "prompt_number": 126
    },
    {
     "cell_type": "code",
     "collapsed": false,
     "input": [],
     "language": "python",
     "metadata": {},
     "outputs": []
    }
   ],
   "metadata": {}
  }
 ]
}