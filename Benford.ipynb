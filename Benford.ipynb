{
 "metadata": {
  "name": "",
  "signature": "sha256:fcc266e2b3b12697d7c9842db0cdacb115ec8a6f19ec71172dc8235129cfee6c"
 },
 "nbformat": 3,
 "nbformat_minor": 0,
 "worksheets": [
  {
   "cells": [
    {
     "cell_type": "code",
     "collapsed": false,
     "input": [
      "import pandas as pd\n",
      "import numpy as np\n",
      "import matplotlib.pyplot as plt"
     ],
     "language": "python",
     "metadata": {},
     "outputs": [],
     "prompt_number": 1
    },
    {
     "cell_type": "code",
     "collapsed": false,
     "input": [
      "t = np.arange(10,1000,10)"
     ],
     "language": "python",
     "metadata": {},
     "outputs": [],
     "prompt_number": 2
    },
    {
     "cell_type": "code",
     "collapsed": false,
     "input": [
      "t[:10]"
     ],
     "language": "python",
     "metadata": {},
     "outputs": [
      {
       "metadata": {},
       "output_type": "pyout",
       "prompt_number": 3,
       "text": [
        "array([ 10,  20,  30,  40,  50,  60,  70,  80,  90, 100])"
       ]
      }
     ],
     "prompt_number": 3
    },
    {
     "cell_type": "heading",
     "level": 4,
     "metadata": {},
     "source": [
      "Getting the Mantissas"
     ]
    },
    {
     "cell_type": "code",
     "collapsed": false,
     "input": [
      "np.log10(t) - np.log10(t).astype(int)"
     ],
     "language": "python",
     "metadata": {},
     "outputs": [
      {
       "metadata": {},
       "output_type": "pyout",
       "prompt_number": 4,
       "text": [
        "array([ 0.        ,  0.30103   ,  0.47712125,  0.60205999,  0.69897   ,\n",
        "        0.77815125,  0.84509804,  0.90308999,  0.95424251,  0.        ,\n",
        "        0.04139269,  0.07918125,  0.11394335,  0.14612804,  0.17609126,\n",
        "        0.20411998,  0.23044892,  0.25527251,  0.2787536 ,  0.30103   ,\n",
        "        0.32221929,  0.34242268,  0.36172784,  0.38021124,  0.39794001,\n",
        "        0.41497335,  0.43136376,  0.44715803,  0.462398  ,  0.47712125,\n",
        "        0.49136169,  0.50514998,  0.51851394,  0.53147892,  0.54406804,\n",
        "        0.5563025 ,  0.56820172,  0.5797836 ,  0.59106461,  0.60205999,\n",
        "        0.61278386,  0.62324929,  0.63346846,  0.64345268,  0.65321251,\n",
        "        0.66275783,  0.67209786,  0.68124124,  0.69019608,  0.69897   ,\n",
        "        0.70757018,  0.71600334,  0.72427587,  0.73239376,  0.74036269,\n",
        "        0.74818803,  0.75587486,  0.76342799,  0.77085201,  0.77815125,\n",
        "        0.78532984,  0.79239169,  0.79934055,  0.80617997,  0.81291336,\n",
        "        0.81954394,  0.8260748 ,  0.83250891,  0.83884909,  0.84509804,\n",
        "        0.85125835,  0.8573325 ,  0.86332286,  0.86923172,  0.87506126,\n",
        "        0.88081359,  0.88649073,  0.8920946 ,  0.89762709,  0.90308999,\n",
        "        0.90848502,  0.91381385,  0.91907809,  0.92427929,  0.92941893,\n",
        "        0.93449845,  0.93951925,  0.94448267,  0.94939001,  0.95424251,\n",
        "        0.95904139,  0.96378783,  0.96848295,  0.97312785,  0.97772361,\n",
        "        0.98227123,  0.98677173,  0.99122608,  0.99563519])"
       ]
      }
     ],
     "prompt_number": 4
    },
    {
     "cell_type": "code",
     "collapsed": false,
     "input": [
      "g = np.random.randint(1000, size =200)\n",
      "g"
     ],
     "language": "python",
     "metadata": {},
     "outputs": [
      {
       "metadata": {},
       "output_type": "pyout",
       "prompt_number": 5,
       "text": [
        "array([483, 334, 203, 284, 643, 661, 707, 385, 219, 179, 318, 355, 477,\n",
        "       783, 776, 163, 403, 863, 241, 369, 970,  32, 638, 912, 377, 574,\n",
        "       262, 817, 799, 948, 979, 244,  28, 960,  29,  22, 875, 214, 311,\n",
        "       936,  41, 278, 519, 460,  92, 571, 381, 805, 220, 985, 273, 103,\n",
        "       797, 432, 121, 188, 987,  59, 258, 982, 188, 141, 843, 896, 989,\n",
        "       725, 500, 674, 857,  50, 391, 564, 324,  40, 817, 525,  17, 702,\n",
        "       828, 159, 730, 121, 638, 128, 647, 905, 405, 420, 718, 612, 614,\n",
        "       886, 495, 604, 308, 575, 963, 554, 801, 537, 304, 813, 900, 336,\n",
        "       773, 274, 918, 583,  13, 468, 533, 146, 945, 826, 143, 897, 654,\n",
        "       147, 216, 745, 598,   2, 229, 592, 857, 932, 955, 412, 857, 559,\n",
        "       331,   1, 970, 550, 397, 460, 786, 548,  43, 204, 165, 757, 248,\n",
        "       410, 969, 567, 825, 640, 744, 475, 365, 943, 257, 377,  88, 542,\n",
        "       327, 923, 207, 172,  48, 336, 566, 961, 316, 164, 553, 551, 240,\n",
        "       271, 491, 996, 551, 213, 405, 350, 420, 786, 402, 195, 215, 209,\n",
        "       673, 581,  92, 935, 741, 832, 213, 346, 149, 487, 712, 816, 332,\n",
        "        40, 240, 532, 514, 189])"
       ]
      }
     ],
     "prompt_number": 5
    },
    {
     "cell_type": "code",
     "collapsed": false,
     "input": [
      "m = np.log10(g) - np.log10(g).astype(int)\n",
      "m"
     ],
     "language": "python",
     "metadata": {},
     "outputs": [
      {
       "metadata": {},
       "output_type": "pyout",
       "prompt_number": 6,
       "text": [
        "array([ 0.68394713,  0.52374647,  0.30749604,  0.45331834,  0.80821097,\n",
        "        0.82020146,  0.84941941,  0.58546073,  0.34044411,  0.25285303,\n",
        "        0.50242712,  0.55022835,  0.67851838,  0.89376176,  0.88986172,\n",
        "        0.2121876 ,  0.60530505,  0.9360108 ,  0.38201704,  0.56702637,\n",
        "        0.98677173,  0.50514998,  0.80482068,  0.95999484,  0.57634135,\n",
        "        0.75891189,  0.41830129,  0.91222206,  0.90254678,  0.97680834,\n",
        "        0.99078269,  0.38738983,  0.44715803,  0.98227123,  0.462398  ,\n",
        "        0.34242268,  0.94200805,  0.33041377,  0.49276039,  0.97127585,\n",
        "        0.61278386,  0.4440448 ,  0.71516736,  0.66275783,  0.96378783,\n",
        "        0.75663611,  0.58092498,  0.90579588,  0.34242268,  0.99343623,\n",
        "        0.43616265,  0.01283722,  0.90145832,  0.63548375,  0.08278537,\n",
        "        0.27415785,  0.99431715,  0.77085201,  0.41161971,  0.99211149,\n",
        "        0.27415785,  0.14921911,  0.92582757,  0.95230801,  0.99519629,\n",
        "        0.86033801,  0.69897   ,  0.8286599 ,  0.93298082,  0.69897   ,\n",
        "        0.59217676,  0.7512791 ,  0.51054501,  0.60205999,  0.91222206,\n",
        "        0.7201593 ,  0.23044892,  0.84633711,  0.91803034,  0.20139712,\n",
        "        0.86332286,  0.08278537,  0.80482068,  0.10720997,  0.81090428,\n",
        "        0.95664858,  0.60745502,  0.62324929,  0.85612444,  0.78675142,\n",
        "        0.78816837,  0.94743372,  0.6946052 ,  0.78103694,  0.48855072,\n",
        "        0.75966784,  0.98362629,  0.74350976,  0.90363252,  0.72997429,\n",
        "        0.48287358,  0.91009055,  0.95424251,  0.52633928,  0.88817949,\n",
        "        0.43775056,  0.96284268,  0.76566855,  0.11394335,  0.67024585,\n",
        "        0.72672721,  0.16435286,  0.97543181,  0.91698005,  0.15533604,\n",
        "        0.95279244,  0.81557775,  0.16731733,  0.33445375,  0.87215627,\n",
        "        0.77670118,  0.30103   ,  0.35983548,  0.77232171,  0.93298082,\n",
        "        0.96941591,  0.98000337,  0.61489722,  0.93298082,  0.74741181,\n",
        "        0.51982799,  0.        ,  0.98677173,  0.74036269,  0.59879051,\n",
        "        0.66275783,  0.89542255,  0.73878056,  0.63346846,  0.30963017,\n",
        "        0.21748394,  0.87909588,  0.39445168,  0.61278386,  0.98632378,\n",
        "        0.75358306,  0.91645395,  0.80617997,  0.87157294,  0.67669361,\n",
        "        0.56229286,  0.97451169,  0.40993312,  0.57634135,  0.94448267,\n",
        "        0.73399929,  0.51454775,  0.9652017 ,  0.31597035,  0.23552845,\n",
        "        0.68124124,  0.52633928,  0.75281643,  0.98272339,  0.49968708,\n",
        "        0.21484385,  0.74272513,  0.7411516 ,  0.38021124,  0.43296929,\n",
        "        0.69108149,  0.99825934,  0.7411516 ,  0.3283796 ,  0.60745502,\n",
        "        0.54406804,  0.62324929,  0.89542255,  0.60422605,  0.29003461,\n",
        "        0.33243846,  0.32014629,  0.82801506,  0.76417613,  0.96378783,\n",
        "        0.97081161,  0.86981821,  0.92012333,  0.3283796 ,  0.5390761 ,\n",
        "        0.17318627,  0.68752896,  0.85247999,  0.91169016,  0.52113808,\n",
        "        0.60205999,  0.38021124,  0.72591163,  0.71096312,  0.2764618 ])"
       ]
      }
     ],
     "prompt_number": 6
    },
    {
     "cell_type": "heading",
     "level": 4,
     "metadata": {},
     "source": [
      "Ordering the Mantissas and Plotting"
     ]
    },
    {
     "cell_type": "code",
     "collapsed": false,
     "input": [
      "m.sort()\n",
      "m"
     ],
     "language": "python",
     "metadata": {},
     "outputs": [
      {
       "metadata": {},
       "output_type": "pyout",
       "prompt_number": 7,
       "text": [
        "array([ 0.        ,  0.01283722,  0.08278537,  0.08278537,  0.10720997,\n",
        "        0.11394335,  0.14921911,  0.15533604,  0.16435286,  0.16731733,\n",
        "        0.17318627,  0.20139712,  0.2121876 ,  0.21484385,  0.21748394,\n",
        "        0.23044892,  0.23552845,  0.25285303,  0.27415785,  0.27415785,\n",
        "        0.2764618 ,  0.29003461,  0.30103   ,  0.30749604,  0.30963017,\n",
        "        0.31597035,  0.32014629,  0.3283796 ,  0.3283796 ,  0.33041377,\n",
        "        0.33243846,  0.33445375,  0.34044411,  0.34242268,  0.34242268,\n",
        "        0.35983548,  0.38021124,  0.38021124,  0.38201704,  0.38738983,\n",
        "        0.39445168,  0.40993312,  0.41161971,  0.41830129,  0.43296929,\n",
        "        0.43616265,  0.43775056,  0.4440448 ,  0.44715803,  0.45331834,\n",
        "        0.462398  ,  0.48287358,  0.48855072,  0.49276039,  0.49968708,\n",
        "        0.50242712,  0.50514998,  0.51054501,  0.51454775,  0.51982799,\n",
        "        0.52113808,  0.52374647,  0.52633928,  0.52633928,  0.5390761 ,\n",
        "        0.54406804,  0.55022835,  0.56229286,  0.56702637,  0.57634135,\n",
        "        0.57634135,  0.58092498,  0.58546073,  0.59217676,  0.59879051,\n",
        "        0.60205999,  0.60205999,  0.60422605,  0.60530505,  0.60745502,\n",
        "        0.60745502,  0.61278386,  0.61278386,  0.61489722,  0.62324929,\n",
        "        0.62324929,  0.63346846,  0.63548375,  0.66275783,  0.66275783,\n",
        "        0.67024585,  0.67669361,  0.67851838,  0.68124124,  0.68394713,\n",
        "        0.68752896,  0.69108149,  0.6946052 ,  0.69897   ,  0.69897   ,\n",
        "        0.71096312,  0.71516736,  0.7201593 ,  0.72591163,  0.72672721,\n",
        "        0.72997429,  0.73399929,  0.73878056,  0.74036269,  0.7411516 ,\n",
        "        0.7411516 ,  0.74272513,  0.74350976,  0.74741181,  0.7512791 ,\n",
        "        0.75281643,  0.75358306,  0.75663611,  0.75891189,  0.75966784,\n",
        "        0.76417613,  0.76566855,  0.77085201,  0.77232171,  0.77670118,\n",
        "        0.78103694,  0.78675142,  0.78816837,  0.80482068,  0.80482068,\n",
        "        0.80617997,  0.80821097,  0.81090428,  0.81557775,  0.82020146,\n",
        "        0.82801506,  0.8286599 ,  0.84633711,  0.84941941,  0.85247999,\n",
        "        0.85612444,  0.86033801,  0.86332286,  0.86981821,  0.87157294,\n",
        "        0.87215627,  0.87909588,  0.88817949,  0.88986172,  0.89376176,\n",
        "        0.89542255,  0.89542255,  0.90145832,  0.90254678,  0.90363252,\n",
        "        0.90579588,  0.91009055,  0.91169016,  0.91222206,  0.91222206,\n",
        "        0.91645395,  0.91698005,  0.91803034,  0.92012333,  0.92582757,\n",
        "        0.93298082,  0.93298082,  0.93298082,  0.9360108 ,  0.94200805,\n",
        "        0.94448267,  0.94743372,  0.95230801,  0.95279244,  0.95424251,\n",
        "        0.95664858,  0.95999484,  0.96284268,  0.96378783,  0.96378783,\n",
        "        0.9652017 ,  0.96941591,  0.97081161,  0.97127585,  0.97451169,\n",
        "        0.97543181,  0.97680834,  0.98000337,  0.98227123,  0.98272339,\n",
        "        0.98362629,  0.98632378,  0.98677173,  0.98677173,  0.99078269,\n",
        "        0.99211149,  0.99343623,  0.99431715,  0.99519629,  0.99825934])"
       ]
      }
     ],
     "prompt_number": 7
    },
    {
     "cell_type": "code",
     "collapsed": false,
     "input": [
      "pylab inline"
     ],
     "language": "python",
     "metadata": {},
     "outputs": [
      {
       "output_type": "stream",
       "stream": "stdout",
       "text": [
        "Populating the interactive namespace from numpy and matplotlib\n"
       ]
      }
     ],
     "prompt_number": 8
    },
    {
     "cell_type": "code",
     "collapsed": false,
     "input": [
      "plt.plot(np.arange(len(m)), m)"
     ],
     "language": "python",
     "metadata": {},
     "outputs": [
      {
       "metadata": {},
       "output_type": "pyout",
       "prompt_number": 9,
       "text": [
        "[<matplotlib.lines.Line2D at 0x7f2a2abc4450>]"
       ]
      },
      {
       "metadata": {},
       "output_type": "display_data",
       "png": "[encoded data removed]",
       "text": [
        "<matplotlib.figure.Figure at 0x7f2a2aca6310>"
       ]
      }
     ],
     "prompt_number": 9
    },
    {
     "cell_type": "code",
     "collapsed": false,
     "input": [
      "g.sort()\n",
      "g"
     ],
     "language": "python",
     "metadata": {},
     "outputs": [
      {
       "metadata": {},
       "output_type": "pyout",
       "prompt_number": 10,
       "text": [
        "array([  1,   2,  13,  17,  22,  28,  29,  32,  40,  40,  41,  43,  48,\n",
        "        50,  59,  88,  92,  92, 103, 121, 121, 128, 141, 143, 146, 147,\n",
        "       149, 159, 163, 164, 165, 172, 179, 188, 188, 189, 195, 203, 204,\n",
        "       207, 209, 213, 213, 214, 215, 216, 219, 220, 229, 240, 240, 241,\n",
        "       244, 248, 257, 258, 262, 271, 273, 274, 278, 284, 304, 308, 311,\n",
        "       316, 318, 324, 327, 331, 332, 334, 336, 336, 346, 350, 355, 365,\n",
        "       369, 377, 377, 381, 385, 391, 397, 402, 403, 405, 405, 410, 412,\n",
        "       420, 420, 432, 460, 460, 468, 475, 477, 483, 487, 491, 495, 500,\n",
        "       514, 519, 525, 532, 533, 537, 542, 548, 550, 551, 551, 553, 554,\n",
        "       559, 564, 566, 567, 571, 574, 575, 581, 583, 592, 598, 604, 612,\n",
        "       614, 638, 638, 640, 643, 647, 654, 661, 673, 674, 702, 707, 712,\n",
        "       718, 725, 730, 741, 744, 745, 757, 773, 776, 783, 786, 786, 797,\n",
        "       799, 801, 805, 813, 816, 817, 817, 825, 826, 828, 832, 843, 857,\n",
        "       857, 857, 863, 875, 886, 896, 897, 900, 905, 912, 918, 923, 932,\n",
        "       935, 936, 943, 945, 948, 955, 960, 961, 963, 969, 970, 970, 979,\n",
        "       982, 985, 987, 989, 996])"
       ]
      }
     ],
     "prompt_number": 10
    },
    {
     "cell_type": "code",
     "collapsed": false,
     "input": [
      "plt.plot(g, m)\n",
      "plt.grid()"
     ],
     "language": "python",
     "metadata": {},
     "outputs": [
      {
       "metadata": {},
       "output_type": "display_data",
       "png": "[encoded data removed]",
       "text": [
        "<matplotlib.figure.Figure at 0x7f2a2abf8590>"
       ]
      }
     ],
     "prompt_number": 11
    },
    {
     "cell_type": "code",
     "collapsed": false,
     "input": [
      "tt = pd.DataFrame(g, columns=['numbers'])\n",
      "tt.head()"
     ],
     "language": "python",
     "metadata": {},
     "outputs": [
      {
       "html": [
        "<div style=\"max-height:1000px;max-width:1500px;overflow:auto;\">\n",
        "<table border=\"1\" class=\"dataframe\">\n",
        "  <thead>\n",
        "    <tr style=\"text-align: right;\">\n",
        "      <th></th>\n",
        "      <th>numbers</th>\n",
        "    </tr>\n",
        "  </thead>\n",
        "  <tbody>\n",
        "    <tr>\n",
        "      <th>0</th>\n",
        "      <td>  1</td>\n",
        "    </tr>\n",
        "    <tr>\n",
        "      <th>1</th>\n",
        "      <td>  2</td>\n",
        "    </tr>\n",
        "    <tr>\n",
        "      <th>2</th>\n",
        "      <td> 13</td>\n",
        "    </tr>\n",
        "    <tr>\n",
        "      <th>3</th>\n",
        "      <td> 17</td>\n",
        "    </tr>\n",
        "    <tr>\n",
        "      <th>4</th>\n",
        "      <td> 22</td>\n",
        "    </tr>\n",
        "  </tbody>\n",
        "</table>\n",
        "</div>"
       ],
       "metadata": {},
       "output_type": "pyout",
       "prompt_number": 12,
       "text": [
        "   numbers\n",
        "0        1\n",
        "1        2\n",
        "2       13\n",
        "3       17\n",
        "4       22"
       ]
      }
     ],
     "prompt_number": 12
    },
    {
     "cell_type": "code",
     "collapsed": false,
     "input": [
      "def _get_mantissas_(arr):\n",
      "\t'''\n",
      "\tThe mantissa is the non-integer part of the log of a number.\n",
      "\tThis fuction uses the element-wise array operations on numpy\n",
      "\tto get the mantissas of each number's log.\n",
      "\n",
      "\tarr: numpy array of integers or floats\n",
      "\t'''\n",
      "\n",
      "\treturn np.log10(arr) - np.log10(arr).astype(int)"
     ],
     "language": "python",
     "metadata": {},
     "outputs": [],
     "prompt_number": 13
    },
    {
     "cell_type": "code",
     "collapsed": false,
     "input": [
      "tt['mantissas']=np.log10(tt.numbers) - np.log10(tt.numbers).astype(int)\n",
      "tt = tt.sort(columns='mantissas')         #sort DataFrame by mantissas column\n",
      "tt.head()"
     ],
     "language": "python",
     "metadata": {},
     "outputs": [
      {
       "html": [
        "<div style=\"max-height:1000px;max-width:1500px;overflow:auto;\">\n",
        "<table border=\"1\" class=\"dataframe\">\n",
        "  <thead>\n",
        "    <tr style=\"text-align: right;\">\n",
        "      <th></th>\n",
        "      <th>numbers</th>\n",
        "      <th>mantissas</th>\n",
        "    </tr>\n",
        "  </thead>\n",
        "  <tbody>\n",
        "    <tr>\n",
        "      <th>0 </th>\n",
        "      <td>   1</td>\n",
        "      <td> 0.000000</td>\n",
        "    </tr>\n",
        "    <tr>\n",
        "      <th>18</th>\n",
        "      <td> 103</td>\n",
        "      <td> 0.012837</td>\n",
        "    </tr>\n",
        "    <tr>\n",
        "      <th>20</th>\n",
        "      <td> 121</td>\n",
        "      <td> 0.082785</td>\n",
        "    </tr>\n",
        "    <tr>\n",
        "      <th>19</th>\n",
        "      <td> 121</td>\n",
        "      <td> 0.082785</td>\n",
        "    </tr>\n",
        "    <tr>\n",
        "      <th>21</th>\n",
        "      <td> 128</td>\n",
        "      <td> 0.107210</td>\n",
        "    </tr>\n",
        "  </tbody>\n",
        "</table>\n",
        "</div>"
       ],
       "metadata": {},
       "output_type": "pyout",
       "prompt_number": 14,
       "text": [
        "    numbers  mantissas\n",
        "0         1   0.000000\n",
        "18      103   0.012837\n",
        "20      121   0.082785\n",
        "19      121   0.082785\n",
        "21      128   0.107210"
       ]
      }
     ],
     "prompt_number": 14
    },
    {
     "cell_type": "code",
     "collapsed": false,
     "input": [
      "plt.plot(tt.numbers, tt.mantissas)"
     ],
     "language": "python",
     "metadata": {},
     "outputs": [
      {
       "metadata": {},
       "output_type": "pyout",
       "prompt_number": 15,
       "text": [
        "[<matplotlib.lines.Line2D at 0x7f2a2a9f4c50>]"
       ]
      },
      {
       "metadata": {},
       "output_type": "display_data",
       "png": "[encoded data removed]",
       "text": [
        "<matplotlib.figure.Figure at 0x7f2a2aace6d0>"
       ]
      }
     ],
     "prompt_number": 15
    },
    {
     "cell_type": "code",
     "collapsed": false,
     "input": [
      "plt.plot(np.arange(len(tt)), tt.mantissas)"
     ],
     "language": "python",
     "metadata": {},
     "outputs": [
      {
       "metadata": {},
       "output_type": "pyout",
       "prompt_number": 16,
       "text": [
        "[<matplotlib.lines.Line2D at 0x7f2a2a99ed90>]"
       ]
      },
      {
       "metadata": {},
       "output_type": "display_data",
       "png": "[encoded data removed]",
       "text": [
        "<matplotlib.figure.Figure at 0x7f2a2aa2b810>"
       ]
      }
     ],
     "prompt_number": 16
    },
    {
     "cell_type": "code",
     "collapsed": false,
     "input": [
      "tt['m2'] = _get_mantissas_(tt.numbers)\n",
      "sum(tt.mantissas!=tt.m2)"
     ],
     "language": "python",
     "metadata": {},
     "outputs": [
      {
       "metadata": {},
       "output_type": "pyout",
       "prompt_number": 17,
       "text": [
        "0"
       ]
      }
     ],
     "prompt_number": 17
    },
    {
     "cell_type": "code",
     "collapsed": false,
     "input": [
      "tt['ms']=tt.m2.cumsum()\n",
      "plt.plot(np.arange(len(tt.ms)), tt.ms)"
     ],
     "language": "python",
     "metadata": {},
     "outputs": [
      {
       "metadata": {},
       "output_type": "pyout",
       "prompt_number": 18,
       "text": [
        "[<matplotlib.lines.Line2D at 0x7f2a2a8cd6d0>]"
       ]
      },
      {
       "metadata": {},
       "output_type": "display_data",
       "png": "[encoded data removed]",
       "text": [
        "<matplotlib.figure.Figure at 0x7f2a2a9cb710>"
       ]
      }
     ],
     "prompt_number": 18
    },
    {
     "cell_type": "code",
     "collapsed": false,
     "input": [
      "h = 9.234\n",
      "h*=100\n",
      "str(h)[:2]"
     ],
     "language": "python",
     "metadata": {},
     "outputs": [
      {
       "metadata": {},
       "output_type": "pyout",
       "prompt_number": 19,
       "text": [
        "'92'"
       ]
      }
     ],
     "prompt_number": 19
    },
    {
     "cell_type": "code",
     "collapsed": false,
     "input": [
      "len(str((1/m[3]).astype(int)))"
     ],
     "language": "python",
     "metadata": {},
     "outputs": [
      {
       "metadata": {},
       "output_type": "pyout",
       "prompt_number": 20,
       "text": [
        "2"
       ]
      }
     ],
     "prompt_number": 20
    },
    {
     "cell_type": "code",
     "collapsed": false,
     "input": [
      "eb = np.arange(10,100).reshape(90,1)\n",
      "eb = eb.astype(str)\n",
      "eb[:,0]"
     ],
     "language": "python",
     "metadata": {},
     "outputs": [
      {
       "metadata": {},
       "output_type": "pyout",
       "prompt_number": 21,
       "text": [
        "array(['10', '11', '12', '13', '14', '15', '16', '17', '18', '19', '20',\n",
        "       '21', '22', '23', '24', '25', '26', '27', '28', '29', '30', '31',\n",
        "       '32', '33', '34', '35', '36', '37', '38', '39', '40', '41', '42',\n",
        "       '43', '44', '45', '46', '47', '48', '49', '50', '51', '52', '53',\n",
        "       '54', '55', '56', '57', '58', '59', '60', '61', '62', '63', '64',\n",
        "       '65', '66', '67', '68', '69', '70', '71', '72', '73', '74', '75',\n",
        "       '76', '77', '78', '79', '80', '81', '82', '83', '84', '85', '86',\n",
        "       '87', '88', '89', '90', '91', '92', '93', '94', '95', '96', '97',\n",
        "       '98', '99'], \n",
        "      dtype='|S21')"
       ]
      }
     ],
     "prompt_number": 21
    },
    {
     "cell_type": "code",
     "collapsed": false,
     "input": [
      "eb = np.arange(10,100)\n",
      "eb = eb.astype(str)\n",
      "f = np.array([l[0] for l in eb]).reshape(90,1)\n",
      "s = np.array([l[1] for l in eb]).reshape(90,1)\n",
      "eb = np.hstack((f,s)).astype(int)\n",
      "eb[:,0]"
     ],
     "language": "python",
     "metadata": {},
     "outputs": [
      {
       "metadata": {},
       "output_type": "pyout",
       "prompt_number": 22,
       "text": [
        "array([1, 1, 1, 1, 1, 1, 1, 1, 1, 1, 2, 2, 2, 2, 2, 2, 2, 2, 2, 2, 3, 3, 3,\n",
        "       3, 3, 3, 3, 3, 3, 3, 4, 4, 4, 4, 4, 4, 4, 4, 4, 4, 5, 5, 5, 5, 5, 5,\n",
        "       5, 5, 5, 5, 6, 6, 6, 6, 6, 6, 6, 6, 6, 6, 7, 7, 7, 7, 7, 7, 7, 7, 7,\n",
        "       7, 8, 8, 8, 8, 8, 8, 8, 8, 8, 8, 9, 9, 9, 9, 9, 9, 9, 9, 9, 9])"
       ]
      }
     ],
     "prompt_number": 22
    },
    {
     "cell_type": "code",
     "collapsed": false,
     "input": [
      "e2 = np.arange(10,100)\n",
      "p = np.log10(1+(1./e2))\n",
      "plt.bar(e2,p)"
     ],
     "language": "python",
     "metadata": {},
     "outputs": [
      {
       "metadata": {},
       "output_type": "pyout",
       "prompt_number": 25,
       "text": [
        "<Container object of 90 artists>"
       ]
      },
      {
       "metadata": {},
       "output_type": "display_data",
       "png": "[encoded data removed]",
       "text": [
        "<matplotlib.figure.Figure at 0x7f2a2a897c10>"
       ]
      }
     ],
     "prompt_number": 25
    },
    {
     "cell_type": "code",
     "collapsed": false,
     "input": [
      "e3 = e2.astype(str)\n",
      "s = np.array([l[1] for l in e3]).astype(int)\n",
      "p[s == 0].sum()"
     ],
     "language": "python",
     "metadata": {},
     "outputs": [
      {
       "metadata": {},
       "output_type": "pyout",
       "prompt_number": 26,
       "text": [
        "0.11967926859688073"
       ]
      }
     ],
     "prompt_number": 26
    },
    {
     "cell_type": "code",
     "collapsed": false,
     "input": [
      "def __second__(output_DF=True):\n",
      "\ta = np.arange(10,100)\n",
      "\tExpected = np.log10(1 + (1. / a))\n",
      "\tSec_Dig = np.array(range(10)*9)\n",
      "\tif output_DF == False:\n",
      "\t\tc = np.zeros(10)\n",
      "\t\tfor n in Sec_Dig:\n",
      "\t\t\tc[n] = Expected[Sec_Dig == n].sum()\n",
      "\t\treturn c\n",
      "\telse:\n",
      "\t\td = pd.DataFrame({'Expected': Expected, 'Sec_Dig': Sec_Dig},\\\n",
      "\t\tindex = a)\n",
      "\t\treturn d.groupby('Sec_Dig').agg(sum)"
     ],
     "language": "python",
     "metadata": {},
     "outputs": [],
     "prompt_number": 27
    },
    {
     "cell_type": "code",
     "collapsed": false,
     "input": [
      "__second__()"
     ],
     "language": "python",
     "metadata": {},
     "outputs": [
      {
       "metadata": {},
       "output_type": "pyout",
       "prompt_number": 28,
       "text": [
        "array([ 0.11967927,  0.1138901 ,  0.1088215 ,  0.10432956,  0.1003082 ,\n",
        "        0.09667724,  0.09337474,  0.09035199,  0.08757005,  0.08499735])"
       ]
      }
     ],
     "prompt_number": 28
    },
    {
     "cell_type": "code",
     "collapsed": false,
     "input": [
      "def __first__(output_DF=True):\n",
      "\tFirst_Dig = np.arange(1,10)\n",
      "\tExpected = np.log10(1 + (1. / First_Dig))\n",
      "\tif output_DF == False:\n",
      "\t\treturn Expected\n",
      "\telse:\n",
      "\t\treturn pd.DataFrame({'Expected':Expected,\\\n",
      "\t\t\t'First_Dig':First_Dig}).set_index('First_Dig')"
     ],
     "language": "python",
     "metadata": {},
     "outputs": [],
     "prompt_number": 29
    },
    {
     "cell_type": "code",
     "collapsed": false,
     "input": [
      "a5 = np.arange(0,10)\n",
      "plt.plot(a5, __second__())\n",
      "plt.ylim((0,.15))"
     ],
     "language": "python",
     "metadata": {},
     "outputs": [
      {
       "metadata": {},
       "output_type": "pyout",
       "prompt_number": 30,
       "text": [
        "(0, 0.15)"
       ]
      },
      {
       "metadata": {},
       "output_type": "display_data",
       "png": "[encoded data removed]",
       "text": [
        "<matplotlib.figure.Figure at 0x7f2a2a41c0d0>"
       ]
      }
     ],
     "prompt_number": 30
    },
    {
     "cell_type": "code",
     "collapsed": false,
     "input": [
      "np.array(range(10)*10)"
     ],
     "language": "python",
     "metadata": {},
     "outputs": [
      {
       "metadata": {},
       "output_type": "pyout",
       "prompt_number": 31,
       "text": [
        "array([0, 1, 2, 3, 4, 5, 6, 7, 8, 9, 0, 1, 2, 3, 4, 5, 6, 7, 8, 9, 0, 1, 2,\n",
        "       3, 4, 5, 6, 7, 8, 9, 0, 1, 2, 3, 4, 5, 6, 7, 8, 9, 0, 1, 2, 3, 4, 5,\n",
        "       6, 7, 8, 9, 0, 1, 2, 3, 4, 5, 6, 7, 8, 9, 0, 1, 2, 3, 4, 5, 6, 7, 8,\n",
        "       9, 0, 1, 2, 3, 4, 5, 6, 7, 8, 9, 0, 1, 2, 3, 4, 5, 6, 7, 8, 9, 0, 1,\n",
        "       2, 3, 4, 5, 6, 7, 8, 9])"
       ]
      }
     ],
     "prompt_number": 31
    },
    {
     "cell_type": "code",
     "collapsed": false,
     "input": [
      "firstDigit()"
     ],
     "language": "python",
     "metadata": {},
     "outputs": [
      {
       "metadata": {},
       "output_type": "pyout",
       "prompt_number": 32,
       "text": [
        "array([ 0.30103   ,  0.17609126,  0.12493874,  0.09691001,  0.07918125,\n",
        "        0.06694679,  0.05799195,  0.05115252,  0.04575749])"
       ]
      }
     ],
     "prompt_number": 32
    },
    {
     "cell_type": "code",
     "collapsed": false,
     "input": [
      "a6 = np.arange(1,10)\n",
      "plt.bar(a6,firstDigit())"
     ],
     "language": "python",
     "metadata": {},
     "outputs": [
      {
       "metadata": {},
       "output_type": "pyout",
       "prompt_number": 33,
       "text": [
        "<Container object of 9 artists>"
       ]
      },
      {
       "metadata": {},
       "output_type": "display_data",
       "png": "[encoded data removed]",
       "text": [
        "<matplotlib.figure.Figure at 0x7f2a2a30d0d0>"
       ]
      }
     ],
     "prompt_number": 33
    },
    {
     "cell_type": "code",
     "collapsed": false,
     "input": [
      "def __firstTwo__(output_DF=True):\n",
      "\tFirst_2_Dig = np.arange(10,100)\n",
      "\tExpected = np.log10(1 + (1. / First_2_Dig))\n",
      "\tif output_DF == False:\n",
      "\t\treturn Expected\n",
      "\telse:\n",
      "\t\treturn pd.DataFrame({'First_2_Dig':First_2_Dig,\\\n",
      "                             'Expected':Expected}).set_index('First_2_Dig')"
     ],
     "language": "python",
     "metadata": {},
     "outputs": [],
     "prompt_number": 92
    },
    {
     "cell_type": "code",
     "collapsed": false,
     "input": [
      "__firstTwo__()"
     ],
     "language": "python",
     "metadata": {},
     "outputs": [
      {
       "html": [
        "<div style=\"max-height:1000px;max-width:1500px;overflow:auto;\">\n",
        "<table border=\"1\" class=\"dataframe\">\n",
        "  <thead>\n",
        "    <tr style=\"text-align: right;\">\n",
        "      <th></th>\n",
        "      <th>Expected</th>\n",
        "    </tr>\n",
        "    <tr>\n",
        "      <th>First_2_Dig</th>\n",
        "      <th></th>\n",
        "    </tr>\n",
        "  </thead>\n",
        "  <tbody>\n",
        "    <tr>\n",
        "      <th>10</th>\n",
        "      <td> 0.041393</td>\n",
        "    </tr>\n",
        "    <tr>\n",
        "      <th>11</th>\n",
        "      <td> 0.037789</td>\n",
        "    </tr>\n",
        "    <tr>\n",
        "      <th>12</th>\n",
        "      <td> 0.034762</td>\n",
        "    </tr>\n",
        "    <tr>\n",
        "      <th>13</th>\n",
        "      <td> 0.032185</td>\n",
        "    </tr>\n",
        "    <tr>\n",
        "      <th>14</th>\n",
        "      <td> 0.029963</td>\n",
        "    </tr>\n",
        "    <tr>\n",
        "      <th>15</th>\n",
        "      <td> 0.028029</td>\n",
        "    </tr>\n",
        "    <tr>\n",
        "      <th>16</th>\n",
        "      <td> 0.026329</td>\n",
        "    </tr>\n",
        "    <tr>\n",
        "      <th>17</th>\n",
        "      <td> 0.024824</td>\n",
        "    </tr>\n",
        "    <tr>\n",
        "      <th>18</th>\n",
        "      <td> 0.023481</td>\n",
        "    </tr>\n",
        "    <tr>\n",
        "      <th>19</th>\n",
        "      <td> 0.022276</td>\n",
        "    </tr>\n",
        "    <tr>\n",
        "      <th>20</th>\n",
        "      <td> 0.021189</td>\n",
        "    </tr>\n",
        "    <tr>\n",
        "      <th>21</th>\n",
        "      <td> 0.020203</td>\n",
        "    </tr>\n",
        "    <tr>\n",
        "      <th>22</th>\n",
        "      <td> 0.019305</td>\n",
        "    </tr>\n",
        "    <tr>\n",
        "      <th>23</th>\n",
        "      <td> 0.018483</td>\n",
        "    </tr>\n",
        "    <tr>\n",
        "      <th>24</th>\n",
        "      <td> 0.017729</td>\n",
        "    </tr>\n",
        "    <tr>\n",
        "      <th>25</th>\n",
        "      <td> 0.017033</td>\n",
        "    </tr>\n",
        "    <tr>\n",
        "      <th>26</th>\n",
        "      <td> 0.016390</td>\n",
        "    </tr>\n",
        "    <tr>\n",
        "      <th>27</th>\n",
        "      <td> 0.015794</td>\n",
        "    </tr>\n",
        "    <tr>\n",
        "      <th>28</th>\n",
        "      <td> 0.015240</td>\n",
        "    </tr>\n",
        "    <tr>\n",
        "      <th>29</th>\n",
        "      <td> 0.014723</td>\n",
        "    </tr>\n",
        "    <tr>\n",
        "      <th>30</th>\n",
        "      <td> 0.014240</td>\n",
        "    </tr>\n",
        "    <tr>\n",
        "      <th>31</th>\n",
        "      <td> 0.013788</td>\n",
        "    </tr>\n",
        "    <tr>\n",
        "      <th>32</th>\n",
        "      <td> 0.013364</td>\n",
        "    </tr>\n",
        "    <tr>\n",
        "      <th>33</th>\n",
        "      <td> 0.012965</td>\n",
        "    </tr>\n",
        "    <tr>\n",
        "      <th>34</th>\n",
        "      <td> 0.012589</td>\n",
        "    </tr>\n",
        "    <tr>\n",
        "      <th>35</th>\n",
        "      <td> 0.012234</td>\n",
        "    </tr>\n",
        "    <tr>\n",
        "      <th>36</th>\n",
        "      <td> 0.011899</td>\n",
        "    </tr>\n",
        "    <tr>\n",
        "      <th>37</th>\n",
        "      <td> 0.011582</td>\n",
        "    </tr>\n",
        "    <tr>\n",
        "      <th>38</th>\n",
        "      <td> 0.011281</td>\n",
        "    </tr>\n",
        "    <tr>\n",
        "      <th>39</th>\n",
        "      <td> 0.010995</td>\n",
        "    </tr>\n",
        "    <tr>\n",
        "      <th>...</th>\n",
        "      <td>...</td>\n",
        "    </tr>\n",
        "    <tr>\n",
        "      <th>70</th>\n",
        "      <td> 0.006160</td>\n",
        "    </tr>\n",
        "    <tr>\n",
        "      <th>71</th>\n",
        "      <td> 0.006074</td>\n",
        "    </tr>\n",
        "    <tr>\n",
        "      <th>72</th>\n",
        "      <td> 0.005990</td>\n",
        "    </tr>\n",
        "    <tr>\n",
        "      <th>73</th>\n",
        "      <td> 0.005909</td>\n",
        "    </tr>\n",
        "    <tr>\n",
        "      <th>74</th>\n",
        "      <td> 0.005830</td>\n",
        "    </tr>\n",
        "    <tr>\n",
        "      <th>75</th>\n",
        "      <td> 0.005752</td>\n",
        "    </tr>\n",
        "    <tr>\n",
        "      <th>76</th>\n",
        "      <td> 0.005677</td>\n",
        "    </tr>\n",
        "    <tr>\n",
        "      <th>77</th>\n",
        "      <td> 0.005604</td>\n",
        "    </tr>\n",
        "    <tr>\n",
        "      <th>78</th>\n",
        "      <td> 0.005532</td>\n",
        "    </tr>\n",
        "    <tr>\n",
        "      <th>79</th>\n",
        "      <td> 0.005463</td>\n",
        "    </tr>\n",
        "    <tr>\n",
        "      <th>80</th>\n",
        "      <td> 0.005395</td>\n",
        "    </tr>\n",
        "    <tr>\n",
        "      <th>81</th>\n",
        "      <td> 0.005329</td>\n",
        "    </tr>\n",
        "    <tr>\n",
        "      <th>82</th>\n",
        "      <td> 0.005264</td>\n",
        "    </tr>\n",
        "    <tr>\n",
        "      <th>83</th>\n",
        "      <td> 0.005201</td>\n",
        "    </tr>\n",
        "    <tr>\n",
        "      <th>84</th>\n",
        "      <td> 0.005140</td>\n",
        "    </tr>\n",
        "    <tr>\n",
        "      <th>85</th>\n",
        "      <td> 0.005080</td>\n",
        "    </tr>\n",
        "    <tr>\n",
        "      <th>86</th>\n",
        "      <td> 0.005021</td>\n",
        "    </tr>\n",
        "    <tr>\n",
        "      <th>87</th>\n",
        "      <td> 0.004963</td>\n",
        "    </tr>\n",
        "    <tr>\n",
        "      <th>88</th>\n",
        "      <td> 0.004907</td>\n",
        "    </tr>\n",
        "    <tr>\n",
        "      <th>89</th>\n",
        "      <td> 0.004853</td>\n",
        "    </tr>\n",
        "    <tr>\n",
        "      <th>90</th>\n",
        "      <td> 0.004799</td>\n",
        "    </tr>\n",
        "    <tr>\n",
        "      <th>91</th>\n",
        "      <td> 0.004746</td>\n",
        "    </tr>\n",
        "    <tr>\n",
        "      <th>92</th>\n",
        "      <td> 0.004695</td>\n",
        "    </tr>\n",
        "    <tr>\n",
        "      <th>93</th>\n",
        "      <td> 0.004645</td>\n",
        "    </tr>\n",
        "    <tr>\n",
        "      <th>94</th>\n",
        "      <td> 0.004596</td>\n",
        "    </tr>\n",
        "    <tr>\n",
        "      <th>95</th>\n",
        "      <td> 0.004548</td>\n",
        "    </tr>\n",
        "    <tr>\n",
        "      <th>96</th>\n",
        "      <td> 0.004501</td>\n",
        "    </tr>\n",
        "    <tr>\n",
        "      <th>97</th>\n",
        "      <td> 0.004454</td>\n",
        "    </tr>\n",
        "    <tr>\n",
        "      <th>98</th>\n",
        "      <td> 0.004409</td>\n",
        "    </tr>\n",
        "    <tr>\n",
        "      <th>99</th>\n",
        "      <td> 0.004365</td>\n",
        "    </tr>\n",
        "  </tbody>\n",
        "</table>\n",
        "<p>90 rows \u00d7 1 columns</p>\n",
        "</div>"
       ],
       "metadata": {},
       "output_type": "pyout",
       "prompt_number": 45,
       "text": [
        "             Expected\n",
        "First_2_Dig          \n",
        "10           0.041393\n",
        "11           0.037789\n",
        "12           0.034762\n",
        "13           0.032185\n",
        "14           0.029963\n",
        "15           0.028029\n",
        "16           0.026329\n",
        "17           0.024824\n",
        "18           0.023481\n",
        "19           0.022276\n",
        "20           0.021189\n",
        "21           0.020203\n",
        "22           0.019305\n",
        "23           0.018483\n",
        "24           0.017729\n",
        "25           0.017033\n",
        "26           0.016390\n",
        "27           0.015794\n",
        "28           0.015240\n",
        "29           0.014723\n",
        "30           0.014240\n",
        "31           0.013788\n",
        "32           0.013364\n",
        "33           0.012965\n",
        "34           0.012589\n",
        "35           0.012234\n",
        "36           0.011899\n",
        "37           0.011582\n",
        "38           0.011281\n",
        "39           0.010995\n",
        "...               ...\n",
        "70           0.006160\n",
        "71           0.006074\n",
        "72           0.005990\n",
        "73           0.005909\n",
        "74           0.005830\n",
        "75           0.005752\n",
        "76           0.005677\n",
        "77           0.005604\n",
        "78           0.005532\n",
        "79           0.005463\n",
        "80           0.005395\n",
        "81           0.005329\n",
        "82           0.005264\n",
        "83           0.005201\n",
        "84           0.005140\n",
        "85           0.005080\n",
        "86           0.005021\n",
        "87           0.004963\n",
        "88           0.004907\n",
        "89           0.004853\n",
        "90           0.004799\n",
        "91           0.004746\n",
        "92           0.004695\n",
        "93           0.004645\n",
        "94           0.004596\n",
        "95           0.004548\n",
        "96           0.004501\n",
        "97           0.004454\n",
        "98           0.004409\n",
        "99           0.004365\n",
        "\n",
        "[90 rows x 1 columns]"
       ]
      }
     ],
     "prompt_number": 45
    },
    {
     "cell_type": "code",
     "collapsed": false,
     "input": [
      "h = np.random.randint(1000, size =200)\n",
      "h"
     ],
     "language": "python",
     "metadata": {},
     "outputs": [
      {
       "metadata": {},
       "output_type": "pyout",
       "prompt_number": 48,
       "text": [
        "array([884,  39, 548, 319, 722, 868, 457, 920, 208, 665,  17, 159, 770,\n",
        "       464, 246, 410, 661,   3, 332, 509, 502, 659, 995, 576, 898, 382,\n",
        "       466, 158, 564, 436, 294, 583, 780, 895, 545, 489, 913, 189, 691,\n",
        "       497, 446, 106, 316, 601, 919, 843, 165, 949, 352, 605, 847, 959,\n",
        "       913, 272, 628, 448,  37, 717, 398, 167, 243, 270, 827, 913, 508,\n",
        "       218, 687, 640, 170, 289, 290, 955, 121, 192, 761, 378, 394,  47,\n",
        "       978, 499,  44, 897, 156, 947,  68, 397, 246, 729, 914,  14, 238,\n",
        "       912, 909, 848, 482, 759, 401, 169, 798, 741, 256,  46, 593,  10,\n",
        "        73, 508, 556, 475, 317, 106,  29,  59, 321, 996,   3, 246, 886,\n",
        "         7, 145, 225, 492, 539,  23, 795, 917, 898, 847, 265,  15, 184,\n",
        "       950, 932, 597, 863, 439, 834, 169, 434, 406, 144, 913, 517, 157,\n",
        "       938, 442, 546, 615, 877, 535, 619, 452, 963, 339, 190, 473, 717,\n",
        "       599,  72, 444, 987, 799,  38, 559, 326,  41, 116, 305, 255, 120,\n",
        "        52, 936, 227, 465, 465, 628, 943, 200, 926,  94, 819,  76, 857,\n",
        "       536, 704, 787, 465, 486, 568, 268, 405, 390, 506,  45, 489, 204,\n",
        "       859, 653, 385, 922, 366])"
       ]
      }
     ],
     "prompt_number": 48
    },
    {
     "cell_type": "code",
     "collapsed": false,
     "input": [
      "%timeit len(h[h<40]) #winner\n",
      "%timeit (h<40).sum() "
     ],
     "language": "python",
     "metadata": {},
     "outputs": [
      {
       "output_type": "stream",
       "stream": "stdout",
       "text": [
        "1000000 loops, best of 3: 1.46 \u00b5s per loop\n",
        "100000 loops, best of 3: 2.83 \u00b5s per loop"
       ]
      },
      {
       "output_type": "stream",
       "stream": "stdout",
       "text": [
        "\n"
       ]
      }
     ],
     "prompt_number": 53
    },
    {
     "cell_type": "code",
     "collapsed": false,
     "input": [
      "len(h)"
     ],
     "language": "python",
     "metadata": {},
     "outputs": [
      {
       "metadata": {},
       "output_type": "pyout",
       "prompt_number": 59,
       "text": [
        "200"
       ]
      }
     ],
     "prompt_number": 59
    },
    {
     "cell_type": "code",
     "collapsed": false,
     "input": [
      "n = len(h[h<40])\n",
      "p = float(n)/len(h) * 100.\n",
      "print \"Discarded \" + str(n) + \" values lower than 40, corresponding to \"\\\n",
      "+ str(p) + \" percent of the sample.\""
     ],
     "language": "python",
     "metadata": {},
     "outputs": [
      {
       "output_type": "stream",
       "stream": "stdout",
       "text": [
        "Discarded 12 values lower than 40, corresponding to 6.0 percent of the sample.\n"
       ]
      }
     ],
     "prompt_number": 65
    },
    {
     "cell_type": "code",
     "collapsed": false,
     "input": [
      "r = 290 * np.random.randn(1000)+1500\n",
      "rr = pd.DataFrame({'val':r, 'ind':np.arange(1000)}).set_index('ind')\n",
      "rr\n"
     ],
     "language": "python",
     "metadata": {},
     "outputs": [
      {
       "html": [
        "<div style=\"max-height:1000px;max-width:1500px;overflow:auto;\">\n",
        "<table border=\"1\" class=\"dataframe\">\n",
        "  <thead>\n",
        "    <tr style=\"text-align: right;\">\n",
        "      <th></th>\n",
        "      <th>val</th>\n",
        "    </tr>\n",
        "    <tr>\n",
        "      <th>ind</th>\n",
        "      <th></th>\n",
        "    </tr>\n",
        "  </thead>\n",
        "  <tbody>\n",
        "    <tr>\n",
        "      <th>0  </th>\n",
        "      <td> 1843.362462</td>\n",
        "    </tr>\n",
        "    <tr>\n",
        "      <th>1  </th>\n",
        "      <td> 1576.125392</td>\n",
        "    </tr>\n",
        "    <tr>\n",
        "      <th>2  </th>\n",
        "      <td> 1498.759478</td>\n",
        "    </tr>\n",
        "    <tr>\n",
        "      <th>3  </th>\n",
        "      <td> 2046.117177</td>\n",
        "    </tr>\n",
        "    <tr>\n",
        "      <th>4  </th>\n",
        "      <td> 1252.148869</td>\n",
        "    </tr>\n",
        "    <tr>\n",
        "      <th>5  </th>\n",
        "      <td> 1748.353269</td>\n",
        "    </tr>\n",
        "    <tr>\n",
        "      <th>6  </th>\n",
        "      <td> 1563.457240</td>\n",
        "    </tr>\n",
        "    <tr>\n",
        "      <th>7  </th>\n",
        "      <td> 1796.291503</td>\n",
        "    </tr>\n",
        "    <tr>\n",
        "      <th>8  </th>\n",
        "      <td> 1288.504400</td>\n",
        "    </tr>\n",
        "    <tr>\n",
        "      <th>9  </th>\n",
        "      <td> 1143.156729</td>\n",
        "    </tr>\n",
        "    <tr>\n",
        "      <th>10 </th>\n",
        "      <td> 1446.384600</td>\n",
        "    </tr>\n",
        "    <tr>\n",
        "      <th>11 </th>\n",
        "      <td> 1120.996630</td>\n",
        "    </tr>\n",
        "    <tr>\n",
        "      <th>12 </th>\n",
        "      <td> 1980.020575</td>\n",
        "    </tr>\n",
        "    <tr>\n",
        "      <th>13 </th>\n",
        "      <td> 1016.020489</td>\n",
        "    </tr>\n",
        "    <tr>\n",
        "      <th>14 </th>\n",
        "      <td> 1586.182964</td>\n",
        "    </tr>\n",
        "    <tr>\n",
        "      <th>15 </th>\n",
        "      <td> 1377.392993</td>\n",
        "    </tr>\n",
        "    <tr>\n",
        "      <th>16 </th>\n",
        "      <td> 1461.997884</td>\n",
        "    </tr>\n",
        "    <tr>\n",
        "      <th>17 </th>\n",
        "      <td> 1796.151901</td>\n",
        "    </tr>\n",
        "    <tr>\n",
        "      <th>18 </th>\n",
        "      <td> 1599.677414</td>\n",
        "    </tr>\n",
        "    <tr>\n",
        "      <th>19 </th>\n",
        "      <td> 1383.523046</td>\n",
        "    </tr>\n",
        "    <tr>\n",
        "      <th>20 </th>\n",
        "      <td> 1570.636820</td>\n",
        "    </tr>\n",
        "    <tr>\n",
        "      <th>21 </th>\n",
        "      <td> 1227.351885</td>\n",
        "    </tr>\n",
        "    <tr>\n",
        "      <th>22 </th>\n",
        "      <td> 1647.492157</td>\n",
        "    </tr>\n",
        "    <tr>\n",
        "      <th>23 </th>\n",
        "      <td> 1829.872175</td>\n",
        "    </tr>\n",
        "    <tr>\n",
        "      <th>24 </th>\n",
        "      <td> 1236.979617</td>\n",
        "    </tr>\n",
        "    <tr>\n",
        "      <th>25 </th>\n",
        "      <td> 1745.896459</td>\n",
        "    </tr>\n",
        "    <tr>\n",
        "      <th>26 </th>\n",
        "      <td> 1641.789802</td>\n",
        "    </tr>\n",
        "    <tr>\n",
        "      <th>27 </th>\n",
        "      <td> 1239.079514</td>\n",
        "    </tr>\n",
        "    <tr>\n",
        "      <th>28 </th>\n",
        "      <td> 1400.254028</td>\n",
        "    </tr>\n",
        "    <tr>\n",
        "      <th>29 </th>\n",
        "      <td> 1145.362114</td>\n",
        "    </tr>\n",
        "    <tr>\n",
        "      <th>...</th>\n",
        "      <td>...</td>\n",
        "    </tr>\n",
        "    <tr>\n",
        "      <th>970</th>\n",
        "      <td> 1395.049234</td>\n",
        "    </tr>\n",
        "    <tr>\n",
        "      <th>971</th>\n",
        "      <td> 1662.520717</td>\n",
        "    </tr>\n",
        "    <tr>\n",
        "      <th>972</th>\n",
        "      <td> 1628.119864</td>\n",
        "    </tr>\n",
        "    <tr>\n",
        "      <th>973</th>\n",
        "      <td> 1940.877417</td>\n",
        "    </tr>\n",
        "    <tr>\n",
        "      <th>974</th>\n",
        "      <td> 1900.670247</td>\n",
        "    </tr>\n",
        "    <tr>\n",
        "      <th>975</th>\n",
        "      <td> 1418.979890</td>\n",
        "    </tr>\n",
        "    <tr>\n",
        "      <th>976</th>\n",
        "      <td> 1374.261538</td>\n",
        "    </tr>\n",
        "    <tr>\n",
        "      <th>977</th>\n",
        "      <td> 1267.498704</td>\n",
        "    </tr>\n",
        "    <tr>\n",
        "      <th>978</th>\n",
        "      <td> 1835.787669</td>\n",
        "    </tr>\n",
        "    <tr>\n",
        "      <th>979</th>\n",
        "      <td> 1823.403871</td>\n",
        "    </tr>\n",
        "    <tr>\n",
        "      <th>980</th>\n",
        "      <td> 1692.675562</td>\n",
        "    </tr>\n",
        "    <tr>\n",
        "      <th>981</th>\n",
        "      <td> 1215.893765</td>\n",
        "    </tr>\n",
        "    <tr>\n",
        "      <th>982</th>\n",
        "      <td> 1402.642100</td>\n",
        "    </tr>\n",
        "    <tr>\n",
        "      <th>983</th>\n",
        "      <td> 1495.715184</td>\n",
        "    </tr>\n",
        "    <tr>\n",
        "      <th>984</th>\n",
        "      <td> 1464.884884</td>\n",
        "    </tr>\n",
        "    <tr>\n",
        "      <th>985</th>\n",
        "      <td> 1489.407285</td>\n",
        "    </tr>\n",
        "    <tr>\n",
        "      <th>986</th>\n",
        "      <td> 1588.708756</td>\n",
        "    </tr>\n",
        "    <tr>\n",
        "      <th>987</th>\n",
        "      <td> 1271.397161</td>\n",
        "    </tr>\n",
        "    <tr>\n",
        "      <th>988</th>\n",
        "      <td> 1718.092738</td>\n",
        "    </tr>\n",
        "    <tr>\n",
        "      <th>989</th>\n",
        "      <td> 1150.999697</td>\n",
        "    </tr>\n",
        "    <tr>\n",
        "      <th>990</th>\n",
        "      <td> 1785.972182</td>\n",
        "    </tr>\n",
        "    <tr>\n",
        "      <th>991</th>\n",
        "      <td> 1305.166525</td>\n",
        "    </tr>\n",
        "    <tr>\n",
        "      <th>992</th>\n",
        "      <td> 1261.445127</td>\n",
        "    </tr>\n",
        "    <tr>\n",
        "      <th>993</th>\n",
        "      <td> 1349.286000</td>\n",
        "    </tr>\n",
        "    <tr>\n",
        "      <th>994</th>\n",
        "      <td> 1835.322639</td>\n",
        "    </tr>\n",
        "    <tr>\n",
        "      <th>995</th>\n",
        "      <td> 1227.513104</td>\n",
        "    </tr>\n",
        "    <tr>\n",
        "      <th>996</th>\n",
        "      <td> 1685.729467</td>\n",
        "    </tr>\n",
        "    <tr>\n",
        "      <th>997</th>\n",
        "      <td> 1634.539159</td>\n",
        "    </tr>\n",
        "    <tr>\n",
        "      <th>998</th>\n",
        "      <td> 1394.788916</td>\n",
        "    </tr>\n",
        "    <tr>\n",
        "      <th>999</th>\n",
        "      <td> 1340.742496</td>\n",
        "    </tr>\n",
        "  </tbody>\n",
        "</table>\n",
        "<p>1000 rows \u00d7 1 columns</p>\n",
        "</div>"
       ],
       "metadata": {},
       "output_type": "pyout",
       "prompt_number": 181,
       "text": [
        "             val\n",
        "ind             \n",
        "0    1843.362462\n",
        "1    1576.125392\n",
        "2    1498.759478\n",
        "3    2046.117177\n",
        "4    1252.148869\n",
        "5    1748.353269\n",
        "6    1563.457240\n",
        "7    1796.291503\n",
        "8    1288.504400\n",
        "9    1143.156729\n",
        "10   1446.384600\n",
        "11   1120.996630\n",
        "12   1980.020575\n",
        "13   1016.020489\n",
        "14   1586.182964\n",
        "15   1377.392993\n",
        "16   1461.997884\n",
        "17   1796.151901\n",
        "18   1599.677414\n",
        "19   1383.523046\n",
        "20   1570.636820\n",
        "21   1227.351885\n",
        "22   1647.492157\n",
        "23   1829.872175\n",
        "24   1236.979617\n",
        "25   1745.896459\n",
        "26   1641.789802\n",
        "27   1239.079514\n",
        "28   1400.254028\n",
        "29   1145.362114\n",
        "..           ...\n",
        "970  1395.049234\n",
        "971  1662.520717\n",
        "972  1628.119864\n",
        "973  1940.877417\n",
        "974  1900.670247\n",
        "975  1418.979890\n",
        "976  1374.261538\n",
        "977  1267.498704\n",
        "978  1835.787669\n",
        "979  1823.403871\n",
        "980  1692.675562\n",
        "981  1215.893765\n",
        "982  1402.642100\n",
        "983  1495.715184\n",
        "984  1464.884884\n",
        "985  1489.407285\n",
        "986  1588.708756\n",
        "987  1271.397161\n",
        "988  1718.092738\n",
        "989  1150.999697\n",
        "990  1785.972182\n",
        "991  1305.166525\n",
        "992  1261.445127\n",
        "993  1349.286000\n",
        "994  1835.322639\n",
        "995  1227.513104\n",
        "996  1685.729467\n",
        "997  1634.539159\n",
        "998  1394.788916\n",
        "999  1340.742496\n",
        "\n",
        "[1000 rows x 1 columns]"
       ]
      }
     ],
     "prompt_number": 181
    },
    {
     "cell_type": "code",
     "collapsed": false,
     "input": [
      "rr.val = rr.val.apply(str).apply(lambda x: x[:2]).apply(int)\n",
      "rr.val"
     ],
     "language": "python",
     "metadata": {},
     "outputs": [
      {
       "metadata": {},
       "output_type": "pyout",
       "prompt_number": 182,
       "text": [
        "ind\n",
        "0      18\n",
        "1      15\n",
        "2      14\n",
        "3      20\n",
        "4      12\n",
        "5      17\n",
        "6      15\n",
        "7      17\n",
        "8      12\n",
        "9      11\n",
        "10     14\n",
        "11     11\n",
        "12     19\n",
        "13     10\n",
        "14     15\n",
        "...\n",
        "985    14\n",
        "986    15\n",
        "987    12\n",
        "988    17\n",
        "989    11\n",
        "990    17\n",
        "991    13\n",
        "992    12\n",
        "993    13\n",
        "994    18\n",
        "995    12\n",
        "996    16\n",
        "997    16\n",
        "998    13\n",
        "999    13\n",
        "Name: val, Length: 1000, dtype: int64"
       ]
      }
     ],
     "prompt_number": 182
    },
    {
     "cell_type": "code",
     "collapsed": false,
     "input": [
      "v = rr.val.value_counts()\n",
      "prop = rr.val.value_counts(normalize = True)\n",
      "prop.head()"
     ],
     "language": "python",
     "metadata": {},
     "outputs": [
      {
       "metadata": {},
       "output_type": "pyout",
       "prompt_number": 185,
       "text": [
        "14    0.134\n",
        "16    0.126\n",
        "13    0.125\n",
        "15    0.117\n",
        "17    0.106\n",
        "dtype: float64"
       ]
      }
     ],
     "prompt_number": 185
    },
    {
     "cell_type": "code",
     "collapsed": false,
     "input": [
      "df = pd.DataFrame({'Counts': v, 'Found': prop}).sort_index()\n",
      "#df.index.names = ['First_2_Dig']\n",
      "if len(df.index)<90:\n",
      "    df = df.reindex(np.arange(10,100))\n",
      "df = __firstTwo__().join(df)\n",
      "fig = plt.figure(figsize=(15,10))\n",
      "ax = fig.add_subplot(1,1,1)\n",
      "ax.plot(df.index,df.Expected, color='r', linewidth=2.0)\n",
      "ax.bar(df.index,df.Found)"
     ],
     "language": "python",
     "metadata": {},
     "outputs": [
      {
       "metadata": {},
       "output_type": "pyout",
       "prompt_number": 186,
       "text": [
        "<Container object of 90 artists>"
       ]
      },
      {
       "metadata": {},
       "output_type": "display_data",
       "png": "[encoded data removed]",
       "text": [
        "<matplotlib.figure.Figure at 0x7f2a27631ad0>"
       ]
      }
     ],
     "prompt_number": 186
    },
    {
     "cell_type": "code",
     "collapsed": false,
     "input": [
      "df.head()"
     ],
     "language": "python",
     "metadata": {},
     "outputs": [
      {
       "html": [
        "<div style=\"max-height:1000px;max-width:1500px;overflow:auto;\">\n",
        "<table border=\"1\" class=\"dataframe\">\n",
        "  <thead>\n",
        "    <tr style=\"text-align: right;\">\n",
        "      <th></th>\n",
        "      <th>Expected</th>\n",
        "      <th>Counts</th>\n",
        "      <th>Found</th>\n",
        "    </tr>\n",
        "    <tr>\n",
        "      <th>First_2_Dig</th>\n",
        "      <th></th>\n",
        "      <th></th>\n",
        "      <th></th>\n",
        "    </tr>\n",
        "  </thead>\n",
        "  <tbody>\n",
        "    <tr>\n",
        "      <th>10</th>\n",
        "      <td> 0.041393</td>\n",
        "      <td>  43</td>\n",
        "      <td> 0.043</td>\n",
        "    </tr>\n",
        "    <tr>\n",
        "      <th>11</th>\n",
        "      <td> 0.037789</td>\n",
        "      <td>  57</td>\n",
        "      <td> 0.057</td>\n",
        "    </tr>\n",
        "    <tr>\n",
        "      <th>12</th>\n",
        "      <td> 0.034762</td>\n",
        "      <td> 100</td>\n",
        "      <td> 0.100</td>\n",
        "    </tr>\n",
        "    <tr>\n",
        "      <th>13</th>\n",
        "      <td> 0.032185</td>\n",
        "      <td> 125</td>\n",
        "      <td> 0.125</td>\n",
        "    </tr>\n",
        "    <tr>\n",
        "      <th>14</th>\n",
        "      <td> 0.029963</td>\n",
        "      <td> 134</td>\n",
        "      <td> 0.134</td>\n",
        "    </tr>\n",
        "  </tbody>\n",
        "</table>\n",
        "</div>"
       ],
       "metadata": {},
       "output_type": "pyout",
       "prompt_number": 187,
       "text": [
        "             Expected  Counts  Found\n",
        "First_2_Dig                         \n",
        "10           0.041393      43  0.043\n",
        "11           0.037789      57  0.057\n",
        "12           0.034762     100  0.100\n",
        "13           0.032185     125  0.125\n",
        "14           0.029963     134  0.134"
       ]
      }
     ],
     "prompt_number": 187
    },
    {
     "cell_type": "code",
     "collapsed": false,
     "input": [
      "isinstance(df.Expected, pd.Series)"
     ],
     "language": "python",
     "metadata": {},
     "outputs": [
      {
       "metadata": {},
       "output_type": "pyout",
       "prompt_number": 195,
       "text": [
        "True"
       ]
      }
     ],
     "prompt_number": 195
    }
   ],
   "metadata": {}
  }
 ]
}