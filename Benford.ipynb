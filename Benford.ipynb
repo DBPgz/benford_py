{
 "metadata": {
  "name": "",
  "signature": "sha256:5da660ee78c9163ca70c0cd2e15ae756fb997c588ba123d88e9f172cb4b0b29b"
 },
 "nbformat": 3,
 "nbformat_minor": 0,
 "worksheets": [
  {
   "cells": [
    {
     "cell_type": "code",
     "collapsed": false,
     "input": [
      "import pandas as pd\n",
      "import numpy as np\n",
      "import matplotlib.pyplot as plt"
     ],
     "language": "python",
     "metadata": {},
     "outputs": [],
     "prompt_number": 1
    },
    {
     "cell_type": "code",
     "collapsed": false,
     "input": [
      "t = np.arange(10,1000,10)"
     ],
     "language": "python",
     "metadata": {},
     "outputs": [],
     "prompt_number": 2
    },
    {
     "cell_type": "code",
     "collapsed": false,
     "input": [
      "t[:10]"
     ],
     "language": "python",
     "metadata": {},
     "outputs": [
      {
       "metadata": {},
       "output_type": "pyout",
       "prompt_number": 3,
       "text": [
        "array([ 10,  20,  30,  40,  50,  60,  70,  80,  90, 100])"
       ]
      }
     ],
     "prompt_number": 3
    },
    {
     "cell_type": "heading",
     "level": 4,
     "metadata": {},
     "source": [
      "Getting the Mantissas"
     ]
    },
    {
     "cell_type": "code",
     "collapsed": false,
     "input": [
      "np.log10(t) - np.log10(t).astype(int)"
     ],
     "language": "python",
     "metadata": {},
     "outputs": [
      {
       "metadata": {},
       "output_type": "pyout",
       "prompt_number": 4,
       "text": [
        "array([ 0.        ,  0.30103   ,  0.47712125,  0.60205999,  0.69897   ,\n",
        "        0.77815125,  0.84509804,  0.90308999,  0.95424251,  0.        ,\n",
        "        0.04139269,  0.07918125,  0.11394335,  0.14612804,  0.17609126,\n",
        "        0.20411998,  0.23044892,  0.25527251,  0.2787536 ,  0.30103   ,\n",
        "        0.32221929,  0.34242268,  0.36172784,  0.38021124,  0.39794001,\n",
        "        0.41497335,  0.43136376,  0.44715803,  0.462398  ,  0.47712125,\n",
        "        0.49136169,  0.50514998,  0.51851394,  0.53147892,  0.54406804,\n",
        "        0.5563025 ,  0.56820172,  0.5797836 ,  0.59106461,  0.60205999,\n",
        "        0.61278386,  0.62324929,  0.63346846,  0.64345268,  0.65321251,\n",
        "        0.66275783,  0.67209786,  0.68124124,  0.69019608,  0.69897   ,\n",
        "        0.70757018,  0.71600334,  0.72427587,  0.73239376,  0.74036269,\n",
        "        0.74818803,  0.75587486,  0.76342799,  0.77085201,  0.77815125,\n",
        "        0.78532984,  0.79239169,  0.79934055,  0.80617997,  0.81291336,\n",
        "        0.81954394,  0.8260748 ,  0.83250891,  0.83884909,  0.84509804,\n",
        "        0.85125835,  0.8573325 ,  0.86332286,  0.86923172,  0.87506126,\n",
        "        0.88081359,  0.88649073,  0.8920946 ,  0.89762709,  0.90308999,\n",
        "        0.90848502,  0.91381385,  0.91907809,  0.92427929,  0.92941893,\n",
        "        0.93449845,  0.93951925,  0.94448267,  0.94939001,  0.95424251,\n",
        "        0.95904139,  0.96378783,  0.96848295,  0.97312785,  0.97772361,\n",
        "        0.98227123,  0.98677173,  0.99122608,  0.99563519])"
       ]
      }
     ],
     "prompt_number": 4
    },
    {
     "cell_type": "code",
     "collapsed": false,
     "input": [
      "g = np.random.randint(1000, size =200)\n",
      "g"
     ],
     "language": "python",
     "metadata": {},
     "outputs": [
      {
       "metadata": {},
       "output_type": "pyout",
       "prompt_number": 5,
       "text": [
        "array([ 90, 432, 329, 748, 174, 113, 724, 945, 440,   7, 326, 176, 880,\n",
        "       744, 863, 332, 160, 419, 358,  73, 734,  15, 402, 608, 714, 886,\n",
        "       441, 557, 680,  51, 592,  47, 217, 474, 603, 647, 525, 991, 769,\n",
        "       900, 348, 919, 869, 126,  14, 466, 469, 493, 262, 261, 180, 150,\n",
        "       970, 706, 773, 406,   3, 416, 950,  79, 555, 327, 755, 608, 225,\n",
        "       556, 148, 697, 394, 649, 547, 153, 616, 543, 990, 837, 881, 703,\n",
        "        65, 779, 987,  31, 221, 766, 208, 593,  91, 826, 675, 318, 701,\n",
        "       974, 920, 106, 672, 350, 784, 233, 182, 744, 428, 709, 545, 931,\n",
        "       352, 535, 526, 187, 969, 678,  50, 564, 271, 589, 196, 830, 743,\n",
        "       482, 997, 652, 670, 939,  32, 845, 249, 719, 506, 492, 157, 401,\n",
        "       374, 388, 663, 796, 343, 868, 746, 702, 209, 753, 925, 844, 120,\n",
        "       799, 381, 775, 301, 974, 836, 222, 236, 874, 317, 776, 600, 837,\n",
        "       308, 649, 271,  17, 369, 210, 208, 945, 899, 911, 772,  53, 848,\n",
        "       342, 910, 623, 141, 881, 757, 489, 398, 193, 216, 333, 280, 182,\n",
        "       666, 830, 364, 618, 875, 262,  48, 903, 419, 766, 645,  49, 130,\n",
        "       688,  49, 342, 201, 578])"
       ]
      }
     ],
     "prompt_number": 5
    },
    {
     "cell_type": "code",
     "collapsed": false,
     "input": [
      "m = np.log10(g) - np.log10(g).astype(int)\n",
      "m"
     ],
     "language": "python",
     "metadata": {},
     "outputs": [
      {
       "metadata": {},
       "output_type": "pyout",
       "prompt_number": 6,
       "text": [
        "array([ 0.95424251,  0.63548375,  0.5171959 ,  0.8739016 ,  0.24054925,\n",
        "        0.05307844,  0.85973857,  0.97543181,  0.64345268,  0.84509804,\n",
        "        0.5132176 ,  0.24551267,  0.94448267,  0.87157294,  0.9360108 ,\n",
        "        0.52113808,  0.20411998,  0.62221402,  0.55388303,  0.86332286,\n",
        "        0.86569606,  0.17609126,  0.60422605,  0.78390358,  0.85369821,\n",
        "        0.94743372,  0.64443859,  0.7458552 ,  0.83250891,  0.70757018,\n",
        "        0.77232171,  0.67209786,  0.33645973,  0.67577834,  0.78031731,\n",
        "        0.81090428,  0.7201593 ,  0.99607365,  0.88592634,  0.95424251,\n",
        "        0.54157924,  0.96331551,  0.93901978,  0.10037055,  0.14612804,\n",
        "        0.66838592,  0.67117284,  0.69284692,  0.41830129,  0.41664051,\n",
        "        0.25527251,  0.17609126,  0.98677173,  0.8488047 ,  0.88817949,\n",
        "        0.60852603,  0.47712125,  0.61909333,  0.97772361,  0.89762709,\n",
        "        0.74429298,  0.51454775,  0.87794695,  0.78390358,  0.35218252,\n",
        "        0.74507479,  0.17026172,  0.84323278,  0.59549622,  0.8122447 ,\n",
        "        0.73798733,  0.18469143,  0.78958071,  0.73479983,  0.99563519,\n",
        "        0.92272546,  0.94497591,  0.84695533,  0.81291336,  0.89153746,\n",
        "        0.99431715,  0.49136169,  0.34439227,  0.88422877,  0.31806333,\n",
        "        0.77305469,  0.95904139,  0.91698005,  0.82930377,  0.50242712,\n",
        "        0.84571802,  0.98855896,  0.96378783,  0.02530587,  0.82736927,\n",
        "        0.54406804,  0.89431606,  0.36735592,  0.26007139,  0.87157294,\n",
        "        0.63144377,  0.85064624,  0.7363965 ,  0.96894968,  0.54654266,\n",
        "        0.72835378,  0.72098574,  0.27184161,  0.98632378,  0.83122969,\n",
        "        0.69897   ,  0.7512791 ,  0.43296929,  0.77011529,  0.29225607,\n",
        "        0.91907809,  0.87098881,  0.68304704,  0.99869516,  0.8142476 ,\n",
        "        0.8260748 ,  0.97266559,  0.50514998,  0.92685671,  0.39619935,\n",
        "        0.85672889,  0.70415052,  0.6919651 ,  0.19589965,  0.60314437,\n",
        "        0.5728716 ,  0.58883173,  0.82151353,  0.90091307,  0.53529412,\n",
        "        0.93851973,  0.87273883,  0.84633711,  0.32014629,  0.87679498,\n",
        "        0.96614173,  0.92634245,  0.07918125,  0.90254678,  0.58092498,\n",
        "        0.8893017 ,  0.4785665 ,  0.98855896,  0.92220628,  0.34635297,\n",
        "        0.372912  ,  0.94151143,  0.50105926,  0.88986172,  0.77815125,\n",
        "        0.92272546,  0.48855072,  0.8122447 ,  0.43296929,  0.23044892,\n",
        "        0.56702637,  0.32221929,  0.31806333,  0.97543181,  0.95375969,\n",
        "        0.95951838,  0.8876173 ,  0.72427587,  0.92839585,  0.53402611,\n",
        "        0.95904139,  0.79448805,  0.14921911,  0.94497591,  0.87909588,\n",
        "        0.68930886,  0.59988307,  0.28555731,  0.33445375,  0.52244423,\n",
        "        0.44715803,  0.26007139,  0.82347423,  0.91907809,  0.56110138,\n",
        "        0.79098848,  0.94200805,  0.41830129,  0.68124124,  0.95568775,\n",
        "        0.62221402,  0.88422877,  0.80955971,  0.69019608,  0.11394335,\n",
        "        0.83758844,  0.69019608,  0.53402611,  0.30319606,  0.76192784])"
       ]
      }
     ],
     "prompt_number": 6
    },
    {
     "cell_type": "heading",
     "level": 4,
     "metadata": {},
     "source": [
      "Ordering the Mantissas and Plotting"
     ]
    },
    {
     "cell_type": "code",
     "collapsed": false,
     "input": [
      "m.sort()\n",
      "m"
     ],
     "language": "python",
     "metadata": {},
     "outputs": [
      {
       "metadata": {},
       "output_type": "pyout",
       "prompt_number": 7,
       "text": [
        "array([ 0.02530587,  0.05307844,  0.07918125,  0.10037055,  0.11394335,\n",
        "        0.14612804,  0.14921911,  0.17026172,  0.17609126,  0.17609126,\n",
        "        0.18469143,  0.19589965,  0.20411998,  0.23044892,  0.24054925,\n",
        "        0.24551267,  0.25527251,  0.26007139,  0.26007139,  0.27184161,\n",
        "        0.28555731,  0.29225607,  0.30319606,  0.31806333,  0.31806333,\n",
        "        0.32014629,  0.32221929,  0.33445375,  0.33645973,  0.34439227,\n",
        "        0.34635297,  0.35218252,  0.36735592,  0.372912  ,  0.39619935,\n",
        "        0.41664051,  0.41830129,  0.41830129,  0.43296929,  0.43296929,\n",
        "        0.44715803,  0.47712125,  0.4785665 ,  0.48855072,  0.49136169,\n",
        "        0.50105926,  0.50242712,  0.50514998,  0.5132176 ,  0.51454775,\n",
        "        0.5171959 ,  0.52113808,  0.52244423,  0.53402611,  0.53402611,\n",
        "        0.53529412,  0.54157924,  0.54406804,  0.54654266,  0.55388303,\n",
        "        0.56110138,  0.56702637,  0.5728716 ,  0.58092498,  0.58883173,\n",
        "        0.59549622,  0.59988307,  0.60314437,  0.60422605,  0.60852603,\n",
        "        0.61909333,  0.62221402,  0.62221402,  0.63144377,  0.63548375,\n",
        "        0.64345268,  0.64443859,  0.66838592,  0.67117284,  0.67209786,\n",
        "        0.67577834,  0.68124124,  0.68304704,  0.68930886,  0.69019608,\n",
        "        0.69019608,  0.6919651 ,  0.69284692,  0.69897   ,  0.70415052,\n",
        "        0.70757018,  0.7201593 ,  0.72098574,  0.72427587,  0.72835378,\n",
        "        0.73479983,  0.7363965 ,  0.73798733,  0.74429298,  0.74507479,\n",
        "        0.7458552 ,  0.7512791 ,  0.76192784,  0.77011529,  0.77232171,\n",
        "        0.77305469,  0.77815125,  0.78031731,  0.78390358,  0.78390358,\n",
        "        0.78958071,  0.79098848,  0.79448805,  0.80955971,  0.81090428,\n",
        "        0.8122447 ,  0.8122447 ,  0.81291336,  0.8142476 ,  0.82151353,\n",
        "        0.82347423,  0.8260748 ,  0.82736927,  0.82930377,  0.83122969,\n",
        "        0.83250891,  0.83758844,  0.84323278,  0.84509804,  0.84571802,\n",
        "        0.84633711,  0.84695533,  0.8488047 ,  0.85064624,  0.85369821,\n",
        "        0.85672889,  0.85973857,  0.86332286,  0.86569606,  0.87098881,\n",
        "        0.87157294,  0.87157294,  0.87273883,  0.8739016 ,  0.87679498,\n",
        "        0.87794695,  0.87909588,  0.88422877,  0.88422877,  0.88592634,\n",
        "        0.8876173 ,  0.88817949,  0.8893017 ,  0.88986172,  0.89153746,\n",
        "        0.89431606,  0.89762709,  0.90091307,  0.90254678,  0.91698005,\n",
        "        0.91907809,  0.91907809,  0.92220628,  0.92272546,  0.92272546,\n",
        "        0.92634245,  0.92685671,  0.92839585,  0.9360108 ,  0.93851973,\n",
        "        0.93901978,  0.94151143,  0.94200805,  0.94448267,  0.94497591,\n",
        "        0.94497591,  0.94743372,  0.95375969,  0.95424251,  0.95424251,\n",
        "        0.95568775,  0.95904139,  0.95904139,  0.95951838,  0.96331551,\n",
        "        0.96378783,  0.96614173,  0.96894968,  0.97266559,  0.97543181,\n",
        "        0.97543181,  0.97772361,  0.98632378,  0.98677173,  0.98855896,\n",
        "        0.98855896,  0.99431715,  0.99563519,  0.99607365,  0.99869516])"
       ]
      }
     ],
     "prompt_number": 7
    },
    {
     "cell_type": "code",
     "collapsed": false,
     "input": [
      "pylab inline"
     ],
     "language": "python",
     "metadata": {},
     "outputs": [
      {
       "output_type": "stream",
       "stream": "stdout",
       "text": [
        "Populating the interactive namespace from numpy and matplotlib\n"
       ]
      }
     ],
     "prompt_number": 8
    },
    {
     "cell_type": "code",
     "collapsed": false,
     "input": [
      "plt.plot(np.arange(len(m)), m)"
     ],
     "language": "python",
     "metadata": {},
     "outputs": [
      {
       "metadata": {},
       "output_type": "pyout",
       "prompt_number": 9,
       "text": [
        "[<matplotlib.lines.Line2D at 0x7f13e77d8450>]"
       ]
      },
      {
       "metadata": {},
       "output_type": "display_data",
       "png": "[encoded data removed]",
       "text": [
        "<matplotlib.figure.Figure at 0x7f13e78ba310>"
       ]
      }
     ],
     "prompt_number": 9
    },
    {
     "cell_type": "code",
     "collapsed": false,
     "input": [
      "g.sort()\n",
      "g"
     ],
     "language": "python",
     "metadata": {},
     "outputs": [
      {
       "metadata": {},
       "output_type": "pyout",
       "prompt_number": 10,
       "text": [
        "array([  3,   7,  14,  15,  17,  31,  32,  47,  48,  49,  49,  50,  51,\n",
        "        53,  65,  73,  79,  90,  91, 106, 113, 120, 126, 130, 141, 148,\n",
        "       150, 153, 157, 160, 174, 176, 180, 182, 182, 187, 193, 196, 201,\n",
        "       208, 208, 209, 210, 216, 217, 221, 222, 225, 233, 236, 249, 261,\n",
        "       262, 262, 271, 271, 280, 301, 308, 317, 318, 326, 327, 329, 332,\n",
        "       333, 342, 342, 343, 348, 350, 352, 358, 364, 369, 374, 381, 388,\n",
        "       394, 398, 401, 402, 406, 416, 419, 419, 428, 432, 440, 441, 466,\n",
        "       469, 474, 482, 489, 492, 493, 506, 525, 526, 535, 543, 545, 547,\n",
        "       555, 556, 557, 564, 578, 589, 592, 593, 600, 603, 608, 608, 616,\n",
        "       618, 623, 645, 647, 649, 649, 652, 663, 666, 670, 672, 675, 678,\n",
        "       680, 688, 697, 701, 702, 703, 706, 709, 714, 719, 724, 734, 743,\n",
        "       744, 744, 746, 748, 753, 755, 757, 766, 766, 769, 772, 773, 775,\n",
        "       776, 779, 784, 796, 799, 826, 830, 830, 836, 837, 837, 844, 845,\n",
        "       848, 863, 868, 869, 874, 875, 880, 881, 881, 886, 899, 900, 903,\n",
        "       910, 911, 919, 920, 925, 931, 939, 945, 945, 950, 969, 970, 974,\n",
        "       974, 987, 990, 991, 997])"
       ]
      }
     ],
     "prompt_number": 10
    },
    {
     "cell_type": "code",
     "collapsed": false,
     "input": [
      "plt.plot(g, m)\n",
      "plt.grid()"
     ],
     "language": "python",
     "metadata": {},
     "outputs": [
      {
       "metadata": {},
       "output_type": "display_data",
       "png": "[encoded data removed]",
       "text": [
        "<matplotlib.figure.Figure at 0x7f13e780c590>"
       ]
      }
     ],
     "prompt_number": 11
    },
    {
     "cell_type": "code",
     "collapsed": false,
     "input": [
      "tt = pd.DataFrame(g, columns=['numbers'])\n",
      "tt.head()"
     ],
     "language": "python",
     "metadata": {},
     "outputs": [
      {
       "html": [
        "<div style=\"max-height:1000px;max-width:1500px;overflow:auto;\">\n",
        "<table border=\"1\" class=\"dataframe\">\n",
        "  <thead>\n",
        "    <tr style=\"text-align: right;\">\n",
        "      <th></th>\n",
        "      <th>numbers</th>\n",
        "    </tr>\n",
        "  </thead>\n",
        "  <tbody>\n",
        "    <tr>\n",
        "      <th>0</th>\n",
        "      <td>  3</td>\n",
        "    </tr>\n",
        "    <tr>\n",
        "      <th>1</th>\n",
        "      <td>  7</td>\n",
        "    </tr>\n",
        "    <tr>\n",
        "      <th>2</th>\n",
        "      <td> 14</td>\n",
        "    </tr>\n",
        "    <tr>\n",
        "      <th>3</th>\n",
        "      <td> 15</td>\n",
        "    </tr>\n",
        "    <tr>\n",
        "      <th>4</th>\n",
        "      <td> 17</td>\n",
        "    </tr>\n",
        "  </tbody>\n",
        "</table>\n",
        "</div>"
       ],
       "metadata": {},
       "output_type": "pyout",
       "prompt_number": 12,
       "text": [
        "   numbers\n",
        "0        3\n",
        "1        7\n",
        "2       14\n",
        "3       15\n",
        "4       17"
       ]
      }
     ],
     "prompt_number": 12
    },
    {
     "cell_type": "code",
     "collapsed": false,
     "input": [
      "def _get_mantissas_(arr):\n",
      "\t'''\n",
      "\tThe mantissa is the non-integer part of the log of a number.\n",
      "\tThis fuction uses the element-wise array operations on numpy\n",
      "\tto get the mantissas of each number's log.\n",
      "\n",
      "\tarr: numpy array of integers or floats\n",
      "\t'''\n",
      "\n",
      "\treturn np.log10(arr) - np.log10(arr).astype(int)"
     ],
     "language": "python",
     "metadata": {},
     "outputs": [],
     "prompt_number": 13
    },
    {
     "cell_type": "code",
     "collapsed": false,
     "input": [
      "tt['mantissas']=_get_mantissas_(tt.numbers)\n",
      "tt.sort(columns='mantissas')\n",
      "tt"
     ],
     "language": "python",
     "metadata": {},
     "outputs": [
      {
       "html": [
        "<div style=\"max-height:1000px;max-width:1500px;overflow:auto;\">\n",
        "<table border=\"1\" class=\"dataframe\">\n",
        "  <thead>\n",
        "    <tr style=\"text-align: right;\">\n",
        "      <th></th>\n",
        "      <th>numbers</th>\n",
        "      <th>mantissas</th>\n",
        "    </tr>\n",
        "  </thead>\n",
        "  <tbody>\n",
        "    <tr>\n",
        "      <th>0  </th>\n",
        "      <td>   3</td>\n",
        "      <td> 0.477121</td>\n",
        "    </tr>\n",
        "    <tr>\n",
        "      <th>1  </th>\n",
        "      <td>   7</td>\n",
        "      <td> 0.845098</td>\n",
        "    </tr>\n",
        "    <tr>\n",
        "      <th>2  </th>\n",
        "      <td>  14</td>\n",
        "      <td> 0.146128</td>\n",
        "    </tr>\n",
        "    <tr>\n",
        "      <th>3  </th>\n",
        "      <td>  15</td>\n",
        "      <td> 0.176091</td>\n",
        "    </tr>\n",
        "    <tr>\n",
        "      <th>4  </th>\n",
        "      <td>  17</td>\n",
        "      <td> 0.230449</td>\n",
        "    </tr>\n",
        "    <tr>\n",
        "      <th>5  </th>\n",
        "      <td>  31</td>\n",
        "      <td> 0.491362</td>\n",
        "    </tr>\n",
        "    <tr>\n",
        "      <th>6  </th>\n",
        "      <td>  32</td>\n",
        "      <td> 0.505150</td>\n",
        "    </tr>\n",
        "    <tr>\n",
        "      <th>7  </th>\n",
        "      <td>  47</td>\n",
        "      <td> 0.672098</td>\n",
        "    </tr>\n",
        "    <tr>\n",
        "      <th>8  </th>\n",
        "      <td>  48</td>\n",
        "      <td> 0.681241</td>\n",
        "    </tr>\n",
        "    <tr>\n",
        "      <th>9  </th>\n",
        "      <td>  49</td>\n",
        "      <td> 0.690196</td>\n",
        "    </tr>\n",
        "    <tr>\n",
        "      <th>10 </th>\n",
        "      <td>  49</td>\n",
        "      <td> 0.690196</td>\n",
        "    </tr>\n",
        "    <tr>\n",
        "      <th>11 </th>\n",
        "      <td>  50</td>\n",
        "      <td> 0.698970</td>\n",
        "    </tr>\n",
        "    <tr>\n",
        "      <th>12 </th>\n",
        "      <td>  51</td>\n",
        "      <td> 0.707570</td>\n",
        "    </tr>\n",
        "    <tr>\n",
        "      <th>13 </th>\n",
        "      <td>  53</td>\n",
        "      <td> 0.724276</td>\n",
        "    </tr>\n",
        "    <tr>\n",
        "      <th>14 </th>\n",
        "      <td>  65</td>\n",
        "      <td> 0.812913</td>\n",
        "    </tr>\n",
        "    <tr>\n",
        "      <th>15 </th>\n",
        "      <td>  73</td>\n",
        "      <td> 0.863323</td>\n",
        "    </tr>\n",
        "    <tr>\n",
        "      <th>16 </th>\n",
        "      <td>  79</td>\n",
        "      <td> 0.897627</td>\n",
        "    </tr>\n",
        "    <tr>\n",
        "      <th>17 </th>\n",
        "      <td>  90</td>\n",
        "      <td> 0.954243</td>\n",
        "    </tr>\n",
        "    <tr>\n",
        "      <th>18 </th>\n",
        "      <td>  91</td>\n",
        "      <td> 0.959041</td>\n",
        "    </tr>\n",
        "    <tr>\n",
        "      <th>19 </th>\n",
        "      <td> 106</td>\n",
        "      <td> 0.025306</td>\n",
        "    </tr>\n",
        "    <tr>\n",
        "      <th>20 </th>\n",
        "      <td> 113</td>\n",
        "      <td> 0.053078</td>\n",
        "    </tr>\n",
        "    <tr>\n",
        "      <th>21 </th>\n",
        "      <td> 120</td>\n",
        "      <td> 0.079181</td>\n",
        "    </tr>\n",
        "    <tr>\n",
        "      <th>22 </th>\n",
        "      <td> 126</td>\n",
        "      <td> 0.100371</td>\n",
        "    </tr>\n",
        "    <tr>\n",
        "      <th>23 </th>\n",
        "      <td> 130</td>\n",
        "      <td> 0.113943</td>\n",
        "    </tr>\n",
        "    <tr>\n",
        "      <th>24 </th>\n",
        "      <td> 141</td>\n",
        "      <td> 0.149219</td>\n",
        "    </tr>\n",
        "    <tr>\n",
        "      <th>25 </th>\n",
        "      <td> 148</td>\n",
        "      <td> 0.170262</td>\n",
        "    </tr>\n",
        "    <tr>\n",
        "      <th>26 </th>\n",
        "      <td> 150</td>\n",
        "      <td> 0.176091</td>\n",
        "    </tr>\n",
        "    <tr>\n",
        "      <th>27 </th>\n",
        "      <td> 153</td>\n",
        "      <td> 0.184691</td>\n",
        "    </tr>\n",
        "    <tr>\n",
        "      <th>28 </th>\n",
        "      <td> 157</td>\n",
        "      <td> 0.195900</td>\n",
        "    </tr>\n",
        "    <tr>\n",
        "      <th>29 </th>\n",
        "      <td> 160</td>\n",
        "      <td> 0.204120</td>\n",
        "    </tr>\n",
        "    <tr>\n",
        "      <th>...</th>\n",
        "      <td>...</td>\n",
        "      <td>...</td>\n",
        "    </tr>\n",
        "    <tr>\n",
        "      <th>170</th>\n",
        "      <td> 863</td>\n",
        "      <td> 0.936011</td>\n",
        "    </tr>\n",
        "    <tr>\n",
        "      <th>171</th>\n",
        "      <td> 868</td>\n",
        "      <td> 0.938520</td>\n",
        "    </tr>\n",
        "    <tr>\n",
        "      <th>172</th>\n",
        "      <td> 869</td>\n",
        "      <td> 0.939020</td>\n",
        "    </tr>\n",
        "    <tr>\n",
        "      <th>173</th>\n",
        "      <td> 874</td>\n",
        "      <td> 0.941511</td>\n",
        "    </tr>\n",
        "    <tr>\n",
        "      <th>174</th>\n",
        "      <td> 875</td>\n",
        "      <td> 0.942008</td>\n",
        "    </tr>\n",
        "    <tr>\n",
        "      <th>175</th>\n",
        "      <td> 880</td>\n",
        "      <td> 0.944483</td>\n",
        "    </tr>\n",
        "    <tr>\n",
        "      <th>176</th>\n",
        "      <td> 881</td>\n",
        "      <td> 0.944976</td>\n",
        "    </tr>\n",
        "    <tr>\n",
        "      <th>177</th>\n",
        "      <td> 881</td>\n",
        "      <td> 0.944976</td>\n",
        "    </tr>\n",
        "    <tr>\n",
        "      <th>178</th>\n",
        "      <td> 886</td>\n",
        "      <td> 0.947434</td>\n",
        "    </tr>\n",
        "    <tr>\n",
        "      <th>179</th>\n",
        "      <td> 899</td>\n",
        "      <td> 0.953760</td>\n",
        "    </tr>\n",
        "    <tr>\n",
        "      <th>180</th>\n",
        "      <td> 900</td>\n",
        "      <td> 0.954243</td>\n",
        "    </tr>\n",
        "    <tr>\n",
        "      <th>181</th>\n",
        "      <td> 903</td>\n",
        "      <td> 0.955688</td>\n",
        "    </tr>\n",
        "    <tr>\n",
        "      <th>182</th>\n",
        "      <td> 910</td>\n",
        "      <td> 0.959041</td>\n",
        "    </tr>\n",
        "    <tr>\n",
        "      <th>183</th>\n",
        "      <td> 911</td>\n",
        "      <td> 0.959518</td>\n",
        "    </tr>\n",
        "    <tr>\n",
        "      <th>184</th>\n",
        "      <td> 919</td>\n",
        "      <td> 0.963316</td>\n",
        "    </tr>\n",
        "    <tr>\n",
        "      <th>185</th>\n",
        "      <td> 920</td>\n",
        "      <td> 0.963788</td>\n",
        "    </tr>\n",
        "    <tr>\n",
        "      <th>186</th>\n",
        "      <td> 925</td>\n",
        "      <td> 0.966142</td>\n",
        "    </tr>\n",
        "    <tr>\n",
        "      <th>187</th>\n",
        "      <td> 931</td>\n",
        "      <td> 0.968950</td>\n",
        "    </tr>\n",
        "    <tr>\n",
        "      <th>188</th>\n",
        "      <td> 939</td>\n",
        "      <td> 0.972666</td>\n",
        "    </tr>\n",
        "    <tr>\n",
        "      <th>189</th>\n",
        "      <td> 945</td>\n",
        "      <td> 0.975432</td>\n",
        "    </tr>\n",
        "    <tr>\n",
        "      <th>190</th>\n",
        "      <td> 945</td>\n",
        "      <td> 0.975432</td>\n",
        "    </tr>\n",
        "    <tr>\n",
        "      <th>191</th>\n",
        "      <td> 950</td>\n",
        "      <td> 0.977724</td>\n",
        "    </tr>\n",
        "    <tr>\n",
        "      <th>192</th>\n",
        "      <td> 969</td>\n",
        "      <td> 0.986324</td>\n",
        "    </tr>\n",
        "    <tr>\n",
        "      <th>193</th>\n",
        "      <td> 970</td>\n",
        "      <td> 0.986772</td>\n",
        "    </tr>\n",
        "    <tr>\n",
        "      <th>194</th>\n",
        "      <td> 974</td>\n",
        "      <td> 0.988559</td>\n",
        "    </tr>\n",
        "    <tr>\n",
        "      <th>195</th>\n",
        "      <td> 974</td>\n",
        "      <td> 0.988559</td>\n",
        "    </tr>\n",
        "    <tr>\n",
        "      <th>196</th>\n",
        "      <td> 987</td>\n",
        "      <td> 0.994317</td>\n",
        "    </tr>\n",
        "    <tr>\n",
        "      <th>197</th>\n",
        "      <td> 990</td>\n",
        "      <td> 0.995635</td>\n",
        "    </tr>\n",
        "    <tr>\n",
        "      <th>198</th>\n",
        "      <td> 991</td>\n",
        "      <td> 0.996074</td>\n",
        "    </tr>\n",
        "    <tr>\n",
        "      <th>199</th>\n",
        "      <td> 997</td>\n",
        "      <td> 0.998695</td>\n",
        "    </tr>\n",
        "  </tbody>\n",
        "</table>\n",
        "<p>200 rows \u00d7 2 columns</p>\n",
        "</div>"
       ],
       "metadata": {},
       "output_type": "pyout",
       "prompt_number": 14,
       "text": [
        "     numbers  mantissas\n",
        "0          3   0.477121\n",
        "1          7   0.845098\n",
        "2         14   0.146128\n",
        "3         15   0.176091\n",
        "4         17   0.230449\n",
        "5         31   0.491362\n",
        "6         32   0.505150\n",
        "7         47   0.672098\n",
        "8         48   0.681241\n",
        "9         49   0.690196\n",
        "10        49   0.690196\n",
        "11        50   0.698970\n",
        "12        51   0.707570\n",
        "13        53   0.724276\n",
        "14        65   0.812913\n",
        "15        73   0.863323\n",
        "16        79   0.897627\n",
        "17        90   0.954243\n",
        "18        91   0.959041\n",
        "19       106   0.025306\n",
        "20       113   0.053078\n",
        "21       120   0.079181\n",
        "22       126   0.100371\n",
        "23       130   0.113943\n",
        "24       141   0.149219\n",
        "25       148   0.170262\n",
        "26       150   0.176091\n",
        "27       153   0.184691\n",
        "28       157   0.195900\n",
        "29       160   0.204120\n",
        "..       ...        ...\n",
        "170      863   0.936011\n",
        "171      868   0.938520\n",
        "172      869   0.939020\n",
        "173      874   0.941511\n",
        "174      875   0.942008\n",
        "175      880   0.944483\n",
        "176      881   0.944976\n",
        "177      881   0.944976\n",
        "178      886   0.947434\n",
        "179      899   0.953760\n",
        "180      900   0.954243\n",
        "181      903   0.955688\n",
        "182      910   0.959041\n",
        "183      911   0.959518\n",
        "184      919   0.963316\n",
        "185      920   0.963788\n",
        "186      925   0.966142\n",
        "187      931   0.968950\n",
        "188      939   0.972666\n",
        "189      945   0.975432\n",
        "190      945   0.975432\n",
        "191      950   0.977724\n",
        "192      969   0.986324\n",
        "193      970   0.986772\n",
        "194      974   0.988559\n",
        "195      974   0.988559\n",
        "196      987   0.994317\n",
        "197      990   0.995635\n",
        "198      991   0.996074\n",
        "199      997   0.998695\n",
        "\n",
        "[200 rows x 2 columns]"
       ]
      }
     ],
     "prompt_number": 14
    },
    {
     "cell_type": "code",
     "collapsed": false,
     "input": [
      "plt.plot(tt.numbers, tt.mantissas)"
     ],
     "language": "python",
     "metadata": {},
     "outputs": [
      {
       "metadata": {},
       "output_type": "pyout",
       "prompt_number": 15,
       "text": [
        "[<matplotlib.lines.Line2D at 0x7f13e7617ad0>]"
       ]
      },
      {
       "metadata": {},
       "output_type": "display_data",
       "png": "[encoded data removed]",
       "text": [
        "<matplotlib.figure.Figure at 0x7f13e76e26d0>"
       ]
      }
     ],
     "prompt_number": 15
    },
    {
     "cell_type": "code",
     "collapsed": false,
     "input": [
      "plt.plot(np.arange(len(tt)), tt.mantissas)"
     ],
     "language": "python",
     "metadata": {},
     "outputs": [
      {
       "metadata": {},
       "output_type": "pyout",
       "prompt_number": 16,
       "text": [
        "[<matplotlib.lines.Line2D at 0x7f13e7542c50>]"
       ]
      },
      {
       "metadata": {},
       "output_type": "display_data",
       "png": "[encoded data removed]",
       "text": [
        "<matplotlib.figure.Figure at 0x7f13e76506d0>"
       ]
      }
     ],
     "prompt_number": 16
    },
    {
     "cell_type": "code",
     "collapsed": false,
     "input": [
      "tt['m2'] = _get_mantissas_(tt.numbers)\n",
      "sum(tt.mantissas!=tt.m2)"
     ],
     "language": "python",
     "metadata": {},
     "outputs": [
      {
       "metadata": {},
       "output_type": "pyout",
       "prompt_number": 17,
       "text": [
        "0"
       ]
      }
     ],
     "prompt_number": 17
    },
    {
     "cell_type": "code",
     "collapsed": false,
     "input": [
      "tt['ms']=tt.m2.cumsum()\n",
      "plt.plot(np.arange(len(tt.ms)), tt.ms)"
     ],
     "language": "python",
     "metadata": {},
     "outputs": [
      {
       "metadata": {},
       "output_type": "pyout",
       "prompt_number": 18,
       "text": [
        "[<matplotlib.lines.Line2D at 0x7f13e74ed590>]"
       ]
      },
      {
       "metadata": {},
       "output_type": "display_data",
       "png": "[encoded data removed]",
       "text": [
        "<matplotlib.figure.Figure at 0x7f13e76c4110>"
       ]
      }
     ],
     "prompt_number": 18
    },
    {
     "cell_type": "code",
     "collapsed": false,
     "input": [
      "h = 9.234\n",
      "h*=100\n",
      "str(h)[:2]"
     ],
     "language": "python",
     "metadata": {},
     "outputs": [
      {
       "metadata": {},
       "output_type": "pyout",
       "prompt_number": 19,
       "text": [
        "'92'"
       ]
      }
     ],
     "prompt_number": 19
    },
    {
     "cell_type": "code",
     "collapsed": false,
     "input": [
      "len(str((1/m[3]).astype(int)))"
     ],
     "language": "python",
     "metadata": {},
     "outputs": [
      {
       "metadata": {},
       "output_type": "pyout",
       "prompt_number": 20,
       "text": [
        "1"
       ]
      }
     ],
     "prompt_number": 20
    },
    {
     "cell_type": "code",
     "collapsed": false,
     "input": [
      "eb = np.arange(10,100).reshape(90,1)\n",
      "eb = eb.astype(str)\n",
      "eb[:,0]"
     ],
     "language": "python",
     "metadata": {},
     "outputs": [
      {
       "metadata": {},
       "output_type": "pyout",
       "prompt_number": 21,
       "text": [
        "array(['10', '11', '12', '13', '14', '15', '16', '17', '18', '19', '20',\n",
        "       '21', '22', '23', '24', '25', '26', '27', '28', '29', '30', '31',\n",
        "       '32', '33', '34', '35', '36', '37', '38', '39', '40', '41', '42',\n",
        "       '43', '44', '45', '46', '47', '48', '49', '50', '51', '52', '53',\n",
        "       '54', '55', '56', '57', '58', '59', '60', '61', '62', '63', '64',\n",
        "       '65', '66', '67', '68', '69', '70', '71', '72', '73', '74', '75',\n",
        "       '76', '77', '78', '79', '80', '81', '82', '83', '84', '85', '86',\n",
        "       '87', '88', '89', '90', '91', '92', '93', '94', '95', '96', '97',\n",
        "       '98', '99'], \n",
        "      dtype='|S21')"
       ]
      }
     ],
     "prompt_number": 21
    },
    {
     "cell_type": "code",
     "collapsed": false,
     "input": [
      "eb = np.arange(10,100)\n",
      "eb = eb.astype(str)\n",
      "f = np.array([l[0] for l in eb]).reshape(90,1)\n",
      "s = np.array([l[1] for l in eb]).reshape(90,1)\n",
      "eb = np.hstack((f,s)).astype(int)\n",
      "eb[:,0]"
     ],
     "language": "python",
     "metadata": {},
     "outputs": [
      {
       "metadata": {},
       "output_type": "pyout",
       "prompt_number": 22,
       "text": [
        "array([1, 1, 1, 1, 1, 1, 1, 1, 1, 1, 2, 2, 2, 2, 2, 2, 2, 2, 2, 2, 3, 3, 3,\n",
        "       3, 3, 3, 3, 3, 3, 3, 4, 4, 4, 4, 4, 4, 4, 4, 4, 4, 5, 5, 5, 5, 5, 5,\n",
        "       5, 5, 5, 5, 6, 6, 6, 6, 6, 6, 6, 6, 6, 6, 7, 7, 7, 7, 7, 7, 7, 7, 7,\n",
        "       7, 8, 8, 8, 8, 8, 8, 8, 8, 8, 8, 9, 9, 9, 9, 9, 9, 9, 9, 9, 9])"
       ]
      }
     ],
     "prompt_number": 22
    },
    {
     "cell_type": "code",
     "collapsed": false,
     "input": [
      "e2 = np.arange(10,100)\n",
      "p = np.log10(1+(1./e2))\n",
      "plt.bar(e2,p)"
     ],
     "language": "python",
     "metadata": {},
     "outputs": [
      {
       "metadata": {},
       "output_type": "pyout",
       "prompt_number": 23,
       "text": [
        "<Container object of 90 artists>"
       ]
      },
      {
       "metadata": {},
       "output_type": "display_data",
       "png": "[encoded data removed]",
       "text": [
        "<matplotlib.figure.Figure at 0x7f13e752e090>"
       ]
      }
     ],
     "prompt_number": 23
    },
    {
     "cell_type": "code",
     "collapsed": false,
     "input": [
      "e3 = e2.astype(str)\n",
      "s = np.array([l[1] for l in e3]).astype(int)\n",
      "p[s == 0].sum()"
     ],
     "language": "python",
     "metadata": {},
     "outputs": [
      {
       "metadata": {},
       "output_type": "pyout",
       "prompt_number": 24,
       "text": [
        "0.11967926859688073"
       ]
      }
     ],
     "prompt_number": 24
    },
    {
     "cell_type": "code",
     "collapsed": false,
     "input": [
      "def __first__(output_DF=True):\n",
      "\t'''\n",
      "\tReturns the expected probabilities of the first digits\n",
      "\taccording to Benford's distribution.\n",
      "\t\n",
      "\t- output_DF: Defaluts to True, outputing a pandas DataFrame\n",
      "\t\t\t\twith the probabilities, and the respective\n",
      "\t\t\t\tdigits as the index, or a numpy array if False, when\n",
      "\t\t\t\tthere will not be an index, and one must remember\n",
      "\t\t\t\tthat the indexing for the 1 probability will be \n",
      "\t\t\t\t[0], [1] for the two, and so on up untill [8] for\n",
      "\t\t\t\tthe probability of the first digit 9.\n",
      "\t'''\n",
      "\tFirst_Dig = np.arange(1,10)\n",
      "\tExpected = np.log10(1 + (1. / First_Dig))\n",
      "\tif output_DF == False:\n",
      "\t\treturn Expected\n",
      "\telse:\n",
      "\t\treturn pd.DataFrame({'Expected':Expected,\\\n",
      "\t\t\t'First_Dig':First_Dig}).set_index('First_Dig')"
     ],
     "language": "python",
     "metadata": {},
     "outputs": [],
     "prompt_number": 25
    },
    {
     "cell_type": "code",
     "collapsed": false,
     "input": [
      "np.array(range(10)*10)"
     ],
     "language": "python",
     "metadata": {},
     "outputs": [
      {
       "metadata": {},
       "output_type": "pyout",
       "prompt_number": 26,
       "text": [
        "array([0, 1, 2, 3, 4, 5, 6, 7, 8, 9, 0, 1, 2, 3, 4, 5, 6, 7, 8, 9, 0, 1, 2,\n",
        "       3, 4, 5, 6, 7, 8, 9, 0, 1, 2, 3, 4, 5, 6, 7, 8, 9, 0, 1, 2, 3, 4, 5,\n",
        "       6, 7, 8, 9, 0, 1, 2, 3, 4, 5, 6, 7, 8, 9, 0, 1, 2, 3, 4, 5, 6, 7, 8,\n",
        "       9, 0, 1, 2, 3, 4, 5, 6, 7, 8, 9, 0, 1, 2, 3, 4, 5, 6, 7, 8, 9, 0, 1,\n",
        "       2, 3, 4, 5, 6, 7, 8, 9])"
       ]
      }
     ],
     "prompt_number": 26
    },
    {
     "cell_type": "code",
     "collapsed": false,
     "input": [
      "__first__()"
     ],
     "language": "python",
     "metadata": {},
     "outputs": [
      {
       "html": [
        "<div style=\"max-height:1000px;max-width:1500px;overflow:auto;\">\n",
        "<table border=\"1\" class=\"dataframe\">\n",
        "  <thead>\n",
        "    <tr style=\"text-align: right;\">\n",
        "      <th></th>\n",
        "      <th>Expected</th>\n",
        "    </tr>\n",
        "    <tr>\n",
        "      <th>First_Dig</th>\n",
        "      <th></th>\n",
        "    </tr>\n",
        "  </thead>\n",
        "  <tbody>\n",
        "    <tr>\n",
        "      <th>1</th>\n",
        "      <td> 0.301030</td>\n",
        "    </tr>\n",
        "    <tr>\n",
        "      <th>2</th>\n",
        "      <td> 0.176091</td>\n",
        "    </tr>\n",
        "    <tr>\n",
        "      <th>3</th>\n",
        "      <td> 0.124939</td>\n",
        "    </tr>\n",
        "    <tr>\n",
        "      <th>4</th>\n",
        "      <td> 0.096910</td>\n",
        "    </tr>\n",
        "    <tr>\n",
        "      <th>5</th>\n",
        "      <td> 0.079181</td>\n",
        "    </tr>\n",
        "    <tr>\n",
        "      <th>6</th>\n",
        "      <td> 0.066947</td>\n",
        "    </tr>\n",
        "    <tr>\n",
        "      <th>7</th>\n",
        "      <td> 0.057992</td>\n",
        "    </tr>\n",
        "    <tr>\n",
        "      <th>8</th>\n",
        "      <td> 0.051153</td>\n",
        "    </tr>\n",
        "    <tr>\n",
        "      <th>9</th>\n",
        "      <td> 0.045757</td>\n",
        "    </tr>\n",
        "  </tbody>\n",
        "</table>\n",
        "</div>"
       ],
       "metadata": {},
       "output_type": "pyout",
       "prompt_number": 27,
       "text": [
        "           Expected\n",
        "First_Dig          \n",
        "1          0.301030\n",
        "2          0.176091\n",
        "3          0.124939\n",
        "4          0.096910\n",
        "5          0.079181\n",
        "6          0.066947\n",
        "7          0.057992\n",
        "8          0.051153\n",
        "9          0.045757"
       ]
      }
     ],
     "prompt_number": 27
    },
    {
     "cell_type": "code",
     "collapsed": false,
     "input": [
      "a6 = np.arange(1,10)\n",
      "plt.bar(a6,__first__().Expected)"
     ],
     "language": "python",
     "metadata": {},
     "outputs": [
      {
       "metadata": {},
       "output_type": "pyout",
       "prompt_number": 28,
       "text": [
        "<Container object of 9 artists>"
       ]
      },
      {
       "metadata": {},
       "output_type": "display_data",
       "png": "[encoded data removed]",
       "text": [
        "<matplotlib.figure.Figure at 0x7f13e7525750>"
       ]
      }
     ],
     "prompt_number": 28
    },
    {
     "cell_type": "code",
     "collapsed": false,
     "input": [
      "def __second__(output_DF=True):\n",
      "\t'''\n",
      "\tReturns the expected probabilities of the second digits\n",
      "\taccording to Benford's distribution.\n",
      "\t\n",
      "\toutput_DF: Defaluts to Ture, Outputing a pandas DataFrame\n",
      "\t\t\twith the digit as index and the respective probability\n",
      "\t\t\tin the 'prob' column, or a numpy array if False. In\n",
      "\t\t\tthis case, coincidently the indexing within the array\n",
      "\t\t\twill match the second digits -> [0] - prob. of 0,\n",
      "\t\t\t[1] - prob of 1, and sort\ton up untill [9] - prob of 9.\n",
      "\t'''\n",
      "\ta = np.arange(10,100)\n",
      "\tExpected = np.log10(1 + (1. / a))\n",
      "\tSec_Dig = np.array(range(10)*9)\n",
      "\tif output_DF == False:\n",
      "\t\tc = np.zeros(10)\n",
      "\t\tfor n in Sec_Dig:\n",
      "\t\t\tc[n] = Expected[Sec_Dig == n].sum()\n",
      "\t\treturn c\n",
      "\telse:\n",
      "\t\td = pd.DataFrame({'Expected': Expected, 'Sec_Dig': Sec_Dig},\\\n",
      "\t\tindex = a)\n",
      "\t\treturn d.groupby('Sec_Dig').agg(sum)"
     ],
     "language": "python",
     "metadata": {},
     "outputs": [],
     "prompt_number": 29
    },
    {
     "cell_type": "code",
     "collapsed": false,
     "input": [
      "__second__()"
     ],
     "language": "python",
     "metadata": {},
     "outputs": [
      {
       "html": [
        "<div style=\"max-height:1000px;max-width:1500px;overflow:auto;\">\n",
        "<table border=\"1\" class=\"dataframe\">\n",
        "  <thead>\n",
        "    <tr style=\"text-align: right;\">\n",
        "      <th></th>\n",
        "      <th>Expected</th>\n",
        "    </tr>\n",
        "    <tr>\n",
        "      <th>Sec_Dig</th>\n",
        "      <th></th>\n",
        "    </tr>\n",
        "  </thead>\n",
        "  <tbody>\n",
        "    <tr>\n",
        "      <th>0</th>\n",
        "      <td> 0.119679</td>\n",
        "    </tr>\n",
        "    <tr>\n",
        "      <th>1</th>\n",
        "      <td> 0.113890</td>\n",
        "    </tr>\n",
        "    <tr>\n",
        "      <th>2</th>\n",
        "      <td> 0.108821</td>\n",
        "    </tr>\n",
        "    <tr>\n",
        "      <th>3</th>\n",
        "      <td> 0.104330</td>\n",
        "    </tr>\n",
        "    <tr>\n",
        "      <th>4</th>\n",
        "      <td> 0.100308</td>\n",
        "    </tr>\n",
        "    <tr>\n",
        "      <th>5</th>\n",
        "      <td> 0.096677</td>\n",
        "    </tr>\n",
        "    <tr>\n",
        "      <th>6</th>\n",
        "      <td> 0.093375</td>\n",
        "    </tr>\n",
        "    <tr>\n",
        "      <th>7</th>\n",
        "      <td> 0.090352</td>\n",
        "    </tr>\n",
        "    <tr>\n",
        "      <th>8</th>\n",
        "      <td> 0.087570</td>\n",
        "    </tr>\n",
        "    <tr>\n",
        "      <th>9</th>\n",
        "      <td> 0.084997</td>\n",
        "    </tr>\n",
        "  </tbody>\n",
        "</table>\n",
        "</div>"
       ],
       "metadata": {},
       "output_type": "pyout",
       "prompt_number": 30,
       "text": [
        "         Expected\n",
        "Sec_Dig          \n",
        "0        0.119679\n",
        "1        0.113890\n",
        "2        0.108821\n",
        "3        0.104330\n",
        "4        0.100308\n",
        "5        0.096677\n",
        "6        0.093375\n",
        "7        0.090352\n",
        "8        0.087570\n",
        "9        0.084997"
       ]
      }
     ],
     "prompt_number": 30
    },
    {
     "cell_type": "code",
     "collapsed": false,
     "input": [
      "a5 = np.arange(0,10)\n",
      "plt.plot(a5, __second__().Expected)\n",
      "plt.ylim((0,.15))"
     ],
     "language": "python",
     "metadata": {},
     "outputs": [
      {
       "metadata": {},
       "output_type": "pyout",
       "prompt_number": 31,
       "text": [
        "(0, 0.15)"
       ]
      },
      {
       "metadata": {},
       "output_type": "display_data",
       "png": "[encoded data removed]",
       "text": [
        "<matplotlib.figure.Figure at 0x7f13e7485f10>"
       ]
      }
     ],
     "prompt_number": 31
    },
    {
     "cell_type": "code",
     "collapsed": false,
     "input": [
      "g =__first__()\n",
      "g"
     ],
     "language": "python",
     "metadata": {},
     "outputs": [
      {
       "html": [
        "<div style=\"max-height:1000px;max-width:1500px;overflow:auto;\">\n",
        "<table border=\"1\" class=\"dataframe\">\n",
        "  <thead>\n",
        "    <tr style=\"text-align: right;\">\n",
        "      <th></th>\n",
        "      <th>Expected</th>\n",
        "    </tr>\n",
        "    <tr>\n",
        "      <th>First_Dig</th>\n",
        "      <th></th>\n",
        "    </tr>\n",
        "  </thead>\n",
        "  <tbody>\n",
        "    <tr>\n",
        "      <th>1</th>\n",
        "      <td> 0.301030</td>\n",
        "    </tr>\n",
        "    <tr>\n",
        "      <th>2</th>\n",
        "      <td> 0.176091</td>\n",
        "    </tr>\n",
        "    <tr>\n",
        "      <th>3</th>\n",
        "      <td> 0.124939</td>\n",
        "    </tr>\n",
        "    <tr>\n",
        "      <th>4</th>\n",
        "      <td> 0.096910</td>\n",
        "    </tr>\n",
        "    <tr>\n",
        "      <th>5</th>\n",
        "      <td> 0.079181</td>\n",
        "    </tr>\n",
        "    <tr>\n",
        "      <th>6</th>\n",
        "      <td> 0.066947</td>\n",
        "    </tr>\n",
        "    <tr>\n",
        "      <th>7</th>\n",
        "      <td> 0.057992</td>\n",
        "    </tr>\n",
        "    <tr>\n",
        "      <th>8</th>\n",
        "      <td> 0.051153</td>\n",
        "    </tr>\n",
        "    <tr>\n",
        "      <th>9</th>\n",
        "      <td> 0.045757</td>\n",
        "    </tr>\n",
        "  </tbody>\n",
        "</table>\n",
        "</div>"
       ],
       "metadata": {},
       "output_type": "pyout",
       "prompt_number": 32,
       "text": [
        "           Expected\n",
        "First_Dig          \n",
        "1          0.301030\n",
        "2          0.176091\n",
        "3          0.124939\n",
        "4          0.096910\n",
        "5          0.079181\n",
        "6          0.066947\n",
        "7          0.057992\n",
        "8          0.051153\n",
        "9          0.045757"
       ]
      }
     ],
     "prompt_number": 32
    },
    {
     "cell_type": "code",
     "collapsed": false,
     "input": [
      "__second__()"
     ],
     "language": "python",
     "metadata": {},
     "outputs": [
      {
       "html": [
        "<div style=\"max-height:1000px;max-width:1500px;overflow:auto;\">\n",
        "<table border=\"1\" class=\"dataframe\">\n",
        "  <thead>\n",
        "    <tr style=\"text-align: right;\">\n",
        "      <th></th>\n",
        "      <th>Expected</th>\n",
        "    </tr>\n",
        "    <tr>\n",
        "      <th>Sec_Dig</th>\n",
        "      <th></th>\n",
        "    </tr>\n",
        "  </thead>\n",
        "  <tbody>\n",
        "    <tr>\n",
        "      <th>0</th>\n",
        "      <td> 0.119679</td>\n",
        "    </tr>\n",
        "    <tr>\n",
        "      <th>1</th>\n",
        "      <td> 0.113890</td>\n",
        "    </tr>\n",
        "    <tr>\n",
        "      <th>2</th>\n",
        "      <td> 0.108821</td>\n",
        "    </tr>\n",
        "    <tr>\n",
        "      <th>3</th>\n",
        "      <td> 0.104330</td>\n",
        "    </tr>\n",
        "    <tr>\n",
        "      <th>4</th>\n",
        "      <td> 0.100308</td>\n",
        "    </tr>\n",
        "    <tr>\n",
        "      <th>5</th>\n",
        "      <td> 0.096677</td>\n",
        "    </tr>\n",
        "    <tr>\n",
        "      <th>6</th>\n",
        "      <td> 0.093375</td>\n",
        "    </tr>\n",
        "    <tr>\n",
        "      <th>7</th>\n",
        "      <td> 0.090352</td>\n",
        "    </tr>\n",
        "    <tr>\n",
        "      <th>8</th>\n",
        "      <td> 0.087570</td>\n",
        "    </tr>\n",
        "    <tr>\n",
        "      <th>9</th>\n",
        "      <td> 0.084997</td>\n",
        "    </tr>\n",
        "  </tbody>\n",
        "</table>\n",
        "</div>"
       ],
       "metadata": {},
       "output_type": "pyout",
       "prompt_number": 33,
       "text": [
        "         Expected\n",
        "Sec_Dig          \n",
        "0        0.119679\n",
        "1        0.113890\n",
        "2        0.108821\n",
        "3        0.104330\n",
        "4        0.100308\n",
        "5        0.096677\n",
        "6        0.093375\n",
        "7        0.090352\n",
        "8        0.087570\n",
        "9        0.084997"
       ]
      }
     ],
     "prompt_number": 33
    },
    {
     "cell_type": "code",
     "collapsed": false,
     "input": [
      "def __firstTwo__(output_DF=True):\n",
      "\t'''\n",
      "\tReturns the expected probabilities of the first two digits\n",
      "\taccording to Benford's distribution.\n",
      "\t\n",
      "\t- output_DF: Defaluts to Ture, Outputing a pandas DataFrame\n",
      "\t\t\t\tobject with the probabilities and the respective\n",
      "\t\t\t\tdigits as the index, or a numpy array if False, when\n",
      "\t\t\t\tthere will not be an index column, and one must\n",
      "\t\t\t\tremember that the indexing for the 10 probability\n",
      "\t\t\t\twill be [0], [1] for 11, and so on up untill [89] for\n",
      "\t\t\t\tthe probability of the first digit 99.\n",
      "\t'''\n",
      "\tFirst_2_Dig = np.arange(10,100)\n",
      "\tExpected = np.log10(1 + (1. / First_2_Dig))\n",
      "\tif output_DF == False:\n",
      "\t\treturn Expected\n",
      "\telse:\n",
      "\t\treturn pd.DataFrame({'First_2_Dig':First_2_Dig,\\\n",
      "\t\t\t'Expected':Expected}).set_index('First_2_Dig')"
     ],
     "language": "python",
     "metadata": {},
     "outputs": [],
     "prompt_number": 34
    },
    {
     "cell_type": "code",
     "collapsed": false,
     "input": [
      "__firstTwo__().head()"
     ],
     "language": "python",
     "metadata": {},
     "outputs": [
      {
       "html": [
        "<div style=\"max-height:1000px;max-width:1500px;overflow:auto;\">\n",
        "<table border=\"1\" class=\"dataframe\">\n",
        "  <thead>\n",
        "    <tr style=\"text-align: right;\">\n",
        "      <th></th>\n",
        "      <th>Expected</th>\n",
        "    </tr>\n",
        "    <tr>\n",
        "      <th>First_2_Dig</th>\n",
        "      <th></th>\n",
        "    </tr>\n",
        "  </thead>\n",
        "  <tbody>\n",
        "    <tr>\n",
        "      <th>10</th>\n",
        "      <td> 0.041393</td>\n",
        "    </tr>\n",
        "    <tr>\n",
        "      <th>11</th>\n",
        "      <td> 0.037789</td>\n",
        "    </tr>\n",
        "    <tr>\n",
        "      <th>12</th>\n",
        "      <td> 0.034762</td>\n",
        "    </tr>\n",
        "    <tr>\n",
        "      <th>13</th>\n",
        "      <td> 0.032185</td>\n",
        "    </tr>\n",
        "    <tr>\n",
        "      <th>14</th>\n",
        "      <td> 0.029963</td>\n",
        "    </tr>\n",
        "  </tbody>\n",
        "</table>\n",
        "</div>"
       ],
       "metadata": {},
       "output_type": "pyout",
       "prompt_number": 35,
       "text": [
        "             Expected\n",
        "First_2_Dig          \n",
        "10           0.041393\n",
        "11           0.037789\n",
        "12           0.034762\n",
        "13           0.032185\n",
        "14           0.029963"
       ]
      }
     ],
     "prompt_number": 35
    },
    {
     "cell_type": "code",
     "collapsed": false,
     "input": [
      "r = np.absolute(1000 * np.random.randn(1000))\n",
      "r[:10]"
     ],
     "language": "python",
     "metadata": {},
     "outputs": [
      {
       "metadata": {},
       "output_type": "pyout",
       "prompt_number": 36,
       "text": [
        "array([   42.17309903,   714.37505374,  1877.96389175,   802.92026212,\n",
        "         332.25890932,   628.27928616,   338.20932656,  1472.11996733,\n",
        "         812.35019525,  1915.82868872])"
       ]
      }
     ],
     "prompt_number": 36
    },
    {
     "cell_type": "code",
     "collapsed": false,
     "input": [
      "a = pd.Series(r)\n",
      "a.head()"
     ],
     "language": "python",
     "metadata": {},
     "outputs": [
      {
       "metadata": {},
       "output_type": "pyout",
       "prompt_number": 37,
       "text": [
        "0      42.173099\n",
        "1     714.375054\n",
        "2    1877.963892\n",
        "3     802.920262\n",
        "4     332.258909\n",
        "dtype: float64"
       ]
      }
     ],
     "prompt_number": 37
    },
    {
     "cell_type": "code",
     "collapsed": false,
     "input": [
      "a = a[a >= 10]\n",
      "a.head()"
     ],
     "language": "python",
     "metadata": {},
     "outputs": [
      {
       "metadata": {},
       "output_type": "pyout",
       "prompt_number": 38,
       "text": [
        "0      42.173099\n",
        "1     714.375054\n",
        "2    1877.963892\n",
        "3     802.920262\n",
        "4     332.258909\n",
        "dtype: float64"
       ]
      }
     ],
     "prompt_number": 38
    },
    {
     "cell_type": "code",
     "collapsed": false,
     "input": [
      "a = a.apply(str).apply(lambda x: x[:2]).apply(int)\n",
      "a.head()"
     ],
     "language": "python",
     "metadata": {},
     "outputs": [
      {
       "metadata": {},
       "output_type": "pyout",
       "prompt_number": 39,
       "text": [
        "0    42\n",
        "1    71\n",
        "2    18\n",
        "3    80\n",
        "4    33\n",
        "dtype: int64"
       ]
      }
     ],
     "prompt_number": 39
    },
    {
     "cell_type": "code",
     "collapsed": false,
     "input": [
      "v = a.value_counts()\n",
      "v.head()"
     ],
     "language": "python",
     "metadata": {},
     "outputs": [
      {
       "metadata": {},
       "output_type": "pyout",
       "prompt_number": 40,
       "text": [
        "11    51\n",
        "13    47\n",
        "12    44\n",
        "10    40\n",
        "14    40\n",
        "dtype: int64"
       ]
      }
     ],
     "prompt_number": 40
    },
    {
     "cell_type": "code",
     "collapsed": false,
     "input": [
      "p = a.value_counts(normalize=True)\n",
      "p.head()"
     ],
     "language": "python",
     "metadata": {},
     "outputs": [
      {
       "metadata": {},
       "output_type": "pyout",
       "prompt_number": 41,
       "text": [
        "11    0.051308\n",
        "13    0.047284\n",
        "12    0.044266\n",
        "10    0.040241\n",
        "14    0.040241\n",
        "dtype: float64"
       ]
      }
     ],
     "prompt_number": 41
    },
    {
     "cell_type": "code",
     "collapsed": false,
     "input": [
      "df = pd.DataFrame({'Counts': v, 'Found': p}).sort_index()\n",
      "df.head()"
     ],
     "language": "python",
     "metadata": {},
     "outputs": [
      {
       "html": [
        "<div style=\"max-height:1000px;max-width:1500px;overflow:auto;\">\n",
        "<table border=\"1\" class=\"dataframe\">\n",
        "  <thead>\n",
        "    <tr style=\"text-align: right;\">\n",
        "      <th></th>\n",
        "      <th>Counts</th>\n",
        "      <th>Found</th>\n",
        "    </tr>\n",
        "  </thead>\n",
        "  <tbody>\n",
        "    <tr>\n",
        "      <th>10</th>\n",
        "      <td> 40</td>\n",
        "      <td> 0.040241</td>\n",
        "    </tr>\n",
        "    <tr>\n",
        "      <th>11</th>\n",
        "      <td> 51</td>\n",
        "      <td> 0.051308</td>\n",
        "    </tr>\n",
        "    <tr>\n",
        "      <th>12</th>\n",
        "      <td> 44</td>\n",
        "      <td> 0.044266</td>\n",
        "    </tr>\n",
        "    <tr>\n",
        "      <th>13</th>\n",
        "      <td> 47</td>\n",
        "      <td> 0.047284</td>\n",
        "    </tr>\n",
        "    <tr>\n",
        "      <th>14</th>\n",
        "      <td> 40</td>\n",
        "      <td> 0.040241</td>\n",
        "    </tr>\n",
        "  </tbody>\n",
        "</table>\n",
        "</div>"
       ],
       "metadata": {},
       "output_type": "pyout",
       "prompt_number": 42,
       "text": [
        "    Counts     Found\n",
        "10      40  0.040241\n",
        "11      51  0.051308\n",
        "12      44  0.044266\n",
        "13      47  0.047284\n",
        "14      40  0.040241"
       ]
      }
     ],
     "prompt_number": 42
    },
    {
     "cell_type": "code",
     "collapsed": false,
     "input": [
      "len(df.index)"
     ],
     "language": "python",
     "metadata": {},
     "outputs": [
      {
       "metadata": {},
       "output_type": "pyout",
       "prompt_number": 43,
       "text": [
        "90"
       ]
      }
     ],
     "prompt_number": 43
    },
    {
     "cell_type": "code",
     "collapsed": false,
     "input": [
      "# if len(df.index<90):\n",
      "df2 = df.reindex(np.arange(10,100))\n"
     ],
     "language": "python",
     "metadata": {},
     "outputs": [],
     "prompt_number": 44
    },
    {
     "cell_type": "code",
     "collapsed": false,
     "input": [
      "df2.ix[df2.Counts.isnull()]"
     ],
     "language": "python",
     "metadata": {},
     "outputs": [
      {
       "html": [
        "<div style=\"max-height:1000px;max-width:1500px;overflow:auto;\">\n",
        "<table border=\"1\" class=\"dataframe\">\n",
        "  <thead>\n",
        "    <tr style=\"text-align: right;\">\n",
        "      <th></th>\n",
        "      <th>Counts</th>\n",
        "      <th>Found</th>\n",
        "    </tr>\n",
        "  </thead>\n",
        "  <tbody>\n",
        "  </tbody>\n",
        "</table>\n",
        "</div>"
       ],
       "metadata": {},
       "output_type": "pyout",
       "prompt_number": 45,
       "text": [
        "Empty DataFrame\n",
        "Columns: [Counts, Found]\n",
        "Index: []"
       ]
      }
     ],
     "prompt_number": 45
    },
    {
     "cell_type": "code",
     "collapsed": false,
     "input": [
      "df2 = df2.fillna(0)\n",
      "df2.ix[df2.Counts.isnull()]"
     ],
     "language": "python",
     "metadata": {},
     "outputs": [
      {
       "html": [
        "<div style=\"max-height:1000px;max-width:1500px;overflow:auto;\">\n",
        "<table border=\"1\" class=\"dataframe\">\n",
        "  <thead>\n",
        "    <tr style=\"text-align: right;\">\n",
        "      <th></th>\n",
        "      <th>Counts</th>\n",
        "      <th>Found</th>\n",
        "    </tr>\n",
        "  </thead>\n",
        "  <tbody>\n",
        "  </tbody>\n",
        "</table>\n",
        "</div>"
       ],
       "metadata": {},
       "output_type": "pyout",
       "prompt_number": 46,
       "text": [
        "Empty DataFrame\n",
        "Columns: [Counts, Found]\n",
        "Index: []"
       ]
      }
     ],
     "prompt_number": 46
    },
    {
     "cell_type": "code",
     "collapsed": false,
     "input": [
      "df2 = __firstTwo__().join(df2)\n",
      "df2.head()"
     ],
     "language": "python",
     "metadata": {},
     "outputs": [
      {
       "html": [
        "<div style=\"max-height:1000px;max-width:1500px;overflow:auto;\">\n",
        "<table border=\"1\" class=\"dataframe\">\n",
        "  <thead>\n",
        "    <tr style=\"text-align: right;\">\n",
        "      <th></th>\n",
        "      <th>Expected</th>\n",
        "      <th>Counts</th>\n",
        "      <th>Found</th>\n",
        "    </tr>\n",
        "    <tr>\n",
        "      <th>First_2_Dig</th>\n",
        "      <th></th>\n",
        "      <th></th>\n",
        "      <th></th>\n",
        "    </tr>\n",
        "  </thead>\n",
        "  <tbody>\n",
        "    <tr>\n",
        "      <th>10</th>\n",
        "      <td> 0.041393</td>\n",
        "      <td> 40</td>\n",
        "      <td> 0.040241</td>\n",
        "    </tr>\n",
        "    <tr>\n",
        "      <th>11</th>\n",
        "      <td> 0.037789</td>\n",
        "      <td> 51</td>\n",
        "      <td> 0.051308</td>\n",
        "    </tr>\n",
        "    <tr>\n",
        "      <th>12</th>\n",
        "      <td> 0.034762</td>\n",
        "      <td> 44</td>\n",
        "      <td> 0.044266</td>\n",
        "    </tr>\n",
        "    <tr>\n",
        "      <th>13</th>\n",
        "      <td> 0.032185</td>\n",
        "      <td> 47</td>\n",
        "      <td> 0.047284</td>\n",
        "    </tr>\n",
        "    <tr>\n",
        "      <th>14</th>\n",
        "      <td> 0.029963</td>\n",
        "      <td> 40</td>\n",
        "      <td> 0.040241</td>\n",
        "    </tr>\n",
        "  </tbody>\n",
        "</table>\n",
        "</div>"
       ],
       "metadata": {},
       "output_type": "pyout",
       "prompt_number": 47,
       "text": [
        "             Expected  Counts     Found\n",
        "First_2_Dig                            \n",
        "10           0.041393      40  0.040241\n",
        "11           0.037789      51  0.051308\n",
        "12           0.034762      44  0.044266\n",
        "13           0.032185      47  0.047284\n",
        "14           0.029963      40  0.040241"
       ]
      }
     ],
     "prompt_number": 47
    },
    {
     "cell_type": "code",
     "collapsed": false,
     "input": [
      "fig = plt.figure(figsize=(15,10))\n",
      "ax = fig.add_subplot(111)\n",
      "ax.bar(df2.index, df2.Found)\n",
      "ax.plot(df2.index,df2.Expected, color='r',linewidth=2.5)\n",
      "\n"
     ],
     "language": "python",
     "metadata": {},
     "outputs": [
      {
       "metadata": {},
       "output_type": "pyout",
       "prompt_number": 48,
       "text": [
        "[<matplotlib.lines.Line2D at 0x7f13e70ec350>]"
       ]
      },
      {
       "metadata": {},
       "output_type": "display_data",
       "png": "[encoded data removed]",
       "text": [
        "<matplotlib.figure.Figure at 0x7f13e7152f50>"
       ]
      }
     ],
     "prompt_number": 48
    },
    {
     "cell_type": "code",
     "collapsed": false,
     "input": [
      "df2['AbsDif'] = np.absolute(df2.Found - df2.Expected)\n",
      "df2[30:40]"
     ],
     "language": "python",
     "metadata": {},
     "outputs": [
      {
       "html": [
        "<div style=\"max-height:1000px;max-width:1500px;overflow:auto;\">\n",
        "<table border=\"1\" class=\"dataframe\">\n",
        "  <thead>\n",
        "    <tr style=\"text-align: right;\">\n",
        "      <th></th>\n",
        "      <th>Expected</th>\n",
        "      <th>Counts</th>\n",
        "      <th>Found</th>\n",
        "      <th>AbsDif</th>\n",
        "    </tr>\n",
        "    <tr>\n",
        "      <th>First_2_Dig</th>\n",
        "      <th></th>\n",
        "      <th></th>\n",
        "      <th></th>\n",
        "      <th></th>\n",
        "    </tr>\n",
        "  </thead>\n",
        "  <tbody>\n",
        "    <tr>\n",
        "      <th>40</th>\n",
        "      <td> 0.010724</td>\n",
        "      <td>  8</td>\n",
        "      <td> 0.008048</td>\n",
        "      <td> 0.002676</td>\n",
        "    </tr>\n",
        "    <tr>\n",
        "      <th>41</th>\n",
        "      <td> 0.010465</td>\n",
        "      <td>  6</td>\n",
        "      <td> 0.006036</td>\n",
        "      <td> 0.004429</td>\n",
        "    </tr>\n",
        "    <tr>\n",
        "      <th>42</th>\n",
        "      <td> 0.010219</td>\n",
        "      <td>  8</td>\n",
        "      <td> 0.008048</td>\n",
        "      <td> 0.002171</td>\n",
        "    </tr>\n",
        "    <tr>\n",
        "      <th>43</th>\n",
        "      <td> 0.009984</td>\n",
        "      <td>  9</td>\n",
        "      <td> 0.009054</td>\n",
        "      <td> 0.000930</td>\n",
        "    </tr>\n",
        "    <tr>\n",
        "      <th>44</th>\n",
        "      <td> 0.009760</td>\n",
        "      <td> 12</td>\n",
        "      <td> 0.012072</td>\n",
        "      <td> 0.002313</td>\n",
        "    </tr>\n",
        "    <tr>\n",
        "      <th>45</th>\n",
        "      <td> 0.009545</td>\n",
        "      <td>  9</td>\n",
        "      <td> 0.009054</td>\n",
        "      <td> 0.000491</td>\n",
        "    </tr>\n",
        "    <tr>\n",
        "      <th>46</th>\n",
        "      <td> 0.009340</td>\n",
        "      <td>  6</td>\n",
        "      <td> 0.006036</td>\n",
        "      <td> 0.003304</td>\n",
        "    </tr>\n",
        "    <tr>\n",
        "      <th>47</th>\n",
        "      <td> 0.009143</td>\n",
        "      <td>  8</td>\n",
        "      <td> 0.008048</td>\n",
        "      <td> 0.001095</td>\n",
        "    </tr>\n",
        "    <tr>\n",
        "      <th>48</th>\n",
        "      <td> 0.008955</td>\n",
        "      <td> 11</td>\n",
        "      <td> 0.011066</td>\n",
        "      <td> 0.002112</td>\n",
        "    </tr>\n",
        "    <tr>\n",
        "      <th>49</th>\n",
        "      <td> 0.008774</td>\n",
        "      <td> 10</td>\n",
        "      <td> 0.010060</td>\n",
        "      <td> 0.001286</td>\n",
        "    </tr>\n",
        "  </tbody>\n",
        "</table>\n",
        "</div>"
       ],
       "metadata": {},
       "output_type": "pyout",
       "prompt_number": 49,
       "text": [
        "             Expected  Counts     Found    AbsDif\n",
        "First_2_Dig                                      \n",
        "40           0.010724       8  0.008048  0.002676\n",
        "41           0.010465       6  0.006036  0.004429\n",
        "42           0.010219       8  0.008048  0.002171\n",
        "43           0.009984       9  0.009054  0.000930\n",
        "44           0.009760      12  0.012072  0.002313\n",
        "45           0.009545       9  0.009054  0.000491\n",
        "46           0.009340       6  0.006036  0.003304\n",
        "47           0.009143       8  0.008048  0.001095\n",
        "48           0.008955      11  0.011066  0.002112\n",
        "49           0.008774      10  0.010060  0.001286"
       ]
      }
     ],
     "prompt_number": 49
    },
    {
     "cell_type": "code",
     "collapsed": false,
     "input": [
      "df2['Z'] = (df2.AbsDif - (1/2*len(r)))/(np.sqrt(df2.Expected*\\\n",
      "                                                (1-df2.Expected)/len(r)))\n",
      "df2.head()"
     ],
     "language": "python",
     "metadata": {},
     "outputs": [
      {
       "html": [
        "<div style=\"max-height:1000px;max-width:1500px;overflow:auto;\">\n",
        "<table border=\"1\" class=\"dataframe\">\n",
        "  <thead>\n",
        "    <tr style=\"text-align: right;\">\n",
        "      <th></th>\n",
        "      <th>Expected</th>\n",
        "      <th>Counts</th>\n",
        "      <th>Found</th>\n",
        "      <th>AbsDif</th>\n",
        "      <th>Z</th>\n",
        "    </tr>\n",
        "    <tr>\n",
        "      <th>First_2_Dig</th>\n",
        "      <th></th>\n",
        "      <th></th>\n",
        "      <th></th>\n",
        "      <th></th>\n",
        "      <th></th>\n",
        "    </tr>\n",
        "  </thead>\n",
        "  <tbody>\n",
        "    <tr>\n",
        "      <th>10</th>\n",
        "      <td> 0.041393</td>\n",
        "      <td> 40</td>\n",
        "      <td> 0.040241</td>\n",
        "      <td> 0.001151</td>\n",
        "      <td> 0.182761</td>\n",
        "    </tr>\n",
        "    <tr>\n",
        "      <th>11</th>\n",
        "      <td> 0.037789</td>\n",
        "      <td> 51</td>\n",
        "      <td> 0.051308</td>\n",
        "      <td> 0.013519</td>\n",
        "      <td> 2.242014</td>\n",
        "    </tr>\n",
        "    <tr>\n",
        "      <th>12</th>\n",
        "      <td> 0.034762</td>\n",
        "      <td> 44</td>\n",
        "      <td> 0.044266</td>\n",
        "      <td> 0.009503</td>\n",
        "      <td> 1.640638</td>\n",
        "    </tr>\n",
        "    <tr>\n",
        "      <th>13</th>\n",
        "      <td> 0.032185</td>\n",
        "      <td> 47</td>\n",
        "      <td> 0.047284</td>\n",
        "      <td> 0.015099</td>\n",
        "      <td> 2.705377</td>\n",
        "    </tr>\n",
        "    <tr>\n",
        "      <th>14</th>\n",
        "      <td> 0.029963</td>\n",
        "      <td> 40</td>\n",
        "      <td> 0.040241</td>\n",
        "      <td> 0.010278</td>\n",
        "      <td> 1.906469</td>\n",
        "    </tr>\n",
        "  </tbody>\n",
        "</table>\n",
        "</div>"
       ],
       "metadata": {},
       "output_type": "pyout",
       "prompt_number": 50,
       "text": [
        "             Expected  Counts     Found    AbsDif         Z\n",
        "First_2_Dig                                                \n",
        "10           0.041393      40  0.040241  0.001151  0.182761\n",
        "11           0.037789      51  0.051308  0.013519  2.242014\n",
        "12           0.034762      44  0.044266  0.009503  1.640638\n",
        "13           0.032185      47  0.047284  0.015099  2.705377\n",
        "14           0.029963      40  0.040241  0.010278  1.906469"
       ]
      }
     ],
     "prompt_number": 50
    },
    {
     "cell_type": "code",
     "collapsed": false,
     "input": [
      "print df2[['Expected','Found','Z']].sort('Z',ascending=False).head(10)"
     ],
     "language": "python",
     "metadata": {},
     "outputs": [
      {
       "output_type": "stream",
       "stream": "stdout",
       "text": [
        "             Expected     Found         Z\n",
        "First_2_Dig                              \n",
        "96           0.004501  0.011066  3.102009\n",
        "95           0.004548  0.011066  3.063818\n",
        "13           0.032185  0.047284  2.705377\n",
        "25           0.017033  0.006036  2.687570\n",
        "63           0.006839  0.013078  2.393860\n",
        "29           0.014723  0.006036  2.280819\n",
        "21           0.020203  0.010060  2.279751\n",
        "11           0.037789  0.051308  2.242014\n",
        "97           0.004454  0.009054  2.184409\n",
        "34           0.012589  0.005030  2.143949\n"
       ]
      }
     ],
     "prompt_number": 51
    },
    {
     "cell_type": "code",
     "collapsed": false,
     "input": [
      "mad = df2.AbsDif.mean()\n",
      "mad"
     ],
     "language": "python",
     "metadata": {},
     "outputs": [
      {
       "metadata": {},
       "output_type": "pyout",
       "prompt_number": 52,
       "text": [
        "0.0033431658225068568"
       ]
      }
     ],
     "prompt_number": 52
    },
    {
     "cell_type": "code",
     "collapsed": false,
     "input": [
      "q = (df2.AbsDif**2)\n",
      "q.mean()"
     ],
     "language": "python",
     "metadata": {},
     "outputs": [
      {
       "metadata": {},
       "output_type": "pyout",
       "prompt_number": 53,
       "text": [
        "1.9652996363032658e-05"
       ]
      }
     ],
     "prompt_number": 53
    },
    {
     "cell_type": "code",
     "collapsed": false,
     "input": [
      "def __MAD__(df):\n",
      "\ttry:\n",
      "\t\treturn df.AbsDif.mean()\n",
      "\texcept:\n",
      "\t\tdf['AbsDif'] = np.absolute(df.Found-df.Expected)\n",
      "\t\treturn df.AbsDif.mean()"
     ],
     "language": "python",
     "metadata": {},
     "outputs": [],
     "prompt_number": 54
    },
    {
     "cell_type": "code",
     "collapsed": false,
     "input": [
      "df3 = df2[['Expected','Counts','Found']]\n",
      "MAD = __MAD__(df3)\n",
      "MAD"
     ],
     "language": "python",
     "metadata": {},
     "outputs": [
      {
       "output_type": "stream",
       "stream": "stderr",
       "text": [
        "-c:5: SettingWithCopyWarning: \n",
        "A value is trying to be set on a copy of a slice from a DataFrame.\n",
        "Try using .loc[row_indexer,col_indexer] = value instead\n",
        "\n",
        "See the the caveats in the documentation: http://pandas.pydata.org/pandas-docs/stable/indexing.html#indexing-view-versus-copy\n"
       ]
      },
      {
       "metadata": {},
       "output_type": "pyout",
       "prompt_number": 55,
       "text": [
        "0.0033431658225068568"
       ]
      }
     ],
     "prompt_number": 55
    },
    {
     "cell_type": "code",
     "collapsed": false,
     "input": [
      "N= len(r)\n",
      "sig_5 = 1.96 * np.sqrt(df2.Expected*(1-df2.Expected)/N)\n",
      "upper = df2.Expected + sig_5 + (1/(2*N))\n",
      "lower = df2.Expected - sig_5 - (1/(2*N))\n",
      "fig = plt.figure(figsize=(15,10))\n",
      "ax = fig.add_subplot(111)\n",
      "ax.bar(df2.index, df2.Found)\n",
      "ax.plot(df2.index,df2.Expected, color='g',linewidth=2.5)\n",
      "ax.plot(df2.index, upper, color= 'r')\n",
      "ax.plot(df2.index, lower, color= 'r')\n",
      "ax.fill_between(df2.index, upper,lower, color='r', alpha=.3)"
     ],
     "language": "python",
     "metadata": {},
     "outputs": [
      {
       "metadata": {},
       "output_type": "pyout",
       "prompt_number": 56,
       "text": [
        "<matplotlib.collections.PolyCollection at 0x7f13e6cfc810>"
       ]
      },
      {
       "metadata": {},
       "output_type": "display_data",
       "png": "[encoded data removed]",
       "text": [
        "<matplotlib.figure.Figure at 0x7f13e75f8810>"
       ]
      }
     ],
     "prompt_number": 56
    },
    {
     "cell_type": "code",
     "collapsed": false,
     "input": [],
     "language": "python",
     "metadata": {},
     "outputs": [],
     "prompt_number": 56
    },
    {
     "cell_type": "code",
     "collapsed": false,
     "input": [],
     "language": "python",
     "metadata": {},
     "outputs": [],
     "prompt_number": 56
    },
    {
     "cell_type": "code",
     "collapsed": false,
     "input": [],
     "language": "python",
     "metadata": {},
     "outputs": [],
     "prompt_number": 56
    },
    {
     "cell_type": "code",
     "collapsed": false,
     "input": [],
     "language": "python",
     "metadata": {},
     "outputs": [],
     "prompt_number": 56
    }
   ],
   "metadata": {}
  }
 ]
}