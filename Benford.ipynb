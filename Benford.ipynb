{
 "metadata": {
  "name": "",
  "signature": "sha256:ebd12fa793aabbe9e13ac234838292ade2e4b2495a5db6b40e329cc45f766174"
 },
 "nbformat": 3,
 "nbformat_minor": 0,
 "worksheets": [
  {
   "cells": [
    {
     "cell_type": "code",
     "collapsed": false,
     "input": [
      "import pandas as pd\n",
      "import numpy as np\n",
      "import matplotlib.pyplot as plt"
     ],
     "language": "python",
     "metadata": {},
     "outputs": [],
     "prompt_number": 1
    },
    {
     "cell_type": "code",
     "collapsed": false,
     "input": [
      "t = np.arange(10,1000,10)"
     ],
     "language": "python",
     "metadata": {},
     "outputs": [],
     "prompt_number": 2
    },
    {
     "cell_type": "code",
     "collapsed": false,
     "input": [
      "t[:10]"
     ],
     "language": "python",
     "metadata": {},
     "outputs": [
      {
       "metadata": {},
       "output_type": "pyout",
       "prompt_number": 3,
       "text": [
        "array([ 10,  20,  30,  40,  50,  60,  70,  80,  90, 100])"
       ]
      }
     ],
     "prompt_number": 3
    },
    {
     "cell_type": "heading",
     "level": 4,
     "metadata": {},
     "source": [
      "Getting the Mantissas"
     ]
    },
    {
     "cell_type": "code",
     "collapsed": false,
     "input": [
      "np.log10(t) - np.log10(t).astype(int)"
     ],
     "language": "python",
     "metadata": {},
     "outputs": [
      {
       "metadata": {},
       "output_type": "pyout",
       "prompt_number": 4,
       "text": [
        "array([ 0.        ,  0.30103   ,  0.47712125,  0.60205999,  0.69897   ,\n",
        "        0.77815125,  0.84509804,  0.90308999,  0.95424251,  0.        ,\n",
        "        0.04139269,  0.07918125,  0.11394335,  0.14612804,  0.17609126,\n",
        "        0.20411998,  0.23044892,  0.25527251,  0.2787536 ,  0.30103   ,\n",
        "        0.32221929,  0.34242268,  0.36172784,  0.38021124,  0.39794001,\n",
        "        0.41497335,  0.43136376,  0.44715803,  0.462398  ,  0.47712125,\n",
        "        0.49136169,  0.50514998,  0.51851394,  0.53147892,  0.54406804,\n",
        "        0.5563025 ,  0.56820172,  0.5797836 ,  0.59106461,  0.60205999,\n",
        "        0.61278386,  0.62324929,  0.63346846,  0.64345268,  0.65321251,\n",
        "        0.66275783,  0.67209786,  0.68124124,  0.69019608,  0.69897   ,\n",
        "        0.70757018,  0.71600334,  0.72427587,  0.73239376,  0.74036269,\n",
        "        0.74818803,  0.75587486,  0.76342799,  0.77085201,  0.77815125,\n",
        "        0.78532984,  0.79239169,  0.79934055,  0.80617997,  0.81291336,\n",
        "        0.81954394,  0.8260748 ,  0.83250891,  0.83884909,  0.84509804,\n",
        "        0.85125835,  0.8573325 ,  0.86332286,  0.86923172,  0.87506126,\n",
        "        0.88081359,  0.88649073,  0.8920946 ,  0.89762709,  0.90308999,\n",
        "        0.90848502,  0.91381385,  0.91907809,  0.92427929,  0.92941893,\n",
        "        0.93449845,  0.93951925,  0.94448267,  0.94939001,  0.95424251,\n",
        "        0.95904139,  0.96378783,  0.96848295,  0.97312785,  0.97772361,\n",
        "        0.98227123,  0.98677173,  0.99122608,  0.99563519])"
       ]
      }
     ],
     "prompt_number": 4
    },
    {
     "cell_type": "code",
     "collapsed": false,
     "input": [
      "g = np.random.randint(1000, size =200)\n",
      "g"
     ],
     "language": "python",
     "metadata": {},
     "outputs": [
      {
       "metadata": {},
       "output_type": "pyout",
       "prompt_number": 5,
       "text": [
        "array([310, 361, 211, 324, 624, 797,  70, 328, 196, 198, 549, 505, 395,\n",
        "        56, 864, 840, 436, 388, 845, 233, 540, 402, 569, 173, 442, 515,\n",
        "       865, 879, 622, 319, 483, 555, 217, 488, 940, 867, 630, 335, 541,\n",
        "       178, 604, 544, 663,  79, 996, 422, 336,  60, 587,  90, 905, 807,\n",
        "       792, 774, 642, 241, 742, 991, 108, 701, 453, 748, 208, 705,  32,\n",
        "       492,   5, 909, 914, 828, 355, 711, 988, 444, 995, 680, 890, 117,\n",
        "       967, 870, 337, 589, 168, 919, 378, 327, 811,  26,  79,  45,  86,\n",
        "       326, 133,  51, 618, 442, 254, 850,  92, 799, 687, 212, 949, 411,\n",
        "        81, 386, 383, 382, 488, 961, 865, 671, 311, 411, 335, 437, 640,\n",
        "       805, 560, 386, 947, 740, 499, 637,  93, 212, 277, 414,  55, 262,\n",
        "       342, 557, 458, 565,  30, 370, 664, 199, 737, 733, 243, 612, 183,\n",
        "       146, 941, 647, 224, 865, 489,  76, 216, 796, 897, 503, 246, 376,\n",
        "        87, 146, 866, 605, 348,  35, 655, 137, 247, 568, 756,   3, 365,\n",
        "       695, 202, 238,  66, 526, 508, 216, 121, 218, 604, 860, 423, 757,\n",
        "       362, 897, 605, 270, 518, 668, 966, 377, 924, 576,  47, 186, 311,\n",
        "        78, 206, 189, 883, 327])"
       ]
      }
     ],
     "prompt_number": 5
    },
    {
     "cell_type": "code",
     "collapsed": false,
     "input": [
      "m = np.log10(g) - np.log10(g).astype(int)\n",
      "m"
     ],
     "language": "python",
     "metadata": {},
     "outputs": [
      {
       "metadata": {},
       "output_type": "pyout",
       "prompt_number": 6,
       "text": [
        "array([ 0.49136169,  0.5575072 ,  0.32428246,  0.51054501,  0.79518459,\n",
        "        0.90145832,  0.84509804,  0.51587384,  0.29225607,  0.29666519,\n",
        "        0.73957234,  0.70329138,  0.5965971 ,  0.74818803,  0.93651374,\n",
        "        0.92427929,  0.63948649,  0.58883173,  0.92685671,  0.36735592,\n",
        "        0.73239376,  0.60422605,  0.75511227,  0.2380461 ,  0.64542227,\n",
        "        0.71180723,  0.93701611,  0.94398888,  0.79379038,  0.50379068,\n",
        "        0.68394713,  0.74429298,  0.33645973,  0.68841982,  0.97312785,\n",
        "        0.9380191 ,  0.79934055,  0.52504481,  0.73319727,  0.25042   ,\n",
        "        0.78103694,  0.7355989 ,  0.82151353,  0.89762709,  0.99825934,\n",
        "        0.62531245,  0.52633928,  0.77815125,  0.7686381 ,  0.95424251,\n",
        "        0.95664858,  0.90687353,  0.89872518,  0.88874096,  0.80753503,\n",
        "        0.38201704,  0.87040391,  0.99607365,  0.03342376,  0.84571802,\n",
        "        0.6560982 ,  0.8739016 ,  0.31806333,  0.84818912,  0.50514998,\n",
        "        0.6919651 ,  0.69897   ,  0.95856388,  0.9609462 ,  0.91803034,\n",
        "        0.55022835,  0.8518696 ,  0.99475694,  0.64738297,  0.99782308,\n",
        "        0.83250891,  0.94939001,  0.06818586,  0.98542647,  0.93951925,\n",
        "        0.5276299 ,  0.77011529,  0.22530928,  0.96331551,  0.5774918 ,\n",
        "        0.51454775,  0.90902085,  0.41497335,  0.89762709,  0.65321251,\n",
        "        0.93449845,  0.5132176 ,  0.12385164,  0.70757018,  0.79098848,\n",
        "        0.64542227,  0.40483372,  0.92941893,  0.96378783,  0.90254678,\n",
        "        0.83695674,  0.32633586,  0.97726621,  0.61384182,  0.90848502,\n",
        "        0.5865873 ,  0.58319877,  0.58206336,  0.68841982,  0.98272339,\n",
        "        0.93701611,  0.82672252,  0.49276039,  0.61384182,  0.52504481,\n",
        "        0.64048144,  0.80617997,  0.90579588,  0.74818803,  0.5865873 ,\n",
        "        0.97634998,  0.86923172,  0.69810055,  0.80413943,  0.96848295,\n",
        "        0.32633586,  0.44247977,  0.61700034,  0.74036269,  0.41830129,\n",
        "        0.53402611,  0.7458552 ,  0.66086548,  0.75204845,  0.47712125,\n",
        "        0.56820172,  0.82216808,  0.29885308,  0.86746749,  0.86510397,\n",
        "        0.38560627,  0.78675142,  0.26245109,  0.16435286,  0.97358962,\n",
        "        0.81090428,  0.35024802,  0.93701611,  0.68930886,  0.88081359,\n",
        "        0.33445375,  0.90091307,  0.95279244,  0.70156799,  0.39093511,\n",
        "        0.57518784,  0.93951925,  0.16435286,  0.93751789,  0.78175537,\n",
        "        0.54157924,  0.54406804,  0.8162413 ,  0.13672057,  0.39269695,\n",
        "        0.75434834,  0.8785218 ,  0.47712125,  0.56229286,  0.8419848 ,\n",
        "        0.30535137,  0.37657696,  0.81954394,  0.72098574,  0.70586371,\n",
        "        0.33445375,  0.08278537,  0.33845649,  0.78103694,  0.93449845,\n",
        "        0.62634037,  0.87909588,  0.55870857,  0.95279244,  0.78175537,\n",
        "        0.43136376,  0.71432976,  0.82477646,  0.98497713,  0.57634135,\n",
        "        0.96567197,  0.76042248,  0.67209786,  0.26951294,  0.49276039,\n",
        "        0.8920946 ,  0.31386722,  0.2764618 ,  0.9459607 ,  0.51454775])"
       ]
      }
     ],
     "prompt_number": 6
    },
    {
     "cell_type": "heading",
     "level": 4,
     "metadata": {},
     "source": [
      "Ordering the Mantissas and Plotting"
     ]
    },
    {
     "cell_type": "code",
     "collapsed": false,
     "input": [
      "m.sort()\n",
      "m"
     ],
     "language": "python",
     "metadata": {},
     "outputs": [
      {
       "metadata": {},
       "output_type": "pyout",
       "prompt_number": 7,
       "text": [
        "array([ 0.03342376,  0.06818586,  0.08278537,  0.12385164,  0.13672057,\n",
        "        0.16435286,  0.16435286,  0.22530928,  0.2380461 ,  0.25042   ,\n",
        "        0.26245109,  0.26951294,  0.2764618 ,  0.29225607,  0.29666519,\n",
        "        0.29885308,  0.30535137,  0.31386722,  0.31806333,  0.32428246,\n",
        "        0.32633586,  0.32633586,  0.33445375,  0.33445375,  0.33645973,\n",
        "        0.33845649,  0.35024802,  0.36735592,  0.37657696,  0.38201704,\n",
        "        0.38560627,  0.39093511,  0.39269695,  0.40483372,  0.41497335,\n",
        "        0.41830129,  0.43136376,  0.44247977,  0.47712125,  0.47712125,\n",
        "        0.49136169,  0.49276039,  0.49276039,  0.50379068,  0.50514998,\n",
        "        0.51054501,  0.5132176 ,  0.51454775,  0.51454775,  0.51587384,\n",
        "        0.52504481,  0.52504481,  0.52633928,  0.5276299 ,  0.53402611,\n",
        "        0.54157924,  0.54406804,  0.55022835,  0.5575072 ,  0.55870857,\n",
        "        0.56229286,  0.56820172,  0.57518784,  0.57634135,  0.5774918 ,\n",
        "        0.58206336,  0.58319877,  0.5865873 ,  0.5865873 ,  0.58883173,\n",
        "        0.5965971 ,  0.60422605,  0.61384182,  0.61384182,  0.61700034,\n",
        "        0.62531245,  0.62634037,  0.63948649,  0.64048144,  0.64542227,\n",
        "        0.64542227,  0.64738297,  0.65321251,  0.6560982 ,  0.66086548,\n",
        "        0.67209786,  0.68394713,  0.68841982,  0.68841982,  0.68930886,\n",
        "        0.6919651 ,  0.69810055,  0.69897   ,  0.70156799,  0.70329138,\n",
        "        0.70586371,  0.70757018,  0.71180723,  0.71432976,  0.72098574,\n",
        "        0.73239376,  0.73319727,  0.7355989 ,  0.73957234,  0.74036269,\n",
        "        0.74429298,  0.7458552 ,  0.74818803,  0.74818803,  0.75204845,\n",
        "        0.75434834,  0.75511227,  0.76042248,  0.7686381 ,  0.77011529,\n",
        "        0.77815125,  0.78103694,  0.78103694,  0.78175537,  0.78175537,\n",
        "        0.78675142,  0.79098848,  0.79379038,  0.79518459,  0.79934055,\n",
        "        0.80413943,  0.80617997,  0.80753503,  0.81090428,  0.8162413 ,\n",
        "        0.81954394,  0.82151353,  0.82216808,  0.82477646,  0.82672252,\n",
        "        0.83250891,  0.83695674,  0.8419848 ,  0.84509804,  0.84571802,\n",
        "        0.84818912,  0.8518696 ,  0.86510397,  0.86746749,  0.86923172,\n",
        "        0.87040391,  0.8739016 ,  0.8785218 ,  0.87909588,  0.88081359,\n",
        "        0.88874096,  0.8920946 ,  0.89762709,  0.89762709,  0.89872518,\n",
        "        0.90091307,  0.90145832,  0.90254678,  0.90579588,  0.90687353,\n",
        "        0.90848502,  0.90902085,  0.91803034,  0.92427929,  0.92685671,\n",
        "        0.92941893,  0.93449845,  0.93449845,  0.93651374,  0.93701611,\n",
        "        0.93701611,  0.93701611,  0.93751789,  0.9380191 ,  0.93951925,\n",
        "        0.93951925,  0.94398888,  0.9459607 ,  0.94939001,  0.95279244,\n",
        "        0.95279244,  0.95424251,  0.95664858,  0.95856388,  0.9609462 ,\n",
        "        0.96331551,  0.96378783,  0.96567197,  0.96848295,  0.97312785,\n",
        "        0.97358962,  0.97634998,  0.97726621,  0.98272339,  0.98497713,\n",
        "        0.98542647,  0.99475694,  0.99607365,  0.99782308,  0.99825934])"
       ]
      }
     ],
     "prompt_number": 7
    },
    {
     "cell_type": "code",
     "collapsed": false,
     "input": [
      "pylab inline"
     ],
     "language": "python",
     "metadata": {},
     "outputs": [
      {
       "output_type": "stream",
       "stream": "stdout",
       "text": [
        "Populating the interactive namespace from numpy and matplotlib\n"
       ]
      }
     ],
     "prompt_number": 8
    },
    {
     "cell_type": "code",
     "collapsed": false,
     "input": [
      "plt.plot(np.arange(len(m)), m)"
     ],
     "language": "python",
     "metadata": {},
     "outputs": [
      {
       "metadata": {},
       "output_type": "pyout",
       "prompt_number": 9,
       "text": [
        "[<matplotlib.lines.Line2D at 0x7fe4e5d6ba10>]"
       ]
      },
      {
       "metadata": {},
       "output_type": "display_data",
       "png": "[encoded data removed]",
       "text": [
        "<matplotlib.figure.Figure at 0x7fe4e5dcb890>"
       ]
      }
     ],
     "prompt_number": 9
    },
    {
     "cell_type": "code",
     "collapsed": false,
     "input": [
      "g.sort()\n",
      "g"
     ],
     "language": "python",
     "metadata": {},
     "outputs": [
      {
       "metadata": {},
       "output_type": "pyout",
       "prompt_number": 10,
       "text": [
        "array([  3,   5,  26,  30,  32,  35,  45,  47,  51,  55,  56,  60,  66,\n",
        "        70,  76,  78,  79,  79,  81,  86,  87,  90,  92,  93, 108, 117,\n",
        "       121, 133, 137, 146, 146, 168, 173, 178, 183, 186, 189, 196, 198,\n",
        "       199, 202, 206, 208, 211, 212, 212, 216, 216, 217, 218, 224, 233,\n",
        "       238, 241, 243, 246, 247, 254, 262, 270, 277, 310, 311, 311, 319,\n",
        "       324, 326, 327, 327, 328, 335, 335, 336, 337, 342, 348, 355, 361,\n",
        "       362, 365, 370, 376, 377, 378, 382, 383, 386, 386, 388, 395, 402,\n",
        "       411, 411, 414, 422, 423, 436, 437, 442, 442, 444, 453, 458, 483,\n",
        "       488, 488, 489, 492, 499, 503, 505, 508, 515, 518, 526, 540, 541,\n",
        "       544, 549, 555, 557, 560, 565, 568, 569, 576, 587, 589, 604, 604,\n",
        "       605, 605, 612, 618, 622, 624, 630, 637, 640, 642, 647, 655, 663,\n",
        "       664, 668, 671, 680, 687, 695, 701, 705, 711, 733, 737, 740, 742,\n",
        "       748, 756, 757, 774, 792, 796, 797, 799, 805, 807, 811, 828, 840,\n",
        "       845, 850, 860, 864, 865, 865, 865, 866, 867, 870, 879, 883, 890,\n",
        "       897, 897, 905, 909, 914, 919, 924, 940, 941, 947, 949, 961, 966,\n",
        "       967, 988, 991, 995, 996])"
       ]
      }
     ],
     "prompt_number": 10
    },
    {
     "cell_type": "code",
     "collapsed": false,
     "input": [
      "plt.plot(g, m)\n",
      "plt.grid()"
     ],
     "language": "python",
     "metadata": {},
     "outputs": [
      {
       "metadata": {},
       "output_type": "display_data",
       "png": "[encoded data removed]",
       "text": [
        "<matplotlib.figure.Figure at 0x7fe4e5cbc490>"
       ]
      }
     ],
     "prompt_number": 11
    },
    {
     "cell_type": "code",
     "collapsed": false,
     "input": [
      "tt = pd.DataFrame(g, columns=['numbers'])\n",
      "tt.head()"
     ],
     "language": "python",
     "metadata": {},
     "outputs": [
      {
       "html": [
        "<div style=\"max-height:1000px;max-width:1500px;overflow:auto;\">\n",
        "<table border=\"1\" class=\"dataframe\">\n",
        "  <thead>\n",
        "    <tr style=\"text-align: right;\">\n",
        "      <th></th>\n",
        "      <th>numbers</th>\n",
        "    </tr>\n",
        "  </thead>\n",
        "  <tbody>\n",
        "    <tr>\n",
        "      <th>0</th>\n",
        "      <td>  3</td>\n",
        "    </tr>\n",
        "    <tr>\n",
        "      <th>1</th>\n",
        "      <td>  5</td>\n",
        "    </tr>\n",
        "    <tr>\n",
        "      <th>2</th>\n",
        "      <td> 26</td>\n",
        "    </tr>\n",
        "    <tr>\n",
        "      <th>3</th>\n",
        "      <td> 30</td>\n",
        "    </tr>\n",
        "    <tr>\n",
        "      <th>4</th>\n",
        "      <td> 32</td>\n",
        "    </tr>\n",
        "  </tbody>\n",
        "</table>\n",
        "</div>"
       ],
       "metadata": {},
       "output_type": "pyout",
       "prompt_number": 12,
       "text": [
        "   numbers\n",
        "0        3\n",
        "1        5\n",
        "2       26\n",
        "3       30\n",
        "4       32"
       ]
      }
     ],
     "prompt_number": 12
    },
    {
     "cell_type": "code",
     "collapsed": false,
     "input": [
      "def _get_mantissas_(arr):\n",
      "\t'''\n",
      "\tThe mantissa is the non-integer part of the log of a number.\n",
      "\tThis fuction uses the element-wise array operations on numpy\n",
      "\tto get the mantissas of each number's log.\n",
      "\n",
      "\tarr: numpy array of integers or floats\n",
      "\t'''\n",
      "\n",
      "\treturn np.log10(arr) - np.log10(arr).astype(int)"
     ],
     "language": "python",
     "metadata": {},
     "outputs": [],
     "prompt_number": 13
    },
    {
     "cell_type": "code",
     "collapsed": false,
     "input": [
      "tt['mantissas']=_get_mantissas_(tt.numbers)\n",
      "tt.sort(columns='mantissas')\n",
      "tt"
     ],
     "language": "python",
     "metadata": {},
     "outputs": [
      {
       "html": [
        "<div style=\"max-height:1000px;max-width:1500px;overflow:auto;\">\n",
        "<table border=\"1\" class=\"dataframe\">\n",
        "  <thead>\n",
        "    <tr style=\"text-align: right;\">\n",
        "      <th></th>\n",
        "      <th>numbers</th>\n",
        "      <th>mantissas</th>\n",
        "      <th>m2</th>\n",
        "      <th>ms</th>\n",
        "    </tr>\n",
        "  </thead>\n",
        "  <tbody>\n",
        "    <tr>\n",
        "      <th>24 </th>\n",
        "      <td> 108</td>\n",
        "      <td> 0.033424</td>\n",
        "      <td> 0.033424</td>\n",
        "      <td>   0.033424</td>\n",
        "    </tr>\n",
        "    <tr>\n",
        "      <th>25 </th>\n",
        "      <td> 117</td>\n",
        "      <td> 0.068186</td>\n",
        "      <td> 0.068186</td>\n",
        "      <td>   0.101610</td>\n",
        "    </tr>\n",
        "    <tr>\n",
        "      <th>26 </th>\n",
        "      <td> 121</td>\n",
        "      <td> 0.082785</td>\n",
        "      <td> 0.082785</td>\n",
        "      <td>   0.184395</td>\n",
        "    </tr>\n",
        "    <tr>\n",
        "      <th>27 </th>\n",
        "      <td> 133</td>\n",
        "      <td> 0.123852</td>\n",
        "      <td> 0.123852</td>\n",
        "      <td>   0.308247</td>\n",
        "    </tr>\n",
        "    <tr>\n",
        "      <th>28 </th>\n",
        "      <td> 137</td>\n",
        "      <td> 0.136721</td>\n",
        "      <td> 0.136721</td>\n",
        "      <td>   0.444967</td>\n",
        "    </tr>\n",
        "    <tr>\n",
        "      <th>30 </th>\n",
        "      <td> 146</td>\n",
        "      <td> 0.164353</td>\n",
        "      <td> 0.164353</td>\n",
        "      <td>   0.609320</td>\n",
        "    </tr>\n",
        "    <tr>\n",
        "      <th>29 </th>\n",
        "      <td> 146</td>\n",
        "      <td> 0.164353</td>\n",
        "      <td> 0.164353</td>\n",
        "      <td>   0.773673</td>\n",
        "    </tr>\n",
        "    <tr>\n",
        "      <th>31 </th>\n",
        "      <td> 168</td>\n",
        "      <td> 0.225309</td>\n",
        "      <td> 0.225309</td>\n",
        "      <td>   0.998982</td>\n",
        "    </tr>\n",
        "    <tr>\n",
        "      <th>32 </th>\n",
        "      <td> 173</td>\n",
        "      <td> 0.238046</td>\n",
        "      <td> 0.238046</td>\n",
        "      <td>   1.237028</td>\n",
        "    </tr>\n",
        "    <tr>\n",
        "      <th>33 </th>\n",
        "      <td> 178</td>\n",
        "      <td> 0.250420</td>\n",
        "      <td> 0.250420</td>\n",
        "      <td>   1.487448</td>\n",
        "    </tr>\n",
        "    <tr>\n",
        "      <th>34 </th>\n",
        "      <td> 183</td>\n",
        "      <td> 0.262451</td>\n",
        "      <td> 0.262451</td>\n",
        "      <td>   1.749899</td>\n",
        "    </tr>\n",
        "    <tr>\n",
        "      <th>35 </th>\n",
        "      <td> 186</td>\n",
        "      <td> 0.269513</td>\n",
        "      <td> 0.269513</td>\n",
        "      <td>   2.019412</td>\n",
        "    </tr>\n",
        "    <tr>\n",
        "      <th>36 </th>\n",
        "      <td> 189</td>\n",
        "      <td> 0.276462</td>\n",
        "      <td> 0.276462</td>\n",
        "      <td>   2.295874</td>\n",
        "    </tr>\n",
        "    <tr>\n",
        "      <th>37 </th>\n",
        "      <td> 196</td>\n",
        "      <td> 0.292256</td>\n",
        "      <td> 0.292256</td>\n",
        "      <td>   2.588130</td>\n",
        "    </tr>\n",
        "    <tr>\n",
        "      <th>38 </th>\n",
        "      <td> 198</td>\n",
        "      <td> 0.296665</td>\n",
        "      <td> 0.296665</td>\n",
        "      <td>   2.884795</td>\n",
        "    </tr>\n",
        "    <tr>\n",
        "      <th>39 </th>\n",
        "      <td> 199</td>\n",
        "      <td> 0.298853</td>\n",
        "      <td> 0.298853</td>\n",
        "      <td>   3.183648</td>\n",
        "    </tr>\n",
        "    <tr>\n",
        "      <th>40 </th>\n",
        "      <td> 202</td>\n",
        "      <td> 0.305351</td>\n",
        "      <td> 0.305351</td>\n",
        "      <td>   3.489000</td>\n",
        "    </tr>\n",
        "    <tr>\n",
        "      <th>41 </th>\n",
        "      <td> 206</td>\n",
        "      <td> 0.313867</td>\n",
        "      <td> 0.313867</td>\n",
        "      <td>   3.802867</td>\n",
        "    </tr>\n",
        "    <tr>\n",
        "      <th>42 </th>\n",
        "      <td> 208</td>\n",
        "      <td> 0.318063</td>\n",
        "      <td> 0.318063</td>\n",
        "      <td>   4.120930</td>\n",
        "    </tr>\n",
        "    <tr>\n",
        "      <th>43 </th>\n",
        "      <td> 211</td>\n",
        "      <td> 0.324282</td>\n",
        "      <td> 0.324282</td>\n",
        "      <td>   4.445213</td>\n",
        "    </tr>\n",
        "    <tr>\n",
        "      <th>44 </th>\n",
        "      <td> 212</td>\n",
        "      <td> 0.326336</td>\n",
        "      <td> 0.326336</td>\n",
        "      <td>   4.771549</td>\n",
        "    </tr>\n",
        "    <tr>\n",
        "      <th>45 </th>\n",
        "      <td> 212</td>\n",
        "      <td> 0.326336</td>\n",
        "      <td> 0.326336</td>\n",
        "      <td>   5.097885</td>\n",
        "    </tr>\n",
        "    <tr>\n",
        "      <th>47 </th>\n",
        "      <td> 216</td>\n",
        "      <td> 0.334454</td>\n",
        "      <td> 0.334454</td>\n",
        "      <td>   5.432338</td>\n",
        "    </tr>\n",
        "    <tr>\n",
        "      <th>46 </th>\n",
        "      <td> 216</td>\n",
        "      <td> 0.334454</td>\n",
        "      <td> 0.334454</td>\n",
        "      <td>   5.766792</td>\n",
        "    </tr>\n",
        "    <tr>\n",
        "      <th>48 </th>\n",
        "      <td> 217</td>\n",
        "      <td> 0.336460</td>\n",
        "      <td> 0.336460</td>\n",
        "      <td>   6.103252</td>\n",
        "    </tr>\n",
        "    <tr>\n",
        "      <th>49 </th>\n",
        "      <td> 218</td>\n",
        "      <td> 0.338456</td>\n",
        "      <td> 0.338456</td>\n",
        "      <td>   6.441708</td>\n",
        "    </tr>\n",
        "    <tr>\n",
        "      <th>50 </th>\n",
        "      <td> 224</td>\n",
        "      <td> 0.350248</td>\n",
        "      <td> 0.350248</td>\n",
        "      <td>   6.791956</td>\n",
        "    </tr>\n",
        "    <tr>\n",
        "      <th>51 </th>\n",
        "      <td> 233</td>\n",
        "      <td> 0.367356</td>\n",
        "      <td> 0.367356</td>\n",
        "      <td>   7.159312</td>\n",
        "    </tr>\n",
        "    <tr>\n",
        "      <th>52 </th>\n",
        "      <td> 238</td>\n",
        "      <td> 0.376577</td>\n",
        "      <td> 0.376577</td>\n",
        "      <td>   7.535889</td>\n",
        "    </tr>\n",
        "    <tr>\n",
        "      <th>53 </th>\n",
        "      <td> 241</td>\n",
        "      <td> 0.382017</td>\n",
        "      <td> 0.382017</td>\n",
        "      <td>   7.917906</td>\n",
        "    </tr>\n",
        "    <tr>\n",
        "      <th>...</th>\n",
        "      <td>...</td>\n",
        "      <td>...</td>\n",
        "      <td>...</td>\n",
        "      <td>...</td>\n",
        "    </tr>\n",
        "    <tr>\n",
        "      <th>174</th>\n",
        "      <td> 865</td>\n",
        "      <td> 0.937016</td>\n",
        "      <td> 0.937016</td>\n",
        "      <td> 107.679783</td>\n",
        "    </tr>\n",
        "    <tr>\n",
        "      <th>175</th>\n",
        "      <td> 865</td>\n",
        "      <td> 0.937016</td>\n",
        "      <td> 0.937016</td>\n",
        "      <td> 108.616799</td>\n",
        "    </tr>\n",
        "    <tr>\n",
        "      <th>176</th>\n",
        "      <td> 866</td>\n",
        "      <td> 0.937518</td>\n",
        "      <td> 0.937518</td>\n",
        "      <td> 109.554317</td>\n",
        "    </tr>\n",
        "    <tr>\n",
        "      <th>177</th>\n",
        "      <td> 867</td>\n",
        "      <td> 0.938019</td>\n",
        "      <td> 0.938019</td>\n",
        "      <td> 110.492336</td>\n",
        "    </tr>\n",
        "    <tr>\n",
        "      <th>20 </th>\n",
        "      <td>  87</td>\n",
        "      <td> 0.939519</td>\n",
        "      <td> 0.939519</td>\n",
        "      <td> 111.431855</td>\n",
        "    </tr>\n",
        "    <tr>\n",
        "      <th>178</th>\n",
        "      <td> 870</td>\n",
        "      <td> 0.939519</td>\n",
        "      <td> 0.939519</td>\n",
        "      <td> 112.371374</td>\n",
        "    </tr>\n",
        "    <tr>\n",
        "      <th>179</th>\n",
        "      <td> 879</td>\n",
        "      <td> 0.943989</td>\n",
        "      <td> 0.943989</td>\n",
        "      <td> 113.315363</td>\n",
        "    </tr>\n",
        "    <tr>\n",
        "      <th>180</th>\n",
        "      <td> 883</td>\n",
        "      <td> 0.945961</td>\n",
        "      <td> 0.945961</td>\n",
        "      <td> 114.261324</td>\n",
        "    </tr>\n",
        "    <tr>\n",
        "      <th>181</th>\n",
        "      <td> 890</td>\n",
        "      <td> 0.949390</td>\n",
        "      <td> 0.949390</td>\n",
        "      <td> 115.210714</td>\n",
        "    </tr>\n",
        "    <tr>\n",
        "      <th>182</th>\n",
        "      <td> 897</td>\n",
        "      <td> 0.952792</td>\n",
        "      <td> 0.952792</td>\n",
        "      <td> 116.163506</td>\n",
        "    </tr>\n",
        "    <tr>\n",
        "      <th>183</th>\n",
        "      <td> 897</td>\n",
        "      <td> 0.952792</td>\n",
        "      <td> 0.952792</td>\n",
        "      <td> 117.116299</td>\n",
        "    </tr>\n",
        "    <tr>\n",
        "      <th>21 </th>\n",
        "      <td>  90</td>\n",
        "      <td> 0.954243</td>\n",
        "      <td> 0.954243</td>\n",
        "      <td> 118.070541</td>\n",
        "    </tr>\n",
        "    <tr>\n",
        "      <th>184</th>\n",
        "      <td> 905</td>\n",
        "      <td> 0.956649</td>\n",
        "      <td> 0.956649</td>\n",
        "      <td> 119.027190</td>\n",
        "    </tr>\n",
        "    <tr>\n",
        "      <th>185</th>\n",
        "      <td> 909</td>\n",
        "      <td> 0.958564</td>\n",
        "      <td> 0.958564</td>\n",
        "      <td> 119.985754</td>\n",
        "    </tr>\n",
        "    <tr>\n",
        "      <th>186</th>\n",
        "      <td> 914</td>\n",
        "      <td> 0.960946</td>\n",
        "      <td> 0.960946</td>\n",
        "      <td> 120.946700</td>\n",
        "    </tr>\n",
        "    <tr>\n",
        "      <th>187</th>\n",
        "      <td> 919</td>\n",
        "      <td> 0.963316</td>\n",
        "      <td> 0.963316</td>\n",
        "      <td> 121.910016</td>\n",
        "    </tr>\n",
        "    <tr>\n",
        "      <th>22 </th>\n",
        "      <td>  92</td>\n",
        "      <td> 0.963788</td>\n",
        "      <td> 0.963788</td>\n",
        "      <td> 122.873803</td>\n",
        "    </tr>\n",
        "    <tr>\n",
        "      <th>188</th>\n",
        "      <td> 924</td>\n",
        "      <td> 0.965672</td>\n",
        "      <td> 0.965672</td>\n",
        "      <td> 123.839475</td>\n",
        "    </tr>\n",
        "    <tr>\n",
        "      <th>23 </th>\n",
        "      <td>  93</td>\n",
        "      <td> 0.968483</td>\n",
        "      <td> 0.968483</td>\n",
        "      <td> 124.807958</td>\n",
        "    </tr>\n",
        "    <tr>\n",
        "      <th>189</th>\n",
        "      <td> 940</td>\n",
        "      <td> 0.973128</td>\n",
        "      <td> 0.973128</td>\n",
        "      <td> 125.781086</td>\n",
        "    </tr>\n",
        "    <tr>\n",
        "      <th>190</th>\n",
        "      <td> 941</td>\n",
        "      <td> 0.973590</td>\n",
        "      <td> 0.973590</td>\n",
        "      <td> 126.754676</td>\n",
        "    </tr>\n",
        "    <tr>\n",
        "      <th>191</th>\n",
        "      <td> 947</td>\n",
        "      <td> 0.976350</td>\n",
        "      <td> 0.976350</td>\n",
        "      <td> 127.731026</td>\n",
        "    </tr>\n",
        "    <tr>\n",
        "      <th>192</th>\n",
        "      <td> 949</td>\n",
        "      <td> 0.977266</td>\n",
        "      <td> 0.977266</td>\n",
        "      <td> 128.708292</td>\n",
        "    </tr>\n",
        "    <tr>\n",
        "      <th>193</th>\n",
        "      <td> 961</td>\n",
        "      <td> 0.982723</td>\n",
        "      <td> 0.982723</td>\n",
        "      <td> 129.691015</td>\n",
        "    </tr>\n",
        "    <tr>\n",
        "      <th>194</th>\n",
        "      <td> 966</td>\n",
        "      <td> 0.984977</td>\n",
        "      <td> 0.984977</td>\n",
        "      <td> 130.675992</td>\n",
        "    </tr>\n",
        "    <tr>\n",
        "      <th>195</th>\n",
        "      <td> 967</td>\n",
        "      <td> 0.985426</td>\n",
        "      <td> 0.985426</td>\n",
        "      <td> 131.661419</td>\n",
        "    </tr>\n",
        "    <tr>\n",
        "      <th>196</th>\n",
        "      <td> 988</td>\n",
        "      <td> 0.994757</td>\n",
        "      <td> 0.994757</td>\n",
        "      <td> 132.656176</td>\n",
        "    </tr>\n",
        "    <tr>\n",
        "      <th>197</th>\n",
        "      <td> 991</td>\n",
        "      <td> 0.996074</td>\n",
        "      <td> 0.996074</td>\n",
        "      <td> 133.652250</td>\n",
        "    </tr>\n",
        "    <tr>\n",
        "      <th>198</th>\n",
        "      <td> 995</td>\n",
        "      <td> 0.997823</td>\n",
        "      <td> 0.997823</td>\n",
        "      <td> 134.650073</td>\n",
        "    </tr>\n",
        "    <tr>\n",
        "      <th>199</th>\n",
        "      <td> 996</td>\n",
        "      <td> 0.998259</td>\n",
        "      <td> 0.998259</td>\n",
        "      <td> 135.648332</td>\n",
        "    </tr>\n",
        "  </tbody>\n",
        "</table>\n",
        "<p>200 rows \u00d7 4 columns</p>\n",
        "</div>"
       ],
       "metadata": {},
       "output_type": "pyout",
       "prompt_number": 53,
       "text": [
        "     numbers  mantissas        m2          ms\n",
        "24       108   0.033424  0.033424    0.033424\n",
        "25       117   0.068186  0.068186    0.101610\n",
        "26       121   0.082785  0.082785    0.184395\n",
        "27       133   0.123852  0.123852    0.308247\n",
        "28       137   0.136721  0.136721    0.444967\n",
        "30       146   0.164353  0.164353    0.609320\n",
        "29       146   0.164353  0.164353    0.773673\n",
        "31       168   0.225309  0.225309    0.998982\n",
        "32       173   0.238046  0.238046    1.237028\n",
        "33       178   0.250420  0.250420    1.487448\n",
        "34       183   0.262451  0.262451    1.749899\n",
        "35       186   0.269513  0.269513    2.019412\n",
        "36       189   0.276462  0.276462    2.295874\n",
        "37       196   0.292256  0.292256    2.588130\n",
        "38       198   0.296665  0.296665    2.884795\n",
        "39       199   0.298853  0.298853    3.183648\n",
        "40       202   0.305351  0.305351    3.489000\n",
        "41       206   0.313867  0.313867    3.802867\n",
        "42       208   0.318063  0.318063    4.120930\n",
        "43       211   0.324282  0.324282    4.445213\n",
        "44       212   0.326336  0.326336    4.771549\n",
        "45       212   0.326336  0.326336    5.097885\n",
        "47       216   0.334454  0.334454    5.432338\n",
        "46       216   0.334454  0.334454    5.766792\n",
        "48       217   0.336460  0.336460    6.103252\n",
        "49       218   0.338456  0.338456    6.441708\n",
        "50       224   0.350248  0.350248    6.791956\n",
        "51       233   0.367356  0.367356    7.159312\n",
        "52       238   0.376577  0.376577    7.535889\n",
        "53       241   0.382017  0.382017    7.917906\n",
        "..       ...        ...       ...         ...\n",
        "174      865   0.937016  0.937016  107.679783\n",
        "175      865   0.937016  0.937016  108.616799\n",
        "176      866   0.937518  0.937518  109.554317\n",
        "177      867   0.938019  0.938019  110.492336\n",
        "20        87   0.939519  0.939519  111.431855\n",
        "178      870   0.939519  0.939519  112.371374\n",
        "179      879   0.943989  0.943989  113.315363\n",
        "180      883   0.945961  0.945961  114.261324\n",
        "181      890   0.949390  0.949390  115.210714\n",
        "182      897   0.952792  0.952792  116.163506\n",
        "183      897   0.952792  0.952792  117.116299\n",
        "21        90   0.954243  0.954243  118.070541\n",
        "184      905   0.956649  0.956649  119.027190\n",
        "185      909   0.958564  0.958564  119.985754\n",
        "186      914   0.960946  0.960946  120.946700\n",
        "187      919   0.963316  0.963316  121.910016\n",
        "22        92   0.963788  0.963788  122.873803\n",
        "188      924   0.965672  0.965672  123.839475\n",
        "23        93   0.968483  0.968483  124.807958\n",
        "189      940   0.973128  0.973128  125.781086\n",
        "190      941   0.973590  0.973590  126.754676\n",
        "191      947   0.976350  0.976350  127.731026\n",
        "192      949   0.977266  0.977266  128.708292\n",
        "193      961   0.982723  0.982723  129.691015\n",
        "194      966   0.984977  0.984977  130.675992\n",
        "195      967   0.985426  0.985426  131.661419\n",
        "196      988   0.994757  0.994757  132.656176\n",
        "197      991   0.996074  0.996074  133.652250\n",
        "198      995   0.997823  0.997823  134.650073\n",
        "199      996   0.998259  0.998259  135.648332\n",
        "\n",
        "[200 rows x 4 columns]"
       ]
      }
     ],
     "prompt_number": 53
    },
    {
     "cell_type": "code",
     "collapsed": false,
     "input": [
      "plt.plot(tt.numbers, tt.mantissas)"
     ],
     "language": "python",
     "metadata": {},
     "outputs": [
      {
       "metadata": {},
       "output_type": "pyout",
       "prompt_number": 58,
       "text": [
        "[<matplotlib.lines.Line2D at 0x7fe4e5217ad0>]"
       ]
      },
      {
       "metadata": {},
       "output_type": "display_data",
       "png": "[encoded data removed]",
       "text": [
        "<matplotlib.figure.Figure at 0x7fe4e5320ed0>"
       ]
      }
     ],
     "prompt_number": 58
    },
    {
     "cell_type": "code",
     "collapsed": false,
     "input": [
      "plt.plot(np.arange(len(tt)), tt.mantissas)"
     ],
     "language": "python",
     "metadata": {},
     "outputs": [
      {
       "metadata": {},
       "output_type": "pyout",
       "prompt_number": 16,
       "text": [
        "[<matplotlib.lines.Line2D at 0x7fe4e5ba14d0>]"
       ]
      },
      {
       "metadata": {},
       "output_type": "display_data",
       "png": "[encoded data removed]",
       "text": [
        "<matplotlib.figure.Figure at 0x7fe4e5c15c10>"
       ]
      }
     ],
     "prompt_number": 16
    },
    {
     "cell_type": "code",
     "collapsed": false,
     "input": [
      "tt['m2'] = _get_mantissas_(tt.numbers)\n",
      "sum(tt.mantissas!=tt.m2)"
     ],
     "language": "python",
     "metadata": {},
     "outputs": [
      {
       "metadata": {},
       "output_type": "pyout",
       "prompt_number": 17,
       "text": [
        "0"
       ]
      }
     ],
     "prompt_number": 17
    },
    {
     "cell_type": "code",
     "collapsed": false,
     "input": [
      "tt['ms']=tt.m2.cumsum()\n",
      "plt.plot(np.arange(len(tt.ms)), tt.ms,scale='log')"
     ],
     "language": "python",
     "metadata": {},
     "outputs": [
      {
       "ename": "TypeError",
       "evalue": "There is no line property \"scale\"",
       "output_type": "pyerr",
       "traceback": [
        "\u001b[1;31m---------------------------------------------------------------------------\u001b[0m\n\u001b[1;31mTypeError\u001b[0m                                 Traceback (most recent call last)",
        "\u001b[1;32m<ipython-input-59-303ea6538c66>\u001b[0m in \u001b[0;36m<module>\u001b[1;34m()\u001b[0m\n\u001b[0;32m      1\u001b[0m \u001b[0mtt\u001b[0m\u001b[1;33m[\u001b[0m\u001b[1;34m'ms'\u001b[0m\u001b[1;33m]\u001b[0m\u001b[1;33m=\u001b[0m\u001b[0mtt\u001b[0m\u001b[1;33m.\u001b[0m\u001b[0mm2\u001b[0m\u001b[1;33m.\u001b[0m\u001b[0mcumsum\u001b[0m\u001b[1;33m(\u001b[0m\u001b[1;33m)\u001b[0m\u001b[1;33m\u001b[0m\u001b[0m\n\u001b[1;32m----> 2\u001b[1;33m \u001b[0mplt\u001b[0m\u001b[1;33m.\u001b[0m\u001b[0mplot\u001b[0m\u001b[1;33m(\u001b[0m\u001b[0mnp\u001b[0m\u001b[1;33m.\u001b[0m\u001b[0marange\u001b[0m\u001b[1;33m(\u001b[0m\u001b[0mlen\u001b[0m\u001b[1;33m(\u001b[0m\u001b[0mtt\u001b[0m\u001b[1;33m.\u001b[0m\u001b[0mms\u001b[0m\u001b[1;33m)\u001b[0m\u001b[1;33m)\u001b[0m\u001b[1;33m,\u001b[0m \u001b[0mtt\u001b[0m\u001b[1;33m.\u001b[0m\u001b[0mms\u001b[0m\u001b[1;33m,\u001b[0m\u001b[0mscale\u001b[0m\u001b[1;33m=\u001b[0m\u001b[1;34m'log'\u001b[0m\u001b[1;33m)\u001b[0m\u001b[1;33m\u001b[0m\u001b[0m\n\u001b[0m",
        "\u001b[1;32m/home/milcent/anaconda/lib/python2.7/site-packages/matplotlib/pyplot.pyc\u001b[0m in \u001b[0;36mplot\u001b[1;34m(*args, **kwargs)\u001b[0m\n\u001b[0;32m   3097\u001b[0m         \u001b[0max\u001b[0m\u001b[1;33m.\u001b[0m\u001b[0mhold\u001b[0m\u001b[1;33m(\u001b[0m\u001b[0mhold\u001b[0m\u001b[1;33m)\u001b[0m\u001b[1;33m\u001b[0m\u001b[0m\n\u001b[0;32m   3098\u001b[0m     \u001b[1;32mtry\u001b[0m\u001b[1;33m:\u001b[0m\u001b[1;33m\u001b[0m\u001b[0m\n\u001b[1;32m-> 3099\u001b[1;33m         \u001b[0mret\u001b[0m \u001b[1;33m=\u001b[0m \u001b[0max\u001b[0m\u001b[1;33m.\u001b[0m\u001b[0mplot\u001b[0m\u001b[1;33m(\u001b[0m\u001b[1;33m*\u001b[0m\u001b[0margs\u001b[0m\u001b[1;33m,\u001b[0m \u001b[1;33m**\u001b[0m\u001b[0mkwargs\u001b[0m\u001b[1;33m)\u001b[0m\u001b[1;33m\u001b[0m\u001b[0m\n\u001b[0m\u001b[0;32m   3100\u001b[0m         \u001b[0mdraw_if_interactive\u001b[0m\u001b[1;33m(\u001b[0m\u001b[1;33m)\u001b[0m\u001b[1;33m\u001b[0m\u001b[0m\n\u001b[0;32m   3101\u001b[0m     \u001b[1;32mfinally\u001b[0m\u001b[1;33m:\u001b[0m\u001b[1;33m\u001b[0m\u001b[0m\n",
        "\u001b[1;32m/home/milcent/anaconda/lib/python2.7/site-packages/matplotlib/axes/_axes.pyc\u001b[0m in \u001b[0;36mplot\u001b[1;34m(self, *args, **kwargs)\u001b[0m\n\u001b[0;32m   1372\u001b[0m         \u001b[0mlines\u001b[0m \u001b[1;33m=\u001b[0m \u001b[1;33m[\u001b[0m\u001b[1;33m]\u001b[0m\u001b[1;33m\u001b[0m\u001b[0m\n\u001b[0;32m   1373\u001b[0m \u001b[1;33m\u001b[0m\u001b[0m\n\u001b[1;32m-> 1374\u001b[1;33m         \u001b[1;32mfor\u001b[0m \u001b[0mline\u001b[0m \u001b[1;32min\u001b[0m \u001b[0mself\u001b[0m\u001b[1;33m.\u001b[0m\u001b[0m_get_lines\u001b[0m\u001b[1;33m(\u001b[0m\u001b[1;33m*\u001b[0m\u001b[0margs\u001b[0m\u001b[1;33m,\u001b[0m \u001b[1;33m**\u001b[0m\u001b[0mkwargs\u001b[0m\u001b[1;33m)\u001b[0m\u001b[1;33m:\u001b[0m\u001b[1;33m\u001b[0m\u001b[0m\n\u001b[0m\u001b[0;32m   1375\u001b[0m             \u001b[0mself\u001b[0m\u001b[1;33m.\u001b[0m\u001b[0madd_line\u001b[0m\u001b[1;33m(\u001b[0m\u001b[0mline\u001b[0m\u001b[1;33m)\u001b[0m\u001b[1;33m\u001b[0m\u001b[0m\n\u001b[0;32m   1376\u001b[0m             \u001b[0mlines\u001b[0m\u001b[1;33m.\u001b[0m\u001b[0mappend\u001b[0m\u001b[1;33m(\u001b[0m\u001b[0mline\u001b[0m\u001b[1;33m)\u001b[0m\u001b[1;33m\u001b[0m\u001b[0m\n",
        "\u001b[1;32m/home/milcent/anaconda/lib/python2.7/site-packages/matplotlib/axes/_base.pyc\u001b[0m in \u001b[0;36m_grab_next_args\u001b[1;34m(self, *args, **kwargs)\u001b[0m\n\u001b[0;32m    301\u001b[0m                 \u001b[1;32mreturn\u001b[0m\u001b[1;33m\u001b[0m\u001b[0m\n\u001b[0;32m    302\u001b[0m             \u001b[1;32mif\u001b[0m \u001b[0mlen\u001b[0m\u001b[1;33m(\u001b[0m\u001b[0mremaining\u001b[0m\u001b[1;33m)\u001b[0m \u001b[1;33m<=\u001b[0m \u001b[1;36m3\u001b[0m\u001b[1;33m:\u001b[0m\u001b[1;33m\u001b[0m\u001b[0m\n\u001b[1;32m--> 303\u001b[1;33m                 \u001b[1;32mfor\u001b[0m \u001b[0mseg\u001b[0m \u001b[1;32min\u001b[0m \u001b[0mself\u001b[0m\u001b[1;33m.\u001b[0m\u001b[0m_plot_args\u001b[0m\u001b[1;33m(\u001b[0m\u001b[0mremaining\u001b[0m\u001b[1;33m,\u001b[0m \u001b[0mkwargs\u001b[0m\u001b[1;33m)\u001b[0m\u001b[1;33m:\u001b[0m\u001b[1;33m\u001b[0m\u001b[0m\n\u001b[0m\u001b[0;32m    304\u001b[0m                     \u001b[1;32myield\u001b[0m \u001b[0mseg\u001b[0m\u001b[1;33m\u001b[0m\u001b[0m\n\u001b[0;32m    305\u001b[0m                 \u001b[1;32mreturn\u001b[0m\u001b[1;33m\u001b[0m\u001b[0m\n",
        "\u001b[1;32m/home/milcent/anaconda/lib/python2.7/site-packages/matplotlib/axes/_base.pyc\u001b[0m in \u001b[0;36m_plot_args\u001b[1;34m(self, tup, kwargs)\u001b[0m\n\u001b[0;32m    289\u001b[0m         \u001b[0mncx\u001b[0m\u001b[1;33m,\u001b[0m \u001b[0mncy\u001b[0m \u001b[1;33m=\u001b[0m \u001b[0mx\u001b[0m\u001b[1;33m.\u001b[0m\u001b[0mshape\u001b[0m\u001b[1;33m[\u001b[0m\u001b[1;36m1\u001b[0m\u001b[1;33m]\u001b[0m\u001b[1;33m,\u001b[0m \u001b[0my\u001b[0m\u001b[1;33m.\u001b[0m\u001b[0mshape\u001b[0m\u001b[1;33m[\u001b[0m\u001b[1;36m1\u001b[0m\u001b[1;33m]\u001b[0m\u001b[1;33m\u001b[0m\u001b[0m\n\u001b[0;32m    290\u001b[0m         \u001b[1;32mfor\u001b[0m \u001b[0mj\u001b[0m \u001b[1;32min\u001b[0m \u001b[0mxrange\u001b[0m\u001b[1;33m(\u001b[0m\u001b[0mmax\u001b[0m\u001b[1;33m(\u001b[0m\u001b[0mncx\u001b[0m\u001b[1;33m,\u001b[0m \u001b[0mncy\u001b[0m\u001b[1;33m)\u001b[0m\u001b[1;33m)\u001b[0m\u001b[1;33m:\u001b[0m\u001b[1;33m\u001b[0m\u001b[0m\n\u001b[1;32m--> 291\u001b[1;33m             \u001b[0mseg\u001b[0m \u001b[1;33m=\u001b[0m \u001b[0mfunc\u001b[0m\u001b[1;33m(\u001b[0m\u001b[0mx\u001b[0m\u001b[1;33m[\u001b[0m\u001b[1;33m:\u001b[0m\u001b[1;33m,\u001b[0m \u001b[0mj\u001b[0m \u001b[1;33m%\u001b[0m \u001b[0mncx\u001b[0m\u001b[1;33m]\u001b[0m\u001b[1;33m,\u001b[0m \u001b[0my\u001b[0m\u001b[1;33m[\u001b[0m\u001b[1;33m:\u001b[0m\u001b[1;33m,\u001b[0m \u001b[0mj\u001b[0m \u001b[1;33m%\u001b[0m \u001b[0mncy\u001b[0m\u001b[1;33m]\u001b[0m\u001b[1;33m,\u001b[0m \u001b[0mkw\u001b[0m\u001b[1;33m,\u001b[0m \u001b[0mkwargs\u001b[0m\u001b[1;33m)\u001b[0m\u001b[1;33m\u001b[0m\u001b[0m\n\u001b[0m\u001b[0;32m    292\u001b[0m             \u001b[0mret\u001b[0m\u001b[1;33m.\u001b[0m\u001b[0mappend\u001b[0m\u001b[1;33m(\u001b[0m\u001b[0mseg\u001b[0m\u001b[1;33m)\u001b[0m\u001b[1;33m\u001b[0m\u001b[0m\n\u001b[0;32m    293\u001b[0m         \u001b[1;32mreturn\u001b[0m \u001b[0mret\u001b[0m\u001b[1;33m\u001b[0m\u001b[0m\n",
        "\u001b[1;32m/home/milcent/anaconda/lib/python2.7/site-packages/matplotlib/axes/_base.pyc\u001b[0m in \u001b[0;36m_makeline\u001b[1;34m(self, x, y, kw, kwargs)\u001b[0m\n\u001b[0;32m    241\u001b[0m                             \u001b[1;33m**\u001b[0m\u001b[0mkw\u001b[0m\u001b[1;33m\u001b[0m\u001b[0m\n\u001b[0;32m    242\u001b[0m                             )\n\u001b[1;32m--> 243\u001b[1;33m         \u001b[0mself\u001b[0m\u001b[1;33m.\u001b[0m\u001b[0mset_lineprops\u001b[0m\u001b[1;33m(\u001b[0m\u001b[0mseg\u001b[0m\u001b[1;33m,\u001b[0m \u001b[1;33m**\u001b[0m\u001b[0mkwargs\u001b[0m\u001b[1;33m)\u001b[0m\u001b[1;33m\u001b[0m\u001b[0m\n\u001b[0m\u001b[0;32m    244\u001b[0m         \u001b[1;32mreturn\u001b[0m \u001b[0mseg\u001b[0m\u001b[1;33m\u001b[0m\u001b[0m\n\u001b[0;32m    245\u001b[0m \u001b[1;33m\u001b[0m\u001b[0m\n",
        "\u001b[1;32m/home/milcent/anaconda/lib/python2.7/site-packages/matplotlib/axes/_base.pyc\u001b[0m in \u001b[0;36mset_lineprops\u001b[1;34m(self, line, **kwargs)\u001b[0m\n\u001b[0;32m    182\u001b[0m             \u001b[0mfuncName\u001b[0m \u001b[1;33m=\u001b[0m \u001b[1;34m\"set_%s\"\u001b[0m \u001b[1;33m%\u001b[0m \u001b[0mkey\u001b[0m\u001b[1;33m\u001b[0m\u001b[0m\n\u001b[0;32m    183\u001b[0m             \u001b[1;32mif\u001b[0m \u001b[1;32mnot\u001b[0m \u001b[0mhasattr\u001b[0m\u001b[1;33m(\u001b[0m\u001b[0mline\u001b[0m\u001b[1;33m,\u001b[0m \u001b[0mfuncName\u001b[0m\u001b[1;33m)\u001b[0m\u001b[1;33m:\u001b[0m\u001b[1;33m\u001b[0m\u001b[0m\n\u001b[1;32m--> 184\u001b[1;33m                 \u001b[1;32mraise\u001b[0m \u001b[0mTypeError\u001b[0m\u001b[1;33m(\u001b[0m\u001b[1;34m'There is no line property \"%s\"'\u001b[0m \u001b[1;33m%\u001b[0m \u001b[0mkey\u001b[0m\u001b[1;33m)\u001b[0m\u001b[1;33m\u001b[0m\u001b[0m\n\u001b[0m\u001b[0;32m    185\u001b[0m             \u001b[0mfunc\u001b[0m \u001b[1;33m=\u001b[0m \u001b[0mgetattr\u001b[0m\u001b[1;33m(\u001b[0m\u001b[0mline\u001b[0m\u001b[1;33m,\u001b[0m \u001b[0mfuncName\u001b[0m\u001b[1;33m)\u001b[0m\u001b[1;33m\u001b[0m\u001b[0m\n\u001b[0;32m    186\u001b[0m             \u001b[0mfunc\u001b[0m\u001b[1;33m(\u001b[0m\u001b[0mval\u001b[0m\u001b[1;33m)\u001b[0m\u001b[1;33m\u001b[0m\u001b[0m\n",
        "\u001b[1;31mTypeError\u001b[0m: There is no line property \"scale\""
       ]
      },
      {
       "metadata": {},
       "output_type": "display_data",
       "png": "[encoded data removed]",
       "text": [
        "<matplotlib.figure.Figure at 0x7fe4e5520990>"
       ]
      }
     ],
     "prompt_number": 59
    },
    {
     "cell_type": "code",
     "collapsed": false,
     "input": [
      "h = 9.234\n",
      "h*=100\n",
      "str(h)[:2]"
     ],
     "language": "python",
     "metadata": {},
     "outputs": [
      {
       "metadata": {},
       "output_type": "pyout",
       "prompt_number": 19,
       "text": [
        "'92'"
       ]
      }
     ],
     "prompt_number": 19
    },
    {
     "cell_type": "code",
     "collapsed": false,
     "input": [
      "len(str((1/m[3]).astype(int)))"
     ],
     "language": "python",
     "metadata": {},
     "outputs": [
      {
       "metadata": {},
       "output_type": "pyout",
       "prompt_number": 20,
       "text": [
        "1"
       ]
      }
     ],
     "prompt_number": 20
    },
    {
     "cell_type": "code",
     "collapsed": false,
     "input": [
      "eb = np.arange(10,100).reshape(90,1)\n",
      "eb = eb.astype(str)\n",
      "eb[:,0]"
     ],
     "language": "python",
     "metadata": {},
     "outputs": [
      {
       "metadata": {},
       "output_type": "pyout",
       "prompt_number": 21,
       "text": [
        "array(['10', '11', '12', '13', '14', '15', '16', '17', '18', '19', '20',\n",
        "       '21', '22', '23', '24', '25', '26', '27', '28', '29', '30', '31',\n",
        "       '32', '33', '34', '35', '36', '37', '38', '39', '40', '41', '42',\n",
        "       '43', '44', '45', '46', '47', '48', '49', '50', '51', '52', '53',\n",
        "       '54', '55', '56', '57', '58', '59', '60', '61', '62', '63', '64',\n",
        "       '65', '66', '67', '68', '69', '70', '71', '72', '73', '74', '75',\n",
        "       '76', '77', '78', '79', '80', '81', '82', '83', '84', '85', '86',\n",
        "       '87', '88', '89', '90', '91', '92', '93', '94', '95', '96', '97',\n",
        "       '98', '99'], \n",
        "      dtype='|S21')"
       ]
      }
     ],
     "prompt_number": 21
    },
    {
     "cell_type": "code",
     "collapsed": false,
     "input": [
      "eb = np.arange(10,100)\n",
      "eb = eb.astype(str)\n",
      "f = np.array([l[0] for l in eb]).reshape(90,1)\n",
      "s = np.array([l[1] for l in eb]).reshape(90,1)\n",
      "eb = np.hstack((f,s)).astype(int)\n",
      "eb[:,0]"
     ],
     "language": "python",
     "metadata": {},
     "outputs": [
      {
       "metadata": {},
       "output_type": "pyout",
       "prompt_number": 22,
       "text": [
        "array([1, 1, 1, 1, 1, 1, 1, 1, 1, 1, 2, 2, 2, 2, 2, 2, 2, 2, 2, 2, 3, 3, 3,\n",
        "       3, 3, 3, 3, 3, 3, 3, 4, 4, 4, 4, 4, 4, 4, 4, 4, 4, 5, 5, 5, 5, 5, 5,\n",
        "       5, 5, 5, 5, 6, 6, 6, 6, 6, 6, 6, 6, 6, 6, 7, 7, 7, 7, 7, 7, 7, 7, 7,\n",
        "       7, 8, 8, 8, 8, 8, 8, 8, 8, 8, 8, 9, 9, 9, 9, 9, 9, 9, 9, 9, 9])"
       ]
      }
     ],
     "prompt_number": 22
    },
    {
     "cell_type": "code",
     "collapsed": false,
     "input": [
      "e2 = np.arange(10,100)\n",
      "p = np.log10(1+(1./e2))\n",
      "plt.bar(e2,p)"
     ],
     "language": "python",
     "metadata": {},
     "outputs": [
      {
       "metadata": {},
       "output_type": "pyout",
       "prompt_number": 23,
       "text": [
        "<Container object of 90 artists>"
       ]
      },
      {
       "metadata": {},
       "output_type": "display_data",
       "png": "[encoded data removed]",
       "text": [
        "<matplotlib.figure.Figure at 0x7fe4e5b71b90>"
       ]
      }
     ],
     "prompt_number": 23
    },
    {
     "cell_type": "code",
     "collapsed": false,
     "input": [
      "e3 = e2.astype(str)\n",
      "s = np.array([l[1] for l in e3]).astype(int)\n",
      "p[s == 0].sum()"
     ],
     "language": "python",
     "metadata": {},
     "outputs": [
      {
       "metadata": {},
       "output_type": "pyout",
       "prompt_number": 24,
       "text": [
        "0.11967926859688073"
       ]
      }
     ],
     "prompt_number": 24
    },
    {
     "cell_type": "code",
     "collapsed": false,
     "input": [
      "def secondDigit():\n",
      "\ta = np.arange(10,100)\n",
      "\taa = a.astype(str)\n",
      "\ts = np.array([l[1] for l in aa]).astype(int)\n",
      "\tb = np.arange(0,10)\n",
      "\tprobs = np.log10(1 + (1. / a))\n",
      "\tc = np.zeros(10)\n",
      "\tfor n in b:\n",
      "\t\tc[n] = probs[s == n].sum()\n",
      "\treturn c"
     ],
     "language": "python",
     "metadata": {},
     "outputs": [],
     "prompt_number": 25
    },
    {
     "cell_type": "code",
     "collapsed": false,
     "input": [
      "secondDigit()"
     ],
     "language": "python",
     "metadata": {},
     "outputs": [
      {
       "metadata": {},
       "output_type": "pyout",
       "prompt_number": 26,
       "text": [
        "array([ 0.11967927,  0.1138901 ,  0.1088215 ,  0.10432956,  0.1003082 ,\n",
        "        0.09667724,  0.09337474,  0.09035199,  0.08757005,  0.08499735])"
       ]
      }
     ],
     "prompt_number": 26
    },
    {
     "cell_type": "code",
     "collapsed": false,
     "input": [
      "def firstDigit():\n",
      "\ta = np.arange(1,10)\n",
      "\treturn np.log10(1 + (1. / a))"
     ],
     "language": "python",
     "metadata": {},
     "outputs": [],
     "prompt_number": 27
    },
    {
     "cell_type": "code",
     "collapsed": false,
     "input": [
      "a5 = np.arange(0,10)\n",
      "plt.plot(a5, secondDigit())\n",
      "plt.ylim((0,.15))"
     ],
     "language": "python",
     "metadata": {},
     "outputs": [
      {
       "metadata": {},
       "output_type": "pyout",
       "prompt_number": 28,
       "text": [
        "(0, 0.15)"
       ]
      },
      {
       "metadata": {},
       "output_type": "display_data",
       "png": "[encoded data removed]",
       "text": [
        "<matplotlib.figure.Figure at 0x7fe4e5b55050>"
       ]
      }
     ],
     "prompt_number": 28
    },
    {
     "cell_type": "code",
     "collapsed": false,
     "input": [
      "np.array(range(10)*10)"
     ],
     "language": "python",
     "metadata": {},
     "outputs": [
      {
       "metadata": {},
       "output_type": "pyout",
       "prompt_number": 29,
       "text": [
        "array([0, 1, 2, 3, 4, 5, 6, 7, 8, 9, 0, 1, 2, 3, 4, 5, 6, 7, 8, 9, 0, 1, 2,\n",
        "       3, 4, 5, 6, 7, 8, 9, 0, 1, 2, 3, 4, 5, 6, 7, 8, 9, 0, 1, 2, 3, 4, 5,\n",
        "       6, 7, 8, 9, 0, 1, 2, 3, 4, 5, 6, 7, 8, 9, 0, 1, 2, 3, 4, 5, 6, 7, 8,\n",
        "       9, 0, 1, 2, 3, 4, 5, 6, 7, 8, 9, 0, 1, 2, 3, 4, 5, 6, 7, 8, 9, 0, 1,\n",
        "       2, 3, 4, 5, 6, 7, 8, 9])"
       ]
      }
     ],
     "prompt_number": 29
    },
    {
     "cell_type": "code",
     "collapsed": false,
     "input": [
      "firstDigit()"
     ],
     "language": "python",
     "metadata": {},
     "outputs": [
      {
       "metadata": {},
       "output_type": "pyout",
       "prompt_number": 30,
       "text": [
        "array([ 0.30103   ,  0.17609126,  0.12493874,  0.09691001,  0.07918125,\n",
        "        0.06694679,  0.05799195,  0.05115252,  0.04575749])"
       ]
      }
     ],
     "prompt_number": 30
    },
    {
     "cell_type": "code",
     "collapsed": false,
     "input": [
      "a6 = np.arange(1,10)\n",
      "plt.bar(a6,firstDigit())"
     ],
     "language": "python",
     "metadata": {},
     "outputs": [
      {
       "metadata": {},
       "output_type": "pyout",
       "prompt_number": 31,
       "text": [
        "<Container object of 9 artists>"
       ]
      },
      {
       "metadata": {},
       "output_type": "display_data",
       "png": "[encoded data removed]",
       "text": [
        "<matplotlib.figure.Figure at 0x7fe4e57131d0>"
       ]
      }
     ],
     "prompt_number": 31
    },
    {
     "cell_type": "code",
     "collapsed": false,
     "input": [
      "def secondDig():\n",
      "\ta = np.arange(10,100)\n",
      "\tprobs = np.log10(1 + (1. / a))\n",
      "\tb = range(10)\n",
      "\ts = np.array(b*9)\n",
      "\tc = np.zeros(10)\n",
      "\tfor n in b:\n",
      "\t\tc[n] = probs[s == n].sum()\n",
      "\treturn c"
     ],
     "language": "python",
     "metadata": {},
     "outputs": [],
     "prompt_number": 32
    },
    {
     "cell_type": "code",
     "collapsed": false,
     "input": [
      "%timeit secondDigit\n",
      "%timeit secondDig"
     ],
     "language": "python",
     "metadata": {},
     "outputs": [
      {
       "output_type": "stream",
       "stream": "stdout",
       "text": [
        "10000000 loops, best of 3: 31.5 ns per loop\n",
        "10000000 loops, best of 3: 30.3 ns per loop"
       ]
      },
      {
       "output_type": "stream",
       "stream": "stdout",
       "text": [
        "\n"
       ]
      }
     ],
     "prompt_number": 33
    },
    {
     "cell_type": "code",
     "collapsed": false,
     "input": [
      "def secondD():\n",
      "    a = np.arange(10,100)\n",
      "    df = pd.DataFrame({'probs':np.log10(1 + (1. / a)), 'secdig':np.array(range(10)*9)}, index = a)\n",
      "    return df.groupby('secdig').agg(sum)\n"
     ],
     "language": "python",
     "metadata": {},
     "outputs": [],
     "prompt_number": 34
    },
    {
     "cell_type": "code",
     "collapsed": false,
     "input": [
      "secondD()"
     ],
     "language": "python",
     "metadata": {},
     "outputs": [
      {
       "html": [
        "<div style=\"max-height:1000px;max-width:1500px;overflow:auto;\">\n",
        "<table border=\"1\" class=\"dataframe\">\n",
        "  <thead>\n",
        "    <tr style=\"text-align: right;\">\n",
        "      <th></th>\n",
        "      <th>probs</th>\n",
        "    </tr>\n",
        "    <tr>\n",
        "      <th>secdig</th>\n",
        "      <th></th>\n",
        "    </tr>\n",
        "  </thead>\n",
        "  <tbody>\n",
        "    <tr>\n",
        "      <th>0</th>\n",
        "      <td> 0.119679</td>\n",
        "    </tr>\n",
        "    <tr>\n",
        "      <th>1</th>\n",
        "      <td> 0.113890</td>\n",
        "    </tr>\n",
        "    <tr>\n",
        "      <th>2</th>\n",
        "      <td> 0.108821</td>\n",
        "    </tr>\n",
        "    <tr>\n",
        "      <th>3</th>\n",
        "      <td> 0.104330</td>\n",
        "    </tr>\n",
        "    <tr>\n",
        "      <th>4</th>\n",
        "      <td> 0.100308</td>\n",
        "    </tr>\n",
        "    <tr>\n",
        "      <th>5</th>\n",
        "      <td> 0.096677</td>\n",
        "    </tr>\n",
        "    <tr>\n",
        "      <th>6</th>\n",
        "      <td> 0.093375</td>\n",
        "    </tr>\n",
        "    <tr>\n",
        "      <th>7</th>\n",
        "      <td> 0.090352</td>\n",
        "    </tr>\n",
        "    <tr>\n",
        "      <th>8</th>\n",
        "      <td> 0.087570</td>\n",
        "    </tr>\n",
        "    <tr>\n",
        "      <th>9</th>\n",
        "      <td> 0.084997</td>\n",
        "    </tr>\n",
        "  </tbody>\n",
        "</table>\n",
        "</div>"
       ],
       "metadata": {},
       "output_type": "pyout",
       "prompt_number": 35,
       "text": [
        "           probs\n",
        "secdig          \n",
        "0       0.119679\n",
        "1       0.113890\n",
        "2       0.108821\n",
        "3       0.104330\n",
        "4       0.100308\n",
        "5       0.096677\n",
        "6       0.093375\n",
        "7       0.090352\n",
        "8       0.087570\n",
        "9       0.084997"
       ]
      }
     ],
     "prompt_number": 35
    },
    {
     "cell_type": "code",
     "collapsed": false,
     "input": [
      "%timeit secondDigit\n",
      "%timeit secondDig\n",
      "%timeit secondD"
     ],
     "language": "python",
     "metadata": {},
     "outputs": [
      {
       "output_type": "stream",
       "stream": "stdout",
       "text": [
        "10000000 loops, best of 3: 31.5 ns per loop\n",
        "10000000 loops, best of 3: 29.6 ns per loop"
       ]
      },
      {
       "output_type": "stream",
       "stream": "stdout",
       "text": [
        "\n",
        "10000000 loops, best of 3: 30.2 ns per loop"
       ]
      },
      {
       "output_type": "stream",
       "stream": "stdout",
       "text": [
        "\n"
       ]
      }
     ],
     "prompt_number": 36
    },
    {
     "cell_type": "code",
     "collapsed": false,
     "input": [
      "def firstTwoDigits(output_DF=True):\n",
      "\t'''\n",
      "\tReturns the expected probabilities of the first two digits\n",
      "\taccording to Benford's distribution.\n",
      "\t\n",
      "\t- output_DF: Defaluts to Ture, Outputing a pandas Series\n",
      "\t\t\t\tobject with the probabilities and the respective\n",
      "\t\t\t\tdigits as the index, or a numpy array if False.\n",
      "\t'''\n",
      "\tFirst_2_Dig = np.arange(10,100)\n",
      "\tExpected = np.log10(1 + (1. / First_2_Dig))\n",
      "\tif output_DF == False:\n",
      "\t\treturn Expected\n",
      "\telse:\n",
      "\t\treturn pd.Series(Expected, index = First_2_Dig)"
     ],
     "language": "python",
     "metadata": {},
     "outputs": [],
     "prompt_number": 37
    },
    {
     "cell_type": "code",
     "collapsed": false,
     "input": [
      "g =firstDigit()\n",
      "g"
     ],
     "language": "python",
     "metadata": {},
     "outputs": [
      {
       "metadata": {},
       "output_type": "pyout",
       "prompt_number": 38,
       "text": [
        "array([ 0.30103   ,  0.17609126,  0.12493874,  0.09691001,  0.07918125,\n",
        "        0.06694679,  0.05799195,  0.05115252,  0.04575749])"
       ]
      }
     ],
     "prompt_number": 38
    },
    {
     "cell_type": "code",
     "collapsed": false,
     "input": [
      "secondDigit()"
     ],
     "language": "python",
     "metadata": {},
     "outputs": [
      {
       "metadata": {},
       "output_type": "pyout",
       "prompt_number": 39,
       "text": [
        "array([ 0.11967927,  0.1138901 ,  0.1088215 ,  0.10432956,  0.1003082 ,\n",
        "        0.09667724,  0.09337474,  0.09035199,  0.08757005,  0.08499735])"
       ]
      }
     ],
     "prompt_number": 39
    },
    {
     "cell_type": "code",
     "collapsed": false,
     "input": [
      "def firstTwoDigits(output_DF=True):\n",
      "\t'''\n",
      "\tReturns the expected probabilities of the first two digits\n",
      "\taccording to Benford's distribution.\n",
      "\t\n",
      "\t- output_DF: Defaluts to Ture, Outputing a pandas DataFrame\n",
      "\t\t\t\tobject with the probabilities and the respective\n",
      "\t\t\t\tdigits as the index, or a numpy array if False.\n",
      "\t'''\n",
      "\tFirst_2_Dig = np.arange(10,100)\n",
      "\tExpected = np.log10(1 + (1. / First_2_Dig))\n",
      "\tif output_DF == False:\n",
      "\t\treturn Expected\n",
      "\telse:\n",
      "\t\treturn pd.DataFrame({'First_2_Dig':First_2_Dig,\\\n",
      "                             'Expected':Expected}).set_index('First_2_Dig')"
     ],
     "language": "python",
     "metadata": {},
     "outputs": [],
     "prompt_number": 40
    },
    {
     "cell_type": "code",
     "collapsed": false,
     "input": [
      "firstTwoDigits()"
     ],
     "language": "python",
     "metadata": {},
     "outputs": [
      {
       "html": [
        "<div style=\"max-height:1000px;max-width:1500px;overflow:auto;\">\n",
        "<table border=\"1\" class=\"dataframe\">\n",
        "  <thead>\n",
        "    <tr style=\"text-align: right;\">\n",
        "      <th></th>\n",
        "      <th>Expected</th>\n",
        "    </tr>\n",
        "    <tr>\n",
        "      <th>First_2_Dig</th>\n",
        "      <th></th>\n",
        "    </tr>\n",
        "  </thead>\n",
        "  <tbody>\n",
        "    <tr>\n",
        "      <th>10</th>\n",
        "      <td> 0.041393</td>\n",
        "    </tr>\n",
        "    <tr>\n",
        "      <th>11</th>\n",
        "      <td> 0.037789</td>\n",
        "    </tr>\n",
        "    <tr>\n",
        "      <th>12</th>\n",
        "      <td> 0.034762</td>\n",
        "    </tr>\n",
        "    <tr>\n",
        "      <th>13</th>\n",
        "      <td> 0.032185</td>\n",
        "    </tr>\n",
        "    <tr>\n",
        "      <th>14</th>\n",
        "      <td> 0.029963</td>\n",
        "    </tr>\n",
        "    <tr>\n",
        "      <th>15</th>\n",
        "      <td> 0.028029</td>\n",
        "    </tr>\n",
        "    <tr>\n",
        "      <th>16</th>\n",
        "      <td> 0.026329</td>\n",
        "    </tr>\n",
        "    <tr>\n",
        "      <th>17</th>\n",
        "      <td> 0.024824</td>\n",
        "    </tr>\n",
        "    <tr>\n",
        "      <th>18</th>\n",
        "      <td> 0.023481</td>\n",
        "    </tr>\n",
        "    <tr>\n",
        "      <th>19</th>\n",
        "      <td> 0.022276</td>\n",
        "    </tr>\n",
        "    <tr>\n",
        "      <th>20</th>\n",
        "      <td> 0.021189</td>\n",
        "    </tr>\n",
        "    <tr>\n",
        "      <th>21</th>\n",
        "      <td> 0.020203</td>\n",
        "    </tr>\n",
        "    <tr>\n",
        "      <th>22</th>\n",
        "      <td> 0.019305</td>\n",
        "    </tr>\n",
        "    <tr>\n",
        "      <th>23</th>\n",
        "      <td> 0.018483</td>\n",
        "    </tr>\n",
        "    <tr>\n",
        "      <th>24</th>\n",
        "      <td> 0.017729</td>\n",
        "    </tr>\n",
        "    <tr>\n",
        "      <th>25</th>\n",
        "      <td> 0.017033</td>\n",
        "    </tr>\n",
        "    <tr>\n",
        "      <th>26</th>\n",
        "      <td> 0.016390</td>\n",
        "    </tr>\n",
        "    <tr>\n",
        "      <th>27</th>\n",
        "      <td> 0.015794</td>\n",
        "    </tr>\n",
        "    <tr>\n",
        "      <th>28</th>\n",
        "      <td> 0.015240</td>\n",
        "    </tr>\n",
        "    <tr>\n",
        "      <th>29</th>\n",
        "      <td> 0.014723</td>\n",
        "    </tr>\n",
        "    <tr>\n",
        "      <th>30</th>\n",
        "      <td> 0.014240</td>\n",
        "    </tr>\n",
        "    <tr>\n",
        "      <th>31</th>\n",
        "      <td> 0.013788</td>\n",
        "    </tr>\n",
        "    <tr>\n",
        "      <th>32</th>\n",
        "      <td> 0.013364</td>\n",
        "    </tr>\n",
        "    <tr>\n",
        "      <th>33</th>\n",
        "      <td> 0.012965</td>\n",
        "    </tr>\n",
        "    <tr>\n",
        "      <th>34</th>\n",
        "      <td> 0.012589</td>\n",
        "    </tr>\n",
        "    <tr>\n",
        "      <th>35</th>\n",
        "      <td> 0.012234</td>\n",
        "    </tr>\n",
        "    <tr>\n",
        "      <th>36</th>\n",
        "      <td> 0.011899</td>\n",
        "    </tr>\n",
        "    <tr>\n",
        "      <th>37</th>\n",
        "      <td> 0.011582</td>\n",
        "    </tr>\n",
        "    <tr>\n",
        "      <th>38</th>\n",
        "      <td> 0.011281</td>\n",
        "    </tr>\n",
        "    <tr>\n",
        "      <th>39</th>\n",
        "      <td> 0.010995</td>\n",
        "    </tr>\n",
        "    <tr>\n",
        "      <th>...</th>\n",
        "      <td>...</td>\n",
        "    </tr>\n",
        "    <tr>\n",
        "      <th>70</th>\n",
        "      <td> 0.006160</td>\n",
        "    </tr>\n",
        "    <tr>\n",
        "      <th>71</th>\n",
        "      <td> 0.006074</td>\n",
        "    </tr>\n",
        "    <tr>\n",
        "      <th>72</th>\n",
        "      <td> 0.005990</td>\n",
        "    </tr>\n",
        "    <tr>\n",
        "      <th>73</th>\n",
        "      <td> 0.005909</td>\n",
        "    </tr>\n",
        "    <tr>\n",
        "      <th>74</th>\n",
        "      <td> 0.005830</td>\n",
        "    </tr>\n",
        "    <tr>\n",
        "      <th>75</th>\n",
        "      <td> 0.005752</td>\n",
        "    </tr>\n",
        "    <tr>\n",
        "      <th>76</th>\n",
        "      <td> 0.005677</td>\n",
        "    </tr>\n",
        "    <tr>\n",
        "      <th>77</th>\n",
        "      <td> 0.005604</td>\n",
        "    </tr>\n",
        "    <tr>\n",
        "      <th>78</th>\n",
        "      <td> 0.005532</td>\n",
        "    </tr>\n",
        "    <tr>\n",
        "      <th>79</th>\n",
        "      <td> 0.005463</td>\n",
        "    </tr>\n",
        "    <tr>\n",
        "      <th>80</th>\n",
        "      <td> 0.005395</td>\n",
        "    </tr>\n",
        "    <tr>\n",
        "      <th>81</th>\n",
        "      <td> 0.005329</td>\n",
        "    </tr>\n",
        "    <tr>\n",
        "      <th>82</th>\n",
        "      <td> 0.005264</td>\n",
        "    </tr>\n",
        "    <tr>\n",
        "      <th>83</th>\n",
        "      <td> 0.005201</td>\n",
        "    </tr>\n",
        "    <tr>\n",
        "      <th>84</th>\n",
        "      <td> 0.005140</td>\n",
        "    </tr>\n",
        "    <tr>\n",
        "      <th>85</th>\n",
        "      <td> 0.005080</td>\n",
        "    </tr>\n",
        "    <tr>\n",
        "      <th>86</th>\n",
        "      <td> 0.005021</td>\n",
        "    </tr>\n",
        "    <tr>\n",
        "      <th>87</th>\n",
        "      <td> 0.004963</td>\n",
        "    </tr>\n",
        "    <tr>\n",
        "      <th>88</th>\n",
        "      <td> 0.004907</td>\n",
        "    </tr>\n",
        "    <tr>\n",
        "      <th>89</th>\n",
        "      <td> 0.004853</td>\n",
        "    </tr>\n",
        "    <tr>\n",
        "      <th>90</th>\n",
        "      <td> 0.004799</td>\n",
        "    </tr>\n",
        "    <tr>\n",
        "      <th>91</th>\n",
        "      <td> 0.004746</td>\n",
        "    </tr>\n",
        "    <tr>\n",
        "      <th>92</th>\n",
        "      <td> 0.004695</td>\n",
        "    </tr>\n",
        "    <tr>\n",
        "      <th>93</th>\n",
        "      <td> 0.004645</td>\n",
        "    </tr>\n",
        "    <tr>\n",
        "      <th>94</th>\n",
        "      <td> 0.004596</td>\n",
        "    </tr>\n",
        "    <tr>\n",
        "      <th>95</th>\n",
        "      <td> 0.004548</td>\n",
        "    </tr>\n",
        "    <tr>\n",
        "      <th>96</th>\n",
        "      <td> 0.004501</td>\n",
        "    </tr>\n",
        "    <tr>\n",
        "      <th>97</th>\n",
        "      <td> 0.004454</td>\n",
        "    </tr>\n",
        "    <tr>\n",
        "      <th>98</th>\n",
        "      <td> 0.004409</td>\n",
        "    </tr>\n",
        "    <tr>\n",
        "      <th>99</th>\n",
        "      <td> 0.004365</td>\n",
        "    </tr>\n",
        "  </tbody>\n",
        "</table>\n",
        "<p>90 rows \u00d7 1 columns</p>\n",
        "</div>"
       ],
       "metadata": {},
       "output_type": "pyout",
       "prompt_number": 41,
       "text": [
        "             Expected\n",
        "First_2_Dig          \n",
        "10           0.041393\n",
        "11           0.037789\n",
        "12           0.034762\n",
        "13           0.032185\n",
        "14           0.029963\n",
        "15           0.028029\n",
        "16           0.026329\n",
        "17           0.024824\n",
        "18           0.023481\n",
        "19           0.022276\n",
        "20           0.021189\n",
        "21           0.020203\n",
        "22           0.019305\n",
        "23           0.018483\n",
        "24           0.017729\n",
        "25           0.017033\n",
        "26           0.016390\n",
        "27           0.015794\n",
        "28           0.015240\n",
        "29           0.014723\n",
        "30           0.014240\n",
        "31           0.013788\n",
        "32           0.013364\n",
        "33           0.012965\n",
        "34           0.012589\n",
        "35           0.012234\n",
        "36           0.011899\n",
        "37           0.011582\n",
        "38           0.011281\n",
        "39           0.010995\n",
        "...               ...\n",
        "70           0.006160\n",
        "71           0.006074\n",
        "72           0.005990\n",
        "73           0.005909\n",
        "74           0.005830\n",
        "75           0.005752\n",
        "76           0.005677\n",
        "77           0.005604\n",
        "78           0.005532\n",
        "79           0.005463\n",
        "80           0.005395\n",
        "81           0.005329\n",
        "82           0.005264\n",
        "83           0.005201\n",
        "84           0.005140\n",
        "85           0.005080\n",
        "86           0.005021\n",
        "87           0.004963\n",
        "88           0.004907\n",
        "89           0.004853\n",
        "90           0.004799\n",
        "91           0.004746\n",
        "92           0.004695\n",
        "93           0.004645\n",
        "94           0.004596\n",
        "95           0.004548\n",
        "96           0.004501\n",
        "97           0.004454\n",
        "98           0.004409\n",
        "99           0.004365\n",
        "\n",
        "[90 rows x 1 columns]"
       ]
      }
     ],
     "prompt_number": 41
    }
   ],
   "metadata": {}
  }
 ]
}