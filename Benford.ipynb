{
 "metadata": {
  "name": "",
  "signature": "sha256:9b9675646574f4b0ac2e88ddb206a52e3ba7b5132c1b627c85e8724b9b6c24df"
 },
 "nbformat": 3,
 "nbformat_minor": 0,
 "worksheets": [
  {
   "cells": [
    {
     "cell_type": "code",
     "collapsed": false,
     "input": [
      "import pandas as pd\n",
      "import numpy as np\n",
      "import matplotlib.pyplot as plt"
     ],
     "language": "python",
     "metadata": {},
     "outputs": [],
     "prompt_number": 1
    },
    {
     "cell_type": "code",
     "collapsed": false,
     "input": [
      "t = np.arange(10,1000,10)"
     ],
     "language": "python",
     "metadata": {},
     "outputs": [],
     "prompt_number": 2
    },
    {
     "cell_type": "code",
     "collapsed": false,
     "input": [
      "t[:10]"
     ],
     "language": "python",
     "metadata": {},
     "outputs": [
      {
       "metadata": {},
       "output_type": "pyout",
       "prompt_number": 3,
       "text": [
        "array([ 10,  20,  30,  40,  50,  60,  70,  80,  90, 100])"
       ]
      }
     ],
     "prompt_number": 3
    },
    {
     "cell_type": "heading",
     "level": 4,
     "metadata": {},
     "source": [
      "Getting the Mantissas"
     ]
    },
    {
     "cell_type": "code",
     "collapsed": false,
     "input": [
      "np.log10(t) - np.log10(t).astype(int)"
     ],
     "language": "python",
     "metadata": {},
     "outputs": [
      {
       "metadata": {},
       "output_type": "pyout",
       "prompt_number": 4,
       "text": [
        "array([ 0.        ,  0.30103   ,  0.47712125,  0.60205999,  0.69897   ,\n",
        "        0.77815125,  0.84509804,  0.90308999,  0.95424251,  0.        ,\n",
        "        0.04139269,  0.07918125,  0.11394335,  0.14612804,  0.17609126,\n",
        "        0.20411998,  0.23044892,  0.25527251,  0.2787536 ,  0.30103   ,\n",
        "        0.32221929,  0.34242268,  0.36172784,  0.38021124,  0.39794001,\n",
        "        0.41497335,  0.43136376,  0.44715803,  0.462398  ,  0.47712125,\n",
        "        0.49136169,  0.50514998,  0.51851394,  0.53147892,  0.54406804,\n",
        "        0.5563025 ,  0.56820172,  0.5797836 ,  0.59106461,  0.60205999,\n",
        "        0.61278386,  0.62324929,  0.63346846,  0.64345268,  0.65321251,\n",
        "        0.66275783,  0.67209786,  0.68124124,  0.69019608,  0.69897   ,\n",
        "        0.70757018,  0.71600334,  0.72427587,  0.73239376,  0.74036269,\n",
        "        0.74818803,  0.75587486,  0.76342799,  0.77085201,  0.77815125,\n",
        "        0.78532984,  0.79239169,  0.79934055,  0.80617997,  0.81291336,\n",
        "        0.81954394,  0.8260748 ,  0.83250891,  0.83884909,  0.84509804,\n",
        "        0.85125835,  0.8573325 ,  0.86332286,  0.86923172,  0.87506126,\n",
        "        0.88081359,  0.88649073,  0.8920946 ,  0.89762709,  0.90308999,\n",
        "        0.90848502,  0.91381385,  0.91907809,  0.92427929,  0.92941893,\n",
        "        0.93449845,  0.93951925,  0.94448267,  0.94939001,  0.95424251,\n",
        "        0.95904139,  0.96378783,  0.96848295,  0.97312785,  0.97772361,\n",
        "        0.98227123,  0.98677173,  0.99122608,  0.99563519])"
       ]
      }
     ],
     "prompt_number": 4
    },
    {
     "cell_type": "code",
     "collapsed": false,
     "input": [
      "g = np.random.randint(1000, size =200)\n",
      "g"
     ],
     "language": "python",
     "metadata": {},
     "outputs": [
      {
       "metadata": {},
       "output_type": "pyout",
       "prompt_number": 5,
       "text": [
        "array([315, 810, 565, 886,  86, 641, 797, 296,  70, 298, 579, 390, 149,\n",
        "       484, 141, 952, 800, 821, 519, 620, 254, 447, 414, 229, 650, 131,\n",
        "       561, 718, 738, 195, 511,  13, 394, 520, 508, 233, 101, 742, 617,\n",
        "       915, 569, 301, 514, 980, 527, 339, 470, 777, 816, 645, 358, 673,\n",
        "       386,  73,  95, 565, 656, 511, 118, 736, 939, 548, 429, 369, 445,\n",
        "       754, 338, 493, 118, 523, 857, 319, 479, 681, 487, 137, 633, 690,\n",
        "       435, 402,  87, 795, 521, 289, 553, 768, 401, 721, 125,  16, 159,\n",
        "       592, 813, 922, 373, 789, 205, 673, 969, 717, 278, 462, 294, 168,\n",
        "       367, 500, 422, 671, 794, 208, 238, 390, 703, 748, 335, 133,  44,\n",
        "       106, 922, 143, 816, 972, 585, 254, 191, 860, 726,  66, 152, 342,\n",
        "       698, 163, 314, 532, 671, 692, 402, 634, 235, 918, 709, 826, 182,\n",
        "       834, 973, 272, 194, 996, 109, 138, 555,  56,  70, 768, 292, 762,\n",
        "       870, 810, 422, 790,  56, 105, 610, 546, 163, 203, 184, 651, 272,\n",
        "       915, 232, 339, 312, 923, 983, 761, 565,  57, 799, 108, 498,  79,\n",
        "       897, 427, 176, 507, 774, 500, 860, 862, 754, 992, 678, 585, 645,\n",
        "       368,  75, 717, 796, 616])"
       ]
      }
     ],
     "prompt_number": 5
    },
    {
     "cell_type": "code",
     "collapsed": false,
     "input": [
      "m = np.log10(g) - np.log10(g).astype(int)\n",
      "m"
     ],
     "language": "python",
     "metadata": {},
     "outputs": [
      {
       "metadata": {},
       "output_type": "pyout",
       "prompt_number": 6,
       "text": [
        "array([ 0.49831055,  0.90848502,  0.75204845,  0.94743372,  0.93449845,\n",
        "        0.80685803,  0.90145832,  0.47129171,  0.84509804,  0.47421626,\n",
        "        0.76267856,  0.59106461,  0.17318627,  0.68484536,  0.14921911,\n",
        "        0.97863695,  0.90308999,  0.91434316,  0.71516736,  0.79239169,\n",
        "        0.40483372,  0.65030752,  0.61700034,  0.35983548,  0.81291336,\n",
        "        0.1172713 ,  0.74896286,  0.85612444,  0.86805636,  0.29003461,\n",
        "        0.7084209 ,  0.11394335,  0.59549622,  0.71600334,  0.70586371,\n",
        "        0.36735592,  0.00432137,  0.87040391,  0.79028516,  0.96142109,\n",
        "        0.75511227,  0.4785665 ,  0.71096312,  0.99122608,  0.72181062,\n",
        "        0.5301997 ,  0.67209786,  0.89042102,  0.91169016,  0.80955971,\n",
        "        0.55388303,  0.82801506,  0.5865873 ,  0.86332286,  0.97772361,\n",
        "        0.75204845,  0.81690384,  0.7084209 ,  0.07188201,  0.86687781,\n",
        "        0.97266559,  0.73878056,  0.63245729,  0.56702637,  0.64836001,\n",
        "        0.87737135,  0.5289167 ,  0.69284692,  0.07188201,  0.71850169,\n",
        "        0.93298082,  0.50379068,  0.68033551,  0.83314711,  0.68752896,\n",
        "        0.13672057,  0.80140371,  0.83884909,  0.63848926,  0.60422605,\n",
        "        0.93951925,  0.90036713,  0.71683772,  0.46089784,  0.74272513,\n",
        "        0.88536122,  0.60314437,  0.85793526,  0.09691001,  0.20411998,\n",
        "        0.20139712,  0.77232171,  0.91009055,  0.96473092,  0.57170883,\n",
        "        0.897077  ,  0.31175386,  0.82801506,  0.98632378,  0.85551916,\n",
        "        0.4440448 ,  0.66464198,  0.46834733,  0.22530928,  0.56466606,\n",
        "        0.69897   ,  0.62531245,  0.82672252,  0.8998205 ,  0.31806333,\n",
        "        0.37657696,  0.59106461,  0.84695533,  0.8739016 ,  0.52504481,\n",
        "        0.12385164,  0.64345268,  0.02530587,  0.96473092,  0.15533604,\n",
        "        0.91169016,  0.98766626,  0.76715587,  0.40483372,  0.28103337,\n",
        "        0.93449845,  0.86093662,  0.81954394,  0.18184359,  0.53402611,\n",
        "        0.84385542,  0.2121876 ,  0.49692965,  0.72591163,  0.82672252,\n",
        "        0.84010609,  0.60422605,  0.80208926,  0.37106786,  0.96284268,\n",
        "        0.85064624,  0.91698005,  0.26007139,  0.92116605,  0.98811284,\n",
        "        0.4345689 ,  0.28780173,  0.99825934,  0.0374265 ,  0.13987909,\n",
        "        0.74429298,  0.74818803,  0.84509804,  0.88536122,  0.46538285,\n",
        "        0.88195497,  0.93951925,  0.90848502,  0.62531245,  0.89762709,\n",
        "        0.74818803,  0.0211893 ,  0.78532984,  0.73719264,  0.2121876 ,\n",
        "        0.30749604,  0.26481782,  0.81358099,  0.4345689 ,  0.96142109,\n",
        "        0.36548798,  0.5301997 ,  0.49415459,  0.9652017 ,  0.99255352,\n",
        "        0.88138466,  0.75204845,  0.75587486,  0.90254678,  0.03342376,\n",
        "        0.69722934,  0.89762709,  0.95279244,  0.63042788,  0.24551267,\n",
        "        0.70500796,  0.88874096,  0.69897   ,  0.93449845,  0.93550727,\n",
        "        0.87737135,  0.99651167,  0.83122969,  0.76715587,  0.80955971,\n",
        "        0.56584782,  0.87506126,  0.85551916,  0.90091307,  0.78958071])"
       ]
      }
     ],
     "prompt_number": 6
    },
    {
     "cell_type": "heading",
     "level": 4,
     "metadata": {},
     "source": [
      "Ordering the Mantissas and Plotting"
     ]
    },
    {
     "cell_type": "code",
     "collapsed": false,
     "input": [
      "m.sort()\n",
      "m"
     ],
     "language": "python",
     "metadata": {},
     "outputs": [
      {
       "metadata": {},
       "output_type": "pyout",
       "prompt_number": 7,
       "text": [
        "array([ 0.00432137,  0.0211893 ,  0.02530587,  0.03342376,  0.0374265 ,\n",
        "        0.07188201,  0.07188201,  0.09691001,  0.11394335,  0.1172713 ,\n",
        "        0.12385164,  0.13672057,  0.13987909,  0.14921911,  0.15533604,\n",
        "        0.17318627,  0.18184359,  0.20139712,  0.20411998,  0.2121876 ,\n",
        "        0.2121876 ,  0.22530928,  0.24551267,  0.26007139,  0.26481782,\n",
        "        0.28103337,  0.28780173,  0.29003461,  0.30749604,  0.31175386,\n",
        "        0.31806333,  0.35983548,  0.36548798,  0.36735592,  0.37106786,\n",
        "        0.37657696,  0.40483372,  0.40483372,  0.4345689 ,  0.4345689 ,\n",
        "        0.4440448 ,  0.46089784,  0.46538285,  0.46834733,  0.47129171,\n",
        "        0.47421626,  0.4785665 ,  0.49415459,  0.49692965,  0.49831055,\n",
        "        0.50379068,  0.52504481,  0.5289167 ,  0.5301997 ,  0.5301997 ,\n",
        "        0.53402611,  0.55388303,  0.56466606,  0.56584782,  0.56702637,\n",
        "        0.57170883,  0.5865873 ,  0.59106461,  0.59106461,  0.59549622,\n",
        "        0.60314437,  0.60422605,  0.60422605,  0.61700034,  0.62531245,\n",
        "        0.62531245,  0.63042788,  0.63245729,  0.63848926,  0.64345268,\n",
        "        0.64836001,  0.65030752,  0.66464198,  0.67209786,  0.68033551,\n",
        "        0.68484536,  0.68752896,  0.69284692,  0.69722934,  0.69897   ,\n",
        "        0.69897   ,  0.70500796,  0.70586371,  0.7084209 ,  0.7084209 ,\n",
        "        0.71096312,  0.71516736,  0.71600334,  0.71683772,  0.71850169,\n",
        "        0.72181062,  0.72591163,  0.73719264,  0.73878056,  0.74272513,\n",
        "        0.74429298,  0.74818803,  0.74818803,  0.74896286,  0.75204845,\n",
        "        0.75204845,  0.75204845,  0.75511227,  0.75587486,  0.76267856,\n",
        "        0.76715587,  0.76715587,  0.77232171,  0.78532984,  0.78958071,\n",
        "        0.79028516,  0.79239169,  0.80140371,  0.80208926,  0.80685803,\n",
        "        0.80955971,  0.80955971,  0.81291336,  0.81358099,  0.81690384,\n",
        "        0.81954394,  0.82672252,  0.82672252,  0.82801506,  0.82801506,\n",
        "        0.83122969,  0.83314711,  0.83884909,  0.84010609,  0.84385542,\n",
        "        0.84509804,  0.84509804,  0.84695533,  0.85064624,  0.85551916,\n",
        "        0.85551916,  0.85612444,  0.85793526,  0.86093662,  0.86332286,\n",
        "        0.86687781,  0.86805636,  0.87040391,  0.8739016 ,  0.87506126,\n",
        "        0.87737135,  0.87737135,  0.88138466,  0.88195497,  0.88536122,\n",
        "        0.88536122,  0.88874096,  0.89042102,  0.897077  ,  0.89762709,\n",
        "        0.89762709,  0.8998205 ,  0.90036713,  0.90091307,  0.90145832,\n",
        "        0.90254678,  0.90308999,  0.90848502,  0.90848502,  0.91009055,\n",
        "        0.91169016,  0.91169016,  0.91434316,  0.91698005,  0.92116605,\n",
        "        0.93298082,  0.93449845,  0.93449845,  0.93449845,  0.93550727,\n",
        "        0.93951925,  0.93951925,  0.94743372,  0.95279244,  0.96142109,\n",
        "        0.96142109,  0.96284268,  0.96473092,  0.96473092,  0.9652017 ,\n",
        "        0.97266559,  0.97772361,  0.97863695,  0.98632378,  0.98766626,\n",
        "        0.98811284,  0.99122608,  0.99255352,  0.99651167,  0.99825934])"
       ]
      }
     ],
     "prompt_number": 7
    },
    {
     "cell_type": "code",
     "collapsed": false,
     "input": [
      "pylab inline"
     ],
     "language": "python",
     "metadata": {},
     "outputs": [
      {
       "output_type": "stream",
       "stream": "stdout",
       "text": [
        "Populating the interactive namespace from numpy and matplotlib\n"
       ]
      }
     ],
     "prompt_number": 8
    },
    {
     "cell_type": "code",
     "collapsed": false,
     "input": [
      "plt.plot(np.arange(len(m)), m)"
     ],
     "language": "python",
     "metadata": {},
     "outputs": [
      {
       "metadata": {},
       "output_type": "pyout",
       "prompt_number": 9,
       "text": [
        "[<matplotlib.lines.Line2D at 0x7f94af223a10>]"
       ]
      },
      {
       "metadata": {},
       "output_type": "display_data",
       "png": "[encoded data removed]",
       "text": [
        "<matplotlib.figure.Figure at 0x7f94af284910>"
       ]
      }
     ],
     "prompt_number": 9
    },
    {
     "cell_type": "code",
     "collapsed": false,
     "input": [
      "g.sort()\n",
      "g"
     ],
     "language": "python",
     "metadata": {},
     "outputs": [
      {
       "metadata": {},
       "output_type": "pyout",
       "prompt_number": 10,
       "text": [
        "array([ 13,  16,  44,  56,  56,  57,  66,  70,  70,  73,  75,  79,  86,\n",
        "        87,  95, 101, 105, 106, 108, 109, 118, 118, 125, 131, 133, 137,\n",
        "       138, 141, 143, 149, 152, 159, 163, 163, 168, 176, 182, 184, 191,\n",
        "       194, 195, 203, 205, 208, 229, 232, 233, 235, 238, 254, 254, 272,\n",
        "       272, 278, 289, 292, 294, 296, 298, 301, 312, 314, 315, 319, 335,\n",
        "       338, 339, 339, 342, 358, 367, 368, 369, 373, 386, 390, 390, 394,\n",
        "       401, 402, 402, 414, 422, 422, 427, 429, 435, 445, 447, 462, 470,\n",
        "       479, 484, 487, 493, 498, 500, 500, 507, 508, 511, 511, 514, 519,\n",
        "       520, 521, 523, 527, 532, 546, 548, 553, 555, 561, 565, 565, 565,\n",
        "       569, 579, 585, 585, 592, 610, 616, 617, 620, 633, 634, 641, 645,\n",
        "       645, 650, 651, 656, 671, 671, 673, 673, 678, 681, 690, 692, 698,\n",
        "       703, 709, 717, 717, 718, 721, 726, 736, 738, 742, 748, 754, 754,\n",
        "       761, 762, 768, 768, 774, 777, 789, 790, 794, 795, 796, 797, 799,\n",
        "       800, 810, 810, 813, 816, 816, 821, 826, 834, 857, 860, 860, 862,\n",
        "       870, 886, 897, 915, 915, 918, 922, 922, 923, 939, 952, 969, 972,\n",
        "       973, 980, 983, 992, 996])"
       ]
      }
     ],
     "prompt_number": 10
    },
    {
     "cell_type": "code",
     "collapsed": false,
     "input": [
      "plt.plot(g, m)\n",
      "plt.grid()"
     ],
     "language": "python",
     "metadata": {},
     "outputs": [
      {
       "metadata": {},
       "output_type": "display_data",
       "png": "[encoded data removed]",
       "text": [
        "<matplotlib.figure.Figure at 0x7f94af174490>"
       ]
      }
     ],
     "prompt_number": 11
    },
    {
     "cell_type": "code",
     "collapsed": false,
     "input": [
      "tt = pd.DataFrame(g, columns=['numbers'])\n",
      "tt.head()"
     ],
     "language": "python",
     "metadata": {},
     "outputs": [
      {
       "html": [
        "<div style=\"max-height:1000px;max-width:1500px;overflow:auto;\">\n",
        "<table border=\"1\" class=\"dataframe\">\n",
        "  <thead>\n",
        "    <tr style=\"text-align: right;\">\n",
        "      <th></th>\n",
        "      <th>numbers</th>\n",
        "    </tr>\n",
        "  </thead>\n",
        "  <tbody>\n",
        "    <tr>\n",
        "      <th>0</th>\n",
        "      <td> 13</td>\n",
        "    </tr>\n",
        "    <tr>\n",
        "      <th>1</th>\n",
        "      <td> 16</td>\n",
        "    </tr>\n",
        "    <tr>\n",
        "      <th>2</th>\n",
        "      <td> 44</td>\n",
        "    </tr>\n",
        "    <tr>\n",
        "      <th>3</th>\n",
        "      <td> 56</td>\n",
        "    </tr>\n",
        "    <tr>\n",
        "      <th>4</th>\n",
        "      <td> 56</td>\n",
        "    </tr>\n",
        "  </tbody>\n",
        "</table>\n",
        "</div>"
       ],
       "metadata": {},
       "output_type": "pyout",
       "prompt_number": 12,
       "text": [
        "   numbers\n",
        "0       13\n",
        "1       16\n",
        "2       44\n",
        "3       56\n",
        "4       56"
       ]
      }
     ],
     "prompt_number": 12
    },
    {
     "cell_type": "code",
     "collapsed": false,
     "input": [
      "def _get_mantissas_(arr):\n",
      "\t'''\n",
      "\tThe mantissa is the non-integer part of the log of a number.\n",
      "\tThis fuction uses the element-wise array operations on numpy\n",
      "\tto get the mantissas of each number's log.\n",
      "\n",
      "\tarr: numpy array of integers or floats\n",
      "\t'''\n",
      "\n",
      "\treturn np.log10(arr) - np.log10(arr).astype(int)"
     ],
     "language": "python",
     "metadata": {},
     "outputs": [],
     "prompt_number": 13
    },
    {
     "cell_type": "code",
     "collapsed": false,
     "input": [
      "tt['mantissas']=np.log10(tt.numbers) - np.log10(tt.numbers).astype(int)\n",
      "tt = tt.sort(columns='mantissas')         #sort DataFrame by mantissas column\n",
      "tt.head()"
     ],
     "language": "python",
     "metadata": {},
     "outputs": [
      {
       "html": [
        "<div style=\"max-height:1000px;max-width:1500px;overflow:auto;\">\n",
        "<table border=\"1\" class=\"dataframe\">\n",
        "  <thead>\n",
        "    <tr style=\"text-align: right;\">\n",
        "      <th></th>\n",
        "      <th>numbers</th>\n",
        "      <th>mantissas</th>\n",
        "    </tr>\n",
        "  </thead>\n",
        "  <tbody>\n",
        "    <tr>\n",
        "      <th>15</th>\n",
        "      <td> 101</td>\n",
        "      <td> 0.004321</td>\n",
        "    </tr>\n",
        "    <tr>\n",
        "      <th>16</th>\n",
        "      <td> 105</td>\n",
        "      <td> 0.021189</td>\n",
        "    </tr>\n",
        "    <tr>\n",
        "      <th>17</th>\n",
        "      <td> 106</td>\n",
        "      <td> 0.025306</td>\n",
        "    </tr>\n",
        "    <tr>\n",
        "      <th>18</th>\n",
        "      <td> 108</td>\n",
        "      <td> 0.033424</td>\n",
        "    </tr>\n",
        "    <tr>\n",
        "      <th>19</th>\n",
        "      <td> 109</td>\n",
        "      <td> 0.037426</td>\n",
        "    </tr>\n",
        "  </tbody>\n",
        "</table>\n",
        "</div>"
       ],
       "metadata": {},
       "output_type": "pyout",
       "prompt_number": 14,
       "text": [
        "    numbers  mantissas\n",
        "15      101   0.004321\n",
        "16      105   0.021189\n",
        "17      106   0.025306\n",
        "18      108   0.033424\n",
        "19      109   0.037426"
       ]
      }
     ],
     "prompt_number": 14
    },
    {
     "cell_type": "code",
     "collapsed": false,
     "input": [
      "plt.plot(tt.numbers, tt.mantissas)"
     ],
     "language": "python",
     "metadata": {},
     "outputs": [
      {
       "metadata": {},
       "output_type": "pyout",
       "prompt_number": 15,
       "text": [
        "[<matplotlib.lines.Line2D at 0x7f94af108d10>]"
       ]
      },
      {
       "metadata": {},
       "output_type": "display_data",
       "png": "[encoded data removed]",
       "text": [
        "<matplotlib.figure.Figure at 0x7f94d41a2110>"
       ]
      }
     ],
     "prompt_number": 15
    },
    {
     "cell_type": "code",
     "collapsed": false,
     "input": [
      "plt.plot(np.arange(len(tt)), tt.mantissas)"
     ],
     "language": "python",
     "metadata": {},
     "outputs": [
      {
       "metadata": {},
       "output_type": "pyout",
       "prompt_number": 16,
       "text": [
        "[<matplotlib.lines.Line2D at 0x7f94af0594d0>]"
       ]
      },
      {
       "metadata": {},
       "output_type": "display_data",
       "png": "[encoded data removed]",
       "text": [
        "<matplotlib.figure.Figure at 0x7f94af284850>"
       ]
      }
     ],
     "prompt_number": 16
    },
    {
     "cell_type": "code",
     "collapsed": false,
     "input": [
      "tt['m2'] = _get_mantissas_(tt.numbers)\n",
      "sum(tt.mantissas!=tt.m2)"
     ],
     "language": "python",
     "metadata": {},
     "outputs": [
      {
       "metadata": {},
       "output_type": "pyout",
       "prompt_number": 17,
       "text": [
        "0"
       ]
      }
     ],
     "prompt_number": 17
    },
    {
     "cell_type": "code",
     "collapsed": false,
     "input": [
      "tt['ms']=tt.m2.cumsum()\n",
      "plt.plot(np.arange(len(tt.ms)), tt.ms)"
     ],
     "language": "python",
     "metadata": {},
     "outputs": [
      {
       "metadata": {},
       "output_type": "pyout",
       "prompt_number": 18,
       "text": [
        "[<matplotlib.lines.Line2D at 0x7f94aef7bdd0>]"
       ]
      },
      {
       "metadata": {},
       "output_type": "display_data",
       "png": "[encoded data removed]",
       "text": [
        "<matplotlib.figure.Figure at 0x7f94af08f790>"
       ]
      }
     ],
     "prompt_number": 18
    },
    {
     "cell_type": "code",
     "collapsed": false,
     "input": [
      "h = 9.234\n",
      "h*=100\n",
      "str(h)[:2]"
     ],
     "language": "python",
     "metadata": {},
     "outputs": [
      {
       "metadata": {},
       "output_type": "pyout",
       "prompt_number": 19,
       "text": [
        "'92'"
       ]
      }
     ],
     "prompt_number": 19
    },
    {
     "cell_type": "code",
     "collapsed": false,
     "input": [
      "len(str((1/m[3]).astype(int)))"
     ],
     "language": "python",
     "metadata": {},
     "outputs": [
      {
       "metadata": {},
       "output_type": "pyout",
       "prompt_number": 20,
       "text": [
        "2"
       ]
      }
     ],
     "prompt_number": 20
    },
    {
     "cell_type": "code",
     "collapsed": false,
     "input": [
      "eb = np.arange(10,100).reshape(90,1)\n",
      "eb = eb.astype(str)\n",
      "eb[:,0]"
     ],
     "language": "python",
     "metadata": {},
     "outputs": [
      {
       "metadata": {},
       "output_type": "pyout",
       "prompt_number": 21,
       "text": [
        "array(['10', '11', '12', '13', '14', '15', '16', '17', '18', '19', '20',\n",
        "       '21', '22', '23', '24', '25', '26', '27', '28', '29', '30', '31',\n",
        "       '32', '33', '34', '35', '36', '37', '38', '39', '40', '41', '42',\n",
        "       '43', '44', '45', '46', '47', '48', '49', '50', '51', '52', '53',\n",
        "       '54', '55', '56', '57', '58', '59', '60', '61', '62', '63', '64',\n",
        "       '65', '66', '67', '68', '69', '70', '71', '72', '73', '74', '75',\n",
        "       '76', '77', '78', '79', '80', '81', '82', '83', '84', '85', '86',\n",
        "       '87', '88', '89', '90', '91', '92', '93', '94', '95', '96', '97',\n",
        "       '98', '99'], \n",
        "      dtype='|S21')"
       ]
      }
     ],
     "prompt_number": 21
    },
    {
     "cell_type": "code",
     "collapsed": false,
     "input": [
      "eb = np.arange(10,100)\n",
      "eb = eb.astype(str)\n",
      "f = np.array([l[0] for l in eb]).reshape(90,1)\n",
      "s = np.array([l[1] for l in eb]).reshape(90,1)\n",
      "eb = np.hstack((f,s)).astype(int)\n",
      "eb[:,0]"
     ],
     "language": "python",
     "metadata": {},
     "outputs": [
      {
       "metadata": {},
       "output_type": "pyout",
       "prompt_number": 22,
       "text": [
        "array([1, 1, 1, 1, 1, 1, 1, 1, 1, 1, 2, 2, 2, 2, 2, 2, 2, 2, 2, 2, 3, 3, 3,\n",
        "       3, 3, 3, 3, 3, 3, 3, 4, 4, 4, 4, 4, 4, 4, 4, 4, 4, 5, 5, 5, 5, 5, 5,\n",
        "       5, 5, 5, 5, 6, 6, 6, 6, 6, 6, 6, 6, 6, 6, 7, 7, 7, 7, 7, 7, 7, 7, 7,\n",
        "       7, 8, 8, 8, 8, 8, 8, 8, 8, 8, 8, 9, 9, 9, 9, 9, 9, 9, 9, 9, 9])"
       ]
      }
     ],
     "prompt_number": 22
    },
    {
     "cell_type": "code",
     "collapsed": false,
     "input": [
      "e2 = np.arange(10,100)\n",
      "p = np.log10(1+(1./e2))\n",
      "plt.bar(e2,p)"
     ],
     "language": "python",
     "metadata": {},
     "outputs": [
      {
       "metadata": {},
       "output_type": "pyout",
       "prompt_number": 23,
       "text": [
        "<Container object of 90 artists>"
       ]
      },
      {
       "metadata": {},
       "output_type": "display_data",
       "png": "[encoded data removed]",
       "text": [
        "<matplotlib.figure.Figure at 0x7f94af005090>"
       ]
      }
     ],
     "prompt_number": 23
    },
    {
     "cell_type": "code",
     "collapsed": false,
     "input": [
      "e3 = e2.astype(str)\n",
      "s = np.array([l[1] for l in e3]).astype(int)\n",
      "p[s == 0].sum()"
     ],
     "language": "python",
     "metadata": {},
     "outputs": [
      {
       "metadata": {},
       "output_type": "pyout",
       "prompt_number": 24,
       "text": [
        "0.11967926859688073"
       ]
      }
     ],
     "prompt_number": 24
    },
    {
     "cell_type": "code",
     "collapsed": false,
     "input": [
      "def secondDigit():\n",
      "\ta = np.arange(10,100)\n",
      "\taa = a.astype(str)\n",
      "\ts = np.array([l[1] for l in aa]).astype(int)\n",
      "\tb = np.arange(0,10)\n",
      "\tprobs = np.log10(1 + (1. / a))\n",
      "\tc = np.zeros(10)\n",
      "\tfor n in b:\n",
      "\t\tc[n] = probs[s == n].sum()\n",
      "\treturn c"
     ],
     "language": "python",
     "metadata": {},
     "outputs": [],
     "prompt_number": 25
    },
    {
     "cell_type": "code",
     "collapsed": false,
     "input": [
      "secondDigit()"
     ],
     "language": "python",
     "metadata": {},
     "outputs": [
      {
       "metadata": {},
       "output_type": "pyout",
       "prompt_number": 26,
       "text": [
        "array([ 0.11967927,  0.1138901 ,  0.1088215 ,  0.10432956,  0.1003082 ,\n",
        "        0.09667724,  0.09337474,  0.09035199,  0.08757005,  0.08499735])"
       ]
      }
     ],
     "prompt_number": 26
    },
    {
     "cell_type": "code",
     "collapsed": false,
     "input": [
      "def firstDigit():\n",
      "\ta = np.arange(1,10)\n",
      "\treturn np.log10(1 + (1. / a))"
     ],
     "language": "python",
     "metadata": {},
     "outputs": [],
     "prompt_number": 27
    },
    {
     "cell_type": "code",
     "collapsed": false,
     "input": [
      "a5 = np.arange(0,10)\n",
      "plt.plot(a5, secondDigit())\n",
      "plt.ylim((0,.15))"
     ],
     "language": "python",
     "metadata": {},
     "outputs": [
      {
       "metadata": {},
       "output_type": "pyout",
       "prompt_number": 28,
       "text": [
        "(0, 0.15)"
       ]
      },
      {
       "metadata": {},
       "output_type": "display_data",
       "png": "[encoded data removed]",
       "text": [
        "<matplotlib.figure.Figure at 0x7f94af00e050>"
       ]
      }
     ],
     "prompt_number": 28
    },
    {
     "cell_type": "code",
     "collapsed": false,
     "input": [
      "np.array(range(10)*10)"
     ],
     "language": "python",
     "metadata": {},
     "outputs": [
      {
       "metadata": {},
       "output_type": "pyout",
       "prompt_number": 29,
       "text": [
        "array([0, 1, 2, 3, 4, 5, 6, 7, 8, 9, 0, 1, 2, 3, 4, 5, 6, 7, 8, 9, 0, 1, 2,\n",
        "       3, 4, 5, 6, 7, 8, 9, 0, 1, 2, 3, 4, 5, 6, 7, 8, 9, 0, 1, 2, 3, 4, 5,\n",
        "       6, 7, 8, 9, 0, 1, 2, 3, 4, 5, 6, 7, 8, 9, 0, 1, 2, 3, 4, 5, 6, 7, 8,\n",
        "       9, 0, 1, 2, 3, 4, 5, 6, 7, 8, 9, 0, 1, 2, 3, 4, 5, 6, 7, 8, 9, 0, 1,\n",
        "       2, 3, 4, 5, 6, 7, 8, 9])"
       ]
      }
     ],
     "prompt_number": 29
    },
    {
     "cell_type": "code",
     "collapsed": false,
     "input": [
      "firstDigit()"
     ],
     "language": "python",
     "metadata": {},
     "outputs": [
      {
       "metadata": {},
       "output_type": "pyout",
       "prompt_number": 30,
       "text": [
        "array([ 0.30103   ,  0.17609126,  0.12493874,  0.09691001,  0.07918125,\n",
        "        0.06694679,  0.05799195,  0.05115252,  0.04575749])"
       ]
      }
     ],
     "prompt_number": 30
    },
    {
     "cell_type": "code",
     "collapsed": false,
     "input": [
      "a6 = np.arange(1,10)\n",
      "plt.bar(a6,firstDigit())"
     ],
     "language": "python",
     "metadata": {},
     "outputs": [
      {
       "metadata": {},
       "output_type": "pyout",
       "prompt_number": 31,
       "text": [
        "<Container object of 9 artists>"
       ]
      },
      {
       "metadata": {},
       "output_type": "display_data",
       "png": "[encoded data removed]",
       "text": [
        "<matplotlib.figure.Figure at 0x7f94aebbf550>"
       ]
      }
     ],
     "prompt_number": 31
    },
    {
     "cell_type": "code",
     "collapsed": false,
     "input": [
      "def secondDig():\n",
      "\ta = np.arange(10,100)\n",
      "\tprobs = np.log10(1 + (1. / a))\n",
      "\tb = range(10)\n",
      "\ts = np.array(b*9)\n",
      "\tc = np.zeros(10)\n",
      "\tfor n in b:\n",
      "\t\tc[n] = probs[s == n].sum()\n",
      "\treturn c"
     ],
     "language": "python",
     "metadata": {},
     "outputs": [],
     "prompt_number": 32
    },
    {
     "cell_type": "code",
     "collapsed": false,
     "input": [
      "%timeit secondDigit\n",
      "%timeit secondDig"
     ],
     "language": "python",
     "metadata": {},
     "outputs": [
      {
       "output_type": "stream",
       "stream": "stdout",
       "text": [
        "10000000 loops, best of 3: 30.6 ns per loop\n",
        "10000000 loops, best of 3: 29.5 ns per loop"
       ]
      },
      {
       "output_type": "stream",
       "stream": "stdout",
       "text": [
        "\n"
       ]
      }
     ],
     "prompt_number": 33
    },
    {
     "cell_type": "code",
     "collapsed": false,
     "input": [
      "def secondD():\n",
      "    a = np.arange(10,100)\n",
      "    df = pd.DataFrame({'probs':np.log10(1 + (1. / a)), 'secdig':np.array(range(10)*9)}, index = a)\n",
      "    return df.groupby('secdig').agg(sum)\n"
     ],
     "language": "python",
     "metadata": {},
     "outputs": [],
     "prompt_number": 34
    },
    {
     "cell_type": "code",
     "collapsed": false,
     "input": [
      "secondD()"
     ],
     "language": "python",
     "metadata": {},
     "outputs": [
      {
       "html": [
        "<div style=\"max-height:1000px;max-width:1500px;overflow:auto;\">\n",
        "<table border=\"1\" class=\"dataframe\">\n",
        "  <thead>\n",
        "    <tr style=\"text-align: right;\">\n",
        "      <th></th>\n",
        "      <th>probs</th>\n",
        "    </tr>\n",
        "    <tr>\n",
        "      <th>secdig</th>\n",
        "      <th></th>\n",
        "    </tr>\n",
        "  </thead>\n",
        "  <tbody>\n",
        "    <tr>\n",
        "      <th>0</th>\n",
        "      <td> 0.119679</td>\n",
        "    </tr>\n",
        "    <tr>\n",
        "      <th>1</th>\n",
        "      <td> 0.113890</td>\n",
        "    </tr>\n",
        "    <tr>\n",
        "      <th>2</th>\n",
        "      <td> 0.108821</td>\n",
        "    </tr>\n",
        "    <tr>\n",
        "      <th>3</th>\n",
        "      <td> 0.104330</td>\n",
        "    </tr>\n",
        "    <tr>\n",
        "      <th>4</th>\n",
        "      <td> 0.100308</td>\n",
        "    </tr>\n",
        "    <tr>\n",
        "      <th>5</th>\n",
        "      <td> 0.096677</td>\n",
        "    </tr>\n",
        "    <tr>\n",
        "      <th>6</th>\n",
        "      <td> 0.093375</td>\n",
        "    </tr>\n",
        "    <tr>\n",
        "      <th>7</th>\n",
        "      <td> 0.090352</td>\n",
        "    </tr>\n",
        "    <tr>\n",
        "      <th>8</th>\n",
        "      <td> 0.087570</td>\n",
        "    </tr>\n",
        "    <tr>\n",
        "      <th>9</th>\n",
        "      <td> 0.084997</td>\n",
        "    </tr>\n",
        "  </tbody>\n",
        "</table>\n",
        "</div>"
       ],
       "metadata": {},
       "output_type": "pyout",
       "prompt_number": 35,
       "text": [
        "           probs\n",
        "secdig          \n",
        "0       0.119679\n",
        "1       0.113890\n",
        "2       0.108821\n",
        "3       0.104330\n",
        "4       0.100308\n",
        "5       0.096677\n",
        "6       0.093375\n",
        "7       0.090352\n",
        "8       0.087570\n",
        "9       0.084997"
       ]
      }
     ],
     "prompt_number": 35
    },
    {
     "cell_type": "code",
     "collapsed": false,
     "input": [
      "%timeit secondDigit\n",
      "%timeit secondDig\n",
      "%timeit secondD"
     ],
     "language": "python",
     "metadata": {},
     "outputs": [
      {
       "output_type": "stream",
       "stream": "stdout",
       "text": [
        "10000000 loops, best of 3: 30.9 ns per loop\n",
        "10000000 loops, best of 3: 28.9 ns per loop"
       ]
      },
      {
       "output_type": "stream",
       "stream": "stdout",
       "text": [
        "\n",
        "10000000 loops, best of 3: 29.8 ns per loop"
       ]
      },
      {
       "output_type": "stream",
       "stream": "stdout",
       "text": [
        "\n"
       ]
      }
     ],
     "prompt_number": 36
    },
    {
     "cell_type": "code",
     "collapsed": false,
     "input": [
      "def firstTwoDigits(output_DF=True):\n",
      "\t'''\n",
      "\tReturns the expected probabilities of the first two digits\n",
      "\taccording to Benford's distribution.\n",
      "\t\n",
      "\t- output_DF: Defaluts to Ture, Outputing a pandas Series\n",
      "\t\t\t\tobject with the probabilities and the respective\n",
      "\t\t\t\tdigits as the index, or a numpy array if False.\n",
      "\t'''\n",
      "\tFirst_2_Dig = np.arange(10,100)\n",
      "\tExpected = np.log10(1 + (1. / First_2_Dig))\n",
      "\tif output_DF == False:\n",
      "\t\treturn Expected\n",
      "\telse:\n",
      "\t\treturn pd.Series(Expected, index = First_2_Dig)"
     ],
     "language": "python",
     "metadata": {},
     "outputs": [],
     "prompt_number": 63
    },
    {
     "cell_type": "code",
     "collapsed": false,
     "input": [
      "g =firstDigit()\n",
      "g"
     ],
     "language": "python",
     "metadata": {},
     "outputs": [
      {
       "metadata": {},
       "output_type": "pyout",
       "prompt_number": 91,
       "text": [
        "1    0.301030\n",
        "2    0.176091\n",
        "3    0.124939\n",
        "4    0.096910\n",
        "5    0.079181\n",
        "6    0.066947\n",
        "7    0.057992\n",
        "8    0.051153\n",
        "9    0.045757\n",
        "dtype: float64"
       ]
      }
     ],
     "prompt_number": 91
    },
    {
     "cell_type": "code",
     "collapsed": false,
     "input": [
      "secondDigit()"
     ],
     "language": "python",
     "metadata": {},
     "outputs": [
      {
       "html": [
        "<div style=\"max-height:1000px;max-width:1500px;overflow:auto;\">\n",
        "<table border=\"1\" class=\"dataframe\">\n",
        "  <thead>\n",
        "    <tr style=\"text-align: right;\">\n",
        "      <th></th>\n",
        "      <th>Expected</th>\n",
        "    </tr>\n",
        "    <tr>\n",
        "      <th>Sec_Dig</th>\n",
        "      <th></th>\n",
        "    </tr>\n",
        "  </thead>\n",
        "  <tbody>\n",
        "    <tr>\n",
        "      <th>0</th>\n",
        "      <td> 0.119679</td>\n",
        "    </tr>\n",
        "    <tr>\n",
        "      <th>1</th>\n",
        "      <td> 0.113890</td>\n",
        "    </tr>\n",
        "    <tr>\n",
        "      <th>2</th>\n",
        "      <td> 0.108821</td>\n",
        "    </tr>\n",
        "    <tr>\n",
        "      <th>3</th>\n",
        "      <td> 0.104330</td>\n",
        "    </tr>\n",
        "    <tr>\n",
        "      <th>4</th>\n",
        "      <td> 0.100308</td>\n",
        "    </tr>\n",
        "    <tr>\n",
        "      <th>5</th>\n",
        "      <td> 0.096677</td>\n",
        "    </tr>\n",
        "    <tr>\n",
        "      <th>6</th>\n",
        "      <td> 0.093375</td>\n",
        "    </tr>\n",
        "    <tr>\n",
        "      <th>7</th>\n",
        "      <td> 0.090352</td>\n",
        "    </tr>\n",
        "    <tr>\n",
        "      <th>8</th>\n",
        "      <td> 0.087570</td>\n",
        "    </tr>\n",
        "    <tr>\n",
        "      <th>9</th>\n",
        "      <td> 0.084997</td>\n",
        "    </tr>\n",
        "  </tbody>\n",
        "</table>\n",
        "</div>"
       ],
       "metadata": {},
       "output_type": "pyout",
       "prompt_number": 73,
       "text": [
        "         Expected\n",
        "Sec_Dig          \n",
        "0        0.119679\n",
        "1        0.113890\n",
        "2        0.108821\n",
        "3        0.104330\n",
        "4        0.100308\n",
        "5        0.096677\n",
        "6        0.093375\n",
        "7        0.090352\n",
        "8        0.087570\n",
        "9        0.084997"
       ]
      }
     ],
     "prompt_number": 73
    },
    {
     "cell_type": "code",
     "collapsed": false,
     "input": [
      "def firstTwoDigits(output_DF=True):\n",
      "\t'''\n",
      "\tReturns the expected probabilities of the first two digits\n",
      "\taccording to Benford's distribution.\n",
      "\t\n",
      "\t- output_DF: Defaluts to Ture, Outputing a pandas DataFrame\n",
      "\t\t\t\tobject with the probabilities and the respective\n",
      "\t\t\t\tdigits as the index, or a numpy array if False.\n",
      "\t'''\n",
      "\tFirst_2_Dig = np.arange(10,100)\n",
      "\tExpected = np.log10(1 + (1. / First_2_Dig))\n",
      "\tif output_DF == False:\n",
      "\t\treturn Expected\n",
      "\telse:\n",
      "\t\treturn pd.DataFrame({'First_2_Dig':First_2_Dig,\\\n",
      "                             'Expected':Expected}).set_index('First_2_Dig')"
     ],
     "language": "python",
     "metadata": {},
     "outputs": [],
     "prompt_number": 122
    },
    {
     "cell_type": "code",
     "collapsed": false,
     "input": [
      "firstTwoDigits()"
     ],
     "language": "python",
     "metadata": {},
     "outputs": [
      {
       "html": [
        "<div style=\"max-height:1000px;max-width:1500px;overflow:auto;\">\n",
        "<table border=\"1\" class=\"dataframe\">\n",
        "  <thead>\n",
        "    <tr style=\"text-align: right;\">\n",
        "      <th></th>\n",
        "      <th>Expected</th>\n",
        "    </tr>\n",
        "    <tr>\n",
        "      <th>First_2_Dig</th>\n",
        "      <th></th>\n",
        "    </tr>\n",
        "  </thead>\n",
        "  <tbody>\n",
        "    <tr>\n",
        "      <th>10</th>\n",
        "      <td> 0.041393</td>\n",
        "    </tr>\n",
        "    <tr>\n",
        "      <th>11</th>\n",
        "      <td> 0.037789</td>\n",
        "    </tr>\n",
        "    <tr>\n",
        "      <th>12</th>\n",
        "      <td> 0.034762</td>\n",
        "    </tr>\n",
        "    <tr>\n",
        "      <th>13</th>\n",
        "      <td> 0.032185</td>\n",
        "    </tr>\n",
        "    <tr>\n",
        "      <th>14</th>\n",
        "      <td> 0.029963</td>\n",
        "    </tr>\n",
        "    <tr>\n",
        "      <th>15</th>\n",
        "      <td> 0.028029</td>\n",
        "    </tr>\n",
        "    <tr>\n",
        "      <th>16</th>\n",
        "      <td> 0.026329</td>\n",
        "    </tr>\n",
        "    <tr>\n",
        "      <th>17</th>\n",
        "      <td> 0.024824</td>\n",
        "    </tr>\n",
        "    <tr>\n",
        "      <th>18</th>\n",
        "      <td> 0.023481</td>\n",
        "    </tr>\n",
        "    <tr>\n",
        "      <th>19</th>\n",
        "      <td> 0.022276</td>\n",
        "    </tr>\n",
        "    <tr>\n",
        "      <th>20</th>\n",
        "      <td> 0.021189</td>\n",
        "    </tr>\n",
        "    <tr>\n",
        "      <th>21</th>\n",
        "      <td> 0.020203</td>\n",
        "    </tr>\n",
        "    <tr>\n",
        "      <th>22</th>\n",
        "      <td> 0.019305</td>\n",
        "    </tr>\n",
        "    <tr>\n",
        "      <th>23</th>\n",
        "      <td> 0.018483</td>\n",
        "    </tr>\n",
        "    <tr>\n",
        "      <th>24</th>\n",
        "      <td> 0.017729</td>\n",
        "    </tr>\n",
        "    <tr>\n",
        "      <th>25</th>\n",
        "      <td> 0.017033</td>\n",
        "    </tr>\n",
        "    <tr>\n",
        "      <th>26</th>\n",
        "      <td> 0.016390</td>\n",
        "    </tr>\n",
        "    <tr>\n",
        "      <th>27</th>\n",
        "      <td> 0.015794</td>\n",
        "    </tr>\n",
        "    <tr>\n",
        "      <th>28</th>\n",
        "      <td> 0.015240</td>\n",
        "    </tr>\n",
        "    <tr>\n",
        "      <th>29</th>\n",
        "      <td> 0.014723</td>\n",
        "    </tr>\n",
        "    <tr>\n",
        "      <th>30</th>\n",
        "      <td> 0.014240</td>\n",
        "    </tr>\n",
        "    <tr>\n",
        "      <th>31</th>\n",
        "      <td> 0.013788</td>\n",
        "    </tr>\n",
        "    <tr>\n",
        "      <th>32</th>\n",
        "      <td> 0.013364</td>\n",
        "    </tr>\n",
        "    <tr>\n",
        "      <th>33</th>\n",
        "      <td> 0.012965</td>\n",
        "    </tr>\n",
        "    <tr>\n",
        "      <th>34</th>\n",
        "      <td> 0.012589</td>\n",
        "    </tr>\n",
        "    <tr>\n",
        "      <th>35</th>\n",
        "      <td> 0.012234</td>\n",
        "    </tr>\n",
        "    <tr>\n",
        "      <th>36</th>\n",
        "      <td> 0.011899</td>\n",
        "    </tr>\n",
        "    <tr>\n",
        "      <th>37</th>\n",
        "      <td> 0.011582</td>\n",
        "    </tr>\n",
        "    <tr>\n",
        "      <th>38</th>\n",
        "      <td> 0.011281</td>\n",
        "    </tr>\n",
        "    <tr>\n",
        "      <th>39</th>\n",
        "      <td> 0.010995</td>\n",
        "    </tr>\n",
        "    <tr>\n",
        "      <th>...</th>\n",
        "      <td>...</td>\n",
        "    </tr>\n",
        "    <tr>\n",
        "      <th>70</th>\n",
        "      <td> 0.006160</td>\n",
        "    </tr>\n",
        "    <tr>\n",
        "      <th>71</th>\n",
        "      <td> 0.006074</td>\n",
        "    </tr>\n",
        "    <tr>\n",
        "      <th>72</th>\n",
        "      <td> 0.005990</td>\n",
        "    </tr>\n",
        "    <tr>\n",
        "      <th>73</th>\n",
        "      <td> 0.005909</td>\n",
        "    </tr>\n",
        "    <tr>\n",
        "      <th>74</th>\n",
        "      <td> 0.005830</td>\n",
        "    </tr>\n",
        "    <tr>\n",
        "      <th>75</th>\n",
        "      <td> 0.005752</td>\n",
        "    </tr>\n",
        "    <tr>\n",
        "      <th>76</th>\n",
        "      <td> 0.005677</td>\n",
        "    </tr>\n",
        "    <tr>\n",
        "      <th>77</th>\n",
        "      <td> 0.005604</td>\n",
        "    </tr>\n",
        "    <tr>\n",
        "      <th>78</th>\n",
        "      <td> 0.005532</td>\n",
        "    </tr>\n",
        "    <tr>\n",
        "      <th>79</th>\n",
        "      <td> 0.005463</td>\n",
        "    </tr>\n",
        "    <tr>\n",
        "      <th>80</th>\n",
        "      <td> 0.005395</td>\n",
        "    </tr>\n",
        "    <tr>\n",
        "      <th>81</th>\n",
        "      <td> 0.005329</td>\n",
        "    </tr>\n",
        "    <tr>\n",
        "      <th>82</th>\n",
        "      <td> 0.005264</td>\n",
        "    </tr>\n",
        "    <tr>\n",
        "      <th>83</th>\n",
        "      <td> 0.005201</td>\n",
        "    </tr>\n",
        "    <tr>\n",
        "      <th>84</th>\n",
        "      <td> 0.005140</td>\n",
        "    </tr>\n",
        "    <tr>\n",
        "      <th>85</th>\n",
        "      <td> 0.005080</td>\n",
        "    </tr>\n",
        "    <tr>\n",
        "      <th>86</th>\n",
        "      <td> 0.005021</td>\n",
        "    </tr>\n",
        "    <tr>\n",
        "      <th>87</th>\n",
        "      <td> 0.004963</td>\n",
        "    </tr>\n",
        "    <tr>\n",
        "      <th>88</th>\n",
        "      <td> 0.004907</td>\n",
        "    </tr>\n",
        "    <tr>\n",
        "      <th>89</th>\n",
        "      <td> 0.004853</td>\n",
        "    </tr>\n",
        "    <tr>\n",
        "      <th>90</th>\n",
        "      <td> 0.004799</td>\n",
        "    </tr>\n",
        "    <tr>\n",
        "      <th>91</th>\n",
        "      <td> 0.004746</td>\n",
        "    </tr>\n",
        "    <tr>\n",
        "      <th>92</th>\n",
        "      <td> 0.004695</td>\n",
        "    </tr>\n",
        "    <tr>\n",
        "      <th>93</th>\n",
        "      <td> 0.004645</td>\n",
        "    </tr>\n",
        "    <tr>\n",
        "      <th>94</th>\n",
        "      <td> 0.004596</td>\n",
        "    </tr>\n",
        "    <tr>\n",
        "      <th>95</th>\n",
        "      <td> 0.004548</td>\n",
        "    </tr>\n",
        "    <tr>\n",
        "      <th>96</th>\n",
        "      <td> 0.004501</td>\n",
        "    </tr>\n",
        "    <tr>\n",
        "      <th>97</th>\n",
        "      <td> 0.004454</td>\n",
        "    </tr>\n",
        "    <tr>\n",
        "      <th>98</th>\n",
        "      <td> 0.004409</td>\n",
        "    </tr>\n",
        "    <tr>\n",
        "      <th>99</th>\n",
        "      <td> 0.004365</td>\n",
        "    </tr>\n",
        "  </tbody>\n",
        "</table>\n",
        "<p>90 rows \u00d7 1 columns</p>\n",
        "</div>"
       ],
       "metadata": {},
       "output_type": "pyout",
       "prompt_number": 123,
       "text": [
        "             Expected\n",
        "First_2_Dig          \n",
        "10           0.041393\n",
        "11           0.037789\n",
        "12           0.034762\n",
        "13           0.032185\n",
        "14           0.029963\n",
        "15           0.028029\n",
        "16           0.026329\n",
        "17           0.024824\n",
        "18           0.023481\n",
        "19           0.022276\n",
        "20           0.021189\n",
        "21           0.020203\n",
        "22           0.019305\n",
        "23           0.018483\n",
        "24           0.017729\n",
        "25           0.017033\n",
        "26           0.016390\n",
        "27           0.015794\n",
        "28           0.015240\n",
        "29           0.014723\n",
        "30           0.014240\n",
        "31           0.013788\n",
        "32           0.013364\n",
        "33           0.012965\n",
        "34           0.012589\n",
        "35           0.012234\n",
        "36           0.011899\n",
        "37           0.011582\n",
        "38           0.011281\n",
        "39           0.010995\n",
        "...               ...\n",
        "70           0.006160\n",
        "71           0.006074\n",
        "72           0.005990\n",
        "73           0.005909\n",
        "74           0.005830\n",
        "75           0.005752\n",
        "76           0.005677\n",
        "77           0.005604\n",
        "78           0.005532\n",
        "79           0.005463\n",
        "80           0.005395\n",
        "81           0.005329\n",
        "82           0.005264\n",
        "83           0.005201\n",
        "84           0.005140\n",
        "85           0.005080\n",
        "86           0.005021\n",
        "87           0.004963\n",
        "88           0.004907\n",
        "89           0.004853\n",
        "90           0.004799\n",
        "91           0.004746\n",
        "92           0.004695\n",
        "93           0.004645\n",
        "94           0.004596\n",
        "95           0.004548\n",
        "96           0.004501\n",
        "97           0.004454\n",
        "98           0.004409\n",
        "99           0.004365\n",
        "\n",
        "[90 rows x 1 columns]"
       ]
      }
     ],
     "prompt_number": 123
    }
   ],
   "metadata": {}
  }
 ]
}