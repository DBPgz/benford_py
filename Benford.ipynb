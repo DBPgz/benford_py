{
 "metadata": {
  "name": "",
  "signature": "sha256:14dbfcb67716247f556af52f4593d1a6b02e49f076f7a93f2ca8aa23423d17cb"
 },
 "nbformat": 3,
 "nbformat_minor": 0,
 "worksheets": [
  {
   "cells": [
    {
     "cell_type": "code",
     "collapsed": false,
     "input": [
      "import pandas as pd\n",
      "import numpy as np\n",
      "import matplotlib.pyplot as plt"
     ],
     "language": "python",
     "metadata": {},
     "outputs": [],
     "prompt_number": 1
    },
    {
     "cell_type": "code",
     "collapsed": false,
     "input": [
      "t = np.arange(10,1000,10)"
     ],
     "language": "python",
     "metadata": {},
     "outputs": [],
     "prompt_number": 2
    },
    {
     "cell_type": "code",
     "collapsed": false,
     "input": [
      "t[:10]"
     ],
     "language": "python",
     "metadata": {},
     "outputs": [
      {
       "metadata": {},
       "output_type": "pyout",
       "prompt_number": 3,
       "text": [
        "array([ 10,  20,  30,  40,  50,  60,  70,  80,  90, 100])"
       ]
      }
     ],
     "prompt_number": 3
    },
    {
     "cell_type": "heading",
     "level": 4,
     "metadata": {},
     "source": [
      "Getting the Mantissas"
     ]
    },
    {
     "cell_type": "code",
     "collapsed": false,
     "input": [
      "np.log10(t) - np.log10(t).astype(int)"
     ],
     "language": "python",
     "metadata": {},
     "outputs": [
      {
       "metadata": {},
       "output_type": "pyout",
       "prompt_number": 4,
       "text": [
        "array([ 0.        ,  0.30103   ,  0.47712125,  0.60205999,  0.69897   ,\n",
        "        0.77815125,  0.84509804,  0.90308999,  0.95424251,  0.        ,\n",
        "        0.04139269,  0.07918125,  0.11394335,  0.14612804,  0.17609126,\n",
        "        0.20411998,  0.23044892,  0.25527251,  0.2787536 ,  0.30103   ,\n",
        "        0.32221929,  0.34242268,  0.36172784,  0.38021124,  0.39794001,\n",
        "        0.41497335,  0.43136376,  0.44715803,  0.462398  ,  0.47712125,\n",
        "        0.49136169,  0.50514998,  0.51851394,  0.53147892,  0.54406804,\n",
        "        0.5563025 ,  0.56820172,  0.5797836 ,  0.59106461,  0.60205999,\n",
        "        0.61278386,  0.62324929,  0.63346846,  0.64345268,  0.65321251,\n",
        "        0.66275783,  0.67209786,  0.68124124,  0.69019608,  0.69897   ,\n",
        "        0.70757018,  0.71600334,  0.72427587,  0.73239376,  0.74036269,\n",
        "        0.74818803,  0.75587486,  0.76342799,  0.77085201,  0.77815125,\n",
        "        0.78532984,  0.79239169,  0.79934055,  0.80617997,  0.81291336,\n",
        "        0.81954394,  0.8260748 ,  0.83250891,  0.83884909,  0.84509804,\n",
        "        0.85125835,  0.8573325 ,  0.86332286,  0.86923172,  0.87506126,\n",
        "        0.88081359,  0.88649073,  0.8920946 ,  0.89762709,  0.90308999,\n",
        "        0.90848502,  0.91381385,  0.91907809,  0.92427929,  0.92941893,\n",
        "        0.93449845,  0.93951925,  0.94448267,  0.94939001,  0.95424251,\n",
        "        0.95904139,  0.96378783,  0.96848295,  0.97312785,  0.97772361,\n",
        "        0.98227123,  0.98677173,  0.99122608,  0.99563519])"
       ]
      }
     ],
     "prompt_number": 4
    },
    {
     "cell_type": "code",
     "collapsed": false,
     "input": [
      "g = np.random.randint(1000, size =200)\n",
      "g"
     ],
     "language": "python",
     "metadata": {},
     "outputs": [
      {
       "metadata": {},
       "output_type": "pyout",
       "prompt_number": 5,
       "text": [
        "array([137,  27, 231, 940, 493, 539, 791, 499, 866, 854, 304, 646, 955,\n",
        "       410, 579, 461, 598,  23, 482, 547, 358, 326, 435, 352, 718, 268,\n",
        "       547, 341, 258, 530,  15, 307, 180, 118, 392, 717, 371, 409, 572,\n",
        "       192, 687, 206, 440, 769, 649,  77,  33, 784, 739, 713, 638, 547,\n",
        "       294,  24, 943, 511, 311, 506, 653, 304,  82, 574, 588, 533,   8,\n",
        "       699, 743, 525, 560, 397, 600,  34, 602, 400, 388, 966, 519, 370,\n",
        "        10, 830, 382, 787, 251, 249, 255, 962, 499, 197, 409,  39, 374,\n",
        "       831, 183, 513,  87, 795, 929, 638, 432, 475,  92, 928, 410, 210,\n",
        "        80, 601, 145, 265, 912, 360, 556,  31, 262, 530, 398, 681, 291,\n",
        "       436, 874, 575, 279, 296, 236, 187, 359, 544, 210, 232, 336, 487,\n",
        "       116, 192, 721, 604, 553,  66, 290, 670, 737, 292, 968,  16, 695,\n",
        "       945, 539, 428, 440, 946, 597, 437, 700, 767, 500, 840,  52,  82,\n",
        "       160, 788, 369,  94,  27, 757, 545, 391, 273,  47, 653, 945, 688,\n",
        "       636, 664, 262, 705, 506, 528, 839, 308, 704, 741, 336,  43, 999,\n",
        "       271, 350, 711, 783, 458, 777, 166, 253, 904, 948, 862, 785, 549,\n",
        "       606, 986, 129, 910, 626])"
       ]
      }
     ],
     "prompt_number": 5
    },
    {
     "cell_type": "code",
     "collapsed": false,
     "input": [
      "m = np.log10(g) - np.log10(g).astype(int)\n",
      "m"
     ],
     "language": "python",
     "metadata": {},
     "outputs": [
      {
       "metadata": {},
       "output_type": "pyout",
       "prompt_number": 6,
       "text": [
        "array([ 0.13672057,  0.43136376,  0.36361198,  0.97312785,  0.69284692,\n",
        "        0.73158877,  0.89817648,  0.69810055,  0.93751789,  0.93145787,\n",
        "        0.48287358,  0.81023252,  0.98000337,  0.61278386,  0.76267856,\n",
        "        0.66370093,  0.77670118,  0.36172784,  0.68304704,  0.73798733,\n",
        "        0.55388303,  0.5132176 ,  0.63848926,  0.54654266,  0.85612444,\n",
        "        0.42813479,  0.73798733,  0.53275438,  0.41161971,  0.72427587,\n",
        "        0.17609126,  0.48713838,  0.25527251,  0.07188201,  0.59328607,\n",
        "        0.85551916,  0.56937391,  0.61172331,  0.75739603,  0.28330123,\n",
        "        0.83695674,  0.31386722,  0.64345268,  0.88592634,  0.8122447 ,\n",
        "        0.88649073,  0.51851394,  0.89431606,  0.86864444,  0.85308953,\n",
        "        0.80482068,  0.73798733,  0.46834733,  0.38021124,  0.97451169,\n",
        "        0.7084209 ,  0.49276039,  0.70415052,  0.81491318,  0.48287358,\n",
        "        0.91381385,  0.75891189,  0.76937733,  0.72672721,  0.90308999,\n",
        "        0.84447718,  0.87098881,  0.7201593 ,  0.74818803,  0.59879051,\n",
        "        0.77815125,  0.53147892,  0.77959649,  0.60205999,  0.58883173,\n",
        "        0.98497713,  0.71516736,  0.56820172,  0.        ,  0.91907809,\n",
        "        0.58206336,  0.89597473,  0.39967372,  0.39619935,  0.40654018,\n",
        "        0.98317507,  0.69810055,  0.29446623,  0.61172331,  0.59106461,\n",
        "        0.5728716 ,  0.91960102,  0.26245109,  0.71011737,  0.93951925,\n",
        "        0.90036713,  0.96801571,  0.80482068,  0.63548375,  0.67669361,\n",
        "        0.96378783,  0.96754798,  0.61278386,  0.32221929,  0.90308999,\n",
        "        0.77887447,  0.161368  ,  0.42324587,  0.95999484,  0.5563025 ,\n",
        "        0.74507479,  0.49136169,  0.41830129,  0.72427587,  0.59988307,\n",
        "        0.83314711,  0.46389299,  0.63948649,  0.94151143,  0.75966784,\n",
        "        0.4456042 ,  0.47129171,  0.372912  ,  0.27184161,  0.55509445,\n",
        "        0.7355989 ,  0.32221929,  0.36548798,  0.52633928,  0.68752896,\n",
        "        0.06445799,  0.28330123,  0.85793526,  0.78103694,  0.74272513,\n",
        "        0.81954394,  0.462398  ,  0.8260748 ,  0.86746749,  0.46538285,\n",
        "        0.98587536,  0.20411998,  0.8419848 ,  0.97543181,  0.73158877,\n",
        "        0.63144377,  0.64345268,  0.97589114,  0.77597433,  0.64048144,\n",
        "        0.84509804,  0.88479536,  0.69897   ,  0.92427929,  0.71600334,\n",
        "        0.91381385,  0.20411998,  0.89652622,  0.56702637,  0.97312785,\n",
        "        0.43136376,  0.87909588,  0.7363965 ,  0.59217676,  0.43616265,\n",
        "        0.67209786,  0.81491318,  0.97543181,  0.83758844,  0.80345712,\n",
        "        0.82216808,  0.41830129,  0.84818912,  0.70415052,  0.72263392,\n",
        "        0.92376196,  0.48855072,  0.84757266,  0.86981821,  0.52633928,\n",
        "        0.63346846,  0.99956549,  0.43296929,  0.54406804,  0.8518696 ,\n",
        "        0.89376176,  0.66086548,  0.89042102,  0.22010809,  0.40312052,\n",
        "        0.95616843,  0.97680834,  0.93550727,  0.89486966,  0.73957234,\n",
        "        0.78247262,  0.99387691,  0.11058971,  0.95904139,  0.79657433])"
       ]
      }
     ],
     "prompt_number": 6
    },
    {
     "cell_type": "heading",
     "level": 4,
     "metadata": {},
     "source": [
      "Ordering the Mantissas and Plotting"
     ]
    },
    {
     "cell_type": "code",
     "collapsed": false,
     "input": [
      "m.sort()\n",
      "m"
     ],
     "language": "python",
     "metadata": {},
     "outputs": [
      {
       "metadata": {},
       "output_type": "pyout",
       "prompt_number": 7,
       "text": [
        "array([ 0.        ,  0.06445799,  0.07188201,  0.11058971,  0.13672057,\n",
        "        0.161368  ,  0.17609126,  0.20411998,  0.20411998,  0.22010809,\n",
        "        0.25527251,  0.26245109,  0.27184161,  0.28330123,  0.28330123,\n",
        "        0.29446623,  0.31386722,  0.32221929,  0.32221929,  0.36172784,\n",
        "        0.36361198,  0.36548798,  0.372912  ,  0.38021124,  0.39619935,\n",
        "        0.39967372,  0.40312052,  0.40654018,  0.41161971,  0.41830129,\n",
        "        0.41830129,  0.42324587,  0.42813479,  0.43136376,  0.43136376,\n",
        "        0.43296929,  0.43616265,  0.4456042 ,  0.462398  ,  0.46389299,\n",
        "        0.46538285,  0.46834733,  0.47129171,  0.48287358,  0.48287358,\n",
        "        0.48713838,  0.48855072,  0.49136169,  0.49276039,  0.5132176 ,\n",
        "        0.51851394,  0.52633928,  0.52633928,  0.53147892,  0.53275438,\n",
        "        0.54406804,  0.54654266,  0.55388303,  0.55509445,  0.5563025 ,\n",
        "        0.56702637,  0.56820172,  0.56937391,  0.5728716 ,  0.58206336,\n",
        "        0.58883173,  0.59106461,  0.59217676,  0.59328607,  0.59879051,\n",
        "        0.59988307,  0.60205999,  0.61172331,  0.61172331,  0.61278386,\n",
        "        0.61278386,  0.63144377,  0.63346846,  0.63548375,  0.63848926,\n",
        "        0.63948649,  0.64048144,  0.64345268,  0.64345268,  0.66086548,\n",
        "        0.66370093,  0.67209786,  0.67669361,  0.68304704,  0.68752896,\n",
        "        0.69284692,  0.69810055,  0.69810055,  0.69897   ,  0.70415052,\n",
        "        0.70415052,  0.7084209 ,  0.71011737,  0.71516736,  0.71600334,\n",
        "        0.7201593 ,  0.72263392,  0.72427587,  0.72427587,  0.72672721,\n",
        "        0.73158877,  0.73158877,  0.7355989 ,  0.7363965 ,  0.73798733,\n",
        "        0.73798733,  0.73798733,  0.73957234,  0.74272513,  0.74507479,\n",
        "        0.74818803,  0.75739603,  0.75891189,  0.75966784,  0.76267856,\n",
        "        0.76937733,  0.77597433,  0.77670118,  0.77815125,  0.77887447,\n",
        "        0.77959649,  0.78103694,  0.78247262,  0.79657433,  0.80345712,\n",
        "        0.80482068,  0.80482068,  0.81023252,  0.8122447 ,  0.81491318,\n",
        "        0.81491318,  0.81954394,  0.82216808,  0.8260748 ,  0.83314711,\n",
        "        0.83695674,  0.83758844,  0.8419848 ,  0.84447718,  0.84509804,\n",
        "        0.84757266,  0.84818912,  0.8518696 ,  0.85308953,  0.85551916,\n",
        "        0.85612444,  0.85793526,  0.86746749,  0.86864444,  0.86981821,\n",
        "        0.87098881,  0.87909588,  0.88479536,  0.88592634,  0.88649073,\n",
        "        0.89042102,  0.89376176,  0.89431606,  0.89486966,  0.89597473,\n",
        "        0.89652622,  0.89817648,  0.90036713,  0.90308999,  0.90308999,\n",
        "        0.91381385,  0.91381385,  0.91907809,  0.91960102,  0.92376196,\n",
        "        0.92427929,  0.93145787,  0.93550727,  0.93751789,  0.93951925,\n",
        "        0.94151143,  0.95616843,  0.95904139,  0.95999484,  0.96378783,\n",
        "        0.96754798,  0.96801571,  0.97312785,  0.97312785,  0.97451169,\n",
        "        0.97543181,  0.97543181,  0.97589114,  0.97680834,  0.98000337,\n",
        "        0.98317507,  0.98497713,  0.98587536,  0.99387691,  0.99956549])"
       ]
      }
     ],
     "prompt_number": 7
    },
    {
     "cell_type": "code",
     "collapsed": false,
     "input": [
      "pylab inline"
     ],
     "language": "python",
     "metadata": {},
     "outputs": [
      {
       "output_type": "stream",
       "stream": "stdout",
       "text": [
        "Populating the interactive namespace from numpy and matplotlib\n"
       ]
      }
     ],
     "prompt_number": 8
    },
    {
     "cell_type": "code",
     "collapsed": false,
     "input": [
      "plt.plot(np.arange(len(m)), m)"
     ],
     "language": "python",
     "metadata": {},
     "outputs": [
      {
       "metadata": {},
       "output_type": "pyout",
       "prompt_number": 9,
       "text": [
        "[<matplotlib.lines.Line2D at 0x7f6723ef2450>]"
       ]
      },
      {
       "metadata": {},
       "output_type": "display_data",
       "png": "[encoded data removed]",
       "text": [
        "<matplotlib.figure.Figure at 0x7f6723fd5310>"
       ]
      }
     ],
     "prompt_number": 9
    },
    {
     "cell_type": "code",
     "collapsed": false,
     "input": [
      "g.sort()\n",
      "g"
     ],
     "language": "python",
     "metadata": {},
     "outputs": [
      {
       "metadata": {},
       "output_type": "pyout",
       "prompt_number": 10,
       "text": [
        "array([  8,  10,  15,  16,  23,  24,  27,  27,  31,  33,  34,  39,  43,\n",
        "        47,  52,  66,  77,  80,  82,  82,  87,  92,  94, 116, 118, 129,\n",
        "       137, 145, 160, 166, 180, 183, 187, 192, 192, 197, 206, 210, 210,\n",
        "       231, 232, 236, 249, 251, 253, 255, 258, 262, 262, 265, 268, 271,\n",
        "       273, 279, 290, 291, 292, 294, 296, 304, 304, 307, 308, 311, 326,\n",
        "       336, 336, 341, 350, 352, 358, 359, 360, 369, 370, 371, 374, 382,\n",
        "       388, 391, 392, 397, 398, 400, 409, 409, 410, 410, 428, 432, 435,\n",
        "       436, 437, 440, 440, 458, 461, 475, 482, 487, 493, 499, 499, 500,\n",
        "       506, 506, 511, 513, 519, 525, 528, 530, 530, 533, 539, 539, 544,\n",
        "       545, 547, 547, 547, 549, 553, 556, 560, 572, 574, 575, 579, 588,\n",
        "       597, 598, 600, 601, 602, 604, 606, 626, 636, 638, 638, 646, 649,\n",
        "       653, 653, 664, 670, 681, 687, 688, 695, 699, 700, 704, 705, 711,\n",
        "       713, 717, 718, 721, 737, 739, 741, 743, 757, 767, 769, 777, 783,\n",
        "       784, 785, 787, 788, 791, 795, 830, 831, 839, 840, 854, 862, 866,\n",
        "       874, 904, 910, 912, 928, 929, 940, 943, 945, 945, 946, 948, 955,\n",
        "       962, 966, 968, 986, 999])"
       ]
      }
     ],
     "prompt_number": 10
    },
    {
     "cell_type": "code",
     "collapsed": false,
     "input": [
      "plt.plot(g, m)\n",
      "plt.grid()"
     ],
     "language": "python",
     "metadata": {},
     "outputs": [
      {
       "metadata": {},
       "output_type": "display_data",
       "png": "[encoded data removed]",
       "text": [
        "<matplotlib.figure.Figure at 0x7f6723f26550>"
       ]
      }
     ],
     "prompt_number": 11
    },
    {
     "cell_type": "code",
     "collapsed": false,
     "input": [
      "tt = pd.DataFrame(g, columns=['numbers'])\n",
      "tt.head()"
     ],
     "language": "python",
     "metadata": {},
     "outputs": [
      {
       "html": [
        "<div style=\"max-height:1000px;max-width:1500px;overflow:auto;\">\n",
        "<table border=\"1\" class=\"dataframe\">\n",
        "  <thead>\n",
        "    <tr style=\"text-align: right;\">\n",
        "      <th></th>\n",
        "      <th>numbers</th>\n",
        "    </tr>\n",
        "  </thead>\n",
        "  <tbody>\n",
        "    <tr>\n",
        "      <th>0</th>\n",
        "      <td>  8</td>\n",
        "    </tr>\n",
        "    <tr>\n",
        "      <th>1</th>\n",
        "      <td> 10</td>\n",
        "    </tr>\n",
        "    <tr>\n",
        "      <th>2</th>\n",
        "      <td> 15</td>\n",
        "    </tr>\n",
        "    <tr>\n",
        "      <th>3</th>\n",
        "      <td> 16</td>\n",
        "    </tr>\n",
        "    <tr>\n",
        "      <th>4</th>\n",
        "      <td> 23</td>\n",
        "    </tr>\n",
        "  </tbody>\n",
        "</table>\n",
        "</div>"
       ],
       "metadata": {},
       "output_type": "pyout",
       "prompt_number": 12,
       "text": [
        "   numbers\n",
        "0        8\n",
        "1       10\n",
        "2       15\n",
        "3       16\n",
        "4       23"
       ]
      }
     ],
     "prompt_number": 12
    },
    {
     "cell_type": "code",
     "collapsed": false,
     "input": [
      "def _get_mantissas_(arr):\n",
      "\t'''\n",
      "\tThe mantissa is the non-integer part of the log of a number.\n",
      "\tThis fuction uses the element-wise array operations on numpy\n",
      "\tto get the mantissas of each number's log.\n",
      "\n",
      "\tarr: numpy array of integers or floats\n",
      "\t'''\n",
      "\n",
      "\treturn np.log10(arr) - np.log10(arr).astype(int)"
     ],
     "language": "python",
     "metadata": {},
     "outputs": [],
     "prompt_number": 13
    },
    {
     "cell_type": "code",
     "collapsed": false,
     "input": [
      "tt['mantissas']=np.log10(tt.numbers) - np.log10(tt.numbers).astype(int)\n",
      "tt = tt.sort(columns='mantissas')         #sort DataFrame by mantissas column\n",
      "tt.head()"
     ],
     "language": "python",
     "metadata": {},
     "outputs": [
      {
       "html": [
        "<div style=\"max-height:1000px;max-width:1500px;overflow:auto;\">\n",
        "<table border=\"1\" class=\"dataframe\">\n",
        "  <thead>\n",
        "    <tr style=\"text-align: right;\">\n",
        "      <th></th>\n",
        "      <th>numbers</th>\n",
        "      <th>mantissas</th>\n",
        "    </tr>\n",
        "  </thead>\n",
        "  <tbody>\n",
        "    <tr>\n",
        "      <th>1 </th>\n",
        "      <td>  10</td>\n",
        "      <td> 0.000000</td>\n",
        "    </tr>\n",
        "    <tr>\n",
        "      <th>23</th>\n",
        "      <td> 116</td>\n",
        "      <td> 0.064458</td>\n",
        "    </tr>\n",
        "    <tr>\n",
        "      <th>24</th>\n",
        "      <td> 118</td>\n",
        "      <td> 0.071882</td>\n",
        "    </tr>\n",
        "    <tr>\n",
        "      <th>25</th>\n",
        "      <td> 129</td>\n",
        "      <td> 0.110590</td>\n",
        "    </tr>\n",
        "    <tr>\n",
        "      <th>26</th>\n",
        "      <td> 137</td>\n",
        "      <td> 0.136721</td>\n",
        "    </tr>\n",
        "  </tbody>\n",
        "</table>\n",
        "</div>"
       ],
       "metadata": {},
       "output_type": "pyout",
       "prompt_number": 14,
       "text": [
        "    numbers  mantissas\n",
        "1        10   0.000000\n",
        "23      116   0.064458\n",
        "24      118   0.071882\n",
        "25      129   0.110590\n",
        "26      137   0.136721"
       ]
      }
     ],
     "prompt_number": 14
    },
    {
     "cell_type": "code",
     "collapsed": false,
     "input": [
      "plt.plot(tt.numbers, tt.mantissas)"
     ],
     "language": "python",
     "metadata": {},
     "outputs": [
      {
       "metadata": {},
       "output_type": "pyout",
       "prompt_number": 15,
       "text": [
        "[<matplotlib.lines.Line2D at 0x7f6723d23c50>]"
       ]
      },
      {
       "metadata": {},
       "output_type": "display_data",
       "png": "[encoded data removed]",
       "text": [
        "<matplotlib.figure.Figure at 0x7f6723dfc750>"
       ]
      }
     ],
     "prompt_number": 15
    },
    {
     "cell_type": "code",
     "collapsed": false,
     "input": [
      "plt.plot(np.arange(len(tt)), tt.mantissas)"
     ],
     "language": "python",
     "metadata": {},
     "outputs": [
      {
       "metadata": {},
       "output_type": "pyout",
       "prompt_number": 16,
       "text": [
        "[<matplotlib.lines.Line2D at 0x7f6723ccdd90>]"
       ]
      },
      {
       "metadata": {},
       "output_type": "display_data",
       "png": "[encoded data removed]",
       "text": [
        "<matplotlib.figure.Figure at 0x7f6723dd9e90>"
       ]
      }
     ],
     "prompt_number": 16
    },
    {
     "cell_type": "code",
     "collapsed": false,
     "input": [
      "tt['m2'] = _get_mantissas_(tt.numbers)\n",
      "sum(tt.mantissas!=tt.m2)"
     ],
     "language": "python",
     "metadata": {},
     "outputs": [
      {
       "metadata": {},
       "output_type": "pyout",
       "prompt_number": 17,
       "text": [
        "0"
       ]
      }
     ],
     "prompt_number": 17
    },
    {
     "cell_type": "code",
     "collapsed": false,
     "input": [
      "tt['ms']=tt.m2.cumsum()\n",
      "plt.plot(np.arange(len(tt.ms)), tt.ms)"
     ],
     "language": "python",
     "metadata": {},
     "outputs": [
      {
       "metadata": {},
       "output_type": "pyout",
       "prompt_number": 18,
       "text": [
        "[<matplotlib.lines.Line2D at 0x7f6723bfc6d0>]"
       ]
      },
      {
       "metadata": {},
       "output_type": "display_data",
       "png": "[encoded data removed]",
       "text": [
        "<matplotlib.figure.Figure at 0x7f6723d028d0>"
       ]
      }
     ],
     "prompt_number": 18
    },
    {
     "cell_type": "code",
     "collapsed": false,
     "input": [
      "h = 9.234\n",
      "h*=100\n",
      "str(h)[:2]"
     ],
     "language": "python",
     "metadata": {},
     "outputs": [
      {
       "metadata": {},
       "output_type": "pyout",
       "prompt_number": 19,
       "text": [
        "'92'"
       ]
      }
     ],
     "prompt_number": 19
    },
    {
     "cell_type": "code",
     "collapsed": false,
     "input": [
      "len(str((1/m[3]).astype(int)))"
     ],
     "language": "python",
     "metadata": {},
     "outputs": [
      {
       "metadata": {},
       "output_type": "pyout",
       "prompt_number": 20,
       "text": [
        "1"
       ]
      }
     ],
     "prompt_number": 20
    },
    {
     "cell_type": "code",
     "collapsed": false,
     "input": [
      "eb = np.arange(10,100).reshape(90,1)\n",
      "eb = eb.astype(str)\n",
      "eb[:,0]"
     ],
     "language": "python",
     "metadata": {},
     "outputs": [
      {
       "metadata": {},
       "output_type": "pyout",
       "prompt_number": 21,
       "text": [
        "array(['10', '11', '12', '13', '14', '15', '16', '17', '18', '19', '20',\n",
        "       '21', '22', '23', '24', '25', '26', '27', '28', '29', '30', '31',\n",
        "       '32', '33', '34', '35', '36', '37', '38', '39', '40', '41', '42',\n",
        "       '43', '44', '45', '46', '47', '48', '49', '50', '51', '52', '53',\n",
        "       '54', '55', '56', '57', '58', '59', '60', '61', '62', '63', '64',\n",
        "       '65', '66', '67', '68', '69', '70', '71', '72', '73', '74', '75',\n",
        "       '76', '77', '78', '79', '80', '81', '82', '83', '84', '85', '86',\n",
        "       '87', '88', '89', '90', '91', '92', '93', '94', '95', '96', '97',\n",
        "       '98', '99'], \n",
        "      dtype='|S21')"
       ]
      }
     ],
     "prompt_number": 21
    },
    {
     "cell_type": "code",
     "collapsed": false,
     "input": [
      "eb = np.arange(10,100)\n",
      "eb = eb.astype(str)\n",
      "f = np.array([l[0] for l in eb]).reshape(90,1)\n",
      "s = np.array([l[1] for l in eb]).reshape(90,1)\n",
      "eb = np.hstack((f,s)).astype(int)\n",
      "eb[:,0]"
     ],
     "language": "python",
     "metadata": {},
     "outputs": [
      {
       "metadata": {},
       "output_type": "pyout",
       "prompt_number": 22,
       "text": [
        "array([1, 1, 1, 1, 1, 1, 1, 1, 1, 1, 2, 2, 2, 2, 2, 2, 2, 2, 2, 2, 3, 3, 3,\n",
        "       3, 3, 3, 3, 3, 3, 3, 4, 4, 4, 4, 4, 4, 4, 4, 4, 4, 5, 5, 5, 5, 5, 5,\n",
        "       5, 5, 5, 5, 6, 6, 6, 6, 6, 6, 6, 6, 6, 6, 7, 7, 7, 7, 7, 7, 7, 7, 7,\n",
        "       7, 8, 8, 8, 8, 8, 8, 8, 8, 8, 8, 9, 9, 9, 9, 9, 9, 9, 9, 9, 9])"
       ]
      }
     ],
     "prompt_number": 22
    },
    {
     "cell_type": "code",
     "collapsed": false,
     "input": [
      "e2 = np.arange(10,100)\n",
      "p = np.log10(1+(1./e2))\n",
      "plt.bar(e2,p)"
     ],
     "language": "python",
     "metadata": {},
     "outputs": [
      {
       "metadata": {},
       "output_type": "pyout",
       "prompt_number": 23,
       "text": [
        "<Container object of 90 artists>"
       ]
      },
      {
       "metadata": {},
       "output_type": "display_data",
       "png": "[encoded data removed]",
       "text": [
        "<matplotlib.figure.Figure at 0x7f6723c28510>"
       ]
      }
     ],
     "prompt_number": 23
    },
    {
     "cell_type": "code",
     "collapsed": false,
     "input": [
      "e3 = e2.astype(str)\n",
      "s = np.array([l[1] for l in e3]).astype(int)\n",
      "p[s == 0].sum()"
     ],
     "language": "python",
     "metadata": {},
     "outputs": [
      {
       "metadata": {},
       "output_type": "pyout",
       "prompt_number": 24,
       "text": [
        "0.11967926859688073"
       ]
      }
     ],
     "prompt_number": 24
    },
    {
     "cell_type": "code",
     "collapsed": false,
     "input": [
      "def secondDigit():\n",
      "\ta = np.arange(10,100)\n",
      "\taa = a.astype(str)\n",
      "\ts = np.array([l[1] for l in aa]).astype(int)\n",
      "\tb = np.arange(0,10)\n",
      "\tprobs = np.log10(1 + (1. / a))\n",
      "\tc = np.zeros(10)\n",
      "\tfor n in b:\n",
      "\t\tc[n] = probs[s == n].sum()\n",
      "\treturn c"
     ],
     "language": "python",
     "metadata": {},
     "outputs": [],
     "prompt_number": 25
    },
    {
     "cell_type": "code",
     "collapsed": false,
     "input": [
      "secondDigit()"
     ],
     "language": "python",
     "metadata": {},
     "outputs": [
      {
       "metadata": {},
       "output_type": "pyout",
       "prompt_number": 26,
       "text": [
        "array([ 0.11967927,  0.1138901 ,  0.1088215 ,  0.10432956,  0.1003082 ,\n",
        "        0.09667724,  0.09337474,  0.09035199,  0.08757005,  0.08499735])"
       ]
      }
     ],
     "prompt_number": 26
    },
    {
     "cell_type": "code",
     "collapsed": false,
     "input": [
      "def firstDigit():\n",
      "\ta = np.arange(1,10)\n",
      "\treturn np.log10(1 + (1. / a))"
     ],
     "language": "python",
     "metadata": {},
     "outputs": [],
     "prompt_number": 27
    },
    {
     "cell_type": "code",
     "collapsed": false,
     "input": [
      "a5 = np.arange(0,10)\n",
      "plt.plot(a5, secondDigit())\n",
      "plt.ylim((0,.15))"
     ],
     "language": "python",
     "metadata": {},
     "outputs": [
      {
       "metadata": {},
       "output_type": "pyout",
       "prompt_number": 28,
       "text": [
        "(0, 0.15)"
       ]
      },
      {
       "metadata": {},
       "output_type": "display_data",
       "png": "[encoded data removed]",
       "text": [
        "<matplotlib.figure.Figure at 0x7f6723c28390>"
       ]
      }
     ],
     "prompt_number": 28
    },
    {
     "cell_type": "code",
     "collapsed": false,
     "input": [
      "np.array(range(10)*10)"
     ],
     "language": "python",
     "metadata": {},
     "outputs": [
      {
       "metadata": {},
       "output_type": "pyout",
       "prompt_number": 31,
       "text": [
        "array([0, 1, 2, 3, 4, 5, 6, 7, 8, 9, 0, 1, 2, 3, 4, 5, 6, 7, 8, 9, 0, 1, 2,\n",
        "       3, 4, 5, 6, 7, 8, 9, 0, 1, 2, 3, 4, 5, 6, 7, 8, 9, 0, 1, 2, 3, 4, 5,\n",
        "       6, 7, 8, 9, 0, 1, 2, 3, 4, 5, 6, 7, 8, 9, 0, 1, 2, 3, 4, 5, 6, 7, 8,\n",
        "       9, 0, 1, 2, 3, 4, 5, 6, 7, 8, 9, 0, 1, 2, 3, 4, 5, 6, 7, 8, 9, 0, 1,\n",
        "       2, 3, 4, 5, 6, 7, 8, 9])"
       ]
      }
     ],
     "prompt_number": 31
    },
    {
     "cell_type": "code",
     "collapsed": false,
     "input": [
      "firstDigit()"
     ],
     "language": "python",
     "metadata": {},
     "outputs": [
      {
       "metadata": {},
       "output_type": "pyout",
       "prompt_number": 29,
       "text": [
        "array([ 0.30103   ,  0.17609126,  0.12493874,  0.09691001,  0.07918125,\n",
        "        0.06694679,  0.05799195,  0.05115252,  0.04575749])"
       ]
      }
     ],
     "prompt_number": 29
    },
    {
     "cell_type": "code",
     "collapsed": false,
     "input": [
      "a6 = np.arange(1,10)\n",
      "plt.bar(a6,firstDigit())"
     ],
     "language": "python",
     "metadata": {},
     "outputs": [
      {
       "metadata": {},
       "output_type": "pyout",
       "prompt_number": 30,
       "text": [
        "<Container object of 9 artists>"
       ]
      },
      {
       "metadata": {},
       "output_type": "display_data",
       "png": "[encoded data removed]",
       "text": [
        "<matplotlib.figure.Figure at 0x7f6723adcc90>"
       ]
      }
     ],
     "prompt_number": 30
    },
    {
     "cell_type": "code",
     "collapsed": false,
     "input": [
      "def secondDig():\n",
      "\ta = np.arange(10,100)\n",
      "\tprobs = np.log10(1 + (1. / a))\n",
      "\tb = range(10)\n",
      "\ts = np.array(b*9)\n",
      "\tc = np.zeros(10)\n",
      "\tfor n in b:\n",
      "\t\tc[n] = probs[s == n].sum()\n",
      "\treturn c"
     ],
     "language": "python",
     "metadata": {},
     "outputs": [],
     "prompt_number": 46
    },
    {
     "cell_type": "code",
     "collapsed": false,
     "input": [
      "%timeit secondDigit\n",
      "%timeit secondDig"
     ],
     "language": "python",
     "metadata": {},
     "outputs": [
      {
       "output_type": "stream",
       "stream": "stdout",
       "text": [
        "10000000 loops, best of 3: 21.1 ns per loop\n",
        "10000000 loops, best of 3: 20 ns per loop"
       ]
      },
      {
       "output_type": "stream",
       "stream": "stdout",
       "text": [
        "\n"
       ]
      }
     ],
     "prompt_number": 48
    },
    {
     "cell_type": "code",
     "collapsed": false,
     "input": [
      "def secondD():\n",
      "    a = np.arange(10,100)\n",
      "    df = pd.DataFrame({'probs':np.log10(1 + (1. / a)), 'secdig':np.array(range(10)*9)}, index = a)\n",
      "    return df.groupby('secdig').agg(sum)\n"
     ],
     "language": "python",
     "metadata": {},
     "outputs": [],
     "prompt_number": 60
    },
    {
     "cell_type": "code",
     "collapsed": false,
     "input": [
      "secondD()"
     ],
     "language": "python",
     "metadata": {},
     "outputs": [
      {
       "html": [
        "<div style=\"max-height:1000px;max-width:1500px;overflow:auto;\">\n",
        "<table border=\"1\" class=\"dataframe\">\n",
        "  <thead>\n",
        "    <tr style=\"text-align: right;\">\n",
        "      <th></th>\n",
        "      <th>probs</th>\n",
        "    </tr>\n",
        "    <tr>\n",
        "      <th>secdig</th>\n",
        "      <th></th>\n",
        "    </tr>\n",
        "  </thead>\n",
        "  <tbody>\n",
        "    <tr>\n",
        "      <th>0</th>\n",
        "      <td> 0.119679</td>\n",
        "    </tr>\n",
        "    <tr>\n",
        "      <th>1</th>\n",
        "      <td> 0.113890</td>\n",
        "    </tr>\n",
        "    <tr>\n",
        "      <th>2</th>\n",
        "      <td> 0.108821</td>\n",
        "    </tr>\n",
        "    <tr>\n",
        "      <th>3</th>\n",
        "      <td> 0.104330</td>\n",
        "    </tr>\n",
        "    <tr>\n",
        "      <th>4</th>\n",
        "      <td> 0.100308</td>\n",
        "    </tr>\n",
        "    <tr>\n",
        "      <th>5</th>\n",
        "      <td> 0.096677</td>\n",
        "    </tr>\n",
        "    <tr>\n",
        "      <th>6</th>\n",
        "      <td> 0.093375</td>\n",
        "    </tr>\n",
        "    <tr>\n",
        "      <th>7</th>\n",
        "      <td> 0.090352</td>\n",
        "    </tr>\n",
        "    <tr>\n",
        "      <th>8</th>\n",
        "      <td> 0.087570</td>\n",
        "    </tr>\n",
        "    <tr>\n",
        "      <th>9</th>\n",
        "      <td> 0.084997</td>\n",
        "    </tr>\n",
        "  </tbody>\n",
        "</table>\n",
        "</div>"
       ],
       "metadata": {},
       "output_type": "pyout",
       "prompt_number": 65,
       "text": [
        "           probs\n",
        "secdig          \n",
        "0       0.119679\n",
        "1       0.113890\n",
        "2       0.108821\n",
        "3       0.104330\n",
        "4       0.100308\n",
        "5       0.096677\n",
        "6       0.093375\n",
        "7       0.090352\n",
        "8       0.087570\n",
        "9       0.084997"
       ]
      }
     ],
     "prompt_number": 65
    },
    {
     "cell_type": "code",
     "collapsed": false,
     "input": [
      "%timeit secondDigit\n",
      "%timeit secondDig\n",
      "%timeit secondD"
     ],
     "language": "python",
     "metadata": {},
     "outputs": [
      {
       "output_type": "stream",
       "stream": "stdout",
       "text": [
        "10000000 loops, best of 3: 21.2 ns per loop\n",
        "100000000 loops, best of 3: 20.1 ns per loop"
       ]
      },
      {
       "output_type": "stream",
       "stream": "stdout",
       "text": [
        "\n",
        "10000000 loops, best of 3: 19.8 ns per loop"
       ]
      },
      {
       "output_type": "stream",
       "stream": "stdout",
       "text": [
        "\n"
       ]
      }
     ],
     "prompt_number": 67
    },
    {
     "cell_type": "code",
     "collapsed": false,
     "input": [],
     "language": "python",
     "metadata": {},
     "outputs": []
    }
   ],
   "metadata": {}
  }
 ]
}